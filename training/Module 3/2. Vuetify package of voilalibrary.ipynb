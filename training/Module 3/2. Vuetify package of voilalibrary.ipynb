{
 "cells": [
  {
   "cell_type": "markdown",
   "id": "5efa6b2c",
   "metadata": {},
   "source": [
    "### Vuetify package of voilalibrary:\n",
    "\n",
    "Scope: simplify the creation of widgets using [vuetify.js](https://vuetifyjs.com/en/introduction/why-vuetify/) and [ipyvuetify](https://ipyvuetify.readthedocs.io/en/latest/index.html) libraries\n",
    "\n",
    "![ipyvuetify example](ipyvuetify.png)"
   ]
  },
  {
   "cell_type": "markdown",
   "id": "02674155",
   "metadata": {},
   "source": [
    "#### <u>Basic examples</u>:\n",
    "\n",
    "<b>selectSingle</b>: Single selection widget from a dropdown list.\n",
    "\n",
    "<b>button</b>: Create buttons with many styles and call a python function when clicked"
   ]
  },
  {
   "cell_type": "markdown",
   "id": "662adb4a",
   "metadata": {},
   "source": [
    "#### selectSingle module. Select one value out of a list"
   ]
  },
  {
   "cell_type": "code",
   "execution_count": null,
   "id": "12399938",
   "metadata": {},
   "outputs": [],
   "source": [
    "from voilalibrary.vuetify import selectSingle\n",
    "from ipywidgets import widgets\n",
    "from IPython.display import display\n",
    "\n",
    "output = widgets.Output()\n",
    "display(output)\n",
    "\n",
    "def onchange():\n",
    "    with output:\n",
    "        print(sel.value)\n",
    "\n",
    "sel = selectSingle.selectSingle('Country:',\n",
    "                                ['Belgium', 'France', 'Italy', 'Germany'],\n",
    "                                selection='France',\n",
    "                                width=200,\n",
    "                                onchange=onchange)\n",
    "sel.draw()"
   ]
  },
  {
   "cell_type": "markdown",
   "id": "7028ce7f",
   "metadata": {},
   "source": [
    "#### button module: create buttons and manage click on them"
   ]
  },
  {
   "cell_type": "code",
   "execution_count": null,
   "id": "fa510fa7",
   "metadata": {},
   "outputs": [],
   "source": [
    "from voilalibrary.vuetify import settings, button\n",
    "\n",
    "def onclick(arg=None):\n",
    "    if arg==1: b1.selected = not b1.selected\n",
    "    if arg==2: b2.selected = not b2.selected\n",
    "    else:      b3.selected = not b3.selected\n",
    "\n",
    "b1 = button.button('Test button 1', textweight=300, onclick=onclick, argument=1,\n",
    "                   width=150, height=36,\n",
    "                   tooltip='Tooltip for button 1', selected=False, rounded=True,\n",
    "                   icon='mdi-car-light-high', iconcolor='black')\n",
    "\n",
    "b2 = button.button('Test button 2', textweight=450, onclick=onclick, argument=2,\n",
    "                   width=150, height=48,\n",
    "                   tooltip='Tooltip for button 2', selected=True, rounded=False)\n",
    "\n",
    "b3 = button.button('Test button 3', textweight=450, onclick=onclick, argument=3,\n",
    "                   width=150, height=38,\n",
    "                   textcolor=settings.color_first,\n",
    "                   tooltip='Tooltip for button 3', outlined=True, rounded=True)\n",
    "\n",
    "b4 = button.button('Contacts', onlytext=True, textcolor=settings.color_first,\n",
    "                   width=150, height=28,\n",
    "                   href='https://ec.europa.eu/info/contact_en', target=\"_blank\",\n",
    "                   tooltip='Open a URL')\n",
    "\n",
    "display(b1.draw())\n",
    "display(b2.draw())\n",
    "display(b3.draw())\n",
    "display(b4.draw())"
   ]
  },
  {
   "cell_type": "markdown",
   "id": "4c4ee3ed",
   "metadata": {},
   "source": [
    "#### <u>Other examples</u>:\n",
    "\n",
    "<b>dialog boxes</b>: Display modal dialog boxes on top of the notebook/dashboard page to communicate or get input with/from the users\n",
    "\n",
    "<b>treeview</b>: Utility functions and classes to manage information on EU countries.\n",
    "\n",
    "<b>pickers</b>: Select a date, a color, a paletto of colors\n",
    "\n",
    "<b>Other widgets</b>: Buttons, labels, switches, toggles, sliders, radio buttons, etc..."
   ]
  },
  {
   "cell_type": "code",
   "execution_count": null,
   "id": "69b7999c",
   "metadata": {},
   "outputs": [],
   "source": []
  }
 ],
 "metadata": {
  "kernelspec": {
   "display_name": "Python 3 (ipykernel)",
   "language": "python",
   "name": "python3"
  },
  "language_info": {
   "codemirror_mode": {
    "name": "ipython",
    "version": 3
   },
   "file_extension": ".py",
   "mimetype": "text/x-python",
   "name": "python",
   "nbconvert_exporter": "python",
   "pygments_lexer": "ipython3",
   "version": "3.7.13"
  }
 },
 "nbformat": 4,
 "nbformat_minor": 5
}
