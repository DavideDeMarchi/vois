{
 "cells": [
  {
   "cell_type": "markdown",
   "id": "c8767bb8",
   "metadata": {},
   "source": [
    "### General package of voilalibrary:"
   ]
  },
  {
   "cell_type": "markdown",
   "id": "e9392442",
   "metadata": {},
   "source": [
    "#### <u>Utility modules of general use</u>:\n",
    "\n",
    "<b>colors</b>: Utility functions and classes to manage colors and color interpolation.\n",
    "\n",
    "<b>download</b>: Utility functions for downloading text and binary files\n",
    "\n",
    "<b>eucountries</b>: Utility functions and classes to manage information on EU countries.\n",
    "\n",
    "<b>urlOpen</b>: Utility functions to open a web page.\n",
    "\n",
    "<b>urlUpdate</b>: Utility functions to update the URL of the page that launched the dashboard."
   ]
  },
  {
   "cell_type": "markdown",
   "id": "14c2ba55",
   "metadata": {},
   "source": [
    "#### eucountries module. Example 1: Get the list of all European Union or Euro Area countries"
   ]
  },
  {
   "cell_type": "code",
   "execution_count": null,
   "id": "b5a81692",
   "metadata": {},
   "outputs": [],
   "source": [
    "from voilalibrary import eucountries as eu\n",
    "\n",
    "countriesEU = eu.countries.EuropeanUnion()\n",
    "print('European countries:', countriesEU)\n",
    "\n",
    "countriesEuro = eu.countries.EuroArea()\n",
    "print('Euro Area countries:', countriesEuro)"
   ]
  },
  {
   "cell_type": "markdown",
   "id": "0671f33b",
   "metadata": {},
   "source": [
    "#### eucountries module. Example 2: Display the country flag given its name or its 2-digits ISO code"
   ]
  },
  {
   "cell_type": "code",
   "execution_count": null,
   "id": "4b821fc7",
   "metadata": {},
   "outputs": [],
   "source": [
    "display( eu.countries.byCode('IT').flagImage() )"
   ]
  },
  {
   "cell_type": "code",
   "execution_count": null,
   "id": "51a57c91",
   "metadata": {},
   "outputs": [],
   "source": [
    "display( eu.countries.byName('Lithuania').flagImage() )"
   ]
  },
  {
   "cell_type": "markdown",
   "id": "08dd819c",
   "metadata": {},
   "source": [
    "#### <u>Geospatial data visualization</u>:\n",
    "\n",
    "<b>geojsonUtils</b>: Utility functions to manage geospatial vector data in geojson format.\n",
    "\n",
    "<b>interMap</b>: Utility functions for the creation of interactive maps using BDAP interactive library.\n",
    "\n",
    "<b>leafletMap</b>: Utility functions for the creation of interactive maps using ipyleaflet Map."
   ]
  },
  {
   "cell_type": "markdown",
   "id": "505f7b98",
   "metadata": {},
   "source": [
    "#### <u>Scalable Vector Graphics (SVG) custom charts</u>:\n",
    "\n",
    "<b>svgBubblesChart</b>: SVG bubbles chart from a pandas DataFrame.\n",
    "\n",
    "<b>svgGraph</b>: SVG visualization of a graph.\n",
    "\n",
    "<b>svgHeatmap</b>: SVG heatmap chart from a pandas DataFrame.\n",
    "\n",
    "<b>svgMap</b>: European map implemented in SVG.\n",
    "\n",
    "<b>svgPackedCirclesChart</b>: SVG Packed Circles chart from a pandas DataFrame.\n",
    "\n",
    "<b>svgRankChart</b>: SVG RankChart to display vertically aligned rectangles.\n",
    "\n",
    "<b>svgUtils</b>: some useful SVG simple charts"
   ]
  },
  {
   "cell_type": "code",
   "execution_count": null,
   "id": "c14f799c",
   "metadata": {},
   "outputs": [],
   "source": []
  }
 ],
 "metadata": {
  "kernelspec": {
   "display_name": "Python 3 (ipykernel)",
   "language": "python",
   "name": "python3"
  },
  "language_info": {
   "codemirror_mode": {
    "name": "ipython",
    "version": 3
   },
   "file_extension": ".py",
   "mimetype": "text/x-python",
   "name": "python",
   "nbconvert_exporter": "python",
   "pygments_lexer": "ipython3",
   "version": "3.7.13"
  }
 },
 "nbformat": 4,
 "nbformat_minor": 5
}
