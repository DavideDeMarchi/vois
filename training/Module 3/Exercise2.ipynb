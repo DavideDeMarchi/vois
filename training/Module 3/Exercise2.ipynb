{
 "cells": [
  {
   "cell_type": "markdown",
   "id": "286fb37d",
   "metadata": {},
   "source": [
    "### Exercise 2:\n",
    "\n",
    "Assignment: \n",
    "\n",
    "1. using voilalibrary (modules vuetify/selectSingle and module eucountries) create a single selection dropdown widget to select one of the European Union countries\n",
    "\n",
    "2. manage the selection of a country and display the flag of the selected country"
   ]
  },
  {
   "cell_type": "code",
   "execution_count": null,
   "id": "937b5ad7",
   "metadata": {
    "jupyter": {
     "source_hidden": true
    }
   },
   "outputs": [],
   "source": [
    "from voilalibrary import eucountries as eu\n",
    "from voilalibrary.vuetify import selectSingle\n",
    "from ipywidgets import widgets\n",
    "\n",
    "out1 = widgets.Output()\n",
    "out2 = widgets.Output()\n",
    "\n",
    "names = eu.countries.EuropeanUnionNames()\n",
    "\n",
    "def onchange():\n",
    "    out2.clear_output()\n",
    "    with out2:\n",
    "        name = sel.value\n",
    "        if not name is None:\n",
    "            display( eu.countries.byName(name).flagImage() )\n",
    "\n",
    "sel = selectSingle.selectSingle('Country:',\n",
    "                                names,\n",
    "                                width=250,\n",
    "                                onchange=onchange)\n",
    "with out1:\n",
    "    display(sel.draw())\n",
    "    \n",
    "display(widgets.HBox([out1,out2]))"
   ]
  },
  {
   "cell_type": "code",
   "execution_count": null,
   "id": "a580caef",
   "metadata": {},
   "outputs": [],
   "source": []
  }
 ],
 "metadata": {
  "kernelspec": {
   "display_name": "Python 3 (ipykernel)",
   "language": "python",
   "name": "python3"
  },
  "language_info": {
   "codemirror_mode": {
    "name": "ipython",
    "version": 3
   },
   "file_extension": ".py",
   "mimetype": "text/x-python",
   "name": "python",
   "nbconvert_exporter": "python",
   "pygments_lexer": "ipython3",
   "version": "3.7.13"
  }
 },
 "nbformat": 4,
 "nbformat_minor": 5
}
