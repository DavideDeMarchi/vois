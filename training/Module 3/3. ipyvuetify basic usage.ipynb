{
 "cells": [
  {
   "cell_type": "markdown",
   "id": "7f656dfe",
   "metadata": {},
   "source": [
    "### ipyvuetify documentation:\n",
    "https://ipyvuetify.readthedocs.io/en/latest/index.html\n",
    "\n",
    "### vuetify.js documentation:\n",
    "https://vuetifyjs.com/en/introduction/why-vuetify/"
   ]
  },
  {
   "cell_type": "code",
   "execution_count": null,
   "id": "e083fb87",
   "metadata": {},
   "outputs": [],
   "source": [
    "# Example of creating a widget with vuetify.js\n",
    "# <v-select  clearable  label=\"Fruits\" style=\"width: 200px\" class=\"ma-6\" :items=\"['Apple', 'Pear', 'Cherry']\" value=\"Apple\"></v-select>"
   ]
  },
  {
   "cell_type": "code",
   "execution_count": null,
   "id": "dc3b05eb",
   "metadata": {},
   "outputs": [],
   "source": [
    "# Example of creating the same widgets with ipyvuetify\n",
    "import ipyvuetify as v\n",
    "v.Select(clearable=True, label='Fruits', style_='width: 200px', class_=\"ma-6\", items=['Apple', 'Pear', 'Cherry'], value='Apple')"
   ]
  },
  {
   "cell_type": "markdown",
   "id": "210dde94",
   "metadata": {},
   "source": [
    "#### Summary of the \"transformation\" rules to get ipyvuetify syntax from vuetify.js:\n",
    "\n",
    "https://ipyvuetify.readthedocs.io/en/latest/usage.html#summary"
   ]
  },
  {
   "cell_type": "code",
   "execution_count": null,
   "id": "37c3438e",
   "metadata": {},
   "outputs": [],
   "source": [
    "# Nesting  using the \"children\" attribute\n",
    "icon = v.Icon(right=True, children=['mdi-database'])\n",
    "btn = v.Btn(color='primary', children=['button',icon])\n",
    "v.Container(children=[btn])"
   ]
  },
  {
   "cell_type": "markdown",
   "id": "ce9201f9",
   "metadata": {},
   "source": [
    "All the icons from https://materialdesignicons.com/ site can be used, just by prepending 'mdi-' to their name.\n",
    "\n",
    "All the free icons from https://fontawesome.com/ site can be used, just by prepending 'fa-' to their name."
   ]
  },
  {
   "cell_type": "code",
   "execution_count": 8,
   "id": "8290551d",
   "metadata": {},
   "outputs": [
    {
     "data": {
      "application/vnd.jupyter.widget-view+json": {
       "model_id": "fb6697afdfaf49a0ac032aed068c75c4",
       "version_major": 2,
       "version_minor": 0
      },
      "text/plain": [
       "Row(children=[Col(children=[Card(children=['Element 1'], outlined=True, style_='height: 200px;')], cols=12.0, …"
      ]
     },
     "metadata": {},
     "output_type": "display_data"
    }
   ],
   "source": [
    "# Widgets can be nested at any level using the \"children\" attribute:\n",
    "v.Row(children=[\n",
    "    v.Col(cols=12, md=6, children=[\n",
    "        v.Card(outlined=True, style_='height: 200px;', children=[f'Element {i}'])\n",
    "    ]) for i in range (1,5)\n",
    "])"
   ]
  },
  {
   "cell_type": "code",
   "execution_count": 7,
   "id": "06c15f5c",
   "metadata": {},
   "outputs": [
    {
     "data": {
      "application/vnd.jupyter.widget-view+json": {
       "model_id": "4edfd8f68da34faab0ac4fca8be395cc",
       "version_major": 2,
       "version_minor": 0
      },
      "text/plain": [
       "Output()"
      ]
     },
     "metadata": {},
     "output_type": "display_data"
    },
    {
     "data": {
      "application/vnd.jupyter.widget-view+json": {
       "model_id": "ee9d750b8ed7464aaa1e02c0b7ce9b39",
       "version_major": 2,
       "version_minor": 0
      },
      "text/plain": [
       "Container(children=[Btn(children=['button', Icon(children=['mdi-account-lock'], right=True)], color='primary')…"
      ]
     },
     "metadata": {},
     "output_type": "display_data"
    }
   ],
   "source": [
    "# Management of events\n",
    "from ipywidgets import widgets\n",
    "\n",
    "out = widgets.Output()\n",
    "display(out)\n",
    "\n",
    "icon = v.Icon(right=True, children=['mdi-account-lock'])\n",
    "btn = v.Btn(color='primary', children=['button',icon])\n",
    "\n",
    "def on_click(widget, event, data):\n",
    "    with out:\n",
    "        if widget == icon:\n",
    "            print('icon clicked')\n",
    "        else:\n",
    "            print('btn clicked')\n",
    "\n",
    "icon.on_event('click.stop', on_click)\n",
    "btn.on_event( 'click', on_click)\n",
    "\n",
    "v.Container(children=[btn])"
   ]
  },
  {
   "cell_type": "code",
   "execution_count": null,
   "id": "3ce0574d",
   "metadata": {},
   "outputs": [],
   "source": []
  }
 ],
 "metadata": {
  "kernelspec": {
   "display_name": "Python 3 (ipykernel)",
   "language": "python",
   "name": "python3"
  },
  "language_info": {
   "codemirror_mode": {
    "name": "ipython",
    "version": 3
   },
   "file_extension": ".py",
   "mimetype": "text/x-python",
   "name": "python",
   "nbconvert_exporter": "python",
   "pygments_lexer": "ipython3",
   "version": "3.7.13"
  }
 },
 "nbformat": 4,
 "nbformat_minor": 5
}
