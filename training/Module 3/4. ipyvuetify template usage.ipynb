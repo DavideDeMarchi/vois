{
 "cells": [
  {
   "cell_type": "markdown",
   "id": "df0666c6",
   "metadata": {},
   "source": [
    "### Translating from Vuetify.js to ipyvuetify is complex!\n",
    "### It is possible to directly inject JavaScript code inside Python using v.VuetifyTemplate:"
   ]
  },
  {
   "cell_type": "code",
   "execution_count": null,
   "id": "60e7f1db",
   "metadata": {},
   "outputs": [],
   "source": [
    "import ipyvuetify as v\n",
    "import traitlets\n",
    "\n",
    "class FruitSelector(v.VuetifyTemplate):\n",
    "    fruits = traitlets.List(traitlets.Unicode(), default_value=['Apple', 'Pear', 'Banana', 'Orange']).tag(sync=True)\n",
    "    selected = traitlets.Unicode(default_value=None, allow_none=True).tag(sync=True)\n",
    "\n",
    "    @traitlets.default('template')\n",
    "    def _template(self):\n",
    "        return '''\n",
    "        <template>\n",
    "            <div>\n",
    "                <v-select label=\"Fruits\" :items=\"fruits\" v-model=\"selected\"/>\n",
    "            </div>\n",
    "        </template>\n",
    "        '''\n",
    "\n",
    "fruits = FruitSelector()\n",
    "fruits"
   ]
  },
  {
   "cell_type": "code",
   "execution_count": null,
   "id": "1eda510e",
   "metadata": {},
   "outputs": [],
   "source": []
  }
 ],
 "metadata": {
  "kernelspec": {
   "display_name": "Python 3 (ipykernel)",
   "language": "python",
   "name": "python3"
  },
  "language_info": {
   "codemirror_mode": {
    "name": "ipython",
    "version": 3
   },
   "file_extension": ".py",
   "mimetype": "text/x-python",
   "name": "python",
   "nbconvert_exporter": "python",
   "pygments_lexer": "ipython3",
   "version": "3.7.13"
  }
 },
 "nbformat": 4,
 "nbformat_minor": 5
}
