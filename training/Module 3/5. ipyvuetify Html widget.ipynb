{
 "cells": [
  {
   "cell_type": "code",
   "execution_count": 9,
   "id": "d7c2a740",
   "metadata": {},
   "outputs": [],
   "source": [
    "from ipywidgets import widgets, Layout, HTML\n",
    "from IPython.display import display\n",
    "\n",
    "import ipyvuetify as v"
   ]
  },
  {
   "cell_type": "code",
   "execution_count": 10,
   "id": "3a4edc9d",
   "metadata": {},
   "outputs": [],
   "source": [
    "v1 = v.Html(tag='div', children=[''], class_=\"pa-0 ma-0\", style_=\"width: 100%; height: 600px; border: 0px solid red; background-image: url('https://picsum.photos/id/1050/300/200?grayscale'); background-repeat: repeat;\")"
   ]
  },
  {
   "cell_type": "code",
   "execution_count": 11,
   "id": "1ae8595c",
   "metadata": {},
   "outputs": [],
   "source": [
    "width  = '800px'\n",
    "height = '400px'\n",
    "top    = '50px'\n",
    "left   = '50px'\n",
    "\n",
    "out = widgets.Output(layout=Layout(width=width, height=height, border='1px solid grey'))\n",
    "v2 = v.Html(tag='div', children=[out], class_=\"pa-0 ma-0\", style_='width: %s; height: %s; border: none; position: relative; top: %s; left: %s;' % (width, height, top, left))\n",
    "v1.children = [v2]"
   ]
  },
  {
   "cell_type": "code",
   "execution_count": 12,
   "id": "88367db7",
   "metadata": {},
   "outputs": [],
   "source": [
    "with out:\n",
    "    display(HTML('Sample text'))"
   ]
  },
  {
   "cell_type": "code",
   "execution_count": 13,
   "id": "71482c9c",
   "metadata": {},
   "outputs": [
    {
     "data": {
      "application/vnd.jupyter.widget-view+json": {
       "model_id": "ad7fab76e51644089bc3d0a7cf1c7f5c",
       "version_major": 2,
       "version_minor": 0
      },
      "text/plain": [
       "Output(layout=Layout(border='1px dashed black', height='606px', margin='0px 0px 0px 0px', width='99%'))"
      ]
     },
     "metadata": {},
     "output_type": "display_data"
    }
   ],
   "source": [
    "border = '1px dashed black'\n",
    "#border = 'none'\n",
    "content = widgets.Output(layout=Layout(width='99%', height='606px', border=border, margin='0px 0px 0px 0px'))\n",
    "\n",
    "with content:\n",
    "    display(v1)\n",
    "\n",
    "content"
   ]
  },
  {
   "cell_type": "code",
   "execution_count": 14,
   "id": "94ad8135",
   "metadata": {},
   "outputs": [],
   "source": [
    "out.add_class('box')\n",
    "out.clear_output()\n",
    "with out:\n",
    "    display(HTML('''\n",
    "<style>\n",
    ".box {\n",
    "    background-color: #fff;\n",
    "}\n",
    "</style>\n",
    "'''))    "
   ]
  },
  {
   "cell_type": "code",
   "execution_count": 15,
   "id": "fb8d55dd",
   "metadata": {},
   "outputs": [],
   "source": [
    "from voilalibrary.vuetify import switch\n",
    "s = switch.switch(True, \"Sample switch\", inset=True)\n",
    "\n",
    "with out:\n",
    "    display(s.draw())"
   ]
  },
  {
   "cell_type": "code",
   "execution_count": null,
   "id": "b02c9b1f",
   "metadata": {},
   "outputs": [],
   "source": []
  }
 ],
 "metadata": {
  "kernelspec": {
   "display_name": "Python 3 (ipykernel)",
   "language": "python",
   "name": "python3"
  },
  "language_info": {
   "codemirror_mode": {
    "name": "ipython",
    "version": 3
   },
   "file_extension": ".py",
   "mimetype": "text/x-python",
   "name": "python",
   "nbconvert_exporter": "python",
   "pygments_lexer": "ipython3",
   "version": "3.7.13"
  }
 },
 "nbformat": 4,
 "nbformat_minor": 5
}
