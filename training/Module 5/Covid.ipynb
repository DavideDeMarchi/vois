{
 "cells": [
  {
   "cell_type": "markdown",
   "id": "31e3cf58",
   "metadata": {},
   "source": [
    "#### Load a CSV file from EOS, display it as table and chart\n",
    "\n",
    "Example with Our World in Data (OWID) dataset for COVID-19"
   ]
  },
  {
   "cell_type": "code",
   "execution_count": 1,
   "id": "4672fc28",
   "metadata": {},
   "outputs": [],
   "source": [
    "from voilalibrary.vuetify import datatable, selectSingle, switch\n",
    "import pandas as pd\n",
    "from ipywidgets import widgets, Layout\n",
    "from IPython.display import display\n",
    "import plotly.express as px\n",
    "\n",
    "df = pd.read_csv('/eos/jeodpp/data/projects/BDA/training/owid-covid-data.csv')"
   ]
  },
  {
   "cell_type": "code",
   "execution_count": 2,
   "id": "d327575a",
   "metadata": {},
   "outputs": [
    {
     "data": {
      "application/vnd.jupyter.widget-view+json": {
       "model_id": "55b5af70bdd74b63b20187746030f1c5",
       "version_major": 2,
       "version_minor": 0
      },
      "text/plain": [
       "HBox(children=(Output(layout=Layout(height='410px', min_width='360px', width='360px')), Output(layout=Layout(h…"
      ]
     },
     "metadata": {},
     "output_type": "display_data"
    },
    {
     "data": {
      "application/vnd.jupyter.widget-view+json": {
       "model_id": "0658a8391fbd42e38bfebacc3ba8b810",
       "version_major": 2,
       "version_minor": 0
      },
      "text/plain": [
       "Output(layout=Layout(height='410px', width='99%'))"
      ]
     },
     "metadata": {},
     "output_type": "display_data"
    }
   ],
   "source": [
    "outControls = widgets.Output(layout=Layout(width='360px', min_width='360px', height='410px'))\n",
    "outTable    = widgets.Output(layout=Layout(width='80%', height='410px'))\n",
    "outChart    = widgets.Output(layout=Layout(width='99%', height='410px'))\n",
    "\n",
    "def onchange(*args):\n",
    "    outTable.clear_output()\n",
    "    outChart.clear_output()\n",
    "\n",
    "    name      = selc.value\n",
    "    indicator = seli.value\n",
    "    \n",
    "    if not name is None and len(name) > 0:\n",
    "        dfcountry = df[df['location']==name]\n",
    "        with outTable:\n",
    "            d = datatable.datatable(data=dfcountry.tail(100), height='400px')\n",
    "            display(d)\n",
    "            \n",
    "        if indicator in dfcountry.columns:\n",
    "            with outChart:\n",
    "                if sline.value: fig = px.line(dfcountry, x=\"date\", y=indicator, title=indicator + ' in ' + name, template=\"plotly_white\", height=400)\n",
    "                else:           fig = px.area(dfcountry, x=\"date\", y=indicator, title=indicator + ' in ' + name, template=\"plotly_white\", height=400)\n",
    "                fig.update_traces(line_color='#f8bd1a')\n",
    "                fig.update_layout(margin=dict(l=0, r=0, t=25, b=0))\n",
    "                fig.show()\n",
    "\n",
    "selc = selectSingle.selectSingle('Country:',  list(df['location'].unique()),                    width=350, onchange=onchange)\n",
    "seli = selectSingle.selectSingle('Indicator:',list(df.columns), selection='new_cases_smoothed', width=350, onchange=onchange)\n",
    "sline = switch.switch(False, \"Display chart as line\", onchange=onchange)\n",
    "\n",
    "with outControls:\n",
    "    display(widgets.VBox([selc.draw(), seli.draw(), sline.draw()]))\n",
    "\n",
    "display(widgets.HBox([outControls,outTable]))\n",
    "display(outChart)"
   ]
  },
  {
   "cell_type": "code",
   "execution_count": null,
   "id": "e5573244",
   "metadata": {},
   "outputs": [],
   "source": []
  }
 ],
 "metadata": {
  "kernelspec": {
   "display_name": "Python 3 (ipykernel)",
   "language": "python",
   "name": "python3"
  },
  "language_info": {
   "codemirror_mode": {
    "name": "ipython",
    "version": 3
   },
   "file_extension": ".py",
   "mimetype": "text/x-python",
   "name": "python",
   "nbconvert_exporter": "python",
   "pygments_lexer": "ipython3",
   "version": "3.7.13"
  }
 },
 "nbformat": 4,
 "nbformat_minor": 5
}
