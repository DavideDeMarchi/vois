{
 "cells": [
  {
   "cell_type": "markdown",
   "id": "aa5ec4ec",
   "metadata": {},
   "source": [
    "#### Display numerical data on a hierarchical organization like JRC Directorates/Units\n",
    "\n",
    "Example with random data"
   ]
  },
  {
   "cell_type": "code",
   "execution_count": null,
   "id": "c890dd63",
   "metadata": {},
   "outputs": [],
   "source": [
    "from voilalibrary import treemapPlotly\n",
    "import plotly.graph_objects as go\n",
    "import pandas as pd\n",
    "import numpy as np"
   ]
  },
  {
   "cell_type": "code",
   "execution_count": null,
   "id": "55934ddd",
   "metadata": {},
   "outputs": [],
   "source": [
    "JRCunits = ['JRC.A.1', 'JRC.A.2', 'JRC.A.3', 'JRC.A.4', 'JRC.A.5', 'JRC.A.6', 'JRC.A.7', \n",
    "            'JRC.B.1', 'JRC.B.2', 'JRC.B.3', 'JRC.B.4', 'JRC.B.5', 'JRC.B.6', 'JRC.B.7', \n",
    "            'JRC.C.1', 'JRC.C.2', 'JRC.C.3', 'JRC.C.4', 'JRC.C.5', 'JRC.C.6', 'JRC.C.7', \n",
    "            'JRC.D.1', 'JRC.D.2', 'JRC.D.3', 'JRC.D.4', 'JRC.D.5', 'JRC.D.6',\n",
    "            'JRC.DDG.01', 'JRC.DDG.02', 'JRC.DDG1.01', 'JRC.DDG1.02', \n",
    "            'JRC.E.1', 'JRC.E.2', 'JRC.E.3', 'JRC.E.4', 'JRC.E.5', 'JRC.E.6', 'JRC.E.7', 'JRC.E.8', 'JRC.E.9',\n",
    "            'JRC.F.1', 'JRC.F.2', 'JRC.F.3', 'JRC.F.4', 'JRC.F.5', 'JRC.F.6', 'JRC.F.7', 'JRC.F.8', \n",
    "            'JRC.G.1', 'JRC.G.10', 'JRC.G.2', 'JRC.G.3', 'JRC.G.4', 'JRC.G.5', 'JRC.G.6', 'JRC.G.7',\n",
    "            'JRC.G.I.3', 'JRC.G.I.4', 'JRC.G.I.5', \n",
    "            'JRC.G.II.6', 'JRC.G.II.7',\n",
    "            'JRC.G.III.8', 'JRC.G.III.9',\n",
    "            'JRC.H.1', 'JRC.H.2', 'JRC.H.3', 'JRC.H.4', 'JRC.H.5', 'JRC.H.6', 'JRC.H.7', 'JRC.H.8',\n",
    "            'JRC.I.1', 'JRC.I.2', 'JRC.I.3', 'JRC.I.4', 'JRC.I.5', 'JRC.I.6', \n",
    "            'JRC.J.1', 'JRC.J.2', 'JRC.J.3', 'JRC.J.4', 'JRC.J.5', 'JRC.J.6']\n",
    "\n",
    "NumEmployees = list(np.random.randint(low=1, high=100, size=(len(JRCunits))))\n",
    "\n",
    "valuefor =  dict(zip(JRCunits, NumEmployees))\n",
    "\n",
    "labels, parents, values = treemapPlotly.createTreemapFromList(JRCunits,\n",
    "                                                              rootName='JRC',\n",
    "                                                              separator='.',\n",
    "                                                              valuefor=valuefor)\n",
    "\n",
    "fig = go.Figure()\n",
    "fig.add_trace(go.Treemap(ids=labels, labels=labels, parents=parents, values=values,\n",
    "                         branchvalues='total', maxdepth=3, root_color=\"lightgrey\"))\n",
    "fig.update_layout(margin=dict(t=54, l=0, r=0, b=10), height=450,\n",
    "                  hoverlabel=dict(bgcolor=\"#eee\", align=\"left\"),\n",
    "                  title={'text': \"JRC units\", 'y':0.96, 'x':0.5,\n",
    "                         'xanchor': 'center', 'yanchor': 'top'})\n",
    "\n",
    "fig.show()"
   ]
  },
  {
   "cell_type": "code",
   "execution_count": null,
   "id": "05317995",
   "metadata": {},
   "outputs": [],
   "source": [
    "fig = go.Figure()\n",
    "fig.add_trace(go.Sunburst(ids=labels, labels=labels, parents=parents, values=values,\n",
    "                          branchvalues='total', maxdepth=4, root_color=\"lightgrey\"))\n",
    "fig.update_layout(margin=dict(t=38, l=0, r=0, b=10), height=650,\n",
    "                  hoverlabel=dict(bgcolor=\"#eee\", align=\"left\"),\n",
    "                  title={'text': \"JRC units\", 'y':0.96, 'x':0.5,\n",
    "                         'xanchor': 'center', 'yanchor': 'top'})\n",
    "\n",
    "fig.show()"
   ]
  },
  {
   "cell_type": "code",
   "execution_count": null,
   "id": "7a6ff10f",
   "metadata": {},
   "outputs": [],
   "source": [
    "fig = go.Figure()\n",
    "fig.add_trace(go.Icicle(ids=labels, labels=labels, parents=parents, values=values,\n",
    "                        branchvalues='total', maxdepth=4, root_color=\"lightgrey\"))\n",
    "fig.update_layout(margin=dict(t=62, l=0, r=0, b=10), height=700,\n",
    "                  hoverlabel=dict(bgcolor=\"#eee\", align=\"left\"),\n",
    "                  title={'text': \"JRC units\", 'y':0.96, 'x':0.5,\n",
    "                         'xanchor': 'center', 'yanchor': 'top'})\n",
    "\n",
    "fig.show()"
   ]
  },
  {
   "cell_type": "code",
   "execution_count": null,
   "id": "1e818dd6",
   "metadata": {},
   "outputs": [],
   "source": []
  }
 ],
 "metadata": {
  "kernelspec": {
   "display_name": "Python 3 (ipykernel)",
   "language": "python",
   "name": "python3"
  },
  "language_info": {
   "codemirror_mode": {
    "name": "ipython",
    "version": 3
   },
   "file_extension": ".py",
   "mimetype": "text/x-python",
   "name": "python",
   "nbconvert_exporter": "python",
   "pygments_lexer": "ipython3",
   "version": "3.7.13"
  }
 },
 "nbformat": 4,
 "nbformat_minor": 5
}
