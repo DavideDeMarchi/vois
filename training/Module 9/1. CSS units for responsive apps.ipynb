{
 "cells": [
  {
   "cell_type": "markdown",
   "id": "ecef30d5",
   "metadata": {},
   "source": [
    "### CSS units for responsive apps"
   ]
  },
  {
   "cell_type": "markdown",
   "id": "55a853c6",
   "metadata": {},
   "source": [
    "[What is Responsive design?](https://en.wikipedia.org/wiki/Responsive_web_design)\n",
    "\n",
    "It is an approach to web design that aims to make web pages render well on a variety of devices and window or screen sizes from minimum to maximum display size to ensure usability and satisfaction. We should try to develop Voilà applications that can be used on big and small screens, on desktop/tablet/smartphones/...\n",
    "\n",
    "This is not at all easy.\n",
    "\n",
    "One of the way to obtain responsiveness is to size the elements of the page in units that are proportional to the page size, avoiding fixed size units like pixels\n",
    "\n",
    "#### VW and VH units refer to percentages of the viewport: 50vw means 50% of the viewport width, 30vh means 30% of the viewport height\n",
    "\n",
    "See [CSS values and units](https://developer.mozilla.org/en-US/docs/Learn/CSS/Building_blocks/Values_and_units) and [The vw units](https://www.freecodecamp.org/news/learn-css-units-em-rem-vh-vw-with-code-examples/#what-are-vw-units)"
   ]
  },
  {
   "cell_type": "code",
   "execution_count": null,
   "id": "85342b60",
   "metadata": {},
   "outputs": [],
   "source": [
    "# Using vw/vh coordinates for Output widgets\n",
    "from ipywidgets import widgets, Layout, HTML\n",
    "from IPython.display import display\n",
    "out = widgets.Output(layout=Layout(width='40vw', height='30vh', border='3px dashed green'))\n",
    "out"
   ]
  },
  {
   "cell_type": "markdown",
   "id": "28f713e8",
   "metadata": {},
   "source": [
    "#### Using the CSS <i>calc</i> function with mixed units\n",
    "\n",
    "Note that the syntax is quite strict (use only one black char on each sides of the operator)\n",
    "\n",
    "See [A complete guide to calc in CSS](https://css-tricks.com/a-complete-guide-to-calc-in-css/)"
   ]
  },
  {
   "cell_type": "code",
   "execution_count": null,
   "id": "5affd969",
   "metadata": {},
   "outputs": [],
   "source": [
    "# Using CSS calc funtion\n",
    "from ipywidgets import widgets, Layout, HTML\n",
    "from IPython.display import display\n",
    "out1 = widgets.Output(layout=Layout(width='400px', min_width='400px', height='30vh', border='3px solid red'))\n",
    "out2 = widgets.Output(layout=Layout(width='calc(100vw - 400px)', height='30vh', border='3px solid blue'))\n",
    "display(widgets.HBox([out1,out2]))"
   ]
  },
  {
   "cell_type": "markdown",
   "id": "4968ed56",
   "metadata": {},
   "source": [
    "#### CSS <i>min</i> , <i>max</i> and <i>clamp</i> functions\n",
    "\n",
    "You can use min(), max(), and clamp() on any dimensioning. For min() and max(), you provide an argument list of values, and the browser determines which one is either the smallest or largest, respectively. For example, in the case of: min(1rem, 50%, 10vw), the browser calculates which of these relative units is the smallest, and uses that value as the actual value.\n",
    "\n",
    "The max() function selects the largest value from a list of comma-separated expressions.\n",
    "\n",
    "To use clamp() enter three values: a minimum value, ideal value (from which to calculate), and maximum value.\n",
    "\n",
    "See [Web Dev min max clamp guide](https://web.dev/min-max-clamp/)"
   ]
  },
  {
   "cell_type": "code",
   "execution_count": null,
   "id": "583a5aec",
   "metadata": {},
   "outputs": [],
   "source": [
    "from ipywidgets import widgets, Layout, HTML\n",
    "from IPython.display import display\n",
    "out1 = widgets.Output(layout=Layout(width='400px', height='min(20vh, 100px)', border='3px dashed green'))\n",
    "out2 = widgets.Output(layout=Layout(width='400px', height='clamp(10vh, 200px, 30vh)', border='3px dashed blue'))\n",
    "display(widgets.VBox([out1,out2]))"
   ]
  },
  {
   "cell_type": "markdown",
   "id": "f7fc921f",
   "metadata": {},
   "source": [
    "#### Some support for responsive dimensioning is present in widgets of the voilalibrary\n",
    "\n",
    "As an example, compare the result of the following two cells:"
   ]
  },
  {
   "cell_type": "code",
   "execution_count": null,
   "id": "476b5c48",
   "metadata": {},
   "outputs": [],
   "source": [
    "from voilalibrary.vuetify import card\n",
    "c = card.card(elevation=5, title='Responsive card', subtitle='This is an example of a responsive text', responsive=True)\n",
    "c"
   ]
  },
  {
   "cell_type": "code",
   "execution_count": null,
   "id": "f3173f75",
   "metadata": {},
   "outputs": [],
   "source": [
    "from voilalibrary.vuetify import card\n",
    "c = card.card(elevation=5, title='Un-responsive card', subtitle='This is an example of a non-responsive text', responsive=False)\n",
    "c"
   ]
  },
  {
   "cell_type": "markdown",
   "id": "77eb3239",
   "metadata": {},
   "source": [
    "Looking at the source code of the cards widget in the voilalibrary, we see Javascript code like:\n",
    "\n",
    "```\n",
    "switch( this.$vuetify.breakpoint.name )\n",
    "              {\n",
    "               case 'xs': return 'font-size: ' + (0.75*this.fontsizemultiplier).toFixed(3) + 'em;'\n",
    "               case 'sm': return 'font-size: ' + (1.00*this.fontsizemultiplier).toFixed(3) + 'em;'\n",
    "               case 'md': return 'font-size: ' + (1.25*this.fontsizemultiplier).toFixed(3) + 'em;'\n",
    "               case 'lg': return 'font-size: ' + (1.45*this.fontsizemultiplier).toFixed(3) + 'em;'\n",
    "               case 'xl': return 'font-size: ' + (1.60*this.fontsizemultiplier).toFixed(3) + 'em;'\n",
    "              }\n",
    "```\n",
    "\n",
    "This is based on vuetify.js breakpoints. See [Vuetify breakpoints](https://vuetifyjs.com/en/features/breakpoints/). See also [Media queries breakpoints in CSS](https://www.browserstack.com/guide/what-are-css-and-media-query-breakpoints)"
   ]
  },
  {
   "cell_type": "markdown",
   "id": "c5abb2c8",
   "metadata": {},
   "source": [
    "### Check this dashboard: https://jeodpp.jrc.ec.europa.eu/eu/dashboard/voila/render/DataSpaces/JRCResourcesData.ipynb"
   ]
  },
  {
   "cell_type": "code",
   "execution_count": null,
   "id": "ac8bb4cd",
   "metadata": {},
   "outputs": [],
   "source": []
  }
 ],
 "metadata": {
  "kernelspec": {
   "display_name": "Python 3 (ipykernel)",
   "language": "python",
   "name": "python3"
  },
  "language_info": {
   "codemirror_mode": {
    "name": "ipython",
    "version": 3
   },
   "file_extension": ".py",
   "mimetype": "text/x-python",
   "name": "python",
   "nbconvert_exporter": "python",
   "pygments_lexer": "ipython3",
   "version": "3.7.13"
  }
 },
 "nbformat": 4,
 "nbformat_minor": 5
}
