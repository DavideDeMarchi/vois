{
 "cells": [
  {
   "cell_type": "markdown",
   "id": "4078907c",
   "metadata": {},
   "source": [
    "### The voilalibrary [<i>app</i>](https://jeodpp.jrc.ec.europa.eu/services/shared/voilalibrary/3.2_referenceVuetify.html#module-app) widget has some support for responsive design"
   ]
  },
  {
   "cell_type": "code",
   "execution_count": 12,
   "id": "3d3963b1",
   "metadata": {},
   "outputs": [
    {
     "data": {
      "application/vnd.jupyter.widget-view+json": {
       "model_id": "7255938a7e834e789ad66320ea365d70",
       "version_major": 2,
       "version_minor": 0
      },
      "text/plain": [
       "Img(children=[Row(children=[Card(children=[Html(children=[' '], class_='pa-0 ma-0', style_='overflow: hidden; …"
      ]
     },
     "metadata": {},
     "output_type": "display_data"
    },
    {
     "data": {
      "application/vnd.jupyter.widget-view+json": {
       "model_id": "6a612af07d6249cbb2003eeec75fb03d",
       "version_major": 2,
       "version_minor": 0
      },
      "text/plain": [
       "HBox(children=(Output(layout=Layout(height='0px', width='0px')), Output(layout=Layout(height='0px', width='0px…"
      ]
     },
     "metadata": {},
     "output_type": "display_data"
    },
    {
     "data": {
      "application/vnd.jupyter.widget-view+json": {
       "model_id": "3c39aa8faf6e4a30872b79a54ebb4328",
       "version_major": 2,
       "version_minor": 0
      },
      "text/plain": [
       "Output(layout=Layout(height='calc(calc(500px - 70px) - 68px)', width='99.7%'))"
      ]
     },
     "metadata": {},
     "output_type": "display_data"
    },
    {
     "data": {
      "application/vnd.jupyter.widget-view+json": {
       "model_id": "b35ebbabb63349bca0b373d1b3de9104",
       "version_major": 2,
       "version_minor": 0
      },
      "text/plain": [
       "Html(children=[Footer(children=[Row(children=[Col(children=[Row(children=[Btn(children=['Home'], class_='my-2'…"
      ]
     },
     "metadata": {},
     "output_type": "display_data"
    }
   ],
   "source": [
    "# Standard app\n",
    "from voilalibrary.vuetify import app\n",
    "g_app = app.app(sidepanelwidth=0, footercolor='amber', totalheight=500, backgroundimageurl='https://picsum.photos/id/100/1920/1080')\n",
    "g_app.show()"
   ]
  },
  {
   "cell_type": "code",
   "execution_count": null,
   "id": "c675d6e8",
   "metadata": {},
   "outputs": [],
   "source": []
  }
 ],
 "metadata": {
  "kernelspec": {
   "display_name": "Python 3 (ipykernel)",
   "language": "python",
   "name": "python3"
  },
  "language_info": {
   "codemirror_mode": {
    "name": "ipython",
    "version": 3
   },
   "file_extension": ".py",
   "mimetype": "text/x-python",
   "name": "python",
   "nbconvert_exporter": "python",
   "pygments_lexer": "ipython3",
   "version": "3.7.13"
  }
 },
 "nbformat": 4,
 "nbformat_minor": 5
}
