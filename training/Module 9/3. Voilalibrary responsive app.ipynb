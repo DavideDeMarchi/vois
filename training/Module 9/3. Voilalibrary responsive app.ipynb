{
 "cells": [
  {
   "cell_type": "markdown",
   "id": "04246f4b",
   "metadata": {},
   "source": [
    "### The voilalibrary [<i>app</i>](https://jeodpp.jrc.ec.europa.eu/services/shared/voilalibrary/3.2_referenceVuetify.html#module-app) widget has some support for responsive design"
   ]
  },
  {
   "cell_type": "code",
   "execution_count": 7,
   "id": "557aaa47",
   "metadata": {},
   "outputs": [
    {
     "data": {
      "application/vnd.jupyter.widget-view+json": {
       "model_id": "5afe793f19e444018b67a36f429ef3e5",
       "version_major": 2,
       "version_minor": 0
      },
      "text/plain": [
       "Dialog(children=[Card(children=[Output(layout=Layout(height='100vh', width='100vw'))])], fullscreen=True, no_c…"
      ]
     },
     "metadata": {},
     "output_type": "display_data"
    }
   ],
   "source": [
    "# Responsive app\n",
    "from voilalibrary.vuetify import app\n",
    "g_app = app.app(sidepanelwidth=0, footercolor='amber', totalheight=500, backgroundimageurl='https://picsum.photos/id/100/1920/1080', fullscreen=True)\n",
    "g_app.show()"
   ]
  },
  {
   "cell_type": "code",
   "execution_count": null,
   "id": "41d7a51d",
   "metadata": {},
   "outputs": [],
   "source": []
  }
 ],
 "metadata": {
  "kernelspec": {
   "display_name": "Python 3 (ipykernel)",
   "language": "python",
   "name": "python3"
  },
  "language_info": {
   "codemirror_mode": {
    "name": "ipython",
    "version": 3
   },
   "file_extension": ".py",
   "mimetype": "text/x-python",
   "name": "python",
   "nbconvert_exporter": "python",
   "pygments_lexer": "ipython3",
   "version": "3.7.13"
  }
 },
 "nbformat": 4,
 "nbformat_minor": 5
}
