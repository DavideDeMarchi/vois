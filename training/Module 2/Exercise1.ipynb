{
 "cells": [
  {
   "cell_type": "markdown",
   "id": "bc3c494f",
   "metadata": {},
   "source": [
    "### Exercise 1:\n",
    "\n",
    "Assignment: \n",
    "\n",
    "1. using Output widgets, subdivide the screen in two columns.\n",
    "\n",
    "2. display two buttons in the left column, vertically aligned, the first one having text 'Button 1' the second one having text 'Button 2'.\n",
    "\n",
    "3. manage the click event on the two button so that something different is displayed on the two events in the output widget on the right\n",
    "\n",
    "Suggestion:\n",
    "\n",
    "4. when the user clicks on the first button display a text message\n",
    "\n",
    "5. when the user clicks on the second button display a random image\n",
    "   \n",
    "    Use https://picsum.photos/id/123/500 to get a picture (substitute 123 with a random integer)"
   ]
  },
  {
   "cell_type": "code",
   "execution_count": null,
   "id": "e4632475",
   "metadata": {
    "jupyter": {
     "source_hidden": true
    }
   },
   "outputs": [],
   "source": [
    "from ipywidgets import widgets\n",
    "from IPython.display import Image\n",
    "import random\n",
    "\n",
    "outL = widgets.Output()\n",
    "outR = widgets.Output()\n",
    "\n",
    "b1 = widgets.Button(description='Button 1')\n",
    "b2 = widgets.Button(description='Button 2')\n",
    "\n",
    "with outL:\n",
    "    display(widgets.VBox([b1,b2]))\n",
    "    \n",
    "def on_click(b):\n",
    "    outR.clear_output(wait=True)\n",
    "    with outR:\n",
    "        if b == b1:\n",
    "            display(HTML(\"<h2>Button 1 clicked</h2>\"))\n",
    "        else:\n",
    "            rid = random.randint(0,1000)\n",
    "            display(Image(url=\"https://picsum.photos/id/%d/500\" % rid))\n",
    "\n",
    "b1.on_click(on_click)\n",
    "b2.on_click(on_click)\n",
    "    \n",
    "display(widgets.HBox([outL,outR]))"
   ]
  },
  {
   "cell_type": "code",
   "execution_count": null,
   "id": "5be4214a",
   "metadata": {},
   "outputs": [],
   "source": []
  }
 ],
 "metadata": {
  "kernelspec": {
   "display_name": "Python 3 (ipykernel)",
   "language": "python",
   "name": "python3"
  },
  "language_info": {
   "codemirror_mode": {
    "name": "ipython",
    "version": 3
   },
   "file_extension": ".py",
   "mimetype": "text/x-python",
   "name": "python",
   "nbconvert_exporter": "python",
   "pygments_lexer": "ipython3",
   "version": "3.7.13"
  }
 },
 "nbformat": 4,
 "nbformat_minor": 5
}
