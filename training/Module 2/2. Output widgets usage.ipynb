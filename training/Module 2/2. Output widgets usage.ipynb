{
 "cells": [
  {
   "cell_type": "markdown",
   "id": "a7915645",
   "metadata": {},
   "source": [
    "#### Output widgets are an important part of the ipywidgets library. They can be used to display any type of contents"
   ]
  },
  {
   "cell_type": "code",
   "execution_count": 1,
   "id": "e1d33568",
   "metadata": {},
   "outputs": [
    {
     "data": {
      "application/vnd.jupyter.widget-view+json": {
       "model_id": "9c9717d51dd4482baf85f7f634e58bf6",
       "version_major": 2,
       "version_minor": 0
      },
      "text/plain": [
       "Output()"
      ]
     },
     "metadata": {},
     "output_type": "display_data"
    }
   ],
   "source": [
    "from ipywidgets import widgets\n",
    "from IPython.display import display\n",
    "\n",
    "out = widgets.Output()\n",
    "out"
   ]
  },
  {
   "cell_type": "markdown",
   "id": "a1c284d3",
   "metadata": {},
   "source": [
    "#### After the widget is created, direct output to it using a context manager. You can print text to the output area:"
   ]
  },
  {
   "cell_type": "code",
   "execution_count": 2,
   "id": "82a0f5c2",
   "metadata": {},
   "outputs": [],
   "source": [
    "with out:\n",
    "    for i in range(10):\n",
    "        print(i, 'Hello world!')"
   ]
  },
  {
   "cell_type": "markdown",
   "id": "ccd1778c",
   "metadata": {},
   "source": [
    "#### Rich output can also be directed to the output area. Anything which displays nicely in a Jupyter notebook will also display well in the Output widget."
   ]
  },
  {
   "cell_type": "code",
   "execution_count": 3,
   "id": "8c8f8cec",
   "metadata": {},
   "outputs": [],
   "source": [
    "from IPython.display import YouTubeVideo\n",
    "with out:\n",
    "    display(YouTubeVideo('eWzY2nGfkXk'))"
   ]
  },
  {
   "cell_type": "code",
   "execution_count": 4,
   "id": "74cbf91b",
   "metadata": {},
   "outputs": [],
   "source": [
    "from IPython.display import Audio\n",
    "with out:\n",
    "    display(Audio(url=\"http://www.w3schools.com/html/horse.ogg\"))"
   ]
  },
  {
   "cell_type": "code",
   "execution_count": 5,
   "id": "d971806d",
   "metadata": {},
   "outputs": [],
   "source": [
    "from IPython.display import HTML\n",
    "with out:\n",
    "    display(HTML('<h1 style=\"color:blue; background-color:powderblue;\">Text in HTML</h1>'))"
   ]
  },
  {
   "cell_type": "code",
   "execution_count": 6,
   "id": "1f773a8a",
   "metadata": {},
   "outputs": [],
   "source": [
    "from IPython.display import Image\n",
    "with out:\n",
    "    display(Image(url='https://picsum.photos/id/1050/300/200'))"
   ]
  },
  {
   "cell_type": "code",
   "execution_count": 7,
   "id": "ab73190c",
   "metadata": {},
   "outputs": [],
   "source": [
    "from IPython.display import SVG\n",
    "with out:\n",
    "    display(SVG(url='https://jeodpp.jrc.ec.europa.eu/services/shared/svg/map.svg'))"
   ]
  },
  {
   "cell_type": "code",
   "execution_count": 8,
   "id": "3105c50b",
   "metadata": {},
   "outputs": [],
   "source": [
    "from IPython.display import Math, Latex\n",
    "with out:\n",
    "    display(Math(r'F(k) = \\int_{-\\infty}^{\\infty} f(x) e^{2\\pi i k} dx'))"
   ]
  },
  {
   "cell_type": "markdown",
   "id": "459159fc",
   "metadata": {},
   "source": [
    "#### The content of the output widget can be cleared by calling:"
   ]
  },
  {
   "cell_type": "code",
   "execution_count": 9,
   "id": "c6f11860",
   "metadata": {},
   "outputs": [],
   "source": [
    "out.clear_output()"
   ]
  },
  {
   "cell_type": "code",
   "execution_count": null,
   "id": "3907eb53",
   "metadata": {},
   "outputs": [],
   "source": []
  }
 ],
 "metadata": {
  "kernelspec": {
   "display_name": "Python 3 (ipykernel)",
   "language": "python",
   "name": "python3"
  },
  "language_info": {
   "codemirror_mode": {
    "name": "ipython",
    "version": 3
   },
   "file_extension": ".py",
   "mimetype": "text/x-python",
   "name": "python",
   "nbconvert_exporter": "python",
   "pygments_lexer": "ipython3",
   "version": "3.7.13"
  }
 },
 "nbformat": 4,
 "nbformat_minor": 5
}
