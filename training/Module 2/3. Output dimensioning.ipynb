{
 "cells": [
  {
   "cell_type": "code",
   "execution_count": null,
   "id": "dceb8ded",
   "metadata": {},
   "outputs": [],
   "source": [
    "from ipywidgets import widgets, Layout, HTML\n",
    "from IPython.display import display"
   ]
  },
  {
   "cell_type": "markdown",
   "id": "95220081",
   "metadata": {},
   "source": [
    "#### Dimensioning is done through the layout attribute (it can be done in pixels or in percentage)"
   ]
  },
  {
   "cell_type": "code",
   "execution_count": null,
   "id": "97473c80",
   "metadata": {},
   "outputs": [],
   "source": [
    "out = widgets.Output(layout=Layout(width='99.5%', min_width='600px', height='200px', border='1px solid grey'))\n",
    "out"
   ]
  },
  {
   "cell_type": "markdown",
   "id": "e6edf52d",
   "metadata": {},
   "source": [
    "#### Vertical dimensioning in percentage doesn't work"
   ]
  },
  {
   "cell_type": "code",
   "execution_count": null,
   "id": "0834decd",
   "metadata": {},
   "outputs": [],
   "source": [
    "out = widgets.Output(layout=Layout(width='99%', min_width='600px', height='40%', border='1px solid grey'))\n",
    "out"
   ]
  },
  {
   "cell_type": "markdown",
   "id": "fa8473fc",
   "metadata": {},
   "source": [
    "#### As an alternative, the CSS units vw/vh can be used (see https://www.w3schools.com/cssref/css_units.asp)"
   ]
  },
  {
   "cell_type": "code",
   "execution_count": null,
   "id": "db0a05f8",
   "metadata": {},
   "outputs": [],
   "source": [
    "out = widgets.Output(layout=Layout(width='99%', min_width='600px', height='20vh', border='1px solid grey'))\n",
    "out"
   ]
  },
  {
   "cell_type": "markdown",
   "id": "5081556c",
   "metadata": {},
   "source": [
    "#### CSS calc() can be used to size an output widget (even with different units!) (see https://developer.mozilla.org/en-US/docs/Web/CSS/calc)"
   ]
  },
  {
   "cell_type": "code",
   "execution_count": null,
   "id": "46693b73",
   "metadata": {},
   "outputs": [],
   "source": [
    "out = widgets.Output(layout=Layout(width='calc(100vw - 1000px)', min_width='300px', height='calc(100vh - 800px)', border='1px solid grey'))\n",
    "out"
   ]
  },
  {
   "cell_type": "markdown",
   "id": "8dbab948",
   "metadata": {},
   "source": [
    "#### Example of two Output widgets in a row"
   ]
  },
  {
   "cell_type": "code",
   "execution_count": null,
   "id": "7182a425",
   "metadata": {},
   "outputs": [],
   "source": [
    "out1 = widgets.Output(layout=Layout(width='40%', min_width='300px', height='100px', border='1px solid grey'))\n",
    "out2 = widgets.Output(layout=Layout(width='59%',                    height='100px', border='1px solid grey'))\n",
    "widgets.HBox([out1,out2])"
   ]
  },
  {
   "cell_type": "markdown",
   "id": "e90a87a4",
   "metadata": {},
   "source": [
    "#### Example of widgets inside other widgets"
   ]
  },
  {
   "cell_type": "code",
   "execution_count": null,
   "id": "3160d10c",
   "metadata": {},
   "outputs": [],
   "source": [
    "# First level\n",
    "out1 = widgets.Output(layout=Layout(width='40%', min_width='200px', height='480px', border='3px solid grey'))\n",
    "out2 = widgets.Output(layout=Layout(width='59%',                    height='480px', border='3px solid grey'))\n",
    "\n",
    "# Second level\n",
    "out11 = widgets.Output(layout=Layout(width='99%', height='150px', border='2px solid red'))\n",
    "out12 = widgets.Output(layout=Layout(width='99%', height='150px', border='2px solid green'))\n",
    "out13 = widgets.Output(layout=Layout(width='99%', height='150px', border='2px solid blue'))\n",
    "\n",
    "out21 = widgets.Output(layout=Layout(width='99%', height='200px', border='2px dashed red'))\n",
    "out22 = widgets.Output(layout=Layout(width='99%', height='257px', border='2px dashed green'))\n",
    "\n",
    "with out1:\n",
    "    display(out11)\n",
    "    display(out12)\n",
    "    display(out13)\n",
    "    \n",
    "with out2:\n",
    "    display(out21)\n",
    "    display(out22)\n",
    "    \n",
    "widgets.HBox([out1,out2])"
   ]
  },
  {
   "cell_type": "markdown",
   "id": "098ead3a",
   "metadata": {},
   "source": [
    "#### Replace the content of an Output widget"
   ]
  },
  {
   "cell_type": "code",
   "execution_count": null,
   "id": "7f34eda4",
   "metadata": {},
   "outputs": [],
   "source": [
    "out21.clear_output()\n",
    "with out21:\n",
    "    display(HTML('<h2>This is Output 2.1<h2>'))\n",
    "with out22:\n",
    "    display(HTML('<h2>This is Output 2.2<h2>'))"
   ]
  },
  {
   "cell_type": "markdown",
   "id": "16891fbd",
   "metadata": {},
   "source": [
    "#### Use wait=True in the clear_output call to avoid the \"flickering\" effect"
   ]
  },
  {
   "cell_type": "code",
   "execution_count": null,
   "id": "6a418b06",
   "metadata": {},
   "outputs": [],
   "source": [
    "from time import sleep\n",
    "for i in range(100):\n",
    "    sleep(0.03)\n",
    "    out22.clear_output(wait=False)\n",
    "    with out22:\n",
    "        display(HTML('<h2>Counting %d</h2>'%i))"
   ]
  },
  {
   "cell_type": "code",
   "execution_count": null,
   "id": "46907e43",
   "metadata": {},
   "outputs": [],
   "source": [
    "from IPython.display import Image\n",
    "with out11:\n",
    "    display(Image('https://jeodpp.jrc.ec.europa.eu/services/shared/Notebooks/images/LegendRainbow.png'))"
   ]
  },
  {
   "cell_type": "code",
   "execution_count": null,
   "id": "13c17542",
   "metadata": {},
   "outputs": [],
   "source": []
  }
 ],
 "metadata": {
  "kernelspec": {
   "display_name": "Python 3 (ipykernel)",
   "language": "python",
   "name": "python3"
  },
  "language_info": {
   "codemirror_mode": {
    "name": "ipython",
    "version": 3
   },
   "file_extension": ".py",
   "mimetype": "text/x-python",
   "name": "python",
   "nbconvert_exporter": "python",
   "pygments_lexer": "ipython3",
   "version": "3.7.13"
  }
 },
 "nbformat": 4,
 "nbformat_minor": 5
}
