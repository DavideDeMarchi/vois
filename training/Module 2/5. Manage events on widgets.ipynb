{
 "cells": [
  {
   "cell_type": "markdown",
   "id": "000b2d51",
   "metadata": {},
   "source": [
    "### Manage events on widgets"
   ]
  },
  {
   "cell_type": "code",
   "execution_count": null,
   "id": "ddd0ab9b",
   "metadata": {},
   "outputs": [],
   "source": [
    "# Click on a button\n",
    "from ipywidgets import widgets\n",
    "from IPython.display import display\n",
    "\n",
    "b = widgets.Button(description='Test button')\n",
    "\n",
    "def on_click(b):\n",
    "    print(\"clicked!\")\n",
    "\n",
    "b.on_click(on_click)\n",
    "\n",
    "display(b)"
   ]
  },
  {
   "cell_type": "code",
   "execution_count": null,
   "id": "b0db9ee5",
   "metadata": {},
   "outputs": [],
   "source": [
    "# Observe on a slider widget (with and without continuous_update flag)\n",
    "slider = widgets.IntSlider(continuous_update=True, value=50)\n",
    "output = widgets.Output()\n",
    "\n",
    "display(slider, output)\n",
    "\n",
    "def on_value_change(change):\n",
    "    with output:\n",
    "        print(change['new'])\n",
    "\n",
    "slider.observe(on_value_change, 'value')"
   ]
  },
  {
   "cell_type": "markdown",
   "id": "ddc78cb8",
   "metadata": {},
   "source": [
    "### Observe events on ipyleaflet map widget"
   ]
  },
  {
   "cell_type": "code",
   "execution_count": null,
   "id": "603e7171",
   "metadata": {},
   "outputs": [],
   "source": [
    "from ipyleaflet import Map\n",
    "\n",
    "m = Map(center=[43,12], zoom=5)\n",
    "\n",
    "nviews = 0\n",
    "def on_pan_and_zoom(arg):\n",
    "    global nviews\n",
    "    nviews += 1\n",
    "\n",
    "m.observe(on_pan_and_zoom, 'bounds')\n",
    "\n",
    "display(m)"
   ]
  },
  {
   "cell_type": "code",
   "execution_count": null,
   "id": "b20ede45",
   "metadata": {},
   "outputs": [],
   "source": [
    "nviews"
   ]
  },
  {
   "cell_type": "code",
   "execution_count": null,
   "id": "9832e39c",
   "metadata": {},
   "outputs": [],
   "source": []
  }
 ],
 "metadata": {
  "kernelspec": {
   "display_name": "Python 3 (ipykernel)",
   "language": "python",
   "name": "python3"
  },
  "language_info": {
   "codemirror_mode": {
    "name": "ipython",
    "version": 3
   },
   "file_extension": ".py",
   "mimetype": "text/x-python",
   "name": "python",
   "nbconvert_exporter": "python",
   "pygments_lexer": "ipython3",
   "version": "3.7.13"
  }
 },
 "nbformat": 4,
 "nbformat_minor": 5
}
