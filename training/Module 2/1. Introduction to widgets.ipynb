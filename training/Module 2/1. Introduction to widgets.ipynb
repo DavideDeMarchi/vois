{
 "cells": [
  {
   "cell_type": "markdown",
   "id": "4ea2937f",
   "metadata": {},
   "source": [
    "### Working with ipywidgets\n",
    "\n",
    "ipywidgets is the \"standard\" widgets library used in the Jupyter world\n",
    "\n",
    "A widget is a GUI element, such as a button, dropdown or textbox, which resides in the browser and allows us to control the code and the data by responding to events and invoking specified handlers.\n",
    "\n",
    "#### Ipywidgets examples:\n",
    "\n",
    "![ipywidgets example](ipywidgets.gif)"
   ]
  },
  {
   "cell_type": "markdown",
   "id": "3b6593ce",
   "metadata": {},
   "source": [
    "#### In order to incorporate widgets in the notebook we have to import the module, as shown below:"
   ]
  },
  {
   "cell_type": "code",
   "execution_count": null,
   "id": "277df9b9",
   "metadata": {},
   "outputs": [],
   "source": [
    "from ipywidgets import widgets"
   ]
  },
  {
   "cell_type": "markdown",
   "id": "1a6fe30c",
   "metadata": {},
   "source": [
    "#### To add a slider, we can define the minimum and maximum values, the interval size (step), a description and an initial value:"
   ]
  },
  {
   "cell_type": "code",
   "execution_count": null,
   "id": "3878ae7c",
   "metadata": {},
   "outputs": [],
   "source": [
    "widgets.IntSlider(min=0, max=10, step=1, description='Slider:', value=3)"
   ]
  },
  {
   "cell_type": "markdown",
   "id": "f308b0c8",
   "metadata": {},
   "source": [
    "#### The display() function renders a widget object in an input cell. First import:"
   ]
  },
  {
   "cell_type": "code",
   "execution_count": null,
   "id": "fb9ce97a",
   "metadata": {},
   "outputs": [],
   "source": [
    "from IPython.display import display"
   ]
  },
  {
   "cell_type": "markdown",
   "id": "06b353a2",
   "metadata": {},
   "source": [
    "#### Then pass the widget as a parameter in the display() function:"
   ]
  },
  {
   "cell_type": "code",
   "execution_count": null,
   "id": "de60ffbd",
   "metadata": {},
   "outputs": [],
   "source": [
    "slider = widgets.IntSlider()\n",
    "display(slider)"
   ]
  },
  {
   "cell_type": "markdown",
   "id": "7b858a09",
   "metadata": {},
   "source": [
    "#### To read the value of a widget, we will query its value property. Similarly, we can set a widget’s value:"
   ]
  },
  {
   "cell_type": "code",
   "execution_count": null,
   "id": "3d11e63d",
   "metadata": {},
   "outputs": [],
   "source": [
    "slider.value = 50"
   ]
  },
  {
   "cell_type": "code",
   "execution_count": null,
   "id": "8d86ec50",
   "metadata": {},
   "outputs": [],
   "source": [
    "print(slider.value)"
   ]
  },
  {
   "cell_type": "markdown",
   "id": "0ec03ddd",
   "metadata": {},
   "source": [
    "#### We can synchronise the values of two widgets by using the jslink() function."
   ]
  },
  {
   "cell_type": "code",
   "execution_count": null,
   "id": "77b8b555",
   "metadata": {},
   "outputs": [],
   "source": [
    "slider = widgets.IntSlider()\n",
    "text = widgets.IntText()\n",
    "\n",
    "display(slider, text)\n",
    "\n",
    "j = widgets.jslink((slider, 'value'), (text, 'value'))"
   ]
  },
  {
   "cell_type": "code",
   "execution_count": null,
   "id": "129ad6e7",
   "metadata": {},
   "outputs": [],
   "source": [
    "j.unlink()"
   ]
  },
  {
   "cell_type": "markdown",
   "id": "0998f0a0",
   "metadata": {},
   "source": [
    "#### Other example of widgets (note the usage of the Layout to define the dimensions of the widget):"
   ]
  },
  {
   "cell_type": "code",
   "execution_count": null,
   "id": "cd0c93f7",
   "metadata": {},
   "outputs": [],
   "source": [
    "from ipywidgets import Layout\n",
    "widgets.Dropdown(options=['1', '2', '3'], value='2', description='Number:', layout=Layout(height='32px', width='200px'))"
   ]
  },
  {
   "cell_type": "code",
   "execution_count": null,
   "id": "ce597baf",
   "metadata": {},
   "outputs": [],
   "source": [
    "widgets.Checkbox(value=False, description='Check me')"
   ]
  },
  {
   "cell_type": "markdown",
   "id": "95e60e20",
   "metadata": {},
   "source": [
    "#### Container widgets (HBox, VBox, Tab, Accordion,...):"
   ]
  },
  {
   "cell_type": "code",
   "execution_count": null,
   "id": "7121606d",
   "metadata": {},
   "outputs": [],
   "source": [
    "items = [widgets.Label(str(i)) for i in range(4)]\n",
    "widgets.HBox(items)"
   ]
  },
  {
   "cell_type": "code",
   "execution_count": null,
   "id": "056cdb5f",
   "metadata": {},
   "outputs": [],
   "source": [
    "items = [widgets.Text(description=str(i)) for i in range(4)]\n",
    "left_box  = widgets.VBox([items[0], items[1]])\n",
    "right_box = widgets.VBox([items[2], items[3]])\n",
    "widgets.HBox([left_box, right_box])"
   ]
  },
  {
   "cell_type": "code",
   "execution_count": null,
   "id": "eaaeace2",
   "metadata": {},
   "outputs": [],
   "source": [
    "tab_contents = ['P0', 'P1', 'P2', 'P3', 'P4']\n",
    "children = [widgets.Text(description=name) for name in tab_contents]\n",
    "tab = widgets.Tab()\n",
    "tab.children = children\n",
    "for i in range(len(children)):\n",
    "    tab.set_title(i, str(i))\n",
    "tab"
   ]
  },
  {
   "cell_type": "code",
   "execution_count": null,
   "id": "8b4b3b75",
   "metadata": {},
   "outputs": [],
   "source": [
    "accordion = widgets.Accordion(children=[widgets.IntSlider(), widgets.Text()])\n",
    "accordion.set_title(0, 'Slider')\n",
    "accordion.set_title(1, 'Text')\n",
    "accordion"
   ]
  },
  {
   "cell_type": "markdown",
   "id": "0c51249f",
   "metadata": {},
   "source": [
    "#### See full documentation at: https://ipywidgets.readthedocs.io/en/stable/index.html"
   ]
  },
  {
   "cell_type": "code",
   "execution_count": null,
   "id": "8e1753f4",
   "metadata": {},
   "outputs": [],
   "source": []
  }
 ],
 "metadata": {
  "kernelspec": {
   "display_name": "Python 3 (ipykernel)",
   "language": "python",
   "name": "python3"
  },
  "language_info": {
   "codemirror_mode": {
    "name": "ipython",
    "version": 3
   },
   "file_extension": ".py",
   "mimetype": "text/x-python",
   "name": "python",
   "nbconvert_exporter": "python",
   "pygments_lexer": "ipython3",
   "version": "3.7.13"
  }
 },
 "nbformat": 4,
 "nbformat_minor": 5
}
