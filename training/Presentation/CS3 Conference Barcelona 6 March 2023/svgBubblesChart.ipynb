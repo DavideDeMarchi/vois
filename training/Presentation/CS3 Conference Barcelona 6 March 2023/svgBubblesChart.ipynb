{
 "cells": [
  {
   "cell_type": "code",
   "execution_count": null,
   "id": "cf524d00",
   "metadata": {},
   "outputs": [],
   "source": [
    "import pandas as pd\n",
    "import plotly.express as px\n",
    "colorlist = px.colors.qualitative.Dark2\n",
    "from ipywidgets import HTML\n",
    "\n",
    "from vois import svgBubblesChart\n",
    "\n",
    "df = pd.read_csv('https://jeodpp.jrc.ec.europa.eu/services/shared/csv/mushrooms.csv')\n",
    "#display(df)\n",
    "\n",
    "xcolumn     = 'cap-shape'\n",
    "ycolumn     = 'cap-surface'\n",
    "colorcolumn = 'habitat'\n",
    "sizecolumn  = 'count'\n",
    "dfgrouped = df.groupby([xcolumn, ycolumn, colorcolumn]).size().reset_index(name=sizecolumn)\n",
    "\n",
    "dfgrouped.columns = ['Shape', 'Cap surface', 'Mushroom habitat:', 'count']\n",
    "#display(dfgrouped)\n",
    "\n",
    "b = svgBubblesChart.svgBubblesChart(dfgrouped,\n",
    "                                    width=60.0,\n",
    "                                    height=60.0,\n",
    "                                    xstart=5.0,\n",
    "                                    xcolumn=dfgrouped.columns[0],\n",
    "                                    ycolumn=dfgrouped.columns[1],\n",
    "                                    colorcolumn=dfgrouped.columns[2],\n",
    "                                    sizecolumn=dfgrouped.columns[3], \n",
    "                                    strokewidth=1,\n",
    "                                    strokecolor='#ffffff',\n",
    "                                    backcolor='#f0f0f0',\n",
    "                                    backlinecolor='#000000',\n",
    "                                    bubblecolors=colorlist,\n",
    "                                    fontsize=1.1,\n",
    "                                    title='Mushrooms analysis',\n",
    "                                    mode='spread',\n",
    "                                    legendrows=1,\n",
    "                                    legenditemwidth=7.0)\n",
    "display(b.draw())\n",
    "display(HTML(b.getlegendsvg()))"
   ]
  },
  {
   "cell_type": "code",
   "execution_count": null,
   "id": "99fade49",
   "metadata": {},
   "outputs": [],
   "source": []
  }
 ],
 "metadata": {
  "kernelspec": {
   "display_name": "Python 3 (ipykernel)",
   "language": "python",
   "name": "python3"
  },
  "language_info": {
   "codemirror_mode": {
    "name": "ipython",
    "version": 3
   },
   "file_extension": ".py",
   "mimetype": "text/x-python",
   "name": "python",
   "nbconvert_exporter": "python",
   "pygments_lexer": "ipython3",
   "version": "3.7.13"
  }
 },
 "nbformat": 4,
 "nbformat_minor": 5
}
