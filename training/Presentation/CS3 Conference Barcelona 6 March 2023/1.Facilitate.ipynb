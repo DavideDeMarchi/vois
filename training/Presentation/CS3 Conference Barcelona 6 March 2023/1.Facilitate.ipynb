{
 "cells": [
  {
   "cell_type": "code",
   "execution_count": 1,
   "id": "14c8bfdc",
   "metadata": {},
   "outputs": [],
   "source": [
    "from vois.vuetify import settings\n",
    "settings.color_first  = '#ffc107'\n",
    "settings.color_second = settings.color_first"
   ]
  },
  {
   "cell_type": "code",
   "execution_count": 2,
   "id": "aad1fd1b",
   "metadata": {},
   "outputs": [
    {
     "data": {
      "application/vnd.jupyter.widget-view+json": {
       "model_id": "eccebc07da9345649723de6bc09ca4f3",
       "version_major": 2,
       "version_minor": 0
      },
      "text/plain": [
       "Html(children=[Container(children=[Tooltip(bottom=True, children=['Tooltip for button'], color='#999999', tran…"
      ]
     },
     "metadata": {},
     "output_type": "display_data"
    }
   ],
   "source": [
    "from vois.vuetify import button\n",
    "\n",
    "def onclick(*args):\n",
    "    print('Clicked!')\n",
    "\n",
    "b1 = button.button('Test button',\n",
    "                   width=300,\n",
    "                   tooltip='Tooltip for button',\n",
    "                   icon='mdi-car-light-high',\n",
    "                   onclick=onclick)\n",
    "b1.draw()"
   ]
  },
  {
   "cell_type": "code",
   "execution_count": 3,
   "id": "b089ec47",
   "metadata": {},
   "outputs": [
    {
     "data": {
      "application/vnd.jupyter.widget-view+json": {
       "model_id": "13b557a13e6343eea902e817fc1f114e",
       "version_major": 2,
       "version_minor": 0
      },
      "text/plain": [
       "Container(children=[Tooltip(bottom=True, children=['Tooltip for button'], color='#999999', transition='scale-t…"
      ]
     },
     "metadata": {},
     "output_type": "display_data"
    }
   ],
   "source": [
    "import ipyvuetify as v\n",
    "\n",
    "def onclick(widget, event, data):\n",
    "    print('Clicked!')\n",
    "    \n",
    "        \n",
    "icon   = v.Icon(class_=\"pa-0 ma-0 ml-2\",\n",
    "                large=False,\n",
    "                color='black',\n",
    "                children=['mdi-car-light-high'])\n",
    "\n",
    "button = v.Btn(color='amber',\n",
    "               class_=\"black--text\",\n",
    "               dark=False,\n",
    "               icon=False,\n",
    "               depressed=True,\n",
    "               outlined=False,\n",
    "               large=True,\n",
    "               disabled=False,\n",
    "               width=300,\n",
    "               height=36,\n",
    "               children=['Test button', icon],\n",
    "               rounded=True,\n",
    "               style_='font-size: 17; font-weight: 450; text-transform: none;')\n",
    "                \n",
    "button.on_event('click', onclick)\n",
    "        \n",
    "button.v_on = 'tooltip.on'\n",
    "tooltip = v.Tooltip(color=settings.tooltip_backcolor,\n",
    "                    transition=\"scale-transition\",\n",
    "                    bottom=True, \n",
    "                    v_slots=[{'name': 'activator', 'variable': 'tooltip', 'children': button }],\n",
    "                    children=['Tooltip for button'])\n",
    "\n",
    "container = v.Container(children=[tooltip])\n",
    "container"
   ]
  },
  {
   "cell_type": "code",
   "execution_count": null,
   "id": "32902583",
   "metadata": {},
   "outputs": [],
   "source": []
  },
  {
   "cell_type": "code",
   "execution_count": 1,
   "id": "1b8c1ef5",
   "metadata": {},
   "outputs": [],
   "source": [
    "from vois.vuetify import settings\n",
    "settings.dark_mode = False"
   ]
  },
  {
   "cell_type": "code",
   "execution_count": 2,
   "id": "944c4135",
   "metadata": {},
   "outputs": [],
   "source": [
    "from vois.vuetify import settings\n",
    "settings.dark_mode = True"
   ]
  },
  {
   "cell_type": "code",
   "execution_count": 3,
   "id": "d36125e6",
   "metadata": {},
   "outputs": [],
   "source": [
    "from ipyevents import Event\n",
    "\n",
    "# Function called at each click\n",
    "def handle_event(event):\n",
    "    x = event['relativeX']\n",
    "    y = event['relativeY']\n",
    "\n",
    "    # Re-display the updated SVG...\n",
    "    output.clear_output(wait=True)\n",
    "    with output:\n",
    "        svgstr = createSVG()\n",
    "        display(SVG(svgstr))\n",
    "\n",
    "# ipywidgets Output\n",
    "output = widgets.Output()\n",
    "    \n",
    "# Create the Event manager\n",
    "dh = Event(source=output, watched_events=['click'])\n",
    "dh.on_dom_event(handle_event)\n",
    "\n",
    "# Display the SVG in the Output\n",
    "with output:\n",
    "    svgstr = createSVG()\n",
    "    display(SVG(svgstr))"
   ]
  },
  {
   "cell_type": "code",
   "execution_count": null,
   "id": "da29d4c7",
   "metadata": {},
   "outputs": [],
   "source": []
  }
 ],
 "metadata": {
  "kernelspec": {
   "display_name": "Python 3 (ipykernel)",
   "language": "python",
   "name": "python3"
  },
  "language_info": {
   "codemirror_mode": {
    "name": "ipython",
    "version": 3
   },
   "file_extension": ".py",
   "mimetype": "text/x-python",
   "name": "python",
   "nbconvert_exporter": "python",
   "pygments_lexer": "ipython3",
   "version": "3.7.13"
  }
 },
 "nbformat": 4,
 "nbformat_minor": 5
}
