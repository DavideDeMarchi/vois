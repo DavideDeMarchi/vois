{
 "cells": [
  {
   "cell_type": "markdown",
   "id": "df71e4b5",
   "metadata": {},
   "source": [
    "#### Animations in SVG.\n",
    "\n",
    "See examples here:\n",
    "\n",
    "https://bashooka.com/coding/30-mindblowing-examples-of-svg-animation/\n",
    "\n",
    "https://colorlib.com/wp/svg-animations-examples/"
   ]
  },
  {
   "cell_type": "code",
   "execution_count": null,
   "id": "7327b476",
   "metadata": {},
   "outputs": [],
   "source": [
    "from IPython.display import display, HTML\n",
    "\n",
    "svgtext = \"\"\"\n",
    "<svg width=\"240px\" height=\"120px\" viewBox=\"0 0 240 120\" xmlns=\"http://www.w3.org/2000/svg\" xmlns:xlink=\"http://www.w3.org/1999/xlink\">\n",
    "  <style type=\"text/css\">\n",
    "     #plug, #socket {  fill:#FDB515;}\n",
    "     #loop-normal { fill: none; stroke: #FDB515; stroke-width: 12; }\n",
    "     #loop-offset { display: none; }\n",
    "  </style>\n",
    " \n",
    "  <path id=\"loop-normal\" class=\"st1\" d=\"M120.5,60.5L146.48,87.02c14.64,14.64,38.39,14.65,53.03,0s14.64-38.39,0-53.03s-38.39-14.65-53.03,0L120.5,60.5\n",
    "L94.52,87.02c-14.64,14.64-38.39,14.64-53.03,0c-14.64-14.64-14.64-38.39,0-53.03c14.65-14.64,38.39-14.65,53.03,0z\">\n",
    "    <animate attributeName=\"stroke-dasharray\" from=\"500, 50\" to=\"450 50\" begin=\"0s\" dur=\"2s\" repeatCount=\"indefinite\" />\n",
    "    <animate attributeName=\"stroke-dashoffset\" from=\"-40\" to=\"-540\" begin=\"0s\" dur=\"2s\" repeatCount=\"indefinite\" />\n",
    "  </path>\n",
    "\n",
    "  <path id=\"loop-offset\" d=\"M146.48,87.02c14.64,14.64,38.39,14.65,53.03,0s14.64-38.39,0-53.03s-38.39-14.65-53.03,0L120.5,60.5L94.52,87.02c-14.64,14.64-38.39,14.64-53.03,0c-14.64-14.64-14.64-38.39,0-53.03c14.65-14.64,38.39-14.65,53.03,0L120.5,60.5L146.48,87.02z\"></path>\n",
    "\n",
    "  <path id=\"socket\" d=\"M7.5,0c0,8.28-6.72,15-15,15l0-30C0.78-15,7.5-8.28,7.5,0z\">\n",
    "    <animateMotion\n",
    "      dur=\"2s\"\n",
    "      repeatCount=\"indefinite\"\n",
    "      rotate=\"auto\"\n",
    "      keyTimes=\"0;1\"\n",
    "      keySplines=\"0.42, 0.0, 0.58, 1.0\">\n",
    "      <mpath xlink:href=\"#loop-offset\"/>\n",
    "    </animateMotion>\n",
    "  </path>\n",
    "\n",
    "  <path id=\"plug\" d=\"M0,9l15,0l0-5H0v-8.5l15,0l0-5H0V-15c-8.29,0-15,6.71-15,15c0,8.28,6.71,15,15,15V9z\">\n",
    "    <animateMotion\n",
    "     dur=\"2s\"\n",
    "     rotate=\"auto\"\n",
    "     repeatCount=\"indefinite\"\n",
    "     keyTimes=\"0;1\"    \n",
    "     keySplines=\"0.42, 0, 0.58, 1\">\n",
    "      <mpath xlink:href=\"#loop-normal\"/>\n",
    "    </animateMotion>\n",
    "</path>   \n",
    "  \n",
    "</svg>\n",
    "\"\"\"\n",
    "display(HTML(svgtext))"
   ]
  },
  {
   "cell_type": "markdown",
   "id": "f6c95147",
   "metadata": {},
   "source": [
    "#### Animation tutorial. See https://artificial.design/archives/2018/05/23/svg-animation.html"
   ]
  },
  {
   "cell_type": "code",
   "execution_count": null,
   "id": "c549bea0",
   "metadata": {},
   "outputs": [],
   "source": [
    "svgtext = \"\"\"\n",
    "<svg version=\"1.1\" xmlns=\"http://www.w3.org/2000/svg\" viewBox=\"0 0 800 300\">\n",
    "    <rect class=\"mouse\" x=\"0\" y=\"0\" width=\"800\" height=\"300\"/>\n",
    "    <polygon class=\"diamondSc tulip\" points=\"400, 280, 310, 150, 400, 20, 490, 150\"/>\n",
    "    <style>\n",
    "        .mouse { fill: #E5E4E3; }\n",
    "        .tulip { fill: #CC2954; }\n",
    "        .diamondSc {\n",
    "            animation-name: diamondScale;\n",
    "            animation-duration: 4s;\n",
    "            animation-iteration-count: infinite;\n",
    "            transform-origin: 50% 50%;\n",
    "        }\n",
    "        @keyframes diamondScale {\n",
    "            0%   { transform: scale(0.5); }\n",
    "            50%  { transform: scale(1.0); }\n",
    "            100% { transform: scale(0.5); }\n",
    "        }\n",
    "    </style>\n",
    "</svg>\n",
    "\n",
    "\"\"\"\n",
    "display(HTML(svgtext))"
   ]
  },
  {
   "cell_type": "code",
   "execution_count": null,
   "id": "742bfdd3",
   "metadata": {},
   "outputs": [],
   "source": [
    "# Simple example from voilalibrary\n",
    "from voilalibrary import svgUtils\n",
    "from random import randrange\n",
    "\n",
    "percentage = randrange(1000)/10.0\n",
    "svgUtils.SmallCircle('Green<br>deal',\n",
    "                     '%.1f%%' % percentage,\n",
    "                     percentage,\n",
    "                     forecolor=\"#308040\",\n",
    "                     dimension=200)"
   ]
  },
  {
   "cell_type": "code",
   "execution_count": null,
   "id": "8c1c7b75",
   "metadata": {},
   "outputs": [],
   "source": []
  }
 ],
 "metadata": {
  "kernelspec": {
   "display_name": "Python 3 (ipykernel)",
   "language": "python",
   "name": "python3"
  },
  "language_info": {
   "codemirror_mode": {
    "name": "ipython",
    "version": 3
   },
   "file_extension": ".py",
   "mimetype": "text/x-python",
   "name": "python",
   "nbconvert_exporter": "python",
   "pygments_lexer": "ipython3",
   "version": "3.7.13"
  }
 },
 "nbformat": 4,
 "nbformat_minor": 5
}
