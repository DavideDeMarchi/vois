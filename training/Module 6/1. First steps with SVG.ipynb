{
 "cells": [
  {
   "cell_type": "markdown",
   "id": "65f3987d",
   "metadata": {},
   "source": [
    "#### First steps with SVG. See https://developer.mozilla.org/en-US/docs/Web/SVG/Tutorial/Introduction"
   ]
  },
  {
   "cell_type": "code",
   "execution_count": null,
   "id": "0929c179",
   "metadata": {},
   "outputs": [],
   "source": [
    "svgtext = \"\"\"\n",
    "<svg version=\"1.1\"\n",
    "     width=\"300\" height=\"200\"\n",
    "     xmlns=\"http://www.w3.org/2000/svg\">\n",
    "\n",
    "  <rect width=\"100%\" height=\"100%\" fill=\"red\" />\n",
    "\n",
    "  <circle cx=\"150\" cy=\"100\" r=\"85\" fill=\"green\" />\n",
    "\n",
    "  <text x=\"150\" y=\"125\" font-size=\"80\" text-anchor=\"middle\"\n",
    "        fill=\"white\" font-weight=\"600\">SVG</text>\n",
    "\n",
    "</svg>\n",
    "\"\"\""
   ]
  },
  {
   "cell_type": "code",
   "execution_count": null,
   "id": "b09afd7e",
   "metadata": {},
   "outputs": [],
   "source": [
    "# Import needed to display HTML in Jupyter/Voilà\n",
    "from IPython.display import display, HTML"
   ]
  },
  {
   "cell_type": "code",
   "execution_count": null,
   "id": "6a4c2d36",
   "metadata": {},
   "outputs": [],
   "source": [
    "# Display the svg drawing\n",
    "display(HTML(svgtext))"
   ]
  },
  {
   "cell_type": "code",
   "execution_count": null,
   "id": "9efc16f3",
   "metadata": {},
   "outputs": [],
   "source": [
    "# Adding tooltip to graphical elements\n",
    "svgtext = \"\"\"\n",
    "<svg version=\"1.1\"\n",
    "     width=\"300\" height=\"200\"\n",
    "     xmlns=\"http://www.w3.org/2000/svg\">\n",
    "\n",
    "  <rect width=\"100%\" height=\"100%\" fill=\"red\"><title>This is a rectangle</title></rect>\n",
    "\n",
    "  <circle cx=\"150\" cy=\"100\" r=\"85\" fill=\"green\"><title>This is a circle</title></circle>\n",
    "\n",
    "  <text x=\"150\" y=\"125\" font-size=\"80\" text-anchor=\"middle\"\n",
    "        fill=\"white\" font-weight=\"600\">SVG</text>\n",
    "\n",
    "</svg>\n",
    "\"\"\"\n",
    "display(HTML(svgtext))"
   ]
  },
  {
   "cell_type": "code",
   "execution_count": null,
   "id": "e29d5360",
   "metadata": {},
   "outputs": [],
   "source": [
    "# Making elements \"transparent\" to tooltips\n",
    "svgtext = \"\"\"\n",
    "<svg version=\"1.1\"\n",
    "     width=\"300\" height=\"200\"\n",
    "     xmlns=\"http://www.w3.org/2000/svg\">\n",
    "\n",
    "  <rect width=\"100%\" height=\"100%\" fill=\"red\"><title>This is a rectangle</title></rect>\n",
    "\n",
    "  <circle cx=\"150\" cy=\"100\" r=\"85\" fill=\"green\"><title>This is a circle</title></circle>\n",
    "\n",
    "  <text x=\"150\" y=\"125\" font-size=\"80\" text-anchor=\"middle\"\n",
    "        fill=\"white\" font-weight=\"600\" style=\"pointer-events: none\">SVG</text>\n",
    "\n",
    "</svg>\n",
    "\"\"\"\n",
    "display(HTML(svgtext))"
   ]
  },
  {
   "cell_type": "markdown",
   "id": "7b30d166",
   "metadata": {},
   "source": [
    "#### Adding styles to SVG using CSS. See https://developer.mozilla.org/en-US/docs/Learn/CSS/First_steps"
   ]
  },
  {
   "cell_type": "code",
   "execution_count": null,
   "id": "fd888d22",
   "metadata": {},
   "outputs": [],
   "source": [
    "# 1. Adding styling using CSS and element selector\n",
    "svgtext = \"\"\"\n",
    "<svg version=\"1.1\"\n",
    "     width=\"300\" height=\"200\"\n",
    "     xmlns=\"http://www.w3.org/2000/svg\">\n",
    "\n",
    "  <style type=\"text/css\">\n",
    "     rect { fill: yellow; }\n",
    "  </style>\n",
    "            \n",
    "  <rect width=\"100%\" height=\"100%\" fill=\"red\"><title>This is a rectangle</title></rect>\n",
    "\n",
    "  <circle cx=\"150\" cy=\"100\" r=\"85\" fill=\"green\"><title>This is a circle</title></circle>\n",
    "\n",
    "  <text x=\"150\" y=\"125\" font-size=\"80\" text-anchor=\"middle\"\n",
    "        fill=\"white\" font-weight=\"600\" style=\"pointer-events: none\">SVG</text>\n",
    "\n",
    "</svg>\n",
    "\"\"\"\n",
    "display(HTML(svgtext))"
   ]
  },
  {
   "cell_type": "code",
   "execution_count": null,
   "id": "69175170",
   "metadata": {},
   "outputs": [],
   "source": [
    "# 2. Adding styling using CSS and id selector\n",
    "svgtext = \"\"\"\n",
    "<svg version=\"1.1\"\n",
    "     width=\"300\" height=\"200\"\n",
    "     xmlns=\"http://www.w3.org/2000/svg\">\n",
    "\n",
    "  <style type=\"text/css\">\n",
    "     #r1 { fill: blue; }\n",
    "  </style>\n",
    "            \n",
    "  <rect id=\"r1\" width=\"100%\" height=\"100%\" fill=\"red\"><title>This is a rectangle</title></rect>\n",
    "\n",
    "  <circle cx=\"150\" cy=\"100\" r=\"85\" fill=\"green\"><title>This is a circle</title></circle>\n",
    "\n",
    "  <text x=\"150\" y=\"125\" font-size=\"80\" text-anchor=\"middle\"\n",
    "        fill=\"white\" font-weight=\"600\" style=\"pointer-events: none\">SVG</text>\n",
    "\n",
    "</svg>\n",
    "\"\"\"\n",
    "display(HTML(svgtext))"
   ]
  },
  {
   "cell_type": "code",
   "execution_count": null,
   "id": "b24daee9",
   "metadata": {},
   "outputs": [],
   "source": [
    "# 3. Adding styling using CSS and class selector\n",
    "svgtext = \"\"\"\n",
    "<svg version=\"1.1\"\n",
    "     width=\"300\" height=\"200\"\n",
    "     xmlns=\"http://www.w3.org/2000/svg\">\n",
    "\n",
    "  <style type=\"text/css\">\n",
    "     .c1 { fill: cyan; }\n",
    "  </style>\n",
    "            \n",
    "  <rect class=\"c1\" width=\"100%\" height=\"100%\" fill=\"red\"><title>This is a rectangle</title></rect>\n",
    "\n",
    "  <circle class=\"c1\" cx=\"150\" cy=\"100\" r=\"85\" fill=\"green\"><title>This is a circle</title></circle>\n",
    "\n",
    "  <text x=\"150\" y=\"125\" font-size=\"80\" text-anchor=\"middle\"\n",
    "        fill=\"white\" font-weight=\"600\" style=\"pointer-events: none\">SVG</text>\n",
    "\n",
    "</svg>\n",
    "\"\"\"\n",
    "display(HTML(svgtext))"
   ]
  },
  {
   "cell_type": "code",
   "execution_count": null,
   "id": "4c39d113",
   "metadata": {},
   "outputs": [],
   "source": [
    "# 4. Adding styling using CSS on hover\n",
    "svgtext = \"\"\"\n",
    "<svg version=\"1.1\"\n",
    "     width=\"300\" height=\"200\"\n",
    "     xmlns=\"http://www.w3.org/2000/svg\">\n",
    "\n",
    "  <style type=\"text/css\">\n",
    "     .c1:hover { fill: blue; }\n",
    "  </style>\n",
    "            \n",
    "  <rect class=\"c1\" width=\"100%\" height=\"100%\" fill=\"red\"><title>This is a rectangle</title></rect>\n",
    "\n",
    "  <circle class=\"c1\" cx=\"150\" cy=\"100\" r=\"85\" fill=\"green\"><title>This is a circle</title></circle>\n",
    "\n",
    "  <text x=\"150\" y=\"125\" font-size=\"80\" text-anchor=\"middle\"\n",
    "        fill=\"white\" font-weight=\"600\" style=\"pointer-events: none\">SVG</text>\n",
    "\n",
    "</svg>\n",
    "\"\"\"\n",
    "display(HTML(svgtext))"
   ]
  },
  {
   "cell_type": "code",
   "execution_count": null,
   "id": "d383ccb2",
   "metadata": {},
   "outputs": [],
   "source": [
    "# 5. Adding cursor on hover\n",
    "svgtext = \"\"\"\n",
    "<svg version=\"1.1\"\n",
    "     width=\"300\" height=\"200\"\n",
    "     xmlns=\"http://www.w3.org/2000/svg\">\n",
    "\n",
    "  <style type=\"text/css\">\n",
    "     .c1:hover { fill: blue; cursor: zoom-in; }\n",
    "  </style>\n",
    "\n",
    "  <rect class=\"c1\" width=\"100%\" height=\"100%\" fill=\"red\"><title>This is a rectangle</title></rect>\n",
    "\n",
    "  <circle class=\"c1\" cx=\"150\" cy=\"100\" r=\"85\" fill=\"green\"><title>This is a circle</title></circle>\n",
    "\n",
    "  <text x=\"150\" y=\"125\" font-size=\"80\" text-anchor=\"middle\"\n",
    "        fill=\"white\" font-weight=\"600\" style=\"pointer-events: none\">SVG</text>\n",
    "\n",
    "</svg>\n",
    "\"\"\"\n",
    "display(HTML(svgtext))"
   ]
  },
  {
   "cell_type": "code",
   "execution_count": null,
   "id": "f3aeb729",
   "metadata": {},
   "outputs": [],
   "source": []
  }
 ],
 "metadata": {
  "kernelspec": {
   "display_name": "Python 3 (ipykernel)",
   "language": "python",
   "name": "python3"
  },
  "language_info": {
   "codemirror_mode": {
    "name": "ipython",
    "version": 3
   },
   "file_extension": ".py",
   "mimetype": "text/x-python",
   "name": "python",
   "nbconvert_exporter": "python",
   "pygments_lexer": "ipython3",
   "version": "3.7.13"
  }
 },
 "nbformat": 4,
 "nbformat_minor": 5
}
