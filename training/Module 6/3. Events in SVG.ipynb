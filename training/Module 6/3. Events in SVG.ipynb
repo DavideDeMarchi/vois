{
 "cells": [
  {
   "cell_type": "markdown",
   "id": "2d7fb785",
   "metadata": {},
   "source": [
    "### Events in SVG"
   ]
  },
  {
   "cell_type": "markdown",
   "id": "21283eaf",
   "metadata": {},
   "source": [
    "#### Basic example of ipyevents. See: https://github.com/mwcraig/ipyevents"
   ]
  },
  {
   "cell_type": "code",
   "execution_count": null,
   "id": "6ff607a1",
   "metadata": {},
   "outputs": [],
   "source": [
    "# Basic example\n",
    "from ipywidgets import widgets\n",
    "from IPython.display import display, HTML\n",
    "from ipyevents import Event\n",
    "import math\n",
    "\n",
    "out = widgets.Output()\n",
    "display(out)\n",
    "\n",
    "svgtext = \"\"\"\n",
    "<svg version=\"1.1\"\n",
    "     width=\"300\" height=\"200\"\n",
    "     xmlns=\"http://www.w3.org/2000/svg\">\n",
    "\n",
    "  <style type=\"text/css\">\n",
    "     #c1:hover { fill: #004400; cursor: zoom-in; stroke-width: 10; stroke: white; }\n",
    "  </style>\n",
    "\n",
    "  <rect width=\"100%\" height=\"100%\" fill=\"red\" />\n",
    "\n",
    "  <circle id=\"c1\" cx=\"150\" cy=\"100\" r=\"85\" fill=\"green\" stroke-width=\"2\" stroke=\"black\"/>\n",
    "\n",
    "  <text x=\"150\" y=\"125\" font-size=\"80\" text-anchor=\"middle\"\n",
    "        fill=\"white\" font-weight=\"600\" style=\"pointer-events: none\">SVG</text>\n",
    "\n",
    "</svg>\n",
    "\"\"\"\n",
    "\n",
    "# Display the SVG inside the Output widget\n",
    "with out:\n",
    "    display(HTML(svgtext))\n",
    "\n",
    "# Add an event manager to the out Output widgets defining which events to watch\n",
    "evt = Event(source=out, watched_events=['click'])\n",
    "\n",
    "def handle_event(event):\n",
    "    x = event['relativeX']\n",
    "    y = event['relativeY']\n",
    "    dist = math.hypot(150 - x, 100 - y)\n",
    "    if dist <= 85:\n",
    "        with out:\n",
    "            print('Clicked inside the circle!')\n",
    "\n",
    "# Define the python function to manage the event\n",
    "evt.on_dom_event(handle_event)"
   ]
  },
  {
   "cell_type": "markdown",
   "id": "8e7a01ad",
   "metadata": {},
   "source": [
    "#### Example of an animated pie chart with internal management of click events"
   ]
  },
  {
   "cell_type": "code",
   "execution_count": null,
   "id": "cb8419ba",
   "metadata": {},
   "outputs": [],
   "source": [
    "from voilalibrary import svgUtils\n",
    "import plotly.express as px\n",
    "from ipywidgets import widgets\n",
    "\n",
    "debug = widgets.Output()\n",
    "display(debug)\n",
    "\n",
    "def onclick(arg):\n",
    "    with debug:\n",
    "        print('clicked %s' % arg)\n",
    "    \n",
    "out, txt = svgUtils.AnimatedPieChart(values=[10.0, 25.0, 18.0, 20.0, 9.5],\n",
    "                                     labels=['Option<br>0', 'Option<br>1', 'Option 2', 'Option 3', 'Others'], \n",
    "                                     centerfontsize=28,\n",
    "                                     fontsize=16, textweight=400,\n",
    "                                     colors=px.colors.qualitative.D3,\n",
    "                                     backcolor='#dfdfdf',\n",
    "                                     centertext='Example Pie',\n",
    "                                     onclick=onclick,\n",
    "                                     dimension=380,\n",
    "                                     duration=1.0)\n",
    "display(out)"
   ]
  },
  {
   "cell_type": "markdown",
   "id": "6d296d61",
   "metadata": {},
   "source": [
    "### Example in a real dashboard: https://jeodpp.jrc.ec.europa.eu/eu/dashboard/voila/render/Cofe2JRC/Cofe2JRC_v2.ipynb"
   ]
  },
  {
   "cell_type": "code",
   "execution_count": null,
   "id": "4ae420b1",
   "metadata": {},
   "outputs": [],
   "source": []
  }
 ],
 "metadata": {
  "kernelspec": {
   "display_name": "Python 3 (ipykernel)",
   "language": "python",
   "name": "python3"
  },
  "language_info": {
   "codemirror_mode": {
    "name": "ipython",
    "version": 3
   },
   "file_extension": ".py",
   "mimetype": "text/x-python",
   "name": "python",
   "nbconvert_exporter": "python",
   "pygments_lexer": "ipython3",
   "version": "3.7.13"
  }
 },
 "nbformat": 4,
 "nbformat_minor": 5
}
