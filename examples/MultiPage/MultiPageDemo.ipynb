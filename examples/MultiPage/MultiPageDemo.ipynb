{
 "cells": [
  {
   "cell_type": "markdown",
   "id": "4a13af06",
   "metadata": {},
   "source": [
    "### Using mainPage and page to create multi-page applications"
   ]
  },
  {
   "cell_type": "code",
   "execution_count": 1,
   "id": "45af7ace",
   "metadata": {},
   "outputs": [
    {
     "data": {
      "application/vnd.jupyter.widget-view+json": {
       "model_id": "baf5d27ebea140e0b7a7f364c34be027",
       "version_major": 2,
       "version_minor": 0
      },
      "text/plain": [
       "Output(layout=Layout(height='0px', width='0px'))"
      ]
     },
     "metadata": {},
     "output_type": "display_data"
    },
    {
     "data": {
      "application/vnd.jupyter.widget-view+json": {
       "model_id": "32e77ecf685740998750f2873a3a3127",
       "version_major": 2,
       "version_minor": 0
      },
      "text/plain": [
       "Output(layout=Layout(height='0px', width='0px'))"
      ]
     },
     "metadata": {},
     "output_type": "display_data"
    }
   ],
   "source": [
    "from vois.vuetify import settings\n",
    "settings.dark_mode      = True\n",
    "settings.color_first    = '#808dc4'\n",
    "settings.button_rounded = False\n",
    "\n",
    "from vois.vuetify import mainPage, page, dialogGeneric\n",
    "from ipywidgets import widgets, Layout\n",
    "from random import randrange\n",
    "\n",
    "output = widgets.Output(layout=Layout(width='0px', height='0px'))\n",
    "display(output)\n",
    "\n",
    "title = 'Multipage Demo'\n",
    "\n",
    "loremipsum = '''\n",
    "Lorem ipsum dolor sit amet. Non quas aliquam ad iste amet ut vero delectus sed dolores inventore est autem atque id nostrum ipsam et veritatis Quis?\n",
    "Est impedit amet non odio molestiae qui dolore omnis ut enim officia ea tempora accusantium id ipsam mollitia id veritatis fugit.\n",
    "Quo quidem quas rem eligendi Quis ea quam dolor. Qui quisquam autem et molestiae ipsa aut commodi laborum sed illum deserunt \n",
    "qui illo molestias qui esse velit eum quod quos.\n",
    "'''\n",
    "\n",
    "\n",
    "# Create the main page\n",
    "m = mainPage.mainPage(title=title,\n",
    "                      subtitle='Showcase how easy is to create a multi-page application using vois',\n",
    "                      credits=\"vois library development team\",\n",
    "                      titlebox_widthpercent=50, titlebox_opacity=0.2, titlebox_border=0,\n",
    "                      vois_show=True, vois_opacity=0.1,\n",
    "                      button_widthpercent=23, button_heightpercent=14, button_elevation=16, button_opacity=0.6,\n",
    "                      background_image=55, #1+randrange(59),\n",
    "                      #background_filter='grayscale(0.85)',\n",
    "                      background_filter='blur(2px) brightness(1.2) contrast(0.7) sepia(0.05) saturate(1.2)',\n",
    "                      creditbox_opacity=0,\n",
    "                      text_color='#222222')\n",
    "\n",
    "\n",
    "# Manage clicks on the icons on top of the secondary pages\n",
    "def on_pageclick():\n",
    "    dlg = dialogGeneric.dialogGeneric(title=title,\n",
    "                                      text=loremipsum,\n",
    "                                      titleheight='dense', show=True, addclosebuttons=True, width=500,\n",
    "                                      fullscreen=False, content=[], output=output)\n",
    "\n",
    "# Create a page\n",
    "def on_page(index):\n",
    "    p = page.page(title, 'Function %d'%index, output,\n",
    "                  titlecolor=settings.color_first, titledark=True, footercolor='#cccccc', footerdark=False,\n",
    "                  logoappurl='https://jeodpp.jrc.ec.europa.eu/services/shared/pngs/BDAP_Logo1024transparent.png',\n",
    "                  on_logoapp=on_pageclick, copyrighttext='European Commission - Joint Research Centre',\n",
    "                  show_back=True, show_help=True, on_help=on_pageclick, show_credits=True, on_credits=on_pageclick)\n",
    "    card = p.create()\n",
    "    card.children = ['Put widgets into the empty space of page %d'%index]\n",
    "    p.open()    \n",
    "\n",
    "# Add to the main page the button to open Function 1 page\n",
    "m.addButton('Function 1',\n",
    "            tooltip='Tooltip text to display on hover',\n",
    "            image='https://picsum.photos/seed/%d/200/200'%randrange(1000),\n",
    "            onclick=on_page, argument=1)\n",
    "\n",
    "# Add to the main page other buttons\n",
    "for i in range(2,7): m.addButton('Function %d'%i,\n",
    "                                 image='https://picsum.photos/seed/%d/200/200'%randrange(1000),\n",
    "                                 onclick=on_page,\n",
    "                                 argument=i)\n",
    "\n",
    "# Display the main page\n",
    "m.open()"
   ]
  },
  {
   "cell_type": "code",
   "execution_count": null,
   "id": "d446021f",
   "metadata": {},
   "outputs": [],
   "source": []
  }
 ],
 "metadata": {
  "kernelspec": {
   "display_name": "Python 3 (ipykernel)",
   "language": "python",
   "name": "python3"
  },
  "language_info": {
   "codemirror_mode": {
    "name": "ipython",
    "version": 3
   },
   "file_extension": ".py",
   "mimetype": "text/x-python",
   "name": "python",
   "nbconvert_exporter": "python",
   "pygments_lexer": "ipython3",
   "version": "3.11.5"
  }
 },
 "nbformat": 4,
 "nbformat_minor": 5
}
