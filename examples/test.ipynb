{
 "cells": [
  {
   "cell_type": "code",
   "execution_count": null,
   "id": "49cd57c6",
   "metadata": {},
   "outputs": [],
   "source": [
    "from vois.vuetify import button, snackbar\n",
    "from IPython.display import display\n",
    "from ipywidgets import widgets\n",
    "\n",
    "out = widgets.Output()\n",
    "\n",
    "title = 'Title of the message'\n",
    "text  = 'Lorem ipsum dolor sit amet, consectetur adipiscing elit, sed do eiusmod tempor incididunt ut labore...'\n",
    "\n",
    "def onclick(arg=None):\n",
    "    s = snackbar.snackbar(title=title, text=text, wrapwidth=40, timeout=3000)\n",
    "    out.clear_output()\n",
    "    with out:\n",
    "        display(s.draw())\n",
    "        s.show()\n",
    "\n",
    "b1 = button.button('Test button', textweight=500, onclick=onclick, width=150, height=36,\n",
    "                   tooltip='Tooltip for test button', selected=True, rounded=True,\n",
    "                   icon='mdi-test-tube', iconcolor='black')\n",
    "\n",
    "display(b1.draw())\n",
    "display(out)"
   ]
  },
  {
   "cell_type": "code",
   "execution_count": null,
   "id": "ebbdb7fb",
   "metadata": {},
   "outputs": [],
   "source": []
  }
 ],
 "metadata": {
  "kernelspec": {
   "display_name": "Python 3 (ipykernel)",
   "language": "python",
   "name": "python3"
  },
  "language_info": {
   "codemirror_mode": {
    "name": "ipython",
    "version": 3
   },
   "file_extension": ".py",
   "mimetype": "text/x-python",
   "name": "python",
   "nbconvert_exporter": "python",
   "pygments_lexer": "ipython3",
   "version": "3.7.12"
  }
 },
 "nbformat": 4,
 "nbformat_minor": 5
}
