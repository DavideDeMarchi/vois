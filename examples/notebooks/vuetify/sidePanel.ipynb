{
 "cells": [
  {
   "cell_type": "markdown",
   "id": "4cbb117c",
   "metadata": {},
   "source": [
    "### Examples: sidePanel module"
   ]
  },
  {
   "cell_type": "code",
   "execution_count": null,
   "id": "6cf88762",
   "metadata": {},
   "outputs": [],
   "source": [
    "# Creation and display of a side panel\n",
    "from vois.vuetify import sidePanel, slider\n",
    "from ipywidgets import widgets\n",
    "from IPython.display import display\n",
    "\n",
    "output = widgets.Output()\n",
    "display(output)\n",
    "\n",
    "def onclose():\n",
    "    with output:\n",
    "        print('CLOSED')\n",
    "\n",
    "text  = 'Lorem ipsum dolor sit amet, consectetur adipiscing elit, sed do eiusmod tempor incididunt ut labore...'\n",
    "\n",
    "s = slider.slider(66,0,100)\n",
    "\n",
    "panel = sidePanel.sidePanel(title='Help panel', text=text,\n",
    "                            width=400, content=[s.draw()],\n",
    "                            output=output, onclose=onclose,\n",
    "                            dark=False)\n",
    "panel.show()"
   ]
  },
  {
   "cell_type": "code",
   "execution_count": null,
   "id": "3b34d037",
   "metadata": {},
   "outputs": [],
   "source": [
    "panel.close()"
   ]
  },
  {
   "cell_type": "code",
   "execution_count": null,
   "id": "319c34e7",
   "metadata": {},
   "outputs": [],
   "source": []
  }
 ],
 "metadata": {
  "kernelspec": {
   "display_name": "Python 3 (ipykernel)",
   "language": "python",
   "name": "python3"
  },
  "language_info": {
   "codemirror_mode": {
    "name": "ipython",
    "version": 3
   },
   "file_extension": ".py",
   "mimetype": "text/x-python",
   "name": "python",
   "nbconvert_exporter": "python",
   "pygments_lexer": "ipython3",
   "version": "3.7.13"
  }
 },
 "nbformat": 4,
 "nbformat_minor": 5
}
