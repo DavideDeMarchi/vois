{
 "cells": [
  {
   "cell_type": "markdown",
   "id": "781a2135",
   "metadata": {},
   "source": [
    "### Examples: toggle module"
   ]
  },
  {
   "cell_type": "code",
   "execution_count": null,
   "id": "0e91cb00",
   "metadata": {},
   "outputs": [],
   "source": [
    "# Creation and display of a widget for the selection among 3 options\n",
    "from vois.vuetify import toggle\n",
    "from ipywidgets import widgets\n",
    "from IPython.display import display\n",
    "\n",
    "output = widgets.Output()\n",
    "\n",
    "def onchange(index):\n",
    "    with output:\n",
    "        print(index)\n",
    "\n",
    "t = toggle.toggle(0, ['Option 1', 'Option 2', 'Option 3'], tooltips=['Tooltip for option 1'],\n",
    "                  onchange=onchange, row=False, width=150, rounded=False)\n",
    "\n",
    "display(t.draw())\n",
    "display(output)"
   ]
  },
  {
   "cell_type": "code",
   "execution_count": null,
   "id": "71977d6a",
   "metadata": {},
   "outputs": [],
   "source": [
    "t.value = 2"
   ]
  },
  {
   "cell_type": "code",
   "execution_count": null,
   "id": "c787100b",
   "metadata": {},
   "outputs": [],
   "source": []
  }
 ],
 "metadata": {
  "kernelspec": {
   "display_name": "Python 3 (ipykernel)",
   "language": "python",
   "name": "python3"
  },
  "language_info": {
   "codemirror_mode": {
    "name": "ipython",
    "version": 3
   },
   "file_extension": ".py",
   "mimetype": "text/x-python",
   "name": "python",
   "nbconvert_exporter": "python",
   "pygments_lexer": "ipython3",
   "version": "3.7.13"
  }
 },
 "nbformat": 4,
 "nbformat_minor": 5
}
