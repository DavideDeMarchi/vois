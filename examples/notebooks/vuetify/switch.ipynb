{
 "cells": [
  {
   "cell_type": "markdown",
   "id": "1429fc53",
   "metadata": {},
   "source": [
    "### Example: switch module"
   ]
  },
  {
   "cell_type": "code",
   "execution_count": null,
   "id": "713540ca",
   "metadata": {},
   "outputs": [],
   "source": [
    "# Creation and display of a switch widget\n",
    "from vois.vuetify import switch\n",
    "from ipywidgets import widgets\n",
    "from IPython.display import display\n",
    "\n",
    "output = widgets.Output()\n",
    "\n",
    "def onchange(value):\n",
    "    with output:\n",
    "        print(value)\n",
    "\n",
    "s = switch.switch(True, \"Label of the switch\", inset=True, onchange=onchange)\n",
    "\n",
    "display(s.draw())\n",
    "display(output)"
   ]
  },
  {
   "cell_type": "code",
   "execution_count": null,
   "id": "c606d138",
   "metadata": {},
   "outputs": [],
   "source": [
    "s.value = False"
   ]
  },
  {
   "cell_type": "code",
   "execution_count": null,
   "id": "dd716eb0",
   "metadata": {},
   "outputs": [],
   "source": []
  }
 ],
 "metadata": {
  "kernelspec": {
   "display_name": "Python 3 (ipykernel)",
   "language": "python",
   "name": "python3"
  },
  "language_info": {
   "codemirror_mode": {
    "name": "ipython",
    "version": 3
   },
   "file_extension": ".py",
   "mimetype": "text/x-python",
   "name": "python",
   "nbconvert_exporter": "python",
   "pygments_lexer": "ipython3",
   "version": "3.7.13"
  }
 },
 "nbformat": 4,
 "nbformat_minor": 5
}
