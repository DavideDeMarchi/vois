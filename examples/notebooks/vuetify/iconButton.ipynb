{
 "cells": [
  {
   "cell_type": "code",
   "execution_count": null,
   "id": "50c5eb18",
   "metadata": {},
   "outputs": [],
   "source": [
    "from vois.vuetify import iconButton\n",
    "from IPython.display import display\n",
    "\n",
    "def onclick():\n",
    "    if b.color == 'red':\n",
    "        b.color = 'amber'\n",
    "        b.tooltip = 'Click to make the icon red'\n",
    "    else:\n",
    "        b.color = 'red'\n",
    "        b.tooltip = 'Click to make the icon yellow'\n",
    "\n",
    "b = iconButton.iconButton(onclick=onclick, tooltip='Initial tooltip', x_large=True)\n",
    "display(b.draw())"
   ]
  },
  {
   "cell_type": "code",
   "execution_count": null,
   "id": "3d3fe37b",
   "metadata": {},
   "outputs": [],
   "source": []
  }
 ],
 "metadata": {
  "kernelspec": {
   "display_name": "Python 3 (ipykernel)",
   "language": "python",
   "name": "python3"
  },
  "language_info": {
   "codemirror_mode": {
    "name": "ipython",
    "version": 3
   },
   "file_extension": ".py",
   "mimetype": "text/x-python",
   "name": "python",
   "nbconvert_exporter": "python",
   "pygments_lexer": "ipython3",
   "version": "3.7.13"
  }
 },
 "nbformat": 4,
 "nbformat_minor": 5
}
