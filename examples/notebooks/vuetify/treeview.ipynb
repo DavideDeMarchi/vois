{
 "cells": [
  {
   "cell_type": "markdown",
   "id": "69dd1af6",
   "metadata": {},
   "source": [
    "### Examples: treeview module"
   ]
  },
  {
   "cell_type": "code",
   "execution_count": null,
   "id": "dec11678",
   "metadata": {},
   "outputs": [],
   "source": [
    "# Creation of a treeview from a simple Pandas DataFrame\n",
    "from vois.vuetify import treeview\n",
    "import pandas as pd\n",
    "\n",
    "table = [['parent', 'child'], ['John', 'Mary'], ['John', 'Peter'],\n",
    "                              ['Ann', 'Hellen'], ['Ann', 'Sue'], ['Ann', 'Claire']]\n",
    "headers = table.pop(0)\n",
    "df = pd.DataFrame(table, columns=headers)\n",
    "display(df)\n",
    "\n",
    "def on_change(arg):\n",
    "    print(arg)\n",
    "\n",
    "treecard = treeview.createTreeviewFromDF2Columns(df, headers[0], headers[1],\n",
    "                                                 rootName='Families',\n",
    "                                                 on_change=on_change)\n",
    "display(treecard)"
   ]
  },
  {
   "cell_type": "code",
   "execution_count": null,
   "id": "dc96148b",
   "metadata": {},
   "outputs": [],
   "source": [
    "# Creation and display of a treeview from a list of strings\n",
    "from vois.vuetify import treeview\n",
    "from IPython.display import display\n",
    "\n",
    "treecard = treeview.createTreeviewFromList(['A','A.1','A.2','A.1.1',\n",
    "                                            'A.3.1','A.4.1.2','A.5.2.1',\n",
    "                                            'A.4.2.3.1','B','B.A'],\n",
    "                                           rootName='Root',\n",
    "                                           expand_selection_to_parents=False,\n",
    "                                           substitutionDict={'A.1': 'A.1 new name'},\n",
    "                                           color='green',\n",
    "                                           height='350px')\n",
    "display(treecard)"
   ]
  },
  {
   "cell_type": "code",
   "execution_count": null,
   "id": "3077bb17",
   "metadata": {},
   "outputs": [],
   "source": []
  }
 ],
 "metadata": {
  "kernelspec": {
   "display_name": "Python 3 (ipykernel)",
   "language": "python",
   "name": "python3"
  },
  "language_info": {
   "codemirror_mode": {
    "name": "ipython",
    "version": 3
   },
   "file_extension": ".py",
   "mimetype": "text/x-python",
   "name": "python",
   "nbconvert_exporter": "python",
   "pygments_lexer": "ipython3",
   "version": "3.7.13"
  }
 },
 "nbformat": 4,
 "nbformat_minor": 5
}
