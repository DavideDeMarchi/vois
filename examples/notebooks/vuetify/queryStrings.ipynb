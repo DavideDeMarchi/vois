{
 "cells": [
  {
   "cell_type": "markdown",
   "id": "8dfacc16",
   "metadata": {},
   "source": [
    "### Examples: queryStrings module"
   ]
  },
  {
   "cell_type": "code",
   "execution_count": null,
   "id": "aba9fa47",
   "metadata": {},
   "outputs": [],
   "source": [
    "# Read URL parameters and get value of one of the parameters\n",
    "from vois.vuetify import queryStrings\n",
    "\n",
    "parameters = queryStrings.readParameters()\n",
    "activetab = parameters.get('activetab', ['chart'])[0]\n",
    "print(activetab)"
   ]
  },
  {
   "cell_type": "code",
   "execution_count": null,
   "id": "0fe03dc3",
   "metadata": {},
   "outputs": [],
   "source": []
  }
 ],
 "metadata": {
  "kernelspec": {
   "display_name": "Python 3 (ipykernel)",
   "language": "python",
   "name": "python3"
  },
  "language_info": {
   "codemirror_mode": {
    "name": "ipython",
    "version": 3
   },
   "file_extension": ".py",
   "mimetype": "text/x-python",
   "name": "python",
   "nbconvert_exporter": "python",
   "pygments_lexer": "ipython3",
   "version": "3.7.13"
  }
 },
 "nbformat": 4,
 "nbformat_minor": 5
}
