{
 "cells": [
  {
   "cell_type": "markdown",
   "id": "364c137c",
   "metadata": {},
   "source": [
    "### Examples: tabs module"
   ]
  },
  {
   "cell_type": "code",
   "execution_count": null,
   "id": "4b592342",
   "metadata": {},
   "outputs": [],
   "source": [
    "# Creation and display of a tabs widget to select among alternative Outputs display\n",
    "from vois.vuetify import tabs\n",
    "from ipywidgets import widgets\n",
    "from IPython.display import display\n",
    "\n",
    "debug = widgets.Output()\n",
    "\n",
    "output0 = widgets.Output()\n",
    "output1 = widgets.Output()\n",
    "output2 = widgets.Output()\n",
    "\n",
    "with output0: print('This is output 0')\n",
    "with output1: print('This is output 1')\n",
    "with output2: print('This is output 2')\n",
    "\n",
    "def onchange(index):\n",
    "    with debug:\n",
    "        print(index)\n",
    "\n",
    "t = tabs.tabs(0, ['Option 0', 'Option 1', 'Option 2'],\n",
    "              contents=[output0,output1,output2],\n",
    "              onchange=onchange, row=False)\n",
    "\n",
    "display(t.draw())\n",
    "display(debug)"
   ]
  },
  {
   "cell_type": "code",
   "execution_count": null,
   "id": "d59779e0",
   "metadata": {},
   "outputs": [],
   "source": [
    "t.value = 0"
   ]
  },
  {
   "cell_type": "code",
   "execution_count": null,
   "id": "a838d304",
   "metadata": {},
   "outputs": [],
   "source": []
  }
 ],
 "metadata": {
  "kernelspec": {
   "display_name": "Python 3 (ipykernel)",
   "language": "python",
   "name": "python3"
  },
  "language_info": {
   "codemirror_mode": {
    "name": "ipython",
    "version": 3
   },
   "file_extension": ".py",
   "mimetype": "text/x-python",
   "name": "python",
   "nbconvert_exporter": "python",
   "pygments_lexer": "ipython3",
   "version": "3.7.13"
  }
 },
 "nbformat": 4,
 "nbformat_minor": 5
}
