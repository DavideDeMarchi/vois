{
 "cells": [
  {
   "cell_type": "code",
   "execution_count": null,
   "id": "76b88ddc",
   "metadata": {},
   "outputs": [],
   "source": [
    "from vois.vuetify import settings\n",
    "settings.dark_mode      = False\n",
    "settings.color_second   = '#d8e7f5'\n",
    "settings.color_first    = '#68aad2'\n",
    "settings.button_rounded = False\n",
    "\n",
    "from vois.vuetify import paletteEditor\n",
    "from ipywidgets import widgets, Layout\n",
    "from IPython.display import display\n",
    "\n",
    "output = widgets.Output(layout=Layout(width='500px', height='600px'))\n",
    "outmsg = widgets.Output()\n",
    "\n",
    "def onchange():\n",
    "    pass\n",
    "    #with outmsg:\n",
    "    #    print('onchange!')\n",
    "\n",
    "p = paletteEditor.paletteEditor(width=450, onchange=onchange)\n",
    "\n",
    "with output:\n",
    "    display(p.draw())\n",
    "    \n",
    "display(output)\n",
    "display(outmsg)"
   ]
  },
  {
   "cell_type": "code",
   "execution_count": null,
   "id": "a9f554c4",
   "metadata": {},
   "outputs": [],
   "source": [
    "p.colors"
   ]
  },
  {
   "cell_type": "code",
   "execution_count": null,
   "id": "b0f4d457",
   "metadata": {},
   "outputs": [],
   "source": [
    "p.items"
   ]
  },
  {
   "cell_type": "code",
   "execution_count": null,
   "id": "00f8af08",
   "metadata": {},
   "outputs": [],
   "source": [
    "# Palette editor inside a modal dialog-box\n",
    "from vois.vuetify import paletteEditor, dialogGeneric\n",
    "from ipywidgets import widgets\n",
    "from IPython.display import display\n",
    "\n",
    "output = widgets.Output()\n",
    "display(output)\n",
    "\n",
    "def on_ok():\n",
    "    pass\n",
    "    #print(\"Exit with ok\")\n",
    "\n",
    "def on_cancel():\n",
    "    pass\n",
    "    #print(\"Exit with cancel\")\n",
    "    \n",
    "p = paletteEditor.paletteEditor(items=[], width=450)\n",
    "    \n",
    "dlg = dialogGeneric.dialogGeneric(title='Palette editor', text='', show=True, \n",
    "                                  addclosebuttons=False, width=560,\n",
    "                                  addokcancelbuttons=True, on_ok=on_ok, on_cancel=on_cancel,\n",
    "                                  fullscreen=False, content=[p.draw()], output=output)"
   ]
  }
 ],
 "metadata": {
  "kernelspec": {
   "display_name": "Python 3 (ipykernel)",
   "language": "python",
   "name": "python3"
  },
  "language_info": {
   "codemirror_mode": {
    "name": "ipython",
    "version": 3
   },
   "file_extension": ".py",
   "mimetype": "text/x-python",
   "name": "python",
   "nbconvert_exporter": "python",
   "pygments_lexer": "ipython3",
   "version": "3.7.13"
  }
 },
 "nbformat": 4,
 "nbformat_minor": 5
}
