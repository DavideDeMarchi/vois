{
 "cells": [
  {
   "cell_type": "markdown",
   "id": "7b75e4e3",
   "metadata": {},
   "source": [
    "### Examples: menu module"
   ]
  },
  {
   "cell_type": "code",
   "execution_count": null,
   "id": "8ffc8254",
   "metadata": {},
   "outputs": [],
   "source": [
    "# Creation and display of a menu widget to select among three options\n",
    "from vois.vuetify import menu\n",
    "from ipywidgets import widgets\n",
    "from IPython.display import display\n",
    "\n",
    "output = widgets.Output()\n",
    "\n",
    "def onchange(value):\n",
    "    with output:\n",
    "        print(value)\n",
    "\n",
    "m = menu.menu(0, 'Hover to select',\n",
    "              ['Option 0', 'Option 1', 'Option 2'],\n",
    "              onchange=onchange, highliteselection=True)\n",
    "\n",
    "display(m.draw())\n",
    "display(output)"
   ]
  },
  {
   "cell_type": "code",
   "execution_count": null,
   "id": "b47f6404",
   "metadata": {},
   "outputs": [],
   "source": []
  }
 ],
 "metadata": {
  "kernelspec": {
   "display_name": "Python 3 (ipykernel)",
   "language": "python",
   "name": "python3"
  },
  "language_info": {
   "codemirror_mode": {
    "name": "ipython",
    "version": 3
   },
   "file_extension": ".py",
   "mimetype": "text/x-python",
   "name": "python",
   "nbconvert_exporter": "python",
   "pygments_lexer": "ipython3",
   "version": "3.7.13"
  }
 },
 "nbformat": 4,
 "nbformat_minor": 5
}
