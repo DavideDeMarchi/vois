{
 "cells": [
  {
   "cell_type": "code",
   "execution_count": null,
   "id": "ec7e2bb7",
   "metadata": {},
   "outputs": [],
   "source": [
    "import glob\n",
    "from ipywidgets import widgets\n",
    "from IPython.display import display\n",
    "from vois.vuetify import svgsGrid\n",
    "\n",
    "output = widgets.Output()\n",
    "\n",
    "def on_click(index):\n",
    "    with output:\n",
    "        print(index)\n",
    "\n",
    "# Make sure to list some existing SVG files...\n",
    "files = glob.glob(\"./maki/icons/*\")\n",
    "filepaths = sorted(files)\n",
    "\n",
    "svgsize = 80\n",
    "height  = '%dpx'%(svgsize + 40)\n",
    "g = svgsGrid.svgsGrid(filepaths=filepaths, cols=1, svgsize=svgsize, height=height, ripple=True, on_click=on_click)\n",
    "\n",
    "display(g)\n",
    "display(output)"
   ]
  },
  {
   "cell_type": "code",
   "execution_count": null,
   "id": "9c176118",
   "metadata": {},
   "outputs": [],
   "source": []
  }
 ],
 "metadata": {
  "kernelspec": {
   "display_name": "Python 3 (ipykernel)",
   "language": "python",
   "name": "python3"
  },
  "language_info": {
   "codemirror_mode": {
    "name": "ipython",
    "version": 3
   },
   "file_extension": ".py",
   "mimetype": "text/x-python",
   "name": "python",
   "nbconvert_exporter": "python",
   "pygments_lexer": "ipython3",
   "version": "3.7.13"
  }
 },
 "nbformat": 4,
 "nbformat_minor": 5
}
