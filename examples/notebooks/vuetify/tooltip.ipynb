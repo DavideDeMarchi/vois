{
 "cells": [
  {
   "cell_type": "markdown",
   "id": "c99fbccf",
   "metadata": {},
   "source": [
    "### Examples: tooltip module"
   ]
  },
  {
   "cell_type": "code",
   "execution_count": null,
   "id": "3a4e0da3",
   "metadata": {},
   "outputs": [],
   "source": [
    "# Add a tooltip to a switch widget\n",
    "from vois.vuetify import tooltip, switch\n",
    "from IPython.display import display\n",
    "\n",
    "s = switch.switch(True, \"Activate the notification\")\n",
    "t = tooltip.tooltip('Select to activate the notification of events to the user', s.draw())\n",
    "display(t)"
   ]
  },
  {
   "cell_type": "code",
   "execution_count": null,
   "id": "27a9f0cd",
   "metadata": {},
   "outputs": [],
   "source": []
  }
 ],
 "metadata": {
  "kernelspec": {
   "display_name": "Python 3 (ipykernel)",
   "language": "python",
   "name": "python3"
  },
  "language_info": {
   "codemirror_mode": {
    "name": "ipython",
    "version": 3
   },
   "file_extension": ".py",
   "mimetype": "text/x-python",
   "name": "python",
   "nbconvert_exporter": "python",
   "pygments_lexer": "ipython3",
   "version": "3.7.13"
  }
 },
 "nbformat": 4,
 "nbformat_minor": 5
}
