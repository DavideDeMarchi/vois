{
 "cells": [
  {
   "cell_type": "code",
   "execution_count": null,
   "id": "25d42324",
   "metadata": {},
   "outputs": [],
   "source": [
    "from vois.vuetify import multiSwitch\n",
    "\n",
    "from ipywidgets import widgets\n",
    "output = widgets.Output()\n",
    "\n",
    "def onchange(value):\n",
    "    with output:\n",
    "        print(value)\n",
    "\n",
    "m = multiSwitch.multiSwitch([False, True, False], ['Label1', 'Label2 is a very long label', 'Label3 is also very long'], tooltips=['Tooltip for label1'], \n",
    "                            onchange=onchange, row=True, width=250, justify='start', rounded=False, outlined=True)\n",
    "\n",
    "display(m.draw())\n",
    "display(output)"
   ]
  },
  {
   "cell_type": "code",
   "execution_count": null,
   "id": "f2b835a3",
   "metadata": {},
   "outputs": [],
   "source": [
    "m.value"
   ]
  },
  {
   "cell_type": "code",
   "execution_count": null,
   "id": "0323482b",
   "metadata": {},
   "outputs": [],
   "source": []
  }
 ],
 "metadata": {
  "kernelspec": {
   "display_name": "Python 3 (ipykernel)",
   "language": "python",
   "name": "python3"
  },
  "language_info": {
   "codemirror_mode": {
    "name": "ipython",
    "version": 3
   },
   "file_extension": ".py",
   "mimetype": "text/x-python",
   "name": "python",
   "nbconvert_exporter": "python",
   "pygments_lexer": "ipython3",
   "version": "3.7.13"
  }
 },
 "nbformat": 4,
 "nbformat_minor": 5
}
