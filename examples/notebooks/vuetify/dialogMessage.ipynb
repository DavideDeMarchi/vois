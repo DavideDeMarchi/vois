{
 "cells": [
  {
   "cell_type": "markdown",
   "id": "d87ad922",
   "metadata": {},
   "source": [
    "### Examples: dialogMessage module"
   ]
  },
  {
   "cell_type": "code",
   "execution_count": null,
   "id": "341b9ef5",
   "metadata": {},
   "outputs": [],
   "source": [
    "# Creation and display of a modal dialog-box containing an error message\n",
    "from vois.vuetify import dialogMessage\n",
    "from ipywidgets import widgets\n",
    "from IPython.display import display\n",
    "\n",
    "output = widgets.Output()\n",
    "display(output)\n",
    "\n",
    "e = dialogMessage.dialogMessage(title='Error',\n",
    "                                text='''Sorry but the task could not be completed<br>\n",
    "because there are errors in the code to save in PNG format''',\n",
    "                                addclosebuttons=False,\n",
    "                                show=True, width=450, output=output)"
   ]
  },
  {
   "cell_type": "code",
   "execution_count": null,
   "id": "22dd5f05",
   "metadata": {},
   "outputs": [],
   "source": []
  }
 ],
 "metadata": {
  "kernelspec": {
   "display_name": "Python 3 (ipykernel)",
   "language": "python",
   "name": "python3"
  },
  "language_info": {
   "codemirror_mode": {
    "name": "ipython",
    "version": 3
   },
   "file_extension": ".py",
   "mimetype": "text/x-python",
   "name": "python",
   "nbconvert_exporter": "python",
   "pygments_lexer": "ipython3",
   "version": "3.7.13"
  }
 },
 "nbformat": 4,
 "nbformat_minor": 5
}
