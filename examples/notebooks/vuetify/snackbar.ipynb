{
 "cells": [
  {
   "cell_type": "markdown",
   "id": "5bdb8f14",
   "metadata": {},
   "source": [
    "### Examples: snackbar module"
   ]
  },
  {
   "cell_type": "code",
   "execution_count": 2,
   "id": "21cf36b9",
   "metadata": {},
   "outputs": [
    {
     "data": {
      "application/vnd.jupyter.widget-view+json": {
       "model_id": "",
       "version_major": 2,
       "version_minor": 0
      },
      "text/plain": [
       "Snackbar(children=[Col(children=[CardTitle(children=['Title of the message'], class_='pa-0 ma-0', style_='colo…"
      ]
     },
     "metadata": {},
     "output_type": "display_data"
    }
   ],
   "source": [
    "# Creation and display of a snackbar message\n",
    "from vois.vuetify import snackbar\n",
    "from ipywidgets import widgets\n",
    "\n",
    "title = 'Title of the message'\n",
    "text  = 'Lorem ipsum dolor sit amet, consectetur adipiscing elit, sed do eiusmod tempor incididunt ut labore...'\n",
    "\n",
    "s = snackbar.snackbar(title=title, text=text, show=True, wrapwidth=40, timeout=3000)\n",
    "s.draw()"
   ]
  },
  {
   "cell_type": "code",
   "execution_count": null,
   "id": "a21201ae",
   "metadata": {},
   "outputs": [],
   "source": [
    "s.close()"
   ]
  },
  {
   "cell_type": "code",
   "execution_count": null,
   "id": "c0f0e943",
   "metadata": {},
   "outputs": [],
   "source": []
  }
 ],
 "metadata": {
  "kernelspec": {
   "display_name": "Python 3 (ipykernel)",
   "language": "python",
   "name": "python3"
  },
  "language_info": {
   "codemirror_mode": {
    "name": "ipython",
    "version": 3
   },
   "file_extension": ".py",
   "mimetype": "text/x-python",
   "name": "python",
   "nbconvert_exporter": "python",
   "pygments_lexer": "ipython3",
   "version": "3.7.13"
  }
 },
 "nbformat": 4,
 "nbformat_minor": 5
}
