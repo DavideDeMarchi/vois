{
 "cells": [
  {
   "cell_type": "code",
   "execution_count": null,
   "id": "d9956049",
   "metadata": {},
   "outputs": [],
   "source": [
    "from vois.vuetify import popup, treeview\n",
    "from IPython.display import display\n",
    "\n",
    "treecard = treeview.createTreeviewFromList(['S%d'%x for x in range(10)],\n",
    "                                           rootName='All',\n",
    "                                           height='270px')\n",
    "\n",
    "p = popup.popup(treecard, 'Sectors', popupheight=270)\n",
    "\n",
    "display(p.draw())"
   ]
  },
  {
   "cell_type": "code",
   "execution_count": null,
   "id": "18533fb5",
   "metadata": {},
   "outputs": [],
   "source": []
  }
 ],
 "metadata": {
  "kernelspec": {
   "display_name": "Python 3 (ipykernel)",
   "language": "python",
   "name": "python3"
  },
  "language_info": {
   "codemirror_mode": {
    "name": "ipython",
    "version": 3
   },
   "file_extension": ".py",
   "mimetype": "text/x-python",
   "name": "python",
   "nbconvert_exporter": "python",
   "pygments_lexer": "ipython3",
   "version": "3.7.13"
  }
 },
 "nbformat": 4,
 "nbformat_minor": 5
}
