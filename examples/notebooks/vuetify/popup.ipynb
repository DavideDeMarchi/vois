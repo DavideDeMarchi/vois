{
 "cells": [
  {
   "cell_type": "code",
   "execution_count": null,
   "id": "3666a748",
   "metadata": {},
   "outputs": [],
   "source": [
    "from vois.vuetify import popup, treeview\n",
    "from IPython.display import display\n",
    "\n",
    "treecard = treeview.createTreeviewFromList(['S%d'%x for x in range(10)],\n",
    "                                           rootName='All',\n",
    "                                           height='270px')\n",
    "\n",
    "p = popup.popup(treecard, 'Sectors', popupheight=270)\n",
    "\n",
    "display(p.draw())"
   ]
  },
  {
   "cell_type": "code",
   "execution_count": null,
   "id": "942cf96b",
   "metadata": {},
   "outputs": [],
   "source": [
    "from vois.vuetify import popup, palettePickerEx\n",
    "from ipywidgets import widgets\n",
    "import ipyvuetify as v\n",
    "\n",
    "output = widgets.Output()\n",
    "display(output)\n",
    "\n",
    "def onchange(colors,interpolate):\n",
    "    pass\n",
    "    #with output:\n",
    "    #    print(colors,interpolate)\n",
    "\n",
    "pal = palettePickerEx.palettePickerEx(family='sequential', width=250, onchange=onchange)\n",
    "pal.value = 'Turbo'\n",
    "card = v.Card(flat=True, class_='pa-0 ma-0 mt-2 ml-2', children=[pal.draw()])\n",
    "p = popup.popup(card, '', text=True, icon='mdi-palette-outline', outlined=False, buttonwidth=100, popupwidth=450, popupheight=120,\n",
    "                open_on_hover=False, close_on_click=False, close_on_content_click=False)\n",
    "\n",
    "p.draw()"
   ]
  },
  {
   "cell_type": "code",
   "execution_count": null,
   "id": "206b556d",
   "metadata": {},
   "outputs": [],
   "source": []
  }
 ],
 "metadata": {
  "kernelspec": {
   "display_name": "Python 3 (ipykernel)",
   "language": "python",
   "name": "python3"
  },
  "language_info": {
   "codemirror_mode": {
    "name": "ipython",
    "version": 3
   },
   "file_extension": ".py",
   "mimetype": "text/x-python",
   "name": "python",
   "nbconvert_exporter": "python",
   "pygments_lexer": "ipython3",
   "version": "3.7.13"
  }
 },
 "nbformat": 4,
 "nbformat_minor": 5
}
