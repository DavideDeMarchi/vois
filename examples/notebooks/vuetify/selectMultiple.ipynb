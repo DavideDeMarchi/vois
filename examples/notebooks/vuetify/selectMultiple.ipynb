{
 "cells": [
  {
   "cell_type": "markdown",
   "id": "54cd4ab6",
   "metadata": {},
   "source": [
    "### Examples: selectMultiple module"
   ]
  },
  {
   "cell_type": "code",
   "execution_count": null,
   "id": "15399396",
   "metadata": {},
   "outputs": [],
   "source": [
    "# Creation and display of a multiple selection widget for the selection of one or more countries\n",
    "from vois.vuetify import selectMultiple\n",
    "from ipywidgets import widgets\n",
    "from IPython.display import display\n",
    "\n",
    "output = widgets.Output()\n",
    "display(output)\n",
    "\n",
    "def onchange():\n",
    "    with output:\n",
    "        print(sel.value)\n",
    "\n",
    "sel = selectMultiple.selectMultiple('Country:',\n",
    "                                    ['Belgium', 'France', 'Italy', 'Germany'],\n",
    "                                    selected=['France', 'Italy'],\n",
    "                                    width=200,\n",
    "                                    onchange=onchange)\n",
    "sel.draw()"
   ]
  },
  {
   "cell_type": "code",
   "execution_count": null,
   "id": "9dfbfa8e",
   "metadata": {},
   "outputs": [],
   "source": [
    "sel.value = ['Italy', 'Belgium']\n",
    "print(sel.value)"
   ]
  },
  {
   "cell_type": "code",
   "execution_count": null,
   "id": "a08716a7",
   "metadata": {},
   "outputs": [],
   "source": []
  }
 ],
 "metadata": {
  "kernelspec": {
   "display_name": "Python 3 (ipykernel)",
   "language": "python",
   "name": "python3"
  },
  "language_info": {
   "codemirror_mode": {
    "name": "ipython",
    "version": 3
   },
   "file_extension": ".py",
   "mimetype": "text/x-python",
   "name": "python",
   "nbconvert_exporter": "python",
   "pygments_lexer": "ipython3",
   "version": "3.7.13"
  }
 },
 "nbformat": 4,
 "nbformat_minor": 5
}
