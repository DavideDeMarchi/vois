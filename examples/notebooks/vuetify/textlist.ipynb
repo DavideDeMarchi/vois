{
 "cells": [
  {
   "cell_type": "code",
   "execution_count": null,
   "id": "de91fc74",
   "metadata": {},
   "outputs": [],
   "source": [
    "from vois.vuetify import textlist\n",
    "from IPython.display import display\n",
    "\n",
    "t = textlist.textlist(['Name', 'Surname', 'Address', 'Role'],\n",
    "                      ['Davide', 'De Marchi', 'via Eduardo 34, Roccacannuccia (PE)', 'Software developer'],\n",
    "                      titlesbold=['Surname'],\n",
    "                      titlefontsize=14,\n",
    "                      textfontsize=16,\n",
    "                      titlecolumn=3,\n",
    "                      textcolumn=10,\n",
    "                      titlecolor='#003300',\n",
    "                      textcolor='#000000',\n",
    "                      lineheightfactor=1.4\n",
    "                     )\n",
    "\n",
    "# Set some attributes of the card widget\n",
    "t.card.class_    = 'pa-0 ma-4 ml-6 mr-8'\n",
    "t.card.flat      = False\n",
    "t.card.color     = '#e0ffe0'\n",
    "t.card.elevation = 8\n",
    "t.card.width     = '430px'\n",
    "\n",
    "display(t.draw())"
   ]
  },
  {
   "cell_type": "code",
   "execution_count": null,
   "id": "d93ae5e5",
   "metadata": {},
   "outputs": [],
   "source": []
  }
 ],
 "metadata": {
  "kernelspec": {
   "display_name": "Python 3 (ipykernel)",
   "language": "python",
   "name": "python3"
  },
  "language_info": {
   "codemirror_mode": {
    "name": "ipython",
    "version": 3
   },
   "file_extension": ".py",
   "mimetype": "text/x-python",
   "name": "python",
   "nbconvert_exporter": "python",
   "pygments_lexer": "ipython3",
   "version": "3.7.13"
  }
 },
 "nbformat": 4,
 "nbformat_minor": 5
}
