{
 "cells": [
  {
   "cell_type": "code",
   "execution_count": null,
   "id": "2a2c2020",
   "metadata": {},
   "outputs": [],
   "source": [
    "from vois.vuetify import card\n",
    "\n",
    "from ipywidgets import widgets\n",
    "from IPython.display import display\n",
    "\n",
    "output = widgets.Output()\n",
    "\n",
    "def on_click():\n",
    "    with output:\n",
    "        print('clicked!')\n",
    "\n",
    "subtitle = 'Lorem ipsum dolor sit amet, consectetur adipiscing elit, sed do eiusmod tempor incididunt ut labore et dolore magna aliqua. Ut enim ad minim veniam, quis nostrud exercitation ullamco laboris nisi...'\n",
    "\n",
    "c = card.card(elevation=5, width='600px', title='Sample dataset', subtitle=subtitle,\n",
    "              image='https://cdn.vuetifyjs.com/images/cards/halcyon.png', on_click=on_click)\n",
    "\n",
    "display(c)\n",
    "display(output)"
   ]
  },
  {
   "cell_type": "code",
   "execution_count": null,
   "id": "1256beef",
   "metadata": {},
   "outputs": [],
   "source": []
  }
 ],
 "metadata": {
  "kernelspec": {
   "display_name": "Python 3 (ipykernel)",
   "language": "python",
   "name": "python3"
  },
  "language_info": {
   "codemirror_mode": {
    "name": "ipython",
    "version": 3
   },
   "file_extension": ".py",
   "mimetype": "text/x-python",
   "name": "python",
   "nbconvert_exporter": "python",
   "pygments_lexer": "ipython3",
   "version": "3.7.13"
  }
 },
 "nbformat": 4,
 "nbformat_minor": 5
}
