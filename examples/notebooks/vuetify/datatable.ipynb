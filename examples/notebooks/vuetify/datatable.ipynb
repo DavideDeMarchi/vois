{
 "cells": [
  {
   "cell_type": "markdown",
   "id": "9c70d4b0",
   "metadata": {},
   "source": [
    "### Examples: datatable module"
   ]
  },
  {
   "cell_type": "code",
   "execution_count": null,
   "id": "ae15b86e",
   "metadata": {},
   "outputs": [],
   "source": [
    "# Creation of a Pandas DataFrame from the ‘Our World In Data’ dataset on Covid-19 daily data and display of last 100 days for Italy\n",
    "from vois.vuetify import datatable\n",
    "import pandas as pd\n",
    "from ipywidgets import widgets\n",
    "from IPython.display import display\n",
    "\n",
    "output = widgets.Output()\n",
    "\n",
    "df = pd.read_csv('https://raw.githubusercontent.com/owid/covid-19-data/master/public/data/owid-covid-data.csv')\n",
    "\n",
    "def on_click(data):\n",
    "    output.clear_output()\n",
    "    with output:\n",
    "        print(data)\n",
    "\n",
    "df = df[df['location']=='Italy']\n",
    "d = datatable.datatable(data=df.tail(100), height='500px', on_click=on_click)\n",
    "\n",
    "display(d)\n",
    "display(output)"
   ]
  },
  {
   "cell_type": "code",
   "execution_count": null,
   "id": "bad133fd",
   "metadata": {},
   "outputs": [],
   "source": []
  }
 ],
 "metadata": {
  "kernelspec": {
   "display_name": "Python 3 (ipykernel)",
   "language": "python",
   "name": "python3"
  },
  "language_info": {
   "codemirror_mode": {
    "name": "ipython",
    "version": 3
   },
   "file_extension": ".py",
   "mimetype": "text/x-python",
   "name": "python",
   "nbconvert_exporter": "python",
   "pygments_lexer": "ipython3",
   "version": "3.7.12"
  }
 },
 "nbformat": 4,
 "nbformat_minor": 5
}
