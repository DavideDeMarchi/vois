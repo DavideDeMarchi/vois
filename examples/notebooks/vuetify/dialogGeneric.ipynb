{
 "cells": [
  {
   "cell_type": "markdown",
   "id": "5f278128",
   "metadata": {},
   "source": [
    "### Examples: dialogGeneric module"
   ]
  },
  {
   "cell_type": "code",
   "execution_count": null,
   "id": "52d028b7",
   "metadata": {},
   "outputs": [],
   "source": [
    "from vois.vuetify import dialogGeneric, switch\n",
    "from ipywidgets import widgets\n",
    "from IPython.display import display\n",
    "\n",
    "output = widgets.Output()\n",
    "display(output)\n",
    "\n",
    "def on_s_change(value):\n",
    "    with output:\n",
    "        print(value)\n",
    "\n",
    "s = switch.switch(True, 'PNG format', onchange=on_s_change)\n",
    "\n",
    "dlg = dialogGeneric.dialogGeneric(title='Settings',\n",
    "                                  text='Please select the format for download:',\n",
    "                                  show=True, addclosebuttons=True, width=600,\n",
    "                                  fullscreen=False, content=[s.draw()], output=output)"
   ]
  },
  {
   "cell_type": "code",
   "execution_count": null,
   "id": "7d6d5a04",
   "metadata": {},
   "outputs": [],
   "source": [
    "dlg.close()"
   ]
  }
 ],
 "metadata": {
  "kernelspec": {
   "display_name": "Python 3 (ipykernel)",
   "language": "python",
   "name": "python3"
  },
  "language_info": {
   "codemirror_mode": {
    "name": "ipython",
    "version": 3
   },
   "file_extension": ".py",
   "mimetype": "text/x-python",
   "name": "python",
   "nbconvert_exporter": "python",
   "pygments_lexer": "ipython3",
   "version": "3.7.13"
  }
 },
 "nbformat": 4,
 "nbformat_minor": 5
}
