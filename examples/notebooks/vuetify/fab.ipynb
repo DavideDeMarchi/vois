{
 "cells": [
  {
   "cell_type": "markdown",
   "id": "9c6247dc",
   "metadata": {},
   "source": [
    "### Examples: fab module"
   ]
  },
  {
   "cell_type": "code",
   "execution_count": null,
   "id": "0b986e63",
   "metadata": {},
   "outputs": [],
   "source": [
    "from vois.vuetify import fab\n",
    "from ipywidgets import widgets\n",
    "from IPython.display import display\n",
    "\n",
    "output = widgets.Output()\n",
    "display(output)\n",
    "\n",
    "def on1():\n",
    "    with output:\n",
    "        print('selected 1')\n",
    "\n",
    "def on2():\n",
    "    with output:\n",
    "        print('selected 2')\n",
    "\n",
    "def on3():\n",
    "    with output:\n",
    "        print('selected 3')\n",
    "\n",
    "b1 = fab.fab(left='70%', top='150px',\n",
    "             items=['Option 1', 'Option 2', 'Option 3'],\n",
    "             tooltipitems=['Tooltip for Option 1'],\n",
    "             onclick=[on1,on2,on3], menumode=True,\n",
    "             width=180, selected=True,\n",
    "             dark=True, zindex=100, output=output)\n",
    "\n",
    "b2 = fab.fab(left='70%', top='250px',\n",
    "             items=['Option 1', 'Option 2', 'Option 3'],\n",
    "             tooltipitems=['Tooltip for Option 1'],\n",
    "             onclick=[on1,on2,on3], menumode=False,\n",
    "             width=180, selected=True,\n",
    "             dark=True, zindex=100, output=output)"
   ]
  },
  {
   "cell_type": "code",
   "execution_count": null,
   "id": "e77042c3",
   "metadata": {},
   "outputs": [],
   "source": [
    "b1.seticon('mdi-arrow-left-bold')\n",
    "b2.seticon('mdi-arrow-left',1)"
   ]
  },
  {
   "cell_type": "code",
   "execution_count": null,
   "id": "d6571fc1",
   "metadata": {},
   "outputs": [],
   "source": [
    "b1.show(False)\n",
    "b2.show(False)"
   ]
  },
  {
   "cell_type": "code",
   "execution_count": null,
   "id": "7286f7e7",
   "metadata": {},
   "outputs": [],
   "source": []
  }
 ],
 "metadata": {
  "kernelspec": {
   "display_name": "Python 3 (ipykernel)",
   "language": "python",
   "name": "python3"
  },
  "language_info": {
   "codemirror_mode": {
    "name": "ipython",
    "version": 3
   },
   "file_extension": ".py",
   "mimetype": "text/x-python",
   "name": "python",
   "nbconvert_exporter": "python",
   "pygments_lexer": "ipython3",
   "version": "3.7.12"
  }
 },
 "nbformat": 4,
 "nbformat_minor": 5
}
