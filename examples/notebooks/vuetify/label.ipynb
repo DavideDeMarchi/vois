{
 "cells": [
  {
   "cell_type": "markdown",
   "id": "a45ebf08",
   "metadata": {},
   "source": [
    "### Examples: label module"
   ]
  },
  {
   "cell_type": "code",
   "execution_count": null,
   "id": "e8671bd3",
   "metadata": {},
   "outputs": [],
   "source": [
    "# Creation and display of a label widget containing an icon\n",
    "from vois.vuetify import label\n",
    "\n",
    "lab = label.label('Test label', textweight=300, margins=2,\n",
    "                  icon='mdi-car-light-high', iconcolor='red',\n",
    "                  iconlarge=True, height=22)\n",
    "\n",
    "display(lab.draw())"
   ]
  },
  {
   "cell_type": "code",
   "execution_count": null,
   "id": "6e820f9c",
   "metadata": {},
   "outputs": [],
   "source": []
  }
 ],
 "metadata": {
  "kernelspec": {
   "display_name": "Python 3 (ipykernel)",
   "language": "python",
   "name": "python3"
  },
  "language_info": {
   "codemirror_mode": {
    "name": "ipython",
    "version": 3
   },
   "file_extension": ".py",
   "mimetype": "text/x-python",
   "name": "python",
   "nbconvert_exporter": "python",
   "pygments_lexer": "ipython3",
   "version": "3.7.12"
  }
 },
 "nbformat": 4,
 "nbformat_minor": 5
}
