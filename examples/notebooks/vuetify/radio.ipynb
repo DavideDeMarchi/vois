{
 "cells": [
  {
   "cell_type": "markdown",
   "id": "c372011d",
   "metadata": {},
   "source": [
    "### Examples: radio module"
   ]
  },
  {
   "cell_type": "code",
   "execution_count": null,
   "id": "56a5ffe4",
   "metadata": {},
   "outputs": [],
   "source": [
    "from vois.vuetify import radio\n",
    "from ipywidgets import widgets\n",
    "from IPython.display import display\n",
    "\n",
    "output = widgets.Output()\n",
    "\n",
    "def onchange(value):\n",
    "    with output:\n",
    "        print(value)\n",
    "\n",
    "r = radio.radio(0,\n",
    "                ['Option 0', 'Option 1', 'Option 2'],\n",
    "                tooltips=['Tooltip for Option 1'],\n",
    "                onchange=onchange,\n",
    "                row=True)\n",
    "\n",
    "display(r.draw())\n",
    "display(output)"
   ]
  },
  {
   "cell_type": "code",
   "execution_count": null,
   "id": "50661e0f",
   "metadata": {},
   "outputs": [],
   "source": []
  }
 ],
 "metadata": {
  "kernelspec": {
   "display_name": "Python 3 (ipykernel)",
   "language": "python",
   "name": "python3"
  },
  "language_info": {
   "codemirror_mode": {
    "name": "ipython",
    "version": 3
   },
   "file_extension": ".py",
   "mimetype": "text/x-python",
   "name": "python",
   "nbconvert_exporter": "python",
   "pygments_lexer": "ipython3",
   "version": "3.7.13"
  }
 },
 "nbformat": 4,
 "nbformat_minor": 5
}
