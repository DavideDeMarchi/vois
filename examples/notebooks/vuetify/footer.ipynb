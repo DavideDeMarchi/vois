{
 "cells": [
  {
   "cell_type": "markdown",
   "id": "e2f0285b",
   "metadata": {},
   "source": [
    "### Examples: footer module"
   ]
  },
  {
   "cell_type": "code",
   "execution_count": null,
   "id": "54587219",
   "metadata": {},
   "outputs": [],
   "source": [
    "# Creation and display of a footer bar\n",
    "from vois.vuetify import footer\n",
    "from ipywidgets import widgets\n",
    "from IPython.display import display\n",
    "\n",
    "output = widgets.Output()\n",
    "display(output)\n",
    "\n",
    "def onclick(arg):\n",
    "    with output:\n",
    "        print(arg)\n",
    "\n",
    "def onclickminipanel(index):\n",
    "    with output:\n",
    "        print(index)\n",
    "\n",
    "def onclickcredits():\n",
    "    with output:\n",
    "        print('CREDITS')\n",
    "\n",
    "f = footer.footer(text='2022 - Joint Research Centre', color='lightgrey',\n",
    "                  minipanelicons=['fa-truck', 'mdi-heart', 'mdi-magnify'],\n",
    "                  minipaneltooltips=['Function 1', 'Function 2', 'Function 3'],\n",
    "                  minipanellarge=True, minipanelopen=True,\n",
    "                  onclickminipanel=onclickminipanel,\n",
    "                  footercredits='Data credits',\n",
    "                  footercreditstooltip='Eurostat - European Commission',\n",
    "                  onclickcredits=onclickcredits,\n",
    "                  buttons=['Home', 'About Us', 'Services', 'Contact Us'],\n",
    "                  height=68, marginy=2,\n",
    "                  onclick=onclick,\n",
    "                  output=output)"
   ]
  },
  {
   "cell_type": "code",
   "execution_count": null,
   "id": "f8fd408e",
   "metadata": {},
   "outputs": [],
   "source": []
  }
 ],
 "metadata": {
  "kernelspec": {
   "display_name": "Python 3 (ipykernel)",
   "language": "python",
   "name": "python3"
  },
  "language_info": {
   "codemirror_mode": {
    "name": "ipython",
    "version": 3
   },
   "file_extension": ".py",
   "mimetype": "text/x-python",
   "name": "python",
   "nbconvert_exporter": "python",
   "pygments_lexer": "ipython3",
   "version": "3.7.12"
  }
 },
 "nbformat": 4,
 "nbformat_minor": 5
}
