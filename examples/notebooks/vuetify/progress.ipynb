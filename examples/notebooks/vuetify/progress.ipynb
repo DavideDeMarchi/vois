{
 "cells": [
  {
   "cell_type": "markdown",
   "id": "26bc3885",
   "metadata": {},
   "source": [
    "### Examples: progress module"
   ]
  },
  {
   "cell_type": "code",
   "execution_count": null,
   "id": "63ace5fd",
   "metadata": {},
   "outputs": [],
   "source": [
    "# Creation and display of a progress widget\n",
    "from vois.vuetify import progress\n",
    "from ipywidgets import widgets, Layout\n",
    "from IPython.display import display\n",
    "\n",
    "outputheight = 500\n",
    "output = widgets.Output(layout=Layout(width='99%', height='%dpx' % (outputheight+10)))\n",
    "display(output)\n",
    "\n",
    "p = progress.progress(output, text='Please, wait...',\n",
    "                      size=200, width=20,\n",
    "                      show=True, outputheight=outputheight)"
   ]
  },
  {
   "cell_type": "code",
   "execution_count": null,
   "id": "38bcdabf",
   "metadata": {},
   "outputs": [],
   "source": [
    "p.close()"
   ]
  },
  {
   "cell_type": "code",
   "execution_count": null,
   "id": "ca184702",
   "metadata": {},
   "outputs": [],
   "source": []
  }
 ],
 "metadata": {
  "kernelspec": {
   "display_name": "Python 3 (ipykernel)",
   "language": "python",
   "name": "python3"
  },
  "language_info": {
   "codemirror_mode": {
    "name": "ipython",
    "version": 3
   },
   "file_extension": ".py",
   "mimetype": "text/x-python",
   "name": "python",
   "nbconvert_exporter": "python",
   "pygments_lexer": "ipython3",
   "version": "3.7.13"
  }
 },
 "nbformat": 4,
 "nbformat_minor": 5
}
