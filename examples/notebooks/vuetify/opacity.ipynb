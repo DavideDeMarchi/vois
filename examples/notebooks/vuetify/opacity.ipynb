{
 "cells": [
  {
   "cell_type": "code",
   "execution_count": null,
   "id": "5d22353f",
   "metadata": {},
   "outputs": [],
   "source": [
    "from ipywidgets import widgets\n",
    "from IPython.display import display\n",
    "\n",
    "from vois.vuetify import opacity\n",
    "\n",
    "output = widgets.Output()\n",
    "\n",
    "def onchange(value):\n",
    "    with output:\n",
    "        print(value)\n",
    "\n",
    "o = opacity.opacity(0.8, text='Fill opacity:', onchange=onchange)\n",
    "\n",
    "display(o.draw())\n",
    "display(output)"
   ]
  },
  {
   "cell_type": "code",
   "execution_count": null,
   "id": "221f2ca8",
   "metadata": {},
   "outputs": [],
   "source": [
    "o.value = 0.35"
   ]
  },
  {
   "cell_type": "code",
   "execution_count": null,
   "id": "366e8e4f",
   "metadata": {},
   "outputs": [],
   "source": []
  }
 ],
 "metadata": {
  "kernelspec": {
   "display_name": "Python 3 (ipykernel)",
   "language": "python",
   "name": "python3"
  },
  "language_info": {
   "codemirror_mode": {
    "name": "ipython",
    "version": 3
   },
   "file_extension": ".py",
   "mimetype": "text/x-python",
   "name": "python",
   "nbconvert_exporter": "python",
   "pygments_lexer": "ipython3",
   "version": "3.7.13"
  }
 },
 "nbformat": 4,
 "nbformat_minor": 5
}
