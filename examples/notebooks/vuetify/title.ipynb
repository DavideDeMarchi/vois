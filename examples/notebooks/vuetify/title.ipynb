{
 "cells": [
  {
   "cell_type": "markdown",
   "id": "4a8c9ff3",
   "metadata": {},
   "source": [
    "### Examples: title module"
   ]
  },
  {
   "cell_type": "code",
   "execution_count": null,
   "id": "c44511ae",
   "metadata": {},
   "outputs": [],
   "source": [
    "# Creation and display of a title bar with additional buttons and left menu icon\n",
    "from vois.vuetify import title\n",
    "from ipywidgets import widgets\n",
    "from IPython.display import display\n",
    "\n",
    "output = widgets.Output()\n",
    "display(output)\n",
    "\n",
    "def onclick(arg):\n",
    "    with output:\n",
    "        print(arg)\n",
    "\n",
    "def onmenu():\n",
    "    with output:\n",
    "        print('MENU')\n",
    "\n",
    "f = title.title(text='Title text to display', color='amber',\n",
    "                menu=True, onmenuclick=onmenu,\n",
    "                buttons=['Home', 'About Us', 'Team', 'Services', 'Blog', 'Contact Us'],\n",
    "                logo='https://jeodpp.jrc.ec.europa.eu/services/shared/home/images/JRCBigDataPlatform2.png',\n",
    "                logomarginy=6, menumarginy=4,\n",
    "                height=80, onclick=onclick, output=output)"
   ]
  },
  {
   "cell_type": "code",
   "execution_count": null,
   "id": "8401176f",
   "metadata": {},
   "outputs": [],
   "source": []
  }
 ],
 "metadata": {
  "kernelspec": {
   "display_name": "Python 3 (ipykernel)",
   "language": "python",
   "name": "python3"
  },
  "language_info": {
   "codemirror_mode": {
    "name": "ipython",
    "version": 3
   },
   "file_extension": ".py",
   "mimetype": "text/x-python",
   "name": "python",
   "nbconvert_exporter": "python",
   "pygments_lexer": "ipython3",
   "version": "3.7.13"
  }
 },
 "nbformat": 4,
 "nbformat_minor": 5
}
