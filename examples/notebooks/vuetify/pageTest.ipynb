{
 "cells": [
  {
   "cell_type": "code",
   "execution_count": 1,
   "id": "2a0aad6a",
   "metadata": {},
   "outputs": [
    {
     "data": {
      "application/vnd.jupyter.widget-view+json": {
       "model_id": "77d957db35234e70b83ccb67365edbef",
       "version_major": 2,
       "version_minor": 0
      },
      "text/plain": [
       "Output()"
      ]
     },
     "metadata": {},
     "output_type": "display_data"
    }
   ],
   "source": [
    "from ipywidgets import widgets\n",
    "from vois.vuetify import page\n",
    "\n",
    "output = widgets.Output()\n",
    "display(output)\n",
    "\n",
    "def onclose():\n",
    "    pass\n",
    "        \n",
    "def on_click():\n",
    "    pass\n",
    "\n",
    "p = page.page('Application XYZ', 'Map page', output, onclose=onclose,\n",
    "              titlecolor='#008800', titledark=True, footercolor='#cccccc', footerdark=False,\n",
    "              logoappurl='https://jeodpp.jrc.ec.europa.eu/services/shared/pngs/BDAP_Logo1024transparent.png',\n",
    "              on_logoapp=on_click, copyrighttext='European Commission - Joint Research Centre',\n",
    "              show_back=True, show_help=True, on_help=on_click, show_credits=True, on_credits=on_click)\n",
    "\n",
    "card = p.create()\n",
    "card.children = []\n",
    "p.open()"
   ]
  },
  {
   "cell_type": "code",
   "execution_count": null,
   "id": "220dda95",
   "metadata": {},
   "outputs": [],
   "source": []
  }
 ],
 "metadata": {
  "kernelspec": {
   "display_name": "Python 3 (ipykernel)",
   "language": "python",
   "name": "python3"
  },
  "language_info": {
   "codemirror_mode": {
    "name": "ipython",
    "version": 3
   },
   "file_extension": ".py",
   "mimetype": "text/x-python",
   "name": "python",
   "nbconvert_exporter": "python",
   "pygments_lexer": "ipython3",
   "version": "3.7.13"
  }
 },
 "nbformat": 4,
 "nbformat_minor": 5
}
