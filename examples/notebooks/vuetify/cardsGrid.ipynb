{
 "cells": [
  {
   "cell_type": "code",
   "execution_count": null,
   "id": "6a7f0448",
   "metadata": {},
   "outputs": [],
   "source": [
    "from vois.vuetify import cardsGrid\n",
    "\n",
    "from ipywidgets import widgets\n",
    "from IPython.display import display\n",
    "\n",
    "output = widgets.Output()\n",
    "\n",
    "def on_click(index):\n",
    "    with output:\n",
    "        print(index)\n",
    "\n",
    "subtitle = 'Lorem ipsum dolor sit amet, consectetur adipiscing elit, sed do eiusmod tempor incididunt ut labore et dolore magna aliqua. Ut enim ad minim veniam, quis nostrud exercitation ullamco laboris nisi...'\n",
    "\n",
    "cards = [\n",
    "   { \"title\": \"title0\", \"subtitle\": \"subtitle0\", \"image\": \"https://cdn.vuetifyjs.com/images/cards/sunshine.jpg\"},\n",
    "   { \"title\": \"title1\", \"subtitle\": \"subtitle1\", \"image\": \"https://cdn.vuetifyjs.com/images/cards/road.jpg\" },\n",
    "   { \"title\": \"title2\", \"subtitle\": \"subtitle2\", \"image\": \"https://cdn.vuetifyjs.com/images/cards/plane.jpg\" },\n",
    "   { \"title\": \"title3\", \"subtitle\": \"subtitle3\", \"image\": \"https://cdn.vuetifyjs.com/images/cards/house.jpg\" }\n",
    "]\n",
    "\n",
    "g = cardsGrid.cardsGrid(cards=cards, cols=6, width='550px', imagesize='200px', on_click=on_click)\n",
    "\n",
    "display(g)\n",
    "display(output)\n"
   ]
  },
  {
   "cell_type": "code",
   "execution_count": null,
   "id": "e3166634",
   "metadata": {},
   "outputs": [],
   "source": []
  }
 ],
 "metadata": {
  "kernelspec": {
   "display_name": "Python 3 (ipykernel)",
   "language": "python",
   "name": "python3"
  },
  "language_info": {
   "codemirror_mode": {
    "name": "ipython",
    "version": 3
   },
   "file_extension": ".py",
   "mimetype": "text/x-python",
   "name": "python",
   "nbconvert_exporter": "python",
   "pygments_lexer": "ipython3",
   "version": "3.7.13"
  }
 },
 "nbformat": 4,
 "nbformat_minor": 5
}
