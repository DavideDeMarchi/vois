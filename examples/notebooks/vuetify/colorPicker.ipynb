{
 "cells": [
  {
   "cell_type": "code",
   "execution_count": null,
   "id": "3a948065",
   "metadata": {},
   "outputs": [],
   "source": [
    "from vois.vuetify import colorPicker\n",
    "\n",
    "from ipywidgets import widgets\n",
    "from IPython.display import display\n",
    "\n",
    "output = widgets.Output()\n",
    "\n",
    "def onchange():\n",
    "    with output:\n",
    "        print('Changed to', c.color)\n",
    "\n",
    "c = colorPicker.colorPicker(color='#00aaff',\n",
    "                            width=30, height=30,\n",
    "                            rounded=False,\n",
    "                            onchange=onchange,\n",
    "                            offset_x=True,\n",
    "                            offset_y=False)\n",
    "\n",
    "display(c.draw())\n",
    "display(output)"
   ]
  },
  {
   "cell_type": "code",
   "execution_count": null,
   "id": "6dadc743",
   "metadata": {},
   "outputs": [],
   "source": [
    "c.color = '#00ff88'"
   ]
  },
  {
   "cell_type": "code",
   "execution_count": null,
   "id": "6de119fe",
   "metadata": {},
   "outputs": [],
   "source": []
  }
 ],
 "metadata": {
  "kernelspec": {
   "display_name": "Python 3 (ipykernel)",
   "language": "python",
   "name": "python3"
  },
  "language_info": {
   "codemirror_mode": {
    "name": "ipython",
    "version": 3
   },
   "file_extension": ".py",
   "mimetype": "text/x-python",
   "name": "python",
   "nbconvert_exporter": "python",
   "pygments_lexer": "ipython3",
   "version": "3.7.13"
  }
 },
 "nbformat": 4,
 "nbformat_minor": 5
}
