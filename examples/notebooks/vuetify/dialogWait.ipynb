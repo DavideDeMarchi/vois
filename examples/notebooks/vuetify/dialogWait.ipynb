{
 "cells": [
  {
   "cell_type": "markdown",
   "id": "461ba302",
   "metadata": {},
   "source": [
    "### Examples: dialogWait module"
   ]
  },
  {
   "cell_type": "code",
   "execution_count": null,
   "id": "46292f48",
   "metadata": {},
   "outputs": [],
   "source": [
    "# Creation and display of dialogWait during a lenghty operation\n",
    "from vois.vuetify import dialogWait\n",
    "from ipywidgets import widgets\n",
    "from IPython.display import display\n",
    "\n",
    "output = widgets.Output()\n",
    "display(output)\n",
    "\n",
    "dlg = dialogWait.dialogWait(text='Please wait for processing to terminate...',\n",
    "                            output=output)"
   ]
  },
  {
   "cell_type": "code",
   "execution_count": null,
   "id": "b758f1f2",
   "metadata": {},
   "outputs": [],
   "source": [
    "dlg.close()"
   ]
  },
  {
   "cell_type": "code",
   "execution_count": null,
   "id": "1b2d9dc6",
   "metadata": {},
   "outputs": [],
   "source": []
  }
 ],
 "metadata": {
  "kernelspec": {
   "display_name": "Python 3 (ipykernel)",
   "language": "python",
   "name": "python3"
  },
  "language_info": {
   "codemirror_mode": {
    "name": "ipython",
    "version": 3
   },
   "file_extension": ".py",
   "mimetype": "text/x-python",
   "name": "python",
   "nbconvert_exporter": "python",
   "pygments_lexer": "ipython3",
   "version": "3.7.13"
  }
 },
 "nbformat": 4,
 "nbformat_minor": 5
}
