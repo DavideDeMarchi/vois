{
 "cells": [
  {
   "cell_type": "markdown",
   "id": "7c3eed1e",
   "metadata": {},
   "source": [
    "### Examples: dialogYesNo module"
   ]
  },
  {
   "cell_type": "code",
   "execution_count": null,
   "id": "9fcd69f5",
   "metadata": {},
   "outputs": [],
   "source": [
    "# Creation and display of a Yes-No dialog box\n",
    "from vois.vuetify import dialogYesNo\n",
    "from ipywidgets import widgets\n",
    "from IPython.display import display\n",
    "\n",
    "output = widgets.Output()\n",
    "display(output)\n",
    "\n",
    "def on_yes():\n",
    "    with output:\n",
    "        print('YES')\n",
    "\n",
    "def on_no():\n",
    "    with output:\n",
    "        print('NO')\n",
    "\n",
    "dlg = dialogYesNo.dialogYesNo(title='Question',\n",
    "                              text='Confirm removal of the selected file?',\n",
    "                              titleheight=40, width=400, output=output,\n",
    "                              show=True, transition='dialog-bottom-transition',\n",
    "                              on_yes=on_yes, on_no=on_no)"
   ]
  },
  {
   "cell_type": "code",
   "execution_count": null,
   "id": "b0674f74",
   "metadata": {},
   "outputs": [],
   "source": []
  }
 ],
 "metadata": {
  "kernelspec": {
   "display_name": "Python 3 (ipykernel)",
   "language": "python",
   "name": "python3"
  },
  "language_info": {
   "codemirror_mode": {
    "name": "ipython",
    "version": 3
   },
   "file_extension": ".py",
   "mimetype": "text/x-python",
   "name": "python",
   "nbconvert_exporter": "python",
   "pygments_lexer": "ipython3",
   "version": "3.7.12"
  }
 },
 "nbformat": 4,
 "nbformat_minor": 5
}
