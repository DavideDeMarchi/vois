{
 "cells": [
  {
   "cell_type": "markdown",
   "id": "0d47ae2a",
   "metadata": {},
   "source": [
    "### Examples: upload module"
   ]
  },
  {
   "cell_type": "code",
   "execution_count": null,
   "id": "b4df32de",
   "metadata": {},
   "outputs": [],
   "source": [
    "# Creation and display of a widget for the upload of images\n",
    "from vois.vuetify import upload\n",
    "from IPython.display import display\n",
    "from ipywidgets import widgets\n",
    "from PIL import Image\n",
    "\n",
    "output = widgets.Output()\n",
    "\n",
    "def on_file_upload(files):\n",
    "    # If at least one file has been selected      \n",
    "    if len(files) > 0:\n",
    "        output.clear_output()\n",
    "        for f in files:\n",
    "            image = Image.open(f['file_obj'])\n",
    "            with output:\n",
    "                display(image)\n",
    "\n",
    "    # No files selected\n",
    "    else:\n",
    "        output.clear_output()\n",
    "\n",
    "u = upload.upload(accept=\"image/png, image/jpeg, image/bmp\",\n",
    "                  multiple=True, show_progress=True, \n",
    "                  onchange=on_file_upload,\n",
    "                  label='Images',\n",
    "                  placeholder='Click to select images to upload')\n",
    "display(u.draw())\n",
    "display(output)"
   ]
  },
  {
   "cell_type": "code",
   "execution_count": null,
   "id": "f49ec56a",
   "metadata": {},
   "outputs": [],
   "source": [
    "u.clear()"
   ]
  },
  {
   "cell_type": "code",
   "execution_count": null,
   "id": "d0a5a200",
   "metadata": {},
   "outputs": [],
   "source": []
  }
 ],
 "metadata": {
  "kernelspec": {
   "display_name": "Python 3 (ipykernel)",
   "language": "python",
   "name": "python3"
  },
  "language_info": {
   "codemirror_mode": {
    "name": "ipython",
    "version": 3
   },
   "file_extension": ".py",
   "mimetype": "text/x-python",
   "name": "python",
   "nbconvert_exporter": "python",
   "pygments_lexer": "ipython3",
   "version": "3.7.13"
  }
 },
 "nbformat": 4,
 "nbformat_minor": 5
}
