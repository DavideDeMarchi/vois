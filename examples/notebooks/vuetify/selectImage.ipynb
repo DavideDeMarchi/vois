{
 "cells": [
  {
   "cell_type": "code",
   "execution_count": null,
   "id": "fc361ddb",
   "metadata": {},
   "outputs": [],
   "source": [
    "from vois.vuetify import selectImage\n",
    "from ipywidgets import widgets\n",
    "from IPython.display import display\n",
    "\n",
    "output = widgets.Output()\n",
    "\n",
    "def onchange():\n",
    "    with output:\n",
    "        print(s.value)\n",
    "\n",
    "        \n",
    "images = [\n",
    "      { \"name\": 'Image 0', \"image\": 'https://cdn.vuetifyjs.com/images/cards/plane.jpg',  \"max_width\": 200,  \"max_height\": 300 },\n",
    "      { \"name\": 'Image 1', \"image\": 'https://cdn.vuetifyjs.com/images/cards/house.jpg'},\n",
    "      { \"name\": 'Image 2', \"image\": 'https://cdn.vuetifyjs.com/images/cards/road.jpg'},\n",
    "      { \"name\": 'Image 3', \"image\": 'https://cdn.vuetifyjs.com/images/cards/sunshine.jpg'}\n",
    "]\n",
    "\n",
    "s = selectImage.selectImage(images=images, selection=1, onchange=onchange, \n",
    "                            label='Please select an image from the list', \n",
    "                            outlined=False, clearable=True, margins=\"ma-1\")\n",
    "\n",
    "display(s)\n",
    "display(output)"
   ]
  },
  {
   "cell_type": "code",
   "execution_count": null,
   "id": "aef60864",
   "metadata": {},
   "outputs": [],
   "source": [
    "s.value = -1"
   ]
  },
  {
   "cell_type": "code",
   "execution_count": null,
   "id": "85b79e8d",
   "metadata": {},
   "outputs": [],
   "source": []
  }
 ],
 "metadata": {
  "kernelspec": {
   "display_name": "Python 3 (ipykernel)",
   "language": "python",
   "name": "python3"
  },
  "language_info": {
   "codemirror_mode": {
    "name": "ipython",
    "version": 3
   },
   "file_extension": ".py",
   "mimetype": "text/x-python",
   "name": "python",
   "nbconvert_exporter": "python",
   "pygments_lexer": "ipython3",
   "version": "3.7.13"
  }
 },
 "nbformat": 4,
 "nbformat_minor": 5
}
