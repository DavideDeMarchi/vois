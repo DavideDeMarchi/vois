{
 "cells": [
  {
   "cell_type": "markdown",
   "id": "1e3f9a1e",
   "metadata": {},
   "source": [
    "### Examples: selectSingle module"
   ]
  },
  {
   "cell_type": "code",
   "execution_count": null,
   "id": "ef4212d9",
   "metadata": {},
   "outputs": [],
   "source": [
    "# Creation and display of a single select widget for the selection of a country\n",
    "from vois.vuetify import selectSingle\n",
    "from ipywidgets import widgets\n",
    "from IPython.display import display\n",
    "\n",
    "output = widgets.Output()\n",
    "display(output)\n",
    "\n",
    "def onchange():\n",
    "    with output:\n",
    "        print(sel.value)\n",
    "\n",
    "sel = selectSingle.selectSingle('Country:',\n",
    "                                ['Belgium', 'France', 'Italy', 'Germany'],\n",
    "                                selection='France',\n",
    "                                width=200,\n",
    "                                onchange=onchange)\n",
    "sel.draw()"
   ]
  },
  {
   "cell_type": "code",
   "execution_count": null,
   "id": "41f7a45f",
   "metadata": {},
   "outputs": [],
   "source": [
    "sel.value = 'Italy'\n",
    "print(sel.value)"
   ]
  },
  {
   "cell_type": "code",
   "execution_count": null,
   "id": "dc52caf1",
   "metadata": {},
   "outputs": [],
   "source": []
  }
 ],
 "metadata": {
  "kernelspec": {
   "display_name": "Python 3 (ipykernel)",
   "language": "python",
   "name": "python3"
  },
  "language_info": {
   "codemirror_mode": {
    "name": "ipython",
    "version": 3
   },
   "file_extension": ".py",
   "mimetype": "text/x-python",
   "name": "python",
   "nbconvert_exporter": "python",
   "pygments_lexer": "ipython3",
   "version": "3.7.13"
  }
 },
 "nbformat": 4,
 "nbformat_minor": 5
}
