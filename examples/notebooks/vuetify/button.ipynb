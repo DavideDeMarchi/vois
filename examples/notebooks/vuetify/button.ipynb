{
 "cells": [
  {
   "cell_type": "markdown",
   "id": "1b1e8ec2",
   "metadata": {},
   "source": [
    "### Examples: button module"
   ]
  },
  {
   "cell_type": "code",
   "execution_count": null,
   "id": "9e751aea",
   "metadata": {},
   "outputs": [],
   "source": [
    "# Creation and display of a some button widgets playing with the parameters\n",
    "from vois.vuetify import settings, button\n",
    "\n",
    "def onclick(arg=None):\n",
    "    if arg==1: b1.selected = not b1.selected\n",
    "    if arg==2: b2.selected = not b2.selected\n",
    "    else:      b3.selected = not b3.selected\n",
    "\n",
    "b1 = button.button('Test button 1', textweight=300, onclick=onclick, argument=1,\n",
    "                   width=150, height=36,\n",
    "                   tooltip='Tooltip for button 1', selected=False, rounded=True,\n",
    "                   icon='mdi-car-light-high', iconcolor='black')\n",
    "\n",
    "b2 = button.button('Test button 2', textweight=450, onclick=onclick, argument=2,\n",
    "                   width=150, height=48,\n",
    "                   tooltip='Tooltip for button 2', selected=True, rounded=False)\n",
    "\n",
    "b3 = button.button('Test button 3', textweight=450, onclick=onclick, argument=3,\n",
    "                   width=150, height=38,\n",
    "                   textcolor=settings.color_first,\n",
    "                   tooltip='Tooltip for button 3', outlined=True, rounded=True)\n",
    "\n",
    "b4 = button.button('Contacts', onlytext=True, textcolor=settings.color_first,\n",
    "                   width=150, height=28,\n",
    "                   href='https://ec.europa.eu/info/contact_en', target=\"_blank\",\n",
    "                   tooltip='Open a URL')\n",
    "\n",
    "display(b1.draw())\n",
    "display(b2.draw())\n",
    "display(b3.draw())\n",
    "display(b4.draw())"
   ]
  },
  {
   "cell_type": "code",
   "execution_count": null,
   "id": "913b9919",
   "metadata": {},
   "outputs": [],
   "source": [
    "from vois.vuetify import settings, button\n",
    "settings.button_rounded = True\n",
    "\n",
    "import importlib\n",
    "importlib.reload(button)\n",
    "\n",
    "b = button.button('Round button', width=200, selected=True)\n",
    "display(b.draw())"
   ]
  },
  {
   "cell_type": "code",
   "execution_count": null,
   "id": "7912ed9b",
   "metadata": {},
   "outputs": [],
   "source": [
    "from vois.vuetify import settings, button\n",
    "settings.button_rounded = False\n",
    "\n",
    "import importlib\n",
    "importlib.reload(button)\n",
    "\n",
    "b = button.button('Squared button', width=200, selected=True)\n",
    "display(b.draw())"
   ]
  },
  {
   "cell_type": "code",
   "execution_count": null,
   "id": "151d6a51",
   "metadata": {},
   "outputs": [],
   "source": [
    "from vois.vuetify import settings, button\n",
    "\n",
    "b = button.button('Test button', textweight=450, width=250, height=46,\n",
    "                  selected=True, rounded=True)\n",
    "display(b.draw())\n",
    "b.setText('New button text')"
   ]
  }
 ],
 "metadata": {
  "kernelspec": {
   "display_name": "Python 3 (ipykernel)",
   "language": "python",
   "name": "python3"
  },
  "language_info": {
   "codemirror_mode": {
    "name": "ipython",
    "version": 3
   },
   "file_extension": ".py",
   "mimetype": "text/x-python",
   "name": "python",
   "nbconvert_exporter": "python",
   "pygments_lexer": "ipython3",
   "version": "3.7.13"
  }
 },
 "nbformat": 4,
 "nbformat_minor": 5
}
