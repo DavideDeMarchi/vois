{
 "cells": [
  {
   "cell_type": "code",
   "execution_count": null,
   "id": "fa189ee6",
   "metadata": {},
   "outputs": [],
   "source": [
    "from vois.vuetify import datePicker\n",
    "\n",
    "from ipywidgets import widgets\n",
    "from IPython.display import display\n",
    "\n",
    "output = widgets.Output()\n",
    "\n",
    "def onchange():\n",
    "    with output:\n",
    "        print('Changed to', d.date)\n",
    "\n",
    "d = datePicker.datePicker(date=None, label='Start date', \n",
    "                          offset_x=True, offset_y=False,\n",
    "                          onchange=onchange)\n",
    "\n",
    "display(d.draw())\n",
    "display(output)"
   ]
  },
  {
   "cell_type": "code",
   "execution_count": null,
   "id": "af6e9012",
   "metadata": {},
   "outputs": [],
   "source": [
    "d.date = '2021-12-11'"
   ]
  },
  {
   "cell_type": "code",
   "execution_count": null,
   "id": "e13f129c",
   "metadata": {},
   "outputs": [],
   "source": []
  }
 ],
 "metadata": {
  "kernelspec": {
   "display_name": "Python 3 (ipykernel)",
   "language": "python",
   "name": "python3"
  },
  "language_info": {
   "codemirror_mode": {
    "name": "ipython",
    "version": 3
   },
   "file_extension": ".py",
   "mimetype": "text/x-python",
   "name": "python",
   "nbconvert_exporter": "python",
   "pygments_lexer": "ipython3",
   "version": "3.7.12"
  }
 },
 "nbformat": 4,
 "nbformat_minor": 5
}
