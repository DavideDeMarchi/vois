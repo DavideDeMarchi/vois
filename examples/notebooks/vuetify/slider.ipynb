{
 "cells": [
  {
   "cell_type": "markdown",
   "id": "6e30eba8",
   "metadata": {},
   "source": [
    "### Examples: slider module"
   ]
  },
  {
   "cell_type": "code",
   "execution_count": null,
   "id": "3ff77f7d",
   "metadata": {},
   "outputs": [],
   "source": [
    "# Creation and display of a slider widget\n",
    "from vois.vuetify import slider\n",
    "from ipywidgets import widgets\n",
    "from IPython.display import display\n",
    "\n",
    "output = widgets.Output()\n",
    "display(output)\n",
    "\n",
    "def onchange(value):\n",
    "    with output:\n",
    "        print(value)\n",
    "\n",
    "s = slider.slider(2015, 2010,2021, onchange=onchange)\n",
    "display(s.draw())"
   ]
  },
  {
   "cell_type": "code",
   "execution_count": null,
   "id": "e56db6d3",
   "metadata": {},
   "outputs": [],
   "source": [
    "s.value = 2012\n",
    "print(s.value)"
   ]
  },
  {
   "cell_type": "code",
   "execution_count": null,
   "id": "695dc976",
   "metadata": {},
   "outputs": [],
   "source": []
  }
 ],
 "metadata": {
  "kernelspec": {
   "display_name": "Python 3 (ipykernel)",
   "language": "python",
   "name": "python3"
  },
  "language_info": {
   "codemirror_mode": {
    "name": "ipython",
    "version": 3
   },
   "file_extension": ".py",
   "mimetype": "text/x-python",
   "name": "python",
   "nbconvert_exporter": "python",
   "pygments_lexer": "ipython3",
   "version": "3.7.12"
  }
 },
 "nbformat": 4,
 "nbformat_minor": 5
}
