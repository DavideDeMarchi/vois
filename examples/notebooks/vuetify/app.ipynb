{
 "cells": [
  {
   "cell_type": "markdown",
   "id": "ba6bcad0",
   "metadata": {},
   "source": [
    "### Examples: app module"
   ]
  },
  {
   "cell_type": "code",
   "execution_count": null,
   "id": "dd42e2d0",
   "metadata": {},
   "outputs": [],
   "source": [
    "# Creation of an app class to define the structure of a Voilà dashboard:\n",
    "from vois.vuetify import app, settings, switch\n",
    "import ipyvuetify as v\n",
    "\n",
    "# Change global settings\n",
    "settings.dark_mode      = False\n",
    "settings.color_second   = '#68aad2'\n",
    "settings.color_first    = '#1c4056'\n",
    "settings.button_rounded = False\n",
    "\n",
    "# Click on a tab of the title\n",
    "def on_click_tab(arg):\n",
    "    g_app.snackbar(arg)\n",
    "\n",
    "# Click on the credits text\n",
    "def on_click_credits():\n",
    "    g_app.snackbar('CREDITS')\n",
    "\n",
    "# Click on the logo\n",
    "def on_click_logo():\n",
    "    g_app.snackbar('LOGO')\n",
    "\n",
    "# Click on the footer buttons\n",
    "def on_click_footer(arg):\n",
    "    g_app.snackbar(arg)\n",
    "\n",
    "# Click on the footer minipanel\n",
    "def on_click_minipanel(index):\n",
    "    g_app.snackbar(str(index))\n",
    "\n",
    "g_app = app.app(title='Energy consumption example dashboard',\n",
    "                titlecredits='Created by Unit I.3',\n",
    "                titlewidth='60%',\n",
    "                footercolor='#1c4056',\n",
    "                titletabs=['Chart', 'Table', 'Static Map', 'Dynamic Map'],\n",
    "                titletabscolor='#60b3e8',\n",
    "                dark=True,\n",
    "                footerdark=True,\n",
    "                footercredits='Data credits',\n",
    "                footercreditstooltip='Eurostat - European Commission',\n",
    "                footercreditsurl='https://ec.europa.eu/eurostat/data/database',\n",
    "                backcolor='#1c4056',\n",
    "                sidepaneltitle='Help',\n",
    "                sidepaneltext='Lorem ipsum dolor sit amet, consectetur adipiscing elit, sed do eiusmod tempor incididunt ut labore et dolore magna aliqua. Ut enim ad minim veniam, quis nostrud exercitation ullamco laboris nisi ut aliquip ex ea commodo consequat. Duis aute irure dolor in reprehenderit in voluptate velit esse cillum dolore eu fugiat nulla pariatur. Excepteur sint occaecat cupidatat non proident, sunt in culpa qui officia deserunt mollit anim id est laborum.',\n",
    "                sidepanelcontent=[v.Icon(class_='pa-0 ma-0 ml-2', children=['mdi-help'])],\n",
    "                sidepaneldark=True,\n",
    "                sidepanelbackdark=False,\n",
    "                minipanelicons=['mdi-chart-bar', 'mdi-table-large',\n",
    "                                'mdi-map-legend', 'mdi-file-chart-outline'],\n",
    "                minipaneltooltips=['Download Chart', 'Download Table',\n",
    "                                   'Download Map', 'Generate Report in Word'],\n",
    "                minipanelbuttoncolor='white',\n",
    "                onclickminipanel=on_click_minipanel,\n",
    "                onclicktab=on_click_tab,\n",
    "                onclickcredits=on_click_credits,\n",
    "                onclicklogo=on_click_logo,\n",
    "                onclickfooter=on_click_footer)\n",
    "\n",
    "g_app.show()"
   ]
  },
  {
   "cell_type": "code",
   "execution_count": null,
   "id": "1d90be0f",
   "metadata": {},
   "outputs": [],
   "source": [
    "# Highlight the g_app.outcontent Output widget\n",
    "g_app.outcontent.layout.border = '1px solid lightgrey'"
   ]
  },
  {
   "cell_type": "code",
   "execution_count": null,
   "id": "b0010925",
   "metadata": {},
   "outputs": [],
   "source": [
    "g_app.outcontent.layout.border = ''"
   ]
  },
  {
   "cell_type": "markdown",
   "id": "8ad6a5cb",
   "metadata": {},
   "source": [
    "#### Examples of communication with the users through the app instance (using the internal g_app.outdialogs Output widget!)"
   ]
  },
  {
   "cell_type": "code",
   "execution_count": null,
   "id": "e8bd6313",
   "metadata": {},
   "outputs": [],
   "source": [
    "g_app.snackbar(title='Message', text='Lorem ipsum dolor sit amet, consectetur adipiscing elit, sed do eiusmod tempor incididunt ut labore et dolore magna aliqua. Ut enim ad minim veniam, quis nostrud exercitation ullamco laboris nisi ut aliquip ex ea commodo consequat. Duis aute irure dolor in reprehenderit in voluptate velit esse cillum dolore eu fugiat nulla pariatur. Excepteur sint occaecat cupidatat non proident, sunt in culpa qui officia deserunt mollit anim id est laborum.')"
   ]
  },
  {
   "cell_type": "code",
   "execution_count": null,
   "id": "3c47d095",
   "metadata": {},
   "outputs": [],
   "source": [
    "g_app.dialogMessage(title='Message', width=800, text='Lorem ipsum dolor sit amet, consectetur adipiscing elit, sed do eiusmod tempor incididunt ut labore et dolore magna aliqua. Ut enim ad minim veniam, quis nostrud exercitation ullamco laboris nisi ut aliquip ex ea commodo consequat. Duis aute irure dolor in reprehenderit in voluptate velit esse cillum dolore eu fugiat nulla pariatur. Excepteur sint occaecat cupidatat non proident, sunt in culpa qui officia deserunt mollit anim id est laborum.')"
   ]
  },
  {
   "cell_type": "code",
   "execution_count": null,
   "id": "d5283866",
   "metadata": {},
   "outputs": [],
   "source": [
    "g_app.dialogYesNo(title='Question', text='Confirm removal of the selected file?')"
   ]
  },
  {
   "cell_type": "code",
   "execution_count": null,
   "id": "4291d1bd",
   "metadata": {},
   "outputs": [],
   "source": [
    "s = switch.switch(True, 'PNG format')\n",
    "g_app.dialogGeneric(title='Settings', text='Please select the format for download:', content=[s.draw()])"
   ]
  },
  {
   "cell_type": "code",
   "execution_count": null,
   "id": "dfabea67",
   "metadata": {},
   "outputs": [],
   "source": [
    "g_app.dialogWaitOpen(text='Please wait for processing to terminate...')"
   ]
  },
  {
   "cell_type": "code",
   "execution_count": null,
   "id": "d3547687",
   "metadata": {},
   "outputs": [],
   "source": [
    "g_app.dialogWaitClose()"
   ]
  },
  {
   "cell_type": "markdown",
   "id": "e1b67988",
   "metadata": {},
   "source": [
    "#### Example of fab button displayed through the app (using the internal g_app.outfabs Output widget!)"
   ]
  },
  {
   "cell_type": "code",
   "execution_count": null,
   "id": "abfb32ff",
   "metadata": {},
   "outputs": [],
   "source": [
    "fab = g_app.fab(left='70%', top='150px', items=['aaa bbb ccc', 'ddd eee fff', 'ggg hhh iii'], menumode=True)"
   ]
  },
  {
   "cell_type": "code",
   "execution_count": null,
   "id": "4575a178",
   "metadata": {},
   "outputs": [],
   "source": [
    "fab.close()"
   ]
  },
  {
   "cell_type": "markdown",
   "id": "6cff007b",
   "metadata": {},
   "source": [
    "#### Downloads of text and binary file through the app instance (using the internal g_app.outdownload Output widget!)"
   ]
  },
  {
   "cell_type": "code",
   "execution_count": null,
   "id": "c7a56d03",
   "metadata": {},
   "outputs": [],
   "source": [
    "g_app.downloadText('aaa bbb ccc')"
   ]
  },
  {
   "cell_type": "code",
   "execution_count": null,
   "id": "7ae3dc38",
   "metadata": {},
   "outputs": [],
   "source": [
    "g_app.downloadBytes(b'ajgh lkjhl ')"
   ]
  },
  {
   "cell_type": "markdown",
   "id": "8c295d94",
   "metadata": {},
   "source": [
    "#### Read parameter passed on the URL"
   ]
  },
  {
   "cell_type": "code",
   "execution_count": null,
   "id": "fab346a0",
   "metadata": {},
   "outputs": [],
   "source": [
    "g_app.urlParameter('activetab')"
   ]
  },
  {
   "cell_type": "markdown",
   "id": "50cbcb86",
   "metadata": {},
   "source": [
    "#### Update the URL"
   ]
  },
  {
   "cell_type": "code",
   "execution_count": null,
   "id": "71e57b99",
   "metadata": {},
   "outputs": [],
   "source": [
    "g_app.urlUpdate('?test=3')"
   ]
  },
  {
   "cell_type": "markdown",
   "id": "8eb981bf",
   "metadata": {},
   "source": [
    "#### Open a URL in another tab through the app (using the internal g_app.outurlopen Output widget!)"
   ]
  },
  {
   "cell_type": "code",
   "execution_count": null,
   "id": "c96f1532",
   "metadata": {},
   "outputs": [],
   "source": [
    "g_app.urlOpen('https://www.google.com')"
   ]
  },
  {
   "cell_type": "code",
   "execution_count": null,
   "id": "77ef45da",
   "metadata": {},
   "outputs": [],
   "source": []
  }
 ],
 "metadata": {
  "kernelspec": {
   "display_name": "Python 3 (ipykernel)",
   "language": "python",
   "name": "python3"
  },
  "language_info": {
   "codemirror_mode": {
    "name": "ipython",
    "version": 3
   },
   "file_extension": ".py",
   "mimetype": "text/x-python",
   "name": "python",
   "nbconvert_exporter": "python",
   "pygments_lexer": "ipython3",
   "version": "3.7.13"
  },
  "voila": {
   "theme": "dark"
  }
 },
 "nbformat": 4,
 "nbformat_minor": 5
}
