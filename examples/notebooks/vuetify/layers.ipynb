{
 "cells": [
  {
   "cell_type": "code",
   "execution_count": null,
   "id": "ec2b6e53",
   "metadata": {},
   "outputs": [],
   "source": [
    "# Management of layers in a ipyleaflet map\n",
    "import ipyleaflet\n",
    "from jeodpp import inter, imap\n",
    "from ipywidgets import widgets, Layout\n",
    "\n",
    "from vois.vuetify import layers\n",
    "\n",
    "# Given a collection path returns a ipyleaflet.TileLayer\n",
    "def tileLayer(name, collectionpath):\n",
    "    p = inter.Collection(collectionpath).process()\n",
    "    procid = p.toLayer()\n",
    "    return ipyleaflet.TileLayer(name=name, url='https://jeodpp.jrc.ec.europa.eu/jeodpp-inter-view/?x={x}&y={y}&z={z}&procid=%s'%procid)\n",
    "\n",
    "layer1 = tileLayer('Merit DEM',    inter.collections.BaseData.Elevation.MERIT.Hillshade)\n",
    "layer2 = tileLayer('Corine 2018',  inter.collections.BaseData.Landcover.CLC2018)\n",
    "layer3 = tileLayer('Gisco Labels', inter.collections.Basemaps.Gisco.OSMCartoLabels)\n",
    "\n",
    "height = 500\n",
    "m = imap.Map(layout=Layout(height='%dpx'%height))\n",
    "\n",
    "m.add_layer(layer1)\n",
    "m.add_layer(layer2)\n",
    "m.add_layer(layer3)\n",
    "\n",
    "ly = layers.layers(m, width=400, dark=False)\n",
    "\n",
    "widgets.HBox([ly.draw(),m])"
   ]
  },
  {
   "cell_type": "code",
   "execution_count": null,
   "id": "e8159e52",
   "metadata": {},
   "outputs": [],
   "source": []
  }
 ],
 "metadata": {
  "kernelspec": {
   "display_name": "Python 3 (ipykernel)",
   "language": "python",
   "name": "python3"
  },
  "language_info": {
   "codemirror_mode": {
    "name": "ipython",
    "version": 3
   },
   "file_extension": ".py",
   "mimetype": "text/x-python",
   "name": "python",
   "nbconvert_exporter": "python",
   "pygments_lexer": "ipython3",
   "version": "3.7.13"
  }
 },
 "nbformat": 4,
 "nbformat_minor": 5
}
