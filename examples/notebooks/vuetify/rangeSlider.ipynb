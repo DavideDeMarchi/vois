{
 "cells": [
  {
   "cell_type": "markdown",
   "id": "add6fb02",
   "metadata": {},
   "source": [
    "### Examples: rangeSlider module"
   ]
  },
  {
   "cell_type": "code",
   "execution_count": null,
   "id": "9caf0918",
   "metadata": {},
   "outputs": [],
   "source": [
    "# Creation and display of a range slider widget\n",
    "from vois.vuetify import rangeSlider\n",
    "\n",
    "s = rangeSlider.rangeSlider(5,18, 0,20)\n",
    "s.draw()"
   ]
  },
  {
   "cell_type": "code",
   "execution_count": null,
   "id": "c3ef5c89",
   "metadata": {},
   "outputs": [],
   "source": []
  }
 ],
 "metadata": {
  "kernelspec": {
   "display_name": "Python 3 (ipykernel)",
   "language": "python",
   "name": "python3"
  },
  "language_info": {
   "codemirror_mode": {
    "name": "ipython",
    "version": 3
   },
   "file_extension": ".py",
   "mimetype": "text/x-python",
   "name": "python",
   "nbconvert_exporter": "python",
   "pygments_lexer": "ipython3",
   "version": "3.7.13"
  }
 },
 "nbformat": 4,
 "nbformat_minor": 5
}
