{
 "cells": [
  {
   "cell_type": "code",
   "execution_count": 92,
   "id": "b8dc65c0",
   "metadata": {},
   "outputs": [
    {
     "data": {
      "application/vnd.jupyter.widget-view+json": {
       "model_id": "2cb665f0c218488da34ee6ac6035d5ba",
       "version_major": 2,
       "version_minor": 0
      },
      "text/plain": [
       "Output(layout=Layout(height='0px', width='0px'))"
      ]
     },
     "metadata": {},
     "output_type": "display_data"
    }
   ],
   "source": [
    "from vois.vuetify import mainPage\n",
    "\n",
    "from random import randrange\n",
    "\n",
    "def onclick():\n",
    "    print(\"Clicked Function 1\")\n",
    "    \n",
    "m = mainPage.mainPage(title='mainPage demo',\n",
    "                      subtitle='Showcase how easy is to create a front page for an app',\n",
    "                      credits=\"vois library development team\",\n",
    "                      titlebox_widthpercent=50, titlebox_opacity=0.2, titlebox_border=0,\n",
    "                      vois_show=True, vois_opacity=0.1,\n",
    "                      button_widthpercent=23, button_heightpercent=14, button_elevation=16, button_opacity=0.6,\n",
    "                      background_image=55,\n",
    "                      #background_filter='grayscale(0.85)',\n",
    "                      background_filter='blur(2px) brightness(1.2) contrast(0.7) sepia(0.05) saturate(1.2)',\n",
    "                      creditbox_opacity=0,\n",
    "                      text_color='#222222')\n",
    "\n",
    "m.addButton('Function 1',\n",
    "            #subtitle='Launch calculation of ...',\n",
    "            tooltip='Tooltip text to display on hover',\n",
    "            image='https://picsum.photos/seed/%d/200/200'%randrange(1000),\n",
    "            onclick=onclick)\n",
    "\n",
    "for i in range(2,7): m.addButton('Function %d'%i, image='https://picsum.photos/seed/%d/200/200'%randrange(1000))\n",
    "\n",
    "m.open()"
   ]
  },
  {
   "cell_type": "code",
   "execution_count": null,
   "id": "9cb2ea55",
   "metadata": {},
   "outputs": [],
   "source": []
  }
 ],
 "metadata": {
  "kernelspec": {
   "display_name": "Python 3 (ipykernel)",
   "language": "python",
   "name": "python3"
  },
  "language_info": {
   "codemirror_mode": {
    "name": "ipython",
    "version": 3
   },
   "file_extension": ".py",
   "mimetype": "text/x-python",
   "name": "python",
   "nbconvert_exporter": "python",
   "pygments_lexer": "ipython3",
   "version": "3.7.13"
  }
 },
 "nbformat": 4,
 "nbformat_minor": 5
}
