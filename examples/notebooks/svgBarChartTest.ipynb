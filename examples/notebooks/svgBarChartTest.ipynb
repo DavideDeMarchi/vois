{
 "cells": [
  {
   "cell_type": "code",
   "execution_count": null,
   "id": "ef60f56e",
   "metadata": {},
   "outputs": [],
   "source": [
    "from IPython.display import display\n",
    "from ipywidgets import widgets\n",
    "import numpy as np\n",
    "import plotly.express as px\n",
    "from vois import eucountries as eu\n",
    "from vois import svgBarChart\n",
    "\n",
    "# Names of EU countries\n",
    "names  = [c.iso2code for c in eu.countries.EuropeanUnion()]\n",
    "\n",
    "# Randomly generated values for each country\n",
    "values = np.random.uniform(low=0.1, high=1.0, size=(len(names)))\n",
    "\n",
    "# Randomly generated stdevs for each country\n",
    "stddevs = np.random.uniform(low=0.01, high=0.2, size=(len(names)))\n",
    "\n",
    "debug = widgets.Output()\n",
    "display(debug)\n",
    "\n",
    "def on_change(arg):\n",
    "    with debug:\n",
    "        print(arg)\n",
    "\n",
    "out = svgBarChart.svgBarChart(title='Sample Bar Chart',\n",
    "                              names=names,\n",
    "                              values=values,\n",
    "                              stddevs=stddevs,\n",
    "                              width=39.0,\n",
    "                              height=35.0,\n",
    "                              fontsize=0.7,\n",
    "                              barstrokecolor='#44444400',\n",
    "                              xaxistextcolor='#666666',\n",
    "                              showvalues=True,\n",
    "                              colorlist=px.colors.sequential.Viridis,\n",
    "                              hovercolor='blue',\n",
    "                              stdevnumber=100.0,\n",
    "                              valuedigits=2,\n",
    "                              barpercentwidth=90.0,\n",
    "                              enabledeselect=True,\n",
    "                              showselection=False,\n",
    "                              minallowed_value=0.0,\n",
    "                              on_change=on_change)\n",
    "\n",
    "display(out)"
   ]
  },
  {
   "cell_type": "code",
   "execution_count": null,
   "id": "431f2e7d",
   "metadata": {},
   "outputs": [],
   "source": []
  }
 ],
 "metadata": {
  "kernelspec": {
   "display_name": "Python 3 (ipykernel)",
   "language": "python",
   "name": "python3"
  },
  "language_info": {
   "codemirror_mode": {
    "name": "ipython",
    "version": 3
   },
   "file_extension": ".py",
   "mimetype": "text/x-python",
   "name": "python",
   "nbconvert_exporter": "python",
   "pygments_lexer": "ipython3",
   "version": "3.7.13"
  }
 },
 "nbformat": 4,
 "nbformat_minor": 5
}
