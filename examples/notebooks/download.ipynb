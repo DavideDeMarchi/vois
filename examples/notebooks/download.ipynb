{
 "cells": [
  {
   "cell_type": "markdown",
   "id": "4afe6487",
   "metadata": {},
   "source": [
    "### Examples: download module"
   ]
  },
  {
   "cell_type": "code",
   "execution_count": null,
   "id": "72be46e0",
   "metadata": {},
   "outputs": [],
   "source": [
    "# In order to download a text file, the Output widget download.output must be displayed inside the notebook.\n",
    "# This is required because the download operation is based on the execution of Javascript code, and this \n",
    "# requires an Output widget displayed. After the download.output widget is visible, then the\n",
    "# download.downloadText function can be called\n",
    "from vois import download\n",
    "        \n",
    "display(download.output)\n",
    "        \n",
    "with download.output:\n",
    "    download.downloadText('aaa bbb ccc')"
   ]
  },
  {
   "cell_type": "code",
   "execution_count": null,
   "id": "61acbb31",
   "metadata": {},
   "outputs": [],
   "source": [
    "# In order to download a binary file, the Output widget download.output must be displayed inside the notebook.\n",
    "# This is required because the download operation is based on the execution of Javascript code, and this\n",
    "# requires an Output widget displayed. After the download.output widget is visible, then the\n",
    "# download.downloadBytes function can be called\n",
    "from vois import download\n",
    "        \n",
    "display(download.output)\n",
    "        \n",
    "with download.output:\n",
    "    download.downloadBytes(bytearray(b'ajgh lkjhl '))"
   ]
  },
  {
   "cell_type": "code",
   "execution_count": null,
   "id": "a749ae76",
   "metadata": {},
   "outputs": [],
   "source": []
  }
 ],
 "metadata": {
  "kernelspec": {
   "display_name": "Python 3 (ipykernel)",
   "language": "python",
   "name": "python3"
  },
  "language_info": {
   "codemirror_mode": {
    "name": "ipython",
    "version": 3
   },
   "file_extension": ".py",
   "mimetype": "text/x-python",
   "name": "python",
   "nbconvert_exporter": "python",
   "pygments_lexer": "ipython3",
   "version": "3.7.13"
  }
 },
 "nbformat": 4,
 "nbformat_minor": 5
}
