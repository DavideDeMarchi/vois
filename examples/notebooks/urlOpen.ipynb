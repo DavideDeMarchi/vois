{
 "cells": [
  {
   "cell_type": "markdown",
   "id": "84b5fb48",
   "metadata": {},
   "source": [
    "### Examples: urlOpen module"
   ]
  },
  {
   "cell_type": "code",
   "execution_count": null,
   "id": "b77044ab",
   "metadata": {},
   "outputs": [],
   "source": [
    "# Open Google page in another tab of the browser\n",
    "from vois import urlOpen\n",
    "from ipywidgets import widgets, Layout\n",
    "from IPython.display import display\n",
    "\n",
    "output = widgets.Output(layout=Layout(width='0px', height='0px'))\n",
    "display(output)\n",
    "\n",
    "urlOpen.urlOpen('https://www.google.com', output, target='_blank')"
   ]
  },
  {
   "cell_type": "code",
   "execution_count": null,
   "id": "8709a07c",
   "metadata": {},
   "outputs": [],
   "source": []
  }
 ],
 "metadata": {
  "kernelspec": {
   "display_name": "Python 3 (ipykernel)",
   "language": "python",
   "name": "python3"
  },
  "language_info": {
   "codemirror_mode": {
    "name": "ipython",
    "version": 3
   },
   "file_extension": ".py",
   "mimetype": "text/x-python",
   "name": "python",
   "nbconvert_exporter": "python",
   "pygments_lexer": "ipython3",
   "version": "3.7.13"
  }
 },
 "nbformat": 4,
 "nbformat_minor": 5
}
