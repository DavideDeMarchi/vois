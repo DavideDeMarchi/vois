{
 "cells": [
  {
   "cell_type": "markdown",
   "id": "c2c06558",
   "metadata": {},
   "source": [
    "### Examples: urlUpdate module"
   ]
  },
  {
   "cell_type": "code",
   "execution_count": null,
   "id": "046eb452",
   "metadata": {},
   "outputs": [],
   "source": [
    "# Add a key/value pair to the current browser URL\n",
    "from vois import urlUpdate\n",
    "from ipywidgets import widgets, Layout\n",
    "from IPython.display import display\n",
    "\n",
    "output = widgets.Output(layout=Layout(width='0px', height='0px'))\n",
    "display(output)\n",
    "\n",
    "urlUpdate.urlUpdate('?test=3', output)"
   ]
  },
  {
   "cell_type": "code",
   "execution_count": null,
   "id": "55d52052",
   "metadata": {},
   "outputs": [],
   "source": []
  }
 ],
 "metadata": {
  "kernelspec": {
   "display_name": "Python 3 (ipykernel)",
   "language": "python",
   "name": "python3"
  },
  "language_info": {
   "codemirror_mode": {
    "name": "ipython",
    "version": 3
   },
   "file_extension": ".py",
   "mimetype": "text/x-python",
   "name": "python",
   "nbconvert_exporter": "python",
   "pygments_lexer": "ipython3",
   "version": "3.7.13"
  }
 },
 "nbformat": 4,
 "nbformat_minor": 5
}
