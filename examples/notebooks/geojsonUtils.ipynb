{
 "cells": [
  {
   "cell_type": "markdown",
   "id": "bda1a027",
   "metadata": {},
   "source": [
    "### Examples: geojsonUtils module"
   ]
  },
  {
   "cell_type": "code",
   "execution_count": null,
   "id": "1d7a67b5",
   "metadata": {},
   "outputs": [],
   "source": [
    "# Load a geojson from file and print all the values of one if its attributes\n",
    "from vois import geojsonUtils\n",
    "\n",
    "geojson = geojsonUtils.geojsonLoadFile('./data/example.geojson')\n",
    "\n",
    "print('Values = ', geojsonUtils.geojsonAll(geojson,'ha'))"
   ]
  },
  {
   "cell_type": "code",
   "execution_count": null,
   "id": "bad73a9c",
   "metadata": {},
   "outputs": [],
   "source": [
    "# Load a geojson from file and print the names of its attributes\n",
    "from vois import geojsonUtils\n",
    "\n",
    "geojson = geojsonUtils.geojsonLoadFile('./data/example.geojson')\n",
    "\n",
    "print('Attributes = ', geojsonUtils.geojsonAttributes(geojson))"
   ]
  },
  {
   "cell_type": "code",
   "execution_count": null,
   "id": "20277657",
   "metadata": {},
   "outputs": [],
   "source": [
    "# Load a geojson from file, print some information on attributes and values of the features, then join the features with a dictionary\n",
    "from vois import geojsonUtils\n",
    "\n",
    "# Load a geojson file\n",
    "geojson = geojsonUtils.geojsonLoadFile('./data/example.geojson')\n",
    "\n",
    "# Add a new field by joining with a dictionary (with innerMode flag set to True)\n",
    "keytovalue = { 37661: 'aaa', 37662: 'bbb'}\n",
    "geojsonnew = geojsonUtils.geojsonJoin(geojson,'id', 'value', keytovalue, innerMode=True)\n",
    "\n",
    "# Print the 'value' attribute values for the joined geojson dataset\n",
    "print('Joined values =', geojsonUtils.geojsonAll(geojsonnew,'value'))"
   ]
  },
  {
   "cell_type": "code",
   "execution_count": null,
   "id": "f1428638",
   "metadata": {},
   "outputs": [],
   "source": [
    "# Load a geojson from file, print the geojson string\n",
    "from vois import geojsonUtils\n",
    "\n",
    "geojson = geojsonUtils.geojsonLoadFile('./data/example.geojson')\n",
    "\n",
    "print(geojson)"
   ]
  },
  {
   "cell_type": "code",
   "execution_count": null,
   "id": "e3165a8d",
   "metadata": {},
   "outputs": [],
   "source": []
  }
 ],
 "metadata": {
  "kernelspec": {
   "display_name": "Python 3 (ipykernel)",
   "language": "python",
   "name": "python3"
  },
  "language_info": {
   "codemirror_mode": {
    "name": "ipython",
    "version": 3
   },
   "file_extension": ".py",
   "mimetype": "text/x-python",
   "name": "python",
   "nbconvert_exporter": "python",
   "pygments_lexer": "ipython3",
   "version": "3.7.13"
  }
 },
 "nbformat": 4,
 "nbformat_minor": 5
}
