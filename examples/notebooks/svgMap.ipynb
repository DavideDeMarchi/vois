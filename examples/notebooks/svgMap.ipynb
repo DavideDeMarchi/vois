{
 "cells": [
  {
   "cell_type": "markdown",
   "id": "e3419fb4",
   "metadata": {},
   "source": [
    "### Examples: svgMap module"
   ]
  },
  {
   "cell_type": "code",
   "execution_count": null,
   "id": "956844df",
   "metadata": {},
   "outputs": [],
   "source": [
    "import numpy as np\n",
    "import pandas as pd\n",
    "import plotly.express as px\n",
    "from vois import svgMap\n",
    "\n",
    "countries = svgMap.country_codes\n",
    "\n",
    "# Generate random values and create a dictionary: key=countrycode, value=random in [0.0,100.0]\n",
    "d = dict(zip(countries, list(np.random.uniform(size=len(countries),low=0.0,high=100.0))))\n",
    "\n",
    "# Create a pandas dataframe from the dictionary\n",
    "df = pd.DataFrame(d.items(), columns=['iso2code', 'value'])\n",
    "\n",
    "svg = svgMap.svgMapEurope(df,\n",
    "                          code_column='iso2code',\n",
    "                          width=650,\n",
    "                          stdevnumber=1.5,\n",
    "                          colorlist=px.colors.sequential.Viridis,\n",
    "                          stroke_width=4.0,\n",
    "                          stroke_selected='red',\n",
    "                          onhoverfill='#f8bd1a',\n",
    "                          codes_selected=['IT'],\n",
    "                          legendtitle='Legent title',\n",
    "                          legendunits='KTOE per 100K inhabit.')\n",
    "display(HTML(svg))"
   ]
  },
  {
   "cell_type": "code",
   "execution_count": null,
   "id": "cc843965",
   "metadata": {},
   "outputs": [],
   "source": []
  }
 ],
 "metadata": {
  "kernelspec": {
   "display_name": "Python 3 (ipykernel)",
   "language": "python",
   "name": "python3"
  },
  "language_info": {
   "codemirror_mode": {
    "name": "ipython",
    "version": 3
   },
   "file_extension": ".py",
   "mimetype": "text/x-python",
   "name": "python",
   "nbconvert_exporter": "python",
   "pygments_lexer": "ipython3",
   "version": "3.7.13"
  }
 },
 "nbformat": 4,
 "nbformat_minor": 5
}
