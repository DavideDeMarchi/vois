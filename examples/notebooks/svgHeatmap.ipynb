{
 "cells": [
  {
   "cell_type": "code",
   "execution_count": null,
   "id": "9f451788",
   "metadata": {},
   "outputs": [],
   "source": [
    "from IPython.display import display\n",
    "import pandas as pd\n",
    "import numpy as np\n",
    "from vois import svgHeatmap\n",
    "\n",
    "df = pd.DataFrame(np.random.random((20,50)))\n",
    "display(svgHeatmap.heatmapChart(df, width=80.0, height=50.0, hTitle=6.0, wTitle=8.0))"
   ]
  },
  {
   "cell_type": "code",
   "execution_count": null,
   "id": "a99e5532",
   "metadata": {},
   "outputs": [],
   "source": []
  }
 ],
 "metadata": {
  "kernelspec": {
   "display_name": "Python 3 (ipykernel)",
   "language": "python",
   "name": "python3"
  },
  "language_info": {
   "codemirror_mode": {
    "name": "ipython",
    "version": 3
   },
   "file_extension": ".py",
   "mimetype": "text/x-python",
   "name": "python",
   "nbconvert_exporter": "python",
   "pygments_lexer": "ipython3",
   "version": "3.7.13"
  }
 },
 "nbformat": 4,
 "nbformat_minor": 5
}
