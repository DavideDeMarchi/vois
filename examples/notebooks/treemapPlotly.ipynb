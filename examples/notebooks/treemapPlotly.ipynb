{
 "cells": [
  {
   "cell_type": "markdown",
   "id": "f4dd52b9",
   "metadata": {},
   "source": [
    "### Examples: treemapPlotly module"
   ]
  },
  {
   "cell_type": "code",
   "execution_count": null,
   "id": "3e572a40",
   "metadata": {},
   "outputs": [],
   "source": [
    "# Creation of a Treemap/Sunburst/Icicle chart in Plotly using numerical data associated to JRC units and directorates\n",
    "import plotly.graph_objects as go\n",
    "from vois import treemapPlotly\n",
    "\n",
    "valuefor = {'JRC.A.1': 3.0, 'JRC.A.2': 5.0, 'JRC.B.1': 12.0, 'JRC.B.2': 7.0,\n",
    "            'JRC.B.3': 3.0, 'JRC.C.1': 7.0, 'JRC.C.2': 2.0}\n",
    "\n",
    "labels, parents, values = treemapPlotly.createTreemapFromList(['JRC.A','JRC.A.1',\n",
    "                                                               'JRC.A.2','JRC.B.1',\n",
    "                                                               'JRC.B.2','JRC.B.3',\n",
    "                                                               'JRC.C.1','JRC.C.2',],\n",
    "                                                              rootName='JRC',\n",
    "                                                              valuefor=valuefor)\n",
    "\n",
    "fig = go.Figure()\n",
    "fig.add_trace(go.Treemap(ids=labels, labels=labels, parents=parents, values=values,\n",
    "                         branchvalues='total', maxdepth=3, root_color=\"lightgrey\"))\n",
    "#fig.add_trace(go.Sunburst(ids=labels, labels=labels, parents=parents, values=values,\n",
    "#                         branchvalues='total', maxdepth=3, root_color=\"lightgrey\"))\n",
    "#fig.add_trace(go.Icicle(ids=labels, labels=labels, parents=parents, values=values,\n",
    "#                         branchvalues='total', maxdepth=3, root_color=\"lightgrey\"))\n",
    "fig.update_layout(margin=dict(t=38, l=0, r=0, b=10), height=400,\n",
    "                  hoverlabel=dict(bgcolor=\"#eee\", align=\"left\"),\n",
    "                  title={'text': \"JRC units\", 'y':0.96, 'x':0.5,\n",
    "                         'xanchor': 'center', 'yanchor': 'top'})\n",
    "\n",
    "fig.show()"
   ]
  },
  {
   "cell_type": "code",
   "execution_count": null,
   "id": "b1b5f9f3",
   "metadata": {},
   "outputs": [],
   "source": []
  }
 ],
 "metadata": {
  "kernelspec": {
   "display_name": "Python 3 (ipykernel)",
   "language": "python",
   "name": "python3"
  },
  "language_info": {
   "codemirror_mode": {
    "name": "ipython",
    "version": 3
   },
   "file_extension": ".py",
   "mimetype": "text/x-python",
   "name": "python",
   "nbconvert_exporter": "python",
   "pygments_lexer": "ipython3",
   "version": "3.7.13"
  }
 },
 "nbformat": 4,
 "nbformat_minor": 5
}
