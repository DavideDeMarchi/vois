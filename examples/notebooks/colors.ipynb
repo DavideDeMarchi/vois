{
 "cells": [
  {
   "cell_type": "markdown",
   "id": "7e55d6bc",
   "metadata": {},
   "source": [
    "### Examples: colors module"
   ]
  },
  {
   "cell_type": "code",
   "execution_count": null,
   "id": "1cbb5010",
   "metadata": {},
   "outputs": [],
   "source": [
    "# Creation of a color interpolator from a list of custom colors\n",
    "from vois import colors\n",
    "\n",
    "colorlist = ['rgb(247,251,255)',\n",
    "             'rgb(198,219,239)',\n",
    "             'rgb(107,174,214)', \n",
    "             'rgb(33,113,181)',\n",
    "             'rgb(8,48,107)']\n",
    "\n",
    "c = colors.colorInterpolator(colorlist)\n",
    "print( c.GetColor(50.0) )"
   ]
  },
  {
   "cell_type": "code",
   "execution_count": null,
   "id": "fdd58626",
   "metadata": {},
   "outputs": [],
   "source": [
    "# Creation of a color interpolator using one of the Plotly library predefined colorscales\n",
    "# See https://plotly.com/python/builtin-colorscales/#builtin-sequential-color-scales\n",
    "# See https://plotly.com/python/discrete-color/#color-sequences-in-plotly-express\n",
    "import plotly.express as px\n",
    "from vois import colors\n",
    "\n",
    "c = colors.colorInterpolator(px.colors.sequential.Viridis, 0.0, 100.0)\n",
    "print( c.GetColor(33.3) )"
   ]
  },
  {
   "cell_type": "code",
   "execution_count": null,
   "id": "8a2611dc",
   "metadata": {},
   "outputs": [],
   "source": [
    "# To visually represent a colorscale, this example from the BDAP inter library can be used\n",
    "from jeodpp import inter\n",
    "import plotly.express as px\n",
    "\n",
    "#print(px.colors.sequential.Viridis)\n",
    "display(HTML(inter.colorSchemaLegend(px.colors.sequential.Viridis, \n",
    "                                     Title=\"Plotly colorscale\",\n",
    "                                     Height=40, NumPixels=600)))"
   ]
  },
  {
   "cell_type": "code",
   "execution_count": null,
   "id": "10b20c4f",
   "metadata": {},
   "outputs": [],
   "source": [
    "# Convert a color from '#rrggbb' to (r,g,b)\n",
    "from vois import colors\n",
    "print( colors.hex2rgb( '#ff0000' ) )"
   ]
  },
  {
   "cell_type": "code",
   "execution_count": null,
   "id": "f26cb3cb",
   "metadata": {},
   "outputs": [],
   "source": [
    "# Convert a color from (r,g,b) to '#rrggbb'\n",
    "from vois import colors\n",
    "print( colors.rgb2hex( (255,0,0) ) )"
   ]
  },
  {
   "cell_type": "code",
   "execution_count": null,
   "id": "70211781",
   "metadata": {},
   "outputs": [],
   "source": [
    "# Convert a color from 'rgb(r,g,b)' to (r,g,b)\n",
    "from vois import colors\n",
    "print( colors.text2rgb( 'rgb(255,0,0)' ) )"
   ]
  },
  {
   "cell_type": "code",
   "execution_count": null,
   "id": "b38c0cc6",
   "metadata": {},
   "outputs": [],
   "source": [
    "# Display a color palette\n",
    "from vois import colors\n",
    "import plotly.express as px\n",
    "\n",
    "img = colors.paletteImage(px.colors.sequential.Blues, width=400, height=40)\n",
    "display(img)"
   ]
  },
  {
   "cell_type": "code",
   "execution_count": null,
   "id": "a7fcdc3a",
   "metadata": {},
   "outputs": [],
   "source": []
  }
 ],
 "metadata": {
  "kernelspec": {
   "display_name": "Python 3 (ipykernel)",
   "language": "python",
   "name": "python3"
  },
  "language_info": {
   "codemirror_mode": {
    "name": "ipython",
    "version": 3
   },
   "file_extension": ".py",
   "mimetype": "text/x-python",
   "name": "python",
   "nbconvert_exporter": "python",
   "pygments_lexer": "ipython3",
   "version": "3.7.13"
  }
 },
 "nbformat": 4,
 "nbformat_minor": 5
}
