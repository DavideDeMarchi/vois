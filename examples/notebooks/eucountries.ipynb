{
 "cells": [
  {
   "cell_type": "markdown",
   "id": "54f4808e",
   "metadata": {},
   "source": [
    "### Examples: eucountries module"
   ]
  },
  {
   "cell_type": "code",
   "execution_count": null,
   "id": "9dbc9cfa",
   "metadata": {},
   "outputs": [],
   "source": [
    "# Get the list of all European Union or Euro Area countries\n",
    "from vois import eucountries as eu\n",
    "\n",
    "countriesEU = eu.countries.EuropeanUnion()\n",
    "print(countriesEU)\n",
    "\n",
    "countriesEuro = eu.countries.EuroArea()\n",
    "print(countriesEuro)"
   ]
  },
  {
   "cell_type": "code",
   "execution_count": null,
   "id": "a8ac3941",
   "metadata": {},
   "outputs": [],
   "source": [
    "# Display the flag image of a country given its code\n",
    "from vois import eucountries as eu\n",
    "display( eu.countries.byCode('IT').flagImage() )"
   ]
  },
  {
   "cell_type": "code",
   "execution_count": null,
   "id": "1ab1806d",
   "metadata": {},
   "outputs": [],
   "source": [
    "# Display the flag image of a country given its name\n",
    "from vois import eucountries as eu\n",
    "display( eu.countries.byName('Lithuania').flagImage() )"
   ]
  },
  {
   "cell_type": "code",
   "execution_count": null,
   "id": "4e351a3f",
   "metadata": {},
   "outputs": [],
   "source": [
    "# Get the list of all the European Union country codes\n",
    "from vois import eucountries as eu\n",
    "display( eu.countries.EuroAreaCodes() )\n"
   ]
  },
  {
   "cell_type": "code",
   "execution_count": null,
   "id": "017d8e44",
   "metadata": {},
   "outputs": [],
   "source": [
    "# Print the list of all European Union languages\n",
    "from vois import eucountries as eu\n",
    "names = eu.languages.EuropeanUnionLanguages(sortByName=False)\n",
    "print(names)"
   ]
  },
  {
   "cell_type": "code",
   "execution_count": null,
   "id": "74bc803e",
   "metadata": {},
   "outputs": [],
   "source": [
    "# Print the list of all European Union languages abbreviations\n",
    "from vois import eucountries as eu\n",
    "abbrev = eu.languages.EuropeanUnionAbbreviations()\n",
    "print(abbrev)"
   ]
  },
  {
   "cell_type": "code",
   "execution_count": null,
   "id": "d8670bef",
   "metadata": {},
   "outputs": [],
   "source": []
  }
 ],
 "metadata": {
  "kernelspec": {
   "display_name": "Python 3 (ipykernel)",
   "language": "python",
   "name": "python3"
  },
  "language_info": {
   "codemirror_mode": {
    "name": "ipython",
    "version": 3
   },
   "file_extension": ".py",
   "mimetype": "text/x-python",
   "name": "python",
   "nbconvert_exporter": "python",
   "pygments_lexer": "ipython3",
   "version": "3.7.13"
  }
 },
 "nbformat": 4,
 "nbformat_minor": 5
}
