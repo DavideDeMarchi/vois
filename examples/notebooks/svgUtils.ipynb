{
 "cells": [
  {
   "cell_type": "markdown",
   "id": "e40c0cd9",
   "metadata": {},
   "source": [
    "### Examples: svgUtils module"
   ]
  },
  {
   "cell_type": "code",
   "execution_count": null,
   "id": "fe5b9ee6",
   "metadata": {},
   "outputs": [],
   "source": [
    "# Example of an animated pie chart\n",
    "from vois import svgUtils\n",
    "import plotly.express as px\n",
    "from ipywidgets import widgets\n",
    "\n",
    "debug = widgets.Output()\n",
    "display(debug)\n",
    "\n",
    "def onclick(arg):\n",
    "    with debug:\n",
    "        print('clicked %s' % arg)\n",
    "    \n",
    "out, txt = svgUtils.AnimatedPieChart(values=[10.0, 25.0, 18.0, 20.0, 9.5],\n",
    "                                     labels=['Option<br>1', 'Option<br>2', 'Option 3', 'Option 4', 'Others'], \n",
    "                                     centerfontsize=28,\n",
    "                                     fontsize=16, textweight=400,\n",
    "                                     colors=px.colors.qualitative.D3,\n",
    "                                     backcolor='#dfdfdf',\n",
    "                                     centertext='Example Pie',\n",
    "                                     onclick=onclick,\n",
    "                                     dimension=380,\n",
    "                                     duration=1.0)\n",
    "display(out)"
   ]
  },
  {
   "cell_type": "code",
   "execution_count": null,
   "id": "2688f1be",
   "metadata": {},
   "outputs": [],
   "source": [
    "# Example of a circle to represent a percentage with an animation\n",
    "from vois import svgUtils\n",
    "from random import randrange\n",
    "\n",
    "percentage = randrange(1000)/10.0\n",
    "svgUtils.SmallCircle('Green<br>deal',\n",
    "                     '%.1f%%' % percentage,\n",
    "                     percentage,\n",
    "                     forecolor=\"#308040\",\n",
    "                     dimension=200)"
   ]
  },
  {
   "cell_type": "code",
   "execution_count": null,
   "id": "30775068",
   "metadata": {},
   "outputs": [],
   "source": [
    "# Example of the creation of an SVG drawing for a categories legend\n",
    "from vois import svgUtils\n",
    "import plotly.express as px\n",
    "\n",
    "svg = svgUtils.categoriesLegend(\"Legend title\",\n",
    "                                ['1:\\tVery long class description that can span multiple lines and that contains no info at all',\n",
    "                                 'Class 2', 'Class 3', 'Class 4'],\n",
    "                                colorlist=px.colors.sequential.Blues,\n",
    "                                width=250)\n",
    "display(HTML(svg))"
   ]
  },
  {
   "cell_type": "code",
   "execution_count": null,
   "id": "e288c408",
   "metadata": {},
   "outputs": [],
   "source": [
    "# Creation of a SVG drawing to display a graduated legend. Input is prepared in the same way of the example provided for the interMap.geojsonMap() function\n",
    "import numpy as np\n",
    "import pandas as pd\n",
    "import plotly.express as px\n",
    "from vois import svgMap, svgUtils\n",
    "\n",
    "countries = svgMap.country_codes\n",
    "\n",
    "# Generate random values and create a dictionary: key=countrycode, value=random in [0.0,100.0]\n",
    "d = dict(zip(countries, list(np.random.uniform(size=len(countries),low=0.0,high=100.0))))\n",
    "\n",
    "# Create a pandas dataframe from the dictionary\n",
    "df = pd.DataFrame(d.items(), columns=['iso2code', 'value'])\n",
    "\n",
    "\n",
    "svg = svgUtils.graduatedLegend(df, code_column='iso2code',\n",
    "                               codes_selected=['IT', 'FR', 'CH'],\n",
    "                               stroke_selected='red',\n",
    "                               colorlist=px.colors.sequential.Viridis[::-1],\n",
    "                               stdevnumber=2.0,\n",
    "                               legendtitle='2020 Total energy consumption',\n",
    "                               legendunits='KTOE per 100K inhabit.',\n",
    "                               fontsize=18,\n",
    "                               width=340, height=600)\n",
    "display(HTML(svg))"
   ]
  },
  {
   "cell_type": "code",
   "execution_count": null,
   "id": "3079d5fe",
   "metadata": {},
   "outputs": [],
   "source": [
    "# Example of a title and logo SVG\n",
    "from vois import svgUtils\n",
    "from ipywidgets import HTML, widgets, Layout\n",
    "\n",
    "outTitle = widgets.Output(layout=Layout(width='99%',                   height='64px'))\n",
    "outLogo  = widgets.Output(layout=Layout(width='1%', min_width='110px', height='82px'))\n",
    "\n",
    "outTitle.clear_output()\n",
    "with outTitle:\n",
    "    display(HTML(svgUtils.svgTitle()))\n",
    "\n",
    "outLogo.clear_output()\n",
    "with outLogo:\n",
    "    display(HTML(svgUtils.svgLogo()))\n",
    "\n",
    "display(widgets.HBox([outTitle,outLogo]))"
   ]
  },
  {
   "cell_type": "code",
   "execution_count": null,
   "id": "520166bd",
   "metadata": {},
   "outputs": [],
   "source": []
  }
 ],
 "metadata": {
  "kernelspec": {
   "display_name": "Python 3 (ipykernel)",
   "language": "python",
   "name": "python3"
  },
  "language_info": {
   "codemirror_mode": {
    "name": "ipython",
    "version": 3
   },
   "file_extension": ".py",
   "mimetype": "text/x-python",
   "name": "python",
   "nbconvert_exporter": "python",
   "pygments_lexer": "ipython3",
   "version": "3.7.13"
  }
 },
 "nbformat": 4,
 "nbformat_minor": 5
}
