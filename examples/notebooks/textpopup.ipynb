{
 "cells": [
  {
   "cell_type": "code",
   "execution_count": null,
   "id": "48153789",
   "metadata": {},
   "outputs": [],
   "source": [
    "from ipywidgets import widgets, HTML, CallbackDispatcher\n",
    "from ipyleaflet import Map\n",
    "from IPython.display import display\n",
    "\n",
    "from vois import textpopup\n",
    "\n",
    "m = Map(center=[43.66737, 12.5504], scroll_wheel_zoom=True, zoom=13)\n",
    "\n",
    "t = None\n",
    "def handle_interaction_popup(**kwargs):\n",
    "    global t\n",
    "    \n",
    "    if kwargs.get('type') == 'click':\n",
    "        lat = kwargs.get('coordinates')[0]\n",
    "        lon = kwargs.get('coordinates')[1]\n",
    "\n",
    "        textpopup.textpopup.removeAll(m)\n",
    "        t = textpopup.textpopup(m, lat=lat, lon=lon, autoremovedelay=5.0,\n",
    "                                width=340, height=None, titlewidth=70,\n",
    "                                titles=['Pixel values', 'Class'],\n",
    "                                texts=['(120,34,189)', 'Woodland and Shrubland (incl. permanent crops)'],\n",
    "                                titlesbold=[],\n",
    "                                titlefontsize=11,\n",
    "                                textsbold=['Pixel'],\n",
    "                                textfontsize=11,\n",
    "                                titlecolor='darkgreen',\n",
    "                                textcolor='darkred')\n",
    "\n",
    "m._interaction_callbacks = CallbackDispatcher()\n",
    "m.on_interaction(handle_interaction_popup)        \n",
    "        \n",
    "display(m)"
   ]
  },
  {
   "cell_type": "code",
   "execution_count": null,
   "id": "c4235461",
   "metadata": {},
   "outputs": [],
   "source": [
    "#t.remove()"
   ]
  },
  {
   "cell_type": "code",
   "execution_count": null,
   "id": "8e122b5d",
   "metadata": {},
   "outputs": [],
   "source": [
    "#textpopup.removeAll(m)"
   ]
  },
  {
   "cell_type": "code",
   "execution_count": null,
   "id": "089a2353",
   "metadata": {},
   "outputs": [],
   "source": []
  }
 ],
 "metadata": {
  "kernelspec": {
   "display_name": "Python 3 (ipykernel)",
   "language": "python",
   "name": "python3"
  },
  "language_info": {
   "codemirror_mode": {
    "name": "ipython",
    "version": 3
   },
   "file_extension": ".py",
   "mimetype": "text/x-python",
   "name": "python",
   "nbconvert_exporter": "python",
   "pygments_lexer": "ipython3",
   "version": "3.7.13"
  }
 },
 "nbformat": 4,
 "nbformat_minor": 5
}
