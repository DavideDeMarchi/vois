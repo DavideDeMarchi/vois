{
 "cells": [
  {
   "cell_type": "code",
   "execution_count": null,
   "id": "7dad9fc1",
   "metadata": {},
   "outputs": [],
   "source": [
    "from vois.vuetify import settings\n",
    "settings.dark_mode    = False\n",
    "settings.color_first  = '#68aad2'\n",
    "settings.color_second = '#d8e7f5'\n",
    "\n",
    "from ipywidgets import widgets, Layout, HTML\n",
    "from IPython.display import display\n",
    "import ipyvuetify as v\n",
    "\n",
    "from vois.vuetify import app"
   ]
  },
  {
   "cell_type": "code",
   "execution_count": null,
   "id": "7d9899fd",
   "metadata": {},
   "outputs": [],
   "source": [
    "# Click on a tab of the title\n",
    "def on_click_tab(arg):\n",
    "    a.snackbar(arg)\n",
    "    \n",
    "# Click on the logo\n",
    "def on_click_logo():\n",
    "    a.snackbar('LOGO')\n",
    "\n",
    "# Click on the footer buttons\n",
    "def on_click_footer(arg):\n",
    "    a.snackbar(arg)\n",
    "    \n",
    "a = app.app(title='Energy consumption example dashboard',\n",
    "            titlewidth='50%',\n",
    "            titletabs=['Chart', 'Table', 'Static Map', 'Dynamic Map'],\n",
    "            titletabsstile='font-weight: 700; font-size: 17px;',\n",
    "            dark=False,\n",
    "            backgroundimageurl='https://picsum.photos/id/293/1920/1080',\n",
    "            sidepaneltext=\"Lorem ipsum dolor sit amet, consectetur adipiscing elit, sed do eiusmod tempor incididunt ut labore et dolore magna aliqua. Ut enim ad minim veniam, quis nostrud exercitation ullamco laboris nisi ut aliquip ex ea commodo consequat. Duis aute irure dolor in reprehenderit in voluptate velit esse cillum dolore eu fugiat nulla pariatur. Excepteur sint occaecat cupidatat non proident, sunt in culpa qui officia deserunt mollit anim id est laborum.\",\n",
    "            sidepanelcontent=[v.Icon(class_='pa-0 ma-0 ml-2', children=['mdi-help'])],\n",
    "            onclicktab=on_click_tab,\n",
    "            onclicklogo=on_click_logo,\n",
    "            onclickfooter=on_click_footer)\n",
    "\n",
    "a.show()"
   ]
  },
  {
   "cell_type": "code",
   "execution_count": null,
   "id": "93da5870",
   "metadata": {},
   "outputs": [],
   "source": []
  }
 ],
 "metadata": {
  "kernelspec": {
   "display_name": "Python 3 (ipykernel)",
   "language": "python",
   "name": "python3"
  },
  "language_info": {
   "codemirror_mode": {
    "name": "ipython",
    "version": 3
   },
   "file_extension": ".py",
   "mimetype": "text/x-python",
   "name": "python",
   "nbconvert_exporter": "python",
   "pygments_lexer": "ipython3",
   "version": "3.7.13"
  }
 },
 "nbformat": 4,
 "nbformat_minor": 5
}
