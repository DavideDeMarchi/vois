{
 "cells": [
  {
   "cell_type": "code",
   "execution_count": null,
   "id": "342aa5a6",
   "metadata": {},
   "outputs": [],
   "source": [
    "#######################################################################################################################\n",
    "# IMPORT LIBRARIES\n",
    "#######################################################################################################################\n",
    "from vois.vuetify import settings\n",
    "settings.dark_mode      = False\n",
    "settings.color_first    = '#68aad2'\n",
    "settings.color_second   = '#d8e7f5'\n",
    "settings.button_rounded = False\n",
    "\n",
    "import pandas as pd\n",
    "from ipywidgets import widgets, Layout, HTML\n",
    "from IPython.display import display\n",
    "import ipyvuetify as v\n",
    "\n",
    "from vois.vuetify import app, datatable\n",
    "import EnergyConsumption"
   ]
  },
  {
   "cell_type": "code",
   "execution_count": null,
   "id": "dec59cc1",
   "metadata": {},
   "outputs": [],
   "source": [
    "#######################################################################################################################\n",
    "# Load data\n",
    "#######################################################################################################################\n",
    "g_df = EnergyConsumption.loadData()"
   ]
  },
  {
   "cell_type": "code",
   "execution_count": null,
   "id": "7632b0ca",
   "metadata": {},
   "outputs": [],
   "source": [
    "#######################################################################################################################\n",
    "# Display datatable in the content Output of the app instance\n",
    "#######################################################################################################################\n",
    "def displayDatatable():\n",
    "    g_app.outcontent.clear_output(wait=True)\n",
    "    d = datatable.datatable(data=g_df, height='800px')\n",
    "    with g_app.outcontent:\n",
    "        display(d)"
   ]
  },
  {
   "cell_type": "code",
   "execution_count": null,
   "id": "c24d6ba7",
   "metadata": {},
   "outputs": [],
   "source": [
    "#######################################################################################################################\n",
    "# DEFINE THE APP\n",
    "#######################################################################################################################\n",
    "\n",
    "# Click on a tab of the title\n",
    "def on_click_tab(arg):\n",
    "    g_app.snackbar(arg)\n",
    "\n",
    "# Click on the credits text\n",
    "def on_click_credits():\n",
    "    g_app.snackbar('Credits')\n",
    "    \n",
    "# Click on the logo\n",
    "def on_click_logo():\n",
    "    g_app.snackbar('LOGO')\n",
    "\n",
    "# Click on the footer buttons\n",
    "def on_click_footer(arg):\n",
    "    g_app.snackbar(arg)\n",
    "    \n",
    "g_app = app.app(title='Energy consumption example dashboard',\n",
    "                titlecredits='Created by Unit I.3',\n",
    "                titlewidth='35%',\n",
    "                footercolor='#dfdfe4',\n",
    "                footercredits='Data',\n",
    "                footercreditstooltip='Eurostat - European Commission',\n",
    "                footercreditsurl='https://ec.europa.eu/eurostat/data/database',\n",
    "                titletabs=['Chart', 'Table', 'Static Map', 'Dynamic Map'],\n",
    "                titletabsstile='font-weight: 700; font-size: 17px;',\n",
    "                titletabsactive=1,\n",
    "                dark=False,\n",
    "                backgroundimageurl='https://picsum.photos/id/293/1920/1080',\n",
    "                sidepaneltitle='Help',\n",
    "                sidepaneltext=\"Lorem ipsum dolor sit amet, consectetur adipiscing elit, sed do eiusmod tempor incididunt ut labore et dolore magna aliqua. Ut enim ad minim veniam, quis nostrud exercitation ullamco laboris nisi ut aliquip ex ea commodo consequat. Duis aute irure dolor in reprehenderit in voluptate velit esse cillum dolore eu fugiat nulla pariatur. Excepteur sint occaecat cupidatat non proident, sunt in culpa qui officia deserunt mollit anim id est laborum.\",\n",
    "                sidepanelcontent=[v.Icon(class_='pa-0 ma-0 ml-2', children=['mdi-help'])],\n",
    "                onclicktab=on_click_tab,\n",
    "                onclickcredits=on_click_credits,\n",
    "                onclicklogo=on_click_logo,\n",
    "                onclickfooter=on_click_footer)\n",
    "\n",
    "displayDatatable()\n",
    "\n",
    "g_app.show()"
   ]
  },
  {
   "cell_type": "code",
   "execution_count": null,
   "id": "eaad0522",
   "metadata": {},
   "outputs": [],
   "source": []
  }
 ],
 "metadata": {
  "kernelspec": {
   "display_name": "Python 3 (ipykernel)",
   "language": "python",
   "name": "python3"
  },
  "language_info": {
   "codemirror_mode": {
    "name": "ipython",
    "version": 3
   },
   "file_extension": ".py",
   "mimetype": "text/x-python",
   "name": "python",
   "nbconvert_exporter": "python",
   "pygments_lexer": "ipython3",
   "version": "3.7.13"
  }
 },
 "nbformat": 4,
 "nbformat_minor": 5
}
