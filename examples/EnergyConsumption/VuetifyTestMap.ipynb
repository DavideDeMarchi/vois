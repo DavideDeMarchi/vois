{
 "cells": [
  {
   "cell_type": "code",
   "execution_count": null,
   "id": "c00fd2bf",
   "metadata": {},
   "outputs": [],
   "source": [
    "from ipywidgets import widgets, Layout\n",
    "from IPython.core.display import HTML as coreHTML\n",
    "import numpy as np\n",
    "import pandas as pd\n",
    "\n",
    "from jeodpp import inter, imap\n",
    "from vois import geojsonUtils, svgUtils, interMap"
   ]
  },
  {
   "cell_type": "code",
   "execution_count": null,
   "id": "0c759bad",
   "metadata": {},
   "outputs": [],
   "source": [
    "##################################################################################################\n",
    "# Display data for custom geojson\n",
    "##################################################################################################\n",
    "country_codes = ['LV','AL','CH','AT','HR','ES','IS','RO','IT','VA','HU','SE','NL','CZ','DE','FR',\n",
    "                 'ME','BE','SI','LU','IE','BA','MC','BG','PL','LI','GB','RS','SM','DK','IM',\n",
    "                 'EE','SK','GR','LT','NO','PT','AD','MK','MT','GI','FI','XK','CY']\n",
    "\n",
    "country_selected = ['IT', 'CH']\n",
    "\n",
    "# Generate random values and create a dictionary: key=countrycode, value=random value in [0.0,100.0]\n",
    "d = dict(zip(country_codes, list(np.random.uniform(size=len(country_codes),low=0.0,high=100.0))))\n",
    "\n",
    "# Create a pandas dataframe from the dictionary\n",
    "df = pd.DataFrame(d.items(), columns=['iso2code', 'value'])\n",
    "df['label'] = df['value']\n",
    "\n",
    "colorlist = ['#440154', '#482878', '#3e4989', '#31688e', '#26828e', '#1f9e89', '#35b779', '#6ece58', '#b5de2b', '#fde725'] # Viridis\n",
    "\n",
    "debug = widgets.Output(layout=Layout(width='0px', height='0px'))\n",
    "with debug:\n",
    "    m = interMap.geojsonMap(df, './data/ne_50m_admin_0_countries.geojson', 'ISO_A2_EH',\n",
    "                            code_column='iso2code',\n",
    "                            codes_selected=country_selected, stroke_selected='red', \n",
    "                            colorlist=colorlist, stdevnumber=2.0,\n",
    "                            stroke_width=1.0, stroke='#010101', \n",
    "                            width='69%', height='550px',\n",
    "                            center=[43,12], zoom=5, basemap=13)\n",
    "\n",
    "svg = svgUtils.graduatedLegend(df, code_column='iso2code',\n",
    "                               codes_selected=country_selected, stroke_selected='red', \n",
    "                               colorlist=colorlist, stdevnumber=2.0, \n",
    "                               legendtitle='Legend title', legendunits='KTOE per 100K inhabit.',\n",
    "                               fontsize=16, width=340, height=530)\n",
    "\n",
    "outlegend = widgets.Output(layout=Layout(width='360px',height='550px'))\n",
    "with outlegend:\n",
    "    display(coreHTML(svg))\n",
    "widgets.HBox([m,outlegend])"
   ]
  },
  {
   "cell_type": "code",
   "execution_count": null,
   "id": "9a3f9ea7",
   "metadata": {},
   "outputs": [],
   "source": []
  }
 ],
 "metadata": {
  "kernelspec": {
   "display_name": "Python 3 (ipykernel)",
   "language": "python",
   "name": "python3"
  },
  "language_info": {
   "codemirror_mode": {
    "name": "ipython",
    "version": 3
   },
   "file_extension": ".py",
   "mimetype": "text/x-python",
   "name": "python",
   "nbconvert_exporter": "python",
   "pygments_lexer": "ipython3",
   "version": "3.7.13"
  }
 },
 "nbformat": 4,
 "nbformat_minor": 5
}
