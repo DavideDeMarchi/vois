{
 "cells": [
  {
   "cell_type": "code",
   "execution_count": 1,
   "id": "06de9367",
   "metadata": {},
   "outputs": [],
   "source": [
    "#######################################################################################################################\n",
    "# IMPORT LIBRARIES\n",
    "#######################################################################################################################\n",
    "from vois.vuetify import settings\n",
    "settings.dark_mode      = False\n",
    "settings.color_first    = '#68aad2'\n",
    "settings.color_second   = '#d8e7f5'\n",
    "settings.button_rounded = False\n",
    "\n",
    "from ipywidgets import widgets, Layout, HTML\n",
    "from IPython.display import display\n",
    "import ipyvuetify as v\n",
    "\n",
    "from vois.vuetify import app"
   ]
  },
  {
   "cell_type": "code",
   "execution_count": 3,
   "id": "63af50a5",
   "metadata": {},
   "outputs": [
    {
     "data": {
      "application/vnd.jupyter.widget-view+json": {
       "model_id": "db60f006efa847a4aa1d1fa62fa2822e",
       "version_major": 2,
       "version_minor": 0
      },
      "text/plain": [
       "AppBar(absolute=False, children=[Html(children=[AppBarNavIcon()], style_='overflow: hidden; ', tag='div'), Too…"
      ]
     },
     "metadata": {},
     "output_type": "display_data"
    },
    {
     "data": {
      "application/vnd.jupyter.widget-view+json": {
       "model_id": "71e3a248a15849f09f1e75b98470c686",
       "version_major": 2,
       "version_minor": 0
      },
      "text/plain": [
       "HBox(children=(Output(layout=Layout(height='0px', width='0px')), Output(layout=Layout(height='0px', width='0px…"
      ]
     },
     "metadata": {},
     "output_type": "display_data"
    },
    {
     "data": {
      "application/vnd.jupyter.widget-view+json": {
       "model_id": "5c20144a0e2f48cd8f8cd410c8e48766",
       "version_major": 2,
       "version_minor": 0
      },
      "text/plain": [
       "Output(layout=Layout(height='847px', width='99.7%'))"
      ]
     },
     "metadata": {},
     "output_type": "display_data"
    },
    {
     "data": {
      "application/vnd.jupyter.widget-view+json": {
       "model_id": "f3171ca067414636b659e1db3289802c",
       "version_major": 2,
       "version_minor": 0
      },
      "text/plain": [
       "Html(children=[Footer(children=[Row(children=[Col(children=[Row(children=[Btn(children=['Home'], class_='my-2'…"
      ]
     },
     "metadata": {},
     "output_type": "display_data"
    }
   ],
   "source": [
    "#######################################################################################################################\n",
    "# DEFINE THE APP\n",
    "#######################################################################################################################\n",
    "\n",
    "# Click on a tab of the title\n",
    "def on_click_tab(arg):\n",
    "    g_app.snackbar(arg)\n",
    "    \n",
    "# Click on the credits text\n",
    "def on_click_credits():\n",
    "    g_app.snackbar('Credits')\n",
    "    \n",
    "# Click on the logo\n",
    "def on_click_logo():\n",
    "    g_app.snackbar('LOGO')\n",
    "\n",
    "# Click on the footer buttons\n",
    "def on_click_footer(arg):\n",
    "    g_app.snackbar(arg)\n",
    "    \n",
    "g_app = app.app(title='Energy consumption example dashboard',\n",
    "                titlecredits='Created by Unit I.3',\n",
    "                titlewidth='35%',\n",
    "                footercolor='#dfdfe4',\n",
    "                footercredits='Data',\n",
    "                footercreditstooltip='Eurostat - European Commission',\n",
    "                footercreditsurl='https://ec.europa.eu/eurostat/data/database',\n",
    "                titletabs=['Chart', 'Table', 'Static Map', 'Dynamic Map'],\n",
    "                titletabsstile='font-weight: 700; font-size: 17px;',\n",
    "                dark=False,\n",
    "                backgroundimageurl='https://picsum.photos/id/293/1920/1080',\n",
    "                sidepanelwidth=400,\n",
    "                sidepaneltitle='Help',\n",
    "                sidepaneltext=\"Lorem ipsum dolor sit amet, consectetur adipiscing elit, sed do eiusmod tempor incididunt ut labore et dolore magna aliqua. Ut enim ad minim veniam, quis nostrud exercitation ullamco laboris nisi ut aliquip ex ea commodo consequat. Duis aute irure dolor in reprehenderit in voluptate velit esse cillum dolore eu fugiat nulla pariatur. Excepteur sint occaecat cupidatat non proident, sunt in culpa qui officia deserunt mollit anim id est laborum.\",\n",
    "                sidepanelcontent=[v.Icon(class_='pa-0 ma-0 ml-2', children=['mdi-help'])],\n",
    "                onclicktab=on_click_tab,\n",
    "                onclickcredits=on_click_credits,\n",
    "                onclicklogo=on_click_logo,\n",
    "                onclickfooter=on_click_footer)\n",
    "\n",
    "g_app.show()"
   ]
  },
  {
   "cell_type": "code",
   "execution_count": null,
   "id": "5c25d27b",
   "metadata": {},
   "outputs": [],
   "source": []
  }
 ],
 "metadata": {
  "kernelspec": {
   "display_name": "Python 3 (ipykernel)",
   "language": "python",
   "name": "python3"
  },
  "language_info": {
   "codemirror_mode": {
    "name": "ipython",
    "version": 3
   },
   "file_extension": ".py",
   "mimetype": "text/x-python",
   "name": "python",
   "nbconvert_exporter": "python",
   "pygments_lexer": "ipython3",
   "version": "3.7.13"
  }
 },
 "nbformat": 4,
 "nbformat_minor": 5
}
