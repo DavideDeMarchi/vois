{
 "cells": [
  {
   "cell_type": "code",
   "execution_count": null,
   "id": "c3db0ce7",
   "metadata": {},
   "outputs": [],
   "source": [
    "from ipywidgets import widgets, Layout\n",
    "from vois.vuetify import page, selectSingle\n",
    "import pandas as pd\n",
    "import plotly.express as px\n",
    "\n",
    "output = widgets.Output()\n",
    "display(output)\n",
    "\n",
    "# Create the Page\n",
    "p = page.page('IRIS example', 'Test page', output,\n",
    "              copyrighttext='European Commission - Joint Research Centre',\n",
    "              show_back=True, show_help=False, show_credits=True)\n",
    "card = p.create()\n",
    "\n",
    "# Fill the page with two areas: controls and chart\n",
    "outcontrols = widgets.Output(layout=Layout(width='300px', margin='50px 0px 0px 50px'))\n",
    "outchart    = widgets.Output(layout=Layout(width='1000px', height='calc(100vh - 100px)', margin='20px 0px 0px 0px'))\n",
    "card.children = [widgets.HBox([outcontrols,outchart])]\n",
    "\n",
    "\n",
    "# Load Iris dataset\n",
    "iris = pd.read_csv(\"iris.csv\")\n",
    "\n",
    "# At every selection of a species\n",
    "def onchange():\n",
    "    df = iris[iris['variety'] == sel.value]\n",
    "    fig = px.scatter(df, x=\"sepal.width\", y=\"sepal.length\")\n",
    "    fig.update_layout(width=980, height=780)    \n",
    "    outchart.clear_output()\n",
    "    with outchart:\n",
    "        fig.show()\n",
    "        \n",
    "        \n",
    "# Create a selectSingle widget to select the species\n",
    "species = list(iris['variety'].unique())\n",
    "sel = selectSingle.selectSingle('Select Species', species, selection=species[0], width=230, clearable=False, onchange=onchange)\n",
    "onchange()\n",
    "with outcontrols:\n",
    "    display(sel.draw())\n",
    "\n",
    "p.open()"
   ]
  },
  {
   "cell_type": "code",
   "execution_count": null,
   "id": "d19d43ff",
   "metadata": {},
   "outputs": [],
   "source": []
  }
 ],
 "metadata": {
  "kernelspec": {
   "display_name": "Python 3 (ipykernel)",
   "language": "python",
   "name": "python3"
  },
  "language_info": {
   "codemirror_mode": {
    "name": "ipython",
    "version": 3
   },
   "file_extension": ".py",
   "mimetype": "text/x-python",
   "name": "python",
   "nbconvert_exporter": "python",
   "pygments_lexer": "ipython3",
   "version": "3.7.13"
  }
 },
 "nbformat": 4,
 "nbformat_minor": 5
}
