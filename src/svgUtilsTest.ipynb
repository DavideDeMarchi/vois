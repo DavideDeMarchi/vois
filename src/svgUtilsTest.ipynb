{
 "cells": [
  {
   "cell_type": "code",
   "execution_count": null,
   "id": "e2022c64",
   "metadata": {},
   "outputs": [],
   "source": [
    "import plotly.express as px\n",
    "\n",
    "#colorlist = px.colors.sequential.Viridis\n",
    "colorlist = px.colors.sequential.Blues\n",
    "\n",
    "%run svgUtils.py\n",
    "display(HTML(categoriesLegend(\"Legend title\",\n",
    "                              ['1:\\tVery long class description that can span multiple lines and that contains no info at all', 'Class 2', 'Class 3', 'Class 4'],\n",
    "                              colorlist=colorlist,\n",
    "                              width=250, dark=False)))"
   ]
  },
  {
   "cell_type": "code",
   "execution_count": null,
   "id": "1b0f1312",
   "metadata": {},
   "outputs": [],
   "source": [
    "import numpy as np\n",
    "import pandas as pd\n",
    "\n",
    "%run svgUtils.py\n",
    "\n",
    "country_codes = ['LV','AL','CH','AT','HR','ES','IS','RO','IT','VA','HU','SE','NL','CZ','DE','FR',\n",
    "                 'ME','BE','SI','LU','IE','BA','MC','BG','PL','LI','GB','RS','SM','DK','IM',\n",
    "                 'EE','SK','GR','LT','NO','PT','AD','MK','MT','GI','FI','XK','CY']\n",
    "\n",
    "country_selected = ['IT', 'CH', 'FR']\n",
    "\n",
    "# Generate random values and create a dictionary: key=countrycode, value=random value in [0.0,100.0]\n",
    "d = dict(zip(country_codes, list(np.random.uniform(size=len(country_codes),low=0.0,high=100.0))))\n",
    "\n",
    "# Create a pandas dataframe from the dictionary\n",
    "df = pd.DataFrame(d.items(), columns=['iso2code', 'value'])\n",
    "\n",
    "colorlist = ['#440154', '#482878', '#3e4989', '#31688e', '#26828e', '#1f9e89', '#35b779', '#6ece58', '#b5de2b', '#fde725'][::-1]  # Viridis\n",
    "\n",
    "svg = graduatedLegend(df, code_column='iso2code',\n",
    "                      codes_selected=country_selected, stroke_selected='red', \n",
    "                      colorlist=colorlist, stdevnumber=2.0, \n",
    "                      legendtitle='2020 Total energy consumption', legendunits='KTOE per 100K inhabit.',\n",
    "                      fontsize=18,\n",
    "                      width=240, height=600)\n",
    "display(HTML(svg))"
   ]
  },
  {
   "cell_type": "code",
   "execution_count": null,
   "id": "6eaf80ee",
   "metadata": {},
   "outputs": [],
   "source": [
    "import pandas as pd\n",
    "\n",
    "%run svgUtils.py\n",
    "\n",
    "scalemin = 5.0\n",
    "scalemax = 80.0\n",
    "\n",
    "df = pd.DataFrame({1: scalemin, 2: scalemax}.items(),  columns=['code', 'value'])\n",
    "\n",
    "colorlist = ['#440154', '#482878', '#3e4989', '#31688e', '#26828e', '#1f9e89', '#35b779', '#6ece58', '#b5de2b', '#fde725'][::-1]  # Viridis\n",
    "\n",
    "svg = graduatedLegend(df, code_column='code',\n",
    "                      colorlist=colorlist,\n",
    "                      stdevnumber=2.0, \n",
    "                      minallowed_value=scalemin,\n",
    "                      maxallowed_value=scalemax,\n",
    "                      legendtitle='2020 Total energy consumption',\n",
    "                      legendunits='KTOE per 100K inhabit.',\n",
    "                      fontsize=16,\n",
    "                      width=340,\n",
    "                      height=600)\n",
    "display(HTML(svg))"
   ]
  },
  {
   "cell_type": "code",
   "execution_count": null,
   "id": "e342b6ee",
   "metadata": {},
   "outputs": [],
   "source": [
    "df"
   ]
  },
  {
   "cell_type": "code",
   "execution_count": null,
   "id": "32688665",
   "metadata": {},
   "outputs": [],
   "source": [
    "%run svgUtils.py\n",
    "\n",
    "outputBorder = ''\n",
    "outTitle = widgets.Output(layout=Layout(width='99%',                   height='64px',  border=outputBorder))\n",
    "outLogo  = widgets.Output(layout=Layout(width='1%', min_width='110px', height='82px',  border=outputBorder))\n",
    "\n",
    "outTitle.clear_output()\n",
    "with outTitle:\n",
    "    display(HTML(svgTitle()))\n",
    "\n",
    "outLogo.clear_output()\n",
    "with outLogo:\n",
    "    display(HTML(svgLogo()))\n",
    "\n",
    "display(widgets.HBox([outTitle,outLogo]))"
   ]
  },
  {
   "cell_type": "code",
   "execution_count": null,
   "id": "de9ea150",
   "metadata": {},
   "outputs": [],
   "source": [
    "display(HTML(svgTitle()))"
   ]
  },
  {
   "cell_type": "code",
   "execution_count": 1,
   "id": "2771b1f4",
   "metadata": {},
   "outputs": [
    {
     "data": {
      "application/vnd.jupyter.widget-view+json": {
       "model_id": "2dd7fcb85eec4ff7bf1b3405771dd429",
       "version_major": 2,
       "version_minor": 0
      },
      "text/plain": [
       "Output()"
      ]
     },
     "metadata": {},
     "output_type": "display_data"
    },
    {
     "data": {
      "application/vnd.jupyter.widget-view+json": {
       "model_id": "06ea558f0d0b457f90034b297cd5e776",
       "version_major": 2,
       "version_minor": 0
      },
      "text/plain": [
       "Output(layout=Layout(height='calc(min(20vw, 35vh) + 14px)', width='min(20vw, 35vh)'))"
      ]
     },
     "metadata": {},
     "output_type": "display_data"
    }
   ],
   "source": [
    "%run svgUtils.py\n",
    "\n",
    "import plotly.express as px\n",
    "debug = widgets.Output()\n",
    "display(debug)\n",
    "\n",
    "def onclick(arg):\n",
    "    with debug:\n",
    "        print('clicked %s' % arg)\n",
    "    \n",
    "out, txt = AnimatedPieChart(values=[10.0, 25.0, 18.0, 20.0, 9.5], labels=['aa<br>aa<br>', 'bbbbbb<br>bbbbbb', 'cccccccccccc', 'dddddddddddd', 'eee'], \n",
    "                            centerfontsize=28, fontsize=18, textweight=500, colors=px.colors.qualitative.D3, backcolor='#dfdfdf',\n",
    "                            centertext='Sample', onclick=onclick, dimension='min(20vw, 35vh)', duration=1.0)\n",
    "display(out)"
   ]
  },
  {
   "cell_type": "code",
   "execution_count": null,
   "id": "92b35550",
   "metadata": {},
   "outputs": [],
   "source": [
    "%run svgUtils.py\n",
    "from random import randrange\n",
    "\n",
    "value = randrange(1000)/10.0\n",
    "SmallCircle('Green<br>deal', '%.1f%%' % (value), value, forecolor='#3fc1b9', backcolor='#b8e6e3', textcolor='black', dimension=140)\n",
    "#SmallCircle('Edible', '53.7%', 53.7, forecolor=settings.color_first, backcolor=settings.color_second, textsize=1, textcolor='black', dimension='min(20vh, 15vw)')"
   ]
  },
  {
   "cell_type": "code",
   "execution_count": null,
   "id": "2abae384",
   "metadata": {},
   "outputs": [],
   "source": [
    "# Position Sentiment/Emotions/Occupation/Age Pie Charts inside bigger squares\n",
    "%run svgUtils.py\n",
    "from random import randrange\n",
    "from ipywidgets import HTML, widgets, Layout\n",
    "import plotly.express as px\n",
    "\n",
    "def randomList(n):\n",
    "    res = []\n",
    "    for i in range(n):\n",
    "        res.append(50.0+randrange(500)/10.0)   # in [50,100]\n",
    "    return res\n",
    "\n",
    "pie1,txt = AnimatedPieChart(values=randomList(3), labels=['Positive:<br>', 'Neutral:<br>', 'Negative:<br>'],\n",
    "                        colors=['#70c85a', '#b1b0b0', '#ed6d21'], \n",
    "                        dimension=250, fontsize=26, textweight=500,\n",
    "                        centertext='Sentiment', centerfontsize=30, centertextweight=700, backcolor='#dfdfdf')\n",
    "\n",
    "pie2,txt = AnimatedPieChart(values=randomList(6)+[0],labels=['Surprise:<br>', 'Joy:<br>', 'Fear:<br>', 'Sad:<br>', 'Disgust:<br>', 'Anger:<br>'], \n",
    "                        colors=px.colors.qualitative.Dark2,\n",
    "                        dimension=250, fontsize=22, textweight=600, \n",
    "                        centertext='Emotions', centerfontsize=30, centertextweight=700, backcolor='#dfdfdf')\n",
    "\n",
    "pie3,txt = AnimatedPieChart(values=randomList(9),labels=['no answer:<br>','Manual<br>worker:<br>','Manager:<br>','House<br>person:<br>','Unemployed:<br>',\n",
    "                                                     'Professional<br>worker:<br>','Other:<br>','Self-employed:<br>','Student:<br>'],\n",
    "                        colors=px.colors.qualitative.D3,\n",
    "                        dimension=250, fontsize=18, textweight=600, \n",
    "                        centertext='Occupation', centerfontsize=30, centertextweight=700, backcolor='#dfdfdf')\n",
    "    \n",
    "pie4,txt = AnimatedPieChart(values=randomList(6),labels=['15-24:<br>', '25-39:<br>', '40-54:<br>', '55-69:<br>','70+:<br>', 'no answer'],\n",
    "                        colors=px.colors.qualitative.Vivid,\n",
    "                        dimension=250, fontsize=26, textweight=600, \n",
    "                        centertext='Age', centerfontsize=30, centertextweight=700, backcolor='#dfdfdf')\n",
    "    \n",
    "out1 = widgets.Output(layout=Layout(width='350px', height='350px'))\n",
    "#out1.layout.border = '1px solid lightgrey'\n",
    "with out1:\n",
    "    display(HTML(\"<br>\"))\n",
    "    display(widgets.HBox([widgets.Label(\"    \",layout=Layout(width=\"42px\")),pie1]))\n",
    "\n",
    "out2 = widgets.Output(layout=Layout(width='350px', height='350px'))\n",
    "#out2.layout.border = '1px solid lightgrey'\n",
    "with out2:\n",
    "    display(HTML(\"<br>\"))\n",
    "    display(widgets.HBox([widgets.Label(\"    \",layout=Layout(width=\"42px\")),pie2]))\n",
    "\n",
    "out3 = widgets.Output(layout=Layout(width='350px', height='350px'))\n",
    "#out3.layout.border = '1px solid lightgrey'\n",
    "with out3:\n",
    "    display(HTML(\"<br>\"))\n",
    "    display(widgets.HBox([widgets.Label(\"    \",layout=Layout(width=\"42px\")),pie3]))\n",
    "\n",
    "out4 = widgets.Output(layout=Layout(width='350px', height='350px'))\n",
    "#out4.layout.border = '1px solid lightgrey'\n",
    "with out4:\n",
    "    display(HTML(\"<br>\"))\n",
    "    display(widgets.HBox([widgets.Label(\"    \",layout=Layout(width=\"42px\")),pie4]))\n",
    "\n",
    "display(widgets.HBox([out1,out2]))\n",
    "display(widgets.HBox([out3,out4]))"
   ]
  },
  {
   "cell_type": "code",
   "execution_count": null,
   "id": "574fa09f",
   "metadata": {},
   "outputs": [],
   "source": []
  }
 ],
 "metadata": {
  "kernelspec": {
   "display_name": "Python 3 (ipykernel)",
   "language": "python",
   "name": "python3"
  },
  "language_info": {
   "codemirror_mode": {
    "name": "ipython",
    "version": 3
   },
   "file_extension": ".py",
   "mimetype": "text/x-python",
   "name": "python",
   "nbconvert_exporter": "python",
   "pygments_lexer": "ipython3",
   "version": "3.7.13"
  }
 },
 "nbformat": 4,
 "nbformat_minor": 5
}
