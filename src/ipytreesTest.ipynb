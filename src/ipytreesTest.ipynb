{
 "cells": [
  {
   "cell_type": "code",
   "execution_count": null,
   "id": "05166f4e",
   "metadata": {},
   "outputs": [],
   "source": [
    "%run ipytrees.py\n",
    "\n",
    "def onclick(event):\n",
    "    if event['new']:\n",
    "        print(event.owner, event.owner.value)\n",
    "        \n",
    "tree, nodes, parent_of = createIpytreeFromList(['A','A.1','A.2','A.1.1','A.3.1','A.4.1.2','A.5.2.1','A.4.2.3.1','B','B.A'],\n",
    "                                               rootName='Directorates', valuefor={'A.1.1': 10.0, 'A.3.1': 5.0},\n",
    "                                               handle_click=onclick)\n",
    "tree"
   ]
  },
  {
   "cell_type": "code",
   "execution_count": null,
   "id": "c86b98e5",
   "metadata": {},
   "outputs": [],
   "source": []
  }
 ],
 "metadata": {
  "kernelspec": {
   "display_name": "Python 3 (ipykernel)",
   "language": "python",
   "name": "python3"
  },
  "language_info": {
   "codemirror_mode": {
    "name": "ipython",
    "version": 3
   },
   "file_extension": ".py",
   "mimetype": "text/x-python",
   "name": "python",
   "nbconvert_exporter": "python",
   "pygments_lexer": "ipython3",
   "version": "3.7.12"
  }
 },
 "nbformat": 4,
 "nbformat_minor": 5
}
