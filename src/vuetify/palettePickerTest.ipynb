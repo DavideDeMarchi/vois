{
 "cells": [
  {
   "cell_type": "code",
   "execution_count": null,
   "id": "fdc2ac20",
   "metadata": {},
   "outputs": [],
   "source": [
    "# Simple palette picker\n",
    "%run palettePicker.py\n",
    "\n",
    "import ipyvuetify as v\n",
    "from ipywidgets import widgets\n",
    "from IPython.display import display\n",
    "\n",
    "output = widgets.Output()\n",
    "\n",
    "def onchangePalette():\n",
    "    with output:\n",
    "        print(\"Palette changed to\", p.value, p.colors)\n",
    "\n",
    "p = palettePicker(label='Palette:', clearable=False, height=26, onchange=onchangePalette)\n",
    "\n",
    "display(p.draw())\n",
    "display(output)"
   ]
  },
  {
   "cell_type": "code",
   "execution_count": null,
   "id": "c177d34a",
   "metadata": {},
   "outputs": [],
   "source": [
    "# Complex palette picker also managing the families\n",
    "%run palettePicker.py\n",
    "%run selectSingle.py\n",
    "%run switch.py\n",
    "\n",
    "import ipyvuetify as v\n",
    "from ipywidgets import widgets\n",
    "from IPython.display import display\n",
    "\n",
    "output = widgets.Output()\n",
    "\n",
    "# Utility: convert three integers to '#RRGGBB'\n",
    "def RGB(r,g,b):\n",
    "    return '#{:02X}{:02X}{:02X}'.format(r, g, b)\n",
    "    \n",
    "custompalettes = [\n",
    "    { \"name\": \"Simple\", \"colors\": ['#000000', '#FF0000', '#00FF00', '#0000FF', '#FFFF00', '#FF00FF', '#00FFFF', '#FFFFFF']},\n",
    "    \n",
    "    { \"name\": \"Dem\",    \"colors\": [RGB(255,255,170), RGB( 39,168, 39), RGB( 11,128, 64), RGB(255,255,  0), RGB(255,186,  3),\n",
    "                                   RGB(158, 30,  2), RGB(110, 40, 10), RGB(138, 94, 66), RGB(255,255,255)]},\n",
    "    \n",
    "    { \"name\": \"NDVI\",   \"colors\": [RGB(120,69,25), RGB(255,178,74), RGB(255,237,166), RGB(173,232,94),\n",
    "                                   RGB(135,181,64), RGB(3,156,0), RGB(1,100,0), RGB(1,80,0)]}\n",
    "]\n",
    "\n",
    "families = ['carto', 'cmocean', 'cyclical', 'diverging', 'plotlyjs', 'qualitative', 'sequential', 'custom']\n",
    "family      = 'sequential'\n",
    "interpolate = True\n",
    "\n",
    "p = None\n",
    "def onchangePalette():\n",
    "    if not p is None:\n",
    "        with output:\n",
    "            print(\"Palette changed to\", p.value, p.colors)\n",
    "\n",
    "def onchangeFamily():\n",
    "    global family, interpolate\n",
    "    family = sel.value\n",
    "    if family == 'carto' or family == 'qualitative':\n",
    "        interpolate = False\n",
    "        sw.value = interpolate\n",
    "    else:\n",
    "        interpolate = True\n",
    "        sw.value = interpolate\n",
    "    p.updatePalettes(family,interpolate)\n",
    "\n",
    "def onchangeInterpolate(flag):\n",
    "    global interpolate\n",
    "    interpolate = flag\n",
    "    p.updatePalettes(family,interpolate)\n",
    "    \n",
    "\n",
    "sel = selectSingle('Family:', families, selection=family, width=160, onchange=onchangeFamily, marginy=1, clearable=False)\n",
    "sw  = switch(interpolate, \"Interpolate\", onchange=onchangeInterpolate)\n",
    "\n",
    "p = palettePicker(family=family, custompalettes=custompalettes, label='Palette:', clearable=False, height=26, onchange=onchangePalette)\n",
    "\n",
    "spacer = v.Html(tag='div',children=[' '], style_='width: 10px;')\n",
    "\n",
    "display(widgets.HBox([sel.draw(), spacer, p.draw(), spacer, sw.draw()]))\n",
    "display(output)"
   ]
  },
  {
   "cell_type": "code",
   "execution_count": null,
   "id": "3712e9d3",
   "metadata": {},
   "outputs": [],
   "source": [
    "p.value"
   ]
  },
  {
   "cell_type": "code",
   "execution_count": null,
   "id": "3e4779bf",
   "metadata": {},
   "outputs": [],
   "source": [
    "p.value = 'Viridis'"
   ]
  },
  {
   "cell_type": "code",
   "execution_count": null,
   "id": "218f51a0",
   "metadata": {},
   "outputs": [],
   "source": [
    "p.value = 'Oranges'"
   ]
  },
  {
   "cell_type": "code",
   "execution_count": null,
   "id": "27846196",
   "metadata": {},
   "outputs": [],
   "source": [
    "p.value = 'not existing palette name'"
   ]
  },
  {
   "cell_type": "code",
   "execution_count": null,
   "id": "e607a718",
   "metadata": {},
   "outputs": [],
   "source": [
    "p.colors"
   ]
  },
  {
   "cell_type": "code",
   "execution_count": null,
   "id": "0f26cc3a",
   "metadata": {},
   "outputs": [],
   "source": []
  }
 ],
 "metadata": {
  "kernelspec": {
   "display_name": "Python 3 (ipykernel)",
   "language": "python",
   "name": "python3"
  },
  "language_info": {
   "codemirror_mode": {
    "name": "ipython",
    "version": 3
   },
   "file_extension": ".py",
   "mimetype": "text/x-python",
   "name": "python",
   "nbconvert_exporter": "python",
   "pygments_lexer": "ipython3",
   "version": "3.7.13"
  }
 },
 "nbformat": 4,
 "nbformat_minor": 5
}
