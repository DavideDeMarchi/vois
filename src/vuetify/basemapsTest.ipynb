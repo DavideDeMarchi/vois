{
 "cells": [
  {
   "cell_type": "code",
   "execution_count": null,
   "id": "e3507c89",
   "metadata": {},
   "outputs": [],
   "source": [
    "# Treeview to select the basemap for a ipyleaflet map instance\n",
    "from jeodpp import inter, imap\n",
    "from ipywidgets import widgets, Layout\n",
    "\n",
    "%run basemaps.py\n",
    "\n",
    "height = 650\n",
    "\n",
    "m = imap.Map(layout=Layout(height='%dpx'%height))\n",
    "#m.layersControl()\n",
    "\n",
    "b = basemaps(m, height=height, dark=False)\n",
    "\n",
    "widgets.HBox([b.draw(),m])"
   ]
  },
  {
   "cell_type": "code",
   "execution_count": null,
   "id": "ad8676a4",
   "metadata": {},
   "outputs": [],
   "source": [
    "type(b.current_layer)"
   ]
  },
  {
   "cell_type": "code",
   "execution_count": null,
   "id": "1016cace",
   "metadata": {},
   "outputs": [],
   "source": [
    "isinstance(b.current_layer, ipyleaflet.leaflet.TileLayer)"
   ]
  },
  {
   "cell_type": "code",
   "execution_count": null,
   "id": "1404e4d7",
   "metadata": {},
   "outputs": [],
   "source": [
    "b.current_layer.name"
   ]
  },
  {
   "cell_type": "code",
   "execution_count": null,
   "id": "21ca593a",
   "metadata": {},
   "outputs": [],
   "source": [
    "b.current_layer.url"
   ]
  },
  {
   "cell_type": "code",
   "execution_count": null,
   "id": "f6b34811",
   "metadata": {},
   "outputs": [],
   "source": [
    "newlayer = ipyleaflet.TileLayer(name='Basemap: ' + b.current_layer.name, visible=True, opacity=0.5, url=b.current_layer.url)\n",
    "m.add_layer(newlayer)"
   ]
  },
  {
   "cell_type": "code",
   "execution_count": null,
   "id": "3911472d",
   "metadata": {},
   "outputs": [],
   "source": [
    "m.layers[1].base"
   ]
  },
  {
   "cell_type": "code",
   "execution_count": null,
   "id": "602afd6e",
   "metadata": {},
   "outputs": [],
   "source": []
  }
 ],
 "metadata": {
  "kernelspec": {
   "display_name": "Python 3 (ipykernel)",
   "language": "python",
   "name": "python3"
  },
  "language_info": {
   "codemirror_mode": {
    "name": "ipython",
    "version": 3
   },
   "file_extension": ".py",
   "mimetype": "text/x-python",
   "name": "python",
   "nbconvert_exporter": "python",
   "pygments_lexer": "ipython3",
   "version": "3.7.13"
  }
 },
 "nbformat": 4,
 "nbformat_minor": 5
}
