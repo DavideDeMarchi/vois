{
 "cells": [
  {
   "cell_type": "code",
   "execution_count": null,
   "id": "888a163b",
   "metadata": {},
   "outputs": [],
   "source": [
    "%run colors.py\n",
    "s = colorInterpolator(['#ff0000', '#00ff00'])\n",
    "s.GetColor(50)"
   ]
  },
  {
   "cell_type": "code",
   "execution_count": null,
   "id": "551d1499",
   "metadata": {},
   "outputs": [],
   "source": [
    "%run colors.py\n",
    "s = colorInterpolator(['#ff0000', '#00ff00'])\n",
    "s.GetColors(20)"
   ]
  },
  {
   "cell_type": "code",
   "execution_count": null,
   "id": "09338d26-fe04-4ead-9942-86bdcb466bfe",
   "metadata": {},
   "outputs": [],
   "source": [
    "%run colors.py\n",
    "complementaryColor(string2rgb('#ff00ff'))"
   ]
  },
  {
   "cell_type": "code",
   "execution_count": null,
   "id": "6fc440c6-19f5-4d2e-bbdd-4ec04ce36001",
   "metadata": {},
   "outputs": [],
   "source": [
    "%run colors.py\n",
    "#col = randomColor()\n",
    "col = '#ff0000'\n",
    "paletteImage([col] + [rgb2hex(complementaryColor(string2rgb(col)))], interpolate=False)"
   ]
  },
  {
   "cell_type": "code",
   "execution_count": null,
   "id": "05b61caf-eb10-4d63-af46-b01239969447",
   "metadata": {},
   "outputs": [],
   "source": [
    "%run colors.py\n",
    "#col = randomColor()\n",
    "col = '#ff0000'\n",
    "paletteImage([col] + [rgb2hex(x) for x in triadicColor(string2rgb(col))], interpolate=False)"
   ]
  },
  {
   "cell_type": "code",
   "execution_count": null,
   "id": "264f335f-092d-49f7-9b14-ef90b4758836",
   "metadata": {},
   "outputs": [],
   "source": [
    "%run colors.py\n",
    "#col = randomColor()\n",
    "col = '#ff0000'\n",
    "paletteImage([col] + [rgb2hex(x) for x in splitComplementaryColor(string2rgb(col))], interpolate=False)"
   ]
  },
  {
   "cell_type": "code",
   "execution_count": null,
   "id": "12d11a17-af45-4b02-ac09-0822dbe09adb",
   "metadata": {},
   "outputs": [],
   "source": [
    "%run colors.py\n",
    "#col = randomColor()\n",
    "col = '#ff0000'\n",
    "paletteImage([col] + [rgb2hex(x) for x in tetradicColor(string2rgb(col))], interpolate=False)"
   ]
  },
  {
   "cell_type": "code",
   "execution_count": null,
   "id": "c8911d85-3ffa-4645-a90b-91b4880fd707",
   "metadata": {},
   "outputs": [],
   "source": [
    "%run colors.py\n",
    "#col = randomColor()\n",
    "col = '#ff0000'\n",
    "paletteImage([col] + [rgb2hex(x) for x in squareColor(string2rgb(col))], interpolate=False)"
   ]
  },
  {
   "cell_type": "code",
   "execution_count": null,
   "id": "9977cda3-bcb9-49c6-aa73-667a7f3e5233",
   "metadata": {},
   "outputs": [],
   "source": [
    "%run colors.py\n",
    "#col = randomColor()\n",
    "col = '#ff0000'\n",
    "paletteImage([col] + [rgb2hex(x) for x in analogousColor(string2rgb(col))], interpolate=False)"
   ]
  },
  {
   "cell_type": "code",
   "execution_count": null,
   "id": "10c47adf-ac0c-4fa5-92db-df5eba43a769",
   "metadata": {},
   "outputs": [],
   "source": [
    "%run colors.py\n",
    "#col = randomColor()\n",
    "col = '#ff0000'\n",
    "col1 = rgb2hex(monochromaticColor(string2rgb(col), increment=-0.6))\n",
    "col2 = rgb2hex(monochromaticColor(string2rgb(col), increment=-0.4))\n",
    "col3 = rgb2hex(monochromaticColor(string2rgb(col), increment=-0.2))\n",
    "col4 = rgb2hex(monochromaticColor(string2rgb(col), increment=0.2))\n",
    "col5 = rgb2hex(monochromaticColor(string2rgb(col), increment=0.4))\n",
    "col6 = rgb2hex(monochromaticColor(string2rgb(col), increment=0.6))\n",
    "paletteImage([col1, col2, col3, col, col4, col5, col6], interpolate=False)"
   ]
  },
  {
   "cell_type": "code",
   "execution_count": null,
   "id": "5814e714",
   "metadata": {},
   "outputs": [],
   "source": [
    "from ipywidgets import HTML\n",
    "from jeodpp import inter\n",
    "import plotly.express as px\n",
    "#print(px.colors.sequential.Viridis)\n",
    "display(HTML(inter.colorSchemaLegend(px.colors.sequential.Viridis, Title=\"Plotly colorscale\", Markers=True, Height=40, MinValue=0, MaxValue=100, NumPixels=450)))"
   ]
  },
  {
   "cell_type": "code",
   "execution_count": null,
   "id": "4fcb443d",
   "metadata": {},
   "outputs": [],
   "source": [
    "%run colors.py\n",
    "\n",
    "palette = ['rgb(247,251,255)', 'rgb(222,235,247)', 'rgb(198,219,239)', 'rgb(158,202,225)', 'rgb(107,174,214)', 'rgb(66,146,198)', 'rgb(33,113,181)', 'rgb(8,81,156)', 'rgb(8,48,107)']\n",
    "\n",
    "interpolator = colorInterpolator(palette)\n",
    "interpolator.GetColor(50.0)"
   ]
  },
  {
   "cell_type": "code",
   "execution_count": null,
   "id": "8886699f",
   "metadata": {},
   "outputs": [],
   "source": [
    "import plotly.express as px\n",
    "px.colors.sequential.Plasma"
   ]
  },
  {
   "cell_type": "code",
   "execution_count": null,
   "id": "44e5f02f",
   "metadata": {},
   "outputs": [],
   "source": [
    "from jeodpp import inter\n",
    "import plotly.express as px\n",
    "colorlist=['#0d0887', '#46039f', '#7201a8', '#9c179e', '#bd3786', '#d8576b', '#ed7953', '#fb9f3a', '#fdca26', '#f0f921']\n",
    "display(HTML(inter.colorSchemaLegend(colorlist, Title=\"Plotly colorscale\", Markers=False, Height=40, MinValue=0, MaxValue=100, NumPixels=450)))"
   ]
  },
  {
   "cell_type": "code",
   "execution_count": null,
   "id": "63e1efd8",
   "metadata": {},
   "outputs": [],
   "source": [
    "%run colors.py\n",
    "import plotly.express as px\n",
    "\n",
    "img = paletteImage(px.colors.sequential.Viridis, width=400, height=40, interpolate=True)\n",
    "print(image2Base64(img))\n",
    "img"
   ]
  },
  {
   "cell_type": "code",
   "execution_count": null,
   "id": "b600927f",
   "metadata": {},
   "outputs": [],
   "source": [
    "# Selection of a colorpalette\n",
    "import colors\n",
    "import ipyvuetify as v\n",
    "from vuetify import selectImage\n",
    "import plotly.express as px\n",
    "\n",
    "width = 400\n",
    "height = 34\n",
    "\n",
    "palettes = ['Viridis', 'Plasma', 'Turbo', 'Reds', 'Greens', 'Oranges', 'YlOrRd']\n",
    "images = [{\"name\": x, \"image\": colors.image2Base64(colors.paletteImage(eval('px.colors.sequential.'+x), width=width, height=height))} for x in palettes]\n",
    "\n",
    "s = selectImage.selectImage(images=images, width=\"%dpx\"%(width+150), max_width=width, max_height=height, outlined=True, margins=\"ma-0 mr-2\")\n",
    "s"
   ]
  },
  {
   "cell_type": "code",
   "execution_count": null,
   "id": "3c988c40",
   "metadata": {},
   "outputs": [],
   "source": []
  }
 ],
 "metadata": {
  "kernelspec": {
   "display_name": "Python [interapro_env]",
   "language": "python",
   "name": "conda-env-interapro_env-py"
  },
  "language_info": {
   "codemirror_mode": {
    "name": "ipython",
    "version": 3
   },
   "file_extension": ".py",
   "mimetype": "text/x-python",
   "name": "python",
   "nbconvert_exporter": "python",
   "pygments_lexer": "ipython3",
   "version": "3.11.6"
  }
 },
 "nbformat": 4,
 "nbformat_minor": 5
}
