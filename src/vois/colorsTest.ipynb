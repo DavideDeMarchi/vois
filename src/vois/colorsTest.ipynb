{
 "cells": [
  {
   "cell_type": "code",
   "execution_count": null,
   "id": "888a163b",
   "metadata": {},
   "outputs": [],
   "source": [
    "%run colors.py\n",
    "s = colorInterpolator(['#ff0000', '#00ff00'])\n",
    "s.GetColor(50)"
   ]
  },
  {
   "cell_type": "code",
   "execution_count": null,
   "id": "551d1499",
   "metadata": {},
   "outputs": [],
   "source": [
    "%run colors.py\n",
    "s = colorInterpolator(['#ff0000', '#00ff00'])\n",
    "s.GetColors(20)"
   ]
  },
  {
   "cell_type": "code",
   "execution_count": null,
   "id": "09338d26-fe04-4ead-9942-86bdcb466bfe",
   "metadata": {},
   "outputs": [],
   "source": [
    "%run colors.py\n",
    "complementaryColor(string2rgb('#ff00ff'))"
   ]
  },
  {
   "cell_type": "code",
   "execution_count": null,
   "id": "6fc440c6-19f5-4d2e-bbdd-4ec04ce36001",
   "metadata": {},
   "outputs": [],
   "source": [
    "%run colors.py\n",
    "col = randomColor()\n",
    "paletteImage([col] + [rgb2hex(complementaryColor(string2rgb(col)))], interpolate=False)"
   ]
  },
  {
   "cell_type": "code",
   "execution_count": null,
   "id": "05b61caf-eb10-4d63-af46-b01239969447",
   "metadata": {},
   "outputs": [],
   "source": [
    "%run colors.py\n",
    "col = randomColor()\n",
    "paletteImage([col] + [rgb2hex(x) for x in triadicColor(string2rgb(col))], interpolate=False)"
   ]
  },
  {
   "cell_type": "code",
   "execution_count": null,
   "id": "264f335f-092d-49f7-9b14-ef90b4758836",
   "metadata": {},
   "outputs": [],
   "source": [
    "%run colors.py\n",
    "col = randomColor()\n",
    "paletteImage([col] + [rgb2hex(x) for x in splitComplementaryColor(string2rgb(col))], interpolate=False)"
   ]
  },
  {
   "cell_type": "code",
   "execution_count": null,
   "id": "12d11a17-af45-4b02-ac09-0822dbe09adb",
   "metadata": {},
   "outputs": [],
   "source": [
    "%run colors.py\n",
    "col = randomColor()\n",
    "paletteImage([col] + [rgb2hex(x) for x in tetradicColor(string2rgb(col))], interpolate=False)"
   ]
  },
  {
   "cell_type": "code",
   "execution_count": 39,
   "id": "9977cda3-bcb9-49c6-aa73-667a7f3e5233",
   "metadata": {},
   "outputs": [
    {
     "data": {
      "image/png": "[encoded data removed]",
      "text/plain": [
       "<PIL.Image.Image image mode=RGBA size=400x40>"
      ]
     },
     "execution_count": 39,
     "metadata": {},
     "output_type": "execute_result"
    }
   ],
   "source": [
    "%run colors.py\n",
    "col = randomColor()\n",
    "paletteImage([col] + [rgb2hex(x) for x in analogousColor(string2rgb(col))], interpolate=False)"
   ]
  },
  {
   "cell_type": "code",
   "execution_count": null,
   "id": "10c47adf-ac0c-4fa5-92db-df5eba43a769",
   "metadata": {},
   "outputs": [],
   "source": [
    "%run colors.py\n",
    "col = randomColor()\n",
    "coldarker  = rgb2hex(monochromaticColor(string2rgb(col), increment=-0.25))\n",
    "collighter = rgb2hex(monochromaticColor(string2rgb(col), increment=0.25))\n",
    "paletteImage([col, coldarker, collighter], interpolate=False)"
   ]
  },
  {
   "cell_type": "code",
   "execution_count": 11,
   "id": "ebad8895-d5a7-41a5-98d4-90c91eaf6a87",
   "metadata": {
    "tags": []
   },
   "outputs": [
    {
     "data": {
      "application/vnd.jupyter.widget-view+json": {
       "model_id": "0ea78fb977884f9fa3c533953d4b8500",
       "version_major": 2,
       "version_minor": 0
      },
      "text/plain": [
       "Output()"
      ]
     },
     "metadata": {},
     "output_type": "display_data"
    },
    {
     "data": {
      "application/vnd.jupyter.widget-view+json": {
       "model_id": "bbdc464ed06d4dceb0862d37a5db70d3",
       "version_major": 2,
       "version_minor": 0
      },
      "text/plain": [
       "Menu(children=[Card(children=[Card(children=[VBox(children=(HBox(children=(Html(children=['Complementary color…"
      ]
     },
     "metadata": {},
     "output_type": "display_data"
    }
   ],
   "source": [
    "%run ./development/load_local_vois.py -w\n",
    "\n",
    "from ipywidgets import widgets, HTML\n",
    "from vois.vuetify import popup\n",
    "from vois import colors\n",
    "import ipyvuetify as v\n",
    "from IPython.display import display\n",
    "\n",
    "debug = widgets.Output()\n",
    "display(debug)\n",
    "\n",
    "\n",
    "card_width  = 560\n",
    "card_height = 260\n",
    "\n",
    "c = v.Card(flat=True, width=card_width, height=card_height, class_='pa-2 ma-0')\n",
    "p = popup.popup(c, '', text=False, outlined=False, icon='mdi-palette', rounded=False,\n",
    "                buttonwidth=30, buttonheight=30, popupwidth=card_width, popupheight=card_height)\n",
    "\n",
    "# Creation of a label\n",
    "def label(text, class_='pa-0 ma-0 mt-1 mr-3 mb-4', size=14, weight=400, color='#000000', width=None):\n",
    "    lab = v.Html(tag='div', children=[text], class_=class_)\n",
    "    if width is None: lab.style_ = 'font-size: %dpx; font-weight: %d; color: %s; overflow: hidden;'%(size,weight,color)\n",
    "    else:             lab.style_ = 'font-size: %dpx; font-weight: %d; color: %s;  overflow: hidden; width: %dpx'%(size,weight,color,int(width))\n",
    "    return lab\n",
    "\n",
    "\n",
    "# Called when a color is selected\n",
    "def selectedColor(color):\n",
    "    with debug:\n",
    "        print(color)\n",
    "\n",
    "# Create and returns a card displaying a color and clickable\n",
    "def colorcard(color, width=54, height=30, children=[]):\n",
    "    \n",
    "    def onclick(*args):\n",
    "        selectedColor(color)\n",
    "    \n",
    "    c = v.Card(flat=True, hover=True, color=color, width=width, min_width=width, max_width=width, height=height, tile=True, children=children)\n",
    "    c.on_event('click',onclick)\n",
    "    return c\n",
    "              \n",
    "\n",
    "col = colors.randomColor()\n",
    "textcolor = '#000000'\n",
    "if colors.isColorDark(colors.hex2rgb(col)):\n",
    "    textcolor = '#ffffff'\n",
    "\n",
    "l_compl = label('Complementary colors:', width=160)\n",
    "c_col   = colorcard(col) # children=[col])\n",
    "c_compl = colorcard(colors.rgb2hex(colors.complementaryColor(colors.string2rgb(col))))\n",
    "                    \n",
    "l_tri = label('Triadic colors:', width=160)\n",
    "tri = [colors.rgb2hex(x) for x in colors.triadicColor(colors.string2rgb(col))]\n",
    "c_tri1 = colorcard(tri[0])\n",
    "c_tri2 = colorcard(tri[1])\n",
    "\n",
    "l_split = label('Split complementary col.:', width=160)\n",
    "split = [colors.rgb2hex(x) for x in colors.splitComplementaryColor(colors.string2rgb(col))]\n",
    "c_split1 = colorcard(split[0])\n",
    "c_split2 = colorcard(split[1])\n",
    "\n",
    "l_tet = label('Tetradic colors:', width=160)\n",
    "tet = [colors.rgb2hex(x) for x in colors.tetradicColor(colors.string2rgb(col))]\n",
    "c_tet1 = colorcard(tet[0])\n",
    "c_tet2 = colorcard(tet[1])\n",
    "c_tet3 = colorcard(tet[2])\n",
    "\n",
    "l_ana = label('Analogous colors:', width=160)\n",
    "ana = [colors.rgb2hex(x) for x in colors.analogousColor(colors.string2rgb(col))]\n",
    "c_ana1 = colorcard(ana[0])\n",
    "c_ana2 = colorcard(ana[1])\n",
    "\n",
    "l_mono = label('Monochromatic colors:', width=160)\n",
    "c_mono1 = colorcard(colors.rgb2hex(colors.monochromaticColor(colors.string2rgb(col), increment=-0.6)))\n",
    "c_mono2 = colorcard(colors.rgb2hex(colors.monochromaticColor(colors.string2rgb(col), increment=-0.4)))\n",
    "c_mono3 = colorcard(colors.rgb2hex(colors.monochromaticColor(colors.string2rgb(col), increment=-0.2)))\n",
    "c_mono4 = colorcard(colors.rgb2hex(colors.monochromaticColor(colors.string2rgb(col), increment= 0.2)))\n",
    "c_mono5 = colorcard(colors.rgb2hex(colors.monochromaticColor(colors.string2rgb(col), increment= 0.4)))\n",
    "c_mono6 = colorcard(colors.rgb2hex(colors.monochromaticColor(colors.string2rgb(col), increment= 0.6)))\n",
    "c.children = [\n",
    "    widgets.VBox([\n",
    "        widgets.HBox([l_compl, c_col, c_compl]),\n",
    "        widgets.HBox([l_tri,   c_col, c_tri1, c_tri2]),\n",
    "        widgets.HBox([l_split, c_col, c_split1, c_split2]),\n",
    "        widgets.HBox([l_tet,   c_col, c_tet1, c_tet2, c_tet3]),\n",
    "        widgets.HBox([l_ana,   c_col, c_ana1, c_ana2]),\n",
    "        widgets.HBox([l_mono,  c_mono1, c_mono2, c_mono3, c_col, c_mono4, c_mono5, c_mono6]),\n",
    "    ])\n",
    "]\n",
    "\n",
    "display(p.draw())"
   ]
  },
  {
   "cell_type": "code",
   "execution_count": 31,
   "id": "1c2f0741-a1d8-4cfc-a513-4dee67161293",
   "metadata": {
    "tags": []
   },
   "outputs": [
    {
     "data": {
      "text/plain": [
       "[(201, 248, 9), (9, 201, 248)]"
      ]
     },
     "execution_count": 31,
     "metadata": {},
     "output_type": "execute_result"
    }
   ],
   "source": [
    "colors.triadicColor(colors.string2rgb(col))"
   ]
  },
  {
   "cell_type": "code",
   "execution_count": null,
   "id": "5814e714",
   "metadata": {},
   "outputs": [],
   "source": [
    "from ipywidgets import HTML\n",
    "from jeodpp import inter\n",
    "import plotly.express as px\n",
    "#print(px.colors.sequential.Viridis)\n",
    "display(HTML(inter.colorSchemaLegend(px.colors.sequential.Viridis, Title=\"Plotly colorscale\", Markers=True, Height=40, MinValue=0, MaxValue=100, NumPixels=450)))"
   ]
  },
  {
   "cell_type": "code",
   "execution_count": null,
   "id": "4fcb443d",
   "metadata": {},
   "outputs": [],
   "source": [
    "%run colors.py\n",
    "\n",
    "palette = ['rgb(247,251,255)', 'rgb(222,235,247)', 'rgb(198,219,239)', 'rgb(158,202,225)', 'rgb(107,174,214)', 'rgb(66,146,198)', 'rgb(33,113,181)', 'rgb(8,81,156)', 'rgb(8,48,107)']\n",
    "\n",
    "interpolator = colorInterpolator(palette)\n",
    "interpolator.GetColor(50.0)"
   ]
  },
  {
   "cell_type": "code",
   "execution_count": null,
   "id": "8886699f",
   "metadata": {},
   "outputs": [],
   "source": [
    "import plotly.express as px\n",
    "px.colors.sequential.Plasma"
   ]
  },
  {
   "cell_type": "code",
   "execution_count": null,
   "id": "44e5f02f",
   "metadata": {},
   "outputs": [],
   "source": [
    "from jeodpp import inter\n",
    "import plotly.express as px\n",
    "colorlist=['#0d0887', '#46039f', '#7201a8', '#9c179e', '#bd3786', '#d8576b', '#ed7953', '#fb9f3a', '#fdca26', '#f0f921']\n",
    "display(HTML(inter.colorSchemaLegend(colorlist, Title=\"Plotly colorscale\", Markers=False, Height=40, MinValue=0, MaxValue=100, NumPixels=450)))"
   ]
  },
  {
   "cell_type": "code",
   "execution_count": null,
   "id": "63e1efd8",
   "metadata": {},
   "outputs": [],
   "source": [
    "%run colors.py\n",
    "import plotly.express as px\n",
    "\n",
    "img = paletteImage(px.colors.sequential.Viridis, width=400, height=40, interpolate=True)\n",
    "print(image2Base64(img))\n",
    "img"
   ]
  },
  {
   "cell_type": "code",
   "execution_count": null,
   "id": "b600927f",
   "metadata": {},
   "outputs": [],
   "source": [
    "# Selection of a colorpalette\n",
    "import colors\n",
    "import ipyvuetify as v\n",
    "from vuetify import selectImage\n",
    "import plotly.express as px\n",
    "\n",
    "width = 400\n",
    "height = 34\n",
    "\n",
    "palettes = ['Viridis', 'Plasma', 'Turbo', 'Reds', 'Greens', 'Oranges', 'YlOrRd']\n",
    "images = [{\"name\": x, \"image\": colors.image2Base64(colors.paletteImage(eval('px.colors.sequential.'+x), width=width, height=height))} for x in palettes]\n",
    "\n",
    "s = selectImage.selectImage(images=images, width=\"%dpx\"%(width+150), max_width=width, max_height=height, outlined=True, margins=\"ma-0 mr-2\")\n",
    "s"
   ]
  },
  {
   "cell_type": "code",
   "execution_count": null,
   "id": "3c988c40",
   "metadata": {},
   "outputs": [],
   "source": []
  }
 ],
 "metadata": {
  "kernelspec": {
   "display_name": "Python [interapro_env]",
   "language": "python",
   "name": "conda-env-interapro_env-py"
  },
  "language_info": {
   "codemirror_mode": {
    "name": "ipython",
    "version": 3
   },
   "file_extension": ".py",
   "mimetype": "text/x-python",
   "name": "python",
   "nbconvert_exporter": "python",
   "pygments_lexer": "ipython3",
   "version": "3.11.6"
  }
 },
 "nbformat": 4,
 "nbformat_minor": 5
}
