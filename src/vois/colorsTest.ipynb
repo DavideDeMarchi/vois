{
 "cells": [
  {
   "cell_type": "code",
   "execution_count": 24,
   "id": "888a163b",
   "metadata": {},
   "outputs": [
    {
     "data": {
      "text/plain": [
       "'#7f7f00'"
      ]
     },
     "execution_count": 24,
     "metadata": {},
     "output_type": "execute_result"
    }
   ],
   "source": [
    "%run colors.py\n",
    "s = colorInterpolator(['#ff0000', '#00ff00'])\n",
    "s.GetColor(50)"
   ]
  },
  {
   "cell_type": "code",
   "execution_count": 25,
   "id": "551d1499",
   "metadata": {},
   "outputs": [
    {
     "data": {
      "text/plain": [
       "['#ff0000',\n",
       " '#f10d00',\n",
       " '#e41a00',\n",
       " '#d62800',\n",
       " '#c93500',\n",
       " '#bb4300',\n",
       " '#ae5000',\n",
       " '#a15d00',\n",
       " '#936b00',\n",
       " '#867800',\n",
       " '#788600',\n",
       " '#6b9300',\n",
       " '#5da100',\n",
       " '#50ae00',\n",
       " '#43bb00',\n",
       " '#35c900',\n",
       " '#28d600',\n",
       " '#1ae400',\n",
       " '#0df100',\n",
       " '#00ff00']"
      ]
     },
     "execution_count": 25,
     "metadata": {},
     "output_type": "execute_result"
    }
   ],
   "source": [
    "%run colors.py\n",
    "s = colorInterpolator(['#ff0000', '#00ff00'])\n",
    "s.GetColors(20)"
   ]
  },
  {
   "cell_type": "code",
   "execution_count": 26,
   "id": "9081dd9d-a676-454c-821f-5e3a765f4498",
   "metadata": {},
   "outputs": [
    {
     "data": {
      "text/plain": [
       "(0, 0, 255)"
      ]
     },
     "execution_count": 26,
     "metadata": {},
     "output_type": "execute_result"
    }
   ],
   "source": [
    "%run colors.py\n",
    "complementary(string2rgb('#ff00ff'))"
   ]
  },
  {
   "cell_type": "code",
   "execution_count": 27,
   "id": "c768dcea-0cc0-4a8d-942f-a233c8a5973d",
   "metadata": {},
   "outputs": [
    {
     "data": {
      "text/plain": [
       "(255, 38, 38)"
      ]
     },
     "execution_count": 27,
     "metadata": {},
     "output_type": "execute_result"
    }
   ],
   "source": [
    "%run colors.py\n",
    "lighter(string2rgb('#ff0000'), factor=0.15)"
   ]
  },
  {
   "cell_type": "code",
   "execution_count": null,
   "id": "5814e714",
   "metadata": {},
   "outputs": [],
   "source": [
    "from jeodpp import inter\n",
    "import plotly.express as px\n",
    "#print(px.colors.sequential.Viridis)\n",
    "display(HTML(inter.colorSchemaLegend(px.colors.sequential.Viridis, Title=\"Plotly colorscale\", Markers=True, Height=40, MinValue=0, MaxValue=100, NumPixels=450)))"
   ]
  },
  {
   "cell_type": "code",
   "execution_count": null,
   "id": "4fcb443d",
   "metadata": {},
   "outputs": [],
   "source": [
    "%run colors.py\n",
    "\n",
    "palette = ['rgb(247,251,255)', 'rgb(222,235,247)', 'rgb(198,219,239)', 'rgb(158,202,225)', 'rgb(107,174,214)', 'rgb(66,146,198)', 'rgb(33,113,181)', 'rgb(8,81,156)', 'rgb(8,48,107)']\n",
    "\n",
    "interpolator = colorInterpolator(palette)\n",
    "interpolator.GetColor(50.0)"
   ]
  },
  {
   "cell_type": "code",
   "execution_count": null,
   "id": "8886699f",
   "metadata": {},
   "outputs": [],
   "source": [
    "import plotly.express as px\n",
    "px.colors.sequential.Plasma"
   ]
  },
  {
   "cell_type": "code",
   "execution_count": null,
   "id": "44e5f02f",
   "metadata": {},
   "outputs": [],
   "source": [
    "from jeodpp import inter\n",
    "import plotly.express as px\n",
    "colorlist=['#0d0887', '#46039f', '#7201a8', '#9c179e', '#bd3786', '#d8576b', '#ed7953', '#fb9f3a', '#fdca26', '#f0f921']\n",
    "display(HTML(inter.colorSchemaLegend(colorlist, Title=\"Plotly colorscale\", Markers=False, Height=40, MinValue=0, MaxValue=100, NumPixels=450)))"
   ]
  },
  {
   "cell_type": "code",
   "execution_count": null,
   "id": "63e1efd8",
   "metadata": {},
   "outputs": [],
   "source": [
    "%run colors.py\n",
    "import plotly.express as px\n",
    "\n",
    "img = paletteImage(px.colors.sequential.Viridis, width=400, height=40, interpolate=True)\n",
    "print(image2Base64(img))\n",
    "img"
   ]
  },
  {
   "cell_type": "code",
   "execution_count": null,
   "id": "b600927f",
   "metadata": {},
   "outputs": [],
   "source": [
    "# Selection of a colorpalette\n",
    "import colors\n",
    "import ipyvuetify as v\n",
    "from vuetify import selectImage\n",
    "import plotly.express as px\n",
    "\n",
    "width = 400\n",
    "height = 34\n",
    "\n",
    "palettes = ['Viridis', 'Plasma', 'Turbo', 'Reds', 'Greens', 'Oranges', 'YlOrRd']\n",
    "images = [{\"name\": x, \"image\": colors.image2Base64(colors.paletteImage(eval('px.colors.sequential.'+x), width=width, height=height))} for x in palettes]\n",
    "\n",
    "s = selectImage.selectImage(images=images, width=\"%dpx\"%(width+150), max_width=width, max_height=height, outlined=True, margins=\"ma-0 mr-2\")\n",
    "s"
   ]
  },
  {
   "cell_type": "code",
   "execution_count": null,
   "id": "3c988c40",
   "metadata": {},
   "outputs": [],
   "source": []
  }
 ],
 "metadata": {
  "kernelspec": {
   "display_name": "Python 3 (ipykernel)",
   "language": "python",
   "name": "python3"
  },
  "language_info": {
   "codemirror_mode": {
    "name": "ipython",
    "version": 3
   },
   "file_extension": ".py",
   "mimetype": "text/x-python",
   "name": "python",
   "nbconvert_exporter": "python",
   "pygments_lexer": "ipython3",
   "version": "3.11.9"
  }
 },
 "nbformat": 4,
 "nbformat_minor": 5
}
