{
 "cells": [
  {
   "cell_type": "code",
   "execution_count": 45,
   "id": "4c2fa0dc",
   "metadata": {},
   "outputs": [
    {
     "data": {
      "text/plain": [
       "'#b24c00'"
      ]
     },
     "execution_count": 45,
     "metadata": {},
     "output_type": "execute_result"
    }
   ],
   "source": [
    "%run colors.py\n",
    "s = colorInterpolator(['#ff0000', '#00ff00'])\n",
    "s.GetColor(30)"
   ]
  },
  {
   "cell_type": "code",
   "execution_count": 54,
   "id": "f96ccd7b",
   "metadata": {},
   "outputs": [
    {
     "data": {
      "text/plain": [
       "['#ff0000',\n",
       " '#f10d00',\n",
       " '#e41a00',\n",
       " '#d62800',\n",
       " '#c93500',\n",
       " '#bb4300',\n",
       " '#ae5000',\n",
       " '#a15d00',\n",
       " '#936b00',\n",
       " '#867800',\n",
       " '#788600',\n",
       " '#6b9300',\n",
       " '#5da100',\n",
       " '#50ae00',\n",
       " '#43bb00',\n",
       " '#35c900',\n",
       " '#28d600',\n",
       " '#1ae400',\n",
       " '#0df100',\n",
       " '#00ff00']"
      ]
     },
     "execution_count": 54,
     "metadata": {},
     "output_type": "execute_result"
    }
   ],
   "source": [
    "%run colors.py\n",
    "s = colorInterpolator(['#ff0000', '#00ff00'])\n",
    "s.GetColors(20)"
   ]
  },
  {
   "cell_type": "code",
   "execution_count": null,
   "id": "2dd1c4c1",
   "metadata": {},
   "outputs": [],
   "source": [
    "from jeodpp import inter\n",
    "import plotly.express as px\n",
    "#print(px.colors.sequential.Viridis)\n",
    "display(HTML(inter.colorSchemaLegend(px.colors.sequential.Viridis, Title=\"Plotly colorscale\", Markers=True, Height=40, MinValue=0, MaxValue=100, NumPixels=450)))"
   ]
  },
  {
   "cell_type": "code",
   "execution_count": null,
   "id": "a63605ea",
   "metadata": {},
   "outputs": [],
   "source": [
    "%run colors.py\n",
    "\n",
    "palette = ['rgb(247,251,255)', 'rgb(222,235,247)', 'rgb(198,219,239)', 'rgb(158,202,225)', 'rgb(107,174,214)', 'rgb(66,146,198)', 'rgb(33,113,181)', 'rgb(8,81,156)', 'rgb(8,48,107)']\n",
    "\n",
    "interpolator = colorInterpolator(palette)\n",
    "interpolator.GetColor(50.0)"
   ]
  },
  {
   "cell_type": "code",
   "execution_count": null,
   "id": "f3c7d45c",
   "metadata": {},
   "outputs": [],
   "source": [
    "import plotly.express as px\n",
    "px.colors.sequential.Plasma"
   ]
  },
  {
   "cell_type": "code",
   "execution_count": null,
   "id": "6619514f",
   "metadata": {},
   "outputs": [],
   "source": [
    "from jeodpp import inter\n",
    "import plotly.express as px\n",
    "colorlist=['#0d0887', '#46039f', '#7201a8', '#9c179e', '#bd3786', '#d8576b', '#ed7953', '#fb9f3a', '#fdca26', '#f0f921']\n",
    "display(HTML(inter.colorSchemaLegend(colorlist, Title=\"Plotly colorscale\", Markers=False, Height=40, MinValue=0, MaxValue=100, NumPixels=450)))"
   ]
  },
  {
   "cell_type": "code",
   "execution_count": 33,
   "id": "1389c210",
   "metadata": {},
   "outputs": [
    {
     "name": "stdout",
     "output_type": "stream",
     "text": [
      "data:image/png;base64,iVBORw0KGgoAAAANSUhEUgAAAZAAAAAoCAYAAADQUaxgAAABsklEQVR4nO3VQY7jMAwEQMpv2yfs/5+ymkNkD53YSbbPVUAAmaIoJzNAjz/j76yqqjHapz3XuTZOfateF7XeWxdzn3tvZpzfo57urWM9xyqsnvlhv0bVPGauM61/PzvbftWas9dq3785U1d317rneT3e7NX6PuPDjP497mZ8vus0oy72q89qz9/29/20/+X+eeq/7Os9F+/8WM/X+sus+fZd+v7drP1dxrrz+BdZZ8ea8/tnX/Uvzx21p97Lc1/d+1iPmjXW/jba86jajr1Z294/5qrXqu9n+nO1c7/Px7wxa7vp+WrGqm3tffq6v9fW11fnn3rP8/7d3nF730utalufx2/c1jUvanX8Nqdz6+/+W1v7o+3v59/eO0+13rf3AMB/EyAARAQIABEBAkBEgAAQESAARAQIABEBAkBEgAAQESAARAQIABEBAkBEgAAQESAARAQIABEBAkBEgAAQESAARAQIABEBAkBEgAAQESAARAQIABEBAkBEgAAQESAARAQIABEBAkBEgAAQESAARAQIABEBAkBEgAAQESAARAQIABEBAkBEgAAQESAARAQIAJEfDieTWOJfs0QAAAAASUVORK5CYII=\n"
     ]
    },
    {
     "data": {
      "image/png": "[encoded data removed]",
      "text/plain": [
       "<PIL.Image.Image image mode=RGBA size=400x40>"
      ]
     },
     "execution_count": 33,
     "metadata": {},
     "output_type": "execute_result"
    }
   ],
   "source": [
    "%run colors.py\n",
    "import plotly.express as px\n",
    "\n",
    "img = paletteImage(px.colors.sequential.Viridis, width=400, height=40, interpolate=True)\n",
    "print(image2Base64(img))\n",
    "img"
   ]
  },
  {
   "cell_type": "code",
   "execution_count": null,
   "id": "b80e32c5",
   "metadata": {},
   "outputs": [],
   "source": [
    "# Selection of a colorpalette\n",
    "import colors\n",
    "import ipyvuetify as v\n",
    "from vuetify import selectImage\n",
    "import plotly.express as px\n",
    "\n",
    "width = 400\n",
    "height = 34\n",
    "\n",
    "palettes = ['Viridis', 'Plasma', 'Turbo', 'Reds', 'Greens', 'Oranges', 'YlOrRd']\n",
    "images = [{\"name\": x, \"image\": colors.image2Base64(colors.paletteImage(eval('px.colors.sequential.'+x), width=width, height=height))} for x in palettes]\n",
    "\n",
    "s = selectImage.selectImage(images=images, width=\"%dpx\"%(width+150), max_width=width, max_height=height, outlined=True, margins=\"ma-0 mr-2\")\n",
    "s"
   ]
  },
  {
   "cell_type": "code",
   "execution_count": null,
   "id": "0a3d3310",
   "metadata": {},
   "outputs": [],
   "source": []
  }
 ],
 "metadata": {
  "kernelspec": {
   "display_name": "Python 3 (ipykernel)",
   "language": "python",
   "name": "python3"
  },
  "language_info": {
   "codemirror_mode": {
    "name": "ipython",
    "version": 3
   },
   "file_extension": ".py",
   "mimetype": "text/x-python",
   "name": "python",
   "nbconvert_exporter": "python",
   "pygments_lexer": "ipython3",
   "version": "3.7.13"
  }
 },
 "nbformat": 4,
 "nbformat_minor": 5
}
