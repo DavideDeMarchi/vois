{
 "cells": [
  {
   "cell_type": "code",
   "execution_count": 1,
   "id": "87200c0b",
   "metadata": {
    "tags": []
   },
   "outputs": [
    {
     "data": {
      "application/vnd.jupyter.widget-view+json": {
       "model_id": "2dbbd36b3b1b4d79a14844f85ef6637c",
       "version_major": 2,
       "version_minor": 0
      },
      "text/plain": [
       "Map(center=[47, 12], controls=(ZoomControl(options=['position', 'zoom_in_text', 'zoom_in_title', 'zoom_out_tex…"
      ]
     },
     "execution_count": 1,
     "metadata": {},
     "output_type": "execute_result"
    }
   ],
   "source": [
    "from ipywidgets import widgets, Layout\n",
    "\n",
    "%run mapUtils.py\n",
    "\n",
    "m = ipyleaflet.Map(max_zoom=21, center=[47, 12], zoom=5,\n",
    "                   scroll_wheel_zoom=True,\n",
    "                   basemap=EsriWorldImagery(),\n",
    "                   attribution_control=False, layout=Layout(height='650px'))\n",
    "\n",
    "addLayer(m, CartoLabels(), name='Labels')\n",
    "addOverview(m)\n",
    "m"
   ]
  },
  {
   "cell_type": "code",
   "execution_count": 6,
   "id": "9362af92",
   "metadata": {
    "tags": []
   },
   "outputs": [],
   "source": [
    "removeOverview(m)"
   ]
  },
  {
   "cell_type": "code",
   "execution_count": 7,
   "id": "4de26890",
   "metadata": {
    "tags": []
   },
   "outputs": [],
   "source": [
    "addOverview(m)"
   ]
  },
  {
   "cell_type": "code",
   "execution_count": 4,
   "id": "1e20202f",
   "metadata": {
    "tags": []
   },
   "outputs": [],
   "source": [
    "%run mapUtils.py\n",
    "\n",
    "zoomToExtents(m, 12.5, 43.5, 12.6, 43.6)"
   ]
  },
  {
   "cell_type": "code",
   "execution_count": null,
   "id": "17f57df0",
   "metadata": {
    "tags": []
   },
   "outputs": [],
   "source": [
    "# Convert a map into a PIL image!\n",
    "m.layers[0].opacity = 0.9999\n",
    "m.layers[1].opacity = 0.9999\n",
    "img = toImage(m)\n",
    "img"
   ]
  },
  {
   "cell_type": "code",
   "execution_count": 5,
   "id": "41525d82",
   "metadata": {},
   "outputs": [],
   "source": [
    "clear(m)"
   ]
  },
  {
   "cell_type": "code",
   "execution_count": 18,
   "id": "5357a6d1-c8ef-4936-8508-efaef0f2ffb1",
   "metadata": {
    "tags": []
   },
   "outputs": [
    {
     "data": {
      "text/plain": [
       "(TileLayer(attribution='', base=True, max_zoom=21, min_zoom=1, name='Esri.WorldImagery', options=['attribution', 'bounds', 'detect_retina', 'max_native_zoom', 'max_zoom', 'min_native_zoom', 'min_zoom', 'no_wrap', 'tile_size', 'tms', 'zoom_offset'], url='https://server.arcgisonline.com/ArcGIS/rest/services/World_Imagery/MapServer/tile/{z}/{y}/{x}.jpg'),)"
      ]
     },
     "execution_count": 18,
     "metadata": {},
     "output_type": "execute_result"
    }
   ],
   "source": [
    "m.layers"
   ]
  },
  {
   "cell_type": "code",
   "execution_count": null,
   "id": "45459042-2031-4b83-b18a-87cc4577cefe",
   "metadata": {},
   "outputs": [],
   "source": []
  }
 ],
 "metadata": {
  "kernelspec": {
   "display_name": "Python 3 (ipykernel)",
   "language": "python",
   "name": "python3"
  },
  "language_info": {
   "codemirror_mode": {
    "name": "ipython",
    "version": 3
   },
   "file_extension": ".py",
   "mimetype": "text/x-python",
   "name": "python",
   "nbconvert_exporter": "python",
   "pygments_lexer": "ipython3",
   "version": "3.11.9"
  }
 },
 "nbformat": 4,
 "nbformat_minor": 5
}
