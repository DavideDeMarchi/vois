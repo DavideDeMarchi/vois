{
 "cells": [
  {
   "cell_type": "code",
   "execution_count": 4,
   "id": "9c8b0e73",
   "metadata": {
    "tags": []
   },
   "outputs": [
    {
     "data": {
      "application/vnd.jupyter.widget-view+json": {
       "model_id": "eb8a5841752646509d55c93b372eae46",
       "version_major": 2,
       "version_minor": 0
      },
      "text/plain": [
       "Output(layout=Layout(height='0px', width='0px'))"
      ]
     },
     "metadata": {},
     "output_type": "display_data"
    },
    {
     "data": {
      "application/vnd.jupyter.widget-view+json": {
       "model_id": "f7f127402c854a2081c716e61984a279",
       "version_major": 2,
       "version_minor": 0
      },
      "text/plain": [
       "Output()"
      ]
     },
     "metadata": {},
     "output_type": "display_data"
    },
    {
     "data": {
      "application/vnd.jupyter.widget-view+json": {
       "model_id": "0bdb71756c11416185dec0cbea37ca26",
       "version_major": 2,
       "version_minor": 0
      },
      "text/plain": [
       "Map(center=[52, 12], controls=(ZoomControl(options=['position', 'zoom_in_text', 'zoom_in_title', 'zoom_out_tex…"
      ]
     },
     "execution_count": 4,
     "metadata": {},
     "output_type": "execute_result"
    }
   ],
   "source": [
    "# To load local vois library with ignore on deprecation warnings\n",
    "%run ../development/load_local_vois.py -w\n",
    "\n",
    "from ipywidgets import widgets, HTML, Layout\n",
    "from vois.vuetify import settings\n",
    "settings.dark_mode      = True\n",
    "settings.color_first    = '#0d856d'\n",
    "settings.color_second   = '#a0dcd0'\n",
    "settings.button_rounded = True\n",
    "\n",
    "from IPython.display import display\n",
    "\n",
    "output = widgets.Output(layout=Layout(width='0px', height='0px'))\n",
    "display(output)\n",
    "\n",
    "from vois import cssUtils\n",
    "cssUtils.switchFontSize(output,14)\n",
    "\n",
    "debug = widgets.Output()\n",
    "display(debug)\n",
    "\n",
    "def onclick(m, lon,lat,zoom):\n",
    "    with debug:\n",
    "        print(lon,lat,zoom)\n",
    "\n",
    "%run Map.py\n",
    "#m = Map(show_overview=False, show_coordinates=True) #, basemapindex=1, onclick=onclick)\n",
    "m = Map(show_overview=True, center=[52,12], zoom=5, basemapindex=1)\n",
    "\n",
    "#m.add(ipyleaflet.TileLayer(url='https://server.arcgisonline.com/ArcGIS/rest/services/Ocean/World_Ocean_Base/MapServer/tile/{z}/{y}/{x}'))\n",
    "m.add(ipyleaflet.TileLayer(url='https://tiles.openseamap.org/seamark/{z}/{x}/{y}.png'))\n",
    "#m.add(ipyleaflet.TileLayer(url='http://t1.openseamap.org/seamark/{z}/{x}/{y}.png'))\n",
    "\n",
    "m"
   ]
  },
  {
   "cell_type": "code",
   "execution_count": null,
   "id": "cd52bcf9",
   "metadata": {
    "tags": []
   },
   "outputs": [],
   "source": [
    "m.drawctrl = True"
   ]
  },
  {
   "cell_type": "code",
   "execution_count": null,
   "id": "b4365733",
   "metadata": {
    "tags": []
   },
   "outputs": [],
   "source": [
    "m.wktstrings"
   ]
  },
  {
   "cell_type": "code",
   "execution_count": null,
   "id": "97243dfa",
   "metadata": {
    "tags": []
   },
   "outputs": [],
   "source": [
    "m.state"
   ]
  },
  {
   "cell_type": "code",
   "execution_count": null,
   "id": "84fef6ea",
   "metadata": {
    "tags": []
   },
   "outputs": [],
   "source": [
    "m.state = {'width': '100%',\n",
    " 'height': '600px',\n",
    " 'show_fullscreen': True,\n",
    " 'show_coordinates': False,\n",
    " 'show_search': False,\n",
    " 'show_scale': False,\n",
    " 'show_basemaps': True,\n",
    " 'show_overview': True,\n",
    " 'color_first': '#0d856d',\n",
    " 'color_second': '#a0dcd0',\n",
    " 'dark': True,\n",
    " 'basemapindex': 0,\n",
    " 'center': [47.58393661978137, 9.522056579589846],\n",
    " 'zoom': 11.0}"
   ]
  },
  {
   "cell_type": "code",
   "execution_count": null,
   "id": "a99acb81",
   "metadata": {
    "tags": []
   },
   "outputs": [],
   "source": [
    "m.configure()"
   ]
  },
  {
   "cell_type": "code",
   "execution_count": null,
   "id": "ec8a51c3",
   "metadata": {
    "tags": []
   },
   "outputs": [],
   "source": [
    "m.width = '600px'"
   ]
  },
  {
   "cell_type": "code",
   "execution_count": null,
   "id": "91838c8f",
   "metadata": {},
   "outputs": [],
   "source": [
    "m.show_fullscreen = True"
   ]
  },
  {
   "cell_type": "code",
   "execution_count": null,
   "id": "7a90637c",
   "metadata": {
    "tags": []
   },
   "outputs": [],
   "source": [
    "m.color_first = 'red'\n",
    "m.color_second = 'yellow'\n",
    "m.dark = False"
   ]
  },
  {
   "cell_type": "code",
   "execution_count": null,
   "id": "1f724f93",
   "metadata": {},
   "outputs": [],
   "source": [
    "m.basemapindex = 2"
   ]
  },
  {
   "cell_type": "code",
   "execution_count": null,
   "id": "10494083",
   "metadata": {},
   "outputs": [],
   "source": []
  }
 ],
 "metadata": {
  "kernelspec": {
   "display_name": "Python 3 (ipykernel)",
   "language": "python",
   "name": "python3"
  },
  "language_info": {
   "codemirror_mode": {
    "name": "ipython",
    "version": 3
   },
   "file_extension": ".py",
   "mimetype": "text/x-python",
   "name": "python",
   "nbconvert_exporter": "python",
   "pygments_lexer": "ipython3",
   "version": "3.11.9"
  }
 },
 "nbformat": 4,
 "nbformat_minor": 5
}
