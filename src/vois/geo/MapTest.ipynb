{
 "cells": [
  {
   "cell_type": "code",
   "execution_count": 1,
   "id": "96d54e79",
   "metadata": {
    "tags": []
   },
   "outputs": [
    {
     "data": {
      "application/vnd.jupyter.widget-view+json": {
       "model_id": "03ab9193a4a049388e2b51976a834a6a",
       "version_major": 2,
       "version_minor": 0
      },
      "text/plain": [
       "Output(layout=Layout(height='0px', width='0px'))"
      ]
     },
     "metadata": {},
     "output_type": "display_data"
    },
    {
     "data": {
      "application/vnd.jupyter.widget-view+json": {
       "model_id": "019c5f696d3342a9b7674e37fe2cf415",
       "version_major": 2,
       "version_minor": 0
      },
      "text/plain": [
       "Output()"
      ]
     },
     "metadata": {},
     "output_type": "display_data"
    },
    {
     "data": {
      "application/vnd.jupyter.widget-view+json": {
       "model_id": "8839ee47745542e9a7933fe9ecf6f316",
       "version_major": 2,
       "version_minor": 0
      },
      "text/plain": [
       "Map(center=[50, 12], controls=(ZoomControl(options=['position', 'zoom_in_text', 'zoom_in_title', 'zoom_out_tex…"
      ]
     },
     "execution_count": 1,
     "metadata": {},
     "output_type": "execute_result"
    }
   ],
   "source": [
    "# To load local vois library with ignore on deprecation warnings\n",
    "%run ../development/load_local_vois.py -w\n",
    "\n",
    "from ipywidgets import widgets, HTML, Layout\n",
    "from vois.vuetify import settings\n",
    "settings.dark_mode      = True\n",
    "settings.color_first    = '#0d856d'\n",
    "settings.color_second   = '#a0dcd0'\n",
    "settings.button_rounded = True\n",
    "\n",
    "from IPython.display import display\n",
    "\n",
    "output = widgets.Output(layout=Layout(width='0px', height='0px'))\n",
    "display(output)\n",
    "\n",
    "from vois import cssUtils\n",
    "cssUtils.switchFontSize(output,14)\n",
    "\n",
    "debug = widgets.Output()\n",
    "display(debug)\n",
    "\n",
    "def onclick(lon,lat,zoom):\n",
    "    with debug:\n",
    "        print(lon,lat,zoom)\n",
    "\n",
    "# Create the page\n",
    "%run Map.py\n",
    "m = Map(show_overview=False, show_coordinates=True, basemapindex=1, onclick=onclick)\n",
    "m.draw()"
   ]
  },
  {
   "cell_type": "code",
   "execution_count": null,
   "id": "e9d25519-e295-4f60-865d-63f918aa3b8d",
   "metadata": {
    "tags": []
   },
   "outputs": [],
   "source": [
    "m.state"
   ]
  },
  {
   "cell_type": "code",
   "execution_count": null,
   "id": "5c5d9c4e-fb86-4296-bd71-b5a25d5aa2ef",
   "metadata": {
    "tags": []
   },
   "outputs": [],
   "source": [
    "m.state = {'width': '100%',\n",
    " 'height': '600px',\n",
    " 'show_fullscreen': True,\n",
    " 'show_coordinates': False,\n",
    " 'show_search': False,\n",
    " 'show_scale': False,\n",
    " 'show_basemaps': True,\n",
    " 'show_overview': True,\n",
    " 'color_first': '#0d856d',\n",
    " 'color_second': '#a0dcd0',\n",
    " 'dark': True,\n",
    " 'basemapindex': 0,\n",
    " 'center': [47.58393661978137, 9.522056579589846],\n",
    " 'zoom': 11.0}"
   ]
  },
  {
   "cell_type": "code",
   "execution_count": null,
   "id": "fec931b8-cfec-4c72-afd0-cbea63251dd4",
   "metadata": {
    "tags": []
   },
   "outputs": [],
   "source": [
    "m.configure()"
   ]
  },
  {
   "cell_type": "code",
   "execution_count": null,
   "id": "75aae338-1810-4ea5-b364-79e93a3914eb",
   "metadata": {
    "tags": []
   },
   "outputs": [],
   "source": [
    "m.width = '600px'"
   ]
  },
  {
   "cell_type": "code",
   "execution_count": null,
   "id": "efde5aa8-db63-45bd-851d-85da9fdaa81e",
   "metadata": {},
   "outputs": [],
   "source": [
    "m.show_fullscreen = True"
   ]
  },
  {
   "cell_type": "code",
   "execution_count": null,
   "id": "f1c2850e-65df-4a50-90dc-0ee5aae2d617",
   "metadata": {
    "tags": []
   },
   "outputs": [],
   "source": [
    "m.color_first = 'red'\n",
    "m.color_second = 'yellow'\n",
    "m.dark = False"
   ]
  },
  {
   "cell_type": "code",
   "execution_count": null,
   "id": "9890ba21-b78a-4ffc-9f02-3980790b4606",
   "metadata": {},
   "outputs": [],
   "source": [
    "m.basemapindex = 2"
   ]
  },
  {
   "cell_type": "code",
   "execution_count": null,
   "id": "c5a72262-1b7f-4d1f-ad2a-501c57771751",
   "metadata": {},
   "outputs": [],
   "source": []
  }
 ],
 "metadata": {
  "kernelspec": {
   "display_name": "Python [interapro_env]",
   "language": "python",
   "name": "conda-env-interapro_env-py"
  },
  "language_info": {
   "codemirror_mode": {
    "name": "ipython",
    "version": 3
   },
   "file_extension": ".py",
   "mimetype": "text/x-python",
   "name": "python",
   "nbconvert_exporter": "python",
   "pygments_lexer": "ipython3",
   "version": "3.11.6"
  }
 },
 "nbformat": 4,
 "nbformat_minor": 5
}
