{
 "cells": [
  {
   "cell_type": "code",
   "execution_count": null,
   "id": "0aed0a3b",
   "metadata": {
    "tags": []
   },
   "outputs": [],
   "source": [
    "# To load local vois library with ignore on deprecation warnings\n",
    "%run ../development/load_local_vois.py -w\n",
    "\n",
    "from ipywidgets import widgets, HTML, Layout\n",
    "from vois.vuetify import settings\n",
    "settings.dark_mode      = True\n",
    "settings.color_first    = '#0d856d'\n",
    "settings.color_second   = '#a0dcd0'\n",
    "settings.button_rounded = True\n",
    "\n",
    "from IPython.display import display\n",
    "\n",
    "output = widgets.Output(layout=Layout(width='0px', height='0px'))\n",
    "display(output)\n",
    "\n",
    "from vois import cssUtils\n",
    "cssUtils.switchFontSize(output,14)\n",
    "\n",
    "debug = widgets.Output()\n",
    "display(debug)\n",
    "\n",
    "def onclick(m, lon,lat,zoom):\n",
    "    with debug:\n",
    "        print(lon,lat,zoom)\n",
    "\n",
    "%run Map.py\n",
    "m = Map(show_overview=False, show_coordinates=True) #, basemapindex=1, onclick=onclick)\n",
    "\n",
    "#m.add(ipyleaflet.TileLayer(url='https://server.arcgisonline.com/ArcGIS/rest/services/Ocean/World_Ocean_Base/MapServer/tile/{z}/{y}/{x}'))\n",
    "m.add(ipyleaflet.TileLayer(url='https://tiles.openseamap.org/seamark/{z}/{x}/{y}.png'))\n",
    "#m.add(ipyleaflet.TileLayer(url='http://t1.openseamap.org/seamark/{z}/{x}/{y}.png'))\n",
    "\n",
    "m"
   ]
  },
  {
   "cell_type": "code",
   "execution_count": null,
   "id": "398b553d",
   "metadata": {
    "tags": []
   },
   "outputs": [],
   "source": [
    "m.drawctrl = True"
   ]
  },
  {
   "cell_type": "code",
   "execution_count": null,
   "id": "7a7d7374",
   "metadata": {
    "tags": []
   },
   "outputs": [],
   "source": [
    "m.wktstrings"
   ]
  },
  {
   "cell_type": "code",
   "execution_count": null,
   "id": "e9758620",
   "metadata": {
    "tags": []
   },
   "outputs": [],
   "source": [
    "m.state"
   ]
  },
  {
   "cell_type": "code",
   "execution_count": null,
   "id": "2c997c4f",
   "metadata": {
    "tags": []
   },
   "outputs": [],
   "source": [
    "m.state = {'width': '100%',\n",
    " 'height': '600px',\n",
    " 'show_fullscreen': True,\n",
    " 'show_coordinates': False,\n",
    " 'show_search': False,\n",
    " 'show_scale': False,\n",
    " 'show_basemaps': True,\n",
    " 'show_overview': True,\n",
    " 'color_first': '#0d856d',\n",
    " 'color_second': '#a0dcd0',\n",
    " 'dark': True,\n",
    " 'basemapindex': 0,\n",
    " 'center': [47.58393661978137, 9.522056579589846],\n",
    " 'zoom': 11.0}"
   ]
  },
  {
   "cell_type": "code",
   "execution_count": null,
   "id": "bb0896ad",
   "metadata": {
    "tags": []
   },
   "outputs": [],
   "source": [
    "m.configure()"
   ]
  },
  {
   "cell_type": "code",
   "execution_count": null,
   "id": "031550c0",
   "metadata": {
    "tags": []
   },
   "outputs": [],
   "source": [
    "m.width = '600px'"
   ]
  },
  {
   "cell_type": "code",
   "execution_count": null,
   "id": "a402f247",
   "metadata": {},
   "outputs": [],
   "source": [
    "m.show_fullscreen = True"
   ]
  },
  {
   "cell_type": "code",
   "execution_count": null,
   "id": "a6fec3a6",
   "metadata": {
    "tags": []
   },
   "outputs": [],
   "source": [
    "m.color_first = 'red'\n",
    "m.color_second = 'yellow'\n",
    "m.dark = False"
   ]
  },
  {
   "cell_type": "code",
   "execution_count": null,
   "id": "e886354b",
   "metadata": {},
   "outputs": [],
   "source": [
    "m.basemapindex = 2"
   ]
  },
  {
   "cell_type": "code",
   "execution_count": null,
   "id": "a46fc7cd",
   "metadata": {},
   "outputs": [],
   "source": []
  }
 ],
 "metadata": {
  "kernelspec": {
   "display_name": "Python 3 (ipykernel)",
   "language": "python",
   "name": "python3"
  },
  "language_info": {
   "codemirror_mode": {
    "name": "ipython",
    "version": 3
   },
   "file_extension": ".py",
   "mimetype": "text/x-python",
   "name": "python",
   "nbconvert_exporter": "python",
   "pygments_lexer": "ipython3",
   "version": "3.11.9"
  }
 },
 "nbformat": 4,
 "nbformat_minor": 5
}
