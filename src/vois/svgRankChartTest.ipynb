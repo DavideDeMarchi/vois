{
 "cells": [
  {
   "cell_type": "code",
   "execution_count": 4,
   "id": "52ca8717",
   "metadata": {},
   "outputs": [
    {
     "data": {
      "application/vnd.jupyter.widget-view+json": {
       "model_id": "84fec977711e490e920f83c790847b7f",
       "version_major": 2,
       "version_minor": 0
      },
      "text/plain": [
       "Output()"
      ]
     },
     "metadata": {},
     "output_type": "display_data"
    },
    {
     "data": {
      "application/vnd.jupyter.widget-view+json": {
       "model_id": "5e9ab6136e7645b2b951b60e70f31e62",
       "version_major": 2,
       "version_minor": 0
      },
      "text/plain": [
       "Output(layout=Layout(height='calc(80.000000vh + 20px)', margin='0px 0px 0px 0px', width='calc(20.000000vw + 20…"
      ]
     },
     "metadata": {},
     "output_type": "display_data"
    }
   ],
   "source": [
    "%run svgRankChart.py\n",
    "\n",
    "import numpy as np\n",
    "import plotly.express as px\n",
    "\n",
    "names = ['European society needs to grasp the opportunities brought by the digital transformation', \n",
    "         'A deep transformation such as the one facilitated by digital technologies',\n",
    "         'The progress needs to be evenly distributed across all regions',\n",
    "         'Over the next decade the EU economy and society need to undergo a profound transformation',\n",
    "         'The design of green and digital policy actions needs to consider socio-economic and territorial impacts',\n",
    "         'The EU supports the shift to a sustainable and resilient growth model',\n",
    "         'Address the challenges arising from the demographic transition',\n",
    "         'Geospatial data and methods are (usually) globally applicable',\n",
    "         'Considerable EU investments',\n",
    "         'The acceleration of the implementation of the Fit for 55 package',\n",
    "         'To become climate-neutral by 2050, Europe needs to decarbonise',\n",
    "         'Efforts need to be intensified in the harder-to-decarbonise sectors',\n",
    "         'The Commission recently decided to better understand the environment interface',\n",
    "         'One Health was already recognised by the Commission as an emerging priority',\n",
    "         'Achieving sustainability requires a holistic, well-coordinated approach',\n",
    "         'The conflict in Ukraine is endangering food security and has implications for food supply chains',\n",
    "         'The food system is composed of sub-systems and interacts with other key systems',\n",
    "         'The future of the EU and its position in the world will be influenced by population trajectories',\n",
    "         'Policymakers are often asked to react quickly to new circumstances',\n",
    "         'Obtaining economic benefit from natural resources whilst maintaining natural capital',\n",
    "         'We must be able to create EU policies that  decouple resource use from economic development',\n",
    "         'Robust, resilient and innovative EU economy'\n",
    "         ]\n",
    "\n",
    "values = np.random.uniform(low=0.1, high=1.0, size=(len(names)))\n",
    "\n",
    "debug = widgets.Output()\n",
    "display(debug)\n",
    "\n",
    "def on_change(arg):\n",
    "    with debug:\n",
    "        print(arg)\n",
    "\n",
    "out = svgRankChart(names=names,\n",
    "                   values=values,\n",
    "                   width=20.0,\n",
    "                   height=80.0,\n",
    "                   splitnamelenght=45,\n",
    "                   addposition=False,\n",
    "                   fontsize=1.0,\n",
    "                   selectfirstatstart=False,\n",
    "                   colorlist=px.colors.sequential.Viridis,\n",
    "                   hovercolor='blue',\n",
    "                   enabledeselect=True,\n",
    "                   on_change=on_change)\n",
    "\n",
    "out"
   ]
  },
  {
   "cell_type": "code",
   "execution_count": null,
   "id": "3a93907c",
   "metadata": {},
   "outputs": [],
   "source": []
  }
 ],
 "metadata": {
  "kernelspec": {
   "display_name": "Python 3 (ipykernel)",
   "language": "python",
   "name": "python3"
  },
  "language_info": {
   "codemirror_mode": {
    "name": "ipython",
    "version": 3
   },
   "file_extension": ".py",
   "mimetype": "text/x-python",
   "name": "python",
   "nbconvert_exporter": "python",
   "pygments_lexer": "ipython3",
   "version": "3.7.13"
  }
 },
 "nbformat": 4,
 "nbformat_minor": 5
}
