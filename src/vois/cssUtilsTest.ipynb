{
 "cells": [
  {
   "cell_type": "code",
   "execution_count": null,
   "id": "89750977",
   "metadata": {
    "tags": []
   },
   "outputs": [],
   "source": [
    "%run cssUtils.py\n",
    "\n",
    "allSettings()"
   ]
  },
  {
   "cell_type": "code",
   "execution_count": null,
   "id": "27438770",
   "metadata": {
    "tags": []
   },
   "outputs": [],
   "source": [
    "%run cssUtils.py\n",
    "\n",
    "copyToClipboard('aaa bbb ccc ddd')"
   ]
  },
  {
   "cell_type": "code",
   "execution_count": null,
   "id": "f83e374d",
   "metadata": {
    "tags": []
   },
   "outputs": [],
   "source": [
    "#from IPython.display import HTML\n",
    "#from ipywidgets import HTML\n",
    "#text = 'ciao ciao bambina'\n",
    "#HTML(f\"<button onclick=navigator.clipboard.writeText(\\\"{text}\\\")>Copy</button>\")"
   ]
  },
  {
   "cell_type": "code",
   "execution_count": null,
   "id": "cb7d54ce",
   "metadata": {
    "tags": []
   },
   "outputs": [],
   "source": [
    "#from IPython.display import HTML\n",
    "from ipywidgets import HTML\n",
    "HTML(\"<script>navigator.clipboard.writeText('Elena De Marchi')</script>\")"
   ]
  },
  {
   "cell_type": "code",
   "execution_count": null,
   "id": "03141aa2",
   "metadata": {
    "tags": []
   },
   "outputs": [],
   "source": [
    "#HTML(\"<script>setTimeout(async()=>console.log(await window.navigator.clipboard.writeText('Valeria De Marchi')), 6000)</script>\")"
   ]
  },
  {
   "cell_type": "code",
   "execution_count": null,
   "id": "add4ab45",
   "metadata": {
    "tags": []
   },
   "outputs": [],
   "source": [
    "import ipywidgets as widgets\n",
    "from IPython.display import display, HTML, Javascript\n",
    "\n",
    "mybtn = widgets.Button(description='copy to clipboard', button_style='success')\n",
    "output = widgets.Output()\n",
    "\n",
    "display(mybtn, output)\n",
    "        \n",
    "def mybtn_event_handler(b):\n",
    "    with output:\n",
    "        display(HTML(\"<script>navigator.clipboard.writeText('Emanuele De Marchi')</script>\"))\n",
    "        display(Javascript('''console.log(\"Success\");'''))\n",
    "\n",
    "mybtn.on_click(mybtn_event_handler)"
   ]
  },
  {
   "cell_type": "code",
   "execution_count": null,
   "id": "bf779d7b",
   "metadata": {},
   "outputs": [],
   "source": []
  }
 ],
 "metadata": {
  "kernelspec": {
   "display_name": "Python 3 (ipykernel)",
   "language": "python",
   "name": "python3"
  },
  "language_info": {
   "codemirror_mode": {
    "name": "ipython",
    "version": 3
   },
   "file_extension": ".py",
   "mimetype": "text/x-python",
   "name": "python",
   "nbconvert_exporter": "python",
   "pygments_lexer": "ipython3",
   "version": "3.11.9"
  }
 },
 "nbformat": 4,
 "nbformat_minor": 5
}
