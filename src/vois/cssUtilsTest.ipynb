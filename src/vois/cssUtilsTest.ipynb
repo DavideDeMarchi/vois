{
 "cells": [
  {
   "cell_type": "code",
   "execution_count": null,
   "id": "89750977",
   "metadata": {},
   "outputs": [],
   "source": [
    "%run cssUtils.py\n",
    "\n",
    "allSettings()"
   ]
  },
  {
   "cell_type": "code",
   "execution_count": 12,
   "id": "27438770",
   "metadata": {},
   "outputs": [
    {
     "data": {
      "application/vnd.jupyter.widget-view+json": {
       "model_id": "e754b91341ba47f0b44b6a71ddcaaa72",
       "version_major": 2,
       "version_minor": 0
      },
      "text/plain": [
       "HTML(value='\\n<script>\\n    navigator.clipboard.writeText(aaa bbb ccc ddd);\\n</script>')"
      ]
     },
     "metadata": {},
     "output_type": "display_data"
    }
   ],
   "source": [
    "%run cssUtils.py\n",
    "\n",
    "copyToClipboard('aaa bbb ccc ddd')"
   ]
  },
  {
   "cell_type": "code",
   "execution_count": 1,
   "id": "f83e374d",
   "metadata": {},
   "outputs": [
    {
     "data": {
      "application/vnd.jupyter.widget-view+json": {
       "model_id": "73f1bcb6dcf941d099122e6a40decf55",
       "version_major": 2,
       "version_minor": 0
      },
      "text/plain": [
       "HTML(value='<button onclick=navigator.clipboard.writeText(\"ciao ciao bambina\")>Copy</button>')"
      ]
     },
     "metadata": {},
     "output_type": "display_data"
    }
   ],
   "source": [
    "#from IPython.display import HTML\n",
    "#from ipywidgets import HTML\n",
    "#text = 'ciao ciao bambina'\n",
    "#HTML(f\"<button onclick=navigator.clipboard.writeText(\\\"{text}\\\")>Copy</button>\")"
   ]
  },
  {
   "cell_type": "code",
   "execution_count": 2,
   "id": "cb7d54ce",
   "metadata": {},
   "outputs": [
    {
     "data": {
      "text/html": [
       "<script>navigator.clipboard.writeText('Elena De Marchi')</script>"
      ],
      "text/plain": [
       "<IPython.core.display.HTML object>"
      ]
     },
     "execution_count": 2,
     "metadata": {},
     "output_type": "execute_result"
    }
   ],
   "source": [
    "#from IPython.display import HTML\n",
    "from ipywidgets import HTML\n",
    "HTML(\"<script>navigator.clipboard.writeText('Elena De Marchi')</script>\")"
   ]
  },
  {
   "cell_type": "code",
   "execution_count": 18,
   "id": "03141aa2",
   "metadata": {},
   "outputs": [
    {
     "data": {
      "text/html": [
       "<script>setTimeout(async()=>console.log(await window.navigator.clipboard.writeText('Davide De Marchi')), 3000)</script>"
      ],
      "text/plain": [
       "<IPython.core.display.HTML object>"
      ]
     },
     "execution_count": 18,
     "metadata": {},
     "output_type": "execute_result"
    }
   ],
   "source": [
    "#HTML(\"<script>setTimeout(async()=>console.log(await window.navigator.clipboard.writeText('Valeria De Marchi')), 6000)</script>\")"
   ]
  },
  {
   "cell_type": "code",
   "execution_count": 3,
   "id": "add4ab45",
   "metadata": {},
   "outputs": [
    {
     "data": {
      "application/vnd.jupyter.widget-view+json": {
       "model_id": "a555ec0523bb4a9ebe090b781468386e",
       "version_major": 2,
       "version_minor": 0
      },
      "text/plain": [
       "Button(button_style='success', description='copy to clipboard', style=ButtonStyle())"
      ]
     },
     "metadata": {},
     "output_type": "display_data"
    },
    {
     "data": {
      "application/vnd.jupyter.widget-view+json": {
       "model_id": "6f13997097f848138a9d6c7f45fe0dd7",
       "version_major": 2,
       "version_minor": 0
      },
      "text/plain": [
       "Output()"
      ]
     },
     "metadata": {},
     "output_type": "display_data"
    }
   ],
   "source": [
    "import ipywidgets as widgets\n",
    "from IPython.display import display, HTML, Javascript\n",
    "\n",
    "mybtn = widgets.Button(description='copy to clipboard', button_style='success')\n",
    "output = widgets.Output()\n",
    "\n",
    "display(mybtn, output)\n",
    "        \n",
    "def mybtn_event_handler(b):\n",
    "    with output:\n",
    "        display(HTML(\"<script>navigator.clipboard.writeText('Emanuele De Marchi')</script>\"))\n",
    "        display(Javascript('''console.log(\"Success\");'''))\n",
    "\n",
    "mybtn.on_click(mybtn_event_handler)"
   ]
  },
  {
   "cell_type": "code",
   "execution_count": null,
   "id": "bf779d7b",
   "metadata": {},
   "outputs": [],
   "source": []
  }
 ],
 "metadata": {
  "kernelspec": {
   "display_name": "Python 3 (ipykernel)",
   "language": "python",
   "name": "python3"
  },
  "language_info": {
   "codemirror_mode": {
    "name": "ipython",
    "version": 3
   },
   "file_extension": ".py",
   "mimetype": "text/x-python",
   "name": "python",
   "nbconvert_exporter": "python",
   "pygments_lexer": "ipython3",
   "version": "3.7.13"
  }
 },
 "nbformat": 4,
 "nbformat_minor": 5
}
