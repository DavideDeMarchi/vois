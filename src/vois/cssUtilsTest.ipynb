{
 "cells": [
  {
   "cell_type": "code",
   "execution_count": null,
   "id": "89750977",
   "metadata": {
    "tags": []
   },
   "outputs": [],
   "source": [
    "%run cssUtils.py\n",
    "\n",
    "allSettings()"
   ]
  },
  {
   "cell_type": "code",
   "execution_count": null,
   "id": "27438770",
   "metadata": {
    "tags": []
   },
   "outputs": [],
   "source": [
    "%run cssUtils.py\n",
    "\n",
    "import ipywidgets as widgets\n",
    "output = widgets.Output()\n",
    "display(output)\n",
    "\n",
    "copyToClipboard('aaa bbb ccc ddd', output)"
   ]
  },
  {
   "cell_type": "code",
   "execution_count": null,
   "id": "aa11418e-c2e1-4068-80db-ec7a1cd5e78d",
   "metadata": {},
   "outputs": [],
   "source": []
  },
  {
   "cell_type": "code",
   "execution_count": null,
   "id": "f83e374d",
   "metadata": {
    "tags": []
   },
   "outputs": [],
   "source": [
    "#from IPython.display import HTML\n",
    "#from ipywidgets import HTML\n",
    "#text = 'ciao ciao bambina'\n",
    "#HTML(f\"<button onclick=navigator.clipboard.writeText(\\\"{text}\\\")>Copy</button>\")"
   ]
  },
  {
   "cell_type": "code",
   "execution_count": null,
   "id": "cb7d54ce",
   "metadata": {
    "tags": []
   },
   "outputs": [],
   "source": [
    "#from IPython.display import HTML\n",
    "from ipywidgets import HTML\n",
    "HTML(\"<script>navigator.clipboard.writeText('Elena De Marchi')</script>\")"
   ]
  },
  {
   "cell_type": "code",
   "execution_count": null,
   "id": "03141aa2",
   "metadata": {
    "tags": []
   },
   "outputs": [],
   "source": [
    "#HTML(\"<script>setTimeout(async()=>console.log(await window.navigator.clipboard.writeText('Valeria De Marchi')), 6000)</script>\")"
   ]
  },
  {
   "cell_type": "code",
   "execution_count": null,
   "id": "add4ab45",
   "metadata": {
    "tags": []
   },
   "outputs": [],
   "source": [
    "import ipywidgets as widgets\n",
    "from IPython.display import display, HTML, Javascript\n",
    "\n",
    "mybtn = widgets.Button(description='copy to clipboard', button_style='success')\n",
    "output = widgets.Output()\n",
    "\n",
    "display(mybtn, output)\n",
    "        \n",
    "def mybtn_event_handler(b):\n",
    "    with output:\n",
    "        display(HTML(\"<script>navigator.clipboard.writeText('Emanuele De Marchi')</script>\"))\n",
    "        #display(Javascript('''console.log(\"Success\");'''))\n",
    "\n",
    "mybtn.on_click(mybtn_event_handler)"
   ]
  },
  {
   "cell_type": "code",
   "execution_count": null,
   "id": "7981e7ef-bb67-4895-a773-b0f08f79d3ba",
   "metadata": {
    "tags": []
   },
   "outputs": [],
   "source": [
    "import ipywidgets as widgets\n",
    "from IPython.display import display, HTML\n",
    "from vois.vuetify import iconButton\n",
    "\n",
    "output = widgets.Output()\n",
    "display(output)\n",
    "\n",
    "def onclick(*args):\n",
    "    with output:\n",
    "        display(HTML(\"<script>navigator.clipboard.writeText('Emanuele De Marchi')</script>\"))\n",
    "\n",
    "b = iconButton.iconButton(icon='mdi-content-copy', color='green', onclick=onclick, tooltip='Click to copy text to the clipboard')\n",
    "b.draw()"
   ]
  },
  {
   "cell_type": "code",
   "execution_count": null,
   "id": "b91f8ed7-9dc9-4692-a27b-37e6edd5d338",
   "metadata": {},
   "outputs": [],
   "source": []
  }
 ],
 "metadata": {
  "kernelspec": {
   "display_name": "Python 3 (ipykernel)",
   "language": "python",
   "name": "python3"
  },
  "language_info": {
   "codemirror_mode": {
    "name": "ipython",
    "version": 3
   },
   "file_extension": ".py",
   "mimetype": "text/x-python",
   "name": "python",
   "nbconvert_exporter": "python",
   "pygments_lexer": "ipython3",
   "version": "3.11.9"
  }
 },
 "nbformat": 4,
 "nbformat_minor": 5
}
