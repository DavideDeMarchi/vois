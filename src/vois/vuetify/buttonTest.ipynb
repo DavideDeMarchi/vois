{
 "cells": [
  {
   "cell_type": "code",
   "execution_count": null,
   "id": "5c4adfcb",
   "metadata": {},
   "outputs": [],
   "source": [
    "%run button.py\n",
    "\n",
    "def onclick(arg=None):\n",
    "    if arg==1:\n",
    "        b1.selected = not b1.selected\n",
    "    else:\n",
    "        b2.selected = not b2.selected\n",
    "\n",
    "b1 = button('Test button 1', textweight=300, onclick=onclick, argument=1, width=150, small=False, disabled=False, height=36, outlined=False, \n",
    "            tooltip='Example of an extremely long tooltip text', selected=False, icon='mdi-car-light-high', iconleft=True, iconcolor='black', rounded=True)\n",
    "\n",
    "b2 = button('Test button 2', textweight=450, onclick=onclick, argument=2, width=150, small=False, disabled=False, height=48, outlined=False, \n",
    "            tooltip='Example of an extremely long tooltip text', selected=True, rounded=False, \n",
    "            colorselected=settings.color_first, colorunselected='green')\n",
    "\n",
    "b3 = button('Contacts', onlytext=True, textcolor=settings.color_first, width=150, height=28, href='https://ec.europa.eu/info/contact_en', target=\"_blank\", tooltip='Open a URL')\n",
    "\n",
    "display(b1.draw())\n",
    "display(b2.draw())\n",
    "display(b3.draw())"
   ]
  },
  {
   "cell_type": "code",
   "execution_count": null,
   "id": "a09c7829",
   "metadata": {},
   "outputs": [],
   "source": [
    "%run button.py\n",
    "ba = button('', icon='mdi-sort-ascending',  width=40, iconcolor='black', selected=False, outlined=False)\n",
    "bd = button('', icon='mdi-sort-descending', width=40, iconcolor='black', selected=True,  outlined=False)\n",
    "display(ba.draw(),bd.draw())"
   ]
  },
  {
   "cell_type": "code",
   "execution_count": null,
   "id": "fd917899",
   "metadata": {},
   "outputs": [],
   "source": [
    "%run button.py\n",
    "\n",
    "b = button('Test button', textweight=450, width=250, height=46,\n",
    "           selected=True, rounded=True, \n",
    "           icon='mdi-menu-open', iconcolor='black', iconlarge=True)\n",
    "\n",
    "b.draw()"
   ]
  },
  {
   "cell_type": "code",
   "execution_count": null,
   "id": "c5a51914",
   "metadata": {},
   "outputs": [],
   "source": [
    "b.setIcon('mdi-menu')"
   ]
  },
  {
   "cell_type": "code",
   "execution_count": null,
   "id": "f2497db7",
   "metadata": {},
   "outputs": [],
   "source": [
    "b.setText('New button text')"
   ]
  },
  {
   "cell_type": "code",
   "execution_count": null,
   "id": "ee2dd021",
   "metadata": {},
   "outputs": [],
   "source": [
    "# Icon only button\n",
    "b1 = button('', textcolor='#ffffff00', onclick=onclick, argument=1, width=50, small=False, disabled=False, height=\"1.8vh\", outlined=False, \n",
    "            tooltip='Example of an extremely long tooltip text', selected=False, icon='mdi-car-light-high', iconleft=True, iconcolor='black', rounded=True)\n",
    "display(b1.draw())"
   ]
  },
  {
   "cell_type": "code",
   "execution_count": null,
   "id": "746756a0",
   "metadata": {},
   "outputs": [],
   "source": []
  }
 ],
 "metadata": {
  "kernelspec": {
   "display_name": "Python 3 (ipykernel)",
   "language": "python",
   "name": "python3"
  },
  "language_info": {
   "codemirror_mode": {
    "name": "ipython",
    "version": 3
   },
   "file_extension": ".py",
   "mimetype": "text/x-python",
   "name": "python",
   "nbconvert_exporter": "python",
   "pygments_lexer": "ipython3",
   "version": "3.7.13"
  }
 },
 "nbformat": 4,
 "nbformat_minor": 5
}
