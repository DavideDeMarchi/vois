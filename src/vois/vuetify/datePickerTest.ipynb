{
 "cells": [
  {
   "cell_type": "code",
   "execution_count": 1,
   "id": "e24938ca",
   "metadata": {},
   "outputs": [
    {
     "data": {
      "application/vnd.jupyter.widget-view+json": {
       "model_id": "0f517548c59e440c91f7662bfe09a34d",
       "version_major": 2,
       "version_minor": 0
      },
      "text/plain": [
       "Menu(children=[DatePicker(color='#f8bd1a', dark=False, header_color='#f8bd1a', layout=None, max='2023-11-02', …"
      ]
     },
     "metadata": {},
     "output_type": "display_data"
    },
    {
     "data": {
      "application/vnd.jupyter.widget-view+json": {
       "model_id": "0ea6c86686144e74ae04ec975e790bfb",
       "version_major": 2,
       "version_minor": 0
      },
      "text/plain": [
       "Output()"
      ]
     },
     "metadata": {},
     "output_type": "display_data"
    }
   ],
   "source": [
    "%run datePicker.py\n",
    "\n",
    "from ipywidgets import widgets\n",
    "from IPython.display import display\n",
    "from datetime import datetime, timedelta\n",
    "\n",
    "output = widgets.Output()\n",
    "\n",
    "def onchange():\n",
    "    with output:\n",
    "        print('Changed to', d.date)\n",
    "        \n",
    "maxdate = datetime.today()\n",
    "mindate = maxdate - timedelta(days=10)\n",
    "\n",
    "d = datePicker(date=None, label='Start date', \n",
    "               offset_x=True, offset_y=False,\n",
    "               onchange=onchange, disabled=False,\n",
    "               maxdate=maxdate.strftime('%Y-%m-%d'),\n",
    "               mindate=mindate.strftime('%Y-%m-%d'))\n",
    "\n",
    "display(d.draw())\n",
    "display(output)"
   ]
  },
  {
   "cell_type": "code",
   "execution_count": 9,
   "id": "bbbc4588",
   "metadata": {},
   "outputs": [],
   "source": [
    "d.date = '2021-12-11'"
   ]
  },
  {
   "cell_type": "code",
   "execution_count": 12,
   "id": "98dbb85c",
   "metadata": {},
   "outputs": [],
   "source": [
    "d.disabled = True"
   ]
  },
  {
   "cell_type": "code",
   "execution_count": 13,
   "id": "65dc9682",
   "metadata": {},
   "outputs": [],
   "source": [
    "d.disabled = False"
   ]
  },
  {
   "cell_type": "code",
   "execution_count": null,
   "id": "a87a6ef1",
   "metadata": {},
   "outputs": [],
   "source": []
  }
 ],
 "metadata": {
  "kernelspec": {
   "display_name": "Python 3 (ipykernel)",
   "language": "python",
   "name": "python3"
  },
  "language_info": {
   "codemirror_mode": {
    "name": "ipython",
    "version": 3
   },
   "file_extension": ".py",
   "mimetype": "text/x-python",
   "name": "python",
   "nbconvert_exporter": "python",
   "pygments_lexer": "ipython3",
   "version": "3.7.13"
  }
 },
 "nbformat": 4,
 "nbformat_minor": 5
}
