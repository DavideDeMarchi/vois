{
 "cells": [
  {
   "cell_type": "code",
   "execution_count": 3,
   "id": "47ec95af",
   "metadata": {},
   "outputs": [
    {
     "data": {
      "application/vnd.jupyter.widget-view+json": {
       "model_id": "6459fc868f1e4eada1ed1f8d7d7695e0",
       "version_major": 2,
       "version_minor": 0
      },
      "text/plain": [
       "Menu(children=[DatePicker(color='#f8bd1a', dark=False, header_color='#f8bd1a', max='2022-11-06', min='2022-10-…"
      ]
     },
     "metadata": {},
     "output_type": "display_data"
    },
    {
     "data": {
      "application/vnd.jupyter.widget-view+json": {
       "model_id": "f83cc873bca64d3683845f260220d303",
       "version_major": 2,
       "version_minor": 0
      },
      "text/plain": [
       "Output()"
      ]
     },
     "metadata": {},
     "output_type": "display_data"
    }
   ],
   "source": [
    "%run datePicker.py\n",
    "\n",
    "from ipywidgets import widgets\n",
    "from IPython.display import display\n",
    "from datetime import datetime, timedelta\n",
    "\n",
    "output = widgets.Output()\n",
    "\n",
    "def onchange():\n",
    "    with output:\n",
    "        print('Changed to', d.date)\n",
    "        \n",
    "maxdate = datetime.today()\n",
    "mindate = maxdate - timedelta(days=10)\n",
    "\n",
    "d = datePicker(date=None, label='Start date', \n",
    "               offset_x=True, offset_y=False,\n",
    "               onchange=onchange, disabled=False,\n",
    "               maxdate=maxdate.strftime('%Y-%m-%d'),\n",
    "               mindate=mindate.strftime('%Y-%m-%d'))\n",
    "\n",
    "display(d.draw())\n",
    "display(output)"
   ]
  },
  {
   "cell_type": "code",
   "execution_count": 9,
   "id": "0fc869c4",
   "metadata": {},
   "outputs": [],
   "source": [
    "d.date = '2021-12-11'"
   ]
  },
  {
   "cell_type": "code",
   "execution_count": 12,
   "id": "c5944e90",
   "metadata": {},
   "outputs": [],
   "source": [
    "d.disabled = True"
   ]
  },
  {
   "cell_type": "code",
   "execution_count": 13,
   "id": "62ddec6f",
   "metadata": {},
   "outputs": [],
   "source": [
    "d.disabled = False"
   ]
  },
  {
   "cell_type": "code",
   "execution_count": null,
   "id": "6f26f455",
   "metadata": {},
   "outputs": [],
   "source": []
  }
 ],
 "metadata": {
  "kernelspec": {
   "display_name": "Python 3 (ipykernel)",
   "language": "python",
   "name": "python3"
  },
  "language_info": {
   "codemirror_mode": {
    "name": "ipython",
    "version": 3
   },
   "file_extension": ".py",
   "mimetype": "text/x-python",
   "name": "python",
   "nbconvert_exporter": "python",
   "pygments_lexer": "ipython3",
   "version": "3.7.13"
  }
 },
 "nbformat": 4,
 "nbformat_minor": 5
}
