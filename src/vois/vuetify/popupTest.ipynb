{
 "cells": [
  {
   "cell_type": "code",
   "execution_count": null,
   "id": "9a19a4d6",
   "metadata": {},
   "outputs": [],
   "source": [
    "# Icon-only popup\n",
    "from vois.vuetify import treeview\n",
    "\n",
    "from ipywidgets import widgets\n",
    "out = widgets.Output()\n",
    "display(out)\n",
    "\n",
    "%run popup.py\n",
    "\n",
    "treecard = treeview.createTreeviewFromList(['S%d'%x for x in range(10)],\n",
    "                                           rootName='All',\n",
    "                                           height='270px')\n",
    "\n",
    "def on_input(data):\n",
    "    with out:\n",
    "        print(data)\n",
    "\n",
    "p = popup(treecard, 'test', icon='mdi-car', popupheight=270, icon_small=False, icon_large=False, \n",
    "          rounded=True, outlined=False, margintop=0, text=True, buttonwidth=34, buttonheight=34, \n",
    "          open_on_hover=False, close_on_click=False, close_on_content_click=False, title='Select a sector:',\n",
    "          show_close_button=True, on_input=on_input)\n",
    "\n",
    "p.draw()"
   ]
  },
  {
   "cell_type": "code",
   "execution_count": null,
   "id": "7ec4a1f2",
   "metadata": {},
   "outputs": [],
   "source": [
    "p.text = \"new\""
   ]
  },
  {
   "cell_type": "code",
   "execution_count": null,
   "id": "0c754c7a",
   "metadata": {},
   "outputs": [],
   "source": [
    "from IPython.display import display\n",
    "\n",
    "%run popup.py\n",
    "\n",
    "def on_activated(item):\n",
    "    p.text = item\n",
    "    \n",
    "sectors = ['S%d'%x for x in range(10)]\n",
    "treecard = treeview.createTreeviewFromList(sectors,\n",
    "                                           selectable=False,\n",
    "                                           activatable=True,\n",
    "                                           on_activated=on_activated,\n",
    "                                           rootName='Select',\n",
    "                                           height='270px')\n",
    "\n",
    "p = popup(treecard, 'None', popupheight=270)\n",
    "\n",
    "display(p.draw())"
   ]
  },
  {
   "cell_type": "code",
   "execution_count": null,
   "id": "89139a81",
   "metadata": {},
   "outputs": [],
   "source": [
    "p.menu.v_model = False"
   ]
  },
  {
   "cell_type": "code",
   "execution_count": null,
   "id": "d6c2278b",
   "metadata": {},
   "outputs": [],
   "source": [
    "# Text only popup\n",
    "from vois.vuetify import treeview\n",
    "\n",
    "from ipywidgets import widgets\n",
    "out = widgets.Output()\n",
    "display(out)\n",
    "\n",
    "%run popup.py\n",
    "\n",
    "treecard = treeview.createTreeviewFromList(['S%d'%x for x in range(10)],\n",
    "                                           rootName='All',\n",
    "                                           height='270px')\n",
    "\n",
    "def on_input(data):\n",
    "    with out:\n",
    "        print(data)\n",
    "\n",
    "p = popup(treecard, 'Sector',popupheight=270, buttonheight=34, margintop=0,\n",
    "          open_on_hover=True, close_on_click=False, close_on_content_click=False, title='Select a sector:', show_close_button=True, on_input=on_input)\n",
    "\n",
    "p.draw()"
   ]
  },
  {
   "cell_type": "code",
   "execution_count": null,
   "id": "b65cc25f",
   "metadata": {},
   "outputs": [],
   "source": [
    "%run popup.py\n",
    "%run palettePickerEx.py\n",
    "\n",
    "from ipywidgets import widgets\n",
    "\n",
    "output = widgets.Output()\n",
    "display(output)\n",
    "\n",
    "def onchange(colors,interpolate):\n",
    "    pass\n",
    "    #with output:\n",
    "    #    print(colors,interpolate)\n",
    "\n",
    "pal = palettePickerEx(family='sequential', width=250, onchange=onchange)\n",
    "pal.value = 'Turbo'\n",
    "card = v.Card(flat=True, class_='pa-0 ma-0 mt-2 ml-2', children=[pal.draw()])\n",
    "p = popup(card, '', text=True, icon='mdi-palette-outline', outlined=False, buttonwidth=100, popupwidth=450, popupheight=120,\n",
    "          open_on_hover=False, close_on_click=False, close_on_content_click=False)\n",
    "\n",
    "p.draw()"
   ]
  },
  {
   "cell_type": "code",
   "execution_count": null,
   "id": "a933c6c1",
   "metadata": {},
   "outputs": [],
   "source": []
  },
  {
   "cell_type": "code",
   "execution_count": null,
   "id": "fcda3f83",
   "metadata": {},
   "outputs": [],
   "source": []
  },
  {
   "cell_type": "code",
   "execution_count": null,
   "id": "f4e5f84c",
   "metadata": {},
   "outputs": [],
   "source": []
  },
  {
   "cell_type": "code",
   "execution_count": null,
   "id": "f0193df2",
   "metadata": {},
   "outputs": [],
   "source": [
    "# Manage events\n",
    "from vois.vuetify import treeview\n",
    "import ipywidgets as widgets\n",
    "\n",
    "output = widgets.Output()\n",
    "\n",
    "\n",
    "def onmenu(widget, event, data):\n",
    "    with output:\n",
    "        print(data)\n",
    "\n",
    "\n",
    "%run popup.py\n",
    "\n",
    "treecard = treeview.createTreeviewFromList(['S%d'%x for x in range(10)],\n",
    "                                           rootName='All',\n",
    "                                           height='270px')\n",
    "\n",
    "p = popup(treecard, 'Sector',popupheight=270, buttonheight=34, margintop=0,\n",
    "          open_on_hover=True, close_on_click=False, close_on_content_click=False, title='Select a sector:', show_close_button=True)\n",
    "\n",
    "p.menu.on_event('input', onmenu)\n",
    "\n",
    "\n",
    "display(p.draw())\n",
    "display(output)"
   ]
  },
  {
   "cell_type": "code",
   "execution_count": null,
   "id": "a4d77d62",
   "metadata": {},
   "outputs": [],
   "source": []
  }
 ],
 "metadata": {
  "kernelspec": {
   "display_name": "Python 3 (ipykernel)",
   "language": "python",
   "name": "python3"
  },
  "language_info": {
   "codemirror_mode": {
    "name": "ipython",
    "version": 3
   },
   "file_extension": ".py",
   "mimetype": "text/x-python",
   "name": "python",
   "nbconvert_exporter": "python",
   "pygments_lexer": "ipython3",
   "version": "3.7.13"
  }
 },
 "nbformat": 4,
 "nbformat_minor": 5
}
