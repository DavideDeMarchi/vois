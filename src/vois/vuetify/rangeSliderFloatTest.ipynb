{
 "cells": [
  {
   "cell_type": "code",
   "execution_count": null,
   "id": "5c178a9b",
   "metadata": {},
   "outputs": [],
   "source": [
    "## from ipywidgets import widgets\n",
    "from IPython.display import display\n",
    "\n",
    "%run rangeSliderFloat.py\n",
    "\n",
    "output = widgets.Output()\n",
    "\n",
    "def onchange(value):\n",
    "    with output:\n",
    "        print(value)\n",
    "\n",
    "s = rangeSliderFloat(1.8, 2.5, text='Select pressure level:', minvalue=1.0, maxvalue=3.0, showpercentage=False, decimals=3,\n",
    "                     resetbutton=False, showtooltip=True, onchange=onchange, editable=True, editableWidth=80)\n",
    "display(s.draw())\n",
    "display(output)"
   ]
  },
  {
   "cell_type": "code",
   "execution_count": null,
   "id": "cc57315a",
   "metadata": {},
   "outputs": [],
   "source": [
    "from ipywidgets import widgets\n",
    "from IPython.display import display\n",
    "\n",
    "%run rangeSliderFloat.py\n",
    "\n",
    "output = widgets.Output()\n",
    "\n",
    "def onchange(value):\n",
    "    with output:\n",
    "        print(value)\n",
    "\n",
    "s = rangeSliderFloat(1.8, 2.5, text='', minvalue=1.0, maxvalue=3.0, showpercentage=False, decimals=3,\n",
    "                     resetbutton=False, showtooltip=True, onchange=onchange)\n",
    "display(s.draw())\n",
    "display(output)"
   ]
  },
  {
   "cell_type": "code",
   "execution_count": null,
   "id": "a0d06c92",
   "metadata": {},
   "outputs": [],
   "source": [
    "# Update the minvalue and maxvalue!\n",
    "v = s.value\n",
    "s.minvalue = 2\n",
    "s.maxvalue = 4\n",
    "s.onsliderchange()\n",
    "intvaluemin = s.float2integer(v[0])\n",
    "intvaluemax = s.float2integer(v[1])\n",
    "s.slider.v_model = [intvaluemin,intvaluemax]\n",
    "s.oninput()\n",
    "#s.slider.v_model = \n",
    "#s.draw()"
   ]
  },
  {
   "cell_type": "code",
   "execution_count": null,
   "id": "b0e57e75",
   "metadata": {},
   "outputs": [],
   "source": [
    "s.slider.v_model"
   ]
  },
  {
   "cell_type": "code",
   "execution_count": null,
   "id": "1efd3e36",
   "metadata": {},
   "outputs": [],
   "source": [
    "s.value"
   ]
  },
  {
   "cell_type": "code",
   "execution_count": null,
   "id": "a4f21642",
   "metadata": {},
   "outputs": [],
   "source": []
  },
  {
   "cell_type": "code",
   "execution_count": null,
   "id": "225df3e1",
   "metadata": {},
   "outputs": [],
   "source": []
  },
  {
   "cell_type": "code",
   "execution_count": null,
   "id": "97a9dd9d",
   "metadata": {},
   "outputs": [],
   "source": []
  },
  {
   "cell_type": "code",
   "execution_count": null,
   "id": "4dc4694a",
   "metadata": {},
   "outputs": [],
   "source": [
    "s.value = [2.35, 2.89]"
   ]
  },
  {
   "cell_type": "code",
   "execution_count": null,
   "id": "fe011a11",
   "metadata": {},
   "outputs": [],
   "source": []
  },
  {
   "cell_type": "code",
   "execution_count": null,
   "id": "8b9cb93f",
   "metadata": {},
   "outputs": [],
   "source": [
    "from ipywidgets import widgets\n",
    "from IPython.display import display\n",
    "\n",
    "%run rangeSliderFloat.py\n",
    "\n",
    "output = widgets.Output()\n",
    "\n",
    "def onchange(value):\n",
    "    with output:\n",
    "        print(value)\n",
    "\n",
    "s = rangeSliderFloat(0.4,0.8, text='Fill opacity:  ', onchange=onchange)\n",
    "display(s.draw())\n",
    "display(output)"
   ]
  },
  {
   "cell_type": "code",
   "execution_count": null,
   "id": "96d2cc58",
   "metadata": {},
   "outputs": [],
   "source": []
  },
  {
   "cell_type": "code",
   "execution_count": null,
   "id": "9f3e09e2",
   "metadata": {},
   "outputs": [],
   "source": [
    "from ipywidgets import widgets\n",
    "from IPython.display import display\n",
    "\n",
    "%run rangeSliderFloat.py\n",
    "\n",
    "output = widgets.Output()\n",
    "\n",
    "def onchange(value):\n",
    "    with output:\n",
    "        print(value)\n",
    "\n",
    "s = rangeSliderFloat(45.0, 135.0, text='Select Value in [0.0,360.0]:', minvalue=0.0, maxvalue=360.0, maxint=360, showpercentage=False, decimals=0, labelwidth=200, onchange=onchange)\n",
    "display(s.draw())\n",
    "display(output)"
   ]
  },
  {
   "cell_type": "code",
   "execution_count": null,
   "id": "2ac9dda2",
   "metadata": {},
   "outputs": [],
   "source": []
  }
 ],
 "metadata": {
  "kernelspec": {
   "display_name": "Python 3 (ipykernel)",
   "language": "python",
   "name": "python3"
  },
  "language_info": {
   "codemirror_mode": {
    "name": "ipython",
    "version": 3
   },
   "file_extension": ".py",
   "mimetype": "text/x-python",
   "name": "python",
   "nbconvert_exporter": "python",
   "pygments_lexer": "ipython3",
   "version": "3.7.13"
  }
 },
 "nbformat": 4,
 "nbformat_minor": 5
}
