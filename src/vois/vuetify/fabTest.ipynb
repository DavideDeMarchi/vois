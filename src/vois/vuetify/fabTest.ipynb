{
 "cells": [
  {
   "cell_type": "code",
   "execution_count": 1,
   "id": "d0cbe06e",
   "metadata": {},
   "outputs": [
    {
     "data": {
      "application/vnd.jupyter.widget-view+json": {
       "model_id": "57f69fe6aeef4ed78e1a69ff43fdd43f",
       "version_major": 2,
       "version_minor": 0
      },
      "text/plain": [
       "Output()"
      ]
     },
     "metadata": {},
     "output_type": "display_data"
    }
   ],
   "source": [
    "from ipywidgets import HTML, widgets, Layout\n",
    "from IPython.display import display\n",
    "\n",
    "debug = widgets.Output()\n",
    "display(debug)\n",
    "\n",
    "def aaa():\n",
    "    print('aaa')\n",
    "\n",
    "def ddd():\n",
    "    print('ddd')\n",
    "\n",
    "def ggg():\n",
    "    print('ggg')"
   ]
  },
  {
   "cell_type": "code",
   "execution_count": 2,
   "id": "2025bc90",
   "metadata": {},
   "outputs": [],
   "source": [
    "# MENUMODE = True\n",
    "%run fab.py\n",
    "    \n",
    "b = fab(left='70%', top='150px', items=['aaa bbb ccc', 'ddd eee fff', 'ggg hhh iii'], tooltipitems=['', 'ddd eee fff', 'ggg hhh iii'], \n",
    "        onclick=[aaa,ddd,ggg], menumode=True, width=180, selected=True, dark=True, zindex=100, output=debug)"
   ]
  },
  {
   "cell_type": "code",
   "execution_count": null,
   "id": "07c62325",
   "metadata": {},
   "outputs": [],
   "source": [
    "b.seticon('mdi-arrow-left-bold')"
   ]
  },
  {
   "cell_type": "code",
   "execution_count": null,
   "id": "a4657429",
   "metadata": {},
   "outputs": [],
   "source": [
    "b.show(False)"
   ]
  },
  {
   "cell_type": "code",
   "execution_count": 3,
   "id": "8cfd4c7b",
   "metadata": {},
   "outputs": [],
   "source": [
    "# MENUMODE = False\n",
    "%run fab.py\n",
    "\n",
    "b = fab(left='35%', top='150px', items=['aaa bbb ccc', 'ddd eee fff', 'ggg hhh iii'], tooltipitems=['aaa bbb ccc', 'ddd eee fff', 'ggg hhh iii'],\n",
    "        onclick=[aaa,ddd,ggg], menumode=False, width=180, selected=True, dark=True, zindex=100, output=debug)\n"
   ]
  },
  {
   "cell_type": "code",
   "execution_count": null,
   "id": "81af2c89",
   "metadata": {},
   "outputs": [],
   "source": [
    "b.seticon('mdi-arrow-left-bold', 1)"
   ]
  },
  {
   "cell_type": "code",
   "execution_count": null,
   "id": "896301cc",
   "metadata": {},
   "outputs": [],
   "source": [
    "b.show(False)"
   ]
  },
  {
   "cell_type": "code",
   "execution_count": 8,
   "id": "2c1af1a9",
   "metadata": {},
   "outputs": [],
   "source": [
    "# ICON\n",
    "%run fab.py\n",
    "   \n",
    "b = fab(left='300px', top='100px', items=[''], onclick=[aaa], icon=['mdi-menu'], tooltipitems=['Click to open the settings panel'],\n",
    "        iconsmall=False, menumode=False, width=100, selected=True, dark=True, zindex=100, output=debug)\n"
   ]
  },
  {
   "cell_type": "code",
   "execution_count": null,
   "id": "2e1f52cb",
   "metadata": {},
   "outputs": [],
   "source": [
    "b.settooltip('Close the panel')\n",
    "b.seticon('mdi-arrow-left')"
   ]
  },
  {
   "cell_type": "code",
   "execution_count": null,
   "id": "520d29cf",
   "metadata": {},
   "outputs": [],
   "source": [
    "b.show(False)"
   ]
  },
  {
   "cell_type": "code",
   "execution_count": 10,
   "id": "d791c5fe",
   "metadata": {},
   "outputs": [],
   "source": [
    "# Change position at runtime\n",
    "b.top = '200px'\n",
    "b.nav.style_ = \"left:%s; top:%s; z-index:%d;\" % (b.left,b.top,b.zindex)"
   ]
  },
  {
   "cell_type": "code",
   "execution_count": null,
   "id": "a827ae76",
   "metadata": {},
   "outputs": [],
   "source": []
  }
 ],
 "metadata": {
  "kernelspec": {
   "display_name": "Python 3 (ipykernel)",
   "language": "python",
   "name": "python3"
  },
  "language_info": {
   "codemirror_mode": {
    "name": "ipython",
    "version": 3
   },
   "file_extension": ".py",
   "mimetype": "text/x-python",
   "name": "python",
   "nbconvert_exporter": "python",
   "pygments_lexer": "ipython3",
   "version": "3.7.13"
  }
 },
 "nbformat": 4,
 "nbformat_minor": 5
}
