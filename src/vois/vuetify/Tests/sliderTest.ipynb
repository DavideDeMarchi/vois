{
 "cells": [
  {
   "cell_type": "code",
   "execution_count": null,
   "id": "8e0cc537-a439-4b7a-a5fa-d3d956253193",
   "metadata": {
    "tags": []
   },
   "outputs": [],
   "source": [
    "# To load local vois library with ignoring deprecation warnings\n",
    "%run ../../development/load_local_vois.py -w"
   ]
  },
  {
   "cell_type": "code",
   "execution_count": null,
   "id": "d97bec69",
   "metadata": {
    "tags": []
   },
   "outputs": [],
   "source": [
    "from vois.vuetify import slider\n",
    "from ipywidgets import HTML, widgets, Layout\n",
    "output = widgets.Output(layout=Layout(width='400px'))\n",
    "display(output)\n",
    "\n",
    "def onchange(value):\n",
    "    with output:\n",
    "        print(value)\n",
    "    \n",
    "s = slider.slider(2015, 2010,2021, onchange=onchange, vertical=True, height=280, width=150)\n",
    "\n",
    "with output:\n",
    "    display(s)"
   ]
  },
  {
   "cell_type": "code",
   "execution_count": null,
   "id": "d7329d1d",
   "metadata": {
    "tags": []
   },
   "outputs": [],
   "source": [
    "s.value = 2011"
   ]
  },
  {
   "cell_type": "code",
   "execution_count": null,
   "id": "c64deb1e",
   "metadata": {
    "tags": []
   },
   "outputs": [],
   "source": [
    "my_slider_1 = slider.slider(selectedvalue=50, \n",
    "                            minvalue=0, \n",
    "                            maxvalue=100, \n",
    "                            vertical=False,\n",
    "                            onchange=None, \n",
    "                            height=250, \n",
    "                            width=None, \n",
    "                            step=1.0\n",
    "                            )"
   ]
  },
  {
   "cell_type": "code",
   "execution_count": null,
   "id": "4d7d7816-d288-4f96-bb19-8ff8521371da",
   "metadata": {
    "tags": []
   },
   "outputs": [],
   "source": [
    "my_slider_1"
   ]
  },
  {
   "cell_type": "code",
   "execution_count": null,
   "id": "8d9b3ad5-7323-40ab-a7c7-1883ba425c77",
   "metadata": {
    "tags": []
   },
   "outputs": [],
   "source": [
    "edo = slider.slider(selectedvalue=44 + 1, \n",
    "                            minvalue=10, \n",
    "                            maxvalue=54 + 1, \n",
    "                            vertical=True,\n",
    "                            onchange=None, \n",
    "                            width=None, \n",
    "                            step=1.5,\n",
    "                    height=350, \n",
    "                            )\n",
    "edo"
   ]
  },
  {
   "cell_type": "code",
   "execution_count": null,
   "id": "ff375eda-5252-4ffa-acc3-4564b481ce17",
   "metadata": {},
   "outputs": [],
   "source": []
  }
 ],
 "metadata": {
  "kernelspec": {
   "display_name": "Python 3 (ipykernel)",
   "language": "python",
   "name": "python3"
  },
  "language_info": {
   "codemirror_mode": {
    "name": "ipython",
    "version": 3
   },
   "file_extension": ".py",
   "mimetype": "text/x-python",
   "name": "python",
   "nbconvert_exporter": "python",
   "pygments_lexer": "ipython3",
   "version": "3.11.9"
  }
 },
 "nbformat": 4,
 "nbformat_minor": 5
}
