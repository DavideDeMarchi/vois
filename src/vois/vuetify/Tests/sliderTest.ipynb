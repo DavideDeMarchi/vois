{
 "cells": [
  {
   "cell_type": "code",
   "execution_count": 1,
   "id": "8e0cc537-a439-4b7a-a5fa-d3d956253193",
   "metadata": {
    "tags": []
   },
   "outputs": [],
   "source": [
    "# To load local vois library with ignoring deprecation warnings\n",
    "%run ../../development/load_local_vois.py -w"
   ]
  },
  {
   "cell_type": "code",
   "execution_count": 2,
   "id": "d97bec69",
   "metadata": {
    "tags": []
   },
   "outputs": [
    {
     "data": {
      "application/vnd.jupyter.widget-view+json": {
       "model_id": "c293cc1dcc5945079723196b298796ed",
       "version_major": 2,
       "version_minor": 0
      },
      "text/plain": [
       "Output(layout=Layout(width='400px'))"
      ]
     },
     "metadata": {},
     "output_type": "display_data"
    }
   ],
   "source": [
    "from vois.vuetify import slider\n",
    "from ipywidgets import HTML, widgets, Layout\n",
    "output = widgets.Output(layout=Layout(width='400px'))\n",
    "display(output)\n",
    "\n",
    "def onchange(value):\n",
    "    with output:\n",
    "        print(value)\n",
    "    \n",
    "s = slider.slider(2015, 2010,2021, onchange=onchange, vertical=True, height=280, width=150)\n",
    "\n",
    "with output:\n",
    "    display(s.draw())"
   ]
  },
  {
   "cell_type": "code",
   "execution_count": 3,
   "id": "d7329d1d",
   "metadata": {
    "tags": []
   },
   "outputs": [],
   "source": [
    "s.value = 2011"
   ]
  },
  {
   "cell_type": "code",
   "execution_count": 4,
   "id": "c64deb1e",
   "metadata": {
    "tags": []
   },
   "outputs": [],
   "source": [
    "my_slider_1 = slider.slider(selectedvalue=50, \n",
    "                            minvalue=0, \n",
    "                            maxvalue=100, \n",
    "                            vertical=False,\n",
    "                            onchange=None, \n",
    "                            height=250, \n",
    "                            width=None, \n",
    "                            step=1.0\n",
    "                            )"
   ]
  },
  {
   "cell_type": "code",
   "execution_count": 5,
   "id": "4d7d7816-d288-4f96-bb19-8ff8521371da",
   "metadata": {
    "tags": []
   },
   "outputs": [
    {
     "data": {
      "application/vnd.jupyter.widget-view+json": {
       "model_id": "c1fb926308be466784357024808f401a",
       "version_major": 2,
       "version_minor": 0
      },
      "text/plain": [
       "slider(children=[Slider(class_='pa-0 ma-0 ml-5 mr-5 mt-n2 mb-n12', color='#f8bd1a', dense=True, height=250.0, …"
      ]
     },
     "execution_count": 5,
     "metadata": {},
     "output_type": "execute_result"
    }
   ],
   "source": [
    "my_slider_1.draw()"
   ]
  },
  {
   "cell_type": "code",
   "execution_count": 6,
   "id": "8d9b3ad5-7323-40ab-a7c7-1883ba425c77",
   "metadata": {},
   "outputs": [
    {
     "data": {
      "application/vnd.jupyter.widget-view+json": {
       "model_id": "7a2b70feca674be5beab212a3c802e2f",
       "version_major": 2,
       "version_minor": 0
      },
      "text/plain": [
       "slider(children=[Slider(class_='pa-0 ma-0 ml-n12 mr-n12 mt-n9 mb-n10', color='#f8bd1a', dense=True, height=350…"
      ]
     },
     "execution_count": 6,
     "metadata": {},
     "output_type": "execute_result"
    }
   ],
   "source": [
    "edo = slider.slider(selectedvalue=44 + 1, \n",
    "                            minvalue=10, \n",
    "                            maxvalue=54 + 1, \n",
    "                            vertical=True,\n",
    "                            onchange=None, \n",
    "                            width=None, \n",
    "                            step=1.5,\n",
    "                    height=350, \n",
    "                            )\n",
    "edo.draw()"
   ]
  }
 ],
 "metadata": {
  "kernelspec": {
   "display_name": "Python 3 (ipykernel)",
   "language": "python",
   "name": "python3"
  },
  "language_info": {
   "codemirror_mode": {
    "name": "ipython",
    "version": 3
   },
   "file_extension": ".py",
   "mimetype": "text/x-python",
   "name": "python",
   "nbconvert_exporter": "python",
   "pygments_lexer": "ipython3",
   "version": "3.12.3"
  }
 },
 "nbformat": 4,
 "nbformat_minor": 5
}
