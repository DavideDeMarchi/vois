{
 "cells": [
  {
   "cell_type": "code",
   "execution_count": 25,
   "id": "c7b28667-216b-420c-8eb7-a1374a39bdde",
   "metadata": {
    "tags": []
   },
   "outputs": [],
   "source": [
    "import sys\n",
    "sys.path.append('../../../')\n",
    "\n",
    "import warnings\n",
    "warnings.filterwarnings(\"ignore\", category=DeprecationWarning) "
   ]
  },
  {
   "cell_type": "code",
   "execution_count": 26,
   "id": "d363ca7f-8775-4926-a540-a46e05f8dcb5",
   "metadata": {
    "tags": []
   },
   "outputs": [],
   "source": [
    "from vois.vuetify import slider"
   ]
  },
  {
   "cell_type": "code",
   "execution_count": 27,
   "id": "d97bec69",
   "metadata": {
    "tags": []
   },
   "outputs": [
    {
     "data": {
      "application/vnd.jupyter.widget-view+json": {
       "model_id": "c124a8e55b954a18b679a92fd7d12b9d",
       "version_major": 2,
       "version_minor": 0
      },
      "text/plain": [
       "Output(layout=Layout(width='400px'))"
      ]
     },
     "metadata": {},
     "output_type": "display_data"
    }
   ],
   "source": [
    "from ipywidgets import HTML, widgets, Layout\n",
    "output = widgets.Output(layout=Layout(width='400px'))\n",
    "display(output)\n",
    "\n",
    "def onchange(value):\n",
    "    with output:\n",
    "        print(value)\n",
    "    \n",
    "s = slider.slider(2015, 2010,2021, onchange=onchange, vertical=True, height=280, width=150)\n",
    "\n",
    "with output:\n",
    "    display(s.draw())"
   ]
  },
  {
   "cell_type": "code",
   "execution_count": 28,
   "id": "d7329d1d",
   "metadata": {
    "tags": []
   },
   "outputs": [],
   "source": [
    "s.value = 2011"
   ]
  },
  {
   "cell_type": "code",
   "execution_count": 41,
   "id": "c64deb1e",
   "metadata": {
    "tags": []
   },
   "outputs": [],
   "source": [
    "my_slider_1 = slider.slider(selectedvalue=50, \n",
    "                            minvalue=0, \n",
    "                            maxvalue=100, \n",
    "                            vertical=False,\n",
    "                            onchange=None, \n",
    "                            height=250, \n",
    "                            width=None, \n",
    "                            step=1.0\n",
    "                            )"
   ]
  },
  {
   "cell_type": "code",
   "execution_count": 42,
   "id": "4d7d7816-d288-4f96-bb19-8ff8521371da",
   "metadata": {
    "tags": []
   },
   "outputs": [
    {
     "data": {
      "application/vnd.jupyter.widget-view+json": {
       "model_id": "2f306b3d46e143dfa33548cf187a03bc",
       "version_major": 2,
       "version_minor": 0
      },
      "text/plain": [
       "Html(children=[Slider(class_='pa-0 ma-0 ml-5 mr-5 mt-n2 mb-n12', color='#f8bd1a', dense=True, height=250.0, la…"
      ]
     },
     "execution_count": 42,
     "metadata": {},
     "output_type": "execute_result"
    }
   ],
   "source": [
    "my_slider_1.draw()"
   ]
  },
  {
   "cell_type": "code",
   "execution_count": 44,
   "id": "8d9b3ad5-7323-40ab-a7c7-1883ba425c77",
   "metadata": {},
   "outputs": [
    {
     "data": {
      "application/vnd.jupyter.widget-view+json": {
       "model_id": "34224b7b3e1742659084f95d5e66fe74",
       "version_major": 2,
       "version_minor": 0
      },
      "text/plain": [
       "Html(children=[Slider(class_='pa-0 ma-0 ml-n12 mr-n12 mt-n9 mb-n10', color='#f8bd1a', dense=True, height=350.0…"
      ]
     },
     "execution_count": 44,
     "metadata": {},
     "output_type": "execute_result"
    }
   ],
   "source": [
    "edo = slider.slider(selectedvalue=44 + 1, \n",
    "                            minvalue=10, \n",
    "                            maxvalue=54 + 1, \n",
    "                            vertical=True,\n",
    "                            onchange=None, \n",
    "                            width=None, \n",
    "                            step=1.5,\n",
    "                    height=350, \n",
    "                            )\n",
    "edo.draw()"
   ]
  },
  {
   "cell_type": "code",
   "execution_count": null,
   "id": "838a91b2-83cd-40b4-810d-e797a94c10d6",
   "metadata": {},
   "outputs": [],
   "source": []
  }
 ],
 "metadata": {
  "kernelspec": {
   "display_name": "Python 3 (ipykernel)",
   "language": "python",
   "name": "python3"
  },
  "language_info": {
   "codemirror_mode": {
    "name": "ipython",
    "version": 3
   },
   "file_extension": ".py",
   "mimetype": "text/x-python",
   "name": "python",
   "nbconvert_exporter": "python",
   "pygments_lexer": "ipython3",
   "version": "3.12.3"
  }
 },
 "nbformat": 4,
 "nbformat_minor": 5
}
