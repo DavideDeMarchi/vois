{
 "cells": [
  {
   "cell_type": "code",
   "execution_count": null,
   "id": "d9ef71fa-d664-4285-939b-5df2d9577c71",
   "metadata": {
    "tags": []
   },
   "outputs": [],
   "source": [
    "%run ../../development/load_local_vois.py -w"
   ]
  },
  {
   "cell_type": "code",
   "execution_count": null,
   "id": "4ef7ad46",
   "metadata": {
    "tags": []
   },
   "outputs": [],
   "source": [
    "from ipywidgets import widgets\n",
    "from IPython.display import display\n",
    "\n",
    "from vois.vuetify import DayCalendar\n",
    "\n",
    "out = widgets.Output()\n",
    "display(out)\n",
    "\n",
    "def on_click(day):\n",
    "    with out:\n",
    "        print('  Day: ',day)\n",
    "\n",
    "def on_click_event(day):\n",
    "    with out:\n",
    "        print('Event: ',day)\n",
    "        \n",
    "c = DayCalendar(start='2023-10-01', end='2023-10-31', days=['2023-10-10', '2023-10-10', '2023-10-20'], show_count=True, on_click=on_click, on_click_event=on_click_event)\n",
    "\n",
    "display(c)"
   ]
  },
  {
   "cell_type": "code",
   "execution_count": null,
   "id": "d8698ed6",
   "metadata": {
    "tags": []
   },
   "outputs": [],
   "source": [
    "from datetime import datetime, date\n",
    "import dateutil.relativedelta\n",
    "\n",
    "from vois.vuetify import DayCalendar\n",
    "\n",
    "output = widgets.Output()\n",
    "display(output)\n",
    "\n",
    "\n",
    "def on_click(day):\n",
    "    with output:\n",
    "        print('Clicked on ', day)\n",
    "        \n",
    "days = [\n",
    "     '2023-10-07',\n",
    "     '2023-10-07',\n",
    "     '2023-10-10',\n",
    "     '2023-10-10',\n",
    "     '2023-10-17',\n",
    "     '2023-10-27',\n",
    "     '2023-10-22',\n",
    "     '2023-10-22',\n",
    "     '2023-10-25',\n",
    "     '2023-11-04',\n",
    "     '2023-11-04'\n",
    "]\n",
    "\n",
    "start = '2023-10-07'\n",
    "end   = '2023-11-07'\n",
    "\n",
    "c = DayCalendar(start=start, end=end, days=days, show_count=True, on_click=on_click)\n",
    "display(c)"
   ]
  },
  {
   "cell_type": "code",
   "execution_count": null,
   "id": "f777c176",
   "metadata": {
    "tags": []
   },
   "outputs": [],
   "source": [
    "c.color = 'blue'"
   ]
  },
  {
   "cell_type": "code",
   "execution_count": null,
   "id": "fcdb9715",
   "metadata": {
    "tags": []
   },
   "outputs": [],
   "source": [
    "c.color "
   ]
  },
  {
   "cell_type": "code",
   "execution_count": null,
   "id": "211dc7ec",
   "metadata": {
    "tags": []
   },
   "outputs": [],
   "source": [
    "c.days = ['2023-10-02', '2023-10-09', '2023-10-18']"
   ]
  },
  {
   "cell_type": "code",
   "execution_count": null,
   "id": "a6c0ffaa",
   "metadata": {
    "tags": []
   },
   "outputs": [],
   "source": [
    "c.days"
   ]
  },
  {
   "cell_type": "code",
   "execution_count": null,
   "id": "0c382480-51dc-4486-85a1-0294964041c5",
   "metadata": {},
   "outputs": [],
   "source": []
  }
 ],
 "metadata": {
  "kernelspec": {
   "display_name": "Python 3 (ipykernel)",
   "language": "python",
   "name": "python3"
  },
  "language_info": {
   "codemirror_mode": {
    "name": "ipython",
    "version": 3
   },
   "file_extension": ".py",
   "mimetype": "text/x-python",
   "name": "python",
   "nbconvert_exporter": "python",
   "pygments_lexer": "ipython3",
   "version": "3.12.3"
  }
 },
 "nbformat": 4,
 "nbformat_minor": 5
}
