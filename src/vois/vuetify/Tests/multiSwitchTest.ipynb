{
 "cells": [
  {
   "cell_type": "code",
   "execution_count": null,
   "id": "a39138aa-b9f1-4124-bd21-4582f0009c4a",
   "metadata": {
    "tags": []
   },
   "outputs": [],
   "source": [
    "%run ../../development/load_local_vois.py -w"
   ]
  },
  {
   "cell_type": "code",
   "execution_count": null,
   "id": "37a92a5f",
   "metadata": {
    "tags": []
   },
   "outputs": [],
   "source": [
    "from vois.vuetify import MultiSwitch\n",
    "\n",
    "import ipyvuetify as v\n",
    "\n",
    "from ipywidgets import widgets\n",
    "output = widgets.Output()\n",
    "\n",
    "def onchange(value):\n",
    "    with output:\n",
    "        print(value)\n",
    "\n",
    "\n",
    "t = MultiSwitch([True, True, False], ['Title', 'Abstract', 'Keywords'], manage_dbl_click=True,\n",
    "                tooltips=['Activate the search on paper title','Activate the search on paper abstract','Activate the search on paper keywords'], \n",
    "                on_change=onchange, row=True, width=90, justify='start', rounded=False, outlined=True,\n",
    "                color_selected='#FFA300', color_unselected='#aaaaaa')\n",
    "\n",
    "display(widgets.HBox([v.Html(tag='div', children=['Search in:'], class_='pa-0 ma-0 mt-2 mr-2'),t.draw()]))\n",
    "display(output)"
   ]
  },
  {
   "cell_type": "code",
   "execution_count": null,
   "id": "12b42f71",
   "metadata": {
    "tags": []
   },
   "outputs": [],
   "source": [
    "# Example with minimal size buttons\n",
    "from vois.vuetify import MultiSwitch\n",
    "\n",
    "from ipywidgets import widgets\n",
    "output = widgets.Output()\n",
    "\n",
    "def onchange(value):\n",
    "    with output:\n",
    "        print(value)\n",
    "\n",
    "\n",
    "t = MultiSwitch([True, True, False], ['TI', 'AB', 'KW'], managedblclick=True,\n",
    "                tooltips=['Activate the search on paper title','Activate the search on paper abstract','Activate the search on paper keywords'], \n",
    "                on_change=onchange, row=True, width=10, height=18, justify='start', ounded=False, outlined=True,\n",
    "                color_selected='#FFA300', color_unselected='#aaaaaa', padding_row=1, padding_col=0, tile=False, x_small=True)\n",
    "\n",
    "display(widgets.HBox([v.Html(tag='div', children=['Search in:'], class_='pa-0 ma-0 mr-2'),t.draw()]))\n",
    "display(output)"
   ]
  },
  {
   "cell_type": "code",
   "execution_count": null,
   "id": "14f5a88e",
   "metadata": {
    "tags": []
   },
   "outputs": [],
   "source": [
    "t.value"
   ]
  },
  {
   "cell_type": "code",
   "execution_count": null,
   "id": "840094f3",
   "metadata": {},
   "outputs": [],
   "source": []
  }
 ],
 "metadata": {
  "kernelspec": {
   "display_name": "Python 3 (ipykernel)",
   "language": "python",
   "name": "python3"
  },
  "language_info": {
   "codemirror_mode": {
    "name": "ipython",
    "version": 3
   },
   "file_extension": ".py",
   "mimetype": "text/x-python",
   "name": "python",
   "nbconvert_exporter": "python",
   "pygments_lexer": "ipython3",
   "version": "3.12.3"
  }
 },
 "nbformat": 4,
 "nbformat_minor": 5
}
