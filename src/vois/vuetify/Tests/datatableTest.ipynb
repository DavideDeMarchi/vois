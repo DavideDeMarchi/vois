{
 "cells": [
  {
   "cell_type": "code",
   "execution_count": 2,
   "id": "9ac6cea2-4314-421f-96fb-71fd83c9162c",
   "metadata": {
    "tags": []
   },
   "outputs": [],
   "source": [
    "# To load local vois library with ignore on deprecation warnings\n",
    "%run ../../development/load_local_vois.py -w"
   ]
  },
  {
   "cell_type": "code",
   "execution_count": 3,
   "id": "066eba1e",
   "metadata": {
    "tags": []
   },
   "outputs": [],
   "source": [
    "import pandas as pd"
   ]
  },
  {
   "cell_type": "code",
   "execution_count": 4,
   "id": "1d330eef",
   "metadata": {
    "tags": []
   },
   "outputs": [],
   "source": [
    "df = pd.read_csv('https://raw.githubusercontent.com/owid/covid-19-data/master/public/data/owid-covid-data.csv')\n",
    "#df"
   ]
  },
  {
   "cell_type": "code",
   "execution_count": 5,
   "id": "364ca7d1",
   "metadata": {
    "tags": []
   },
   "outputs": [
    {
     "data": {
      "application/vnd.jupyter.widget-view+json": {
       "model_id": "0bee575962eb4d9288ecc8d5ca4bf345",
       "version_major": 2,
       "version_minor": 0
      },
      "text/plain": [
       "datatable(color='green', dark=True, events=['cell_click', 'onicon'], font_size='12px', font_size_title='18px',…"
      ]
     },
     "execution_count": 5,
     "metadata": {},
     "output_type": "execute_result"
    }
   ],
   "source": [
    "from vois.vuetify import datatable\n",
    "\n",
    "def on_click(data):\n",
    "    print(data)\n",
    "\n",
    "def on_icon():\n",
    "    print('Clicked the icon!')\n",
    "\n",
    "# Display last 100 days for a country\n",
    "df = df[df['location']=='Italy']\n",
    "d = datatable.datatable(data=df.tail(100), height='500px', on_click=on_click, color='green', dark=True,\n",
    "              title='Covid-19 data for Italy', searchshow=True, search='123',\n",
    "              icon='mdi-arrow-expand-all', icon_tooltip='Expand the table', icon_color='#005500', on_icon=on_icon,\n",
    "              font_size='12px', font_size_title='18px', unsortable_columns=['index','iso_code'])\n",
    "d"
   ]
  },
  {
   "cell_type": "code",
   "execution_count": 6,
   "id": "469ced00",
   "metadata": {
    "tags": []
   },
   "outputs": [],
   "source": [
    "d.icon_disabled = False"
   ]
  },
  {
   "cell_type": "code",
   "execution_count": 7,
   "id": "a7517300",
   "metadata": {
    "tags": []
   },
   "outputs": [
    {
     "data": {
      "application/vnd.jupyter.widget-view+json": {
       "model_id": "26bc2e1b82ad42498eb45bc101d35e02",
       "version_major": 2,
       "version_minor": 0
      },
      "text/plain": [
       "datatable(color='green', dark=True, events=['cell_click', 'onicon'], font_size='12px', font_size_title='18px',…"
      ]
     },
     "execution_count": 7,
     "metadata": {},
     "output_type": "execute_result"
    }
   ],
   "source": [
    "\n",
    "import pandas as pd\n",
    "import numpy as np\n",
    "df = pd.DataFrame(np.random.random((5,20)))\n",
    "df.columns = ['C%d'%x for x in df.columns]\n",
    "d = datatable.datatable(data=df, height='200px', color='green', dark=True,\n",
    "              title='Randon numeric data', font_size='12px', font_size_title='18px', )\n",
    "d"
   ]
  },
  {
   "cell_type": "code",
   "execution_count": null,
   "id": "43ad117d",
   "metadata": {},
   "outputs": [],
   "source": []
  }
 ],
 "metadata": {
  "kernelspec": {
   "display_name": "Python 3 (ipykernel)",
   "language": "python",
   "name": "python3"
  },
  "language_info": {
   "codemirror_mode": {
    "name": "ipython",
    "version": 3
   },
   "file_extension": ".py",
   "mimetype": "text/x-python",
   "name": "python",
   "nbconvert_exporter": "python",
   "pygments_lexer": "ipython3",
   "version": "3.12.3"
  }
 },
 "nbformat": 4,
 "nbformat_minor": 5
}
