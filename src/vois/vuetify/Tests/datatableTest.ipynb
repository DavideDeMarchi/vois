{
 "cells": [
  {
   "cell_type": "code",
   "execution_count": 1,
   "id": "066eba1e",
   "metadata": {},
   "outputs": [],
   "source": [
    "import pandas as pd"
   ]
  },
  {
   "cell_type": "code",
   "execution_count": 2,
   "id": "1d330eef",
   "metadata": {},
   "outputs": [
    {
     "name": "stderr",
     "output_type": "stream",
     "text": [
      "/opt/venv/lib/python3.7/site-packages/IPython/core/interactiveshell.py:3258: DtypeWarning: Columns (33) have mixed types.Specify dtype option on import or set low_memory=False.\n",
      "  interactivity=interactivity, compiler=compiler, result=result)\n"
     ]
    }
   ],
   "source": [
    "df = pd.read_csv('https://raw.githubusercontent.com/owid/covid-19-data/master/public/data/owid-covid-data.csv')\n",
    "#df"
   ]
  },
  {
   "cell_type": "code",
   "execution_count": 5,
   "id": "364ca7d1",
   "metadata": {},
   "outputs": [
    {
     "data": {
      "application/vnd.jupyter.widget-view+json": {
       "model_id": "db8da9ff394540b08c58eef24db8d1d0",
       "version_major": 2,
       "version_minor": 0
      },
      "text/plain": [
       "datatable(color='green', dark=True, events=['cell_click', 'onicon'], font_size='12px', font_size_title='18px',…"
      ]
     },
     "metadata": {},
     "output_type": "display_data"
    }
   ],
   "source": [
    "%run datatable.py\n",
    "\n",
    "def on_click(data):\n",
    "    print(data)\n",
    "\n",
    "def on_icon():\n",
    "    print('Clicked the icon!')\n",
    "\n",
    "# Display last 100 days for a country\n",
    "df = df[df['location']=='Italy']\n",
    "d = datatable(data=df.tail(100), height='500px', on_click=on_click, color='green', dark=True,\n",
    "              title='Covid-19 data for Italy', searchshow=True, search='123',\n",
    "              icon='mdi-arrow-expand-all', icon_tooltip='Expand the table', icon_color='#005500', on_icon=on_icon,\n",
    "              font_size='12px', font_size_title='18px', unsortable_columns=['index','iso_code'])\n",
    "d"
   ]
  },
  {
   "cell_type": "code",
   "execution_count": null,
   "id": "469ced00",
   "metadata": {},
   "outputs": [],
   "source": [
    "d.icon_disabled = False"
   ]
  },
  {
   "cell_type": "code",
   "execution_count": null,
   "id": "a7517300",
   "metadata": {},
   "outputs": [],
   "source": [
    "%run datatable.py\n",
    "\n",
    "import pandas as pd\n",
    "import numpy as np\n",
    "df = pd.DataFrame(np.random.random((5,20)))\n",
    "df.columns = ['C%d'%x for x in df.columns]\n",
    "d = datatable(data=df, height='200px', color='green', dark=True,\n",
    "              title='Randon numeric data', font_size='12px', font_size_title='18px', )\n",
    "d"
   ]
  },
  {
   "cell_type": "code",
   "execution_count": null,
   "id": "43ad117d",
   "metadata": {},
   "outputs": [],
   "source": []
  }
 ],
 "metadata": {
  "kernelspec": {
   "display_name": "Python 3 (ipykernel)",
   "language": "python",
   "name": "python3"
  },
  "language_info": {
   "codemirror_mode": {
    "name": "ipython",
    "version": 3
   },
   "file_extension": ".py",
   "mimetype": "text/x-python",
   "name": "python",
   "nbconvert_exporter": "python",
   "pygments_lexer": "ipython3",
   "version": "3.7.13"
  }
 },
 "nbformat": 4,
 "nbformat_minor": 5
}
