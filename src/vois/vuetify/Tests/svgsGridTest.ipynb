{
 "cells": [
  {
   "cell_type": "code",
   "execution_count": 3,
   "id": "d15882ab",
   "metadata": {},
   "outputs": [
    {
     "data": {
      "application/vnd.jupyter.widget-view+json": {
       "model_id": "769a5618c3984a68b69a2ffee636e8c2",
       "version_major": 2,
       "version_minor": 0
      },
      "text/plain": [
       "svgsGrid(cols=1, events=['clicked'], height='120px', ripple=True, svgitems=[{'svg': '<img src=\"data:image/svg+…"
      ]
     },
     "metadata": {},
     "output_type": "display_data"
    },
    {
     "data": {
      "application/vnd.jupyter.widget-view+json": {
       "model_id": "f990191286784c70b4711fdd2a6e0214",
       "version_major": 2,
       "version_minor": 0
      },
      "text/plain": [
       "Output()"
      ]
     },
     "metadata": {},
     "output_type": "display_data"
    }
   ],
   "source": [
    "import glob\n",
    "import ipyvuetify as v\n",
    "\n",
    "%run svgsGrid.py\n",
    "\n",
    "from ipywidgets import widgets\n",
    "from IPython.display import display\n",
    "\n",
    "output = widgets.Output()\n",
    "\n",
    "def on_click(index):\n",
    "    with output:\n",
    "        print(index)\n",
    "\n",
    "# Make sure to list some existing SVG files...\n",
    "files = glob.glob(\"/eos/jeodpp/data/projects/JEODPP/view/mapnik/material-design-icons/svg/outlined/b*\")\n",
    "filepaths = sorted(files)\n",
    "\n",
    "svgsize = 80\n",
    "height  = '%dpx'%(svgsize + 40)\n",
    "g = svgsGrid(filepaths=filepaths, cols=1, svgsize=svgsize, height=height, ripple=True, on_click=on_click)\n",
    "\n",
    "display(g)\n",
    "display(output)"
   ]
  },
  {
   "cell_type": "code",
   "execution_count": null,
   "id": "15ea991e",
   "metadata": {},
   "outputs": [],
   "source": []
  }
 ],
 "metadata": {
  "kernelspec": {
   "display_name": "Python 3 (ipykernel)",
   "language": "python",
   "name": "python3"
  },
  "language_info": {
   "codemirror_mode": {
    "name": "ipython",
    "version": 3
   },
   "file_extension": ".py",
   "mimetype": "text/x-python",
   "name": "python",
   "nbconvert_exporter": "python",
   "pygments_lexer": "ipython3",
   "version": "3.7.13"
  }
 },
 "nbformat": 4,
 "nbformat_minor": 5
}
