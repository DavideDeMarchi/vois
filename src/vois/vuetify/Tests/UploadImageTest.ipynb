{
 "cells": [
  {
   "cell_type": "code",
   "execution_count": 2,
   "id": "f1f472ef",
   "metadata": {},
   "outputs": [
    {
     "data": {
      "application/vnd.jupyter.widget-view+json": {
       "model_id": "1b046d11e0a64c2d9bbcaa044068ff5f",
       "version_major": 2,
       "version_minor": 0
      },
      "text/plain": [
       "Output(layout=Layout(height='0px', width='0px'))"
      ]
     },
     "metadata": {},
     "output_type": "display_data"
    },
    {
     "data": {
      "application/vnd.jupyter.widget-view+json": {
       "model_id": "ae042061e6384acc9d36118510415079",
       "version_major": 2,
       "version_minor": 0
      },
      "text/plain": [
       "Output()"
      ]
     },
     "metadata": {},
     "output_type": "display_data"
    }
   ],
   "source": [
    "%run ../../development/load_local_vois.py -w\n",
    "\n",
    "from ipywidgets import widgets, Layout\n",
    "\n",
    "output = widgets.Output(layout=Layout(width='0px', height='0px'))\n",
    "display(output)\n",
    "\n",
    "debug = widgets.Output()\n",
    "\n",
    "%run ../UploadImage.py\n",
    "\n",
    "def onSelectedImage(imageurl):\n",
    "    debug.clear_output()\n",
    "    with debug:\n",
    "        display(v.Img(class_='pa-0 ma-0 mr-2', src=imageurl))\n",
    "\n",
    "d = UploadImage(output, onOK=onSelectedImage)\n",
    "d.show()\n",
    "\n",
    "display(debug)"
   ]
  },
  {
   "cell_type": "code",
   "execution_count": null,
   "id": "5dd81bc6",
   "metadata": {},
   "outputs": [],
   "source": []
  }
 ],
 "metadata": {
  "kernelspec": {
   "display_name": "Python 3 (ipykernel)",
   "language": "python",
   "name": "python3"
  },
  "language_info": {
   "codemirror_mode": {
    "name": "ipython",
    "version": 3
   },
   "file_extension": ".py",
   "mimetype": "text/x-python",
   "name": "python",
   "nbconvert_exporter": "python",
   "pygments_lexer": "ipython3",
   "version": "3.11.9"
  }
 },
 "nbformat": 4,
 "nbformat_minor": 5
}
