{
 "cells": [
  {
   "cell_type": "code",
   "execution_count": 1,
   "id": "68885700",
   "metadata": {
    "tags": []
   },
   "outputs": [
    {
     "data": {
      "application/vnd.jupyter.widget-view+json": {
       "model_id": "ba21f7b0dcce463d8a30c0f924655745",
       "version_major": 2,
       "version_minor": 0
      },
      "text/plain": [
       "Html(children=[Item(children=[Tooltip(bottom=True, children=['Test string for tooltip'], color='#999999', layo…"
      ]
     },
     "execution_count": 1,
     "metadata": {},
     "output_type": "execute_result"
    }
   ],
   "source": [
    "%run ../iconButton.py\n",
    "\n",
    "def onclick():\n",
    "    if b.color == 'red':\n",
    "        b.color = 'amber'\n",
    "        b.tooltip = 'Make the icon red'\n",
    "    else:\n",
    "        b.color = 'red'\n",
    "        b.tooltip = 'Make the icon yellow'\n",
    "\n",
    "b = iconButton(onclick=onclick, tooltip='Test string for tooltip', outlined=True, rounded=True, small=False) #, width=80)\n",
    "b.draw()"
   ]
  },
  {
   "cell_type": "code",
   "execution_count": 2,
   "id": "4ee8ce35",
   "metadata": {
    "tags": []
   },
   "outputs": [],
   "source": [
    "b.disabled = True"
   ]
  },
  {
   "cell_type": "code",
   "execution_count": null,
   "id": "d261cbd8",
   "metadata": {},
   "outputs": [],
   "source": []
  }
 ],
 "metadata": {
  "kernelspec": {
   "display_name": "Python 3 (ipykernel)",
   "language": "python",
   "name": "python3"
  },
  "language_info": {
   "codemirror_mode": {
    "name": "ipython",
    "version": 3
   },
   "file_extension": ".py",
   "mimetype": "text/x-python",
   "name": "python",
   "nbconvert_exporter": "python",
   "pygments_lexer": "ipython3",
   "version": "3.11.9"
  }
 },
 "nbformat": 4,
 "nbformat_minor": 5
}
