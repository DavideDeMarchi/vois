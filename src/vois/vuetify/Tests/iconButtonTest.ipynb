{
 "cells": [
  {
   "cell_type": "code",
   "execution_count": null,
   "id": "68885700",
   "metadata": {
    "tags": []
   },
   "outputs": [],
   "source": [
    "%run ../iconButton.py\n",
    "\n",
    "def onclick():\n",
    "    if b.color == 'red':\n",
    "        b.color = 'amber'\n",
    "        b.tooltip = 'Make the icon red'\n",
    "        b.icon = 'mdi-pause'\n",
    "    else:\n",
    "        b.color = 'red'\n",
    "        b.tooltip = 'Make the icon yellow'\n",
    "        b.icon = 'mdi-pause'\n",
    "\n",
    "b = iconButton(icon='mdi-play', onclick=onclick, tooltip='Test string for tooltip', outlined=True, rounded=True, small=False) #, width=80)\n",
    "b.draw()"
   ]
  },
  {
   "cell_type": "code",
   "execution_count": null,
   "id": "4ee8ce35",
   "metadata": {
    "tags": []
   },
   "outputs": [],
   "source": [
    "b.disabled = True"
   ]
  },
  {
   "cell_type": "code",
   "execution_count": null,
   "id": "d261cbd8",
   "metadata": {},
   "outputs": [],
   "source": [
    "b.icon = 'mdi-alert'"
   ]
  },
  {
   "cell_type": "code",
   "execution_count": null,
   "id": "da90e410-8717-4cd4-8b38-abf6278275c9",
   "metadata": {},
   "outputs": [],
   "source": []
  }
 ],
 "metadata": {
  "kernelspec": {
   "display_name": "Python 3 (ipykernel)",
   "language": "python",
   "name": "python3"
  },
  "language_info": {
   "codemirror_mode": {
    "name": "ipython",
    "version": 3
   },
   "file_extension": ".py",
   "mimetype": "text/x-python",
   "name": "python",
   "nbconvert_exporter": "python",
   "pygments_lexer": "ipython3",
   "version": "3.11.9"
  }
 },
 "nbformat": 4,
 "nbformat_minor": 5
}
