{
 "cells": [
  {
   "cell_type": "code",
   "execution_count": null,
   "id": "9718c8ea",
   "metadata": {},
   "outputs": [],
   "source": [
    "%run ../../development/load_local_vois.py -w\n",
    "\n",
    "from ipywidgets import widgets, Layout\n",
    "\n",
    "output = widgets.Output(layout=Layout(width='0px', height='0px'))\n",
    "display(output)\n",
    "\n",
    "debug = widgets.Output()\n",
    "\n",
    "%run ../UploadJson.py\n",
    "\n",
    "def onSelectedJson(jsonitem):\n",
    "    debug.clear_output()\n",
    "    with debug:\n",
    "        print(jsonitem['appname'])\n",
    "        print(jsonitem['title'])\n",
    "\n",
    "d = UploadJson(output, onOK=onSelectedJson, required_attributes=['appname', 'title'], attributes_width=80)\n",
    "d.show()\n",
    "\n",
    "display(debug)"
   ]
  },
  {
   "cell_type": "code",
   "execution_count": null,
   "id": "3f0b966f",
   "metadata": {},
   "outputs": [],
   "source": []
  }
 ],
 "metadata": {
  "kernelspec": {
   "display_name": "Python [interapro_env]",
   "language": "python",
   "name": "conda-env-interapro_env-py"
  },
  "language_info": {
   "codemirror_mode": {
    "name": "ipython",
    "version": 3
   },
   "file_extension": ".py",
   "mimetype": "text/x-python",
   "name": "python",
   "nbconvert_exporter": "python",
   "pygments_lexer": "ipython3",
   "version": "3.11.6"
  }
 },
 "nbformat": 4,
 "nbformat_minor": 5
}
