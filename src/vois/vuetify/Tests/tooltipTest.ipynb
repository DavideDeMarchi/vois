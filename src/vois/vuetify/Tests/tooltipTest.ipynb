{
 "cells": [
  {
   "cell_type": "code",
   "execution_count": 1,
   "id": "5fe24cb9",
   "metadata": {},
   "outputs": [
    {
     "data": {
      "application/vnd.jupyter.widget-view+json": {
       "model_id": "d6c046b6cf7d40a99dff354d5fcf4a9e",
       "version_major": 2,
       "version_minor": 0
      },
      "text/plain": [
       "RadioGroup(children=[Item(children=[Tooltip(bottom=True, children=['Filter the events on priorities'], color='…"
      ]
     },
     "metadata": {},
     "output_type": "display_data"
    }
   ],
   "source": [
    "%run tooltip.py\n",
    "\n",
    "def on_radio_change(widget, event, data):\n",
    "    print(data)\n",
    "\n",
    "r1 = v.Radio(label=\"Priority\",                    class_=\"pa-0 ma-0 ml-2 mt-3 mr-6 mb-n3\", color=settings.color_first)\n",
    "r2 = v.Radio(label=\"Policy\",                      class_=\"pa-0 ma-0      mt-3 mr-9 mb-n3\", color=settings.color_first)\n",
    "r3 = v.Radio(label=\"very long long Long label\",   class_=\"pa-0 ma-0      mt-3 mr-9 mb-n3\", color=settings.color_first)\n",
    "r4 = v.Radio(label=\"Label4 is a very long label\", class_=\"pa-0 ma-0      mt-3 mr-9 mb-n3\", color=settings.color_first)\n",
    "r5 = v.Radio(label=\"Label5 is a very long label\", class_=\"pa-0 ma-0      mt-3 mr-9 mb-n3\", color=settings.color_first)\n",
    "\n",
    "r1 = tooltip(\"Filter the events on priorities\", r1)\n",
    "r2 = tooltip(\"Filter the events on EU policies\",r2)\n",
    "r3 = tooltip(\"\",r3)\n",
    "\n",
    "rg = v.RadioGroup(v_model=0, row=True, class_=\"pa-0 ma-0\", large=True, color=settings.color_first, children=[r1,r2,r3,r4,r5], style_=\"overflow: hidden;\")\n",
    "rg.on_event('change', on_radio_change)\n",
    "rg"
   ]
  },
  {
   "cell_type": "code",
   "execution_count": null,
   "id": "863f3e3e",
   "metadata": {},
   "outputs": [],
   "source": []
  }
 ],
 "metadata": {
  "kernelspec": {
   "display_name": "Python 3 (ipykernel)",
   "language": "python",
   "name": "python3"
  },
  "language_info": {
   "codemirror_mode": {
    "name": "ipython",
    "version": 3
   },
   "file_extension": ".py",
   "mimetype": "text/x-python",
   "name": "python",
   "nbconvert_exporter": "python",
   "pygments_lexer": "ipython3",
   "version": "3.7.13"
  }
 },
 "nbformat": 4,
 "nbformat_minor": 5
}
