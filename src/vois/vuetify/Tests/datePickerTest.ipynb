{
 "cells": [
  {
   "cell_type": "code",
   "execution_count": 1,
   "id": "7986daf8-5177-42c7-a31d-0cf02e9fb107",
   "metadata": {
    "tags": []
   },
   "outputs": [],
   "source": [
    "# To load local vois library with ignore on deprecation warnings\n",
    "%run ../../development/load_local_vois.py -w"
   ]
  },
  {
   "cell_type": "code",
   "execution_count": 2,
   "id": "e24938ca",
   "metadata": {
    "tags": []
   },
   "outputs": [
    {
     "data": {
      "application/vnd.jupyter.widget-view+json": {
       "model_id": "0bd107e1046546f6bfd95224fa9b3349",
       "version_major": 2,
       "version_minor": 0
      },
      "text/plain": [
       "datePicker(children=[DatePicker(color='#f8bd1a', dark=False, header_color='#f8bd1a', layout=None, max='2024-08…"
      ]
     },
     "metadata": {},
     "output_type": "display_data"
    },
    {
     "data": {
      "application/vnd.jupyter.widget-view+json": {
       "model_id": "6e8bdf107d474578897f3ab6046673ff",
       "version_major": 2,
       "version_minor": 0
      },
      "text/plain": [
       "Output()"
      ]
     },
     "metadata": {},
     "output_type": "display_data"
    }
   ],
   "source": [
    "from vois.vuetify import datePicker\n",
    "\n",
    "from ipywidgets import widgets\n",
    "from IPython.display import display\n",
    "from datetime import datetime, timedelta\n",
    "\n",
    "output = widgets.Output()\n",
    "\n",
    "def onchange():\n",
    "    with output:\n",
    "        print('Changed to', d.date)\n",
    "        \n",
    "maxdate = datetime.today()\n",
    "mindate = maxdate - timedelta(days=10)\n",
    "\n",
    "d = datePicker.datePicker(date=None, label='Start date', \n",
    "                           offset_x=True, offset_y=False,\n",
    "                           onchange=onchange, disabled=False,\n",
    "                           maxdate=maxdate.strftime('%Y-%m-%d'),\n",
    "                           mindate=mindate.strftime('%Y-%m-%d'))\n",
    "\n",
    "display(d.draw())\n",
    "display(output)"
   ]
  },
  {
   "cell_type": "code",
   "execution_count": 3,
   "id": "bbbc4588",
   "metadata": {
    "tags": []
   },
   "outputs": [],
   "source": [
    "d.date = '2021-12-11'"
   ]
  },
  {
   "cell_type": "code",
   "execution_count": 4,
   "id": "98dbb85c",
   "metadata": {
    "tags": []
   },
   "outputs": [],
   "source": [
    "d.disabled = True"
   ]
  },
  {
   "cell_type": "code",
   "execution_count": 5,
   "id": "65dc9682",
   "metadata": {
    "tags": []
   },
   "outputs": [],
   "source": [
    "d.disabled = False"
   ]
  },
  {
   "cell_type": "code",
   "execution_count": null,
   "id": "a87a6ef1",
   "metadata": {},
   "outputs": [],
   "source": []
  }
 ],
 "metadata": {
  "kernelspec": {
   "display_name": "Python 3 (ipykernel)",
   "language": "python",
   "name": "python3"
  },
  "language_info": {
   "codemirror_mode": {
    "name": "ipython",
    "version": 3
   },
   "file_extension": ".py",
   "mimetype": "text/x-python",
   "name": "python",
   "nbconvert_exporter": "python",
   "pygments_lexer": "ipython3",
   "version": "3.12.3"
  }
 },
 "nbformat": 4,
 "nbformat_minor": 5
}
