{
 "cells": [
  {
   "cell_type": "code",
   "execution_count": 2,
   "id": "96b0027b",
   "metadata": {
    "tags": []
   },
   "outputs": [
    {
     "data": {
      "application/vnd.jupyter.widget-view+json": {
       "model_id": "73f61cf797f64743a08e7d0c890678a8",
       "version_major": 2,
       "version_minor": 0
      },
      "text/plain": [
       "selectImage(events=['input'], images=[{'name': 'Image 0', 'image': 'https://cdn.vuetifyjs.com/images/cards/pla…"
      ]
     },
     "metadata": {},
     "output_type": "display_data"
    },
    {
     "data": {
      "application/vnd.jupyter.widget-view+json": {
       "model_id": "e3472195f3714b5b946129359d5cbeee",
       "version_major": 2,
       "version_minor": 0
      },
      "text/plain": [
       "Output()"
      ]
     },
     "metadata": {},
     "output_type": "display_data"
    }
   ],
   "source": [
    "import ipyvuetify as v\n",
    "\n",
    "%run ../selectImage.py\n",
    "\n",
    "from ipywidgets import widgets\n",
    "from IPython.display import display\n",
    "\n",
    "output = widgets.Output()\n",
    "\n",
    "def onchange():\n",
    "    with output:\n",
    "        print(s.value)\n",
    "\n",
    "        \n",
    "images = [\n",
    "      { \"name\": 'Image 0', \"image\": 'https://cdn.vuetifyjs.com/images/cards/plane.jpg',  \"max_width\": 200,  \"max_height\": 44 },\n",
    "      { \"name\": 'Image 1', \"image\": 'https://cdn.vuetifyjs.com/images/cards/house.jpg'},\n",
    "      { \"name\": 'Image 2', \"image\": 'https://cdn.vuetifyjs.com/images/cards/road.jpg'},\n",
    "      { \"name\": 'Image 3', \"image\": 'https://cdn.vuetifyjs.com/images/cards/sunshine.jpg'}\n",
    "]\n",
    "\n",
    "s = selectImage(images=images, selection=1, onchange=onchange, \n",
    "                label='Please select an image from the list', \n",
    "                max_height=44, dense=True, width=\"450px\",\n",
    "                outlined=True, clearable=True, margins=\"ma-0 mt-2 mr-1\")\n",
    "\n",
    "display(s)\n",
    "display(output)"
   ]
  },
  {
   "cell_type": "code",
   "execution_count": 5,
   "id": "dc084cf4-6671-450d-b302-be334ac2b20a",
   "metadata": {
    "tags": []
   },
   "outputs": [
    {
     "data": {
      "application/vnd.jupyter.widget-view+json": {
       "model_id": "8663bd49f47843afa1649890ba16f917",
       "version_major": 2,
       "version_minor": 0
      },
      "text/plain": [
       "selectImage(events=['input'], images=[{'name': 'Image 0', 'image': 'https://jeodpp.jrc.ec.europa.eu/services/s…"
      ]
     },
     "metadata": {},
     "output_type": "display_data"
    },
    {
     "data": {
      "application/vnd.jupyter.widget-view+json": {
       "model_id": "c580001b59ea4a65b9c853ce0b7785bb",
       "version_major": 2,
       "version_minor": 0
      },
      "text/plain": [
       "Output()"
      ]
     },
     "metadata": {},
     "output_type": "display_data"
    }
   ],
   "source": [
    "import ipyvuetify as v\n",
    "\n",
    "%run ../selectImage.py\n",
    "\n",
    "from ipywidgets import widgets\n",
    "from IPython.display import display\n",
    "\n",
    "output = widgets.Output()\n",
    "\n",
    "def onchange():\n",
    "    with output:\n",
    "        print(s.value)\n",
    "\n",
    "        \n",
    "images = [{ \"name\": 'Image %d'%x, \"image\": 'https://jeodpp.jrc.ec.europa.eu/services/shared/wallpapers/%d.jpg'%x,  \"max_width\": 200,  \"max_height\": 150 } for x in range(61)]\n",
    "\n",
    "s = selectImage(images=images, selection=0, onchange=onchange, \n",
    "                label='Please select an image from the list', \n",
    "                max_height=44, dense=True, width=\"450px\",\n",
    "                outlined=True, clearable=True, margins=\"ma-0 mt-2 mr-1\")\n",
    "\n",
    "display(s)\n",
    "display(output)"
   ]
  },
  {
   "cell_type": "code",
   "execution_count": null,
   "id": "08106101",
   "metadata": {},
   "outputs": [],
   "source": [
    "s.value = 3"
   ]
  },
  {
   "cell_type": "code",
   "execution_count": 2,
   "id": "5142a281",
   "metadata": {},
   "outputs": [],
   "source": [
    "images = [\n",
    "      { \"name\": 'Image 0',  \"image\": 'https://picsum.photos/id/237/400/300' },\n",
    "      { \"name\": 'Image 1',  \"image\": 'https://picsum.photos/id/238/400/300' },\n",
    "      { \"name\": 'Image 2',  \"image\": 'https://picsum.photos/id/239/400/300' },\n",
    "      { \"name\": 'Image 3',  \"image\": 'https://picsum.photos/id/240/400/300' },\n",
    "      { \"name\": 'Image 4',  \"image\": 'https://picsum.photos/id/241/400/300' },\n",
    "      { \"name\": 'Image 5',  \"image\": 'https://picsum.photos/id/242/400/300' },\n",
    "      { \"name\": 'Image 6',  \"image\": 'https://picsum.photos/id/243/400/300' },\n",
    "      { \"name\": 'Image 7',  \"image\": 'https://picsum.photos/id/244/400/300' },\n",
    "      { \"name\": 'Image 8',  \"image\": 'https://picsum.photos/id/247/400/300' },\n",
    "      { \"name\": 'Image 9',  \"image\": 'https://picsum.photos/id/248/400/300' },\n",
    "      { \"name\": 'Image 10', \"image\": 'https://picsum.photos/id/249/400/300' },\n",
    "      { \"name\": 'Image 11', \"image\": 'https://picsum.photos/id/250/400/300' }\n",
    "]\n",
    "\n",
    "s.max_width  = 400\n",
    "s.max_height = 300\n",
    "s.setImages(images)"
   ]
  },
  {
   "cell_type": "code",
   "execution_count": null,
   "id": "51b46d92",
   "metadata": {},
   "outputs": [],
   "source": []
  }
 ],
 "metadata": {
  "kernelspec": {
   "display_name": "Python 3 (ipykernel)",
   "language": "python",
   "name": "python3"
  },
  "language_info": {
   "codemirror_mode": {
    "name": "ipython",
    "version": 3
   },
   "file_extension": ".py",
   "mimetype": "text/x-python",
   "name": "python",
   "nbconvert_exporter": "python",
   "pygments_lexer": "ipython3",
   "version": "3.11.9"
  }
 },
 "nbformat": 4,
 "nbformat_minor": 5
}
