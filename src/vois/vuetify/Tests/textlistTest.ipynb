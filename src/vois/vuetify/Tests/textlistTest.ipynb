{
 "cells": [
  {
   "cell_type": "code",
   "execution_count": null,
   "id": "8517d8fb",
   "metadata": {
    "tags": []
   },
   "outputs": [],
   "source": [
    "%run ../../development/load_local_vois.py -w"
   ]
  },
  {
   "cell_type": "code",
   "execution_count": null,
   "id": "2f4f2a2b-9a40-4267-91b3-1e5660ba661e",
   "metadata": {
    "tags": []
   },
   "outputs": [],
   "source": [
    "from vois.vuetify import TextList\n",
    "\n",
    "t = TextList(['Name', 'Surname', 'Address', 'Role'],\n",
    "             ['Davide', 'De Marchi', 'via Eduardo 34, Roccacannuccia (PE)', 'Software developer'],\n",
    "             titles_bold=['Surname'],\n",
    "             title_font_size=14,\n",
    "             text_font_size=16,\n",
    "             title_column=3,\n",
    "             text_column=10,\n",
    "             title_color='#003300',\n",
    "             text_color='#000000',\n",
    "             line_height_factor=1.4\n",
    "            )\n",
    "\n",
    "# Set some attributes of the card widget (margins, colors, width, etc.)\n",
    "t.class_    = 'pa-0 ma-4 ml-6 mr-8'\n",
    "t.flat      = False\n",
    "t.card.color     = '#e0ffe0'\n",
    "t.card.elevation = 8\n",
    "t.card.width     = '430px'\n",
    "\n",
    "t.draw()"
   ]
  },
  {
   "cell_type": "code",
   "execution_count": null,
   "id": "454c515f",
   "metadata": {},
   "outputs": [],
   "source": []
  }
 ],
 "metadata": {
  "kernelspec": {
   "display_name": "Python 3 (ipykernel)",
   "language": "python",
   "name": "python3"
  },
  "language_info": {
   "codemirror_mode": {
    "name": "ipython",
    "version": 3
   },
   "file_extension": ".py",
   "mimetype": "text/x-python",
   "name": "python",
   "nbconvert_exporter": "python",
   "pygments_lexer": "ipython3",
   "version": "3.12.3"
  }
 },
 "nbformat": 4,
 "nbformat_minor": 5
}
