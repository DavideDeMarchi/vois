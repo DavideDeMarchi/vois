{
 "cells": [
  {
   "cell_type": "code",
   "execution_count": 21,
   "id": "906ee21e",
   "metadata": {
    "tags": []
   },
   "outputs": [
    {
     "data": {
      "application/vnd.jupyter.widget-view+json": {
       "model_id": "10f2a6aaccae4c7695cb771a79433868",
       "version_major": 2,
       "version_minor": 0
      },
      "text/plain": [
       "Output()"
      ]
     },
     "metadata": {},
     "output_type": "display_data"
    },
    {
     "data": {
      "application/vnd.jupyter.widget-view+json": {
       "model_id": "e57d3798e9a8408cb9d55624205b1e33",
       "version_major": 2,
       "version_minor": 0
      },
      "text/plain": [
       "Output(layout=Layout(height='0px', width='0px'))"
      ]
     },
     "metadata": {},
     "output_type": "display_data"
    }
   ],
   "source": [
    "%run mainPage.py\n",
    "\n",
    "from random import randrange\n",
    "from ipywidgets import widgets\n",
    "\n",
    "output = widgets.Output()\n",
    "display(output)\n",
    "\n",
    "def onclick1():\n",
    "    with output:\n",
    "        print(\"Clicked Function 1\")\n",
    "        \n",
    "def onclick1():\n",
    "    with output:\n",
    "        print(\"Clicked Function 2\")\n",
    "        \n",
    "disclaimer = 'The contents of this viewer are intended solely for the use of the Commission and may not be reproduced, distributed, or communicated outside the Commission in any format without explicit prior written consent'\n",
    "    \n",
    "m = mainPage(title='mainPage demo',\n",
    "             subtitle='Showcase how easy is to create a front page for an app',\n",
    "             credits=\"vois library development team\",\n",
    "             titlebox_widthpercent=50, titlebox_opacity=0.2, titlebox_border=2,\n",
    "             titleshadow=True,\n",
    "             vois_show=True, vois_opacity=0.1,\n",
    "             button_widthpercent=23, button_heightpercent=14, button_elevation=16, button_opacity=0.6,\n",
    "             background_image=55,\n",
    "             #background_filter='grayscale(0.85)',\n",
    "             background_filter='blur(2px) brightness(1.2) contrast(0.7) sepia(0.05) saturate(1.2)',\n",
    "             creditbox_opacity=0, creditbox_toppercent=78, creditbox_heightpercent=22,\n",
    "             text_color='#222222',\n",
    "             disclaimer=disclaimer)\n",
    "\n",
    "m = mainPage(background_image=55)\n",
    "\n",
    "m.addButton('Function 1',\n",
    "            subtitle='Launch calculation of ...',\n",
    "            tooltip='Tooltip text to display on hover',\n",
    "            image='https://picsum.photos/seed/%d/200/200'%randrange(1000),\n",
    "            onclick=onclick1)\n",
    "\n",
    "m.addButton('Function 2',\n",
    "            subtitle='Launch calculation of ...',\n",
    "            tooltip='Tooltip text to display on hover',\n",
    "            image='https://picsum.photos/seed/%d/200/200'%randrange(1000),\n",
    "            onclick=onclick1)\n",
    "\n",
    "#for i in range(2,7): m.addButton('Function %d'%i, image='https://picsum.photos/seed/%d/200/200'%randrange(1000), subtitle='All other buttons', tooltip='Tooltip text to display on hover')\n",
    "\n",
    "m.open()"
   ]
  },
  {
   "cell_type": "code",
   "execution_count": 13,
   "id": "fcb9d2e1-8fea-4717-9039-0d9c71120d63",
   "metadata": {
    "tags": []
   },
   "outputs": [
    {
     "data": {
      "application/vnd.jupyter.widget-view+json": {
       "model_id": "a52e96cc11a84e5899e461b5b62ce428",
       "version_major": 2,
       "version_minor": 0
      },
      "text/plain": [
       "Card(children=[Html(class_='pa-0 ma-0', layout=None, style_=\"\\n        width: 70vw; height: 70vh; \\n        ba…"
      ]
     },
     "execution_count": 13,
     "metadata": {},
     "output_type": "execute_result"
    }
   ],
   "source": [
    "# Display the preview of the mainPage as a card at 70% dimension\n",
    "m.preview()"
   ]
  },
  {
   "cell_type": "code",
   "execution_count": null,
   "id": "bc2e8426",
   "metadata": {
    "tags": []
   },
   "outputs": [],
   "source": [
    "# Basic multi-page app\n",
    "from vois.vuetify import mainPage, page\n",
    "from random import randrange\n",
    "\n",
    "from ipywidgets import widgets, Layout\n",
    "\n",
    "output = widgets.Output(layout=Layout(width='0px', height='0px'))\n",
    "display(output)\n",
    "\n",
    "title     = 'MultiPage Demo'\n",
    "logo      = 'https://jeodpp.jrc.ec.europa.eu/services/shared/pngs/BDAP_Logo1024transparent.png'\n",
    "copyright = 'European Commission - Joint Research Centre'\n",
    "\n",
    "def randomPicture():\n",
    "    return 'https://picsum.photos/seed/%d/200/200'%randrange(1000)\n",
    "\n",
    "def onclick(pagenumber):\n",
    "    p = page.page(title, 'Function %d'%pagenumber, output, titlecolor='#808dc4', titledark=True, footercolor='#cccccc',\n",
    "                  logoappurl=logo, copyrighttext=copyright)\n",
    "    card = p.create()\n",
    "    card.children = ['Put widgets into the empty space of the page %d'%pagenumber]\n",
    "    p.open()    \n",
    "\n",
    "m = mainPage.mainPage(title='MultiPage Demo',\n",
    "                      subtitle='Showcase how easy is to create a multi-page app',\n",
    "                      credits=\"vois library development team\",\n",
    "                      titlebox_widthpercent=50, titlebox_opacity=0.2, titlebox_border=0, titlebox_toppercent=11,\n",
    "                      vois_show=True, vois_opacity=0.1,\n",
    "                      button_widthpercent=23, button_heightpercent=14, button_elevation=16, button_opacity=0.6,\n",
    "                      background_image=55,\n",
    "                      background_filter='blur(2px) brightness(1.2) contrast(0.7) sepia(0.05) saturate(1.2)',\n",
    "                      creditbox_opacity=0, creditbox_heightpercent=18.0,\n",
    "                      text_color='#222222')\n",
    "\n",
    "m.addButton('Function 1', tooltip='Tooltip text to display on hover function1',\n",
    "            image=randomPicture(), onclick=onclick, argument=1)\n",
    "\n",
    "m.addButton('Function 2', tooltip='Tooltip text to display on hover function2',\n",
    "            image=randomPicture(), onclick=onclick, argument=2)\n",
    "\n",
    "for i in range(3,7): m.addButton('Function %d'%i, image=randomPicture(), onclick=onclick, argument=i)\n",
    "\n",
    "m.open()"
   ]
  },
  {
   "cell_type": "code",
   "execution_count": null,
   "id": "2d533a55",
   "metadata": {},
   "outputs": [],
   "source": []
  }
 ],
 "metadata": {
  "kernelspec": {
   "display_name": "Python 3 (ipykernel)",
   "language": "python",
   "name": "python3"
  },
  "language_info": {
   "codemirror_mode": {
    "name": "ipython",
    "version": 3
   },
   "file_extension": ".py",
   "mimetype": "text/x-python",
   "name": "python",
   "nbconvert_exporter": "python",
   "pygments_lexer": "ipython3",
   "version": "3.11.9"
  }
 },
 "nbformat": 4,
 "nbformat_minor": 5
}
