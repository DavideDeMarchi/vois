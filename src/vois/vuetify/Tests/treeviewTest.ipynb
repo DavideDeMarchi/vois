{
 "cells": [
  {
   "cell_type": "code",
   "execution_count": null,
   "id": "e4901887",
   "metadata": {},
   "outputs": [],
   "source": [
    "import ipyvuetify as v\n",
    "import pandas as pd"
   ]
  },
  {
   "cell_type": "code",
   "execution_count": null,
   "id": "baba7a35",
   "metadata": {},
   "outputs": [],
   "source": [
    "# TREEVIEW CREATED FROM A HIERARCHICAL LIST OF STRINGS\n",
    "%run treeview.py\n",
    "\n",
    "def on_change(arg):\n",
    "    print(arg)\n",
    "    \n",
    "def on_activated(arg):\n",
    "    print(arg)\n",
    "\n",
    "treecard = createTreeviewFromList(['A','A.1','A.2','A.1.1','A.3.1','A.4.1.2','A.5.2.1','A.4.2.3.1','B','B.A'], separator='.', rootName='Root', expand_selection_to_parents=False, \n",
    "                                  substitutionDict={'A.1': 'A.1 new name'}, color='green', dark=False, width='500px', height='350px', on_change=on_change, on_activated=on_activated,\n",
    "                                  selectable=True, activatable=False, opened=['Root', 'A', 'A.3'], displayfullname=True, #active='A.2', \n",
    "                                  disabled=['A.1', 'A.3'], tooltips=True, tooltips_chars=0, iconsshow=True, iconscolor='green', open_on_click=True,\n",
    "                                  iconsDict={'A.2': 'mdi-fire', 'A.4.1.2': 'mdi-anchor'}, iconsfolder=True, select_all=False, selected=['A.1.1','A.3.1','A.4.1.2','A.5.2.1'],\n",
    "                                 ) #font_size=12, item_height=18, checkbox_size=20, icon_size=20)\n",
    "treecard"
   ]
  },
  {
   "cell_type": "code",
   "execution_count": null,
   "id": "fcac26a6",
   "metadata": {},
   "outputs": [],
   "source": [
    "# FLAT TREEVIEW CREATED FROM A LIST OF STRINGS\n",
    "%run treeview.py\n",
    "\n",
    "def on_change(arg):\n",
    "    print('Selected: ', arg)\n",
    "\n",
    "def on_activated(arg):\n",
    "    print('Active: ', arg)\n",
    "    \n",
    "treecard = createFlatTreeview(['A','B','C','D','E'], \n",
    "                              color='green', dark=False, width='500px', height='120px',\n",
    "                              selectable=True, activatable=True, displayfullname=True, \n",
    "                              select_all=False, selected=['B','D'],\n",
    "                              on_change=on_change,\n",
    "                              on_activated=on_activated)\n",
    "treecard"
   ]
  },
  {
   "cell_type": "code",
   "execution_count": null,
   "id": "c0e17baf",
   "metadata": {},
   "outputs": [],
   "source": [
    "top = treeviewOperations(treecard)\n",
    "top.getSelected()"
   ]
  },
  {
   "cell_type": "code",
   "execution_count": null,
   "id": "e94d2e3c",
   "metadata": {},
   "outputs": [],
   "source": [
    "top.setSelected([])"
   ]
  },
  {
   "cell_type": "code",
   "execution_count": null,
   "id": "acd30149",
   "metadata": {},
   "outputs": [],
   "source": [
    "# DYNAMIC ADDING OF CHILDREN TO A TREEVIEW\n",
    "%run treeview.py\n",
    "\n",
    "def on_activated(arg):\n",
    "    if arg == 'A':\n",
    "        if len(top.getChildren(arg)) == 0:\n",
    "            top.setChildren('A', ['A.1', 'A.2'])\n",
    "            op = top.getOpened()\n",
    "            top.setActive(arg)\n",
    "            op.append(arg)\n",
    "            top.setOpened(op)\n",
    "            #print(top.getOpened())\n",
    "    elif arg == 'B':\n",
    "        if len(top.getChildren(arg)) == 0:\n",
    "            top.setChildren('B', ['B.1', 'B.2', 'B.3'])\n",
    "            top.setActive(arg)\n",
    "            op = top.getOpened()\n",
    "            op.append(arg)\n",
    "            top.setOpened(op)\n",
    "            #print(top.getOpened())\n",
    "        \n",
    "\n",
    "treecard = createTreeviewFromList(['A','B'], separator='.', rootName='Root', expand_selection_to_parents=False, \n",
    "                                  color='green', dark=False, width='500px', height='500px', on_activated=on_activated,\n",
    "                                  selectable=False, activatable=True, displayfullname=True)\n",
    "\n",
    "top = treeviewOperations(treecard)\n",
    "\n",
    "treecard"
   ]
  },
  {
   "cell_type": "code",
   "execution_count": null,
   "id": "2d791fc1",
   "metadata": {},
   "outputs": [],
   "source": [
    "top.setChildren('B', ['B.1', 'B.2', 'B.3'])"
   ]
  },
  {
   "cell_type": "code",
   "execution_count": null,
   "id": "bce2e8c2",
   "metadata": {},
   "outputs": [],
   "source": [
    "top.setActive('A')"
   ]
  },
  {
   "cell_type": "code",
   "execution_count": null,
   "id": "6995c3de",
   "metadata": {},
   "outputs": [],
   "source": [
    "top.getOpened()"
   ]
  },
  {
   "cell_type": "code",
   "execution_count": null,
   "id": "0f73e458",
   "metadata": {},
   "outputs": [],
   "source": [
    "top.treeview.opened"
   ]
  },
  {
   "cell_type": "code",
   "execution_count": null,
   "id": "21832ee1",
   "metadata": {},
   "outputs": [],
   "source": [
    "top.getChildren('B')"
   ]
  },
  {
   "cell_type": "code",
   "execution_count": null,
   "id": "4675b78e",
   "metadata": {},
   "outputs": [],
   "source": [
    "top.setChildren('B', ['B.1', 'B.2', 'B.3'])"
   ]
  },
  {
   "cell_type": "code",
   "execution_count": null,
   "id": "dc27405c",
   "metadata": {},
   "outputs": [],
   "source": [
    "top.setChildren('A', ['A.1', 'A.2'])"
   ]
  },
  {
   "cell_type": "code",
   "execution_count": null,
   "id": "23cb5bad",
   "metadata": {},
   "outputs": [],
   "source": [
    "top.getChildren('A')"
   ]
  },
  {
   "cell_type": "code",
   "execution_count": null,
   "id": "a6a27d86",
   "metadata": {},
   "outputs": [],
   "source": [
    "top.setChildren('A', [])"
   ]
  },
  {
   "cell_type": "code",
   "execution_count": null,
   "id": "437180bf",
   "metadata": {},
   "outputs": [],
   "source": [
    "top.treeview.items = [{'id': 1,\n",
    "  'name': 'Root',\n",
    "  'fullname': 'Root',\n",
    "  'children': [{'id': 2, 'name': 'A', 'fullname': 'A', 'children': [{'id': 4, 'name': 'A.1', 'fullname': 'A.1'}, {'id': 5, 'name': 'A.2', 'fullname': 'A.2'}]},\n",
    "   {'id': 3, 'name': 'B', 'fullname': 'B', 'children': [{'id': 6, 'name': 'B.1', 'fullname': 'B.1'}, {'id': 7, 'name': 'B.2', 'fullname': 'B.2'}]}]}]"
   ]
  },
  {
   "cell_type": "code",
   "execution_count": null,
   "id": "7ab3d76c",
   "metadata": {},
   "outputs": [],
   "source": [
    "top.treeview.items[0]"
   ]
  },
  {
   "cell_type": "code",
   "execution_count": null,
   "id": "45a8a0ef",
   "metadata": {},
   "outputs": [],
   "source": [
    "top.setActive('A')"
   ]
  },
  {
   "cell_type": "code",
   "execution_count": null,
   "id": "cf019ddc",
   "metadata": {},
   "outputs": [],
   "source": [
    "top.getActive()"
   ]
  },
  {
   "cell_type": "code",
   "execution_count": null,
   "id": "48b368a9",
   "metadata": {},
   "outputs": [],
   "source": []
  },
  {
   "cell_type": "code",
   "execution_count": null,
   "id": "a81e844d",
   "metadata": {},
   "outputs": [],
   "source": [
    "# SIMPLE TREE VIEW CREATED FROM A LIST OF STRINGS\n",
    "%run treeview.py\n",
    "\n",
    "def on_change(arg):\n",
    "    print(arg)\n",
    "    \n",
    "def on_activated(arg):\n",
    "    print('Active: ', arg)\n",
    "    \n",
    "treecard = createTreeviewFromList(['A','A.1','A.2','A.1.1','A.3.1','A.4.1.2','A.5.2.1','A.4.2.3.1','B','B.A'], separator='.', rootName='Root', expand_selection_to_parents=False, \n",
    "                                  color='green', dark=False, width='500px', height='550px', on_change=on_change, on_activated=on_activated,\n",
    "                                  selectable=True, activatable=False, opened_all=True, displayfullname=True, \n",
    "                                  select_all=False, selected=['A.1.1','A.3.1','A.4.1.2','A.5.2.1'])\n",
    "treecard"
   ]
  },
  {
   "cell_type": "code",
   "execution_count": null,
   "id": "90f74ecc",
   "metadata": {},
   "outputs": [],
   "source": [
    "top = treeviewOperations(treecard)"
   ]
  },
  {
   "cell_type": "code",
   "execution_count": null,
   "id": "14752988",
   "metadata": {},
   "outputs": [],
   "source": [
    "top.treeview.selected = [5,7]"
   ]
  },
  {
   "cell_type": "code",
   "execution_count": null,
   "id": "bf452e44",
   "metadata": {},
   "outputs": [],
   "source": [
    "top.getSelected()"
   ]
  },
  {
   "cell_type": "code",
   "execution_count": null,
   "id": "66323c1a",
   "metadata": {},
   "outputs": [],
   "source": [
    "top.setSelected(['A.2'])"
   ]
  },
  {
   "cell_type": "code",
   "execution_count": null,
   "id": "c68fc9f7",
   "metadata": {},
   "outputs": [],
   "source": [
    "top.openAll()"
   ]
  },
  {
   "cell_type": "code",
   "execution_count": null,
   "id": "7c906adb",
   "metadata": {},
   "outputs": [],
   "source": [
    "top.setSearch('A.4')"
   ]
  },
  {
   "cell_type": "code",
   "execution_count": null,
   "id": "27db08a4",
   "metadata": {},
   "outputs": [],
   "source": [
    "top.getActive()"
   ]
  },
  {
   "cell_type": "code",
   "execution_count": null,
   "id": "2e1e573e",
   "metadata": {},
   "outputs": [],
   "source": [
    "top.setOpened([])"
   ]
  },
  {
   "cell_type": "code",
   "execution_count": null,
   "id": "efad58b4",
   "metadata": {},
   "outputs": [],
   "source": [
    "top.setActive('A.1.1')"
   ]
  },
  {
   "cell_type": "code",
   "execution_count": null,
   "id": "40f99caa",
   "metadata": {},
   "outputs": [],
   "source": [
    "top.setActive('Root')"
   ]
  },
  {
   "cell_type": "code",
   "execution_count": null,
   "id": "937d7139",
   "metadata": {},
   "outputs": [],
   "source": [
    "top.getOpened()"
   ]
  },
  {
   "cell_type": "code",
   "execution_count": null,
   "id": "a6d5ddec",
   "metadata": {},
   "outputs": [],
   "source": [
    "top.setOpened(['Root', 'A', 'A.3'])"
   ]
  },
  {
   "cell_type": "code",
   "execution_count": null,
   "id": "88958016",
   "metadata": {},
   "outputs": [],
   "source": [
    "top.id2fullname"
   ]
  },
  {
   "cell_type": "code",
   "execution_count": null,
   "id": "42709b71",
   "metadata": {},
   "outputs": [],
   "source": [
    "top.fullname2id"
   ]
  },
  {
   "cell_type": "code",
   "execution_count": null,
   "id": "7ddf5f68",
   "metadata": {},
   "outputs": [],
   "source": [
    "top.id2parentid"
   ]
  },
  {
   "cell_type": "code",
   "execution_count": null,
   "id": "201b0304",
   "metadata": {},
   "outputs": [],
   "source": [
    "top.id2childrenid"
   ]
  },
  {
   "cell_type": "code",
   "execution_count": null,
   "id": "f8756fb7",
   "metadata": {},
   "outputs": [],
   "source": [
    "# SELECTABLE TREE VIEW CREATED FROM TWO COLUMNS OF A PANDAS DATAFRAME\n",
    "%run treeview.py\n",
    "import random\n",
    "\n",
    "# Create a Pandas\n",
    "df = pd.DataFrame(columns=['Group','Element', 'parenticon', 'icon'])\n",
    "\n",
    "i = 0\n",
    "\n",
    "seta_output = [['gis', 'gis software'],\n",
    "               ['geospatial', 'geospatial data', 'geospatial applications'],\n",
    "               ['spatial analysis', 'spatial join', 'geospatial data tools']\n",
    "              ]\n",
    "\n",
    "icons = ['mdi-football', 'mdi-anchor', 'mdi-border-all', 'mdi-cloud', 'mdi-firefox', 'mdi-filmstrip', 'mdi-fire', 'mdi-flower']\n",
    "\n",
    "for group in seta_output:\n",
    "    name = group[0]\n",
    "    for element in group[1:]:\n",
    "        record = {'Group': name, 'Element': element, 'icon': random.choice(icons), 'parenticon': 'mdi-fire'}\n",
    "        df.at[i, :] = record\n",
    "        i = i+1\n",
    "\n",
    "display(df)\n",
    "\n",
    "def on_change(arg):\n",
    "    print(arg)\n",
    "\n",
    "# Display the tree\n",
    "tree = createTreeviewFromDF2Columns(df,'Group', 'Element', rootName='Terms', width='400px', height='250px', select_all=True,\n",
    "                                    repeat_parent_as_first_child=False, open_on_click=True, selectable=True, activatable=False, expand_selection_to_parents=True,\n",
    "                                    iconsshow=True, iconscolor='blue', iconsfolder=True, iconscolumnName1='parenticon', iconscolumnName2='icon', iconroot='mdi-fire',\n",
    "                                    #iconsshow=False, iconscolor='blue', iconsfolder=True, iconscolumnName2='icon', \n",
    "                                    tooltips=True, tooltips_chars=10, on_change=on_change, transition=True,\n",
    "                                    disabled=['Terms.gis', 'Terms.geospatial.geospatial data'], opened=['Terms', 'Terms.gis'])\n",
    "\n",
    "top = treeviewOperations(tree)\n",
    "\n",
    "tree"
   ]
  },
  {
   "cell_type": "code",
   "execution_count": null,
   "id": "a4a39b0e",
   "metadata": {},
   "outputs": [],
   "source": [
    "# TREEVIEW FROM 3 COLUMNS OF A PANDAS DATAFRAME\n",
    "%run treeview.py\n",
    "import pandas as pd\n",
    "\n",
    "table = [['parent', 'child', 'nephew'], \n",
    "         ['John', 'Mary', 'Johnny'],\n",
    "         ['John', 'Peter', 'Lisa'], \n",
    "         ['Ann', 'Hellen', 'July'],\n",
    "         ['Ann', 'Sue', 'Ellen'],\n",
    "         ['Ann', 'Claire', 'Pieter']]\n",
    "\n",
    "headers = table.pop(0)\n",
    "df = pd.DataFrame(table, columns=headers)\n",
    "display(df)\n",
    "\n",
    "def on_change(arg):\n",
    "    print(arg)\n",
    "\n",
    "def on_activated(arg):\n",
    "    print(arg)\n",
    "    \n",
    "treecard = createTreeviewFromDF3Columns(df, headers[0], headers[1], headers[2], \n",
    "                                        rootName='Families', activatable=True,\n",
    "                                        select_all=True, opened_all=True,\n",
    "                                        on_change=on_change, on_activated=on_activated)\n",
    "display(treecard)\n"
   ]
  },
  {
   "cell_type": "code",
   "execution_count": null,
   "id": "0f081229",
   "metadata": {},
   "outputs": [],
   "source": []
  }
 ],
 "metadata": {
  "kernelspec": {
   "display_name": "Python 3 (ipykernel)",
   "language": "python",
   "name": "python3"
  },
  "language_info": {
   "codemirror_mode": {
    "name": "ipython",
    "version": 3
   },
   "file_extension": ".py",
   "mimetype": "text/x-python",
   "name": "python",
   "nbconvert_exporter": "python",
   "pygments_lexer": "ipython3",
   "version": "3.7.13"
  }
 },
 "nbformat": 4,
 "nbformat_minor": 5
}
