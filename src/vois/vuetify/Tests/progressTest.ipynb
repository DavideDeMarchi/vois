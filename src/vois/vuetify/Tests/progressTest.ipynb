{
 "cells": [
  {
   "cell_type": "code",
   "execution_count": null,
   "id": "50e0feda-f0b9-4133-9b0d-510dc2dad1c4",
   "metadata": {
    "tags": []
   },
   "outputs": [],
   "source": [
    "# To load local vois library with ignore on deprecation warnings\n",
    "%run ../../development/load_local_vois.py -w"
   ]
  },
  {
   "cell_type": "code",
   "execution_count": null,
   "id": "f16595ec",
   "metadata": {
    "tags": []
   },
   "outputs": [],
   "source": [
    "from ipywidgets import widgets, Layout, HTML\n",
    "from IPython.display import display\n",
    "\n",
    "outputheight = 500\n",
    "output = widgets.Output(layout=Layout(width='99%', height='%dpx' % (outputheight+10)))\n",
    "display(output)\n",
    "\n",
    "from vois.vuetify import progress\n",
    "\n",
    "p = progress.progress(output, text='Please, wait...', size=200, width=20, show=True, outputheight=outputheight)"
   ]
  },
  {
   "cell_type": "code",
   "execution_count": null,
   "id": "eb4a7a49",
   "metadata": {
    "tags": []
   },
   "outputs": [],
   "source": [
    "p.close()"
   ]
  },
  {
   "cell_type": "code",
   "execution_count": null,
   "id": "34776a40",
   "metadata": {
    "tags": []
   },
   "outputs": [],
   "source": [
    "# Example of a transparent and absolutely positioned progress\n",
    "output = widgets.Output(layout=Layout(width='0px', height='0px'))\n",
    "display(output)\n",
    "\n",
    "p = progress.progress(None, text='Please, wait...', size=150, width=20, show=False)\n",
    "p.showAbsolute(output, 'calc(50vw - 150px)', 'calc(50vh - 150px)', 9999)"
   ]
  },
  {
   "cell_type": "code",
   "execution_count": null,
   "id": "fa3bd909",
   "metadata": {
    "tags": []
   },
   "outputs": [],
   "source": [
    "p.close()"
   ]
  },
  {
   "cell_type": "code",
   "execution_count": null,
   "id": "cb0d75e6",
   "metadata": {},
   "outputs": [],
   "source": []
  }
 ],
 "metadata": {
  "kernelspec": {
   "display_name": "Python 3 (ipykernel)",
   "language": "python",
   "name": "python3"
  },
  "language_info": {
   "codemirror_mode": {
    "name": "ipython",
    "version": 3
   },
   "file_extension": ".py",
   "mimetype": "text/x-python",
   "name": "python",
   "nbconvert_exporter": "python",
   "pygments_lexer": "ipython3",
   "version": "3.12.3"
  }
 },
 "nbformat": 4,
 "nbformat_minor": 5
}
