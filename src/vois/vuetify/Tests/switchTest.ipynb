{
 "cells": [
  {
   "cell_type": "code",
   "execution_count": null,
   "id": "dc373131",
   "metadata": {
    "tags": []
   },
   "outputs": [],
   "source": [
    "# To load local vois library with ignore on deprecation warnings\n",
    "%run ../../development/load_local_vois.py -w\n",
    "\n",
    "from vois import cssUtils\n",
    "\n",
    "%run ../switch.py\n",
    "\n",
    "from ipywidgets import HTML, widgets, Layout\n",
    "output = widgets.Output(layout=Layout(width='400px'))\n",
    "\n",
    "def onchange(value):\n",
    "    with output:\n",
    "        print(value)\n",
    "\n",
    "s = switch(True, \"Label of the switch\", onchange=onchange, inset=True, dense=True)\n",
    "\n",
    "display(s.draw())\n",
    "display(output)"
   ]
  },
  {
   "cell_type": "code",
   "execution_count": null,
   "id": "044f01f8-f92c-4da4-a5fa-50ecbee377eb",
   "metadata": {
    "tags": []
   },
   "outputs": [],
   "source": [
    "s.color = 'red'"
   ]
  },
  {
   "cell_type": "code",
   "execution_count": null,
   "id": "d522105d-5f0f-4caa-a308-49e5c7d30e21",
   "metadata": {
    "tags": []
   },
   "outputs": [],
   "source": [
    "cssUtils.switchFontSize(size=12)"
   ]
  },
  {
   "cell_type": "code",
   "execution_count": null,
   "id": "1eab4f5a",
   "metadata": {},
   "outputs": [],
   "source": [
    "s.value = False"
   ]
  },
  {
   "cell_type": "code",
   "execution_count": null,
   "id": "bc81fc65",
   "metadata": {
    "tags": []
   },
   "outputs": [],
   "source": [
    "from ipywidgets import HTML\n",
    "from IPython.display import display\n",
    "\n",
    "command = '''\n",
    "<style>.vuetify-styles .v-label {\n",
    "    font-size: 14px;\n",
    "}\n",
    "</style>'''\n",
    "    \n",
    "display(HTML(command))"
   ]
  },
  {
   "cell_type": "code",
   "execution_count": null,
   "id": "c618eae1-4506-497a-b0c2-d6ef6a3c564d",
   "metadata": {
    "tags": []
   },
   "outputs": [],
   "source": [
    "from ipywidgets import HTML\n",
    "from IPython.display import display\n",
    "\n",
    "command = '''\n",
    "<style>.vuetify-styles .v-label {\n",
    "    font-size: 14px;\n",
    "}\n",
    "</style>'''\n",
    "    \n",
    "display(HTML(command))"
   ]
  },
  {
   "cell_type": "code",
   "execution_count": null,
   "id": "bee4083a-58e4-48a0-8a8e-d88358cf8434",
   "metadata": {},
   "outputs": [],
   "source": []
  }
 ],
 "metadata": {
  "kernelspec": {
   "display_name": "Python 3 (ipykernel)",
   "language": "python",
   "name": "python3"
  },
  "language_info": {
   "codemirror_mode": {
    "name": "ipython",
    "version": 3
   },
   "file_extension": ".py",
   "mimetype": "text/x-python",
   "name": "python",
   "nbconvert_exporter": "python",
   "pygments_lexer": "ipython3",
   "version": "3.11.9"
  }
 },
 "nbformat": 4,
 "nbformat_minor": 5
}
