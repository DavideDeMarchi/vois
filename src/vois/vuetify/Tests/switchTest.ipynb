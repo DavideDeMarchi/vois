{
 "cells": [
  {
   "cell_type": "code",
   "execution_count": null,
   "id": "dc373131",
   "metadata": {},
   "outputs": [],
   "source": [
    "%run switch.py\n",
    "\n",
    "from ipywidgets import HTML, widgets, Layout\n",
    "output = widgets.Output(layout=Layout(width='400px'))\n",
    "\n",
    "def onchange(value):\n",
    "    with output:\n",
    "        print(value)\n",
    "\n",
    "s = switch(True, \"Label of the switch\", onchange=onchange, inset=True, dense=True)\n",
    "\n",
    "display(s.draw())\n",
    "display(output)"
   ]
  },
  {
   "cell_type": "code",
   "execution_count": null,
   "id": "1eab4f5a",
   "metadata": {},
   "outputs": [],
   "source": [
    "s.value = False"
   ]
  },
  {
   "cell_type": "code",
   "execution_count": null,
   "id": "bc81fc65",
   "metadata": {},
   "outputs": [],
   "source": []
  }
 ],
 "metadata": {
  "kernelspec": {
   "display_name": "Python 3 (ipykernel)",
   "language": "python",
   "name": "python3"
  },
  "language_info": {
   "codemirror_mode": {
    "name": "ipython",
    "version": 3
   },
   "file_extension": ".py",
   "mimetype": "text/x-python",
   "name": "python",
   "nbconvert_exporter": "python",
   "pygments_lexer": "ipython3",
   "version": "3.7.13"
  }
 },
 "nbformat": 4,
 "nbformat_minor": 5
}
