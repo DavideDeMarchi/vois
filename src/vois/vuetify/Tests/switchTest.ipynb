{
 "cells": [
  {
   "cell_type": "code",
   "execution_count": 1,
   "id": "dc373131",
   "metadata": {
    "tags": []
   },
   "outputs": [
    {
     "data": {
      "application/vnd.jupyter.widget-view+json": {
       "model_id": "59c6a05652404ddeb1158675446c075f",
       "version_major": 2,
       "version_minor": 0
      },
      "text/plain": [
       "Html(children=[Switch(class_='pa-0 ma-0 ml-3 mt-2 mb-n3', color='#f8bd1a', dense=True, disabled=False, flat=Tr…"
      ]
     },
     "metadata": {},
     "output_type": "display_data"
    },
    {
     "data": {
      "application/vnd.jupyter.widget-view+json": {
       "model_id": "6b3245ea3bea4ac1a7903419a9f2aae8",
       "version_major": 2,
       "version_minor": 0
      },
      "text/plain": [
       "Output(layout=Layout(width='400px'))"
      ]
     },
     "metadata": {},
     "output_type": "display_data"
    }
   ],
   "source": [
    "# To load local vois library with ignore on deprecation warnings\n",
    "%run ../../development/load_local_vois.py -w\n",
    "\n",
    "from vois import cssUtils\n",
    "\n",
    "%run ../switch.py\n",
    "\n",
    "from ipywidgets import HTML, widgets, Layout\n",
    "output = widgets.Output(layout=Layout(width='400px'))\n",
    "\n",
    "def onchange(value):\n",
    "    with output:\n",
    "        print(value)\n",
    "\n",
    "s = switch(True, \"Label of the switch\", onchange=onchange, inset=True, dense=True)\n",
    "\n",
    "display(s.draw())\n",
    "display(output)"
   ]
  },
  {
   "cell_type": "code",
   "execution_count": 5,
   "id": "d522105d-5f0f-4caa-a308-49e5c7d30e21",
   "metadata": {
    "tags": []
   },
   "outputs": [
    {
     "data": {
      "application/vnd.jupyter.widget-view+json": {
       "model_id": "a5f60517a6584823a131c371e2776475",
       "version_major": 2,
       "version_minor": 0
      },
      "text/plain": [
       "HTML(value='\\n<style>.vuetify-styles .v-label {\\n    font-size: 12px;\\n}\\n</style>')"
      ]
     },
     "metadata": {},
     "output_type": "display_data"
    }
   ],
   "source": [
    "cssUtils.switchFontSize(size=12)"
   ]
  },
  {
   "cell_type": "code",
   "execution_count": null,
   "id": "1eab4f5a",
   "metadata": {},
   "outputs": [],
   "source": [
    "s.value = False"
   ]
  },
  {
   "cell_type": "code",
   "execution_count": 3,
   "id": "bc81fc65",
   "metadata": {
    "tags": []
   },
   "outputs": [
    {
     "data": {
      "application/vnd.jupyter.widget-view+json": {
       "model_id": "ed7cd672974946f2a51210c973dbde40",
       "version_major": 2,
       "version_minor": 0
      },
      "text/plain": [
       "HTML(value='\\n<style>.vuetify-styles .v-label {\\n    font-size: 14px;\\n}\\n</style>')"
      ]
     },
     "metadata": {},
     "output_type": "display_data"
    }
   ],
   "source": [
    "from ipywidgets import HTML\n",
    "from IPython.display import display\n",
    "\n",
    "command = '''\n",
    "<style>.vuetify-styles .v-label {\n",
    "    font-size: 14px;\n",
    "}\n",
    "</style>'''\n",
    "    \n",
    "display(HTML(command))"
   ]
  },
  {
   "cell_type": "code",
   "execution_count": 4,
   "id": "c618eae1-4506-497a-b0c2-d6ef6a3c564d",
   "metadata": {
    "tags": []
   },
   "outputs": [
    {
     "data": {
      "application/vnd.jupyter.widget-view+json": {
       "model_id": "be02e522461f455eb746ea92d87bf09c",
       "version_major": 2,
       "version_minor": 0
      },
      "text/plain": [
       "HTML(value='\\n<style>.vuetify-styles .v-label {\\n    font-size: 14px;\\n}\\n</style>')"
      ]
     },
     "metadata": {},
     "output_type": "display_data"
    }
   ],
   "source": [
    "from ipywidgets import HTML\n",
    "from IPython.display import display\n",
    "\n",
    "command = '''\n",
    "<style>.vuetify-styles .v-label {\n",
    "    font-size: 14px;\n",
    "}\n",
    "</style>'''\n",
    "    \n",
    "display(HTML(command))"
   ]
  },
  {
   "cell_type": "code",
   "execution_count": null,
   "id": "bee4083a-58e4-48a0-8a8e-d88358cf8434",
   "metadata": {},
   "outputs": [],
   "source": []
  }
 ],
 "metadata": {
  "kernelspec": {
   "display_name": "Python 3 (ipykernel)",
   "language": "python",
   "name": "python3"
  },
  "language_info": {
   "codemirror_mode": {
    "name": "ipython",
    "version": 3
   },
   "file_extension": ".py",
   "mimetype": "text/x-python",
   "name": "python",
   "nbconvert_exporter": "python",
   "pygments_lexer": "ipython3",
   "version": "3.11.9"
  }
 },
 "nbformat": 4,
 "nbformat_minor": 5
}
