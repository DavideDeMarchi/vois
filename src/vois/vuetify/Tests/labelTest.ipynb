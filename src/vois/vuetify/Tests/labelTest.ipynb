{
 "cells": [
  {
   "cell_type": "code",
   "execution_count": null,
   "id": "f6669ee6-51c9-4967-886a-3a673cc1b20d",
   "metadata": {
    "tags": []
   },
   "outputs": [],
   "source": [
    "%run ../../development/load_local_vois.py -w"
   ]
  },
  {
   "cell_type": "code",
   "execution_count": null,
   "id": "e8aa4d62",
   "metadata": {
    "tags": []
   },
   "outputs": [],
   "source": [
    "from vois.vuetify import Label\n",
    "\n",
    "l1 = Label('July 2011 test long long  long long long label', text_weight=450, height=22, tooltip_text='Example tooltip text')\n",
    "l2 = Label('Test label 2', text_weight=300, margins=2, icon='mdi-car-light-high', icon_color='red', icon_small=False, height=22)\n",
    "\n",
    "display(l1)\n",
    "display(l2)"
   ]
  },
  {
   "cell_type": "code",
   "execution_count": null,
   "id": "d4d0c677",
   "metadata": {
    "tags": []
   },
   "outputs": [],
   "source": [
    "from vois.vuetify import Label\n",
    "\n",
    "lab = Label('Test label ', text_weight=300, margins=10,\n",
    "                  icon='mdi-car-light-high', icon_color='red',\n",
    "                  icon_large=False, height=50)\n",
    "\n",
    "display(lab)"
   ]
  },
  {
   "cell_type": "code",
   "execution_count": null,
   "id": "658ee370",
   "metadata": {
    "tags": []
   },
   "outputs": [],
   "source": [
    "lab.text = 'New text for the label'\n",
    "display(lab)\n",
    "print(lab.text)"
   ]
  },
  {
   "cell_type": "code",
   "execution_count": null,
   "id": "25a10118-40a4-4bd3-a776-4b446407cd6a",
   "metadata": {
    "tags": []
   },
   "outputs": [],
   "source": [
    "lab.text = 'New text for the label'"
   ]
  },
  {
   "cell_type": "code",
   "execution_count": null,
   "id": "787462fc-153b-4de6-a3d3-67815c1cde80",
   "metadata": {},
   "outputs": [],
   "source": []
  }
 ],
 "metadata": {
  "kernelspec": {
   "display_name": "Python 3 (ipykernel)",
   "language": "python",
   "name": "python3"
  },
  "language_info": {
   "codemirror_mode": {
    "name": "ipython",
    "version": 3
   },
   "file_extension": ".py",
   "mimetype": "text/x-python",
   "name": "python",
   "nbconvert_exporter": "python",
   "pygments_lexer": "ipython3",
   "version": "3.12.3"
  }
 },
 "nbformat": 4,
 "nbformat_minor": 5
}
