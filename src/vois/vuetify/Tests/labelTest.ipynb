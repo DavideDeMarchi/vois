{
 "cells": [
  {
   "cell_type": "code",
   "execution_count": null,
   "id": "e8aa4d62",
   "metadata": {},
   "outputs": [],
   "source": [
    "%run label.py\n",
    "\n",
    "l1 = label('July 2011 test long long long long long long long long long long long long label', textweight=450, height=22, tooltip='Example tooltip text')\n",
    "l2 = label('Test label 2', textweight=300, margins=2, icon='mdi-car-light-high', iconcolor='red', iconsmall=False, height=22)\n",
    "\n",
    "display(l1.draw())\n",
    "display(l2.draw())"
   ]
  },
  {
   "cell_type": "code",
   "execution_count": null,
   "id": "d4d0c677",
   "metadata": {},
   "outputs": [],
   "source": [
    "import label\n",
    "\n",
    "lab = label.label('Test label ', textweight=300, margins=2,\n",
    "                  icon='mdi-car-light-high', iconcolor='red',\n",
    "                  iconlarge=False, height=22)\n",
    "\n",
    "display(lab.draw())"
   ]
  },
  {
   "cell_type": "code",
   "execution_count": null,
   "id": "658ee370",
   "metadata": {},
   "outputs": [],
   "source": [
    "lab.text = 'New text for the label'\n",
    "display(lab.draw())\n",
    "print(lab.text)"
   ]
  },
  {
   "cell_type": "code",
   "execution_count": null,
   "id": "3271496d",
   "metadata": {},
   "outputs": [],
   "source": []
  }
 ],
 "metadata": {
  "kernelspec": {
   "display_name": "Python 3 (ipykernel)",
   "language": "python",
   "name": "python3"
  },
  "language_info": {
   "codemirror_mode": {
    "name": "ipython",
    "version": 3
   },
   "file_extension": ".py",
   "mimetype": "text/x-python",
   "name": "python",
   "nbconvert_exporter": "python",
   "pygments_lexer": "ipython3",
   "version": "3.7.13"
  }
 },
 "nbformat": 4,
 "nbformat_minor": 5
}
