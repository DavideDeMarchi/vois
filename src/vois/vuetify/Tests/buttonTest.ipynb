{
 "cells": [
  {
   "cell_type": "code",
   "execution_count": 1,
   "id": "cb7d67c9",
   "metadata": {
    "tags": []
   },
   "outputs": [],
   "source": [
    "# To load local vois library with ignore on deprecation warnings\n",
    "%run ../../development/load_local_vois.py -w"
   ]
  },
  {
   "cell_type": "code",
   "execution_count": 2,
   "id": "77e17994",
   "metadata": {
    "tags": []
   },
   "outputs": [],
   "source": [
    "from vois.vuetify import settings, Button\n",
    "from vois.vuetify import button"
   ]
  },
  {
   "cell_type": "code",
   "execution_count": 3,
   "id": "3da1d456",
   "metadata": {
    "tags": []
   },
   "outputs": [
    {
     "data": {
      "application/vnd.jupyter.widget-view+json": {
       "model_id": "512956b9ed984925abdb210215d2ba47",
       "version_major": 2,
       "version_minor": 0
      },
      "text/plain": [
       "Button(children=[Container(children=[Tooltip(bottom=True, children=['Example of an extremely long tooltip text…"
      ]
     },
     "metadata": {},
     "output_type": "display_data"
    },
    {
     "data": {
      "application/vnd.jupyter.widget-view+json": {
       "model_id": "869d058bc10f4230a19639aae7d4fb70",
       "version_major": 2,
       "version_minor": 0
      },
      "text/plain": [
       "Button(children=[Container(children=[Tooltip(bottom=True, children=['Example of an extremely long tooltip text…"
      ]
     },
     "metadata": {},
     "output_type": "display_data"
    },
    {
     "data": {
      "application/vnd.jupyter.widget-view+json": {
       "model_id": "2a0192af7f7e499faa98c6fa8c113ac4",
       "version_major": 2,
       "version_minor": 0
      },
      "text/plain": [
       "Button(children=[Container(children=[Tooltip(bottom=True, children=['Open a URL'], color='#999999', layout=Non…"
      ]
     },
     "metadata": {},
     "output_type": "display_data"
    }
   ],
   "source": [
    "def onclick(arg=None):\n",
    "    if arg==1:\n",
    "        b1.selected = not b1.selected\n",
    "    else:\n",
    "        b2.selected = not b2.selected\n",
    "\n",
    "b1 = Button('Test button 1', textweight=300, onclick=onclick, argument=1, width=150, small=False, disabled=False, height=36, outlined=False, \n",
    "            tooltip='Example of an extremely long tooltip text', selected=False, icon='mdi-car-light-high', iconleft=True, iconcolor='black', rounded=True)\n",
    "\n",
    "b2 = Button('Test button 2', textweight=450, onclick=onclick, argument=2, width=150, small=False, disabled=False, height=48, outlined=False, \n",
    "            tooltip='Example of an extremely long tooltip text', selected=True, rounded=False, tile=True,\n",
    "            colorselected=settings.color_first, colorunselected='green')\n",
    "\n",
    "b3 = Button('Contacts', onlytext=True, textcolor=settings.color_first, width=150, height=28, href='https://ec.europa.eu/info/contact_en', target=\"_blank\", tooltip='Open a URL')\n",
    "\n",
    "display(b1)\n",
    "display(b2.draw())\n",
    "display(b3.draw())"
   ]
  },
  {
   "cell_type": "code",
   "execution_count": 4,
   "id": "5a3637ae",
   "metadata": {
    "tags": []
   },
   "outputs": [
    {
     "data": {
      "application/vnd.jupyter.widget-view+json": {
       "model_id": "42e7ed163ae7455096e38d9d645f205f",
       "version_major": 2,
       "version_minor": 0
      },
      "text/plain": [
       "Button(children=[Container(children=[Tooltip(bottom=True, children=[''], color='#999999', layout=None, transit…"
      ]
     },
     "metadata": {},
     "output_type": "display_data"
    },
    {
     "data": {
      "application/vnd.jupyter.widget-view+json": {
       "model_id": "011477f3445d4a769c5083b8afee0c75",
       "version_major": 2,
       "version_minor": 0
      },
      "text/plain": [
       "Button(children=[Container(children=[Tooltip(bottom=True, children=[''], color='#999999', layout=None, transit…"
      ]
     },
     "metadata": {},
     "output_type": "display_data"
    }
   ],
   "source": [
    "ba = Button('', icon='mdi-sort-ascending',  width=40, iconcolor='black', selected=False, outlined=False)\n",
    "bd = Button('', icon='mdi-sort-descending', width=40, iconcolor='black', selected=True,  outlined=False)\n",
    "display(ba.draw(),bd.draw())"
   ]
  },
  {
   "cell_type": "code",
   "execution_count": 5,
   "id": "8f9d1dd5",
   "metadata": {
    "tags": []
   },
   "outputs": [
    {
     "data": {
      "application/vnd.jupyter.widget-view+json": {
       "model_id": "34e54086b0b54eeb985616e404711b9c",
       "version_major": 2,
       "version_minor": 0
      },
      "text/plain": [
       "button(children=[Container(children=[Tooltip(bottom=True, children=[''], color='#999999', layout=None, transit…"
      ]
     },
     "execution_count": 5,
     "metadata": {},
     "output_type": "execute_result"
    }
   ],
   "source": [
    "b = button.button('Test button', textweight=450, width=250, height=46,\n",
    "           selected=True, rounded=True, \n",
    "           icon='mdi-menu-open', iconcolor='black', iconlarge=True)\n",
    "\n",
    "b.draw()"
   ]
  },
  {
   "cell_type": "code",
   "execution_count": 6,
   "id": "ec32281b",
   "metadata": {
    "tags": []
   },
   "outputs": [],
   "source": [
    "b.setIcon('mdi-menu')"
   ]
  },
  {
   "cell_type": "code",
   "execution_count": 7,
   "id": "d8020645",
   "metadata": {
    "tags": []
   },
   "outputs": [],
   "source": [
    "b.setText('New button text')"
   ]
  },
  {
   "cell_type": "code",
   "execution_count": 8,
   "id": "e2f69560",
   "metadata": {
    "tags": []
   },
   "outputs": [
    {
     "data": {
      "application/vnd.jupyter.widget-view+json": {
       "model_id": "12df8d2d6ca84fb4afd8763f0ae25726",
       "version_major": 2,
       "version_minor": 0
      },
      "text/plain": [
       "button(children=[Container(children=[Tooltip(bottom=True, children=['Example of an extremely long tooltip text…"
      ]
     },
     "metadata": {},
     "output_type": "display_data"
    }
   ],
   "source": [
    "# Icon only button\n",
    "b1 = button.button('', textcolor='#ffffff00', onclick=onclick, argument=1, width=50, small=False, disabled=False, height=\"1.8vh\", outlined=False, \n",
    "            tooltip='Example of an extremely long tooltip text', selected=False, icon='mdi-car-light-high', iconleft=True, iconcolor='black', rounded=True)\n",
    "display(b1.draw())"
   ]
  }
 ],
 "metadata": {
  "kernelspec": {
   "display_name": "Python 3 (ipykernel)",
   "language": "python",
   "name": "python3"
  },
  "language_info": {
   "codemirror_mode": {
    "name": "ipython",
    "version": 3
   },
   "file_extension": ".py",
   "mimetype": "text/x-python",
   "name": "python",
   "nbconvert_exporter": "python",
   "pygments_lexer": "ipython3",
   "version": "3.7.13"
  }
 },
 "nbformat": 4,
 "nbformat_minor": 5
}
