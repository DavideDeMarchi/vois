{
 "cells": [
  {
   "cell_type": "code",
   "execution_count": 6,
   "id": "68f4cc75-ce1d-4ce2-9b22-7418749b61a5",
   "metadata": {},
   "outputs": [],
   "source": [
    "import sys\n",
    "sys.path.append('../../../')\n",
    "\n",
    "import warnings\n",
    "warnings.filterwarnings(\"ignore\", category=DeprecationWarning) \n",
    "\n",
    "\n",
    "from vois.vuetify import settings, Button\n",
    "from vois.vuetify import button"
   ]
  },
  {
   "cell_type": "code",
   "execution_count": 7,
   "id": "84940c4b",
   "metadata": {},
   "outputs": [
    {
     "data": {
      "application/vnd.jupyter.widget-view+json": {
       "model_id": "63e7e7878066498a951847cc79d7f199",
       "version_major": 2,
       "version_minor": 0
      },
      "text/plain": [
       "Button(children=[Container(children=[Tooltip(bottom=True, children=['Example of an extremely long tooltip text…"
      ]
     },
     "metadata": {},
     "output_type": "display_data"
    },
    {
     "data": {
      "application/vnd.jupyter.widget-view+json": {
       "model_id": "04b7363f3f57498693d3cf11d1e0d6c4",
       "version_major": 2,
       "version_minor": 0
      },
      "text/plain": [
       "Button(children=[Container(children=[Tooltip(bottom=True, children=['Example of an extremely long tooltip text…"
      ]
     },
     "metadata": {},
     "output_type": "display_data"
    },
    {
     "data": {
      "application/vnd.jupyter.widget-view+json": {
       "model_id": "1b94eb28537a45d2ad337f1e58409dd2",
       "version_major": 2,
       "version_minor": 0
      },
      "text/plain": [
       "Button(children=[Container(children=[Tooltip(bottom=True, children=['Open a URL'], color='#999999', layout=Non…"
      ]
     },
     "metadata": {},
     "output_type": "display_data"
    }
   ],
   "source": [
    "def onclick(arg=None):\n",
    "    if arg==1:\n",
    "        b1.selected = not b1.selected\n",
    "    else:\n",
    "        b2.selected = not b2.selected\n",
    "\n",
    "b1 = Button('Test button 1', textweight=300, onclick=onclick, argument=1, width=150, small=False, disabled=False, height=36, outlined=False, \n",
    "            tooltip='Example of an extremely long tooltip text', selected=False, icon='mdi-car-light-high', iconleft=True, iconcolor='black', rounded=True)\n",
    "\n",
    "b2 = Button('Test button 2', textweight=450, onclick=onclick, argument=2, width=150, small=False, disabled=False, height=48, outlined=False, \n",
    "            tooltip='Example of an extremely long tooltip text', selected=True, rounded=False, tile=True,\n",
    "            colorselected=settings.color_first, colorunselected='green')\n",
    "\n",
    "b3 = Button('Contacts', onlytext=True, textcolor=settings.color_first, width=150, height=28, href='https://ec.europa.eu/info/contact_en', target=\"_blank\", tooltip='Open a URL')\n",
    "\n",
    "display(b1.draw())\n",
    "display(b2.draw())\n",
    "display(b3.draw())"
   ]
  },
  {
   "cell_type": "code",
   "execution_count": 5,
   "id": "5b902aae",
   "metadata": {},
   "outputs": [
    {
     "data": {
      "application/vnd.jupyter.widget-view+json": {
       "model_id": "ceac8503af584377969fee39d89a97cc",
       "version_major": 2,
       "version_minor": 0
      },
      "text/plain": [
       "Button(children=[Container(children=[Tooltip(bottom=True, children=[''], color='#999999', layout=None, transit…"
      ]
     },
     "metadata": {},
     "output_type": "display_data"
    },
    {
     "data": {
      "application/vnd.jupyter.widget-view+json": {
       "model_id": "09d41605cee34cafab9d802a3de06c80",
       "version_major": 2,
       "version_minor": 0
      },
      "text/plain": [
       "Button(children=[Container(children=[Tooltip(bottom=True, children=[''], color='#999999', layout=None, transit…"
      ]
     },
     "metadata": {},
     "output_type": "display_data"
    }
   ],
   "source": [
    "ba = Button('', icon='mdi-sort-ascending',  width=40, iconcolor='black', selected=False, outlined=False)\n",
    "bd = Button('', icon='mdi-sort-descending', width=40, iconcolor='black', selected=True,  outlined=False)\n",
    "display(ba.draw(),bd.draw())"
   ]
  },
  {
   "cell_type": "code",
   "execution_count": 15,
   "id": "158c674a",
   "metadata": {},
   "outputs": [
    {
     "name": "stderr",
     "output_type": "stream",
     "text": [
      "/Users/edoardo/JRC_Projects/vois/src/vois/vuetify/Tests/../../../vois/vuetify/deprecated/button.py:13: UserWarning: DeprecationWarning: The button class is deprecated, please use Button.\n",
      "  deprecation_class_warning(self.__class__.__name__)\n",
      "/var/folders/ck/zymqlsj957gg49t2l4p7ngfc0000gn/T/ipykernel_20917/2502310903.py:5: UserWarning: DeprecationWarning: The \"draw\" method is deprecated, please just use the object widget itself.\n",
      "  b.draw()\n"
     ]
    },
    {
     "data": {
      "application/vnd.jupyter.widget-view+json": {
       "model_id": "59290b178fbc4745a94092a098156069",
       "version_major": 2,
       "version_minor": 0
      },
      "text/plain": [
       "button(children=[Container(children=[Tooltip(bottom=True, children=[''], color='#999999', layout=None, transit…"
      ]
     },
     "execution_count": 15,
     "metadata": {},
     "output_type": "execute_result"
    }
   ],
   "source": [
    "b = button.button('Test button', textweight=450, width=250, height=46,\n",
    "           selected=True, rounded=True, \n",
    "           icon='mdi-menu-open', iconcolor='black', iconlarge=True)\n",
    "\n",
    "b.draw()"
   ]
  },
  {
   "cell_type": "code",
   "execution_count": 16,
   "id": "41b6c112",
   "metadata": {},
   "outputs": [
    {
     "name": "stderr",
     "output_type": "stream",
     "text": [
      "/var/folders/ck/zymqlsj957gg49t2l4p7ngfc0000gn/T/ipykernel_20917/731926375.py:1: DeprecationWarning: This method is deprecate used instead button_obj.icon = 'your_icon_name'\n",
      "  b.setIcon('mdi-menu')\n"
     ]
    }
   ],
   "source": [
    "b.setIcon('mdi-menu')"
   ]
  },
  {
   "cell_type": "code",
   "execution_count": 17,
   "id": "d86d2b51",
   "metadata": {},
   "outputs": [
    {
     "name": "stderr",
     "output_type": "stream",
     "text": [
      "/var/folders/ck/zymqlsj957gg49t2l4p7ngfc0000gn/T/ipykernel_20917/967366005.py:1: DeprecationWarning: This method is deprecate used instead button_obj.text = 'your_new_text'\n",
      "  b.setText('New button text')\n"
     ]
    }
   ],
   "source": [
    "b.setText('New button text')"
   ]
  },
  {
   "cell_type": "code",
   "execution_count": 19,
   "id": "bcef9929",
   "metadata": {},
   "outputs": [
    {
     "name": "stderr",
     "output_type": "stream",
     "text": [
      "/var/folders/ck/zymqlsj957gg49t2l4p7ngfc0000gn/T/ipykernel_20917/1030447386.py:4: UserWarning: DeprecationWarning: The \"draw\" method is deprecated, please just use the object widget itself.\n",
      "  display(b1.draw())\n"
     ]
    },
    {
     "data": {
      "application/vnd.jupyter.widget-view+json": {
       "model_id": "c976ef5d3f41485abc56dded74cfbb3b",
       "version_major": 2,
       "version_minor": 0
      },
      "text/plain": [
       "button(children=[Container(children=[Tooltip(bottom=True, children=['Example of an extremely long tooltip text…"
      ]
     },
     "metadata": {},
     "output_type": "display_data"
    }
   ],
   "source": [
    "# Icon only button\n",
    "b1 = button.button('', textcolor='#ffffff00', onclick=onclick, argument=1, width=50, small=False, disabled=False, height=\"1.8vh\", outlined=False, \n",
    "            tooltip='Example of an extremely long tooltip text', selected=False, icon='mdi-car-light-high', iconleft=True, iconcolor='black', rounded=True)\n",
    "display(b1.draw())"
   ]
  },
  {
   "cell_type": "code",
   "execution_count": null,
   "id": "e8b4d411",
   "metadata": {},
   "outputs": [],
   "source": []
  }
 ],
 "metadata": {
  "kernelspec": {
   "display_name": "Python 3 (ipykernel)",
   "language": "python",
   "name": "python3"
  },
  "language_info": {
   "codemirror_mode": {
    "name": "ipython",
    "version": 3
   },
   "file_extension": ".py",
   "mimetype": "text/x-python",
   "name": "python",
   "nbconvert_exporter": "python",
   "pygments_lexer": "ipython3",
   "version": "3.12.3"
  }
 },
 "nbformat": 4,
 "nbformat_minor": 5
}
