{
 "cells": [
  {
   "cell_type": "code",
   "execution_count": 3,
   "id": "68f4cc75-ce1d-4ce2-9b22-7418749b61a5",
   "metadata": {},
   "outputs": [],
   "source": [
    "import sys\n",
    "sys.path.append('../../../')\n",
    "\n",
    "from vois.vuetify import settings, Button"
   ]
  },
  {
   "cell_type": "code",
   "execution_count": 6,
   "id": "84940c4b",
   "metadata": {},
   "outputs": [
    {
     "name": "stderr",
     "output_type": "stream",
     "text": [
      "/var/folders/ck/zymqlsj957gg49t2l4p7ngfc0000gn/T/ipykernel_73303/2468068804.py:7: DeprecationWarning: `onclick` is deprecated as an argument to `__init__`; use `on_click` instead.\n",
      "  b1 = Button('Test button 1', textweight=300, onclick=onclick, argument=1, width=150, small=False, disabled=False, height=36, outlined=False,\n",
      "/var/folders/ck/zymqlsj957gg49t2l4p7ngfc0000gn/T/ipykernel_73303/2468068804.py:7: DeprecationWarning: `textweight` is deprecated as an argument to `__init__`; use `textWeight` instead.\n",
      "  b1 = Button('Test button 1', textweight=300, onclick=onclick, argument=1, width=150, small=False, disabled=False, height=36, outlined=False,\n",
      "/var/folders/ck/zymqlsj957gg49t2l4p7ngfc0000gn/T/ipykernel_73303/2468068804.py:7: DeprecationWarning: `iconleft` is deprecated as an argument to `__init__`; use `iconLeft` instead.\n",
      "  b1 = Button('Test button 1', textweight=300, onclick=onclick, argument=1, width=150, small=False, disabled=False, height=36, outlined=False,\n",
      "/var/folders/ck/zymqlsj957gg49t2l4p7ngfc0000gn/T/ipykernel_73303/2468068804.py:7: DeprecationWarning: `iconcolor` is deprecated as an argument to `__init__`; use `iconColor` instead.\n",
      "  b1 = Button('Test button 1', textweight=300, onclick=onclick, argument=1, width=150, small=False, disabled=False, height=36, outlined=False,\n",
      "/var/folders/ck/zymqlsj957gg49t2l4p7ngfc0000gn/T/ipykernel_73303/2468068804.py:10: DeprecationWarning: `onclick` is deprecated as an argument to `__init__`; use `on_click` instead.\n",
      "  b2 = Button('Test button 2', textweight=450, onclick=onclick, argument=2, width=150, small=False, disabled=False, height=48, outlined=False,\n",
      "/var/folders/ck/zymqlsj957gg49t2l4p7ngfc0000gn/T/ipykernel_73303/2468068804.py:10: DeprecationWarning: `textweight` is deprecated as an argument to `__init__`; use `textWeight` instead.\n",
      "  b2 = Button('Test button 2', textweight=450, onclick=onclick, argument=2, width=150, small=False, disabled=False, height=48, outlined=False,\n",
      "/var/folders/ck/zymqlsj957gg49t2l4p7ngfc0000gn/T/ipykernel_73303/2468068804.py:10: DeprecationWarning: `colorselected` is deprecated as an argument to `__init__`; use `colorSelected` instead.\n",
      "  b2 = Button('Test button 2', textweight=450, onclick=onclick, argument=2, width=150, small=False, disabled=False, height=48, outlined=False,\n",
      "/var/folders/ck/zymqlsj957gg49t2l4p7ngfc0000gn/T/ipykernel_73303/2468068804.py:10: DeprecationWarning: `colorunselected` is deprecated as an argument to `__init__`; use `colorUnselected` instead.\n",
      "  b2 = Button('Test button 2', textweight=450, onclick=onclick, argument=2, width=150, small=False, disabled=False, height=48, outlined=False,\n",
      "/var/folders/ck/zymqlsj957gg49t2l4p7ngfc0000gn/T/ipykernel_73303/2468068804.py:14: DeprecationWarning: `onlytext` is deprecated as an argument to `__init__`; use `onlyText` instead.\n",
      "  b3 = Button('Contacts', onlytext=True, textcolor=settings.color_first, width=150, height=28, href='https://ec.europa.eu/info/contact_en', target=\"_blank\", tooltip='Open a URL')\n",
      "/var/folders/ck/zymqlsj957gg49t2l4p7ngfc0000gn/T/ipykernel_73303/2468068804.py:14: DeprecationWarning: `textcolor` is deprecated as an argument to `__init__`; use `textColor` instead.\n",
      "  b3 = Button('Contacts', onlytext=True, textcolor=settings.color_first, width=150, height=28, href='https://ec.europa.eu/info/contact_en', target=\"_blank\", tooltip='Open a URL')\n"
     ]
    },
    {
     "data": {
      "text/plain": [
       "None"
      ]
     },
     "metadata": {},
     "output_type": "display_data"
    },
    {
     "data": {
      "text/plain": [
       "None"
      ]
     },
     "metadata": {},
     "output_type": "display_data"
    },
    {
     "data": {
      "text/plain": [
       "None"
      ]
     },
     "metadata": {},
     "output_type": "display_data"
    }
   ],
   "source": [
    "def onclick(arg=None):\n",
    "    if arg==1:\n",
    "        b1.selected = not b1.selected\n",
    "    else:\n",
    "        b2.selected = not b2.selected\n",
    "\n",
    "b1 = Button('Test button 1', textweight=300, onclick=onclick, argument=1, width=150, small=False, disabled=False, height=36, outlined=False, \n",
    "            tooltip='Example of an extremely long tooltip text', selected=False, icon='mdi-car-light-high', iconleft=True, iconcolor='black', rounded=True)\n",
    "\n",
    "b2 = Button('Test button 2', textweight=450, onclick=onclick, argument=2, width=150, small=False, disabled=False, height=48, outlined=False, \n",
    "            tooltip='Example of an extremely long tooltip text', selected=True, rounded=False, tile=True,\n",
    "            colorselected=settings.color_first, colorunselected='green')\n",
    "\n",
    "b3 = Button('Contacts', onlytext=True, textcolor=settings.color_first, width=150, height=28, href='https://ec.europa.eu/info/contact_en', target=\"_blank\", tooltip='Open a URL')\n",
    "\n",
    "display(b1.draw())\n",
    "display(b2.draw())\n",
    "display(b3.draw())"
   ]
  },
  {
   "cell_type": "code",
   "execution_count": 8,
   "id": "db43ce68-e3fc-4c28-b4a6-de4b4116b762",
   "metadata": {},
   "outputs": [
    {
     "ename": "AttributeError",
     "evalue": "'Button' object has no attribute 'textweight'",
     "output_type": "error",
     "traceback": [
      "\u001b[0;31m---------------------------------------------------------------------------\u001b[0m",
      "\u001b[0;31mAttributeError\u001b[0m                            Traceback (most recent call last)",
      "Cell \u001b[0;32mIn[8], line 1\u001b[0m\n\u001b[0;32m----> 1\u001b[0m b3\u001b[38;5;241m.\u001b[39mtextweight\n",
      "\u001b[0;31mAttributeError\u001b[0m: 'Button' object has no attribute 'textweight'"
     ]
    }
   ],
   "source": [
    "b3.textweight"
   ]
  },
  {
   "cell_type": "code",
   "execution_count": null,
   "id": "5b902aae",
   "metadata": {},
   "outputs": [],
   "source": [
    "ba = Button('', icon='mdi-sort-ascending',  width=40, iconcolor='black', selected=False, outlined=False)\n",
    "bd = Button('', icon='mdi-sort-descending', width=40, iconcolor='black', selected=True,  outlined=False)\n",
    "display(ba.draw(),bd.draw())"
   ]
  },
  {
   "cell_type": "code",
   "execution_count": null,
   "id": "158c674a",
   "metadata": {},
   "outputs": [],
   "source": [
    "%run button.py\n",
    "\n",
    "b = button('Test button', textweight=450, width=250, height=46,\n",
    "           selected=True, rounded=True, \n",
    "           icon='mdi-menu-open', iconcolor='black', iconlarge=True)\n",
    "\n",
    "b.draw()"
   ]
  },
  {
   "cell_type": "code",
   "execution_count": null,
   "id": "41b6c112",
   "metadata": {},
   "outputs": [],
   "source": [
    "b.setIcon('mdi-menu')"
   ]
  },
  {
   "cell_type": "code",
   "execution_count": null,
   "id": "d86d2b51",
   "metadata": {},
   "outputs": [],
   "source": [
    "b.setText('New button text')"
   ]
  },
  {
   "cell_type": "code",
   "execution_count": null,
   "id": "bcef9929",
   "metadata": {},
   "outputs": [],
   "source": [
    "# Icon only button\n",
    "b1 = button('', textcolor='#ffffff00', onclick=onclick, argument=1, width=50, small=False, disabled=False, height=\"1.8vh\", outlined=False, \n",
    "            tooltip='Example of an extremely long tooltip text', selected=False, icon='mdi-car-light-high', iconleft=True, iconcolor='black', rounded=True)\n",
    "display(b1.draw())"
   ]
  },
  {
   "cell_type": "code",
   "execution_count": null,
   "id": "e8b4d411",
   "metadata": {},
   "outputs": [],
   "source": []
  }
 ],
 "metadata": {
  "kernelspec": {
   "display_name": "Python 3 (ipykernel)",
   "language": "python",
   "name": "python3"
  },
  "language_info": {
   "codemirror_mode": {
    "name": "ipython",
    "version": 3
   },
   "file_extension": ".py",
   "mimetype": "text/x-python",
   "name": "python",
   "nbconvert_exporter": "python",
   "pygments_lexer": "ipython3",
   "version": "3.12.3"
  }
 },
 "nbformat": 4,
 "nbformat_minor": 5
}
