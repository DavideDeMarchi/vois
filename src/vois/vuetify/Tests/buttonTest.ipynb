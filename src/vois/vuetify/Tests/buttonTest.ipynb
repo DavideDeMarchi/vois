{
 "cells": [
  {
   "cell_type": "code",
   "execution_count": 1,
   "id": "78293632",
   "metadata": {
    "tags": []
   },
   "outputs": [],
   "source": [
    "import importlib.util\n",
    "import sys\n",
    "\n",
    "spec = importlib.util.spec_from_file_location(\"vois\", \"../../__init__.py\")\n",
    "module = importlib.util.module_from_spec(spec)\n",
    "sys.modules['vois'] = module\n",
    "spec.loader.exec_module(module)\n",
    "\n",
    "import warnings\n",
    "warnings.filterwarnings(\"ignore\", category=DeprecationWarning) \n",
    "\n",
    "from vois.vuetify import settings, Button\n",
    "from vois.vuetify import button"
   ]
  },
  {
   "cell_type": "code",
   "execution_count": 8,
   "id": "65048188",
   "metadata": {
    "tags": []
   },
   "outputs": [
    {
     "data": {
      "application/vnd.jupyter.widget-view+json": {
       "model_id": "6b668370f97a4a0b8dad13bfe615cc35",
       "version_major": 2,
       "version_minor": 0
      },
      "text/plain": [
       "Button(children=[Container(children=[Tooltip(bottom=True, children=['Example of an extremely long tooltip text…"
      ]
     },
     "metadata": {},
     "output_type": "display_data"
    },
    {
     "data": {
      "application/vnd.jupyter.widget-view+json": {
       "model_id": "28ba9d98f3bc443884e382e825573374",
       "version_major": 2,
       "version_minor": 0
      },
      "text/plain": [
       "Button(children=[Container(children=[Tooltip(bottom=True, children=['Example of an extremely long tooltip text…"
      ]
     },
     "metadata": {},
     "output_type": "display_data"
    },
    {
     "data": {
      "application/vnd.jupyter.widget-view+json": {
       "model_id": "c0a0ec1ba1c14d5ca285f3f7e8f13291",
       "version_major": 2,
       "version_minor": 0
      },
      "text/plain": [
       "Button(children=[Container(children=[Tooltip(bottom=True, children=['Open a URL'], color='#999999', layout=Non…"
      ]
     },
     "metadata": {},
     "output_type": "display_data"
    }
   ],
   "source": [
    "def onclick(arg=None):\n",
    "    if arg==1:\n",
    "        b1.selected = not b1.selected\n",
    "    else:\n",
    "        b2.selected = not b2.selected\n",
    "\n",
    "b1 = Button('Test button 1', textweight=300, onclick=onclick, argument=1, width=150, small=False, disabled=False, height=36, outlined=False, \n",
    "            tooltip='Example of an extremely long tooltip text', selected=False, icon='mdi-car-light-high', iconleft=True, iconcolor='black', rounded=True)\n",
    "\n",
    "b2 = Button('Test button 2', textweight=450, onclick=onclick, argument=2, width=150, small=False, disabled=False, height=48, outlined=False, \n",
    "            tooltip='Example of an extremely long tooltip text', selected=True, rounded=False, tile=True,\n",
    "            colorselected=settings.color_first, colorunselected='green')\n",
    "\n",
    "b3 = Button('Contacts', onlytext=True, textcolor=settings.color_first, width=150, height=28, href='https://ec.europa.eu/info/contact_en', target=\"_blank\", tooltip='Open a URL')\n",
    "\n",
    "display(b1)\n",
    "display(b2.draw())\n",
    "display(b3.draw())"
   ]
  },
  {
   "cell_type": "code",
   "execution_count": 3,
   "id": "e60ca09e",
   "metadata": {
    "tags": []
   },
   "outputs": [
    {
     "data": {
      "application/vnd.jupyter.widget-view+json": {
       "model_id": "f97565449f3943a3a7807f5d8f7c0067",
       "version_major": 2,
       "version_minor": 0
      },
      "text/plain": [
       "Button(children=[Container(children=[Tooltip(bottom=True, children=[''], color='#999999', layout=None, transit…"
      ]
     },
     "metadata": {},
     "output_type": "display_data"
    },
    {
     "data": {
      "application/vnd.jupyter.widget-view+json": {
       "model_id": "e002402fbf4e423d8ec838a5a55e39d2",
       "version_major": 2,
       "version_minor": 0
      },
      "text/plain": [
       "Button(children=[Container(children=[Tooltip(bottom=True, children=[''], color='#999999', layout=None, transit…"
      ]
     },
     "metadata": {},
     "output_type": "display_data"
    }
   ],
   "source": [
    "ba = Button('', icon='mdi-sort-ascending',  width=40, iconcolor='black', selected=False, outlined=False)\n",
    "bd = Button('', icon='mdi-sort-descending', width=40, iconcolor='black', selected=True,  outlined=False)\n",
    "display(ba.draw(),bd.draw())"
   ]
  },
  {
   "cell_type": "code",
   "execution_count": 4,
   "id": "e8ea29d2",
   "metadata": {
    "tags": []
   },
   "outputs": [
    {
     "data": {
      "application/vnd.jupyter.widget-view+json": {
       "model_id": "a5426322c53d474b9cdb80f7e2915f47",
       "version_major": 2,
       "version_minor": 0
      },
      "text/plain": [
       "button(children=[Container(children=[Tooltip(bottom=True, children=[''], color='#999999', layout=None, transit…"
      ]
     },
     "execution_count": 4,
     "metadata": {},
     "output_type": "execute_result"
    }
   ],
   "source": [
    "b = button.button('Test button', textweight=450, width=250, height=46,\n",
    "           selected=True, rounded=True, \n",
    "           icon='mdi-menu-open', iconcolor='black', iconlarge=True)\n",
    "\n",
    "b.draw()"
   ]
  },
  {
   "cell_type": "code",
   "execution_count": 5,
   "id": "4254d3bd",
   "metadata": {
    "tags": []
   },
   "outputs": [],
   "source": [
    "b.setIcon('mdi-menu')"
   ]
  },
  {
   "cell_type": "code",
   "execution_count": 6,
   "id": "baf3f094",
   "metadata": {
    "tags": []
   },
   "outputs": [],
   "source": [
    "b.setText('New button text')"
   ]
  },
  {
   "cell_type": "code",
   "execution_count": 7,
   "id": "9e3ba88d",
   "metadata": {
    "tags": []
   },
   "outputs": [
    {
     "data": {
      "application/vnd.jupyter.widget-view+json": {
       "model_id": "2d4231806cfe4e31a5b26489f940fe5d",
       "version_major": 2,
       "version_minor": 0
      },
      "text/plain": [
       "button(children=[Container(children=[Tooltip(bottom=True, children=['Example of an extremely long tooltip text…"
      ]
     },
     "metadata": {},
     "output_type": "display_data"
    }
   ],
   "source": [
    "# Icon only button\n",
    "b1 = button.button('', textcolor='#ffffff00', onclick=onclick, argument=1, width=50, small=False, disabled=False, height=\"1.8vh\", outlined=False, \n",
    "            tooltip='Example of an extremely long tooltip text', selected=False, icon='mdi-car-light-high', iconleft=True, iconcolor='black', rounded=True)\n",
    "display(b1.draw())"
   ]
  },
  {
   "cell_type": "code",
   "execution_count": null,
   "id": "6949e626",
   "metadata": {},
   "outputs": [],
   "source": []
  }
 ],
 "metadata": {
  "kernelspec": {
   "display_name": "Python 3 (ipykernel)",
   "language": "python",
   "name": "python3"
  },
  "language_info": {
   "codemirror_mode": {
    "name": "ipython",
    "version": 3
   },
   "file_extension": ".py",
   "mimetype": "text/x-python",
   "name": "python",
   "nbconvert_exporter": "python",
   "pygments_lexer": "ipython3",
   "version": "3.7.13"
  }
 },
 "nbformat": 4,
 "nbformat_minor": 5
}
