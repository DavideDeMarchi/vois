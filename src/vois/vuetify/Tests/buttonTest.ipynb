{
 "cells": [
  {
   "cell_type": "code",
   "execution_count": null,
   "id": "cb7d67c9",
   "metadata": {
    "tags": []
   },
   "outputs": [],
   "source": [
    "# To load local vois library with ignore on deprecation warnings\n",
    "%run ../../development/load_local_vois.py -w\n",
    "\n",
    "from vois.vuetify import settings\n",
    "settings.color_first    = '#1976D2'\n",
    "settings.color_second   = '#78ccff'\n",
    "settings.button_rounded = False\n",
    "settings.dark_mode      = True\n",
    "\n",
    "from vois.vuetify import Button\n",
    "\n",
    "b = Button('Sample button with icon and tooltip', width=360, height=42, tooltip='Tooltip for button', selected=True, icon='mdi-cogs')\n",
    "b"
   ]
  },
  {
   "cell_type": "code",
   "execution_count": null,
   "id": "77e17994",
   "metadata": {
    "tags": []
   },
   "outputs": [],
   "source": [
    "from vois.vuetify import settings, Button\n",
    "from vois.vuetify import button"
   ]
  },
  {
   "cell_type": "code",
   "execution_count": null,
   "id": "3da1d456",
   "metadata": {
    "tags": []
   },
   "outputs": [],
   "source": [
    "def onclick(arg=None):\n",
    "    if arg==1:\n",
    "        b1.selected = not b1.selected\n",
    "    else:\n",
    "        b2.selected = not b2.selected\n",
    "\n",
    "b1 = Button('Test button 1', textweight=300, onclick=onclick, argument=1, width=150, small=False, disabled=False, height=36, outlined=False, \n",
    "            tooltip='Example of an extremely long tooltip text', selected=False, icon='mdi-car-light-high', iconleft=True, iconcolor='#008800', rounded=True)\n",
    "\n",
    "b2 = Button('Test button 2', textweight=450, onclick=onclick, argument=2, width=150, small=False, disabled=False, height=48, outlined=False, \n",
    "            tooltip='Example of an extremely long tooltip text', selected=True, rounded=False, tile=False,\n",
    "           )\n",
    "            #colorselected=settings.color_first, colorunselected='green')\n",
    "\n",
    "b3 = Button('Contacts', onlytext=True, textcolor=settings.color_first, width=150, height=28, href='https://ec.europa.eu/info/', target=\"_blank\", tooltip='Open a URL')\n",
    "\n",
    "display(b1)\n",
    "display(b2.draw())\n",
    "display(b3.draw())"
   ]
  },
  {
   "cell_type": "code",
   "execution_count": null,
   "id": "2b6bf4e4-0252-4e9f-9d2d-c35b3af0ee6f",
   "metadata": {
    "tags": []
   },
   "outputs": [],
   "source": [
    "b1.dark = False\n",
    "b1.rounded = False\n",
    "b2.rounded = True"
   ]
  },
  {
   "cell_type": "code",
   "execution_count": null,
   "id": "5a3637ae",
   "metadata": {
    "tags": []
   },
   "outputs": [],
   "source": [
    "ba = Button('', icon='mdi-sort-ascending',  width=40, iconcolor='black', selected=False, outlined=False)\n",
    "bd = Button('', icon='mdi-sort-descending', width=40, iconcolor='black', selected=True,  outlined=False)\n",
    "display(ba.draw(),bd.draw())"
   ]
  },
  {
   "cell_type": "code",
   "execution_count": null,
   "id": "8f9d1dd5",
   "metadata": {
    "tags": []
   },
   "outputs": [],
   "source": [
    "b = button.button('Test button', textweight=450, width=250, height=46,\n",
    "           selected=True, rounded=True, \n",
    "           icon='mdi-menu-open', iconcolor='black', iconlarge=True)\n",
    "\n",
    "b.draw()"
   ]
  },
  {
   "cell_type": "code",
   "execution_count": null,
   "id": "ec32281b",
   "metadata": {
    "tags": []
   },
   "outputs": [],
   "source": [
    "b.setIcon('mdi-menu')"
   ]
  },
  {
   "cell_type": "code",
   "execution_count": null,
   "id": "d8020645",
   "metadata": {
    "tags": []
   },
   "outputs": [],
   "source": [
    "b.setText('New button text')"
   ]
  },
  {
   "cell_type": "code",
   "execution_count": null,
   "id": "e2f69560",
   "metadata": {
    "tags": []
   },
   "outputs": [],
   "source": [
    "# Icon only button\n",
    "b1 = button.button('', textcolor='#ffffff00', onclick=onclick, argument=1, width=50, small=False, disabled=False, height=\"1.8vh\", outlined=False, \n",
    "            tooltip='Example of an extremely long tooltip text', selected=False, icon='mdi-car-light-high', iconleft=True, iconcolor='black', rounded=True)\n",
    "display(b1.draw())"
   ]
  }
 ],
 "metadata": {
  "kernelspec": {
   "display_name": "Python 3 (ipykernel)",
   "language": "python",
   "name": "python3"
  },
  "language_info": {
   "codemirror_mode": {
    "name": "ipython",
    "version": 3
   },
   "file_extension": ".py",
   "mimetype": "text/x-python",
   "name": "python",
   "nbconvert_exporter": "python",
   "pygments_lexer": "ipython3",
   "version": "3.11.9"
  }
 },
 "nbformat": 4,
 "nbformat_minor": 5
}
