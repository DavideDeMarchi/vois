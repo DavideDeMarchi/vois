{
 "cells": [
  {
   "cell_type": "code",
   "execution_count": null,
   "id": "d7b41f34",
   "metadata": {
    "tags": []
   },
   "outputs": [],
   "source": [
    "# To load local vois library with ignore on deprecation warnings\n",
    "%run ../../development/load_local_vois.py -w\n",
    "\n",
    "%run ../toggle.py\n",
    "\n",
    "from ipywidgets import widgets\n",
    "output = widgets.Output()\n",
    "\n",
    "def onchange(value):\n",
    "    with output:\n",
    "        print(value)\n",
    "\n",
    "t = toggle(0, ['Label1', 'Label2 is a very long label', 'Label3 is also very long'], tooltips=['Tooltip for label1'], #xsmall=True, height=20,\n",
    "           onchange=onchange, row=False, width=250, justify='start', rounded=False, outlined=False, dark=False, paddingcol=1)\n",
    "\n",
    "display(t.draw())\n",
    "display(output)"
   ]
  },
  {
   "cell_type": "code",
   "execution_count": null,
   "id": "4a91442d-b046-4639-8612-83db275a2c61",
   "metadata": {
    "tags": []
   },
   "outputs": [],
   "source": [
    "t = toggle(0, ['', '', ''], tooltips=['Tooltip for label1'], icons=['', '', ''],\n",
    "           row=True, width=250, justify='start', rounded=False, outlined=False, dark=False, paddingcol=1)\n",
    "\n",
    "display(t.draw())"
   ]
  },
  {
   "cell_type": "code",
   "execution_count": null,
   "id": "aa6c67b9-735a-495e-85bc-b2c6a660f8b0",
   "metadata": {
    "tags": []
   },
   "outputs": [],
   "source": [
    "t.colorselected   = '#ffdd00'\n",
    "t.colorunselected = '#00ffdd'"
   ]
  },
  {
   "cell_type": "code",
   "execution_count": null,
   "id": "d9ebadc8",
   "metadata": {},
   "outputs": [],
   "source": [
    "t.value = 2"
   ]
  },
  {
   "cell_type": "code",
   "execution_count": null,
   "id": "da728d3c",
   "metadata": {},
   "outputs": [],
   "source": [
    "# Tiled toggle (no space between buttons and buttons completely squared)\n",
    "%run ../toggle.py\n",
    "\n",
    "from ipywidgets import widgets\n",
    "from IPython.display import display\n",
    "\n",
    "output = widgets.Output()\n",
    "\n",
    "def onchange(index):\n",
    "    with output:\n",
    "        print(index)\n",
    "\n",
    "t = toggle(0, ['Option 1', 'Option 2', 'Option 3'], tooltips=['Tooltip for option 1'],\n",
    "           onchange=onchange, row=True, width=150, rounded=False, justify='start', paddingrow=0, tile=True)\n",
    "\n",
    "display(t.draw())\n",
    "display(output)"
   ]
  },
  {
   "cell_type": "code",
   "execution_count": null,
   "id": "4985f667-5317-4c4e-922c-167f235d3e27",
   "metadata": {},
   "outputs": [],
   "source": [
    "# Icons toggle\n",
    "%run ../toggle.py\n",
    "\n",
    "from ipywidgets import widgets\n",
    "from IPython.display import display\n",
    "\n",
    "output = widgets.Output()\n",
    "\n",
    "def onchange(index):\n",
    "    with output:\n",
    "        print(index)\n",
    "\n",
    "t = toggle(0, ['', '', ''], icons=['mdi-file-word-box-outline', 'mdi-file-word-box', 'mdi-auto-fix'], tooltips=['White text', 'Black text', 'Auto set text color'],\n",
    "           onchange=onchange, row=True, width=50, rounded=False, justify='start', paddingrow=0, tile=True)\n",
    "\n",
    "display(t.draw())\n",
    "display(output)"
   ]
  },
  {
   "cell_type": "code",
   "execution_count": null,
   "id": "4744d44b",
   "metadata": {},
   "outputs": [],
   "source": []
  }
 ],
 "metadata": {
  "kernelspec": {
   "display_name": "Python [interapro_env]",
   "language": "python",
   "name": "conda-env-interapro_env-py"
  },
  "language_info": {
   "codemirror_mode": {
    "name": "ipython",
    "version": 3
   },
   "file_extension": ".py",
   "mimetype": "text/x-python",
   "name": "python",
   "nbconvert_exporter": "python",
   "pygments_lexer": "ipython3",
   "version": "3.11.6"
  }
 },
 "nbformat": 4,
 "nbformat_minor": 5
}
