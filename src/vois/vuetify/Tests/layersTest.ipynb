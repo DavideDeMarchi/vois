{
 "cells": [
  {
   "cell_type": "markdown",
   "id": "d016ede6",
   "metadata": {},
   "source": [
    "TODO LIST:\n",
    "\n",
    "- Start developing the widget to control the layers:\n",
    "    - (OK) opacity\n",
    "    - (OK) show/hide\n",
    "    - (OK) move up/down\n",
    "    - (OK) remove\n",
    "    - (OK) add new layer\n",
    "    - legend that can be opened\n",
    "    - name\n",
    "    - expandable description"
   ]
  },
  {
   "cell_type": "code",
   "execution_count": null,
   "id": "ca0e6257",
   "metadata": {
    "tags": []
   },
   "outputs": [],
   "source": [
    "# To load local vois library with ignore on deprecation warnings\n",
    "%run ../../development/load_local_vois.py -w\n",
    "\n",
    "# Management of layers in a ipyleaflet map\n",
    "import ipyleaflet\n",
    "from jeodpp import inter, imap\n",
    "from ipywidgets import widgets, Layout\n",
    "\n",
    "%run ../layers.py\n",
    "\n",
    "layer1 = interaproLayer('Merit DEM',    path=inter.collections.BaseData.Elevation.MERIT.Hillshade) #, opacity=0.4)\n",
    "layer2 = interaproLayer('Corine 2018',  path=inter.collections.BaseData.Landcover.CLC2018)\n",
    "layer3 = interaproLayer('Gisco Labels', path=inter.collections.Basemaps.Gisco.OSMCartoLabels)\n",
    "\n",
    "height = 500\n",
    "m = imap.Map(layout=Layout(height='%dpx'%height))\n",
    "\n",
    "m.add_layer(layer1.tileLayer())\n",
    "m.add_layer(layer2.tileLayer())\n",
    "m.add_layer(layer3.tileLayer())\n",
    "\n",
    "ly = layers(m, width=400, dark=False)\n",
    "\n",
    "#m.layersControl()\n",
    "widgets.HBox([ly.draw(),m])"
   ]
  },
  {
   "cell_type": "code",
   "execution_count": null,
   "id": "e77f8336",
   "metadata": {},
   "outputs": [],
   "source": [
    "# Management of Basemap and layers in a ipyleaflet map\n",
    "import ipyleaflet\n",
    "from jeodpp import inter, imap\n",
    "from ipywidgets import widgets, Layout\n",
    "\n",
    "import basemaps, tabs\n",
    "\n",
    "%run layers.py\n",
    "\n",
    "width  = 360\n",
    "height = 510\n",
    "dark   = False\n",
    "\n",
    "outbasemaps = widgets.Output(layout=Layout(width='%dpx'%width, height='%dpx'%height))\n",
    "outlayers   = widgets.Output(layout=Layout(width='%dpx'%width, height='%dpx'%height))\n",
    "\n",
    "layer1 = interaproLayer('Merit DEM',    path=inter.collections.BaseData.Elevation.MERIT.Hillshade) #, opacity=0.4)\n",
    "layer2 = interaproLayer('Corine 2018',  path=inter.collections.BaseData.Landcover.CLC2018)\n",
    "layer3 = interaproLayer('Gisco Labels', path=inter.collections.Basemaps.Gisco.OSMCartoLabels)\n",
    "\n",
    "m = imap.Map(layout=Layout(height='%dpx'%height))\n",
    "#m.layersControl()\n",
    "\n",
    "m.add_layer(layer1.tileLayer())\n",
    "m.add_layer(layer2.tileLayer())\n",
    "m.add_layer(layer3.tileLayer())\n",
    "\n",
    "#wms = WMSLayer(\n",
    "#    name='Nexrad WMS',\n",
    "#    url='http://mesonet.agron.iastate.edu/cgi-bin/wms/nexrad/n0r.cgi',\n",
    "#    layers='nexrad-n0r-900913',\n",
    "#    format='image/png',\n",
    "#    transparent=True,\n",
    "#    attribution='Weather data © 2012 IEM Nexrad')\n",
    "#m.add_layer(wms)\n",
    "\n",
    "\n",
    "#image = ImageOverlay(\n",
    "#    name='ImageOverlay',\n",
    "#    url=\"https://i.imgur.com/06Q1fSz.png\",\n",
    "#    bounds=((13, -130), (32, -100)))\n",
    "#m.add_layer(image);\n",
    "\n",
    "b = basemaps.basemaps(m, height=height-10, dark=dark)\n",
    "with outbasemaps:\n",
    "    display(b.draw())\n",
    "\n",
    "ly = layers(m, width=width-10, dark=dark)\n",
    "with outlayers:\n",
    "    display(ly.draw())\n",
    "    \n",
    "t = tabs.tabs(1, ['Basemap', 'Layers'], contents=[outbasemaps,outlayers], dark=dark, row=True)\n",
    "widgets.HBox([t.draw(),m])"
   ]
  },
  {
   "cell_type": "code",
   "execution_count": null,
   "id": "fe3a213d",
   "metadata": {},
   "outputs": [],
   "source": []
  },
  {
   "cell_type": "code",
   "execution_count": null,
   "id": "335544f8",
   "metadata": {},
   "outputs": [],
   "source": [
    "ly.layers"
   ]
  },
  {
   "cell_type": "code",
   "execution_count": null,
   "id": "279c7f4e",
   "metadata": {},
   "outputs": [],
   "source": [
    "ly.map.layers"
   ]
  },
  {
   "cell_type": "code",
   "execution_count": null,
   "id": "07606f4c",
   "metadata": {},
   "outputs": [],
   "source": [
    "ly.s.items"
   ]
  },
  {
   "cell_type": "code",
   "execution_count": null,
   "id": "4b094941",
   "metadata": {},
   "outputs": [],
   "source": []
  }
 ],
 "metadata": {
  "kernelspec": {
   "display_name": "Python [interapro_env]",
   "language": "python",
   "name": "conda-env-interapro_env-py"
  },
  "language_info": {
   "codemirror_mode": {
    "name": "ipython",
    "version": 3
   },
   "file_extension": ".py",
   "mimetype": "text/x-python",
   "name": "python",
   "nbconvert_exporter": "python",
   "pygments_lexer": "ipython3",
   "version": "3.11.6"
  }
 },
 "nbformat": 4,
 "nbformat_minor": 5
}
