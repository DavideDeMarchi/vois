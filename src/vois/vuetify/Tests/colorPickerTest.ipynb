{
 "cells": [
  {
   "cell_type": "code",
   "execution_count": 4,
   "id": "9ce88e73",
   "metadata": {
    "tags": []
   },
   "outputs": [
    {
     "data": {
      "application/vnd.jupyter.widget-view+json": {
       "model_id": "80dd56ec239a4ecab9b0de8174773aae",
       "version_major": 2,
       "version_minor": 0
      },
      "text/plain": [
       "colorPicker(children=[ColorPicker(canvas_height=100.0, class_='pa-0 ma-0', dark=False, flat=True, hide_canvas=…"
      ]
     },
     "metadata": {},
     "output_type": "display_data"
    },
    {
     "data": {
      "application/vnd.jupyter.widget-view+json": {
       "model_id": "8cb7a6280a1b40dba46c9745da19c385",
       "version_major": 2,
       "version_minor": 0
      },
      "text/plain": [
       "Output()"
      ]
     },
     "metadata": {},
     "output_type": "display_data"
    }
   ],
   "source": [
    "# To load local vois library with ignore on deprecation warnings\n",
    "%run ../../development/load_local_vois.py -w\n",
    "\n",
    "from vois.vuetify import colorPicker\n",
    "\n",
    "from ipywidgets import widgets\n",
    "from IPython.display import display\n",
    "\n",
    "output = widgets.Output()\n",
    "\n",
    "def onchange():\n",
    "    with output:\n",
    "        print('Changed to', c.color)\n",
    "\n",
    "c = colorPicker.colorPicker(color='#00AAFF', width=50, height=30, rounded=False, onchange=onchange, argument=None, offset_x=True, offset_y=False)\n",
    "\n",
    "display(c.draw())\n",
    "display(output)"
   ]
  },
  {
   "cell_type": "code",
   "execution_count": 7,
   "id": "cd8f5e55-d870-4a31-af2c-eaf4b30e3b53",
   "metadata": {
    "tags": []
   },
   "outputs": [],
   "source": [
    "c.disabled = True"
   ]
  },
  {
   "cell_type": "code",
   "execution_count": 9,
   "id": "ac67c6a9-80e0-419e-907f-58f40fa97b8f",
   "metadata": {
    "tags": []
   },
   "outputs": [],
   "source": [
    "c.dark_text = True"
   ]
  },
  {
   "cell_type": "code",
   "execution_count": 8,
   "id": "81249ebd",
   "metadata": {
    "tags": []
   },
   "outputs": [],
   "source": [
    "c.disabled = False"
   ]
  },
  {
   "cell_type": "code",
   "execution_count": null,
   "id": "965c2d6d-14d7-4329-91cc-4663027e02a8",
   "metadata": {},
   "outputs": [],
   "source": []
  }
 ],
 "metadata": {
  "kernelspec": {
   "display_name": "Python 3 (ipykernel)",
   "language": "python",
   "name": "python3"
  },
  "language_info": {
   "codemirror_mode": {
    "name": "ipython",
    "version": 3
   },
   "file_extension": ".py",
   "mimetype": "text/x-python",
   "name": "python",
   "nbconvert_exporter": "python",
   "pygments_lexer": "ipython3",
   "version": "3.11.9"
  }
 },
 "nbformat": 4,
 "nbformat_minor": 5
}
