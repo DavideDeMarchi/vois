{
 "cells": [
  {
   "cell_type": "code",
   "execution_count": null,
   "id": "9ce88e73",
   "metadata": {
    "tags": []
   },
   "outputs": [],
   "source": [
    "# To load local vois library with ignore on deprecation warnings\n",
    "%run ../../development/load_local_vois.py -w\n",
    "\n",
    "%run ../ColorPicker.py\n",
    "\n",
    "from ipywidgets import widgets\n",
    "from IPython.display import display\n",
    "import ipyvuetify as v\n",
    "\n",
    "output = widgets.Output()\n",
    "\n",
    "def onchange():\n",
    "    with output:\n",
    "        print('Changed to', cp.color)\n",
    "\n",
    "cp = ColorPicker(color='#00AAFF', width=50, height=30, rounded=False, onchange=onchange, argument=None, offset_x=True, offset_y=False, color_theory_popup=True)\n",
    "card = v.Card(flag=True, children=[widgets.HBox([cp, cp.ctpopup.draw()])])\n",
    "display(card)\n",
    "display(output)"
   ]
  },
  {
   "cell_type": "code",
   "execution_count": null,
   "id": "cd8f5e55-d870-4a31-af2c-eaf4b30e3b53",
   "metadata": {
    "tags": []
   },
   "outputs": [],
   "source": [
    "cp.disabled = True"
   ]
  },
  {
   "cell_type": "code",
   "execution_count": null,
   "id": "ac67c6a9-80e0-419e-907f-58f40fa97b8f",
   "metadata": {
    "tags": []
   },
   "outputs": [],
   "source": [
    "cp.dark_text = True"
   ]
  },
  {
   "cell_type": "code",
   "execution_count": null,
   "id": "81249ebd",
   "metadata": {
    "tags": []
   },
   "outputs": [],
   "source": [
    "cp.disabled = False"
   ]
  },
  {
   "cell_type": "code",
   "execution_count": null,
   "id": "02a56e4d-f02c-419a-94ea-64df2190b95b",
   "metadata": {
    "tags": []
   },
   "outputs": [],
   "source": [
    "cp.ctpopup.popup.btn.v_model = False"
   ]
  },
  {
   "cell_type": "code",
   "execution_count": null,
   "id": "b4b8e09d-c665-4499-90f2-7b6f5b9e6c44",
   "metadata": {
    "tags": []
   },
   "outputs": [],
   "source": [
    "cp.ctpopup.popup.btn.v_on"
   ]
  },
  {
   "cell_type": "code",
   "execution_count": null,
   "id": "c0950312-6722-4c50-9959-4cd16383183a",
   "metadata": {
    "tags": []
   },
   "outputs": [],
   "source": [
    "cp.ctpopup.popup.menu.v_model = True"
   ]
  },
  {
   "cell_type": "code",
   "execution_count": null,
   "id": "f3e1e0b4-750a-46c4-bc98-90f8db72f1ca",
   "metadata": {},
   "outputs": [],
   "source": []
  }
 ],
 "metadata": {
  "kernelspec": {
   "display_name": "Python 3 (ipykernel)",
   "language": "python",
   "name": "python3"
  },
  "language_info": {
   "codemirror_mode": {
    "name": "ipython",
    "version": 3
   },
   "file_extension": ".py",
   "mimetype": "text/x-python",
   "name": "python",
   "nbconvert_exporter": "python",
   "pygments_lexer": "ipython3",
   "version": "3.11.9"
  }
 },
 "nbformat": 4,
 "nbformat_minor": 5
}
