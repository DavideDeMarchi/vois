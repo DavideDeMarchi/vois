{
 "cells": [
  {
   "cell_type": "code",
   "execution_count": 1,
   "id": "c28df0f6-afef-4679-8af5-633d20985ffa",
   "metadata": {
    "tags": []
   },
   "outputs": [],
   "source": [
    "# To load local vois library with ignore on deprecation warnings\n",
    "%run ../../development/load_local_vois.py -w"
   ]
  },
  {
   "cell_type": "code",
   "execution_count": 2,
   "id": "9ce88e73",
   "metadata": {
    "tags": []
   },
   "outputs": [
    {
     "data": {
      "application/vnd.jupyter.widget-view+json": {
       "model_id": "c8e6581b63ac480caa1993f76b5ffe2a",
       "version_major": 2,
       "version_minor": 0
      },
      "text/plain": [
       "colorPicker(children=[ColorPicker(canvas_height=100.0, class_='pa-0 ma-0', dark=False, flat=True, hide_canvas=…"
      ]
     },
     "metadata": {},
     "output_type": "display_data"
    },
    {
     "data": {
      "application/vnd.jupyter.widget-view+json": {
       "model_id": "1c50559a3e0a4523a5a828a304baff2c",
       "version_major": 2,
       "version_minor": 0
      },
      "text/plain": [
       "Output()"
      ]
     },
     "metadata": {},
     "output_type": "display_data"
    }
   ],
   "source": [
    "from vois.vuetify import colorPicker\n",
    "\n",
    "from ipywidgets import widgets\n",
    "from IPython.display import display\n",
    "\n",
    "output = widgets.Output()\n",
    "\n",
    "def onchange():\n",
    "    with output:\n",
    "        print('Changed to', c.color)\n",
    "\n",
    "c = colorPicker.colorPicker(color='#00AAFF', width=30, height=30, rounded=False, onchange=onchange, argument=None, offset_x=True, offset_y=False)\n",
    "\n",
    "display(c.draw())\n",
    "display(output)"
   ]
  },
  {
   "cell_type": "code",
   "execution_count": 3,
   "id": "6ffdbc94",
   "metadata": {
    "tags": []
   },
   "outputs": [],
   "source": [
    "c.color = '#00FF88'"
   ]
  },
  {
   "cell_type": "code",
   "execution_count": 4,
   "id": "5f587f2c",
   "metadata": {
    "tags": []
   },
   "outputs": [],
   "source": [
    "c.disabled = True"
   ]
  },
  {
   "cell_type": "code",
   "execution_count": 5,
   "id": "81249ebd",
   "metadata": {
    "tags": []
   },
   "outputs": [],
   "source": [
    "c.disabled = False"
   ]
  }
 ],
 "metadata": {
  "kernelspec": {
   "display_name": "Python 3 (ipykernel)",
   "language": "python",
   "name": "python3"
  },
  "language_info": {
   "codemirror_mode": {
    "name": "ipython",
    "version": 3
   },
   "file_extension": ".py",
   "mimetype": "text/x-python",
   "name": "python",
   "nbconvert_exporter": "python",
   "pygments_lexer": "ipython3",
   "version": "3.12.3"
  }
 },
 "nbformat": 4,
 "nbformat_minor": 5
}
