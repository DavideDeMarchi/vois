{
 "cells": [
  {
   "cell_type": "code",
   "execution_count": 1,
   "id": "9ce88e73",
   "metadata": {
    "tags": []
   },
   "outputs": [
    {
     "data": {
      "application/vnd.jupyter.widget-view+json": {
       "model_id": "19dc873f64e24c9b8c3fed814ce0bffb",
       "version_major": 2,
       "version_minor": 0
      },
      "text/plain": [
       "colorPicker(children=[ColorPicker(canvas_height=100.0, class_='pa-0 ma-0', dark=False, flat=True, hide_canvas=…"
      ]
     },
     "metadata": {},
     "output_type": "display_data"
    },
    {
     "data": {
      "application/vnd.jupyter.widget-view+json": {
       "model_id": "c053221fa11040db87d6f63673497dcf",
       "version_major": 2,
       "version_minor": 0
      },
      "text/plain": [
       "Output()"
      ]
     },
     "metadata": {},
     "output_type": "display_data"
    }
   ],
   "source": [
    "# To load local vois library with ignore on deprecation warnings\n",
    "%run ../../development/load_local_vois.py -w\n",
    "\n",
    "from vois.vuetify import colorPicker\n",
    "\n",
    "from ipywidgets import widgets\n",
    "from IPython.display import display\n",
    "\n",
    "output = widgets.Output()\n",
    "\n",
    "def onchange():\n",
    "    with output:\n",
    "        print('Changed to', c.color)\n",
    "\n",
    "c = colorPicker.colorPicker(color='#00AAFF', width=30, height=30, rounded=False, onchange=onchange, argument=None, offset_x=True, offset_y=False)\n",
    "\n",
    "display(c.draw())\n",
    "display(output)"
   ]
  },
  {
   "cell_type": "code",
   "execution_count": 8,
   "id": "6ffdbc94",
   "metadata": {
    "tags": []
   },
   "outputs": [],
   "source": [
    "c.color = '#00FF88'"
   ]
  },
  {
   "cell_type": "code",
   "execution_count": 2,
   "id": "5f587f2c",
   "metadata": {
    "tags": []
   },
   "outputs": [],
   "source": [
    "c.disabled = True"
   ]
  },
  {
   "cell_type": "code",
   "execution_count": 4,
   "id": "81249ebd",
   "metadata": {
    "tags": []
   },
   "outputs": [],
   "source": [
    "c.disabled = False"
   ]
  },
  {
   "cell_type": "code",
   "execution_count": null,
   "id": "965c2d6d-14d7-4329-91cc-4663027e02a8",
   "metadata": {},
   "outputs": [],
   "source": []
  }
 ],
 "metadata": {
  "kernelspec": {
   "display_name": "Python 3 (ipykernel)",
   "language": "python",
   "name": "python3"
  },
  "language_info": {
   "codemirror_mode": {
    "name": "ipython",
    "version": 3
   },
   "file_extension": ".py",
   "mimetype": "text/x-python",
   "name": "python",
   "nbconvert_exporter": "python",
   "pygments_lexer": "ipython3",
   "version": "3.11.9"
  }
 },
 "nbformat": 4,
 "nbformat_minor": 5
}
