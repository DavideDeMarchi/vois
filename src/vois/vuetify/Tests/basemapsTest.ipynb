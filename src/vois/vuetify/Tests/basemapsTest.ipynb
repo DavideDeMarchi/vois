{
 "cells": [
  {
   "cell_type": "code",
   "execution_count": 1,
   "id": "5ed8586f",
   "metadata": {
    "tags": []
   },
   "outputs": [
    {
     "data": {
      "application/vnd.jupyter.widget-view+json": {
       "model_id": "4655788e316247f88dcb9954d250c7b9",
       "version_major": 2,
       "version_minor": 0
      },
      "text/plain": [
       "HBox(children=(Card(children=[Html(children=[CustomTreeview(activatable=True, active=72, color='#f8bd1a', even…"
      ]
     },
     "execution_count": 1,
     "metadata": {},
     "output_type": "execute_result"
    }
   ],
   "source": [
    "# To load local vois library with ignore on deprecation warnings\n",
    "%run ../../development/load_local_vois.py -w\n",
    "\n",
    "# Treeview to select the basemap for a ipyleaflet map instance\n",
    "from jeodpp import inter, imap\n",
    "from ipywidgets import widgets, Layout\n",
    "\n",
    "from vois.vuetify import basemaps\n",
    "\n",
    "height = 650\n",
    "\n",
    "m = imap.Map(layout=Layout(height='%dpx'%height))\n",
    "#m.layersControl()\n",
    "\n",
    "b = basemaps.basemaps(m, height=height, dark=False, removeBasemaps=['OpenStreetMap.HOT', 'MtbMap'])\n",
    "\n",
    "widgets.HBox([b.draw(),m])"
   ]
  },
  {
   "cell_type": "code",
   "execution_count": null,
   "id": "406570fc",
   "metadata": {
    "tags": []
   },
   "outputs": [],
   "source": [
    "b.value"
   ]
  },
  {
   "cell_type": "code",
   "execution_count": null,
   "id": "d6c805b9",
   "metadata": {
    "tags": []
   },
   "outputs": [],
   "source": [
    "b.value = 'Esri.WorldImagery'"
   ]
  },
  {
   "cell_type": "code",
   "execution_count": null,
   "id": "d0a4edd2",
   "metadata": {
    "tags": []
   },
   "outputs": [],
   "source": [
    "b.value = 'BDAP.Elevation.Merit'"
   ]
  },
  {
   "cell_type": "code",
   "execution_count": null,
   "id": "f0e59382",
   "metadata": {
    "tags": []
   },
   "outputs": [],
   "source": [
    "type(b.current_layer)"
   ]
  },
  {
   "cell_type": "code",
   "execution_count": null,
   "id": "3ca6f4ef",
   "metadata": {
    "tags": []
   },
   "outputs": [],
   "source": [
    "isinstance(b.current_layer, ipyleaflet.leaflet.TileLayer)"
   ]
  },
  {
   "cell_type": "code",
   "execution_count": null,
   "id": "65298bbe",
   "metadata": {},
   "outputs": [],
   "source": [
    "b.current_layer.name"
   ]
  },
  {
   "cell_type": "code",
   "execution_count": null,
   "id": "e5eb797a",
   "metadata": {},
   "outputs": [],
   "source": [
    "b.current_layer.url"
   ]
  },
  {
   "cell_type": "code",
   "execution_count": null,
   "id": "da36377a",
   "metadata": {},
   "outputs": [],
   "source": [
    "newlayer = ipyleaflet.TileLayer(name='Basemap: ' + b.current_layer.name, visible=True, opacity=0.5, url=b.current_layer.url)\n",
    "m.add_layer(newlayer)"
   ]
  },
  {
   "cell_type": "code",
   "execution_count": null,
   "id": "72b329e4",
   "metadata": {},
   "outputs": [],
   "source": [
    "m.layers[1].base"
   ]
  },
  {
   "cell_type": "code",
   "execution_count": null,
   "id": "8ca956df",
   "metadata": {},
   "outputs": [],
   "source": []
  }
 ],
 "metadata": {
  "kernelspec": {
   "display_name": "Python [interapro_env]",
   "language": "python",
   "name": "conda-env-interapro_env-py"
  },
  "language_info": {
   "codemirror_mode": {
    "name": "ipython",
    "version": 3
   },
   "file_extension": ".py",
   "mimetype": "text/x-python",
   "name": "python",
   "nbconvert_exporter": "python",
   "pygments_lexer": "ipython3",
   "version": "3.11.6"
  }
 },
 "nbformat": 4,
 "nbformat_minor": 5
}
