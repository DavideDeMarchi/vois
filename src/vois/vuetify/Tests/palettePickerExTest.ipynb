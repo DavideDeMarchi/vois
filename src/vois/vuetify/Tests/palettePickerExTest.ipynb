{
 "cells": [
  {
   "cell_type": "code",
   "execution_count": null,
   "id": "3e34f125",
   "metadata": {
    "tags": []
   },
   "outputs": [],
   "source": [
    "%run ../../development/load_local_vois.py -w\n",
    "\n",
    "%run ../palettePickerEx.py\n",
    "\n",
    "from ipywidgets import widgets\n",
    "\n",
    "output = widgets.Output()\n",
    "display(output)\n",
    "\n",
    "def onchange(colors,interpolate):\n",
    "    with output:\n",
    "        print(colors,interpolate)\n",
    "        \n",
    "def onchangeOpacity(value):\n",
    "    with output:\n",
    "        print(value)\n",
    "        \n",
    "\n",
    "p = palettePickerEx(width=250, value='Turbo', interpolate=False, show_interpolate_switch=False, clearable=False, onchange=onchange, onchangeOpacity=onchangeOpacity, horizontal=True)\n",
    "p.draw()"
   ]
  },
  {
   "cell_type": "code",
   "execution_count": null,
   "id": "c8b335e6-2eb5-453d-a0e7-0227f0d291cf",
   "metadata": {
    "tags": []
   },
   "outputs": [],
   "source": [
    "p.color = 'red'"
   ]
  },
  {
   "cell_type": "code",
   "execution_count": null,
   "id": "1b2c434a",
   "metadata": {},
   "outputs": [],
   "source": [
    "p.interpolate"
   ]
  },
  {
   "cell_type": "code",
   "execution_count": null,
   "id": "ce29fb7e",
   "metadata": {},
   "outputs": [],
   "source": [
    "p.familyname = 'diverging'\n",
    "p.value = 'RdYlGn'"
   ]
  },
  {
   "cell_type": "code",
   "execution_count": null,
   "id": "6c5f9058",
   "metadata": {},
   "outputs": [],
   "source": [
    "p.colors"
   ]
  },
  {
   "cell_type": "code",
   "execution_count": null,
   "id": "cef78142",
   "metadata": {},
   "outputs": [],
   "source": [
    "p.opacity"
   ]
  },
  {
   "cell_type": "code",
   "execution_count": null,
   "id": "f168d4ca",
   "metadata": {},
   "outputs": [],
   "source": []
  }
 ],
 "metadata": {
  "kernelspec": {
   "display_name": "Python 3 (ipykernel)",
   "language": "python",
   "name": "python3"
  },
  "language_info": {
   "codemirror_mode": {
    "name": "ipython",
    "version": 3
   },
   "file_extension": ".py",
   "mimetype": "text/x-python",
   "name": "python",
   "nbconvert_exporter": "python",
   "pygments_lexer": "ipython3",
   "version": "3.11.9"
  }
 },
 "nbformat": 4,
 "nbformat_minor": 5
}
