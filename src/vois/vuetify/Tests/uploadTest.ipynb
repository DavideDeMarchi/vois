{
 "cells": [
  {
   "cell_type": "code",
   "execution_count": null,
   "id": "5748abeb",
   "metadata": {
    "tags": []
   },
   "outputs": [],
   "source": [
    "# To load local vois library with ignore on deprecation warnings\n",
    "%run ../../development/load_local_vois.py -w\n",
    "\n",
    "from ipywidgets import widgets\n",
    "from PIL import Image\n",
    "\n",
    "%run ../upload.py\n",
    "\n",
    "output = widgets.Output()\n",
    "\n",
    "def on_file_upload(files):\n",
    "    # If at least one file has been selected      \n",
    "    if len(files) > 0:\n",
    "        output.clear_output()\n",
    "        for f in files:\n",
    "            image = Image.open(f['file_obj'])\n",
    "            with output:\n",
    "                display(image)\n",
    "\n",
    "    # No files selected\n",
    "    else:\n",
    "        output.clear_output()\n",
    "\n",
    "u = upload(accept=\"image/png, image/jpeg, image/bmp\", multiple=True, show_progress=True, onchange=on_file_upload, \n",
    "           label='Images', placeholder='Click to select images to upload', width='100%')\n",
    "\n",
    "#u = upload(accept=\"image/png, image/jpeg, image/bmp\", onchange=on_file_upload,\n",
    "#           placeholder='Click to upload', width='600px', margins=\"pa-0 ma-0 mt-n5 mb-n5\")\n",
    "\n",
    "u.color = 'red'\n",
    "\n",
    "display(u.draw())\n",
    "display(output)"
   ]
  },
  {
   "cell_type": "code",
   "execution_count": null,
   "id": "8f89f003",
   "metadata": {},
   "outputs": [],
   "source": [
    "u.clear()"
   ]
  },
  {
   "cell_type": "code",
   "execution_count": null,
   "id": "187717e9",
   "metadata": {},
   "outputs": [],
   "source": [
    "# Upload inside a modal dialog-box\n",
    "from ipywidgets import widgets\n",
    "from IPython.display import display\n",
    "\n",
    "output = widgets.Output()\n",
    "display(output)\n",
    "\n",
    "%run upload.py\n",
    "%run dialogGeneric.py\n",
    "\n",
    "def on_file_upload(files):\n",
    "    if len(files) > 0:\n",
    "        for f in files:\n",
    "            image = Image.open(f['file_obj'])\n",
    "            with output:\n",
    "                display(image)\n",
    "\n",
    "    # No files selected\n",
    "    else:\n",
    "        output.clear_output()\n",
    "\n",
    "\n",
    "def on_ok():\n",
    "    pass\n",
    "    #print(\"Exit with ok\")\n",
    "\n",
    "def on_cancel():\n",
    "    pass\n",
    "    #print(\"Exit with cancel\")\n",
    "    \n",
    "u = upload(accept=\"image/png, image/jpeg, image/bmp\", multiple=False, show_progress=False, onchange=on_file_upload, \n",
    "           label='Images', placeholder='Click to select images to upload', width='360px', margins=\"pa-0 ma-0 ml-4\")\n",
    "    \n",
    "dlg = dialogGeneric(title='Upload a file from local disk', text='', show=True, \n",
    "                    addclosebuttons=False, width=400,\n",
    "                    addokcancelbuttons=True, on_ok=on_ok, on_cancel=on_cancel,\n",
    "                    fullscreen=False, content=[u.draw()], output=output)"
   ]
  },
  {
   "cell_type": "code",
   "execution_count": null,
   "id": "9dbf82ca",
   "metadata": {},
   "outputs": [],
   "source": []
  }
 ],
 "metadata": {
  "kernelspec": {
   "display_name": "Python 3 (ipykernel)",
   "language": "python",
   "name": "python3"
  },
  "language_info": {
   "codemirror_mode": {
    "name": "ipython",
    "version": 3
   },
   "file_extension": ".py",
   "mimetype": "text/x-python",
   "name": "python",
   "nbconvert_exporter": "python",
   "pygments_lexer": "ipython3",
   "version": "3.11.9"
  }
 },
 "nbformat": 4,
 "nbformat_minor": 5
}
