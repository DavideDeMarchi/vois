{
 "cells": [
  {
   "cell_type": "code",
   "execution_count": 1,
   "id": "507dcac2-e4b1-4be4-baca-5c269e0725b4",
   "metadata": {
    "tags": []
   },
   "outputs": [],
   "source": [
    "# To load local vois library with ignore on deprecation warnings\n",
    "%run ../../development/load_local_vois.py -w"
   ]
  },
  {
   "cell_type": "code",
   "execution_count": 4,
   "id": "8afcdb7d",
   "metadata": {
    "tags": []
   },
   "outputs": [
    {
     "data": {
      "application/vnd.jupyter.widget-view+json": {
       "model_id": "92d85defbfa64bd380e346fe5fc1176f",
       "version_major": 2,
       "version_minor": 0
      },
      "text/plain": [
       "radio(children=[Item(children=[Tooltip(bottom=True, children=['Tooltip for label1'], color='#999999', layout=N…"
      ]
     },
     "metadata": {},
     "output_type": "display_data"
    },
    {
     "data": {
      "application/vnd.jupyter.widget-view+json": {
       "model_id": "0e901e0f5aa84ae8bc2df6efb60c638f",
       "version_major": 2,
       "version_minor": 0
      },
      "text/plain": [
       "Output(layout=Layout(width='400px'))"
      ]
     },
     "metadata": {},
     "output_type": "display_data"
    }
   ],
   "source": [
    "from vois.vuetify import radio\n",
    "\n",
    "from ipywidgets import HTML, widgets, Layout\n",
    "output = widgets.Output(layout=Layout(width='400px'))\n",
    "\n",
    "def onchange(value):\n",
    "    with output:\n",
    "        print(value)\n",
    "\n",
    "r = radio.radio(0, ['Label1', 'Label2 is a very long label', 'Label3 is also very long'], tooltips=['Tooltip for label1'], onchange=onchange, row=True)\n",
    "\n",
    "display(r.draw())\n",
    "display(output)"
   ]
  }
 ],
 "metadata": {
  "kernelspec": {
   "display_name": "Python 3 (ipykernel)",
   "language": "python",
   "name": "python3"
  },
  "language_info": {
   "codemirror_mode": {
    "name": "ipython",
    "version": 3
   },
   "file_extension": ".py",
   "mimetype": "text/x-python",
   "name": "python",
   "nbconvert_exporter": "python",
   "pygments_lexer": "ipython3",
   "version": "3.12.3"
  }
 },
 "nbformat": 4,
 "nbformat_minor": 5
}
