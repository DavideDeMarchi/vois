{
 "cells": [
  {
   "cell_type": "code",
   "execution_count": null,
   "id": "93568b8b-18f4-4310-be12-949725849206",
   "metadata": {
    "tags": []
   },
   "outputs": [],
   "source": [
    "import ipywidgets as widgets\n",
    "output = widgets.Output()\n",
    "display(output)\n",
    "\n",
    "%run ../IconClipboard.py\n",
    "\n",
    "c = IconClipboard(output)\n",
    "c"
   ]
  },
  {
   "cell_type": "code",
   "execution_count": null,
   "id": "07a55811-3a91-4a88-b230-e22eca38398d",
   "metadata": {
    "tags": []
   },
   "outputs": [],
   "source": [
    "c.text = 'This is the text copied to the clipboard'"
   ]
  },
  {
   "cell_type": "code",
   "execution_count": null,
   "id": "0549ac78-b023-4639-9f7f-e7571a250ef5",
   "metadata": {},
   "outputs": [],
   "source": []
  }
 ],
 "metadata": {
  "kernelspec": {
   "display_name": "Python 3 (ipykernel)",
   "language": "python",
   "name": "python3"
  },
  "language_info": {
   "codemirror_mode": {
    "name": "ipython",
    "version": 3
   },
   "file_extension": ".py",
   "mimetype": "text/x-python",
   "name": "python",
   "nbconvert_exporter": "python",
   "pygments_lexer": "ipython3",
   "version": "3.11.9"
  }
 },
 "nbformat": 4,
 "nbformat_minor": 5
}
