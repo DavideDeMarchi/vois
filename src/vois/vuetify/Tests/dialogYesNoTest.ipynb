{
 "cells": [
  {
   "cell_type": "code",
   "execution_count": null,
   "id": "886b4966",
   "metadata": {},
   "outputs": [],
   "source": [
    "from ipywidgets import widgets, Layout, HTML\n",
    "from IPython.display import display\n",
    "\n",
    "output = widgets.Output(layout=Layout(width='0px', height='0px'))\n",
    "display(output)\n",
    "\n",
    "def on_yes():\n",
    "    print('YES')\n",
    "\n",
    "def on_no():\n",
    "    print('NO')\n",
    "    \n",
    "%run dialogYesNo.py\n",
    "\n",
    "dlg = dialogYesNo(title='Question', text='Confirm removal of the selected file?', titleheight=40, width=\"30vw\", output=output,\n",
    "                  show=True, transition='dialog-bottom-transition', on_yes=on_yes, on_no=on_no)"
   ]
  },
  {
   "cell_type": "code",
   "execution_count": null,
   "id": "c6e97619",
   "metadata": {},
   "outputs": [],
   "source": []
  }
 ],
 "metadata": {
  "kernelspec": {
   "display_name": "Python 3 (ipykernel)",
   "language": "python",
   "name": "python3"
  },
  "language_info": {
   "codemirror_mode": {
    "name": "ipython",
    "version": 3
   },
   "file_extension": ".py",
   "mimetype": "text/x-python",
   "name": "python",
   "nbconvert_exporter": "python",
   "pygments_lexer": "ipython3",
   "version": "3.7.13"
  }
 },
 "nbformat": 4,
 "nbformat_minor": 5
}
