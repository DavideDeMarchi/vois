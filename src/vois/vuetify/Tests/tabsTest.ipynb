{
 "cells": [
  {
   "cell_type": "code",
   "execution_count": null,
   "id": "fcf77851",
   "metadata": {
    "tags": []
   },
   "outputs": [],
   "source": [
    "%run ../../development/load_local_vois.py -w\n",
    "%run ../tabs.py\n",
    "\n",
    "from ipywidgets import widgets\n",
    "\n",
    "debug = widgets.Output()\n",
    "display(debug)\n",
    "\n",
    "output0 = widgets.Output()\n",
    "output1 = widgets.Output()\n",
    "output2 = widgets.Output()\n",
    "\n",
    "with output0: print('This is output 0')\n",
    "with output1: print('This is output 1')\n",
    "with output2: print('This is output 2')\n",
    "\n",
    "def onchange(value):\n",
    "    with debug:\n",
    "        print(value)\n",
    "\n",
    "t = Tabs(0, ['Label1', 'Label2 is a very long label', 'Label3 is also very long'],\n",
    "         contents=[output0,output1,output2],\n",
    "         tooltips=['Tooltip for label1'],\n",
    "         onchange=onchange, row=True, dark=False)\n",
    "\n",
    "display(t)"
   ]
  },
  {
   "cell_type": "code",
   "execution_count": null,
   "id": "7109ce00",
   "metadata": {
    "tags": []
   },
   "outputs": [],
   "source": [
    "t.value = 0"
   ]
  },
  {
   "cell_type": "code",
   "execution_count": null,
   "id": "ead97ee9",
   "metadata": {
    "tags": []
   },
   "outputs": [],
   "source": [
    "t.disabled = True"
   ]
  },
  {
   "cell_type": "code",
   "execution_count": null,
   "id": "c5b6df1d",
   "metadata": {
    "tags": []
   },
   "outputs": [],
   "source": [
    "t.disabled"
   ]
  },
  {
   "cell_type": "code",
   "execution_count": null,
   "id": "09d7440f",
   "metadata": {
    "tags": []
   },
   "outputs": [],
   "source": [
    "t.color = 'red'"
   ]
  },
  {
   "cell_type": "code",
   "execution_count": null,
   "id": "4d70b9b1-3318-4ae1-b56c-3010f98e58f7",
   "metadata": {},
   "outputs": [],
   "source": []
  }
 ],
 "metadata": {
  "kernelspec": {
   "display_name": "Python 3 (ipykernel)",
   "language": "python",
   "name": "python3"
  },
  "language_info": {
   "codemirror_mode": {
    "name": "ipython",
    "version": 3
   },
   "file_extension": ".py",
   "mimetype": "text/x-python",
   "name": "python",
   "nbconvert_exporter": "python",
   "pygments_lexer": "ipython3",
   "version": "3.12.3"
  }
 },
 "nbformat": 4,
 "nbformat_minor": 5
}
