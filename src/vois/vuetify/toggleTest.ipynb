{
 "cells": [
  {
   "cell_type": "code",
   "execution_count": null,
   "id": "a42146d2",
   "metadata": {},
   "outputs": [],
   "source": [
    "%run toggle.py\n",
    "\n",
    "from ipywidgets import widgets\n",
    "output = widgets.Output()\n",
    "\n",
    "def onchange(value):\n",
    "    with output:\n",
    "        print(value)\n",
    "\n",
    "t = toggle(0, ['Label1', 'Label2 is a very long label', 'Label3 is also very long'], tooltips=['Tooltip for label1'], \n",
    "           onchange=onchange, row=False, width=250, justify='start', rounded=False, outlined=False, dark=False, paddingcol=1)\n",
    "\n",
    "display(t.draw())\n",
    "display(output)"
   ]
  },
  {
   "cell_type": "code",
   "execution_count": null,
   "id": "f243dbfe",
   "metadata": {},
   "outputs": [],
   "source": [
    "t.value = 2"
   ]
  },
  {
   "cell_type": "code",
   "execution_count": null,
   "id": "2ae8f8ce",
   "metadata": {},
   "outputs": [],
   "source": [
    "%run toggle.py\n",
    "\n",
    "from ipywidgets import widgets\n",
    "from IPython.display import display\n",
    "\n",
    "output = widgets.Output()\n",
    "\n",
    "def onchange(index):\n",
    "    with output:\n",
    "        print(index)\n",
    "\n",
    "t = toggle(0, ['Option 1', 'Option 2', 'Option 3'], tooltips=['Tooltip for option 1'],\n",
    "           onchange=onchange, row=True, width=150, rounded=False, justify='start', paddingrow=0, tile=True)\n",
    "\n",
    "display(t.draw())\n",
    "display(output)"
   ]
  },
  {
   "cell_type": "code",
   "execution_count": null,
   "id": "740e39c8",
   "metadata": {},
   "outputs": [],
   "source": []
  }
 ],
 "metadata": {
  "kernelspec": {
   "display_name": "Python 3 (ipykernel)",
   "language": "python",
   "name": "python3"
  },
  "language_info": {
   "codemirror_mode": {
    "name": "ipython",
    "version": 3
   },
   "file_extension": ".py",
   "mimetype": "text/x-python",
   "name": "python",
   "nbconvert_exporter": "python",
   "pygments_lexer": "ipython3",
   "version": "3.7.13"
  }
 },
 "nbformat": 4,
 "nbformat_minor": 5
}
