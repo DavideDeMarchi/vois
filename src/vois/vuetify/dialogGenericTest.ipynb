{
 "cells": [
  {
   "cell_type": "code",
   "execution_count": null,
   "id": "5c979aaf",
   "metadata": {},
   "outputs": [],
   "source": [
    "from IPython.display import display\n",
    "from ipywidgets import widgets, Layout, HTML\n",
    "\n",
    "output = widgets.Output(layout=Layout(width='0px', height='0px'))\n",
    "display(output)\n",
    "\n",
    "\n",
    "%run dialogGeneric.py\n",
    "import switch\n",
    "\n",
    "def on_s_change(value):\n",
    "    dlg.okdisabled = False\n",
    "    print(value)\n",
    "\n",
    "def on_ok():\n",
    "    print(\"Exit with ok\")\n",
    "\n",
    "def on_cancel():\n",
    "    print(\"Exit with cancel\")\n",
    "    \n",
    "s = switch.switch(True, 'PNG format', onchange=on_s_change)\n",
    "    \n",
    "dlg = dialogGeneric(title='Settings', text='Please select the format for download:', show=True,\n",
    "                    addclosebuttons=False, width=600, persistent=True, #dark=True, \n",
    "                    addokcancelbuttons=True, on_ok=on_ok, on_cancel=on_cancel,\n",
    "                    fullscreen=False, content=[s.draw()], output=output)\n",
    "\n",
    "dlg.okdisabled = True"
   ]
  },
  {
   "cell_type": "code",
   "execution_count": null,
   "id": "11adf64d",
   "metadata": {},
   "outputs": [],
   "source": [
    "dlg.close()"
   ]
  },
  {
   "cell_type": "code",
   "execution_count": null,
   "id": "40a34a74",
   "metadata": {},
   "outputs": [],
   "source": [
    "dlg.show()"
   ]
  },
  {
   "cell_type": "code",
   "execution_count": null,
   "id": "33c3dc33",
   "metadata": {},
   "outputs": [],
   "source": []
  }
 ],
 "metadata": {
  "kernelspec": {
   "display_name": "Python 3 (ipykernel)",
   "language": "python",
   "name": "python3"
  },
  "language_info": {
   "codemirror_mode": {
    "name": "ipython",
    "version": 3
   },
   "file_extension": ".py",
   "mimetype": "text/x-python",
   "name": "python",
   "nbconvert_exporter": "python",
   "pygments_lexer": "ipython3",
   "version": "3.7.13"
  }
 },
 "nbformat": 4,
 "nbformat_minor": 5
}
