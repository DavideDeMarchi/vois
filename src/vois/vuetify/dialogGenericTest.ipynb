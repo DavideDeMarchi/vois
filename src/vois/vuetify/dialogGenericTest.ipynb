{
 "cells": [
  {
   "cell_type": "code",
   "execution_count": 9,
   "id": "d796d3ae",
   "metadata": {},
   "outputs": [
    {
     "data": {
      "application/vnd.jupyter.widget-view+json": {
       "model_id": "2269c9093f044bd99e0935255340cd50",
       "version_major": 2,
       "version_minor": 0
      },
      "text/plain": [
       "Output(layout=Layout(height='0px', width='0px'))"
      ]
     },
     "metadata": {},
     "output_type": "display_data"
    }
   ],
   "source": [
    "from IPython.display import display\n",
    "from ipywidgets import widgets, Layout, HTML\n",
    "\n",
    "output = widgets.Output(layout=Layout(width='0px', height='0px'))\n",
    "display(output)\n",
    "\n",
    "\n",
    "%run dialogGeneric.py\n",
    "import switch\n",
    "\n",
    "def on_s_change(value):\n",
    "    dlg.okdisabled = False\n",
    "    print(value)\n",
    "\n",
    "def on_ok():\n",
    "    print(\"Exit with ok\")\n",
    "\n",
    "def on_cancel():\n",
    "    print(\"Exit with cancel\")\n",
    "    \n",
    "def on_custom():\n",
    "    print(\"Clicked custom icon\")\n",
    "    dlg.close()\n",
    "    \n",
    "s = switch.switch(True, 'PNG format', onchange=on_s_change)\n",
    "    \n",
    "dlg = dialogGeneric(title='Settings', text='Please select the format for download:', show=True,\n",
    "                    addclosebuttons=False, width=\"20vw\", persistent=True, #dark=True, \n",
    "                    addokcancelbuttons=True, on_ok=on_ok, on_cancel=on_cancel,\n",
    "                    fullscreen=False, content=[s.draw()], output=output,\n",
    "                    custom_icon='mdi-open-in-new', custom_tooltip='Open document in new browser tab', custom_icon_onclick=on_custom)\n",
    "\n",
    "dlg.okdisabled = True"
   ]
  },
  {
   "cell_type": "code",
   "execution_count": null,
   "id": "86eb98f1",
   "metadata": {},
   "outputs": [],
   "source": [
    "dlg.close()"
   ]
  },
  {
   "cell_type": "code",
   "execution_count": null,
   "id": "b9b5b226",
   "metadata": {},
   "outputs": [],
   "source": [
    "dlg.show()"
   ]
  },
  {
   "cell_type": "code",
   "execution_count": 10,
   "id": "afe6ea23",
   "metadata": {},
   "outputs": [
    {
     "data": {
      "application/vnd.jupyter.widget-view+json": {
       "model_id": "9bf3378cfaf24417b951d3f1d7868847",
       "version_major": 2,
       "version_minor": 0
      },
      "text/plain": [
       "HTML(value='\\n<style>\\n.bottomleftdialog {\\n    position: absolute;\\n    bottom: 0;\\n    left: 0;\\n}\\n</style>…"
      ]
     },
     "metadata": {},
     "output_type": "display_data"
    }
   ],
   "source": [
    "# Example of a dialog positioned on the bottom left side of the screen: use customclass!\n",
    "\n",
    "display(HTML('''\n",
    "<style>\n",
    ".bottomleftdialog {\n",
    "    position: absolute;\n",
    "    bottom: 0;\n",
    "    left: 0;\n",
    "}\n",
    "</style>\n",
    "'''))\n",
    "    \n",
    "dlg = dialogGeneric(title='Settings', text='Please select the format for download:', show=True,\n",
    "                    addclosebuttons=False, width=\"20vw\", persistent=True, #dark=True, \n",
    "                    addokcancelbuttons=True, on_ok=on_ok, on_cancel=on_cancel,\n",
    "                    fullscreen=False, content=[s.draw()], output=output, customclass='bottomleftdialog')\n"
   ]
  },
  {
   "cell_type": "code",
   "execution_count": 14,
   "id": "b42a4993",
   "metadata": {},
   "outputs": [],
   "source": [
    "content = [HTML('<embed src=\"https://jeodpp.jrc.ec.europa.eu/jiplib-view?VECTORAPI_PDF=1&cmd=LUCASPDF&filepath=CY/635/616/63561628G.pdf\" width=\"1200\" height=\"850\" />')]\n",
    "dlg = dialogGeneric(title='Settings', show=True,\n",
    "                    addclosebuttons=True, persistent=False, width=\"min(1200px, 75.55vw)\",\n",
    "                    addokcancelbuttons=False, on_ok=on_ok, on_cancel=on_cancel,\n",
    "                    fullscreen=False, content=content, output=output, customclass='bottomleftdialog')\n"
   ]
  },
  {
   "cell_type": "code",
   "execution_count": 23,
   "id": "0f038484",
   "metadata": {},
   "outputs": [],
   "source": [
    "content = [HTML('<img src=\"https://jeodpp.jrc.ec.europa.eu/jiplib-view?VECTORAPI_JPG=1&cmd=LUCASPDF&filepath=ES/299/020/29902030G.jpg\" width=\"1200\" />')]\n",
    "dlg = dialogGeneric(title='Settings', show=True,\n",
    "                    addclosebuttons=True, persistent=False, width=\"min(1200px, 75.55vw)\",\n",
    "                    addokcancelbuttons=False, on_ok=on_ok, on_cancel=on_cancel,\n",
    "                    fullscreen=False, content=content, output=output, customclass='bottomleftdialog')\n"
   ]
  },
  {
   "cell_type": "code",
   "execution_count": 31,
   "id": "66d76baa",
   "metadata": {},
   "outputs": [],
   "source": [
    "%run dialogGeneric.py\n",
    "dlg = dialogGeneric(title='Settings', text='Please select the format for download:', show=True,\n",
    "                    addclosebuttons=True, width=\"20vw\", persistent=False, no_click_animation=False,\n",
    "                    fullscreen=False, content=[s.draw()], output=output)\n"
   ]
  },
  {
   "cell_type": "code",
   "execution_count": null,
   "id": "5533a3e1",
   "metadata": {},
   "outputs": [],
   "source": []
  }
 ],
 "metadata": {
  "kernelspec": {
   "display_name": "Python 3 (ipykernel)",
   "language": "python",
   "name": "python3"
  },
  "language_info": {
   "codemirror_mode": {
    "name": "ipython",
    "version": 3
   },
   "file_extension": ".py",
   "mimetype": "text/x-python",
   "name": "python",
   "nbconvert_exporter": "python",
   "pygments_lexer": "ipython3",
   "version": "3.7.13"
  }
 },
 "nbformat": 4,
 "nbformat_minor": 5
}
