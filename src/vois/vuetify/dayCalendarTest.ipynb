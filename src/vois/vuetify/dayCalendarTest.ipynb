{
 "cells": [
  {
   "cell_type": "code",
   "execution_count": null,
   "id": "66ac5c1e",
   "metadata": {},
   "outputs": [],
   "source": [
    "from ipywidgets import widgets\n",
    "from IPython.display import display\n",
    "\n",
    "%run dayCalendar.py\n",
    "\n",
    "out = widgets.Output()\n",
    "display(out)\n",
    "\n",
    "def on_click(day):\n",
    "    with out:\n",
    "        print(day)\n",
    "\n",
    "c = dayCalendar(start='2023-10-01', end='2023-10-31', days=['2023-10-10', '2023-10-20'], on_click=on_click)\n",
    "\n",
    "display(c.draw())"
   ]
  },
  {
   "cell_type": "code",
   "execution_count": null,
   "id": "91dfcfa6",
   "metadata": {},
   "outputs": [],
   "source": [
    "c.color = 'blue'"
   ]
  },
  {
   "cell_type": "code",
   "execution_count": null,
   "id": "761b8dd9",
   "metadata": {},
   "outputs": [],
   "source": [
    "c.color "
   ]
  },
  {
   "cell_type": "code",
   "execution_count": null,
   "id": "3650c4dd",
   "metadata": {},
   "outputs": [],
   "source": [
    "c.days = ['2023-10-02', '2023-10-09', '2023-10-18']"
   ]
  },
  {
   "cell_type": "code",
   "execution_count": null,
   "id": "a8b712c3",
   "metadata": {},
   "outputs": [],
   "source": [
    "c.days"
   ]
  },
  {
   "cell_type": "code",
   "execution_count": null,
   "id": "7dbc1c44",
   "metadata": {},
   "outputs": [],
   "source": []
  }
 ],
 "metadata": {
  "kernelspec": {
   "display_name": "Python 3 (ipykernel)",
   "language": "python",
   "name": "python3"
  },
  "language_info": {
   "codemirror_mode": {
    "name": "ipython",
    "version": 3
   },
   "file_extension": ".py",
   "mimetype": "text/x-python",
   "name": "python",
   "nbconvert_exporter": "python",
   "pygments_lexer": "ipython3",
   "version": "3.7.13"
  }
 },
 "nbformat": 4,
 "nbformat_minor": 5
}
