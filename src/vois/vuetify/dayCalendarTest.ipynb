{
 "cells": [
  {
   "cell_type": "code",
   "execution_count": null,
   "id": "46a0a0e9",
   "metadata": {},
   "outputs": [],
   "source": [
    "from ipywidgets import widgets\n",
    "from IPython.display import display\n",
    "\n",
    "%run dayCalendar.py\n",
    "\n",
    "out = widgets.Output()\n",
    "display(out)\n",
    "\n",
    "def on_click(day):\n",
    "    with out:\n",
    "        print('  Day: ',day)\n",
    "\n",
    "def on_click_event(day):\n",
    "    with out:\n",
    "        print('Event: ',day)\n",
    "        \n",
    "c = dayCalendar(start='2023-10-01', end='2023-10-31', days=['2023-10-10', '2023-10-20'], on_click=on_click, on_click_event=on_click_event)\n",
    "\n",
    "display(c.draw())"
   ]
  },
  {
   "cell_type": "code",
   "execution_count": null,
   "id": "b35ba813",
   "metadata": {},
   "outputs": [],
   "source": [
    "from datetime import datetime, date\n",
    "import dateutil.relativedelta\n",
    "\n",
    "%run dayCalendar.py\n",
    "\n",
    "output = widgets.Output()\n",
    "display(output)\n",
    "\n",
    "\n",
    "def on_click(day):\n",
    "    with output:\n",
    "        print('Clicked on ', day)\n",
    "        \n",
    "days = [\n",
    "     '2023-10-07',\n",
    "     '2023-10-07',\n",
    "     '2023-10-10',\n",
    "     '2023-10-10',\n",
    "     '2023-10-17',\n",
    "     '2023-10-27',\n",
    "     '2023-10-22',\n",
    "     '2023-10-22',\n",
    "     '2023-10-25',\n",
    "     '2023-11-04',\n",
    "     '2023-11-04'\n",
    "]\n",
    "\n",
    "start = '2023-10-07'\n",
    "end   = '2023-11-07'\n",
    "\n",
    "c = dayCalendar(start=start, end=end, days=days, on_click=on_click)\n",
    "display(c.draw())"
   ]
  },
  {
   "cell_type": "code",
   "execution_count": null,
   "id": "6b63d249",
   "metadata": {},
   "outputs": [],
   "source": [
    "c.color = 'blue'"
   ]
  },
  {
   "cell_type": "code",
   "execution_count": null,
   "id": "a7312d09",
   "metadata": {},
   "outputs": [],
   "source": [
    "c.color "
   ]
  },
  {
   "cell_type": "code",
   "execution_count": null,
   "id": "a59aecf8",
   "metadata": {},
   "outputs": [],
   "source": [
    "c.days = ['2023-10-02', '2023-10-09', '2023-10-18']"
   ]
  },
  {
   "cell_type": "code",
   "execution_count": null,
   "id": "1d5988f7",
   "metadata": {},
   "outputs": [],
   "source": [
    "c.days"
   ]
  },
  {
   "cell_type": "code",
   "execution_count": null,
   "id": "c49f9149",
   "metadata": {},
   "outputs": [],
   "source": []
  }
 ],
 "metadata": {
  "kernelspec": {
   "display_name": "Python 3 (ipykernel)",
   "language": "python",
   "name": "python3"
  },
  "language_info": {
   "codemirror_mode": {
    "name": "ipython",
    "version": 3
   },
   "file_extension": ".py",
   "mimetype": "text/x-python",
   "name": "python",
   "nbconvert_exporter": "python",
   "pygments_lexer": "ipython3",
   "version": "3.7.13"
  }
 },
 "nbformat": 4,
 "nbformat_minor": 5
}
