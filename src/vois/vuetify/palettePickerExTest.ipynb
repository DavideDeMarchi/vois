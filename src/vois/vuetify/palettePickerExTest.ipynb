{
 "cells": [
  {
   "cell_type": "code",
   "execution_count": 2,
   "id": "4d0743ac",
   "metadata": {},
   "outputs": [
    {
     "data": {
      "application/vnd.jupyter.widget-view+json": {
       "model_id": "e64b3851c49640ab86d23556924cc794",
       "version_major": 2,
       "version_minor": 0
      },
      "text/plain": [
       "Output()"
      ]
     },
     "metadata": {},
     "output_type": "display_data"
    },
    {
     "data": {
      "application/vnd.jupyter.widget-view+json": {
       "model_id": "48b533f75cf74a83a5a702ab59812b44",
       "version_major": 2,
       "version_minor": 0
      },
      "text/plain": [
       "VBox(children=(Html(children=[Select(background_color='white', chips=False, class_='pa-0 mx-0 my-1 mb-n4', cle…"
      ]
     },
     "metadata": {},
     "output_type": "display_data"
    }
   ],
   "source": [
    "%run palettePickerEx.py\n",
    "\n",
    "from ipywidgets import widgets\n",
    "\n",
    "output = widgets.Output()\n",
    "display(output)\n",
    "\n",
    "def onchange(colors,interpolate):\n",
    "    with output:\n",
    "        print(colors,interpolate)\n",
    "\n",
    "p = palettePickerEx(width=150, value='Turbo', interpolate=False, show_interpolate_switch=False, onchange=onchange)\n",
    "p.draw()"
   ]
  },
  {
   "cell_type": "code",
   "execution_count": null,
   "id": "e7e767c9",
   "metadata": {},
   "outputs": [],
   "source": [
    "p.interpolate"
   ]
  },
  {
   "cell_type": "code",
   "execution_count": null,
   "id": "40ebfb21",
   "metadata": {},
   "outputs": [],
   "source": [
    "p.familyname = 'diverging'\n",
    "p.value = 'RdYlGn'"
   ]
  },
  {
   "cell_type": "code",
   "execution_count": null,
   "id": "c1504cc5",
   "metadata": {},
   "outputs": [],
   "source": [
    "p.colors"
   ]
  },
  {
   "cell_type": "code",
   "execution_count": null,
   "id": "7bf454b5",
   "metadata": {},
   "outputs": [],
   "source": []
  },
  {
   "cell_type": "code",
   "execution_count": null,
   "id": "f1715381",
   "metadata": {},
   "outputs": [],
   "source": []
  }
 ],
 "metadata": {
  "kernelspec": {
   "display_name": "Python 3 (ipykernel)",
   "language": "python",
   "name": "python3"
  },
  "language_info": {
   "codemirror_mode": {
    "name": "ipython",
    "version": 3
   },
   "file_extension": ".py",
   "mimetype": "text/x-python",
   "name": "python",
   "nbconvert_exporter": "python",
   "pygments_lexer": "ipython3",
   "version": "3.7.13"
  }
 },
 "nbformat": 4,
 "nbformat_minor": 5
}
