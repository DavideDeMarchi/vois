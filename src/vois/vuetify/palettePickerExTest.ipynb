{
 "cells": [
  {
   "cell_type": "code",
   "execution_count": null,
   "id": "7f2d15c7",
   "metadata": {},
   "outputs": [],
   "source": [
    "%run palettePickerEx.py\n",
    "\n",
    "from ipywidgets import widgets\n",
    "\n",
    "output = widgets.Output()\n",
    "display(output)\n",
    "\n",
    "def onchange(colors,interpolate):\n",
    "    with output:\n",
    "        print(colors,interpolate)\n",
    "\n",
    "p = palettePickerEx(width=250, value='Turbo', interpolate=False, show_interpolate_switch=False, onchange=onchange)\n",
    "p.draw()"
   ]
  },
  {
   "cell_type": "code",
   "execution_count": null,
   "id": "108b2d20",
   "metadata": {},
   "outputs": [],
   "source": [
    "p.interpolate"
   ]
  },
  {
   "cell_type": "code",
   "execution_count": null,
   "id": "cf66416b",
   "metadata": {},
   "outputs": [],
   "source": [
    "p.familyname = 'diverging'\n",
    "p.value = 'RdYlGn'"
   ]
  },
  {
   "cell_type": "code",
   "execution_count": null,
   "id": "08104c79",
   "metadata": {},
   "outputs": [],
   "source": [
    "p.colors"
   ]
  },
  {
   "cell_type": "code",
   "execution_count": null,
   "id": "826d2ae7",
   "metadata": {},
   "outputs": [],
   "source": []
  },
  {
   "cell_type": "code",
   "execution_count": null,
   "id": "4e99a9ec",
   "metadata": {},
   "outputs": [],
   "source": []
  }
 ],
 "metadata": {
  "kernelspec": {
   "display_name": "Python 3 (ipykernel)",
   "language": "python",
   "name": "python3"
  },
  "language_info": {
   "codemirror_mode": {
    "name": "ipython",
    "version": 3
   },
   "file_extension": ".py",
   "mimetype": "text/x-python",
   "name": "python",
   "nbconvert_exporter": "python",
   "pygments_lexer": "ipython3",
   "version": "3.7.13"
  }
 },
 "nbformat": 4,
 "nbformat_minor": 5
}
