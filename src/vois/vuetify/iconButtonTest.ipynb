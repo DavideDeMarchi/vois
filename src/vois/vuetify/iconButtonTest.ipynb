{
 "cells": [
  {
   "cell_type": "code",
   "execution_count": null,
   "id": "11c06f55",
   "metadata": {},
   "outputs": [],
   "source": [
    "%run iconButton.py\n",
    "\n",
    "def onclick():\n",
    "    if b.color == 'red':\n",
    "        b.color = 'amber'\n",
    "        b.tooltip = 'Make the icon red'\n",
    "    else:\n",
    "        b.color = 'red'\n",
    "        b.tooltip = 'Make the icon yellow'\n",
    "\n",
    "b = iconButton(onclick=onclick, tooltip='Test string for tooltip', outlined=False, rounded=True, small=False)\n",
    "b.draw()"
   ]
  },
  {
   "cell_type": "code",
   "execution_count": null,
   "id": "b270530a",
   "metadata": {},
   "outputs": [],
   "source": []
  }
 ],
 "metadata": {
  "kernelspec": {
   "display_name": "Python 3 (ipykernel)",
   "language": "python",
   "name": "python3"
  },
  "language_info": {
   "codemirror_mode": {
    "name": "ipython",
    "version": 3
   },
   "file_extension": ".py",
   "mimetype": "text/x-python",
   "name": "python",
   "nbconvert_exporter": "python",
   "pygments_lexer": "ipython3",
   "version": "3.7.13"
  }
 },
 "nbformat": 4,
 "nbformat_minor": 5
}
