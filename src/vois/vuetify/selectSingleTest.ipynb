{
 "cells": [
  {
   "cell_type": "code",
   "execution_count": null,
   "id": "68fbd90d",
   "metadata": {},
   "outputs": [],
   "source": [
    "%run selectSingle.py\n",
    "\n",
    "from ipywidgets import widgets\n",
    "output = widgets.Output()\n",
    "display(output)\n",
    "\n",
    "# Append parent directory to import path\n",
    "import os\n",
    "import sys\n",
    "module_path = os.path.abspath(os.path.join('..'))\n",
    "if module_path not in sys.path:\n",
    "    sys.path.append(module_path)\n",
    "\n",
    "# List of EU country names and codes\n",
    "import eucountries as eu\n",
    "names = eu.countries.EuropeanUnionNames()\n",
    "codes = eu.countries.EuropeanUnionCodes()\n",
    "\n",
    "names2codes = dict(zip(names,codes))\n",
    "codes2names = dict(zip(codes,names))\n",
    "\n",
    "# Mapping of country name to country code\n",
    "def mapping(name):\n",
    "    if name in names2codes:\n",
    "        return names2codes[name]\n",
    "\n",
    "# Mapping of country code to country name\n",
    "def reverse_mapping(code):\n",
    "    if code in codes2names:\n",
    "        return codes2names[code]\n",
    "\n",
    "\n",
    "def onchange():\n",
    "    with output:\n",
    "        print(sel.value)\n",
    "\n",
    "# Example with mapping: displays country names an the value property returns a country code or None\n",
    "sel = selectSingle('Country:', names, selection='BE', width=200, mapping=mapping, reverse_mapping=reverse_mapping, onchange=onchange, marginy=1, colorbackground=True)\n",
    "sel.draw()"
   ]
  },
  {
   "cell_type": "code",
   "execution_count": null,
   "id": "48630a63",
   "metadata": {},
   "outputs": [],
   "source": [
    "sel.value = 'IT'"
   ]
  },
  {
   "cell_type": "code",
   "execution_count": null,
   "id": "ba3a1e34",
   "metadata": {},
   "outputs": [],
   "source": [
    "sel.value"
   ]
  },
  {
   "cell_type": "code",
   "execution_count": null,
   "id": "c042728f",
   "metadata": {},
   "outputs": [],
   "source": [
    "%run selectSingle.py\n",
    "\n",
    "# Example without mapping: displays country names and the value property returns a country name or None\n",
    "sel = selectSingle('Country:', names, selection='Belgium', width=200, onchange=onchange, marginy=1)\n",
    "sel.draw()"
   ]
  },
  {
   "cell_type": "code",
   "execution_count": null,
   "id": "20671dc7",
   "metadata": {},
   "outputs": [],
   "source": [
    "sel.value = 'Italy'"
   ]
  },
  {
   "cell_type": "code",
   "execution_count": null,
   "id": "a3784eee",
   "metadata": {},
   "outputs": [],
   "source": [
    "sel.value"
   ]
  },
  {
   "cell_type": "code",
   "execution_count": null,
   "id": "f46cafe9",
   "metadata": {},
   "outputs": [],
   "source": [
    "# Append parent directory to import path\n",
    "import os\n",
    "import sys\n",
    "module_path = os.path.abspath(os.path.join('..'))\n",
    "if module_path not in sys.path:\n",
    "    sys.path.append(module_path)\n",
    "\n",
    "import eucountries as eu\n",
    "\n",
    "%run selectSingle.py\n",
    "\n",
    "names = eu.languages.EuropeanUnionLanguages(sortByName=False)\n",
    "names = [x.name for x in names]\n",
    "abbreviations = eu.languages.EuropeanUnionAbbreviations()\n",
    "\n",
    "na = sorted(zip(names,abbreviations), key=lambda x: x[0])\n",
    "langnames = [x[0] for x in na]\n",
    "abbrev    = [x[1] for x in na]\n",
    "\n",
    "def on_status_change():\n",
    "    i = langnames.index(sel.selection)\n",
    "    print(abbrev[i])\n",
    "\n",
    "sel = selectSingle('Language:', langnames, \"English\",  width=200, mapping=None, clearable=False, marginy=1, onchange=on_status_change)\n",
    "sel.draw()"
   ]
  },
  {
   "cell_type": "code",
   "execution_count": null,
   "id": "211658e9",
   "metadata": {},
   "outputs": [],
   "source": [
    "%run selectSingle.py\n",
    "from vois.vuetify import button\n",
    "\n",
    "predefinedSearches = [\n",
    "    'Stars', 'Binary Stars', 'Black Holes', 'Globular Clusters', 'Individual Stars', 'Neutron Stars', 'Nurseries', 'Open Clusters', 'Sun', 'White Dwarfs',\n",
    "    'Galaxies', 'Clusters of Galaxies', 'Colliding Galaxies', 'Elliptical Galaxies', 'Local Group', 'Milky Way', 'Spiral Galaxies',\n",
    "    'Nebulae', 'Dark Nebulae', 'Emission Nebulae', 'Planetary Nebulae', 'Reflection Nebulae', 'Supernova Remnants',\n",
    "    'Quasars', 'Active Galactic Nuclei', 'Dark Matter',\n",
    "    'Sun', 'Mercury', 'Venus', 'Earth', 'Earth\\'s Moon', 'Mars', 'Jupiter', 'Jupiter\\'s Moons', 'Saturn', 'Saturn\\'s Moons', 'Uranus', 'Neptune', 'Pluto',\n",
    "    'Hyakutake', 'Hale-Bopp', 'Halley',\n",
    "    'Asteroids',\n",
    "    'Rockets', 'Launch Vehicles', 'Orbiting Observatories', 'Space Stations', 'Earth Observatories',\n",
    "    'Scientists', 'Astronauts',\n",
    "    'Messier Objects', 'Sky Views'\n",
    "]\n",
    "\n",
    "fullfield = selectSingle(label='Insert text for full search:', values=predefinedSearches, selection='', newvalues_enabled=True, clearable=True, width=480, marginy=4)\n",
    "\n",
    "def onsearch(arg=None):\n",
    "    print(fullfield.value)\n",
    "\n",
    "b = button.button('Search', dark=True, width=210, height=42, tooltip='Launch search of pictures by title',\n",
    "                        icon='mdi-magnify', iconcolor='white', disabled=False, selected=True, outlined=False, onclick=onsearch)\n",
    "\n",
    "display(fullfield.draw(),b.draw())"
   ]
  },
  {
   "cell_type": "code",
   "execution_count": null,
   "id": "ca833363",
   "metadata": {},
   "outputs": [],
   "source": []
  }
 ],
 "metadata": {
  "kernelspec": {
   "display_name": "Python 3 (ipykernel)",
   "language": "python",
   "name": "python3"
  },
  "language_info": {
   "codemirror_mode": {
    "name": "ipython",
    "version": 3
   },
   "file_extension": ".py",
   "mimetype": "text/x-python",
   "name": "python",
   "nbconvert_exporter": "python",
   "pygments_lexer": "ipython3",
   "version": "3.7.13"
  }
 },
 "nbformat": 4,
 "nbformat_minor": 5
}
