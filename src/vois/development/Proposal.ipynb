{
 "cells": [
  {
   "cell_type": "markdown",
   "id": "15cdd921-eb8a-4c6c-8e99-0027d3945bc2",
   "metadata": {},
   "source": [
    "# Summary\n",
    "This is a proposal concerning the update of the vois library\n",
    "\n",
    "## Update consists in:\n",
    "1. Remove relative import\n",
    "2. Remove double import (backward compatible)\n",
    "3. Use property directly instead of functions \n",
    "4. Insert type checking\n",
    "5. Python standard class naming (backward compatible)\n",
    "6. Python standard property naming (backward compatible)\n",
    "7. Risoluzione problema draw (backward compatible)"
   ]
  },
  {
   "cell_type": "code",
   "execution_count": 3,
   "id": "0a8b0587-47b0-4ff0-9bad-892b80c9c3d1",
   "metadata": {
    "ExecuteTime": {
     "end_time": "2024-06-25T10:59:11.130918Z",
     "start_time": "2024-06-25T10:59:11.123235Z"
    },
    "tags": []
   },
   "outputs": [],
   "source": [
    "# This line is necessary util the new vois package with the updates is distributed\n",
    "%run load_local_vois.py -p /Users/edoardo/JRC_Projects/vois/src/vois/__init__.py -w"
   ]
  },
  {
   "cell_type": "markdown",
   "id": "7341d313-0f3a-434c-82ac-e6207e85e362",
   "metadata": {
    "tags": []
   },
   "source": [
    "## Old Version"
   ]
  },
  {
   "cell_type": "code",
   "execution_count": 39,
   "id": "91640ae3-d941-47f8-b9fc-a57fcb885629",
   "metadata": {
    "ExecuteTime": {
     "end_time": "2024-06-25T10:59:16.904520Z",
     "start_time": "2024-06-25T10:59:16.574247Z"
    },
    "tags": []
   },
   "outputs": [],
   "source": [
    "from vois.vuetify import button, settings\n",
    "settings.color_first = 'pink'"
   ]
  },
  {
   "cell_type": "code",
   "execution_count": 40,
   "id": "2d70fa33-e5a5-4fdb-9fd7-d4aee7d251fa",
   "metadata": {
    "ExecuteTime": {
     "end_time": "2024-06-25T10:59:17.742086Z",
     "start_time": "2024-06-25T10:59:17.723003Z"
    },
    "tags": []
   },
   "outputs": [
    {
     "data": {
      "application/vnd.jupyter.widget-view+json": {
       "model_id": "a568e88d16434bd9a08003c9d83e8284",
       "version_major": 2,
       "version_minor": 0
      },
      "text/plain": [
       "button(children=[Container(children=[Tooltip(bottom=True, children=[''], color='#999999', layout=None, transit…"
      ]
     },
     "execution_count": 40,
     "metadata": {},
     "output_type": "execute_result"
    }
   ],
   "source": [
    "my_old_button = button.button(text='Ciao - Old!', textweight=900, width=200, text_color=settings.color_first)\n",
    "my_old_button.draw()"
   ]
  },
  {
   "cell_type": "code",
   "execution_count": 6,
   "id": "2c39496a-c1f9-4712-bc9c-bfe00d9850c2",
   "metadata": {
    "ExecuteTime": {
     "end_time": "2024-06-25T10:59:19.020310Z",
     "start_time": "2024-06-25T10:59:19.014631Z"
    },
    "tags": []
   },
   "outputs": [],
   "source": [
    "my_old_button.setText('New Name - Old!')"
   ]
  },
  {
   "cell_type": "markdown",
   "id": "edde0c94-9818-44a1-a9c0-2c707eb33d45",
   "metadata": {},
   "source": [
    "## New Version"
   ]
  },
  {
   "cell_type": "code",
   "execution_count": 26,
   "id": "e15a818a-9ed2-425b-aa71-191f17271fea",
   "metadata": {
    "ExecuteTime": {
     "end_time": "2024-06-25T10:59:24.611380Z",
     "start_time": "2024-06-25T10:59:24.606938Z"
    },
    "tags": []
   },
   "outputs": [],
   "source": [
    "from vois.vuetify import Button  # Before was 'button'"
   ]
  },
  {
   "cell_type": "code",
   "execution_count": 27,
   "id": "d5295788-094f-4cde-971a-70011dfed6ba",
   "metadata": {
    "ExecuteTime": {
     "end_time": "2024-06-25T10:59:25.444253Z",
     "start_time": "2024-06-25T10:59:25.430533Z"
    },
    "tags": []
   },
   "outputs": [
    {
     "data": {
      "application/vnd.jupyter.widget-view+json": {
       "model_id": "3ff537bd5e744a12bd66c036ba17dfb4",
       "version_major": 2,
       "version_minor": 0
      },
      "text/plain": [
       "Button(children=[Container(children=[Tooltip(bottom=True, children=[''], color='#999999', layout=None, transit…"
      ]
     },
     "execution_count": 27,
     "metadata": {},
     "output_type": "execute_result"
    }
   ],
   "source": [
    "my_new_button = Button(text='Ciao - New!', text_weight=900, width=200) # Before was 'button.button(..)'\n",
    "my_new_button"
   ]
  },
  {
   "cell_type": "code",
   "execution_count": 28,
   "id": "acab90f2-bff0-4189-9537-6adb984858bc",
   "metadata": {
    "ExecuteTime": {
     "end_time": "2024-06-25T10:59:26.752042Z",
     "start_time": "2024-06-25T10:59:26.747747Z"
    },
    "tags": []
   },
   "outputs": [],
   "source": [
    "my_new_button.text = 'New Name - New!' # Before was '.setText(...)'"
   ]
  },
  {
   "cell_type": "markdown",
   "id": "217d15df-b704-46b5-920b-8baca3724499",
   "metadata": {},
   "source": [
    "## Backward Compatible\n",
    "\n",
    "As you can see before, the old classes, methods and properties can be used as always. The only side effect is a deprecation warning.\n",
    "\n",
    "You can disable it with:\n",
    "\n",
    " ```python\n",
    " import warnings\n",
    " warnings.filterwarnings(\"ignore\", category=DeprecationWarning)\n",
    "\n",
    " ```\n",
    " If you use the \"new\" vois classess you can even mix new and old properties/function calls etc..\n"
   ]
  },
  {
   "cell_type": "code",
   "execution_count": 29,
   "id": "07c261bf-a384-4cca-831d-8d3fbf9b07e4",
   "metadata": {
    "tags": []
   },
   "outputs": [],
   "source": [
    "my_new_button.setText('New Name - New! Old Func')"
   ]
  },
  {
   "cell_type": "code",
   "execution_count": 31,
   "id": "726226b8-3f46-41c9-9973-3e30548fccbd",
   "metadata": {
    "tags": []
   },
   "outputs": [],
   "source": [
    "assert my_new_button.color_selected == my_new_button.colorselected"
   ]
  },
  {
   "cell_type": "code",
   "execution_count": null,
   "id": "c897cd60-2006-4048-b25e-7b284184b608",
   "metadata": {},
   "outputs": [],
   "source": []
  }
 ],
 "metadata": {
  "kernelspec": {
   "display_name": "Python 3 (ipykernel)",
   "language": "python",
   "name": "python3"
  },
  "language_info": {
   "codemirror_mode": {
    "name": "ipython",
    "version": 3
   },
   "file_extension": ".py",
   "mimetype": "text/x-python",
   "name": "python",
   "nbconvert_exporter": "python",
   "pygments_lexer": "ipython3",
   "version": "3.12.3"
  }
 },
 "nbformat": 4,
 "nbformat_minor": 5
}
