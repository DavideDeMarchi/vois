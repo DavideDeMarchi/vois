{
 "cells": [
  {
   "cell_type": "code",
   "execution_count": 1,
   "id": "27e0b993",
   "metadata": {
    "tags": []
   },
   "outputs": [
    {
     "data": {
      "application/vnd.jupyter.widget-view+json": {
       "model_id": "82e08fa9ed1a4e9988e28eeb203424fd",
       "version_major": 2,
       "version_minor": 0
      },
      "text/plain": [
       "HTML(value='\\n<style>\\n.leaflet-div-icon { background-color: white; border-color: #bbbbbb; border-width: 1px; …"
      ]
     },
     "metadata": {},
     "output_type": "display_data"
    },
    {
     "data": {
      "application/vnd.jupyter.widget-view+json": {
       "model_id": "ce95154b9fe84b73afd5b534e0e223b0",
       "version_major": 2,
       "version_minor": 0
      },
      "text/plain": [
       "Map(center=[43.66737, 12.5504], controls=(ZoomControl(options=['position', 'zoom_in_text', 'zoom_in_title', 'z…"
      ]
     },
     "metadata": {},
     "output_type": "display_data"
    }
   ],
   "source": [
    "from ipywidgets import widgets, HTML, CallbackDispatcher\n",
    "from ipyleaflet import Map\n",
    "from IPython.display import display\n",
    "\n",
    "%run textpopup.py\n",
    "\n",
    "m = Map(center=[43.66737, 12.5504], scroll_wheel_zoom=True, zoom=13)\n",
    "\n",
    "display(HTML('''\n",
    "<style>\n",
    ".leaflet-div-icon { background-color: white; border-color: #bbbbbb; border-width: 1px; border-radius: 12px; }\n",
    "</style>\n",
    "'''))\n",
    "\n",
    "\n",
    "t = None\n",
    "def handle_interaction_popup(**kwargs):\n",
    "    global t\n",
    "    \n",
    "    if kwargs.get('type') == 'click':\n",
    "        lat = kwargs.get('coordinates')[0]\n",
    "        lon = kwargs.get('coordinates')[1]\n",
    "\n",
    "        #textpopup.removeAll(m)\n",
    "        if t is not None:\n",
    "            t.remove()\n",
    "            \n",
    "        t = textpopup(m, lat=lat, lon=lon, autoremovedelay=15.0,\n",
    "                      width=390, height=None, \n",
    "                      titlewidth=70,\n",
    "                      titles=['Pixel values', 'Class'],\n",
    "                      texts=['(120,34,189)', 'Woodland and Shrubland (incl. permanent crops)'],\n",
    "                      titlesbold=[],\n",
    "                      titlefontsize=11,\n",
    "                      textsbold=['Pixel'],\n",
    "                      textfontsize=11,\n",
    "                      titlecolor='darkgreen',\n",
    "                      textcolor='darkred',\n",
    "                      align='left',\n",
    "                      margin=15\n",
    "                     )\n",
    "\n",
    "m._interaction_callbacks = CallbackDispatcher()\n",
    "m.on_interaction(handle_interaction_popup)        \n",
    "        \n",
    "display(m)"
   ]
  },
  {
   "cell_type": "code",
   "execution_count": null,
   "id": "65e8d0b5",
   "metadata": {},
   "outputs": [],
   "source": [
    "t.remove()"
   ]
  },
  {
   "cell_type": "code",
   "execution_count": null,
   "id": "45f71845",
   "metadata": {},
   "outputs": [],
   "source": [
    "#textpopup.removeAll(m)"
   ]
  },
  {
   "cell_type": "code",
   "execution_count": null,
   "id": "ab386a8f-c041-487c-a926-4a0b295db8f9",
   "metadata": {},
   "outputs": [],
   "source": []
  }
 ],
 "metadata": {
  "kernelspec": {
   "display_name": "Python 3 (ipykernel)",
   "language": "python",
   "name": "python3"
  },
  "language_info": {
   "codemirror_mode": {
    "name": "ipython",
    "version": 3
   },
   "file_extension": ".py",
   "mimetype": "text/x-python",
   "name": "python",
   "nbconvert_exporter": "python",
   "pygments_lexer": "ipython3",
   "version": "3.11.9"
  }
 },
 "nbformat": 4,
 "nbformat_minor": 5
}
