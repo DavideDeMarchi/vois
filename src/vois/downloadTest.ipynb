{
 "cells": [
  {
   "cell_type": "code",
   "execution_count": 1,
   "id": "e92f4abd",
   "metadata": {},
   "outputs": [
    {
     "data": {
      "application/vnd.jupyter.widget-view+json": {
       "model_id": "92d14c4688a045c1b5c356f496f7409b",
       "version_major": 2,
       "version_minor": 0
      },
      "text/plain": [
       "Output(layout=Layout(height='0px', min_height='0px', min_width='0px', width='0px'))"
      ]
     },
     "metadata": {},
     "output_type": "display_data"
    }
   ],
   "source": [
    "%run download.py\n",
    "\n",
    "display(output)\n",
    "\n",
    "with output:\n",
    "    downloadText('aaa bbb ccc')"
   ]
  },
  {
   "cell_type": "code",
   "execution_count": 4,
   "id": "1be6fc6b",
   "metadata": {},
   "outputs": [],
   "source": [
    "with output:\n",
    "    downloadBytes(b'ajgh lkjhl ')"
   ]
  },
  {
   "cell_type": "code",
   "execution_count": null,
   "id": "e6d6d064",
   "metadata": {},
   "outputs": [],
   "source": []
  }
 ],
 "metadata": {
  "kernelspec": {
   "display_name": "Python 3 (ipykernel)",
   "language": "python",
   "name": "python3"
  },
  "language_info": {
   "codemirror_mode": {
    "name": "ipython",
    "version": 3
   },
   "file_extension": ".py",
   "mimetype": "text/x-python",
   "name": "python",
   "nbconvert_exporter": "python",
   "pygments_lexer": "ipython3",
   "version": "3.7.13"
  }
 },
 "nbformat": 4,
 "nbformat_minor": 5
}
