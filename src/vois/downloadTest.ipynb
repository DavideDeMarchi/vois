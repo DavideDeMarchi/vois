{
 "cells": [
  {
   "cell_type": "code",
   "execution_count": null,
   "id": "e92f4abd",
   "metadata": {
    "tags": []
   },
   "outputs": [],
   "source": [
    "%run download.py\n",
    "\n",
    "display(output)\n",
    "\n",
    "with output:\n",
    "    downloadText('aaa bbb ccc')"
   ]
  },
  {
   "cell_type": "code",
   "execution_count": null,
   "id": "1be6fc6b",
   "metadata": {},
   "outputs": [],
   "source": [
    "with output:\n",
    "    downloadBytes(b'ajgh lkjhl ')"
   ]
  },
  {
   "cell_type": "code",
   "execution_count": null,
   "id": "e6d6d064",
   "metadata": {
    "tags": []
   },
   "outputs": [],
   "source": [
    "# Select a filename on which to download a json file\n",
    "%run development/load_local_vois.py -w\n",
    "\n",
    "from vois.vuetify import settings, dialogGeneric\n",
    "import ipyvuetify as v\n",
    "\n",
    "from ipywidgets import widgets\n",
    "from IPython.display import display\n",
    "\n",
    "output = widgets.Output()\n",
    "display(output)\n",
    "\n",
    "def onOK():\n",
    "    with output:\n",
    "        print(filename.v_model)\n",
    "\n",
    "filename = v.TextField(label='File name:', autofocus=True, v_model='file1', dense=False, color=settings.color_first, clearable=True, class_=\"pa-0 ma-0 ml-3 mt-3 mr-3\")\n",
    "\n",
    "dlg = dialogGeneric.dialogGeneric(title='Save and download current state' , on_ok=onOK, \n",
    "                                  text='   ', color=settings.color_first, dark=settings.dark_mode,\n",
    "                                  titleheight=40, width=600,\n",
    "                                  show=True, addclosebuttons=True, addokcancelbuttons=True,\n",
    "                                  fullscreen=False, content=[filename], output=output)\n"
   ]
  },
  {
   "cell_type": "code",
   "execution_count": null,
   "id": "bdb6e253-d277-4e5e-8949-291641ec2b43",
   "metadata": {},
   "outputs": [],
   "source": []
  }
 ],
 "metadata": {
  "kernelspec": {
   "display_name": "Python 3 (ipykernel)",
   "language": "python",
   "name": "python3"
  },
  "language_info": {
   "codemirror_mode": {
    "name": "ipython",
    "version": 3
   },
   "file_extension": ".py",
   "mimetype": "text/x-python",
   "name": "python",
   "nbconvert_exporter": "python",
   "pygments_lexer": "ipython3",
   "version": "3.11.9"
  }
 },
 "nbformat": 4,
 "nbformat_minor": 5
}
