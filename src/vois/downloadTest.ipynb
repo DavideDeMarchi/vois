{
 "cells": [
  {
   "cell_type": "code",
   "execution_count": null,
   "id": "e91d3773",
   "metadata": {},
   "outputs": [],
   "source": [
    "%run download.py\n",
    "\n",
    "display(output)\n",
    "\n",
    "with output:\n",
    "    downloadText('aaa bbb ccc')"
   ]
  },
  {
   "cell_type": "code",
   "execution_count": null,
   "id": "446ff091",
   "metadata": {},
   "outputs": [],
   "source": [
    "with output:\n",
    "    downloadBytes(b'ajgh lkjhl ')"
   ]
  },
  {
   "cell_type": "code",
   "execution_count": null,
   "id": "83bfc191",
   "metadata": {},
   "outputs": [],
   "source": []
  }
 ],
 "metadata": {
  "kernelspec": {
   "display_name": "Python 3 (ipykernel)",
   "language": "python",
   "name": "python3"
  },
  "language_info": {
   "codemirror_mode": {
    "name": "ipython",
    "version": 3
   },
   "file_extension": ".py",
   "mimetype": "text/x-python",
   "name": "python",
   "nbconvert_exporter": "python",
   "pygments_lexer": "ipython3",
   "version": "3.7.13"
  }
 },
 "nbformat": 4,
 "nbformat_minor": 5
}
