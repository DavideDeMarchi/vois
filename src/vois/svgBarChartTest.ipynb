{
 "cells": [
  {
   "cell_type": "code",
   "execution_count": 23,
   "id": "66373019",
   "metadata": {},
   "outputs": [
    {
     "data": {
      "application/vnd.jupyter.widget-view+json": {
       "model_id": "58295fe1b7e84c3c90f28715d6fb9bb6",
       "version_major": 2,
       "version_minor": 0
      },
      "text/plain": [
       "Output()"
      ]
     },
     "metadata": {},
     "output_type": "display_data"
    },
    {
     "data": {
      "application/vnd.jupyter.widget-view+json": {
       "model_id": "54a871a1b4924968849c067e07059677",
       "version_major": 2,
       "version_minor": 0
      },
      "text/plain": [
       "Output(layout=Layout(border='1px dashed green', height='calc(35.000000vh + 30px)', margin='0px 0px 0px 0px', w…"
      ]
     },
     "metadata": {},
     "output_type": "display_data"
    }
   ],
   "source": [
    "%run svgBarChart.py\n",
    "\n",
    "import numpy as np\n",
    "import plotly.express as px\n",
    "from vois import eucountries as eu\n",
    "\n",
    "# Names of EU countries\n",
    "names  = sorted([c.iso2code for c in eu.countries.EuropeanUnion()]*2)\n",
    "\n",
    "# Randomly generated values for each country\n",
    "values = np.random.uniform(low=0.1, high=1.0, size=(len(names)))\n",
    "\n",
    "# Randomly generated stdevs for each country\n",
    "stddevs = np.random.uniform(low=0.01, high=0.1, size=(len(names)))\n",
    "\n",
    "ordered = sorted(zip(names,values,stddevs), key=lambda x: -x[1]) # Reverse order\n",
    "names = [x[0] for x in ordered]\n",
    "values = [x[1] for x in ordered]\n",
    "stddevs = [x[2] for x in ordered]\n",
    "\n",
    "debug = widgets.Output()\n",
    "display(debug)\n",
    "\n",
    "def on_change(arg):\n",
    "    with debug:\n",
    "        print(arg)\n",
    "\n",
    "out = svgBarChart(title='Sample Bar Chart',\n",
    "                  names=names,\n",
    "                  values=values,\n",
    "                  stddevs=stddevs,\n",
    "                  selectedname='IT',\n",
    "                  width=80.0,\n",
    "                  height=35.0,\n",
    "                  fontsize=0.42,\n",
    "                  barstrokecolor='#44444400',\n",
    "                  xaxistextcolor='#666666',\n",
    "                  xaxistextsizemultiplier=0.8,\n",
    "                  xaxistextangle=-90.0,\n",
    "                  xaxistextextraspace=1.0,\n",
    "                  xaxistextdisplacey=-0.2,\n",
    "                  valuestextsizemultiplier=0.7,\n",
    "                  valuestextangle=-90.0,\n",
    "                  strokew_axis=0.1,\n",
    "                  strokew_horizontal_lines=0.05,\n",
    "                  showvalues=True,\n",
    "                  colorlist=px.colors.sequential.Viridis,\n",
    "                  hovercolor='blue',\n",
    "                  stdevnumber=100.0,\n",
    "                  valuedigits=2,\n",
    "                  barpercentwidth=95.0,\n",
    "                  enabledeselect=True,\n",
    "                  showselection=True,\n",
    "                  minallowed_value=0.0,\n",
    "                  maxallowed_value=1.0,\n",
    "                  yaxis_min=0.0,\n",
    "                  yaxis_max=1.3,\n",
    "                  on_change=on_change)\n",
    "\n",
    "display(out)"
   ]
  },
  {
   "cell_type": "code",
   "execution_count": null,
   "id": "6a7afa86",
   "metadata": {},
   "outputs": [],
   "source": []
  }
 ],
 "metadata": {
  "kernelspec": {
   "display_name": "Python 3 (ipykernel)",
   "language": "python",
   "name": "python3"
  },
  "language_info": {
   "codemirror_mode": {
    "name": "ipython",
    "version": 3
   },
   "file_extension": ".py",
   "mimetype": "text/x-python",
   "name": "python",
   "nbconvert_exporter": "python",
   "pygments_lexer": "ipython3",
   "version": "3.7.13"
  }
 },
 "nbformat": 4,
 "nbformat_minor": 5
}
