{
 "cells": [
  {
   "cell_type": "code",
   "execution_count": null,
   "id": "b822bbc8",
   "metadata": {
    "tags": []
   },
   "outputs": [],
   "source": [
    "from vois.vuetify import settings\n",
    "settings.dark_mode      = True\n",
    "settings.color_first    = '#0d856d'\n",
    "settings.color_second   = '#a0dcd0'\n",
    "settings.button_rounded = True\n",
    "\n",
    "from ipywidgets import widgets, HTML, Layout\n",
    "from IPython.display import display\n",
    "\n",
    "from vois import download, cssUtils\n",
    "display(download.output)\n",
    "\n",
    "output = widgets.Output(layout=Layout(width='0px', height='0px'))\n",
    "display(output)\n",
    "\n",
    "cssUtils.allSettings(output)\n",
    "cssUtils.switchFontSize(output,14)\n",
    "\n",
    "from vois.templates import PageConfigurator\n",
    "\n",
    "c = PageConfigurator.PageConfigurator(output)"
   ]
  },
  {
   "cell_type": "code",
   "execution_count": null,
   "id": "fe2635be-63fa-4808-9349-abf1853f7d90",
   "metadata": {},
   "outputs": [],
   "source": []
  }
 ],
 "metadata": {
  "kernelspec": {
   "display_name": "Python [interapro_env]",
   "language": "python",
   "name": "conda-env-interapro_env-py"
  },
  "language_info": {
   "codemirror_mode": {
    "name": "ipython",
    "version": 3
   },
   "file_extension": ".py",
   "mimetype": "text/x-python",
   "name": "python",
   "nbconvert_exporter": "python",
   "pygments_lexer": "ipython3",
   "version": "3.11.6"
  }
 },
 "nbformat": 4,
 "nbformat_minor": 5
}
