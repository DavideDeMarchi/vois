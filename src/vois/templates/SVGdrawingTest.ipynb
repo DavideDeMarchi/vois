{
 "cells": [
  {
   "cell_type": "code",
   "execution_count": null,
   "id": "3866cb33-b425-4c1c-9d70-ec32c31a94ed",
   "metadata": {
    "tags": []
   },
   "outputs": [],
   "source": [
    "%run ../development/load_local_vois.py -w\n",
    "\n",
    "%run SVGdrawing.py\n",
    "\n",
    "s = SVGdrawing(width='80vw')\n",
    "s.draw()"
   ]
  },
  {
   "cell_type": "code",
   "execution_count": null,
   "id": "4f79a011-00a3-41b2-a6fe-32a0154c011c",
   "metadata": {
    "tags": []
   },
   "outputs": [],
   "source": [
    "s.state = {'width': '40vw',\n",
    " 'height': '40vh',\n",
    " 'color_first': '#ff0000',\n",
    " 'color_second': '#efefef',\n",
    " 'dark': True,\n",
    " 'familyname': 'sequential',\n",
    " 'palette': 'Viridis'}"
   ]
  },
  {
   "cell_type": "code",
   "execution_count": null,
   "id": "740f50d1-1427-49ee-9125-991882c6d0c7",
   "metadata": {
    "tags": []
   },
   "outputs": [],
   "source": [
    "s.configure()"
   ]
  },
  {
   "cell_type": "code",
   "execution_count": null,
   "id": "62afb940-487b-4682-8c11-3b1d91af1700",
   "metadata": {
    "tags": []
   },
   "outputs": [],
   "source": [
    "s.color_first = 'red'"
   ]
  },
  {
   "cell_type": "code",
   "execution_count": null,
   "id": "f9bfb48e-ff83-4c83-bd6d-3602e3c11770",
   "metadata": {},
   "outputs": [],
   "source": [
    "s.width  = '800px'\n",
    "s.height = '40vh'"
   ]
  },
  {
   "cell_type": "code",
   "execution_count": null,
   "id": "404af5fe-1fcd-4b25-a978-bbf6b1f845af",
   "metadata": {},
   "outputs": [],
   "source": [
    "s.width"
   ]
  },
  {
   "cell_type": "code",
   "execution_count": null,
   "id": "acb1dfff-8e64-40af-9b9e-8cd61c3dbade",
   "metadata": {},
   "outputs": [],
   "source": []
  }
 ],
 "metadata": {
  "kernelspec": {
   "display_name": "Python [interapro_env]",
   "language": "python",
   "name": "conda-env-interapro_env-py"
  },
  "language_info": {
   "codemirror_mode": {
    "name": "ipython",
    "version": 3
   },
   "file_extension": ".py",
   "mimetype": "text/x-python",
   "name": "python",
   "nbconvert_exporter": "python",
   "pygments_lexer": "ipython3",
   "version": "3.11.6"
  }
 },
 "nbformat": 4,
 "nbformat_minor": 5
}
