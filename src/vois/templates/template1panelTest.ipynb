{
 "cells": [
  {
   "cell_type": "code",
   "execution_count": 12,
   "id": "96d54e79",
   "metadata": {
    "tags": []
   },
   "outputs": [
    {
     "data": {
      "application/vnd.jupyter.widget-view+json": {
       "model_id": "bfd9d471f50f4deabf2a231ea492e19f",
       "version_major": 2,
       "version_minor": 0
      },
      "text/plain": [
       "Output(layout=Layout(height='0px', width='0px'))"
      ]
     },
     "metadata": {},
     "output_type": "display_data"
    }
   ],
   "source": [
    "# To load local vois library with ignore on deprecation warnings\n",
    "%run ../development/load_local_vois.py -w\n",
    "\n",
    "from ipywidgets import widgets, HTML, Layout\n",
    "from vois.vuetify import settings\n",
    "settings.dark_mode      = True\n",
    "settings.color_first    = '#0d856d'\n",
    "settings.color_second   = '#a0dcd0'\n",
    "settings.button_rounded = True\n",
    "\n",
    "output = widgets.Output(layout=Layout(width='0px', height='0px'))\n",
    "display(output)\n",
    "\n",
    "# Create the page\n",
    "%run template1panel.py\n",
    "p = template1panel(output)\n",
    "card = p.create()\n",
    "\n",
    "# Open the page\n",
    "p.open()"
   ]
  },
  {
   "cell_type": "code",
   "execution_count": null,
   "id": "135cb3d1",
   "metadata": {},
   "outputs": [],
   "source": []
  }
 ],
 "metadata": {
  "kernelspec": {
   "display_name": "Python 3 (ipykernel)",
   "language": "python",
   "name": "python3"
  },
  "language_info": {
   "codemirror_mode": {
    "name": "ipython",
    "version": 3
   },
   "file_extension": ".py",
   "mimetype": "text/x-python",
   "name": "python",
   "nbconvert_exporter": "python",
   "pygments_lexer": "ipython3",
   "version": "3.7.13"
  }
 },
 "nbformat": 4,
 "nbformat_minor": 5
}
