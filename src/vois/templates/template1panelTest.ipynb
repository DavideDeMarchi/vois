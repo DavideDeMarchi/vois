{
 "cells": [
  {
   "cell_type": "code",
   "execution_count": null,
   "id": "96d54e79",
   "metadata": {
    "tags": []
   },
   "outputs": [],
   "source": [
    "# To load local vois library with ignore on deprecation warnings\n",
    "%run ../development/load_local_vois.py -w\n",
    "\n",
    "from ipywidgets import widgets, HTML, Layout\n",
    "from vois.vuetify import settings\n",
    "settings.dark_mode      = True\n",
    "settings.color_first    = '#0d856d'\n",
    "settings.color_second   = '#a0dcd0'\n",
    "settings.button_rounded = True\n",
    "\n",
    "output = widgets.Output(layout=Layout(width='0px', height='0px'))\n",
    "display(output)\n",
    "\n",
    "# Create the page\n",
    "%run template1panel.py\n",
    "p = template1panel(output)\n",
    "card = p.create()\n",
    "\n",
    "#p.titlecolor  = '#ccaaaa'\n",
    "#p.footercolor = '#6699aa'\n",
    "#p.titleheight = 100\n",
    "#p.footerheight = 50\n",
    "\n",
    "# Open the page\n",
    "p.open()"
   ]
  },
  {
   "cell_type": "code",
   "execution_count": null,
   "id": "ba0ed6cb-76c3-46fd-b64d-910f578cccd5",
   "metadata": {},
   "outputs": [],
   "source": []
  }
 ],
 "metadata": {
  "kernelspec": {
   "display_name": "Python [interapro_env]",
   "language": "python",
   "name": "conda-env-interapro_env-py"
  },
  "language_info": {
   "codemirror_mode": {
    "name": "ipython",
    "version": 3
   },
   "file_extension": ".py",
   "mimetype": "text/x-python",
   "name": "python",
   "nbconvert_exporter": "python",
   "pygments_lexer": "ipython3",
   "version": "3.11.6"
  }
 },
 "nbformat": 4,
 "nbformat_minor": 5
}
