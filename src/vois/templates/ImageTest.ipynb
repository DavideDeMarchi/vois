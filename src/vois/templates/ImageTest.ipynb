{
 "cells": [
  {
   "cell_type": "code",
   "execution_count": 33,
   "id": "3866cb33-b425-4c1c-9d70-ec32c31a94ed",
   "metadata": {
    "tags": []
   },
   "outputs": [
    {
     "data": {
      "application/vnd.jupyter.widget-view+json": {
       "model_id": "9b136a2d9385475a8b7a362cbb1679e5",
       "version_major": 2,
       "version_minor": 0
      },
      "text/plain": [
       "Output(layout=Layout(height='0px', width='0px'))"
      ]
     },
     "metadata": {},
     "output_type": "display_data"
    },
    {
     "data": {
      "application/vnd.jupyter.widget-view+json": {
       "model_id": "6c1a2d48c3eb40b0a9de26cd6d1bc36b",
       "version_major": 2,
       "version_minor": 0
      },
      "text/plain": [
       "Card(children=[Img(contain=True, height='40vh', layout=None, position='center center', src='', width='80vw')],…"
      ]
     },
     "execution_count": 33,
     "metadata": {},
     "output_type": "execute_result"
    }
   ],
   "source": [
    "%run ../development/load_local_vois.py -w\n",
    "\n",
    "from ipywidgets import widgets, HTML, Layout\n",
    "from IPython.display import display\n",
    "\n",
    "output = widgets.Output(layout=Layout(width='0px', height='0px'))\n",
    "display(output)\n",
    "\n",
    "%run Image.py\n",
    "\n",
    "s = Image(output, width='80vw')\n",
    "s.draw()"
   ]
  },
  {
   "cell_type": "code",
   "execution_count": null,
   "id": "9c4ae83a-7708-4751-959e-4b992ccc70b9",
   "metadata": {
    "tags": []
   },
   "outputs": [],
   "source": [
    "import random\n",
    "s.imageurl = 'https://picsum.photos/id/%d/1200/800'%random.randint(1,1000)\n",
    "#s.imageurl = 'https://ui-patterns.com/uploads/image/file/1830/best_792.jpg'"
   ]
  },
  {
   "cell_type": "code",
   "execution_count": null,
   "id": "af1b9c67-1e0e-45e7-ae4c-ba92bbfa30ae",
   "metadata": {
    "tags": []
   },
   "outputs": [],
   "source": [
    "s.img.width"
   ]
  },
  {
   "cell_type": "code",
   "execution_count": null,
   "id": "83edbdcc-7171-4436-88d1-85e9f6923307",
   "metadata": {
    "tags": []
   },
   "outputs": [],
   "source": [
    "s.img.height"
   ]
  },
  {
   "cell_type": "code",
   "execution_count": 34,
   "id": "740f50d1-1427-49ee-9125-991882c6d0c7",
   "metadata": {
    "tags": []
   },
   "outputs": [
    {
     "data": {
      "application/vnd.jupyter.widget-view+json": {
       "model_id": "7f71a9a4bcde4e57b5e3a1e43c33f5de",
       "version_major": 2,
       "version_minor": 0
      },
      "text/plain": [
       "Card(children=[VBox(children=(Html(children=['Image:'], class_='pa-0 ma-0 mt-1 mr-3', layout=None, style_='fon…"
      ]
     },
     "execution_count": 34,
     "metadata": {},
     "output_type": "execute_result"
    }
   ],
   "source": [
    "s.configure()"
   ]
  },
  {
   "cell_type": "code",
   "execution_count": null,
   "id": "55e696fb-68f1-4568-8eb5-a2ddfaf6eb65",
   "metadata": {
    "tags": []
   },
   "outputs": [],
   "source": [
    "s.state = {'width': '80vw',\n",
    " 'height': '40vh',\n",
    " 'imageurl': 'https://ui-patterns.com/uploads/image/file/1830/best_792.jpg',\n",
    " 'color_first': 'red',\n",
    " 'color_second': '#efefef',\n",
    " 'dark': False}"
   ]
  },
  {
   "cell_type": "code",
   "execution_count": null,
   "id": "a0f460c1-a067-46d4-a8ef-3fac93968e4f",
   "metadata": {
    "tags": []
   },
   "outputs": [],
   "source": [
    "s.imageurl"
   ]
  },
  {
   "cell_type": "code",
   "execution_count": null,
   "id": "e393e1b6-a2c1-4219-9392-e0dff8a06678",
   "metadata": {
    "tags": []
   },
   "outputs": [],
   "source": [
    "s.b.color_selected"
   ]
  },
  {
   "cell_type": "code",
   "execution_count": null,
   "id": "62afb940-487b-4682-8c11-3b1d91af1700",
   "metadata": {
    "tags": []
   },
   "outputs": [],
   "source": [
    "s.color_first = 'red'"
   ]
  },
  {
   "cell_type": "code",
   "execution_count": null,
   "id": "f9bfb48e-ff83-4c83-bd6d-3602e3c11770",
   "metadata": {},
   "outputs": [],
   "source": [
    "s.width  = '600px'\n",
    "s.height = '20vh'"
   ]
  },
  {
   "cell_type": "code",
   "execution_count": null,
   "id": "acb1dfff-8e64-40af-9b9e-8cd61c3dbade",
   "metadata": {},
   "outputs": [],
   "source": []
  }
 ],
 "metadata": {
  "kernelspec": {
   "display_name": "Python [interapro_env]",
   "language": "python",
   "name": "conda-env-interapro_env-py"
  },
  "language_info": {
   "codemirror_mode": {
    "name": "ipython",
    "version": 3
   },
   "file_extension": ".py",
   "mimetype": "text/x-python",
   "name": "python",
   "nbconvert_exporter": "python",
   "pygments_lexer": "ipython3",
   "version": "3.11.6"
  }
 },
 "nbformat": 4,
 "nbformat_minor": 5
}
