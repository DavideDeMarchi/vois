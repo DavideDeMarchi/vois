{
 "cells": [
  {
   "cell_type": "code",
   "execution_count": null,
   "id": "3866cb33-b425-4c1c-9d70-ec32c31a94ed",
   "metadata": {
    "tags": []
   },
   "outputs": [],
   "source": [
    "%run ../development/load_local_vois.py -w\n",
    "\n",
    "from ipywidgets import widgets, HTML, Layout\n",
    "from IPython.display import display\n",
    "\n",
    "output = widgets.Output(layout=Layout(width='0px', height='0px'))\n",
    "display(output)\n",
    "\n",
    "%run Image.py\n",
    "\n",
    "s = Image(output, width='80vw')\n",
    "s.draw()"
   ]
  },
  {
   "cell_type": "code",
   "execution_count": null,
   "id": "9c4ae83a-7708-4751-959e-4b992ccc70b9",
   "metadata": {
    "tags": []
   },
   "outputs": [],
   "source": [
    "import random\n",
    "s.imageurl = 'https://picsum.photos/id/%d/1200/800'%random.randint(1,1000)"
   ]
  },
  {
   "cell_type": "code",
   "execution_count": null,
   "id": "af1b9c67-1e0e-45e7-ae4c-ba92bbfa30ae",
   "metadata": {
    "tags": []
   },
   "outputs": [],
   "source": [
    "s.img.width"
   ]
  },
  {
   "cell_type": "code",
   "execution_count": null,
   "id": "83edbdcc-7171-4436-88d1-85e9f6923307",
   "metadata": {
    "tags": []
   },
   "outputs": [],
   "source": [
    "s.img.height"
   ]
  },
  {
   "cell_type": "code",
   "execution_count": null,
   "id": "740f50d1-1427-49ee-9125-991882c6d0c7",
   "metadata": {
    "tags": []
   },
   "outputs": [],
   "source": [
    "s.configure()"
   ]
  },
  {
   "cell_type": "code",
   "execution_count": null,
   "id": "e393e1b6-a2c1-4219-9392-e0dff8a06678",
   "metadata": {
    "tags": []
   },
   "outputs": [],
   "source": [
    "s.b.color_selected"
   ]
  },
  {
   "cell_type": "code",
   "execution_count": null,
   "id": "62afb940-487b-4682-8c11-3b1d91af1700",
   "metadata": {
    "tags": []
   },
   "outputs": [],
   "source": [
    "s.color_first = 'red'"
   ]
  },
  {
   "cell_type": "code",
   "execution_count": null,
   "id": "f9bfb48e-ff83-4c83-bd6d-3602e3c11770",
   "metadata": {},
   "outputs": [],
   "source": [
    "s.width  = '600px'\n",
    "s.height = '20vh'"
   ]
  },
  {
   "cell_type": "code",
   "execution_count": null,
   "id": "acb1dfff-8e64-40af-9b9e-8cd61c3dbade",
   "metadata": {},
   "outputs": [],
   "source": []
  }
 ],
 "metadata": {
  "kernelspec": {
   "display_name": "Python [interapro_env]",
   "language": "python",
   "name": "conda-env-interapro_env-py"
  },
  "language_info": {
   "codemirror_mode": {
    "name": "ipython",
    "version": 3
   },
   "file_extension": ".py",
   "mimetype": "text/x-python",
   "name": "python",
   "nbconvert_exporter": "python",
   "pygments_lexer": "ipython3",
   "version": "3.11.6"
  }
 },
 "nbformat": 4,
 "nbformat_minor": 5
}
