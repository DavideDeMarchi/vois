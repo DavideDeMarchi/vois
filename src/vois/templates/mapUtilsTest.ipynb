{
 "cells": [
  {
   "cell_type": "code",
   "execution_count": null,
   "id": "173b887f-b3bd-4c9d-b4ac-384f5a25aac3",
   "metadata": {
    "tags": []
   },
   "outputs": [],
   "source": [
    "# Minimal instructions to have the HDF5 errors (only if kernel is restarted\n",
    "from jeodpp import inter\n",
    "from osgeo import ogr, osr"
   ]
  },
  {
   "cell_type": "code",
   "execution_count": null,
   "id": "1a92ef6e-0d71-4e10-9801-461e554f522e",
   "metadata": {
    "tags": []
   },
   "outputs": [],
   "source": [
    "from ipywidgets import widgets, Layout\n",
    "import ipyleaflet\n",
    "from ipyleaflet import basemaps\n",
    "\n",
    "m = ipyleaflet.Map(max_zoom=21, center=[47, 12], zoom=5,\n",
    "                   scroll_wheel_zoom=True,\n",
    "                   basemap=basemaps.Esri.WorldImagery,\n",
    "                   attribution_control=False, layout=Layout(height='650px'))\n",
    "\n",
    "m"
   ]
  },
  {
   "cell_type": "code",
   "execution_count": null,
   "id": "2b5b2504-d7fd-4644-8d62-c2bf6091507c",
   "metadata": {
    "tags": []
   },
   "outputs": [],
   "source": [
    "from ipywidgets import widgets, Layout\n",
    "\n",
    "%run mapUtils.py\n",
    "\n",
    "m = ipyleaflet.Map(max_zoom=21, center=[47, 12], zoom=5,\n",
    "                   scroll_wheel_zoom=True,\n",
    "                   basemap=EsriWorldImagery(),\n",
    "                   attribution_control=False, layout=Layout(height='650px'))\n",
    "\n",
    "m"
   ]
  },
  {
   "cell_type": "code",
   "execution_count": null,
   "id": "a3cc6822-3177-4615-a7e0-7fed632fb709",
   "metadata": {
    "tags": []
   },
   "outputs": [],
   "source": [
    "from ipywidgets import widgets, Layout\n",
    "\n",
    "%run mapUtils.py\n",
    "\n",
    "m = ipyleaflet.Map(max_zoom=21, center=[47, 12], zoom=5, scroll_wheel_zoom=True, basemap=EsriWorldImagery(),\n",
    "                   attribution_control=False, layout=Layout(height='650px'))\n",
    "\n",
    "# Add a vector layer\n",
    "shape_nuts_1 = '/eos/jeodpp/home/users/davide/data/FAIRMODE/NUTS_RG_03M_2021_4326_1.shp'\n",
    "symbol = [\n",
    "            [\n",
    "               [\"PolygonSymbolizer\", \"fill\", \"COLOR\"],\n",
    "               [\"PolygonSymbolizer\", \"fill-opacity\", 1.0],\n",
    "               [\"LineSymbolizer\", \"stroke\", \"#000000\"],\n",
    "               [\"LineSymbolizer\", \"stroke-width\", 0.6]\n",
    "            ]\n",
    "]\n",
    "\n",
    "sym = [\n",
    "    [\n",
    "        [\"PolygonSymbolizer\", \"fill\", \"#00ff00\"],\n",
    "        [\"PolygonSymbolizer\", \"fill-opacity\", 0.75],\n",
    "        [\"PolygonPatternSymbolizer\", \"file\", \"/eos/jeodpp/data/projects/JEODPP/view/mapnik/material-design-icons/svg/outlined/segment.svg\"],\n",
    "        [\"PolygonPatternSymbolizer\", \"transform\", \"rotate(134.000000) scale(1.000000)\"],\n",
    "        [\"LineSymbolizer\", \"stroke\", \"#000000\"],\n",
    "        [\"LineSymbolizer\", \"stroke-width\", 5.0],\n",
    "        [\"LineSymbolizer\", \"stroke-dasharray\", \"none\"],\n",
    "    ]\n",
    "]\n",
    "\n",
    "vnuts = inter.Collection(inter.collections.Vector)\n",
    "vnuts.fileLink(shape_nuts_1,'',4326)\n",
    "vnuts.reset()\n",
    "vnuts.remove('default','all')\n",
    "applySymbol(vnuts, 'all', setColor(symbol,'#ff0000'))\n",
    "addLayer(m, BDAPLayer(vnuts), name='Nuts1')\n",
    "\n",
    "# Add labels layer\n",
    "addLayer(m, CartoLabels(), 'labels')\n",
    "\n",
    "m"
   ]
  },
  {
   "cell_type": "code",
   "execution_count": null,
   "id": "e5c9f9ad",
   "metadata": {
    "tags": []
   },
   "outputs": [],
   "source": [
    "%run mapUtils.py\n",
    "\n",
    "zoomToExtents(m, 12.5, 43.5, 12.6, 43.6)"
   ]
  },
  {
   "cell_type": "code",
   "execution_count": null,
   "id": "e10410b6",
   "metadata": {
    "tags": []
   },
   "outputs": [],
   "source": [
    "# Convert a map into a PIL image!\n",
    "m.layers[1].opacity = 0.3\n",
    "m.layers[2].opacity = 0.5\n",
    "img = toImage(m)\n",
    "img"
   ]
  },
  {
   "cell_type": "code",
   "execution_count": null,
   "id": "5915b516",
   "metadata": {},
   "outputs": [],
   "source": []
  }
 ],
 "metadata": {
  "kernelspec": {
   "display_name": "Python [interapro_env]",
   "language": "python",
   "name": "conda-env-interapro_env-py"
  },
  "language_info": {
   "codemirror_mode": {
    "name": "ipython",
    "version": 3
   },
   "file_extension": ".py",
   "mimetype": "text/x-python",
   "name": "python",
   "nbconvert_exporter": "python",
   "pygments_lexer": "ipython3",
   "version": "3.11.6"
  }
 },
 "nbformat": 4,
 "nbformat_minor": 5
}
