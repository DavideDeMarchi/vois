{
 "cells": [
  {
   "cell_type": "code",
   "execution_count": 11,
   "id": "3866cb33-b425-4c1c-9d70-ec32c31a94ed",
   "metadata": {
    "tags": []
   },
   "outputs": [
    {
     "data": {
      "application/vnd.jupyter.widget-view+json": {
       "model_id": "ac71e9d668cf49e4bfe29eb93262d7ac",
       "version_major": 2,
       "version_minor": 0
      },
      "text/plain": [
       "Output(layout=Layout(height='0px', width='0px'))"
      ]
     },
     "metadata": {},
     "output_type": "display_data"
    },
    {
     "data": {
      "application/vnd.jupyter.widget-view+json": {
       "model_id": "5742a9398ea649e1982126f9e947543a",
       "version_major": 2,
       "version_minor": 0
      },
      "text/plain": [
       "Content(children=[Card(children=[Card(children=[Map(center=[50, 12], controls=(ZoomControl(options=['position'…"
      ]
     },
     "execution_count": 11,
     "metadata": {},
     "output_type": "execute_result"
    }
   ],
   "source": [
    "# To load local vois library with ignore on deprecation warnings\n",
    "%run ../development/load_local_vois.py -w\n",
    "\n",
    "from ipywidgets import widgets, HTML, Layout\n",
    "from IPython.display import display\n",
    "\n",
    "output = widgets.Output(layout=Layout(width='0px', height='0px'))\n",
    "display(output)\n",
    "\n",
    "from vois import cssUtils\n",
    "cssUtils.switchFontSize(output,14)\n",
    "\n",
    "%run Content.py\n",
    "\n",
    "c = Content(output=output, splitmode=0)\n",
    "c"
   ]
  },
  {
   "cell_type": "code",
   "execution_count": 9,
   "id": "c6bd354c-a92f-405a-8b17-0f19208daf26",
   "metadata": {
    "tags": []
   },
   "outputs": [
    {
     "data": {
      "application/vnd.jupyter.widget-view+json": {
       "model_id": "35d2f1c0ba4d4e1c8f51bca2449fbb74",
       "version_major": 2,
       "version_minor": 0
      },
      "text/plain": [
       "Card(children=[VBox(children=(Html(children=[Switch(class_='pa-0 ma-0 ml-3 mt-2 mb-n3', color='#f8bd1a', dense…"
      ]
     },
     "execution_count": 9,
     "metadata": {},
     "output_type": "execute_result"
    }
   ],
   "source": [
    "c.card1children.configure()"
   ]
  },
  {
   "cell_type": "code",
   "execution_count": 10,
   "id": "efe26fd8-d97e-4abb-89c6-a8de740e7206",
   "metadata": {
    "tags": []
   },
   "outputs": [],
   "source": [
    "c.color_first = 'red'"
   ]
  },
  {
   "cell_type": "code",
   "execution_count": 8,
   "id": "6af9e5fa-6a40-441f-bf6f-5eaa567d75ed",
   "metadata": {
    "tags": []
   },
   "outputs": [],
   "source": [
    "%run PlotlyChart.py\n",
    "pc = PlotlyChart()"
   ]
  },
  {
   "cell_type": "code",
   "execution_count": 9,
   "id": "7b4a9a50-5645-4db6-8533-7a1fcdd21f7a",
   "metadata": {
    "tags": []
   },
   "outputs": [],
   "source": [
    "%run SVGdrawing.py\n",
    "s = SVGdrawing()"
   ]
  },
  {
   "cell_type": "code",
   "execution_count": 10,
   "id": "6324887a-9a07-421a-983a-072bddd6980c",
   "metadata": {
    "tags": []
   },
   "outputs": [],
   "source": [
    "c.set3(s)\n",
    "c.set2(pc)"
   ]
  },
  {
   "cell_type": "code",
   "execution_count": 11,
   "id": "c7daea0e-0d23-458a-807f-096f85e8437a",
   "metadata": {
    "tags": []
   },
   "outputs": [
    {
     "data": {
      "text/plain": [
       "'calc(calc(50vw * 0.500000) - 1px)'"
      ]
     },
     "execution_count": 11,
     "metadata": {},
     "output_type": "execute_result"
    }
   ],
   "source": [
    "s.width"
   ]
  },
  {
   "cell_type": "code",
   "execution_count": 12,
   "id": "740f50d1-1427-49ee-9125-991882c6d0c7",
   "metadata": {
    "tags": []
   },
   "outputs": [
    {
     "data": {
      "application/vnd.jupyter.widget-view+json": {
       "model_id": "f11b90d3eacc42c39951af15980ab9fe",
       "version_major": 2,
       "version_minor": 0
      },
      "text/plain": [
       "Card(children=[VBox(children=(Row(children=[Html(children=['Chart width in pixels:'], class_='pa-0 ma-0 mt-4',…"
      ]
     },
     "execution_count": 12,
     "metadata": {},
     "output_type": "execute_result"
    }
   ],
   "source": [
    "pc.configure()"
   ]
  },
  {
   "cell_type": "code",
   "execution_count": 13,
   "id": "76e4a265-325f-490d-acc5-3d3567c9a5bb",
   "metadata": {
    "tags": []
   },
   "outputs": [
    {
     "data": {
      "application/vnd.jupyter.widget-view+json": {
       "model_id": "0e19e60ad6df498bae5d760d7a03a21b",
       "version_major": 2,
       "version_minor": 0
      },
      "text/plain": [
       "Card(children=[VBox(children=(Html(children=[Select(background_color='white', chips=False, class_='pa-0 mx-0 m…"
      ]
     },
     "execution_count": 13,
     "metadata": {},
     "output_type": "execute_result"
    }
   ],
   "source": [
    "s.configure()"
   ]
  },
  {
   "cell_type": "code",
   "execution_count": 14,
   "id": "389923c7-c759-4c4d-9815-d83dbcc1256f",
   "metadata": {
    "tags": []
   },
   "outputs": [],
   "source": [
    "pc.chart_width = 800\n",
    "pc.chart_height = 500"
   ]
  },
  {
   "cell_type": "code",
   "execution_count": 15,
   "id": "87f9eadf-8de6-46c5-87c4-7d3eda11e79d",
   "metadata": {
    "tags": []
   },
   "outputs": [],
   "source": [
    "c.leftwidthperc = 20\n",
    "c.topheightperc = 80"
   ]
  },
  {
   "cell_type": "code",
   "execution_count": 16,
   "id": "7a22470c-a58e-4db5-8978-1ebf08f7f03b",
   "metadata": {
    "tags": []
   },
   "outputs": [],
   "source": [
    "c.splitmode = 4"
   ]
  },
  {
   "cell_type": "code",
   "execution_count": null,
   "id": "a4cab3a1-d465-42e8-ad6f-3836e6b3cca0",
   "metadata": {
    "tags": []
   },
   "outputs": [],
   "source": [
    "pc"
   ]
  },
  {
   "cell_type": "code",
   "execution_count": null,
   "id": "284e5a8a-41c6-4db6-91fa-076831488692",
   "metadata": {
    "tags": []
   },
   "outputs": [],
   "source": [
    "from vois.geo import Map\n",
    "c.set3(Map.Map())"
   ]
  },
  {
   "cell_type": "code",
   "execution_count": null,
   "id": "5d657c08-0ab6-4c4f-8e88-eaef9b0bb9a7",
   "metadata": {
    "tags": []
   },
   "outputs": [],
   "source": [
    "c.set1(None)"
   ]
  },
  {
   "cell_type": "code",
   "execution_count": null,
   "id": "b74f5397-1d5c-4596-8dea-751340a1ea3e",
   "metadata": {
    "tags": []
   },
   "outputs": [],
   "source": [
    "c.width = '700px'"
   ]
  },
  {
   "cell_type": "code",
   "execution_count": null,
   "id": "d32c6aa3-862f-435f-84a4-206b5f219139",
   "metadata": {},
   "outputs": [],
   "source": [
    "c.splitmode = 4"
   ]
  },
  {
   "cell_type": "code",
   "execution_count": 12,
   "id": "7db6490e-9483-4d0c-8f33-281b165e363d",
   "metadata": {},
   "outputs": [],
   "source": [
    "c.leftwidthperc = 40"
   ]
  },
  {
   "cell_type": "code",
   "execution_count": 14,
   "id": "2e1b4a64-f782-4861-b346-51359c5d9499",
   "metadata": {
    "tags": []
   },
   "outputs": [],
   "source": [
    "c.topheightperc = 20"
   ]
  },
  {
   "cell_type": "code",
   "execution_count": 17,
   "id": "dbd4dff8-a265-4c74-99c5-cb09be30da14",
   "metadata": {},
   "outputs": [
    {
     "data": {
      "application/vnd.jupyter.widget-view+json": {
       "model_id": "702bc662b08c4734a677f411e31e711a",
       "version_major": 2,
       "version_minor": 0
      },
      "text/plain": [
       "Card(children=[HTML(value='\\n<svg\\n   xmlns:svg=\"http://www.w3.org/2000/svg\"\\n   xmlns=\"http://www.w3.org/2000…"
      ]
     },
     "execution_count": 17,
     "metadata": {},
     "output_type": "execute_result"
    }
   ],
   "source": [
    "c.card3children.draw()"
   ]
  },
  {
   "cell_type": "code",
   "execution_count": 18,
   "id": "f9bfb48e-ff83-4c83-bd6d-3602e3c11770",
   "metadata": {},
   "outputs": [],
   "source": [
    "c.card3children.updateChart()"
   ]
  },
  {
   "cell_type": "code",
   "execution_count": null,
   "id": "26233394-064a-43c0-b3bc-6e6ef9f08dec",
   "metadata": {},
   "outputs": [],
   "source": []
  }
 ],
 "metadata": {
  "kernelspec": {
   "display_name": "Python [interapro_env]",
   "language": "python",
   "name": "conda-env-interapro_env-py"
  },
  "language_info": {
   "codemirror_mode": {
    "name": "ipython",
    "version": 3
   },
   "file_extension": ".py",
   "mimetype": "text/x-python",
   "name": "python",
   "nbconvert_exporter": "python",
   "pygments_lexer": "ipython3",
   "version": "3.11.6"
  }
 },
 "nbformat": 4,
 "nbformat_minor": 5
}
