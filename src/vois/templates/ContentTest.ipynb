{
 "cells": [
  {
   "cell_type": "code",
   "execution_count": 32,
   "id": "3866cb33-b425-4c1c-9d70-ec32c31a94ed",
   "metadata": {
    "tags": []
   },
   "outputs": [
    {
     "data": {
      "application/vnd.jupyter.widget-view+json": {
       "model_id": "b4e936a8ab394242bba329780a2c9b11",
       "version_major": 2,
       "version_minor": 0
      },
      "text/plain": [
       "Content(children=[Card(children=[Card(height='50vh', layout=None, max_height='50vh', max_width='50vw', min_hei…"
      ]
     },
     "execution_count": 32,
     "metadata": {},
     "output_type": "execute_result"
    }
   ],
   "source": [
    "# To load local vois library with ignore on deprecation warnings\n",
    "%run ../development/load_local_vois.py -w\n",
    "\n",
    "%run Content.py\n",
    "\n",
    "c = Content(splitmode=0)\n",
    "c"
   ]
  },
  {
   "cell_type": "code",
   "execution_count": 10,
   "id": "b74f5397-1d5c-4596-8dea-751340a1ea3e",
   "metadata": {
    "tags": []
   },
   "outputs": [],
   "source": [
    "c.width = '700px'"
   ]
  },
  {
   "cell_type": "code",
   "execution_count": 36,
   "id": "d32c6aa3-862f-435f-84a4-206b5f219139",
   "metadata": {},
   "outputs": [],
   "source": [
    "c.splitmode=4"
   ]
  },
  {
   "cell_type": "code",
   "execution_count": null,
   "id": "7db6490e-9483-4d0c-8f33-281b165e363d",
   "metadata": {},
   "outputs": [],
   "source": []
  }
 ],
 "metadata": {
  "kernelspec": {
   "display_name": "Python [interapro_env]",
   "language": "python",
   "name": "conda-env-interapro_env-py"
  },
  "language_info": {
   "codemirror_mode": {
    "name": "ipython",
    "version": 3
   },
   "file_extension": ".py",
   "mimetype": "text/x-python",
   "name": "python",
   "nbconvert_exporter": "python",
   "pygments_lexer": "ipython3",
   "version": "3.11.6"
  }
 },
 "nbformat": 4,
 "nbformat_minor": 5
}
