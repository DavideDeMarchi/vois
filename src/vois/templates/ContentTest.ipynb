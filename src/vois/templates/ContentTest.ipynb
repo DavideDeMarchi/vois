{
 "cells": [
  {
   "cell_type": "code",
   "execution_count": 22,
   "id": "3866cb33-b425-4c1c-9d70-ec32c31a94ed",
   "metadata": {
    "tags": []
   },
   "outputs": [
    {
     "data": {
      "application/vnd.jupyter.widget-view+json": {
       "model_id": "d41a9ada34114c2a94ece074db5c6b81",
       "version_major": 2,
       "version_minor": 0
      },
      "text/plain": [
       "Content(children=[Card(children=[HBox(children=(VBox(children=(Card(height='calc(50vh * 0.500000)', layout=Non…"
      ]
     },
     "execution_count": 22,
     "metadata": {},
     "output_type": "execute_result"
    }
   ],
   "source": [
    "# To load local vois library with ignore on deprecation warnings\n",
    "%run ../development/load_local_vois.py -w\n",
    "\n",
    "%run Content.py\n",
    "\n",
    "c = Content(splitmode=4)\n",
    "c"
   ]
  },
  {
   "cell_type": "code",
   "execution_count": 10,
   "id": "b74f5397-1d5c-4596-8dea-751340a1ea3e",
   "metadata": {
    "tags": []
   },
   "outputs": [],
   "source": [
    "c.width = '700px'"
   ]
  },
  {
   "cell_type": "code",
   "execution_count": 36,
   "id": "d32c6aa3-862f-435f-84a4-206b5f219139",
   "metadata": {},
   "outputs": [],
   "source": [
    "c.splitmode=4"
   ]
  },
  {
   "cell_type": "code",
   "execution_count": 23,
   "id": "7db6490e-9483-4d0c-8f33-281b165e363d",
   "metadata": {},
   "outputs": [],
   "source": [
    "c.leftwidthperc = 80"
   ]
  },
  {
   "cell_type": "code",
   "execution_count": 24,
   "id": "2e1b4a64-f782-4861-b346-51359c5d9499",
   "metadata": {
    "tags": []
   },
   "outputs": [],
   "source": [
    "c.topheightperc = 80"
   ]
  },
  {
   "cell_type": "code",
   "execution_count": null,
   "id": "dbd4dff8-a265-4c74-99c5-cb09be30da14",
   "metadata": {},
   "outputs": [],
   "source": []
  }
 ],
 "metadata": {
  "kernelspec": {
   "display_name": "Python [interapro_env]",
   "language": "python",
   "name": "conda-env-interapro_env-py"
  },
  "language_info": {
   "codemirror_mode": {
    "name": "ipython",
    "version": 3
   },
   "file_extension": ".py",
   "mimetype": "text/x-python",
   "name": "python",
   "nbconvert_exporter": "python",
   "pygments_lexer": "ipython3",
   "version": "3.11.6"
  }
 },
 "nbformat": 4,
 "nbformat_minor": 5
}
