{
 "cells": [
  {
   "cell_type": "code",
   "execution_count": null,
   "id": "3866cb33-b425-4c1c-9d70-ec32c31a94ed",
   "metadata": {
    "tags": []
   },
   "outputs": [],
   "source": [
    "# To load local vois library with ignore on deprecation warnings\n",
    "%run ../development/load_local_vois.py -w\n",
    "\n",
    "from ipywidgets import widgets, HTML, Layout\n",
    "from IPython.display import display\n",
    "\n",
    "output = widgets.Output(layout=Layout(width='0px', height='0px'))\n",
    "display(output)\n",
    "\n",
    "from vois import cssUtils\n",
    "cssUtils.switchFontSize(output,14)\n",
    "\n",
    "%run Content.py\n",
    "\n",
    "c = Content(output=output, splitmode=1)\n",
    "#display(c.debug)\n",
    "display(c)\n",
    "display(c.configure())"
   ]
  },
  {
   "cell_type": "code",
   "execution_count": null,
   "id": "e218a31d-3170-4a5b-83ed-35041942ef88",
   "metadata": {
    "tags": []
   },
   "outputs": [],
   "source": [
    "c.state"
   ]
  },
  {
   "cell_type": "code",
   "execution_count": null,
   "id": "a5e47b3e-3546-44cf-aa5d-1ee05538a2bd",
   "metadata": {
    "tags": []
   },
   "outputs": [],
   "source": [
    "c.state = {'width': '50vw',\n",
    " 'height': '50vh',\n",
    " 'splitmode': 3,\n",
    " 'leftwidthperc': 33,\n",
    " 'topheightperc': 39,\n",
    " 'borderwidth': 2,\n",
    " 'linkedmaps': True,\n",
    " 'color_first': 'red',\n",
    " 'color_second': '#ffaa99',\n",
    " 'dark': True,\n",
    " 'content1': {'content': 'Map',\n",
    "  'width': 'calc(calc(50vw * 0.330000) - 1px)',\n",
    "  'height': 'calc(calc(50vh * 0.390000) - 1px)',\n",
    "  'show_fullscreen': False,\n",
    "  'show_coordinates': False,\n",
    "  'show_search': False,\n",
    "  'show_scale': False,\n",
    "  'show_basemaps': False,\n",
    "  'show_overview': False,\n",
    "  'color_first': 'red',\n",
    "  'color_second': '#ffaa99',\n",
    "  'dark': True,\n",
    "  'basemapindex': 0,\n",
    "  'center': [50, 12],\n",
    "  'zoom': 5.0},\n",
    " 'content2': {'content': 'SVG Drawing',\n",
    "  'width': 'calc(calc(50vw * 0.330000) - 1px)',\n",
    "  'height': 'calc(calc(50vh * 0.610000) - 1px)',\n",
    "  'color_first': 'red',\n",
    "  'color_second': '#ffaa99',\n",
    "  'dark': True,\n",
    "  'familyname': 'sequential',\n",
    "  'palette': 'Viridis'},\n",
    " 'content3': {'content': 'Map',\n",
    "  'width': 'calc(calc(50vw * 0.670000) - 1px)',\n",
    "  'height': 'calc(50vh - 1px)',\n",
    "  'show_fullscreen': True,\n",
    "  'show_coordinates': True,\n",
    "  'show_search': True,\n",
    "  'show_scale': True,\n",
    "  'show_basemaps': True,\n",
    "  'show_overview': False,\n",
    "  'color_first': 'red',\n",
    "  'color_second': '#ffaa99',\n",
    "  'dark': True,\n",
    "  'basemapindex': 2,\n",
    "  'center': [50, 12],\n",
    "  'zoom': 5.0}}"
   ]
  },
  {
   "cell_type": "code",
   "execution_count": null,
   "id": "efe26fd8-d97e-4abb-89c6-a8de740e7206",
   "metadata": {
    "tags": []
   },
   "outputs": [],
   "source": [
    "c.color_first  = 'red'\n",
    "c.color_second = '#ffaa99'\n",
    "c.borderwidth = 2\n",
    "c.dark = True"
   ]
  },
  {
   "cell_type": "code",
   "execution_count": null,
   "id": "7544c703-0284-4da7-8cbc-d3c11d9de71d",
   "metadata": {
    "tags": []
   },
   "outputs": [],
   "source": [
    "c.linkedmaps = True"
   ]
  },
  {
   "cell_type": "code",
   "execution_count": null,
   "id": "c6bd354c-a92f-405a-8b17-0f19208daf26",
   "metadata": {
    "tags": []
   },
   "outputs": [],
   "source": [
    "isinstance(c.card1children, Map.Map)"
   ]
  },
  {
   "cell_type": "code",
   "execution_count": null,
   "id": "6af9e5fa-6a40-441f-bf6f-5eaa567d75ed",
   "metadata": {
    "tags": []
   },
   "outputs": [],
   "source": [
    "%run PlotlyChart.py\n",
    "pc = PlotlyChart()"
   ]
  },
  {
   "cell_type": "code",
   "execution_count": null,
   "id": "7b4a9a50-5645-4db6-8533-7a1fcdd21f7a",
   "metadata": {
    "tags": []
   },
   "outputs": [],
   "source": [
    "%run SVGdrawing.py\n",
    "s = SVGdrawing()"
   ]
  },
  {
   "cell_type": "code",
   "execution_count": null,
   "id": "6324887a-9a07-421a-983a-072bddd6980c",
   "metadata": {
    "tags": []
   },
   "outputs": [],
   "source": [
    "c.set3(s)\n",
    "c.set2(pc)"
   ]
  },
  {
   "cell_type": "code",
   "execution_count": null,
   "id": "c7daea0e-0d23-458a-807f-096f85e8437a",
   "metadata": {
    "tags": []
   },
   "outputs": [],
   "source": [
    "s.width"
   ]
  },
  {
   "cell_type": "code",
   "execution_count": null,
   "id": "740f50d1-1427-49ee-9125-991882c6d0c7",
   "metadata": {
    "tags": []
   },
   "outputs": [],
   "source": [
    "pc.configure()"
   ]
  },
  {
   "cell_type": "code",
   "execution_count": null,
   "id": "76e4a265-325f-490d-acc5-3d3567c9a5bb",
   "metadata": {
    "tags": []
   },
   "outputs": [],
   "source": [
    "s.configure()"
   ]
  },
  {
   "cell_type": "code",
   "execution_count": null,
   "id": "389923c7-c759-4c4d-9815-d83dbcc1256f",
   "metadata": {
    "tags": []
   },
   "outputs": [],
   "source": [
    "pc.chart_width = 800\n",
    "pc.chart_height = 500"
   ]
  },
  {
   "cell_type": "code",
   "execution_count": null,
   "id": "87f9eadf-8de6-46c5-87c4-7d3eda11e79d",
   "metadata": {
    "tags": []
   },
   "outputs": [],
   "source": [
    "c.leftwidthperc = 60\n",
    "c.topheightperc = 80"
   ]
  },
  {
   "cell_type": "code",
   "execution_count": null,
   "id": "7a22470c-a58e-4db5-8978-1ebf08f7f03b",
   "metadata": {
    "tags": []
   },
   "outputs": [],
   "source": [
    "c.splitmode = 4"
   ]
  },
  {
   "cell_type": "code",
   "execution_count": null,
   "id": "a4cab3a1-d465-42e8-ad6f-3836e6b3cca0",
   "metadata": {
    "tags": []
   },
   "outputs": [],
   "source": [
    "pc"
   ]
  },
  {
   "cell_type": "code",
   "execution_count": null,
   "id": "284e5a8a-41c6-4db6-91fa-076831488692",
   "metadata": {
    "tags": []
   },
   "outputs": [],
   "source": [
    "from vois.geo import Map\n",
    "c.set3(Map.Map())"
   ]
  },
  {
   "cell_type": "code",
   "execution_count": null,
   "id": "5d657c08-0ab6-4c4f-8e88-eaef9b0bb9a7",
   "metadata": {
    "tags": []
   },
   "outputs": [],
   "source": [
    "c.set1(None)"
   ]
  },
  {
   "cell_type": "code",
   "execution_count": null,
   "id": "b74f5397-1d5c-4596-8dea-751340a1ea3e",
   "metadata": {
    "tags": []
   },
   "outputs": [],
   "source": [
    "c.width = '700px'"
   ]
  },
  {
   "cell_type": "code",
   "execution_count": null,
   "id": "d32c6aa3-862f-435f-84a4-206b5f219139",
   "metadata": {},
   "outputs": [],
   "source": [
    "c.splitmode = 4"
   ]
  },
  {
   "cell_type": "code",
   "execution_count": null,
   "id": "7db6490e-9483-4d0c-8f33-281b165e363d",
   "metadata": {},
   "outputs": [],
   "source": [
    "c.leftwidthperc = 40"
   ]
  },
  {
   "cell_type": "code",
   "execution_count": null,
   "id": "2e1b4a64-f782-4861-b346-51359c5d9499",
   "metadata": {
    "tags": []
   },
   "outputs": [],
   "source": [
    "c.topheightperc = 20"
   ]
  },
  {
   "cell_type": "code",
   "execution_count": null,
   "id": "dbd4dff8-a265-4c74-99c5-cb09be30da14",
   "metadata": {},
   "outputs": [],
   "source": [
    "c.card3children.draw()"
   ]
  },
  {
   "cell_type": "code",
   "execution_count": null,
   "id": "f9bfb48e-ff83-4c83-bd6d-3602e3c11770",
   "metadata": {},
   "outputs": [],
   "source": [
    "c.card3children.updateChart()"
   ]
  },
  {
   "cell_type": "code",
   "execution_count": null,
   "id": "26233394-064a-43c0-b3bc-6e6ef9f08dec",
   "metadata": {},
   "outputs": [],
   "source": []
  }
 ],
 "metadata": {
  "kernelspec": {
   "display_name": "Python [interapro_env]",
   "language": "python",
   "name": "conda-env-interapro_env-py"
  },
  "language_info": {
   "codemirror_mode": {
    "name": "ipython",
    "version": 3
   },
   "file_extension": ".py",
   "mimetype": "text/x-python",
   "name": "python",
   "nbconvert_exporter": "python",
   "pygments_lexer": "ipython3",
   "version": "3.11.6"
  }
 },
 "nbformat": 4,
 "nbformat_minor": 5
}
