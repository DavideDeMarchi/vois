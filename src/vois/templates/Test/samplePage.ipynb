{
 "cells": [
  {
   "cell_type": "code",
   "execution_count": 1,
   "id": "428be991",
   "metadata": {
    "tags": []
   },
   "outputs": [
    {
     "data": {
      "application/vnd.jupyter.widget-view+json": {
       "model_id": "f1818a9878e94258beb814750f7979bc",
       "version_major": 2,
       "version_minor": 0
      },
      "text/plain": [
       "Output(layout=Layout(height='0px', width='0px'))"
      ]
     },
     "metadata": {},
     "output_type": "display_data"
    }
   ],
   "source": [
    "%run ../../development/load_local_vois.py -w\n",
    "\n",
    "from vois.vuetify import settings\n",
    "settings.color_first    = '#0D856D'\n",
    "settings.color_second   = '#A0DCD0'\n",
    "settings.button_rounded = False\n",
    "settings.dark_mode      = True\n",
    "\n",
    "from ipywidgets import widgets, HTML, Layout\n",
    "from IPython.display import display\n",
    "import ipyvuetify as v\n",
    "import json\n",
    "\n",
    "from vois import cssUtils\n",
    "from vois.vuetify import switch, Button, dialogMessage\n",
    "from vois.templates import template1panel\n",
    "\n",
    "\n",
    "output = widgets.Output(layout=Layout(width='0px', height='0px'))\n",
    "display(output)\n",
    "\n",
    "cssUtils.allSettings(output)\n",
    "cssUtils.switchFontSize(output,14)\n",
    "\n",
    "# Derived page class\n",
    "class samplePage(template1panel.template1panel):\n",
    "    \n",
    "    # Initialisation\n",
    "    def __init__(self, output, **kwargs):\n",
    "        super().__init__(output=output, on_logoapp=self.on_logoapp, on_help=self.on_help, on_credits=self.on_credits,\n",
    "                         leftWidth=400,\n",
    "                         **kwargs)\n",
    "\n",
    "    # Clicked the application logo\n",
    "    def on_logoapp(self):\n",
    "        dialogMessage.dialogMessage(title='Info on ' + self.appname, titleheight=36,\n",
    "                                    text='Text to customise for info on the application<br>Add text here or open a PDF file',\n",
    "                                    addclosebuttons=True, show=True, width=400, output=self.output)\n",
    "        \n",
    "    # Clicked the 'Help' button\n",
    "    def on_help(self):\n",
    "        dialogMessage.dialogMessage(title='Help', titleheight=36,\n",
    "                                    text='Text to customise for the application help<br>Add text here or open a PDF file',\n",
    "                                    addclosebuttons=True, show=True, width=400, output=self.output)\n",
    "    \n",
    "    # Clicked the credits logo\n",
    "    def on_credits(self):\n",
    "        dialogMessage.dialogMessage(title='Credits for ' + self.appname, titleheight=36,\n",
    "                                    text='Text to customise for the credits info<br>Add text here or open a PDF file',\n",
    "                                    addclosebuttons=True, show=True, width=400, output=self.output)\n",
    "                                    \n",
    "                                    \n",
    "    # Create the content of the Main panel\n",
    "    def createMain(self):\n",
    "        super().createMain()\n",
    "\n",
    "\n",
    "    # Overload the method called when the state changes\n",
    "    def onStateChanged(self):\n",
    "    \n",
    "        # Save reference to content items (map, charts, etc.)\n",
    "        self.map1 = self.content.card1children\n",
    "        self.chart2 = self.content.card2children\n",
    "        self.svg3 = self.content.card3children\n",
    "        \n",
    "\n",
    "    # Create sample widgets on the Left panel\n",
    "    def createLeft(self):\n",
    "        super().createLeft()\n",
    "\n",
    "        # Create sample widgets\n",
    "        spacer  = v.Html(tag='div', style_='width: 10px; height: 10px;')\n",
    "        lab = v.Html(tag='div', children=['Place here your widgets:'], class_='pa-0 ma-0 ml-4 mt-4 mb-3')\n",
    "        sw  = switch.switch(True, 'Sample switch', inset=True, dense=True, onchange=None)\n",
    "        b   = Button('Sample button with icon and tooltip', on_click=None, width=360, height=42,\n",
    "                     tooltip='Tooltip for button', selected=True, icon='mdi-cogs')\n",
    "        \n",
    "        # Add widgets to Left card\n",
    "        self.cardLeft.children = [widgets.VBox([lab, \n",
    "                                                sw.draw(), \n",
    "                                                spacer,\n",
    "                                                widgets.HBox([spacer, b])\n",
    "                                               ])]\n",
    "\n",
    "\n",
    "# Create an instance of mypage\n",
    "p = samplePage(output)\n",
    "p.create()\n",
    "\n",
    "# Read the state of the page from the .json file\n",
    "with open('samplePage.json') as f:\n",
    "    state = json.load(f)\n",
    "    p.state = state\n",
    "    if 'content' in state:\n",
    "        p.content.state = state['content']\n",
    "\n",
    "# Change the content here:\n",
    "\n",
    "# Change the background layer of the map\n",
    "from vois.geo import Map, mapUtils\n",
    "mapUtils.addLayer(p.map1, mapUtils.GoogleHybrid(), Map.LAYERNAME_BACKGROUND)\n",
    "\n",
    "# Change the figure of the plotly chart\n",
    "import plotly.express as px\n",
    "df = px.data.gapminder()\n",
    "fig = px.scatter(df.query(\"year==2007\"), x=\"gdpPercap\", y=\"lifeExp\",\n",
    "                 size=\"pop\", color=\"continent\",\n",
    "                 hover_name=\"country\", log_x=True, size_max=60)\n",
    "fig.update_layout(title='Continent GDP', template='plotly_white', margin=dict(l=0, r=0, b=0, t=30))\n",
    "p.chart2.fig = fig\n",
    "\n",
    "# Change the SVG drawing\n",
    "with open('Seaborn.svg') as f:\n",
    "    svg = f.read()\n",
    "    p.svg3.svg = svg\n",
    "    \n",
    "# Open the page\n",
    "p.open()\n"
   ]
  },
  {
   "cell_type": "code",
   "execution_count": 3,
   "id": "e900da36",
   "metadata": {
    "tags": []
   },
   "outputs": [],
   "source": [
    "p.open()"
   ]
  },
  {
   "cell_type": "code",
   "execution_count": null,
   "id": "e9a17b99",
   "metadata": {},
   "outputs": [],
   "source": []
  }
 ],
 "metadata": {
  "kernelspec": {
   "display_name": "Python 3 (ipykernel)",
   "language": "python",
   "name": "python3"
  },
  "language_info": {
   "codemirror_mode": {
    "name": "ipython",
    "version": 3
   },
   "file_extension": ".py",
   "mimetype": "text/x-python",
   "name": "python",
   "nbconvert_exporter": "python",
   "pygments_lexer": "ipython3",
   "version": "3.7.13"
  }
 },
 "nbformat": 4,
 "nbformat_minor": 5
}
