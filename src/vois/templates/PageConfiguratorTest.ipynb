{
 "cells": [
  {
   "cell_type": "code",
   "execution_count": 36,
   "id": "b822bbc8",
   "metadata": {
    "tags": []
   },
   "outputs": [
    {
     "data": {
      "application/vnd.jupyter.widget-view+json": {
       "model_id": "a3d75b2c01044afcaac1b4ed9a97a10e",
       "version_major": 2,
       "version_minor": 0
      },
      "text/plain": [
       "Output(layout=Layout(height='0px', width='0px'))"
      ]
     },
     "metadata": {},
     "output_type": "display_data"
    }
   ],
   "source": [
    "# To load local vois library with ignore on deprecation warnings\n",
    "%run ../development/load_local_vois.py -w\n",
    "\n",
    "from ipywidgets import widgets, HTML, Layout\n",
    "from vois.vuetify import settings\n",
    "settings.dark_mode      = True\n",
    "settings.color_first    = '#0d856d'\n",
    "settings.color_second   = '#a0dcd0'\n",
    "settings.button_rounded = True\n",
    "\n",
    "output = widgets.Output(layout=Layout(width='0px', height='0px'))\n",
    "display(output)\n",
    "\n",
    "%run PageConfigurator.py\n",
    "\n",
    "c = PageConfigurator(output)"
   ]
  },
  {
   "cell_type": "code",
   "execution_count": 52,
   "id": "b93e2ff9-4946-4d54-9da1-167dc3ab0d3a",
   "metadata": {
    "tags": []
   },
   "outputs": [
    {
     "data": {
      "application/vnd.jupyter.widget-view+json": {
       "model_id": "43b7c9e4156949f990be5192d7f03d62",
       "version_major": 2,
       "version_minor": 0
      },
      "text/plain": [
       "Output()"
      ]
     },
     "metadata": {},
     "output_type": "display_data"
    }
   ],
   "source": [
    "%run ../development/load_local_vois.py -w\n",
    "\n",
    "from ipywidgets import widgets, Layout\n",
    "from vois.vuetify import upload, dialogGeneric\n",
    "from IPython.display import display\n",
    "from PIL import Image\n",
    "import ipyvuetify as v\n",
    "\n",
    "debug = widgets.Output()\n",
    "display(debug)\n",
    "\n",
    "preview = widgets.Output(layout=Layout(height='600px'))\n",
    "\n",
    "def on_file_upload(files):\n",
    "    with debug:\n",
    "        # If at least one file has been selected      \n",
    "        if len(files) > 0:\n",
    "            preview.clear_output()\n",
    "            for f in files:\n",
    "                image = Image.open(f['file_obj'])\n",
    "                with preview:\n",
    "                    display(image)\n",
    "\n",
    "        # No files selected\n",
    "        else:\n",
    "            preview.clear_output()\n",
    "\n",
    "u = upload.upload(accept=\"image/png, image/jpeg, image/bmp\",\n",
    "                  label='Images', onchange=on_file_upload,\n",
    "                  placeholder='Click to select images to upload')\n",
    "\n",
    "spacerY = v.Html(tag='div', style_='width: 0px; height: 20px;')\n",
    "content = v.Card(flat=True, class_='pa-0, ma-0 ml-4 mr-4', children=[widgets.VBox([u.draw(), spacerY, preview])])\n",
    "\n",
    "def on_ok():\n",
    "    pass\n",
    "\n",
    "dialogImage = dialogGeneric.dialogGeneric(title='Select image for title bar', on_ok=on_ok,\n",
    "                                          text='   ', color=settings.color_second, width=1200,\n",
    "                                          show=True, addclosebuttons=True, addokcancelbuttons=True,\n",
    "                                          fullscreen=False, content=[content], output=debug)\n"
   ]
  },
  {
   "cell_type": "code",
   "execution_count": 33,
   "id": "82d62364-8115-46ba-a70e-87c5ae9133a4",
   "metadata": {
    "tags": []
   },
   "outputs": [
    {
     "data": {
      "application/vnd.jupyter.widget-view+json": {
       "model_id": "1c4f56190398474cadf12294297b1f8f",
       "version_major": 2,
       "version_minor": 0
      },
      "text/plain": [
       "Output()"
      ]
     },
     "execution_count": 33,
     "metadata": {},
     "output_type": "execute_result"
    }
   ],
   "source": [
    "c.debug"
   ]
  },
  {
   "cell_type": "code",
   "execution_count": 25,
   "id": "cd06eb7f-f401-4bba-930f-feffd34322b4",
   "metadata": {},
   "outputs": [
    {
     "data": {
      "text/plain": [
       "{'appname': 'My app',\n",
       " 'title': 'My page',\n",
       " 'titlecolor': '#0d856d',\n",
       " 'titledark': True,\n",
       " 'titleheight': 54,\n",
       " 'titleimageurl': '',\n",
       " 'footercolor': '#a0dcd0',\n",
       " 'footerdark': False,\n",
       " 'footerheight': 30,\n",
       " 'copyrighttext': 'European Commission - Joint Research Centre',\n",
       " 'show_back': True,\n",
       " 'left_back': True,\n",
       " 'show_help': True,\n",
       " 'show_credits': True,\n",
       " 'logoappurl': 'https://jeodpp.jrc.ec.europa.eu/services/shared/pngs/BDAP_Logo1024transparent.png',\n",
       " 'logocreditsurl': 'https://jeodpp.jrc.ec.europa.eu/services/shared/pngs/EC-JRC-logo_horizontal_EN_neg_transparent-background.png',\n",
       " 'logowidth': 40,\n",
       " 'creditswidth': 120,\n",
       " 'transition': 'dialog-bottom-transition'}"
      ]
     },
     "execution_count": 25,
     "metadata": {},
     "output_type": "execute_result"
    }
   ],
   "source": [
    "c.page.state"
   ]
  },
  {
   "cell_type": "code",
   "execution_count": null,
   "id": "fe2635be-63fa-4808-9349-abf1853f7d90",
   "metadata": {},
   "outputs": [],
   "source": []
  }
 ],
 "metadata": {
  "kernelspec": {
   "display_name": "Python [interapro_env]",
   "language": "python",
   "name": "conda-env-interapro_env-py"
  },
  "language_info": {
   "codemirror_mode": {
    "name": "ipython",
    "version": 3
   },
   "file_extension": ".py",
   "mimetype": "text/x-python",
   "name": "python",
   "nbconvert_exporter": "python",
   "pygments_lexer": "ipython3",
   "version": "3.11.6"
  }
 },
 "nbformat": 4,
 "nbformat_minor": 5
}
