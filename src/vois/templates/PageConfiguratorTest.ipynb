{
 "cells": [
  {
   "cell_type": "code",
   "execution_count": null,
   "id": "b822bbc8",
   "metadata": {
    "tags": []
   },
   "outputs": [],
   "source": [
    "# To load local vois library with ignore on deprecation warnings\n",
    "%run ../development/load_local_vois.py -w\n",
    "\n",
    "from ipywidgets import widgets, HTML, Layout\n",
    "from vois.vuetify import settings\n",
    "settings.dark_mode      = True\n",
    "settings.color_first    = '#0d856d'\n",
    "settings.color_second   = '#a0dcd0'\n",
    "settings.button_rounded = True\n",
    "\n",
    "output = widgets.Output(layout=Layout(width='0px', height='0px'))\n",
    "display(output)\n",
    "\n",
    "%run PageConfigurator.py\n",
    "\n",
    "c = PageConfigurator(output)"
   ]
  },
  {
   "cell_type": "code",
   "execution_count": null,
   "id": "82d62364-8115-46ba-a70e-87c5ae9133a4",
   "metadata": {
    "tags": []
   },
   "outputs": [],
   "source": [
    "c.debug"
   ]
  },
  {
   "cell_type": "code",
   "execution_count": null,
   "id": "cd06eb7f-f401-4bba-930f-feffd34322b4",
   "metadata": {},
   "outputs": [],
   "source": [
    "c.page.state"
   ]
  },
  {
   "cell_type": "code",
   "execution_count": null,
   "id": "fe2635be-63fa-4808-9349-abf1853f7d90",
   "metadata": {},
   "outputs": [],
   "source": []
  }
 ],
 "metadata": {
  "kernelspec": {
   "display_name": "Python [interapro_env]",
   "language": "python",
   "name": "conda-env-interapro_env-py"
  },
  "language_info": {
   "codemirror_mode": {
    "name": "ipython",
    "version": 3
   },
   "file_extension": ".py",
   "mimetype": "text/x-python",
   "name": "python",
   "nbconvert_exporter": "python",
   "pygments_lexer": "ipython3",
   "version": "3.11.6"
  }
 },
 "nbformat": 4,
 "nbformat_minor": 5
}
