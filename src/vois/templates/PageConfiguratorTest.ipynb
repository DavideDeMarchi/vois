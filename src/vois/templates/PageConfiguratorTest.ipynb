{
 "cells": [
  {
   "cell_type": "code",
   "execution_count": 2,
   "id": "b822bbc8",
   "metadata": {
    "tags": []
   },
   "outputs": [
    {
     "data": {
      "application/vnd.jupyter.widget-view+json": {
       "model_id": "9735a85618844f8f82b6c66b5659984d",
       "version_major": 2,
       "version_minor": 0
      },
      "text/plain": [
       "Output(layout=Layout(height='0px', width='0px'))"
      ]
     },
     "metadata": {},
     "output_type": "display_data"
    }
   ],
   "source": [
    "# To load local vois library with ignore on deprecation warnings\n",
    "%run ../development/load_local_vois.py -w\n",
    "\n",
    "from ipywidgets import widgets, HTML, Layout\n",
    "from vois.vuetify import settings\n",
    "settings.dark_mode      = True\n",
    "settings.color_first    = '#0d856d'\n",
    "settings.color_second   = '#a0dcd0'\n",
    "settings.button_rounded = True\n",
    "\n",
    "output = widgets.Output(layout=Layout(width='0px', height='0px'))\n",
    "display(output)\n",
    "\n",
    "\n",
    "%run PageConfigurator.py\n",
    "\n",
    "c = PageConfigurator(output)"
   ]
  },
  {
   "cell_type": "code",
   "execution_count": 5,
   "id": "1bf76a60",
   "metadata": {
    "tags": []
   },
   "outputs": [
    {
     "data": {
      "text/plain": [
       "{'appname': 'Demo',\n",
       " 'title': 'Geospatial page with left panel',\n",
       " 'titlecolor': '#0d856d',\n",
       " 'titledark': True,\n",
       " 'titleheight': 54,\n",
       " 'titleimageurl': '',\n",
       " 'footercolor': '#a0dcd0',\n",
       " 'footerdark': False,\n",
       " 'footerheight': 30,\n",
       " 'copyrighttext': 'European Commission - Joint Research Centre',\n",
       " 'show_back': True,\n",
       " 'left_back': True,\n",
       " 'show_help': True,\n",
       " 'show_credits': True,\n",
       " 'logoappurl': 'https://jeodpp.jrc.ec.europa.eu/services/shared/pngs/BDAP_Logo1024transparent.png',\n",
       " 'logocreditsurl': 'https://jeodpp.jrc.ec.europa.eu/services/shared/pngs/EC-JRC-logo_horizontal_EN_neg_transparent-background.png',\n",
       " 'logowidth': 40,\n",
       " 'creditswidth': 120,\n",
       " 'transition': 'dialog-bottom-transition'}"
      ]
     },
     "execution_count": 5,
     "metadata": {},
     "output_type": "execute_result"
    }
   ],
   "source": [
    "c.page.state"
   ]
  },
  {
   "cell_type": "code",
   "execution_count": null,
   "id": "ff39b22c",
   "metadata": {},
   "outputs": [],
   "source": []
  }
 ],
 "metadata": {
  "kernelspec": {
   "display_name": "Python [interapro_env]",
   "language": "python",
   "name": "conda-env-interapro_env-py"
  },
  "language_info": {
   "codemirror_mode": {
    "name": "ipython",
    "version": 3
   },
   "file_extension": ".py",
   "mimetype": "text/x-python",
   "name": "python",
   "nbconvert_exporter": "python",
   "pygments_lexer": "ipython3",
   "version": "3.11.6"
  }
 },
 "nbformat": 4,
 "nbformat_minor": 5
}
