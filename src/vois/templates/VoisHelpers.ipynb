{
 "cells": [
  {
   "cell_type": "code",
   "execution_count": null,
   "id": "2a55b8c1-9043-464a-bc5a-f91e3d5a077b",
   "metadata": {
    "tags": []
   },
   "outputs": [],
   "source": [
    "from vois.vuetify import settings\n",
    "settings.dark_mode      = True\n",
    "settings.color_first    = '#0d856d'\n",
    "settings.color_second   = '#a0dcd0'\n",
    "settings.button_rounded = False\n",
    "\n",
    "from ipywidgets import widgets, HTML\n",
    "\n",
    "from vois.vuetify import mainPage\n",
    "from vois.templates import PageConfigurator, MainConfigurator\n",
    "\n",
    "from vois import download, cssUtils\n",
    "display(download.output)\n",
    "\n",
    "output = widgets.Output()\n",
    "display(output)\n",
    "\n",
    "cssUtils.allSettings(output)\n",
    "cssUtils.switchFontSize(output,14)\n",
    "\n",
    "\n",
    "# launch the mainConfigurator\n",
    "def onclickMain():\n",
    "    p = MainConfigurator.MainConfigurator(output)\n",
    "    card = p.create()\n",
    "    p.open()\n",
    "\n",
    "# Launch the PageConfigurator\n",
    "def onclickPage():\n",
    "    PageConfigurator.PageConfigurator(output)\n",
    "\n",
    "\n",
    "m = mainPage.mainPage(title='Vois library Helpers',\n",
    "                      subtitle='Graphical configuration of mainPage and Page widgets',\n",
    "                      applogo_url=mainPage.getLocalImageURL('./graphics/vois.png'), applogo_widthpercent=20,\n",
    "                      credits=\"JRC T.4: data visualisation team\",\n",
    "                      titlebox_widthpercent=50, titlebox_heightpercent=25, titlebox_opacity=0.0, titlebox_border=0, titlebox_toppercent=10,\n",
    "                      vois_show=False, vois_opacity=0.1,\n",
    "                      buttonbox_widthpercent=70.0, buttonbox_heightpercent=20.0, buttonbox_toppercent=44.0,\n",
    "                      button_widthpercent=30, button_heightpercent=14, button_elevation=16, button_opacity=0.6, button_radius='8px', button_titlesize='2.15vh', button_subtitlesize='1.2vh',\n",
    "                      background_image=mainPage.getLocalImageURL('./graphics/background.jpg'),\n",
    "                      background_filter='brightness(1.2)',\n",
    "                      creditbox_opacity=0.0, creditbox_toppercent=75, creditbox_widthpercent=24, creditbox_heightpercent=23,\n",
    "                      text_color='#222222')\n",
    "\n",
    "m.addButton('Main Page Configurator',\n",
    "            subtitle='Define the appearence of your start page',\n",
    "            tooltip='Click to open the Main Page Configurator application',\n",
    "            image=mainPage.getLocalImageURL('./graphics/main.png'),\n",
    "            onclick=onclickMain)\n",
    "\n",
    "m.addButton('Page Configurator',\n",
    "            subtitle='Configure content pages',\n",
    "            tooltip='Click to open the Main Page Configurator application',\n",
    "            image=mainPage.getLocalImageURL('./graphics/page.png'),\n",
    "            onclick=onclickPage)\n",
    "\n",
    "\n",
    "m.open()"
   ]
  },
  {
   "cell_type": "code",
   "execution_count": null,
   "id": "a2e0d153-e122-4172-bffd-df87e8bff060",
   "metadata": {},
   "outputs": [],
   "source": []
  }
 ],
 "metadata": {
  "kernelspec": {
   "display_name": "Python [interapro_env]",
   "language": "python",
   "name": "conda-env-interapro_env-py"
  },
  "language_info": {
   "codemirror_mode": {
    "name": "ipython",
    "version": 3
   },
   "file_extension": ".py",
   "mimetype": "text/x-python",
   "name": "python",
   "nbconvert_exporter": "python",
   "pygments_lexer": "ipython3",
   "version": "3.11.6"
  }
 },
 "nbformat": 4,
 "nbformat_minor": 5
}
