{
 "cells": [
  {
   "cell_type": "code",
   "execution_count": 13,
   "id": "3866cb33-b425-4c1c-9d70-ec32c31a94ed",
   "metadata": {
    "tags": []
   },
   "outputs": [
    {
     "data": {
      "application/vnd.jupyter.widget-view+json": {
       "model_id": "f71ddece0fd84a7f91b957101674ca53",
       "version_major": 2,
       "version_minor": 0
      },
      "text/plain": [
       "PlotlyChart(children=[Card(children=[Output(layout=Layout(height='300px', width='500px'))], flat=True, height=…"
      ]
     },
     "execution_count": 13,
     "metadata": {},
     "output_type": "execute_result"
    }
   ],
   "source": [
    "%run PlotlyChart.py\n",
    "\n",
    "pc = PlotlyChart()\n",
    "pc.draw()"
   ]
  },
  {
   "cell_type": "code",
   "execution_count": 14,
   "id": "740f50d1-1427-49ee-9125-991882c6d0c7",
   "metadata": {
    "tags": []
   },
   "outputs": [
    {
     "data": {
      "application/vnd.jupyter.widget-view+json": {
       "model_id": "7cead2e0c2004e409bb462cc88ed6270",
       "version_major": 2,
       "version_minor": 0
      },
      "text/plain": [
       "Card(children=[VBox(children=(Row(children=[Html(children=['Chart width in pixels:'], class_='pa-0 ma-0 mt-4',…"
      ]
     },
     "execution_count": 14,
     "metadata": {},
     "output_type": "execute_result"
    }
   ],
   "source": [
    "pc.configure()"
   ]
  },
  {
   "cell_type": "code",
   "execution_count": 15,
   "id": "f9bfb48e-ff83-4c83-bd6d-3602e3c11770",
   "metadata": {},
   "outputs": [],
   "source": [
    "pc.chart_width  = 1000\n",
    "pc.chart_height = 300"
   ]
  },
  {
   "cell_type": "code",
   "execution_count": 16,
   "id": "404af5fe-1fcd-4b25-a978-bbf6b1f845af",
   "metadata": {},
   "outputs": [],
   "source": [
    "pc.width = '1200px'"
   ]
  },
  {
   "cell_type": "code",
   "execution_count": null,
   "id": "64dcfc84-f139-4709-b093-d63cca3eafca",
   "metadata": {},
   "outputs": [],
   "source": []
  }
 ],
 "metadata": {
  "kernelspec": {
   "display_name": "Python [interapro_env]",
   "language": "python",
   "name": "conda-env-interapro_env-py"
  },
  "language_info": {
   "codemirror_mode": {
    "name": "ipython",
    "version": 3
   },
   "file_extension": ".py",
   "mimetype": "text/x-python",
   "name": "python",
   "nbconvert_exporter": "python",
   "pygments_lexer": "ipython3",
   "version": "3.11.6"
  }
 },
 "nbformat": 4,
 "nbformat_minor": 5
}
