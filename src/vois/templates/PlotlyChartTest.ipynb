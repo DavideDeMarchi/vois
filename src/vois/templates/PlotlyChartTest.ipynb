{
 "cells": [
  {
   "cell_type": "code",
   "execution_count": null,
   "id": "3866cb33-b425-4c1c-9d70-ec32c31a94ed",
   "metadata": {
    "tags": []
   },
   "outputs": [],
   "source": [
    "%run PlotlyChart.py\n",
    "\n",
    "pc = PlotlyChart()\n",
    "pc.draw()"
   ]
  },
  {
   "cell_type": "code",
   "execution_count": null,
   "id": "740f50d1-1427-49ee-9125-991882c6d0c7",
   "metadata": {
    "tags": []
   },
   "outputs": [],
   "source": [
    "pc.configure()"
   ]
  },
  {
   "cell_type": "code",
   "execution_count": null,
   "id": "54fbdfc1-a601-4134-b789-3e2e0e60a09d",
   "metadata": {
    "tags": []
   },
   "outputs": [],
   "source": [
    "pc.state = {'chart_width': 852,\n",
    " 'chart_height': 379,\n",
    " 'color_first': 'red',\n",
    " 'color_second': '#efefef',\n",
    " 'dark': False}"
   ]
  },
  {
   "cell_type": "code",
   "execution_count": null,
   "id": "f9bfb48e-ff83-4c83-bd6d-3602e3c11770",
   "metadata": {},
   "outputs": [],
   "source": [
    "pc.chart_width  = 1000\n",
    "pc.chart_height = 300"
   ]
  },
  {
   "cell_type": "code",
   "execution_count": null,
   "id": "404af5fe-1fcd-4b25-a978-bbf6b1f845af",
   "metadata": {},
   "outputs": [],
   "source": [
    "pc.width = '1200px'"
   ]
  },
  {
   "cell_type": "code",
   "execution_count": null,
   "id": "64dcfc84-f139-4709-b093-d63cca3eafca",
   "metadata": {},
   "outputs": [],
   "source": [
    "pc.color_first = 'red'"
   ]
  },
  {
   "cell_type": "code",
   "execution_count": null,
   "id": "c1e4387b-5952-4063-bce2-3d1f9bdbe4a2",
   "metadata": {},
   "outputs": [],
   "source": []
  }
 ],
 "metadata": {
  "kernelspec": {
   "display_name": "Python [interapro_env]",
   "language": "python",
   "name": "conda-env-interapro_env-py"
  },
  "language_info": {
   "codemirror_mode": {
    "name": "ipython",
    "version": 3
   },
   "file_extension": ".py",
   "mimetype": "text/x-python",
   "name": "python",
   "nbconvert_exporter": "python",
   "pygments_lexer": "ipython3",
   "version": "3.11.6"
  }
 },
 "nbformat": 4,
 "nbformat_minor": 5
}
