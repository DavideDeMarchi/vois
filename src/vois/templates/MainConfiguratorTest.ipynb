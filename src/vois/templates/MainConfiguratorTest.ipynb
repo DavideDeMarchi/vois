{
 "cells": [
  {
   "cell_type": "code",
   "execution_count": 7,
   "id": "96d54e79",
   "metadata": {
    "tags": []
   },
   "outputs": [
    {
     "data": {
      "application/vnd.jupyter.widget-view+json": {
       "model_id": "c5660178f85f43339d1316529e871897",
       "version_major": 2,
       "version_minor": 0
      },
      "text/plain": [
       "Output(layout=Layout(height='0px', width='0px'))"
      ]
     },
     "metadata": {},
     "output_type": "display_data"
    },
    {
     "data": {
      "application/vnd.jupyter.widget-view+json": {
       "model_id": "7d2e1a415da74b478b34caee618087bb",
       "version_major": 2,
       "version_minor": 0
      },
      "text/plain": [
       "Output(layout=Layout(height='0px', min_height='0px', min_width='0px', width='0px'))"
      ]
     },
     "metadata": {},
     "output_type": "display_data"
    }
   ],
   "source": [
    "# To load local vois library with ignore on deprecation warnings\n",
    "%run ../development/load_local_vois.py -w\n",
    "\n",
    "from ipywidgets import widgets, HTML, Layout\n",
    "from vois.vuetify import settings\n",
    "settings.dark_mode      = True\n",
    "settings.color_first    = '#0d856d'\n",
    "settings.color_second   = '#a0dcd0'\n",
    "settings.button_rounded = False\n",
    "\n",
    "output = widgets.Output(layout=Layout(width='0px', height='0px'))\n",
    "display(output)\n",
    "\n",
    "from vois import download, cssUtils\n",
    "display(download.output)\n",
    "\n",
    "cssUtils.allSettings(output)\n",
    "cssUtils.switchFontSize(output,14)\n",
    "\n",
    "# Create the page\n",
    "%run MainConfigurator.py\n",
    "p = MainConfigurator(output)\n",
    "card = p.create()\n",
    "\n",
    "# Open the page\n",
    "p.open()"
   ]
  },
  {
   "cell_type": "code",
   "execution_count": 8,
   "id": "9250e531-cfcc-487a-9642-8ed7d4341733",
   "metadata": {
    "tags": []
   },
   "outputs": [
    {
     "data": {
      "application/vnd.jupyter.widget-view+json": {
       "model_id": "6a05c5269ce8454c9061680da24e11c4",
       "version_major": 2,
       "version_minor": 0
      },
      "text/plain": [
       "Output()"
      ]
     },
     "execution_count": 8,
     "metadata": {},
     "output_type": "execute_result"
    }
   ],
   "source": [
    "p.debug"
   ]
  },
  {
   "cell_type": "code",
   "execution_count": null,
   "id": "e9d80d3e-07cf-495e-8d5c-66a144446eaa",
   "metadata": {
    "tags": []
   },
   "outputs": [],
   "source": [
    "p.main.background_filter"
   ]
  },
  {
   "cell_type": "code",
   "execution_count": null,
   "id": "af0d2938-f499-4bbe-a03d-9cf8ad1c51bc",
   "metadata": {
    "tags": []
   },
   "outputs": [],
   "source": [
    "p.main.buttons"
   ]
  },
  {
   "cell_type": "code",
   "execution_count": null,
   "id": "fea43a60-ca1a-4dfa-9b54-dc979ff127cf",
   "metadata": {
    "tags": []
   },
   "outputs": [],
   "source": [
    "#p.main.preview()"
   ]
  },
  {
   "cell_type": "code",
   "execution_count": null,
   "id": "b8ebaf29-8bcd-4ae9-b8f9-fb24d77813b7",
   "metadata": {},
   "outputs": [],
   "source": [
    "p.main.toJson()"
   ]
  },
  {
   "cell_type": "code",
   "execution_count": null,
   "id": "ee94a23e-0b8e-4667-8cb3-1c61af989488",
   "metadata": {
    "tags": []
   },
   "outputs": [],
   "source": [
    "p.main.preview()"
   ]
  },
  {
   "cell_type": "code",
   "execution_count": null,
   "id": "0006d5b6-b26b-4bd6-934c-54c55d65adde",
   "metadata": {},
   "outputs": [],
   "source": []
  }
 ],
 "metadata": {
  "kernelspec": {
   "display_name": "Python [interapro_env]",
   "language": "python",
   "name": "conda-env-interapro_env-py"
  },
  "language_info": {
   "codemirror_mode": {
    "name": "ipython",
    "version": 3
   },
   "file_extension": ".py",
   "mimetype": "text/x-python",
   "name": "python",
   "nbconvert_exporter": "python",
   "pygments_lexer": "ipython3",
   "version": "3.11.6"
  }
 },
 "nbformat": 4,
 "nbformat_minor": 5
}
