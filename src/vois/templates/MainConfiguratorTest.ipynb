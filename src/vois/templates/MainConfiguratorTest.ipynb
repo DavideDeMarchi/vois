{
 "cells": [
  {
   "cell_type": "code",
   "execution_count": 2,
   "id": "96d54e79",
   "metadata": {
    "tags": []
   },
   "outputs": [
    {
     "data": {
      "application/vnd.jupyter.widget-view+json": {
       "model_id": "31d31cc9d2254cf0a3543ca4819452f9",
       "version_major": 2,
       "version_minor": 0
      },
      "text/plain": [
       "Output(layout=Layout(height='0px', width='0px'))"
      ]
     },
     "metadata": {},
     "output_type": "display_data"
    },
    {
     "data": {
      "application/vnd.jupyter.widget-view+json": {
       "model_id": "b5f3c1dde210453eb001ef2ae15e1ba1",
       "version_major": 2,
       "version_minor": 0
      },
      "text/plain": [
       "HTML(value='\\n<style>.jp-OutputPrompt {\\n    flex: 0 0 0 !important;\\n    display: inline !important;\\n    min…"
      ]
     },
     "metadata": {},
     "output_type": "display_data"
    }
   ],
   "source": [
    "# To load local vois library with ignore on deprecation warnings\n",
    "%run ../development/load_local_vois.py -w\n",
    "\n",
    "from ipywidgets import widgets, HTML, Layout\n",
    "from vois.vuetify import settings\n",
    "settings.dark_mode      = True\n",
    "settings.color_first    = '#0d856d'\n",
    "settings.color_second   = '#a0dcd0'\n",
    "settings.button_rounded = False\n",
    "\n",
    "output = widgets.Output(layout=Layout(width='0px', height='0px'))\n",
    "display(output)\n",
    "\n",
    "\n",
    "# V.I. avoid left margin in Output widgets inside dialog-boxes!!!\n",
    "display(HTML('''\n",
    "<style>.jp-OutputPrompt {\n",
    "    flex: 0 0 0 !important;\n",
    "    display: inline !important;\n",
    "    min-width: 0 !important;\n",
    "}\n",
    "\n",
    ".vuetify-styles .v-textarea textarea {\n",
    "    align-self: stretch;\n",
    "    flex: 1 1 auto;\n",
    "    line-height: 1.25rem;\n",
    "    font-size: 13px;\n",
    "    font-family: \"Courier New\", monospace;\n",
    "\n",
    ".vuetify-styles .v-label {\n",
    "    font-size: 12px;\n",
    "}\n",
    "</style>'''))\n",
    "\n",
    "\n",
    "# Create the page\n",
    "%run MainConfigurator.py\n",
    "p = MainConfigurator(output)\n",
    "card = p.create()\n",
    "\n",
    "# Open the page\n",
    "p.open()"
   ]
  },
  {
   "cell_type": "code",
   "execution_count": 3,
   "id": "fea43a60-ca1a-4dfa-9b54-dc979ff127cf",
   "metadata": {
    "tags": []
   },
   "outputs": [],
   "source": [
    "#p.main.preview()"
   ]
  },
  {
   "cell_type": "code",
   "execution_count": null,
   "id": "b8ebaf29-8bcd-4ae9-b8f9-fb24d77813b7",
   "metadata": {},
   "outputs": [],
   "source": []
  }
 ],
 "metadata": {
  "kernelspec": {
   "display_name": "Python [interapro_env]",
   "language": "python",
   "name": "conda-env-interapro_env-py"
  },
  "language_info": {
   "codemirror_mode": {
    "name": "ipython",
    "version": 3
   },
   "file_extension": ".py",
   "mimetype": "text/x-python",
   "name": "python",
   "nbconvert_exporter": "python",
   "pygments_lexer": "ipython3",
   "version": "3.11.6"
  }
 },
 "nbformat": 4,
 "nbformat_minor": 5
}
