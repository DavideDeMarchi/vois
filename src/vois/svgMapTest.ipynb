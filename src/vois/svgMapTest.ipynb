{
 "cells": [
  {
   "cell_type": "code",
   "execution_count": 18,
   "id": "c1236b41",
   "metadata": {
    "tags": []
   },
   "outputs": [
    {
     "data": {
      "application/vnd.jupyter.widget-view+json": {
       "model_id": "f7dd63ff17db4c2284c71efc01069600",
       "version_major": 2,
       "version_minor": 0
      },
      "text/plain": [
       "HTML(value='\\n<svg\\n   xmlns:svg=\"http://www.w3.org/2000/svg\"\\n   xmlns=\"http://www.w3.org/2000/svg\"\\n   width…"
      ]
     },
     "metadata": {},
     "output_type": "display_data"
    }
   ],
   "source": [
    "%run ../vois/development/load_local_vois.py -w\n",
    "\n",
    "%run svgMap.py\n",
    "import random\n",
    "from ipywidgets import HTML\n",
    "\n",
    "def rgb(r,g,b):\n",
    "    return '#{:02x}{:02x}{:02x}'.format(r,g,b)\n",
    "    \n",
    "df = pd.DataFrame(columns=['iso2code','value','label'])\n",
    "\n",
    "i = 0\n",
    "for c in country_codes:\n",
    "    value = random.randint(0,100)\n",
    "    if c == 'IT': value = 90.0\n",
    "    record = {'iso2code': c, 'value': value, 'label': '%d' % value }\n",
    "    df.loc[len(df)] = record\n",
    "    i += 1\n",
    "\n",
    "#df = df.set_index('iso2code')\n",
    "            \n",
    "#df\n",
    "#colorlist = ['#440154', '#482878', '#3e4989', '#31688e', '#26828e', '#1f9e89', '#35b779', '#6ece58', '#b5de2b', '#fde725'] # Viridis\n",
    "colorlist = ['#0d0887', '#46039f', '#7201a8', '#9c179e', '#bd3786', '#d8576b', '#ed7953', '#fb9f3a', '#fdca26', '#f0f921'] # Plasma\n",
    "#colorlist = [rgb(36, 86, 104), rgb(15, 114, 121), rgb(13, 143, 129), rgb(57, 171, 126), rgb(110, 197, 116), rgb(169, 220, 103), rgb(237, 239, 93)]\n",
    "svg = svgMapEurope(df, code_column='iso2code', codes_selected=['IT','SE','PL'], stroke_selected='red', colorlist=colorlist, stdevnumber=1.5, onhoverfill='#f8bd1a', \n",
    "                   width='30vw', height='45vh', stroke_width=3.0, hoveronempty=False, legendtitle='Legent title', legendunits='KTOE per 100K inhabit.')\n",
    "\n",
    "svg = svgChangeWidth( svg, '50vw')\n",
    "svg = svgChangeHeight(svg, '60vh')\n",
    "\n",
    "display(HTML(svg))"
   ]
  },
  {
   "cell_type": "code",
   "execution_count": 20,
   "id": "737d6fd6",
   "metadata": {},
   "outputs": [
    {
     "data": {
      "application/vnd.jupyter.widget-view+json": {
       "model_id": "dbe718059f424de9b71c9ce4b4735e19",
       "version_major": 2,
       "version_minor": 0
      },
      "text/plain": [
       "HTML(value='\\n<svg\\n   xmlns:svg=\"http://www.w3.org/2000/svg\"\\n   xmlns=\"http://www.w3.org/2000/svg\"\\n   width…"
      ]
     },
     "metadata": {},
     "output_type": "display_data"
    }
   ],
   "source": [
    "svg = svgChangeWidth(svg, '15vw')\n",
    "svg = svgChangeHeight(svg, '20vh')\n",
    "\n",
    "display(HTML(svg))"
   ]
  },
  {
   "cell_type": "code",
   "execution_count": 15,
   "id": "578d44f5-9d79-403b-b015-74dfd759f980",
   "metadata": {
    "tags": []
   },
   "outputs": [
    {
     "data": {
      "application/vnd.jupyter.widget-view+json": {
       "model_id": "e312c51094f441c28fd3d7acc2eda4c8",
       "version_major": 2,
       "version_minor": 0
      },
      "text/plain": [
       "HTML(value='\\n<svg\\n   xmlns:svg=\"http://www.w3.org/2000/svg\"\\n   xmlns=\"http://www.w3.org/2000/svg\"\\n   width…"
      ]
     },
     "metadata": {},
     "output_type": "display_data"
    }
   ],
   "source": [
    "display(HTML(svg))"
   ]
  },
  {
   "cell_type": "code",
   "execution_count": null,
   "id": "e15bee76-aa32-4e66-803b-cbbf4a756079",
   "metadata": {},
   "outputs": [],
   "source": []
  }
 ],
 "metadata": {
  "kernelspec": {
   "display_name": "Python 3 (ipykernel)",
   "language": "python",
   "name": "python3"
  },
  "language_info": {
   "codemirror_mode": {
    "name": "ipython",
    "version": 3
   },
   "file_extension": ".py",
   "mimetype": "text/x-python",
   "name": "python",
   "nbconvert_exporter": "python",
   "pygments_lexer": "ipython3",
   "version": "3.11.9"
  }
 },
 "nbformat": 4,
 "nbformat_minor": 5
}
