{
 "cells": [
  {
   "cell_type": "code",
   "execution_count": null,
   "id": "577d9cda",
   "metadata": {},
   "outputs": [],
   "source": [
    "import plotly.express as px\n",
    "import plotly.graph_objects as go"
   ]
  },
  {
   "cell_type": "code",
   "execution_count": null,
   "id": "f051c567",
   "metadata": {},
   "outputs": [],
   "source": [
    "# TREEMAP PLOTLY CHART created manually\n",
    "labels = ['JRC', 'JRC.A', 'JRC.A.1', 'JRC.A.2', 'JRC.B', 'JRC.B.1', 'JRC.B.2', 'JRC.B.3', 'JRC.C', 'JRC.C.1', 'JRC.C.2']\n",
    "parents = [None, 'JRC',   'JRC.A',   'JRC.A',   'JRC',   'JRC.B',   'JRC.B',   'JRC.B',   'JRC',   'JRC.C',   'JRC.C']\n",
    "values = [39.0,  8.0,     3.0,       5.0,       22.0,    12.0,      7.0,       3.0,       9.0,     7.0,        2.0]         # N.B: the values must be coherent!\n",
    "\n",
    "fig = go.Figure()\n",
    "fig.add_trace(go.Treemap(ids=labels, labels=labels, parents=parents, values=values, branchvalues='total', maxdepth=3, root_color=\"lightgrey\",\n",
    "                         hoverinfo=\"label+value+percent parent+percent root\", \n",
    "                         texttemplate=\"%{label}<br>%{value}<br>%{percentParent} of %{parent}<br>%{percentRoot} of %{root}\"))\n",
    "fig.update_layout(margin=dict(t=40, l=0, r=0, b=0), height=400, hoverlabel=dict(bgcolor=\"#eee\", align=\"left\"),\n",
    "                  title={'text': \"JRC units\", 'y':1.0, 'x':0.5, 'xanchor': 'center', 'yanchor': 'top'})\n",
    "fig.show()"
   ]
  },
  {
   "cell_type": "code",
   "execution_count": null,
   "id": "f6ec3e92",
   "metadata": {},
   "outputs": [],
   "source": [
    "# SUNBURST PLOTLY CHART generated using treemapPlotly.py\n",
    "%run treemapPlotly.py\n",
    "\n",
    "valuefor = {'JRC.A.1': 3.0, 'JRC.A.2': 5.0, 'JRC.B.1': 12.0, 'JRC.B.2': 7.0, 'JRC.B.3': 3.0, 'JRC.C.1': 7.0, 'JRC.C.2': 2.0}\n",
    "labels, parents, values = createTreemapFromList(['JRC.A','JRC.A.1','JRC.A.2','JRC.B.1','JRC.B.2','JRC.B.3','JRC.C.1','JRC.C.2',], rootName='JRC', valuefor=valuefor)\n",
    "\n",
    "fig = go.Figure()\n",
    "fig.add_trace(go.Sunburst(ids=labels, labels=labels, parents=parents, values=values, branchvalues='total', maxdepth=3, root_color=\"lightgrey\"))\n",
    "fig.update_layout(margin=dict(t=18, l=0, r=0, b=0), height=400, hoverlabel=dict(bgcolor=\"#eee\", align=\"left\"),\n",
    "                  title={'text': \"JRC units\", 'y':1.0, 'x':0.5, 'xanchor': 'center', 'yanchor': 'top'})\n",
    "\n",
    "fig.show()"
   ]
  },
  {
   "cell_type": "code",
   "execution_count": null,
   "id": "26c09cb4",
   "metadata": {},
   "outputs": [],
   "source": [
    "# ICICLE PLOTLY CHART generated using treemapPlotly.py\n",
    "%run treemapPlotly.py\n",
    "\n",
    "valuefor = {'A.1.1': 10.0, 'A.1.2': 6.0, 'A.2': 5.0}\n",
    "labels, parents, values = createTreemapFromList(['A','A.1','A.2','A.1.1','A.1.2'], rootName='A', valuefor=valuefor)\n",
    "\n",
    "fig = go.Figure()\n",
    "#fig.add_trace(go.Treemap(ids=labels, labels=labels, parents=parents, values=values, branchvalues='total', maxdepth=3, root_color=\"lightgrey\"))\n",
    "#fig.add_trace(go.Sunburst(ids=labels, labels=labels, parents=parents, values=values, branchvalues='total', maxdepth=3, root_color=\"lightgrey\"))\n",
    "fig.add_trace(go.Icicle(ids=labels, labels=labels, parents=parents, values=values, branchvalues='total', maxdepth=3, root_color=\"lightgrey\"))\n",
    "fig.update_layout(margin=dict(t=38, l=0, r=0, b=0), height=400, hoverlabel=dict(bgcolor=\"#eee\", align=\"left\"),\n",
    "                  title={'text': \"JRC units\", 'y':1.0, 'x':0.5, 'xanchor': 'center', 'yanchor': 'top'})\n",
    "fig.show()"
   ]
  },
  {
   "cell_type": "code",
   "execution_count": null,
   "id": "5f23f8b9",
   "metadata": {},
   "outputs": [],
   "source": []
  }
 ],
 "metadata": {
  "kernelspec": {
   "display_name": "Python 3 (ipykernel)",
   "language": "python",
   "name": "python3"
  },
  "language_info": {
   "codemirror_mode": {
    "name": "ipython",
    "version": 3
   },
   "file_extension": ".py",
   "mimetype": "text/x-python",
   "name": "python",
   "nbconvert_exporter": "python",
   "pygments_lexer": "ipython3",
   "version": "3.7.12"
  }
 },
 "nbformat": 4,
 "nbformat_minor": 5
}
