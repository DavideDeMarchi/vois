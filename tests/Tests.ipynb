{
 "cells": [
  {
   "cell_type": "code",
   "execution_count": null,
   "id": "9cc32a8d",
   "metadata": {},
   "outputs": [],
   "source": [
    "# app\n",
    "from vois.vuetify import app\n",
    "a = app.app(totalheight=400)\n",
    "a.show()"
   ]
  },
  {
   "cell_type": "code",
   "execution_count": null,
   "id": "0d060367",
   "metadata": {},
   "outputs": [],
   "source": [
    "# button\n",
    "from vois.vuetify import button\n",
    "b = button.button('Test button', selected=True)\n",
    "display(b.draw())"
   ]
  },
  {
   "cell_type": "code",
   "execution_count": null,
   "id": "cbc8a687",
   "metadata": {},
   "outputs": [],
   "source": [
    "# dialogYesNo\n",
    "from ipywidgets import widgets, Layout\n",
    "from IPython.display import display\n",
    "from vois.vuetify import dialogYesNo\n",
    "\n",
    "output = widgets.Output(layout=Layout(height='100px'))\n",
    "display(output)\n",
    "\n",
    "def on_yes():\n",
    "    with output:\n",
    "        print('YES')\n",
    "\n",
    "def on_no():\n",
    "    with output:\n",
    "        print('NO')\n",
    "    \n",
    "dlg = dialogYesNo.dialogYesNo(title='Question', text='Confirm removal of the selected file?', titleheight=40, width=400, output=output,\n",
    "                              show=True, transition='dialog-bottom-transition', on_yes=on_yes, on_no=on_no)"
   ]
  },
  {
   "cell_type": "code",
   "execution_count": null,
   "id": "c3e7f9e6",
   "metadata": {},
   "outputs": [],
   "source": [
    "# treeview\n",
    "from vois.vuetify import treeview\n",
    "treecard = treeview.createTreeviewFromList(['A','A.1','A.2','A.1.1','A.3.1','A.4.1.2','A.5.2.1','A.4.2.3.1','B','B.A'], rootName='Root', expand_selection_to_parents=False, \n",
    "                                           substitutionDict={'A.1': 'A.1 new name'}, color='green', height=350)\n",
    "treecard"
   ]
  },
  {
   "cell_type": "code",
   "execution_count": null,
   "id": "eed3eef9",
   "metadata": {},
   "outputs": [],
   "source": [
    "# Treemap/Sunburst/Icicle chart generated using treemapPlotly\n",
    "import plotly.express as px\n",
    "import plotly.graph_objects as go\n",
    "\n",
    "from vois import treemapPlotly\n",
    "\n",
    "valuefor = {'JRC.A.1': 3.0, 'JRC.A.2': 5.0, 'JRC.A.2.1': 4.0, 'JRC.B.1': 12.0, 'JRC.B.2': 7.0, 'JRC.B.3': 3.0, 'JRC.C.1': 7.0, 'JRC.C.2': 2.0}\n",
    "labels, parents, values = treemapPlotly.createTreemapFromList(['JRC.A','JRC.A.1','JRC.A.2','JRC.A.2.1','JRC.B.1','JRC.B.2','JRC.B.3','JRC.C.1','JRC.C.2'],\n",
    "                                                              rootName='JRC', valuefor=valuefor)\n",
    "\n",
    "fig = go.Figure()\n",
    "fig.add_trace(go.Treemap(ids=labels, labels=labels, parents=parents, values=values, branchvalues='total', maxdepth=4, root_color=\"lightgrey\"))\n",
    "#fig.add_trace(go.Sunburst(ids=labels, labels=labels, parents=parents, values=values, branchvalues='total', maxdepth=4, root_color=\"lightgrey\"))\n",
    "#fig.add_trace(go.Icicle(ids=labels, labels=labels, parents=parents, values=values, branchvalues='total', maxdepth=4, root_color=\"lightgrey\"))\n",
    "fig.update_layout(margin=dict(t=38, l=0, r=0, b=0), height=400, hoverlabel=dict(bgcolor=\"#eee\", align=\"left\"),\n",
    "                  title={'text': \"JRC units\", 'y':1.0, 'x':0.5, 'xanchor': 'center', 'yanchor': 'top'})\n",
    "fig.show()"
   ]
  },
  {
   "cell_type": "code",
   "execution_count": null,
   "id": "ed30788f",
   "metadata": {},
   "outputs": [],
   "source": [
    "# title with sidePanel\n",
    "from ipywidgets import widgets, Layout, HTML\n",
    "from IPython.display import display\n",
    "from vois.vuetify import title, switch, sidePanel\n",
    "\n",
    "output = widgets.Output(layout=Layout(width='99%', height='400px'))\n",
    "display(output)\n",
    "\n",
    "def onclick(arg):\n",
    "    with output:\n",
    "        print(arg)\n",
    "\n",
    "def onmenu():\n",
    "    panel.show()\n",
    "    \n",
    "def on_s_change(value):\n",
    "    with output:\n",
    "        print(value)\n",
    "    \n",
    "s = switch.switch(True, 'PNG format', onchange=on_s_change)\n",
    "\n",
    "panel = sidePanel.sidePanel(title='Settings for download', text='Please select the format for download:', \n",
    "                            width=400, right=False, content=[s.draw()], output=output, zindex=9999)\n",
    "\n",
    "f = title.title(text='Energy consumption dashboard', \n",
    "                menu=True, onmenuclick=onmenu,\n",
    "                buttons=['Home', 'About Us', 'Team', 'Services', 'Blog', 'Contact Us'],\n",
    "                logo='https://jeodpp.jrc.ec.europa.eu/services/shared/home/images/JRCBigDataPlatform2.png', \n",
    "                logowidth=180, logomarginy=5, menumarginy=5,\n",
    "                height=78, onclick=onclick, output=output)"
   ]
  },
  {
   "cell_type": "code",
   "execution_count": null,
   "id": "0df9fd76",
   "metadata": {},
   "outputs": [],
   "source": [
    "# intermap: load of a local geojson file, join of values to features, creation of a graduated legend and display of map and legend\n",
    "from ipywidgets import widgets, Layout\n",
    "from IPython.core.display import HTML as coreHTML\n",
    "import numpy as np\n",
    "import pandas as pd\n",
    "\n",
    "from jeodpp import inter, imap\n",
    "from vois import geojsonUtils, interMap\n",
    "\n",
    "# Display a custom geojson file and create a graduated legend\n",
    "country_codes = ['LV','AL','CH','AT','HR','ES','IS','RO','IT','VA','HU','SE','NL','CZ','DE','FR',\n",
    "                 'ME','BE','SI','LU','IE','BA','MC','BG','PL','LI','GB','RS','SM','DK','IM',\n",
    "                 'EE','SK','GR','LT','NO','PT','AD','MK','MT','FI','XK','CY','TR']\n",
    "\n",
    "# Generate random values and create a dictionary: key=countrycode, value=random value in [0.0,100.0]\n",
    "d = dict(zip(country_codes,list(np.random.uniform(size=len(country_codes),low=0.0,high=100.0))))\n",
    "\n",
    "geojson = geojsonUtils.geojsonLoadFile('ne_50m_admin_0_countries.geojson')\n",
    "geojsonnew = geojsonUtils.geojsonJoin(geojson,'ISO_A2_EH', 'value', d, innerMode=True)\n",
    "\n",
    "vector = interMap.interGeojsonToVector(geojsonnew)\n",
    "\n",
    "# Create a graduated legend\n",
    "vector.colorScheme('invReds_soft')\n",
    "vector.legendSet('line', 'stroke-width', '1.0')\n",
    "vector.legendSet('line', 'stroke',       '#010101')\n",
    "vector.legendGraduated(\"value\",\"quantile\",8)\n",
    "\n",
    "vector.parameter(\"identifyseparator\",\"<br>\")\n",
    "vector.parameter(\"identifyfield\",\"FID NAME value\")\n",
    "\n",
    "# Add the VectorLayer to the map\n",
    "m = imap.Map(basemap=1, layout=Layout(width='79%',height='600px'))\n",
    "layer = m.addLayer(vector.toLayer())\n",
    "extents = m.zoomToImageExtent(vector)\n",
    "\n",
    "inter.identifyPopup(m,vector)\n",
    "\n",
    "outlegend = widgets.Output(layout=Layout(width='20%',height='600px'))\n",
    "with outlegend:\n",
    "    display(coreHTML(vector.legend(\"Legend on value attribute\", 1)))\n",
    "\n",
    "widgets.HBox([m,outlegend])"
   ]
  },
  {
   "cell_type": "code",
   "execution_count": null,
   "id": "3e143d90",
   "metadata": {},
   "outputs": [],
   "source": [
    "d"
   ]
  },
  {
   "cell_type": "code",
   "execution_count": null,
   "id": "f5215b8a",
   "metadata": {},
   "outputs": [],
   "source": []
  }
 ],
 "metadata": {
  "kernelspec": {
   "display_name": "Python 3 (ipykernel)",
   "language": "python",
   "name": "python3"
  },
  "language_info": {
   "codemirror_mode": {
    "name": "ipython",
    "version": 3
   },
   "file_extension": ".py",
   "mimetype": "text/x-python",
   "name": "python",
   "nbconvert_exporter": "python",
   "pygments_lexer": "ipython3",
   "version": "3.12.3"
  }
 },
 "nbformat": 4,
 "nbformat_minor": 5
}
