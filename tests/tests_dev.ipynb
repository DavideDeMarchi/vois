{
 "cells": [
  {
   "cell_type": "code",
   "execution_count": 1,
   "id": "7cd6ff21-2c3d-45cf-b740-bd8c28161f82",
   "metadata": {
    "tags": []
   },
   "outputs": [],
   "source": [
    "import sys\n",
    "sys.path.append('/Users/edoardo/JRC_Projects/vois/src/')"
   ]
  },
  {
   "cell_type": "code",
   "execution_count": 2,
   "id": "d61bbe9f-238c-4e43-a764-25d6bc1b489e",
   "metadata": {
    "tags": []
   },
   "outputs": [],
   "source": [
    "from vois.vuetify import slider, settings\n",
    "\n",
    "def on_change(data):\n",
    "    my_slider_1.slider.color = 'red'\n",
    "\n",
    "my_slider_1 = slider.slider(selectedvalue=521,\n",
    "                            minvalue=0,\n",
    "                            maxvalue=100,\n",
    "                            vertical=False,\n",
    "                            color=settings.color_first,\n",
    "                            onchange=on_change,\n",
    "                            height=350,\n",
    "                            width=150,\n",
    "                            step=1.0\n",
    "                            )\n"
   ]
  },
  {
   "cell_type": "code",
   "execution_count": 3,
   "id": "8f608112-a954-463d-90b5-62f9e6efd4dd",
   "metadata": {
    "tags": []
   },
   "outputs": [
    {
     "data": {
      "application/vnd.jupyter.widget-view+json": {
       "model_id": "dcebc1f388f04d45b5610b428a3f8905",
       "version_major": 2,
       "version_minor": 0
      },
      "text/plain": [
       "Html(children=[Slider(class_='pa-0 ma-0 ml-5 mr-5 mt-n2 mb-n12', color='#f8bd1a', dense=True, height=350.0, la…"
      ]
     },
     "execution_count": 3,
     "metadata": {},
     "output_type": "execute_result"
    }
   ],
   "source": [
    "my_slider_1.draw()"
   ]
  },
  {
   "cell_type": "code",
   "execution_count": null,
   "id": "475d97c5-4049-4c62-ac19-1380f4913ecd",
   "metadata": {},
   "outputs": [],
   "source": []
  }
 ],
 "metadata": {
  "kernelspec": {
   "display_name": "Python 3 (ipykernel)",
   "language": "python",
   "name": "python3"
  },
  "language_info": {
   "codemirror_mode": {
    "name": "ipython",
    "version": 3
   },
   "file_extension": ".py",
   "mimetype": "text/x-python",
   "name": "python",
   "nbconvert_exporter": "python",
   "pygments_lexer": "ipython3",
   "version": "3.12.3"
  }
 },
 "nbformat": 4,
 "nbformat_minor": 5
}
