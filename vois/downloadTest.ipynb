{
 "cells": [
  {
   "cell_type": "code",
   "execution_count": null,
   "id": "e0f57009",
   "metadata": {},
   "outputs": [],
   "source": [
    "%run download.py\n",
    "\n",
    "display(output)\n",
    "\n",
    "with output:\n",
    "    downloadText('aaa bbb ccc')"
   ]
  },
  {
   "cell_type": "code",
   "execution_count": null,
   "id": "381c13c9",
   "metadata": {},
   "outputs": [],
   "source": [
    "with output:\n",
    "    downloadBytes(b'ajgh lkjhl ')"
   ]
  },
  {
   "cell_type": "code",
   "execution_count": null,
   "id": "1ff6c7ff",
   "metadata": {},
   "outputs": [],
   "source": []
  }
 ],
 "metadata": {
  "kernelspec": {
   "display_name": "Python 3 (ipykernel)",
   "language": "python",
   "name": "python3"
  },
  "language_info": {
   "codemirror_mode": {
    "name": "ipython",
    "version": 3
   },
   "file_extension": ".py",
   "mimetype": "text/x-python",
   "name": "python",
   "nbconvert_exporter": "python",
   "pygments_lexer": "ipython3",
   "version": "3.7.12"
  }
 },
 "nbformat": 4,
 "nbformat_minor": 5
}
