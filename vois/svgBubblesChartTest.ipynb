{
 "cells": [
  {
   "cell_type": "code",
   "execution_count": 3,
   "id": "811de619",
   "metadata": {},
   "outputs": [
    {
     "data": {
      "application/vnd.jupyter.widget-view+json": {
       "model_id": "9308d796800e4996afaca111df44b488",
       "version_major": 2,
       "version_minor": 0
      },
      "text/plain": [
       "Output(layout=Layout(height='calc(60.000000vh + 20px)', margin='0px 0px 0px 0px', width='calc(60.000000vw + 10…"
      ]
     },
     "metadata": {},
     "output_type": "display_data"
    },
    {
     "data": {
      "application/vnd.jupyter.widget-view+json": {
       "model_id": "1bf34bdd9450481e9668891f9a247023",
       "version_major": 2,
       "version_minor": 0
      },
      "text/plain": [
       "HTML(value='<svg version=\"1.1\" xmlns=\"http://www.w3.org/2000/svg\" xmlns:xlink=\"http://www.w3.org/1999/xlink\" x…"
      ]
     },
     "metadata": {},
     "output_type": "display_data"
    }
   ],
   "source": [
    "import pandas as pd\n",
    "import plotly.express as px\n",
    "colorlist = px.colors.qualitative.Dark2\n",
    "\n",
    "%run svgBubblesChart.py\n",
    "\n",
    "df = pd.read_csv('https://jeodpp.jrc.ec.europa.eu/services/shared/csv/mushrooms.csv')\n",
    "#display(df)\n",
    "\n",
    "xcolumn     = 'cap-shape'\n",
    "ycolumn     = 'cap-surface'\n",
    "colorcolumn = 'habitat'\n",
    "sizecolumn  = 'count'\n",
    "dfgrouped = df.groupby([xcolumn, ycolumn, colorcolumn]).size().reset_index(name=sizecolumn)\n",
    "\n",
    "dfgrouped.columns = ['Shape', 'Cap surface', 'Mushroom habitat:', 'count']\n",
    "#display(dfgrouped)\n",
    "\n",
    "b = svgBubblesChart(dfgrouped, width=60.0, height=60.0, xstart=5.0, xcolumn=dfgrouped.columns[0], ycolumn=dfgrouped.columns[1], colorcolumn=dfgrouped.columns[2], sizecolumn=dfgrouped.columns[3], \n",
    "                    strokewidth=2, strokecolor='#ffffff', backcolor='#f0f0f0', backlinecolor='#000000', bubblecolors=colorlist, xtextangle=0, fontsize=1.0,\n",
    "                    title='Mushrooms analysis', mode='spread', legendrows=1, legenditemwidth=7.0)\n",
    "display(b.draw())\n",
    "display(HTML(b.getlegendsvg()))"
   ]
  },
  {
   "cell_type": "code",
   "execution_count": null,
   "id": "65b2960f",
   "metadata": {},
   "outputs": [],
   "source": []
  }
 ],
 "metadata": {
  "kernelspec": {
   "display_name": "Python 3 (ipykernel)",
   "language": "python",
   "name": "python3"
  },
  "language_info": {
   "codemirror_mode": {
    "name": "ipython",
    "version": 3
   },
   "file_extension": ".py",
   "mimetype": "text/x-python",
   "name": "python",
   "nbconvert_exporter": "python",
   "pygments_lexer": "ipython3",
   "version": "3.7.13"
  }
 },
 "nbformat": 4,
 "nbformat_minor": 5
}
