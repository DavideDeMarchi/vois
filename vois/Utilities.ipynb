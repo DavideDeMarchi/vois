{
 "cells": [
  {
   "cell_type": "code",
   "execution_count": null,
   "id": "f5a1def5",
   "metadata": {},
   "outputs": [],
   "source": [
    "!pip list"
   ]
  },
  {
   "cell_type": "code",
   "execution_count": null,
   "id": "db8c3c72",
   "metadata": {},
   "outputs": [],
   "source": [
    "!egrep -n \"button.button\" *.py *.ipynb"
   ]
  },
  {
   "cell_type": "code",
   "execution_count": null,
   "id": "9d1d0202",
   "metadata": {},
   "outputs": [],
   "source": [
    "!egrep -n \"output = widgets.Output\" vuetify/*.py vuetify/*.ipynb"
   ]
  },
  {
   "cell_type": "code",
   "execution_count": null,
   "id": "57640366",
   "metadata": {},
   "outputs": [],
   "source": [
    "!egrep \"setValue\" vuetify/*.py vuetify/*.ipynb"
   ]
  },
  {
   "cell_type": "code",
   "execution_count": null,
   "id": "a39b4cf6",
   "metadata": {},
   "outputs": [],
   "source": [
    "!egrep -n \"selectSingle\" EnergyConsumption/*.py EnergyConsumption/*.ipynb"
   ]
  },
  {
   "cell_type": "markdown",
   "id": "698bb0cb",
   "metadata": {},
   "source": [
    "# Instructions for deployment\n",
    "\n",
    "1. Fork a repository from: https://jeodpp.jrc.ec.europa.eu/apps/gitlab/franck/voila-notebook-template in your \"user\" gitlab space (username)\n",
    "2. Clone your repository inside the terminal in JEO-lab (git clone https://jeodpp.jrc.ec.europa.eu/apps/gitlab/davide/voila-training.git)\n",
    "3. Create notebooks inside the folder, add CSV files, shapefile, etc\n",
    "4. From the terminal use git commands (git add/commit/push)\n",
    "4. git commit -am ...\n",
    "5. git push"
   ]
  },
  {
   "cell_type": "code",
   "execution_count": null,
   "id": "9acdcf84",
   "metadata": {},
   "outputs": [],
   "source": []
  }
 ],
 "metadata": {
  "kernelspec": {
   "display_name": "Python 3 (ipykernel)",
   "language": "python",
   "name": "python3"
  },
  "language_info": {
   "codemirror_mode": {
    "name": "ipython",
    "version": 3
   },
   "file_extension": ".py",
   "mimetype": "text/x-python",
   "name": "python",
   "nbconvert_exporter": "python",
   "pygments_lexer": "ipython3",
   "version": "3.7.13"
  }
 },
 "nbformat": 4,
 "nbformat_minor": 5
}
