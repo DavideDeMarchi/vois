{
 "cells": [
  {
   "cell_type": "code",
   "execution_count": 1,
   "id": "796c602c",
   "metadata": {},
   "outputs": [
    {
     "data": {
      "application/vnd.jupyter.widget-view+json": {
       "model_id": "1832c8cd4aaa45c6859413a4ad70f474",
       "version_major": 2,
       "version_minor": 0
      },
      "text/plain": [
       "Html(children=[Container(children=[Item(children=[Tooltip(bottom=True, children=['Example tooltip text'], colo…"
      ]
     },
     "metadata": {},
     "output_type": "display_data"
    },
    {
     "data": {
      "application/vnd.jupyter.widget-view+json": {
       "model_id": "cd71f269e066489eba191ed59125fb45",
       "version_major": 2,
       "version_minor": 0
      },
      "text/plain": [
       "Html(children=[Container(children=[Card(children=['Test label 2', Icon(children=['mdi-car-light-high'], color=…"
      ]
     },
     "metadata": {},
     "output_type": "display_data"
    }
   ],
   "source": [
    "%run label.py\n",
    "\n",
    "l1 = label('July 2011 test long long long long long long long long long long long long label', textweight=450, height=22, tooltip='Example tooltip text')\n",
    "l2 = label('Test label 2', textweight=300, margins=2, icon='mdi-car-light-high', iconcolor='red', iconsmall=False, height=22)\n",
    "\n",
    "display(l1.draw())\n",
    "display(l2.draw())"
   ]
  },
  {
   "cell_type": "code",
   "execution_count": 2,
   "id": "0af2729a",
   "metadata": {},
   "outputs": [
    {
     "data": {
      "application/vnd.jupyter.widget-view+json": {
       "model_id": "7e3fb10f66ff4d3588275566fe4bd829",
       "version_major": 2,
       "version_minor": 0
      },
      "text/plain": [
       "Html(children=[Container(children=[Card(children=['Test label ', Icon(children=['mdi-car-light-high'], color='…"
      ]
     },
     "metadata": {},
     "output_type": "display_data"
    }
   ],
   "source": [
    "import label\n",
    "\n",
    "lab = label.label('Test label ', textweight=300, margins=2,\n",
    "                  icon='mdi-car-light-high', iconcolor='red',\n",
    "                  iconlarge=True, height=22)\n",
    "\n",
    "display(lab.draw())"
   ]
  },
  {
   "cell_type": "code",
   "execution_count": 3,
   "id": "c8bd52e9",
   "metadata": {},
   "outputs": [
    {
     "data": {
      "application/vnd.jupyter.widget-view+json": {
       "model_id": "ba4575f9ed5145069190cbb5856500e7",
       "version_major": 2,
       "version_minor": 0
      },
      "text/plain": [
       "Html(children=[Container(children=[Card(children=['New text for the label', Icon(children=['mdi-car-light-high…"
      ]
     },
     "metadata": {},
     "output_type": "display_data"
    },
    {
     "name": "stdout",
     "output_type": "stream",
     "text": [
      "New text for the label\n"
     ]
    }
   ],
   "source": [
    "lab.text = 'New text for the label'\n",
    "display(lab.draw())\n",
    "print(lab.text)"
   ]
  },
  {
   "cell_type": "code",
   "execution_count": null,
   "id": "d913893e",
   "metadata": {},
   "outputs": [],
   "source": []
  }
 ],
 "metadata": {
  "kernelspec": {
   "display_name": "Python 3 (ipykernel)",
   "language": "python",
   "name": "python3"
  },
  "language_info": {
   "codemirror_mode": {
    "name": "ipython",
    "version": 3
   },
   "file_extension": ".py",
   "mimetype": "text/x-python",
   "name": "python",
   "nbconvert_exporter": "python",
   "pygments_lexer": "ipython3",
   "version": "3.7.13"
  }
 },
 "nbformat": 4,
 "nbformat_minor": 5
}
