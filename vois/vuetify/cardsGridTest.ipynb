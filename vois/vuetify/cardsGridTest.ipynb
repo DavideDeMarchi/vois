{
 "cells": [
  {
   "cell_type": "code",
   "execution_count": null,
   "id": "07052faa",
   "metadata": {},
   "outputs": [],
   "source": [
    "%run cardsGrid.py\n",
    "\n",
    "from ipywidgets import widgets\n",
    "from IPython.display import display\n",
    "\n",
    "output = widgets.Output()\n",
    "\n",
    "def on_click(index):\n",
    "    with output:\n",
    "        print(index)\n",
    "\n",
    "title = 'Lorem ipsum dolor sit amet, consectetur adipiscing elit, sed do eiusmod tempor incididunt ut labore et dolore magna aliqua. Ut enim ad minim veniam, quis nostrud exercitation ullamco laboris nisi...'\n",
    "\n",
    "cards = [\n",
    "    { \"title\": title,    \"subtitle\": \"\", \"image\": \"https://cdn.vuetifyjs.com/images/cards/sunshine.jpg\", \"color\": \"#bbbbbb\", \"imagesize\": 0,\n",
    "     \"titletooltip\": \"Example of card title tooltip\"},\n",
    "   \n",
    "   { \"title\": \"title1\", \"subtitle\": \"subtitle1\", \"image\": \"https://cdn.vuetifyjs.com/images/cards/road.jpg\", \"icon\": 'data:image/png;base64,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'},\n",
    "   { \"title\": \"title2\", \"subtitle\": \"subtitle2\", \"image\": \"https://cdn.vuetifyjs.com/images/cards/plane.jpg\" },\n",
    "   { \"title\": \"title3\", \"subtitle\": \"subtitle3\", \"image\": \"https://cdn.vuetifyjs.com/images/cards/house.jpg\" },\n",
    "   { \"title\": \"title4\", \"subtitle\": \"\", \"image\": \"https://cdn.vuetifyjs.com/images/cards/house.jpg\", \"imagesize\": 0 }\n",
    "]\n",
    "\n",
    "g = cardsGrid(cards=cards, cols=6, width='550px', height='20vh', dark=False, ripple=True, imagesize=\"100px\", on_click=on_click, responsive=True, fontsizemultiplier=1.1)\n",
    "\n",
    "display(g)\n",
    "display(output)"
   ]
  },
  {
   "cell_type": "code",
   "execution_count": null,
   "id": "23c1afb6",
   "metadata": {},
   "outputs": [],
   "source": [
    "%run cardsGrid.py\n",
    "from IPython.display import display\n",
    "\n",
    "themes = ['Data Transfer & Exchange',\n",
    "          'Identity, Authentication, Access Control',\n",
    "          'Data Publication & Discovery',\n",
    "          'Data Interoperability',\n",
    "          'Privacy preserving mechanisms',\n",
    "          'Usage Control Policies',\n",
    "          'Audit, Logging, Monitoring',\n",
    "          'Federation, Multi-tier, Portability',\n",
    "          'Data Processing & Analytics',\n",
    "          'Transactions Metering & Billing',\n",
    "          'Data Pooling & Collaboration',\n",
    "          'Data Storage'\n",
    "         ]\n",
    "\n",
    "ttip = 'Collaboration tools are required to enable the joint development and exploitation of products and services by multiple participants in Data Spaces participants, possibly from different organizations and even economic sectors. Productivity and collaboration services could support and simplify the design, implementation and management of distributed processing workflows across ecosystem participants, ensuring an effective shared governance.'\n",
    "cards = [{\"title\": x, \"titletooltip\": x + ': ' + ttip} for x in themes]\n",
    "#cards = [{\"title\": x} for x in themes]\n",
    "g = cardsGrid(cards=cards, cols=3, width='1400px', imagesize=0, responsive=True, fontsizemultiplier=0.6, tooltipwidth='800px')\n",
    "display(g)"
   ]
  },
  {
   "cell_type": "code",
   "execution_count": null,
   "id": "a2d85b16",
   "metadata": {},
   "outputs": [],
   "source": []
  }
 ],
 "metadata": {
  "kernelspec": {
   "display_name": "Python 3 (ipykernel)",
   "language": "python",
   "name": "python3"
  },
  "language_info": {
   "codemirror_mode": {
    "name": "ipython",
    "version": 3
   },
   "file_extension": ".py",
   "mimetype": "text/x-python",
   "name": "python",
   "nbconvert_exporter": "python",
   "pygments_lexer": "ipython3",
   "version": "3.7.13"
  }
 },
 "nbformat": 4,
 "nbformat_minor": 5
}
