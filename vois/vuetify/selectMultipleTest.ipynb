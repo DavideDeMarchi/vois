{
 "cells": [
  {
   "cell_type": "code",
   "execution_count": null,
   "id": "f9c209ef",
   "metadata": {},
   "outputs": [],
   "source": [
    "%run selectMultiple.py\n",
    "\n",
    "from ipywidgets import widgets\n",
    "output = widgets.Output()\n",
    "display(output)\n",
    "\n",
    "        \n",
    "# Append parent directory to import path\n",
    "import os\n",
    "import sys\n",
    "module_path = os.path.abspath(os.path.join('..'))\n",
    "if module_path not in sys.path:\n",
    "    sys.path.append(module_path)\n",
    "\n",
    "    \n",
    "# List of EU country names and codes\n",
    "import eucountries as eu\n",
    "names = eu.countries.EuropeanUnionNames()\n",
    "codes = eu.countries.EuropeanUnionCodes()\n",
    "\n",
    "names2codes = dict(zip(names,codes))\n",
    "codes2names = dict(zip(codes,names))\n",
    "\n",
    "# Mapping of country name to country code\n",
    "def mapping(name):\n",
    "    return names2codes[name]\n",
    "\n",
    "# Mapping of country code to country name\n",
    "def reverse_mapping(code):\n",
    "    return codes2names[code]\n",
    "\n",
    "\n",
    "def onchange():\n",
    "    with output:\n",
    "        print(sel.value)\n",
    "    \n",
    "# Example with mapping: displays country names an the value property returns a list of country codes\n",
    "sel = selectMultiple('Country:', names, selected=['HR'], width=400, mapping=mapping, reverse_mapping=reverse_mapping, onchange=onchange, marginy=1)\n",
    "sel.draw()"
   ]
  },
  {
   "cell_type": "code",
   "execution_count": null,
   "id": "0bebf45d",
   "metadata": {},
   "outputs": [],
   "source": [
    "sel.value = ['IT','FR','BE']"
   ]
  },
  {
   "cell_type": "code",
   "execution_count": null,
   "id": "5e6aa3b9",
   "metadata": {},
   "outputs": [],
   "source": [
    "sel.value = []"
   ]
  },
  {
   "cell_type": "code",
   "execution_count": null,
   "id": "8f708cbb",
   "metadata": {},
   "outputs": [],
   "source": [
    "sel.value"
   ]
  },
  {
   "cell_type": "code",
   "execution_count": null,
   "id": "1792d3cc",
   "metadata": {},
   "outputs": [],
   "source": [
    "sel._value"
   ]
  },
  {
   "cell_type": "code",
   "execution_count": null,
   "id": "e24c7270",
   "metadata": {},
   "outputs": [],
   "source": [
    "# Example without mapping: displays country names and the value property returns a list of names\n",
    "sel = selectMultiple('Country:', names, selected=['Belgium'], width=400, onchange=onchange, marginy=1)\n",
    "sel.draw()"
   ]
  },
  {
   "cell_type": "code",
   "execution_count": null,
   "id": "98a9bb99",
   "metadata": {},
   "outputs": [],
   "source": [
    "sel.value"
   ]
  },
  {
   "cell_type": "code",
   "execution_count": null,
   "id": "ae79ce11",
   "metadata": {},
   "outputs": [],
   "source": []
  }
 ],
 "metadata": {
  "kernelspec": {
   "display_name": "Python 3 (ipykernel)",
   "language": "python",
   "name": "python3"
  },
  "language_info": {
   "codemirror_mode": {
    "name": "ipython",
    "version": 3
   },
   "file_extension": ".py",
   "mimetype": "text/x-python",
   "name": "python",
   "nbconvert_exporter": "python",
   "pygments_lexer": "ipython3",
   "version": "3.7.12"
  }
 },
 "nbformat": 4,
 "nbformat_minor": 5
}
