{
 "cells": [
  {
   "cell_type": "code",
   "execution_count": 5,
   "id": "b22cf099",
   "metadata": {},
   "outputs": [
    {
     "data": {
      "application/vnd.jupyter.widget-view+json": {
       "model_id": "4f59cb625048496e954108d231f4d15e",
       "version_major": 2,
       "version_minor": 0
      },
      "text/plain": [
       "Col(children=[Html(children=[Container(children=[Tooltip(bottom=True, children=['Tooltip for label1'], color='…"
      ]
     },
     "metadata": {},
     "output_type": "display_data"
    },
    {
     "data": {
      "application/vnd.jupyter.widget-view+json": {
       "model_id": "61906e8ad9ed4a83a64592941bdab6bb",
       "version_major": 2,
       "version_minor": 0
      },
      "text/plain": [
       "Output()"
      ]
     },
     "metadata": {},
     "output_type": "display_data"
    }
   ],
   "source": [
    "%run toggle.py\n",
    "\n",
    "from ipywidgets import widgets\n",
    "output = widgets.Output()\n",
    "\n",
    "def onchange(value):\n",
    "    with output:\n",
    "        print(value)\n",
    "\n",
    "t = toggle(0, ['Label1', 'Label2 is a very long label', 'Label3 is also very long'], tooltips=['Tooltip for label1'], \n",
    "           onchange=onchange, row=False, width=250, justify='start', rounded=False, outlined=False, dark=False)\n",
    "\n",
    "display(t.draw())\n",
    "display(output)"
   ]
  },
  {
   "cell_type": "code",
   "execution_count": null,
   "id": "462f0e73",
   "metadata": {},
   "outputs": [],
   "source": [
    "t.value = 2"
   ]
  },
  {
   "cell_type": "code",
   "execution_count": null,
   "id": "7334281a",
   "metadata": {},
   "outputs": [],
   "source": []
  }
 ],
 "metadata": {
  "kernelspec": {
   "display_name": "Python 3 (ipykernel)",
   "language": "python",
   "name": "python3"
  },
  "language_info": {
   "codemirror_mode": {
    "name": "ipython",
    "version": 3
   },
   "file_extension": ".py",
   "mimetype": "text/x-python",
   "name": "python",
   "nbconvert_exporter": "python",
   "pygments_lexer": "ipython3",
   "version": "3.7.13"
  }
 },
 "nbformat": 4,
 "nbformat_minor": 5
}
