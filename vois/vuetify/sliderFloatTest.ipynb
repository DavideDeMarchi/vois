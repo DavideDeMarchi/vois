{
 "cells": [
  {
   "cell_type": "code",
   "execution_count": 7,
   "id": "b10bb8e3",
   "metadata": {},
   "outputs": [
    {
     "data": {
      "application/vnd.jupyter.widget-view+json": {
       "model_id": "86070e3cf66347859d363743f9a4376a",
       "version_major": 2,
       "version_minor": 0
      },
      "text/plain": [
       "Row(children=[Html(children=['Select Value in [1.0,3.0]:'], class_='pa-0 ma-0 mt-4', style_='width: 200px; min…"
      ]
     },
     "metadata": {},
     "output_type": "display_data"
    },
    {
     "data": {
      "application/vnd.jupyter.widget-view+json": {
       "model_id": "f7bc7adb25c7498a923d49d403243427",
       "version_major": 2,
       "version_minor": 0
      },
      "text/plain": [
       "Output()"
      ]
     },
     "metadata": {},
     "output_type": "display_data"
    }
   ],
   "source": [
    "from ipywidgets import widgets\n",
    "from IPython.display import display\n",
    "\n",
    "%run sliderFloat.py\n",
    "\n",
    "output = widgets.Output()\n",
    "\n",
    "def onchange(value):\n",
    "    with output:\n",
    "        print(value)\n",
    "\n",
    "s = sliderFloat(1.8, text='Select Value in [1.0,3.0]:', minvalue=1.0, maxvalue=3.0, showpercentage=False, decimals=2, labelwidth=200, onchange=onchange)\n",
    "display(s.draw())\n",
    "display(output)"
   ]
  },
  {
   "cell_type": "code",
   "execution_count": null,
   "id": "9a1f5b74",
   "metadata": {},
   "outputs": [],
   "source": [
    "s.value = 2.35"
   ]
  },
  {
   "cell_type": "code",
   "execution_count": null,
   "id": "dae51fe1",
   "metadata": {},
   "outputs": [],
   "source": []
  },
  {
   "cell_type": "code",
   "execution_count": null,
   "id": "f8fa9385",
   "metadata": {},
   "outputs": [],
   "source": [
    "from ipywidgets import widgets\n",
    "from IPython.display import display\n",
    "\n",
    "%run sliderFloat.py\n",
    "\n",
    "output = widgets.Output()\n",
    "\n",
    "def onchange(value):\n",
    "    with output:\n",
    "        print(value)\n",
    "\n",
    "s = sliderFloat(0.8, text='Fill opacity:', onchange=onchange)\n",
    "display(s.draw())\n",
    "display(output)"
   ]
  },
  {
   "cell_type": "code",
   "execution_count": null,
   "id": "cd56936f",
   "metadata": {},
   "outputs": [],
   "source": []
  },
  {
   "cell_type": "code",
   "execution_count": 4,
   "id": "0af0a47a",
   "metadata": {},
   "outputs": [
    {
     "data": {
      "application/vnd.jupyter.widget-view+json": {
       "model_id": "57c360f66d22438ab5d9144f82220bb9",
       "version_major": 2,
       "version_minor": 0
      },
      "text/plain": [
       "Row(children=[Html(children=['Select Value in [0.0,360.0]:'], class_='pa-0 ma-0 mt-4', style_='width: 200px; m…"
      ]
     },
     "metadata": {},
     "output_type": "display_data"
    },
    {
     "data": {
      "application/vnd.jupyter.widget-view+json": {
       "model_id": "a08c5d0d22ec4acd84ed78983cb91981",
       "version_major": 2,
       "version_minor": 0
      },
      "text/plain": [
       "Output()"
      ]
     },
     "metadata": {},
     "output_type": "display_data"
    }
   ],
   "source": [
    "from ipywidgets import widgets\n",
    "from IPython.display import display\n",
    "\n",
    "%run sliderFloat.py\n",
    "\n",
    "output = widgets.Output()\n",
    "\n",
    "def onchange(value):\n",
    "    with output:\n",
    "        print(value)\n",
    "\n",
    "s = sliderFloat(45.0, text='Select Value in [0.0,360.0]:', minvalue=0.0, maxvalue=360.0, maxint=360, showpercentage=False, decimals=0, labelwidth=200, onchange=onchange)\n",
    "display(s.draw())\n",
    "display(output)"
   ]
  },
  {
   "cell_type": "code",
   "execution_count": null,
   "id": "21be57e6",
   "metadata": {},
   "outputs": [],
   "source": []
  }
 ],
 "metadata": {
  "kernelspec": {
   "display_name": "Python 3 (ipykernel)",
   "language": "python",
   "name": "python3"
  },
  "language_info": {
   "codemirror_mode": {
    "name": "ipython",
    "version": 3
   },
   "file_extension": ".py",
   "mimetype": "text/x-python",
   "name": "python",
   "nbconvert_exporter": "python",
   "pygments_lexer": "ipython3",
   "version": "3.7.13"
  }
 },
 "nbformat": 4,
 "nbformat_minor": 5
}
