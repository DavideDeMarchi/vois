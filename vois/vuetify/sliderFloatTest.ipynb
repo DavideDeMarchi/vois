{
 "cells": [
  {
   "cell_type": "code",
   "execution_count": 2,
   "id": "dfc0c96c",
   "metadata": {},
   "outputs": [
    {
     "data": {
      "application/vnd.jupyter.widget-view+json": {
       "model_id": "97991431ba304b9b84ac3cc714bf0699",
       "version_major": 2,
       "version_minor": 0
      },
      "text/plain": [
       "Row(children=[Html(children=['Select Value in [1.0,3.0]:'], class_='pa-0 ma-0 mt-4', style_='width: 200px; min…"
      ]
     },
     "metadata": {},
     "output_type": "display_data"
    },
    {
     "data": {
      "application/vnd.jupyter.widget-view+json": {
       "model_id": "847b6814ba8f4d2d857fbf4d45880fd7",
       "version_major": 2,
       "version_minor": 0
      },
      "text/plain": [
       "Output()"
      ]
     },
     "metadata": {},
     "output_type": "display_data"
    }
   ],
   "source": [
    "from ipywidgets import widgets\n",
    "from IPython.display import display\n",
    "\n",
    "%run sliderFloat.py\n",
    "\n",
    "output = widgets.Output()\n",
    "\n",
    "def onchange(value):\n",
    "    with output:\n",
    "        print(value)\n",
    "\n",
    "s = sliderFloat(1.8, text='Select Value in [1.0,3.0]:', minvalue=1.0, maxvalue=3.0, showpercentage=False, decimals=2,\n",
    "                labelwidth=200, resetbutton=True, showtooltip=True, onchange=onchange)\n",
    "display(s.draw())\n",
    "display(output)"
   ]
  },
  {
   "cell_type": "code",
   "execution_count": null,
   "id": "2b58697a",
   "metadata": {},
   "outputs": [],
   "source": [
    "s.value = 2.35"
   ]
  },
  {
   "cell_type": "code",
   "execution_count": null,
   "id": "f01ab424",
   "metadata": {},
   "outputs": [],
   "source": []
  },
  {
   "cell_type": "code",
   "execution_count": null,
   "id": "5134a8d5",
   "metadata": {},
   "outputs": [],
   "source": [
    "from ipywidgets import widgets\n",
    "from IPython.display import display\n",
    "\n",
    "%run sliderFloat.py\n",
    "\n",
    "output = widgets.Output()\n",
    "\n",
    "def onchange(value):\n",
    "    with output:\n",
    "        print(value)\n",
    "\n",
    "s = sliderFloat(0.8, text='Fill opacity:', onchange=onchange)\n",
    "display(s.draw())\n",
    "display(output)"
   ]
  },
  {
   "cell_type": "code",
   "execution_count": null,
   "id": "2806e2cd",
   "metadata": {},
   "outputs": [],
   "source": []
  },
  {
   "cell_type": "code",
   "execution_count": null,
   "id": "d8a26c7c",
   "metadata": {},
   "outputs": [],
   "source": [
    "from ipywidgets import widgets\n",
    "from IPython.display import display\n",
    "\n",
    "%run sliderFloat.py\n",
    "\n",
    "output = widgets.Output()\n",
    "\n",
    "def onchange(value):\n",
    "    with output:\n",
    "        print(value)\n",
    "\n",
    "s = sliderFloat(45.0, text='Select Value in [0.0,360.0]:', minvalue=0.0, maxvalue=360.0, maxint=360, showpercentage=False, decimals=0, labelwidth=200, onchange=onchange)\n",
    "display(s.draw())\n",
    "display(output)"
   ]
  },
  {
   "cell_type": "code",
   "execution_count": null,
   "id": "02866f0c",
   "metadata": {},
   "outputs": [],
   "source": []
  }
 ],
 "metadata": {
  "kernelspec": {
   "display_name": "Python 3 (ipykernel)",
   "language": "python",
   "name": "python3"
  },
  "language_info": {
   "codemirror_mode": {
    "name": "ipython",
    "version": 3
   },
   "file_extension": ".py",
   "mimetype": "text/x-python",
   "name": "python",
   "nbconvert_exporter": "python",
   "pygments_lexer": "ipython3",
   "version": "3.7.13"
  }
 },
 "nbformat": 4,
 "nbformat_minor": 5
}
