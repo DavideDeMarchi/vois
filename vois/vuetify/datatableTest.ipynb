{
 "cells": [
  {
   "cell_type": "code",
   "execution_count": null,
   "id": "688a0465",
   "metadata": {},
   "outputs": [],
   "source": [
    "import pandas as pd"
   ]
  },
  {
   "cell_type": "code",
   "execution_count": null,
   "id": "7246f491",
   "metadata": {},
   "outputs": [],
   "source": [
    "df = pd.read_csv('https://raw.githubusercontent.com/owid/covid-19-data/master/public/data/owid-covid-data.csv')\n",
    "#df"
   ]
  },
  {
   "cell_type": "code",
   "execution_count": null,
   "id": "a360e5f6",
   "metadata": {},
   "outputs": [],
   "source": [
    "%run datatable.py\n",
    "\n",
    "def on_click(data):\n",
    "    print(data)\n",
    "\n",
    "def on_icon():\n",
    "    print('Clicked the icon!')\n",
    "\n",
    "# Display last 100 days for a country\n",
    "df = df[df['location']=='Italy']\n",
    "d = datatable(data=df.tail(100), height='500px', on_click=on_click, color='green', dark=True,\n",
    "              title='Covid-19 data for Italy', searchshow=True, search='123',\n",
    "              icon='mdi-arrow-expand-all', icon_tooltip='Expand the table', icon_color='#005500', on_icon=on_icon,\n",
    "              font_size='12px', font_size_title='18px', unsortable_columns=['index','iso_code'])\n",
    "d"
   ]
  },
  {
   "cell_type": "code",
   "execution_count": null,
   "id": "1f05a539",
   "metadata": {},
   "outputs": [],
   "source": [
    "d.icon_disabled = False"
   ]
  },
  {
   "cell_type": "code",
   "execution_count": null,
   "id": "7ad242ba",
   "metadata": {},
   "outputs": [],
   "source": []
  }
 ],
 "metadata": {
  "kernelspec": {
   "display_name": "Python 3 (ipykernel)",
   "language": "python",
   "name": "python3"
  },
  "language_info": {
   "codemirror_mode": {
    "name": "ipython",
    "version": 3
   },
   "file_extension": ".py",
   "mimetype": "text/x-python",
   "name": "python",
   "nbconvert_exporter": "python",
   "pygments_lexer": "ipython3",
   "version": "3.7.13"
  }
 },
 "nbformat": 4,
 "nbformat_minor": 5
}
