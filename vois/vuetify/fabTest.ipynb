{
 "cells": [
  {
   "cell_type": "code",
   "execution_count": 7,
   "id": "52ac9dfc",
   "metadata": {},
   "outputs": [
    {
     "data": {
      "application/vnd.jupyter.widget-view+json": {
       "model_id": "073fa1d48d214862869766d8d79c63fc",
       "version_major": 2,
       "version_minor": 0
      },
      "text/plain": [
       "Output()"
      ]
     },
     "metadata": {},
     "output_type": "display_data"
    }
   ],
   "source": [
    "from ipywidgets import HTML, widgets, Layout\n",
    "from IPython.display import display\n",
    "\n",
    "debug = widgets.Output()\n",
    "display(debug)\n",
    "\n",
    "def aaa():\n",
    "    print('aaa')\n",
    "\n",
    "def ddd():\n",
    "    print('ddd')\n",
    "\n",
    "def ggg():\n",
    "    print('ggg')"
   ]
  },
  {
   "cell_type": "code",
   "execution_count": null,
   "id": "e570696c",
   "metadata": {},
   "outputs": [],
   "source": [
    "# MENUMODE = True\n",
    "%run fab.py\n",
    "    \n",
    "b = fab(left='70%', top='150px', items=['aaa bbb ccc', 'ddd eee fff', 'ggg hhh iii'], tooltipitems=['', 'ddd eee fff', 'ggg hhh iii'], \n",
    "        onclick=[aaa,ddd,ggg], menumode=True, width=180, selected=True, dark=True, zindex=100, output=debug)"
   ]
  },
  {
   "cell_type": "code",
   "execution_count": null,
   "id": "96ffb923",
   "metadata": {},
   "outputs": [],
   "source": [
    "b.seticon('mdi-arrow-left-bold')"
   ]
  },
  {
   "cell_type": "code",
   "execution_count": null,
   "id": "597f72ee",
   "metadata": {},
   "outputs": [],
   "source": [
    "b.show(False)"
   ]
  },
  {
   "cell_type": "code",
   "execution_count": null,
   "id": "f0d0bf62",
   "metadata": {},
   "outputs": [],
   "source": [
    "# MENUMODE = False\n",
    "%run fab.py\n",
    "\n",
    "b = fab(left='35%', top='150px', items=['aaa bbb ccc', 'ddd eee fff', 'ggg hhh iii'], tooltipitems=['aaa bbb ccc', 'ddd eee fff', 'ggg hhh iii'],\n",
    "        onclick=[aaa,ddd,ggg], menumode=False, width=180, selected=True, dark=True, zindex=100, output=debug)\n"
   ]
  },
  {
   "cell_type": "code",
   "execution_count": null,
   "id": "fdaa41d8",
   "metadata": {},
   "outputs": [],
   "source": [
    "b.seticon('mdi-arrow-left-bold', 1)"
   ]
  },
  {
   "cell_type": "code",
   "execution_count": null,
   "id": "63307e91",
   "metadata": {},
   "outputs": [],
   "source": [
    "b.show(False)"
   ]
  },
  {
   "cell_type": "code",
   "execution_count": 8,
   "id": "c0ff7638",
   "metadata": {},
   "outputs": [],
   "source": [
    "# ICON\n",
    "%run fab.py\n",
    "   \n",
    "b = fab(left='300px', top='100px', items=[''], onclick=[aaa], icon=['mdi-menu'], tooltipitems=['Click to open the settings panel'],\n",
    "        iconsmall=False, menumode=False, width=100, selected=True, dark=True, zindex=100, output=debug)\n"
   ]
  },
  {
   "cell_type": "code",
   "execution_count": null,
   "id": "cce8ca5e",
   "metadata": {},
   "outputs": [],
   "source": [
    "b.settooltip('Close the panel')\n",
    "b.seticon('mdi-arrow-left')"
   ]
  },
  {
   "cell_type": "code",
   "execution_count": null,
   "id": "adb7c2a0",
   "metadata": {},
   "outputs": [],
   "source": [
    "b.show(False)"
   ]
  },
  {
   "cell_type": "code",
   "execution_count": 10,
   "id": "a4af9553",
   "metadata": {},
   "outputs": [],
   "source": [
    "# Change position at runtime\n",
    "b.top = '200px'\n",
    "b.nav.style_ = \"left:%s; top:%s; z-index:%d;\" % (b.left,b.top,b.zindex)"
   ]
  },
  {
   "cell_type": "code",
   "execution_count": null,
   "id": "9c01db89",
   "metadata": {},
   "outputs": [],
   "source": []
  }
 ],
 "metadata": {
  "kernelspec": {
   "display_name": "Python 3 (ipykernel)",
   "language": "python",
   "name": "python3"
  },
  "language_info": {
   "codemirror_mode": {
    "name": "ipython",
    "version": 3
   },
   "file_extension": ".py",
   "mimetype": "text/x-python",
   "name": "python",
   "nbconvert_exporter": "python",
   "pygments_lexer": "ipython3",
   "version": "3.7.13"
  }
 },
 "nbformat": 4,
 "nbformat_minor": 5
}
