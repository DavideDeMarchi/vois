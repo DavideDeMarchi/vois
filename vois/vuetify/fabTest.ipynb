{
 "cells": [
  {
   "cell_type": "code",
   "execution_count": null,
   "id": "3c7e31a5",
   "metadata": {},
   "outputs": [],
   "source": [
    "from ipywidgets import HTML, widgets, Layout\n",
    "from IPython.display import display\n",
    "\n",
    "debug = widgets.Output()\n",
    "display(debug)\n",
    "\n",
    "def aaa():\n",
    "    print('aaa')\n",
    "\n",
    "def ddd():\n",
    "    print('ddd')\n",
    "\n",
    "def ggg():\n",
    "    print('ggg')"
   ]
  },
  {
   "cell_type": "code",
   "execution_count": null,
   "id": "6e3c1ae4",
   "metadata": {},
   "outputs": [],
   "source": [
    "# MENUMODE = True\n",
    "%run fab.py\n",
    "    \n",
    "b = fab(left='70%', top='150px', items=['aaa bbb ccc', 'ddd eee fff', 'ggg hhh iii'], tooltipitems=['', 'ddd eee fff', 'ggg hhh iii'], \n",
    "        onclick=[aaa,ddd,ggg], menumode=True, width=180, selected=True, dark=True, zindex=100, output=debug)"
   ]
  },
  {
   "cell_type": "code",
   "execution_count": null,
   "id": "be05b39d",
   "metadata": {},
   "outputs": [],
   "source": [
    "b.seticon('mdi-arrow-left-bold')"
   ]
  },
  {
   "cell_type": "code",
   "execution_count": null,
   "id": "697578b6",
   "metadata": {},
   "outputs": [],
   "source": [
    "b.show(False)"
   ]
  },
  {
   "cell_type": "code",
   "execution_count": null,
   "id": "addbaad7",
   "metadata": {},
   "outputs": [],
   "source": [
    "# MENUMODE = False\n",
    "%run fab.py\n",
    "\n",
    "b = fab(left='35%', top='150px', items=['aaa bbb ccc', 'ddd eee fff', 'ggg hhh iii'], tooltipitems=['aaa bbb ccc', 'ddd eee fff', 'ggg hhh iii'],\n",
    "        onclick=[aaa,ddd,ggg], menumode=False, width=180, selected=True, dark=True, zindex=100, output=debug)\n"
   ]
  },
  {
   "cell_type": "code",
   "execution_count": null,
   "id": "a4604e0f",
   "metadata": {},
   "outputs": [],
   "source": [
    "b.seticon('mdi-arrow-left-bold', 1)"
   ]
  },
  {
   "cell_type": "code",
   "execution_count": null,
   "id": "6747a220",
   "metadata": {},
   "outputs": [],
   "source": [
    "b.show(False)"
   ]
  },
  {
   "cell_type": "code",
   "execution_count": null,
   "id": "1687c0c5",
   "metadata": {},
   "outputs": [],
   "source": [
    "# ICON\n",
    "%run fab.py\n",
    "   \n",
    "b = fab(left='10px', top='10px', items=[''], onclick=[aaa], icon=['mdi-menu'], tooltipitems=['Click to open the settings panel'],\n",
    "        iconsmall=False, menumode=False, width=100, selected=True, dark=True, zindex=100, output=debug)\n"
   ]
  },
  {
   "cell_type": "code",
   "execution_count": null,
   "id": "75751659",
   "metadata": {},
   "outputs": [],
   "source": [
    "b.settooltip('Close the panel')\n",
    "b.seticon('mdi-arrow-left')"
   ]
  },
  {
   "cell_type": "code",
   "execution_count": null,
   "id": "d81918e7",
   "metadata": {},
   "outputs": [],
   "source": [
    "b.show(False)"
   ]
  },
  {
   "cell_type": "code",
   "execution_count": null,
   "id": "e8c0ff9a",
   "metadata": {},
   "outputs": [],
   "source": []
  },
  {
   "cell_type": "code",
   "execution_count": null,
   "id": "3b2650ba",
   "metadata": {},
   "outputs": [],
   "source": []
  }
 ],
 "metadata": {
  "kernelspec": {
   "display_name": "Python 3 (ipykernel)",
   "language": "python",
   "name": "python3"
  },
  "language_info": {
   "codemirror_mode": {
    "name": "ipython",
    "version": 3
   },
   "file_extension": ".py",
   "mimetype": "text/x-python",
   "name": "python",
   "nbconvert_exporter": "python",
   "pygments_lexer": "ipython3",
   "version": "3.7.13"
  }
 },
 "nbformat": 4,
 "nbformat_minor": 5
}
