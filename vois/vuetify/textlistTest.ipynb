{
 "cells": [
  {
   "cell_type": "code",
   "execution_count": 1,
   "id": "8517d8fb",
   "metadata": {},
   "outputs": [
    {
     "data": {
      "application/vnd.jupyter.widget-view+json": {
       "model_id": "96edaea2f066483b99d31b9b531b2d56",
       "version_major": 2,
       "version_minor": 0
      },
      "text/plain": [
       "Card(children=[Layout(children=[Col(children=[Html(children=['Name'], class_='pa-0 ma-0', layout=None, style_=…"
      ]
     },
     "metadata": {},
     "output_type": "display_data"
    }
   ],
   "source": [
    "%run textlist.py\n",
    "\n",
    "t = textlist(['Name', 'Surname', 'Address', 'Role'],\n",
    "             ['Davide', 'De Marchi', 'via Eduardo 34, Roccacannuccia (PE)', 'Software developer'],\n",
    "             titlesbold=['Surname'],\n",
    "             titlefontsize=14,\n",
    "             textfontsize=16,\n",
    "             titlecolumn=3,\n",
    "             textcolumn=10,\n",
    "             titlecolor='#003300',\n",
    "             textcolor='#000000',\n",
    "             lineheightfactor=1.4\n",
    "            )\n",
    "\n",
    "# Set some attributes of the card widget (margins, colors, width, etc.)\n",
    "t.card.class_    = 'pa-0 ma-4 ml-6 mr-8'\n",
    "t.card.flat      = False\n",
    "t.card.color     = '#e0ffe0'\n",
    "t.card.elevation = 8\n",
    "t.card.width     = '430px'\n",
    "\n",
    "t.draw()"
   ]
  },
  {
   "cell_type": "code",
   "execution_count": null,
   "id": "454c515f",
   "metadata": {},
   "outputs": [],
   "source": []
  }
 ],
 "metadata": {
  "kernelspec": {
   "display_name": "Python 3 (ipykernel)",
   "language": "python",
   "name": "python3"
  },
  "language_info": {
   "codemirror_mode": {
    "name": "ipython",
    "version": 3
   },
   "file_extension": ".py",
   "mimetype": "text/x-python",
   "name": "python",
   "nbconvert_exporter": "python",
   "pygments_lexer": "ipython3",
   "version": "3.7.13"
  }
 },
 "nbformat": 4,
 "nbformat_minor": 5
}
