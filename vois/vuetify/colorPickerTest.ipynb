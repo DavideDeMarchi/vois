{
 "cells": [
  {
   "cell_type": "code",
   "execution_count": null,
   "id": "8c34222e",
   "metadata": {},
   "outputs": [],
   "source": [
    "%run colorPicker.py\n",
    "\n",
    "from ipywidgets import widgets\n",
    "from IPython.display import display\n",
    "\n",
    "output = widgets.Output()\n",
    "\n",
    "def onchange():\n",
    "    with output:\n",
    "        print('Changed to', c.color)\n",
    "\n",
    "c = colorPicker(color='#00AAFF', width=30, height=30, rounded=False, onchange=onchange, offset_x=True, offset_y=False)\n",
    "\n",
    "display(c.draw())\n",
    "display(output)"
   ]
  },
  {
   "cell_type": "code",
   "execution_count": null,
   "id": "073f7133",
   "metadata": {},
   "outputs": [],
   "source": [
    "c.color = '#00FF88'"
   ]
  },
  {
   "cell_type": "code",
   "execution_count": null,
   "id": "c4335f43",
   "metadata": {},
   "outputs": [],
   "source": [
    "c.disabled = True"
   ]
  },
  {
   "cell_type": "code",
   "execution_count": null,
   "id": "68c12376",
   "metadata": {},
   "outputs": [],
   "source": [
    "c.disabled = False"
   ]
  },
  {
   "cell_type": "code",
   "execution_count": null,
   "id": "8d6b0ddf",
   "metadata": {},
   "outputs": [],
   "source": []
  }
 ],
 "metadata": {
  "kernelspec": {
   "display_name": "Python 3 (ipykernel)",
   "language": "python",
   "name": "python3"
  },
  "language_info": {
   "codemirror_mode": {
    "name": "ipython",
    "version": 3
   },
   "file_extension": ".py",
   "mimetype": "text/x-python",
   "name": "python",
   "nbconvert_exporter": "python",
   "pygments_lexer": "ipython3",
   "version": "3.7.13"
  }
 },
 "nbformat": 4,
 "nbformat_minor": 5
}
