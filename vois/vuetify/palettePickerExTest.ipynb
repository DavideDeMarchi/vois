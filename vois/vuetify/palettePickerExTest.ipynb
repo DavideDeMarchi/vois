{
 "cells": [
  {
   "cell_type": "code",
   "execution_count": null,
   "id": "891b14fc",
   "metadata": {},
   "outputs": [],
   "source": [
    "%run palettePickerEx.py\n",
    "\n",
    "from ipywidgets import widgets\n",
    "\n",
    "output = widgets.Output()\n",
    "display(output)\n",
    "\n",
    "def onchange(colors,interpolate):\n",
    "    with output:\n",
    "        print(colors,interpolate)\n",
    "\n",
    "p = palettePickerEx(width=250, onchange=onchange)\n",
    "p.draw()"
   ]
  },
  {
   "cell_type": "code",
   "execution_count": null,
   "id": "17eb0d2f",
   "metadata": {},
   "outputs": [],
   "source": [
    "p.interpolate"
   ]
  },
  {
   "cell_type": "code",
   "execution_count": null,
   "id": "3bb6fb29",
   "metadata": {},
   "outputs": [],
   "source": [
    "p.p.value"
   ]
  },
  {
   "cell_type": "code",
   "execution_count": null,
   "id": "9eabaeeb",
   "metadata": {},
   "outputs": [],
   "source": [
    "p.p.colors"
   ]
  },
  {
   "cell_type": "code",
   "execution_count": null,
   "id": "6d486526",
   "metadata": {},
   "outputs": [],
   "source": []
  }
 ],
 "metadata": {
  "kernelspec": {
   "display_name": "Python 3 (ipykernel)",
   "language": "python",
   "name": "python3"
  },
  "language_info": {
   "codemirror_mode": {
    "name": "ipython",
    "version": 3
   },
   "file_extension": ".py",
   "mimetype": "text/x-python",
   "name": "python",
   "nbconvert_exporter": "python",
   "pygments_lexer": "ipython3",
   "version": "3.7.13"
  }
 },
 "nbformat": 4,
 "nbformat_minor": 5
}
