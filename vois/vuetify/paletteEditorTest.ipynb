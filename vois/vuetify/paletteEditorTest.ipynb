{
 "cells": [
  {
   "cell_type": "code",
   "execution_count": 11,
   "id": "cee23658",
   "metadata": {},
   "outputs": [
    {
     "data": {
      "application/vnd.jupyter.widget-view+json": {
       "model_id": "f3d6fba55f674025988185666f8084b4",
       "version_major": 2,
       "version_minor": 0
      },
      "text/plain": [
       "Output(layout=Layout(height='800px', width='500px'))"
      ]
     },
     "metadata": {},
     "output_type": "display_data"
    },
    {
     "data": {
      "application/vnd.jupyter.widget-view+json": {
       "model_id": "e1425547611e467c87eacbc3999e0965",
       "version_major": 2,
       "version_minor": 0
      },
      "text/plain": [
       "Output()"
      ]
     },
     "metadata": {},
     "output_type": "display_data"
    }
   ],
   "source": [
    "import settings\n",
    "settings.dark_mode      = False\n",
    "settings.color_second   = '#d8e7f5'\n",
    "settings.color_first    = '#68aad2'\n",
    "\n",
    "\n",
    "%run paletteEditor.py\n",
    "\n",
    "from ipywidgets import widgets, Layout\n",
    "from IPython.display import display\n",
    "\n",
    "output = widgets.Output(layout=Layout(width='500px', height='800px'))\n",
    "outmsg = widgets.Output()\n",
    "\n",
    "def onchange():\n",
    "    with outmsg:\n",
    "        print('onchange!')\n",
    "\n",
    "p = paletteEditor(width=450, maxheightlist=600) #, onchange=onchange)\n",
    "\n",
    "with output:\n",
    "    display(p.draw())\n",
    "    \n",
    "display(output)\n",
    "display(outmsg)"
   ]
  },
  {
   "cell_type": "code",
   "execution_count": null,
   "id": "2b4d2e4f",
   "metadata": {},
   "outputs": [],
   "source": [
    "p.colors"
   ]
  },
  {
   "cell_type": "code",
   "execution_count": null,
   "id": "c64a9f00",
   "metadata": {},
   "outputs": [],
   "source": [
    "p.items"
   ]
  },
  {
   "cell_type": "code",
   "execution_count": null,
   "id": "ea91b9a9",
   "metadata": {},
   "outputs": [],
   "source": [
    "p.title = 'Palette title'"
   ]
  },
  {
   "cell_type": "code",
   "execution_count": null,
   "id": "a1aada80",
   "metadata": {},
   "outputs": [],
   "source": [
    "p.interpolate = False"
   ]
  },
  {
   "cell_type": "code",
   "execution_count": 13,
   "id": "274f84f4",
   "metadata": {},
   "outputs": [
    {
     "data": {
      "application/vnd.jupyter.widget-view+json": {
       "model_id": "134bd4c0d3574b508ef6b0bd97c12c25",
       "version_major": 2,
       "version_minor": 0
      },
      "text/plain": [
       "Output()"
      ]
     },
     "metadata": {},
     "output_type": "display_data"
    }
   ],
   "source": [
    "# Palette editor inside a modal dialog-box\n",
    "from ipywidgets import widgets\n",
    "from IPython.display import display\n",
    "\n",
    "output = widgets.Output()\n",
    "display(output)\n",
    "\n",
    "%run paletteEditor.py\n",
    "%run dialogGeneric.py\n",
    "\n",
    "def on_ok():\n",
    "    pass\n",
    "    #print(\"Exit with ok\")\n",
    "\n",
    "def on_cancel():\n",
    "    pass\n",
    "    #print(\"Exit with cancel\")\n",
    "    \n",
    "p = paletteEditor(width=450)\n",
    "    \n",
    "dlg = dialogGeneric(title='Palette editor', text='', show=True, \n",
    "                    addclosebuttons=True, width=560, persistent=True, \n",
    "                    addokcancelbuttons=True, on_ok=on_ok, on_cancel=on_cancel,\n",
    "                    fullscreen=False, content=[p.draw()], output=output)"
   ]
  },
  {
   "cell_type": "code",
   "execution_count": null,
   "id": "1356cc42",
   "metadata": {},
   "outputs": [],
   "source": []
  }
 ],
 "metadata": {
  "kernelspec": {
   "display_name": "Python 3 (ipykernel)",
   "language": "python",
   "name": "python3"
  },
  "language_info": {
   "codemirror_mode": {
    "name": "ipython",
    "version": 3
   },
   "file_extension": ".py",
   "mimetype": "text/x-python",
   "name": "python",
   "nbconvert_exporter": "python",
   "pygments_lexer": "ipython3",
   "version": "3.7.13"
  }
 },
 "nbformat": 4,
 "nbformat_minor": 5
}
