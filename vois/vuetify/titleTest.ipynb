{
 "cells": [
  {
   "cell_type": "code",
   "execution_count": 1,
   "id": "b31e8f7b",
   "metadata": {},
   "outputs": [
    {
     "data": {
      "application/vnd.jupyter.widget-view+json": {
       "model_id": "7de5480a765a42c2a21e8526e784369a",
       "version_major": 2,
       "version_minor": 0
      },
      "text/plain": [
       "Output(layout=Layout(height='400px', width='99%'))"
      ]
     },
     "metadata": {},
     "output_type": "display_data"
    }
   ],
   "source": [
    "from ipywidgets import widgets, Layout, HTML\n",
    "from IPython.display import display\n",
    "import switch\n",
    "import sidePanel\n",
    "\n",
    "\n",
    "output = widgets.Output(layout=Layout(width='99%', height='400px'))\n",
    "display(output)\n",
    "\n",
    "%run title.py\n",
    "\n",
    "def onclick(arg):\n",
    "    print(arg)\n",
    "\n",
    "def onmenu():\n",
    "    panel.show()\n",
    "    \n",
    "def on_s_change(value):\n",
    "    print(value)\n",
    "    \n",
    "s = switch.switch(True, 'PNG format', onchange=on_s_change)\n",
    "\n",
    "panel = sidePanel.sidePanel(title='Settings for download', text='Please select the format for download:', width=400, right=False, content=[s.draw()], output=output, zindex=9999)\n",
    "\n",
    "# Title without buttons\n",
    "f = title(text='Energy consumption dashboard', color='red', \n",
    "          menu=True, onmenuclick=onmenu,\n",
    "          #buttons=['Home', 'About Us', 'Team', 'Services', 'Blog', 'Contact Us'],\n",
    "          logo='https://jeodpp.jrc.ec.europa.eu/services/shared/home/images/JRCBigDataPlatform2.png', logowidth=180, logomarginy=1, menumarginy=1,\n",
    "          height=60, onclick=onclick, output=output)\n",
    "\n",
    "# Title with buttons\n",
    "f = title(text='Energy consumption dashboard', color='#c3fda9',\n",
    "          menu=True, onmenuclick=onmenu,\n",
    "          buttons=['Home', 'About Us', 'Team', 'Services', 'Blog', 'Contact Us'],\n",
    "          logo='https://jeodpp.jrc.ec.europa.eu/services/shared/home/images/JRCBigDataPlatform2.png', logowidth=180, logomarginy=4, menumarginy=4,\n",
    "          height=80, onclick=onclick, output=output)"
   ]
  },
  {
   "cell_type": "code",
   "execution_count": null,
   "id": "8a7cb055",
   "metadata": {},
   "outputs": [],
   "source": []
  }
 ],
 "metadata": {
  "kernelspec": {
   "display_name": "Python 3 (ipykernel)",
   "language": "python",
   "name": "python3"
  },
  "language_info": {
   "codemirror_mode": {
    "name": "ipython",
    "version": 3
   },
   "file_extension": ".py",
   "mimetype": "text/x-python",
   "name": "python",
   "nbconvert_exporter": "python",
   "pygments_lexer": "ipython3",
   "version": "3.7.13"
  }
 },
 "nbformat": 4,
 "nbformat_minor": 5
}
