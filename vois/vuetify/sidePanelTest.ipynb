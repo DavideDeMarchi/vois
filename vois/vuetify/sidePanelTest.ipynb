{
 "cells": [
  {
   "cell_type": "code",
   "execution_count": null,
   "id": "7af6a39a",
   "metadata": {},
   "outputs": [],
   "source": [
    "# Example SIDE PANEL opened by a FAB button that stays below the panel\n",
    "from ipywidgets import widgets, Layout, HTML\n",
    "from IPython.display import display\n",
    "import switch\n",
    "import fab\n",
    "\n",
    "# Set the dark theme for ipyvuetify!!!\n",
    "import ipyvuetify as v\n",
    "v.theme.dark = True\n",
    "\n",
    "\n",
    "outputfab   = widgets.Output(layout=Layout(width='0px', height='0px'))\n",
    "outputpanel = widgets.Output(layout=Layout(width='0px', height='0px'))\n",
    "display(widgets.HBox([outputfab,outputpanel]))\n",
    "\n",
    "%run sidePanel.py\n",
    "\n",
    "def open_panel():\n",
    "    panel.show()\n",
    "    \n",
    "def closed_panel():\n",
    "    outputpanel.clear_output()\n",
    "    with outputpanel:\n",
    "        display(panel.nav)\n",
    "    \n",
    "with outputfab:\n",
    "    b = fab.fab(left='10px', top='14px', items=[''], onclick=[open_panel], icon=['mdi-menu'], tooltipitems=['Click to open the settings panel'], \n",
    "                iconsmall=False, menumode=False, width=100, selected=True, dark=True, zindex=100)\n",
    "    b.show(True)\n",
    "\n",
    "def on_s_change(value):\n",
    "    print(value)\n",
    "        \n",
    "s = switch.switch(True, 'PNG format', onchange=on_s_change)\n",
    "    \n",
    "panel = sidePanel(title='Settings for download', text='Please select the format for download:', width=400, right=False, \n",
    "                  content=[s.draw()], output=outputpanel, dark=True, zindex=101, onclose=closed_panel)"
   ]
  },
  {
   "cell_type": "code",
   "execution_count": null,
   "id": "d582f648",
   "metadata": {},
   "outputs": [],
   "source": [
    "panel.close()"
   ]
  },
  {
   "cell_type": "code",
   "execution_count": null,
   "id": "eb6865c8",
   "metadata": {},
   "outputs": [],
   "source": [
    "b.show(False)"
   ]
  },
  {
   "cell_type": "code",
   "execution_count": null,
   "id": "953157f5",
   "metadata": {},
   "outputs": [],
   "source": [
    "# Example SIDE PANEL opened by a FAB button that stays on top of the panel and open/closes the panel\n",
    "from ipywidgets import widgets, Layout, HTML\n",
    "from IPython.display import display\n",
    "import switch\n",
    "import fab\n",
    "\n",
    "output = widgets.Output(layout=Layout(width='0px', height='0px'))\n",
    "display(output)\n",
    "\n",
    "%run sidePanel.py\n",
    "\n",
    "def openclose_panel():\n",
    "    if panel.isopen():\n",
    "        b.settooltip('Click to open the settings panel')        \n",
    "        b.seticon('mdi-menu')\n",
    "        panel.close()\n",
    "    else:\n",
    "        b.settooltip('Click to close the settings panel')\n",
    "        b.seticon('mdi-arrow-left')\n",
    "        panel.show()\n",
    "    \n",
    "with output:\n",
    "    b = fab.fab(left='10px', top='14px', items=[''], onclick=[openclose_panel], icon=['mdi-menu'], tooltipitems=['Click to open the settings panel'], \n",
    "                iconsmall=False, menumode=False, width=100, selected=True, dark=True, zindex=100)\n",
    "    b.show(True)\n",
    "\n",
    "def on_s_change(value):\n",
    "    print(value)\n",
    "        \n",
    "s = switch.switch(True, 'PNG format', onchange=on_s_change)\n",
    "    \n",
    "panel = sidePanel(title='Settings for download', text='Please select the format for download:', width=400, right=False, \n",
    "                  content=[s.draw()], output=output, showclosebuttons=False, zindex=99)"
   ]
  },
  {
   "cell_type": "code",
   "execution_count": null,
   "id": "6dd9dfa0",
   "metadata": {},
   "outputs": [],
   "source": [
    "b.show(False)"
   ]
  },
  {
   "cell_type": "code",
   "execution_count": null,
   "id": "e5b333a3",
   "metadata": {},
   "outputs": [],
   "source": [
    "# Example RIGHT SIDE PANEL opened by a FAB button that stays on top of the panel and open/closes the panel\n",
    "from ipywidgets import widgets, Layout, HTML\n",
    "from IPython.display import display\n",
    "import switch\n",
    "import fab\n",
    "\n",
    "output = widgets.Output(layout=Layout(width='0px', height='0px'))\n",
    "display(output)\n",
    "\n",
    "%run sidePanel.py\n",
    "\n",
    "def openclose_panel():\n",
    "    if panel.isopen():\n",
    "        b.settooltip('Click to open the settings panel')        \n",
    "        b.seticon('mdi-menu')\n",
    "        panel.close()\n",
    "    else:\n",
    "        b.settooltip('Click to close the settings panel')\n",
    "        b.seticon('mdi-arrow-right')\n",
    "        panel.show()\n",
    "    \n",
    "with output:\n",
    "    b = fab.fab(left='97%', top='14px', items=[''], onclick=[openclose_panel], icon=['mdi-menu'], tooltipitems=['Click to open the settings panel'], \n",
    "                iconsmall=False, menumode=False, width=100, selected=True, dark=True, zindex=100)\n",
    "    b.show(True)\n",
    "\n",
    "def on_s_change(value):\n",
    "    print(value)\n",
    "        \n",
    "s = switch.switch(True, 'PNG format', onchange=on_s_change)\n",
    "    \n",
    "panel = sidePanel(title='Settings for download', text='Please select the format for download:', width=800, right=True, content=[s.draw()], \n",
    "                  output=output, showclosebuttons=False, zindex=99)"
   ]
  },
  {
   "cell_type": "code",
   "execution_count": null,
   "id": "13816971",
   "metadata": {},
   "outputs": [],
   "source": [
    "b.show(False)"
   ]
  },
  {
   "cell_type": "code",
   "execution_count": null,
   "id": "1b67863b",
   "metadata": {},
   "outputs": [],
   "source": []
  }
 ],
 "metadata": {
  "kernelspec": {
   "display_name": "Python 3 (ipykernel)",
   "language": "python",
   "name": "python3"
  },
  "language_info": {
   "codemirror_mode": {
    "name": "ipython",
    "version": 3
   },
   "file_extension": ".py",
   "mimetype": "text/x-python",
   "name": "python",
   "nbconvert_exporter": "python",
   "pygments_lexer": "ipython3",
   "version": "3.7.12"
  }
 },
 "nbformat": 4,
 "nbformat_minor": 5
}
