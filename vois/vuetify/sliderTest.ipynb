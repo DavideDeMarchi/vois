{
 "cells": [
  {
   "cell_type": "code",
   "execution_count": null,
   "id": "ab641378",
   "metadata": {},
   "outputs": [],
   "source": [
    "%run slider.py\n",
    "\n",
    "from ipywidgets import HTML, widgets, Layout\n",
    "output = widgets.Output(layout=Layout(width='400px'))\n",
    "display(output)\n",
    "\n",
    "def onchange(value):\n",
    "    with output:\n",
    "        print(value)\n",
    "    \n",
    "s = slider(2015, 2010,2021, onchange=onchange, vertical=True, height=280, width=150)\n",
    "\n",
    "with output:\n",
    "    display(s.draw())"
   ]
  },
  {
   "cell_type": "code",
   "execution_count": null,
   "id": "16c98775",
   "metadata": {},
   "outputs": [],
   "source": [
    "s.value = 2011"
   ]
  },
  {
   "cell_type": "code",
   "execution_count": null,
   "id": "a99ba000",
   "metadata": {},
   "outputs": [],
   "source": []
  }
 ],
 "metadata": {
  "kernelspec": {
   "display_name": "Python 3 (ipykernel)",
   "language": "python",
   "name": "python3"
  },
  "language_info": {
   "codemirror_mode": {
    "name": "ipython",
    "version": 3
   },
   "file_extension": ".py",
   "mimetype": "text/x-python",
   "name": "python",
   "nbconvert_exporter": "python",
   "pygments_lexer": "ipython3",
   "version": "3.7.13"
  }
 },
 "nbformat": 4,
 "nbformat_minor": 5
}
