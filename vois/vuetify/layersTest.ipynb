{
 "cells": [
  {
   "cell_type": "markdown",
   "id": "3cf61517",
   "metadata": {},
   "source": [
    "TODO LIST:\n",
    "\n",
    "- Start developing the widget to control the layers:\n",
    "    - (OK) opacity\n",
    "    - (OK) show/hide\n",
    "    - (OK) move up/down\n",
    "    - (OK) remove\n",
    "    - (OK) add new layer\n",
    "    - legend that can be opened\n",
    "    - name\n",
    "    - expandable description"
   ]
  },
  {
   "cell_type": "code",
   "execution_count": 4,
   "id": "2532992d",
   "metadata": {},
   "outputs": [
    {
     "data": {
      "application/vnd.jupyter.widget-view+json": {
       "model_id": "1561a14f4e0643f688aaadeb20b3983a",
       "version_major": 2,
       "version_minor": 0
      },
      "text/plain": [
       "HBox(children=(VBox(children=(Output(layout=Layout(height='0px', width='0px')), Html(children=[VBox(children=(…"
      ]
     },
     "metadata": {},
     "output_type": "display_data"
    }
   ],
   "source": [
    "# Management of layers in a ipyleaflet map\n",
    "import ipyleaflet\n",
    "from jeodpp import inter, imap\n",
    "from ipywidgets import widgets, Layout\n",
    "\n",
    "%run layers.py\n",
    "\n",
    "layer1 = interaproLayer('Merit DEM',    path=inter.collections.BaseData.Elevation.MERIT.Hillshade) #, opacity=0.4)\n",
    "layer2 = interaproLayer('Corine 2018',  path=inter.collections.BaseData.Landcover.CLC2018)\n",
    "layer3 = interaproLayer('Gisco Labels', path=inter.collections.Basemaps.Gisco.OSMCartoLabels)\n",
    "\n",
    "height = 500\n",
    "m = imap.Map(layout=Layout(height='%dpx'%height))\n",
    "\n",
    "m.add_layer(layer1.tileLayer())\n",
    "m.add_layer(layer2.tileLayer())\n",
    "m.add_layer(layer3.tileLayer())\n",
    "\n",
    "ly = layers(m, width=400, dark=False)\n",
    "\n",
    "#m.layersControl()\n",
    "widgets.HBox([ly.draw(),m])"
   ]
  },
  {
   "cell_type": "code",
   "execution_count": 5,
   "id": "1cd09560",
   "metadata": {},
   "outputs": [
    {
     "data": {
      "application/vnd.jupyter.widget-view+json": {
       "model_id": "5d77dfc87c76411ba751011a6a69075b",
       "version_major": 2,
       "version_minor": 0
      },
      "text/plain": [
       "HBox(children=(Tabs(background_color='white', children=[TabsSlider(color='#f8bd1a'), Tab(children=['Basemap'],…"
      ]
     },
     "metadata": {},
     "output_type": "display_data"
    }
   ],
   "source": [
    "# Management of Basemap and layers in a ipyleaflet map\n",
    "import ipyleaflet\n",
    "from jeodpp import inter, imap\n",
    "from ipywidgets import widgets, Layout\n",
    "\n",
    "import basemaps, tabs\n",
    "\n",
    "%run layers.py\n",
    "\n",
    "width  = 360\n",
    "height = 510\n",
    "dark   = False\n",
    "\n",
    "outbasemaps = widgets.Output(layout=Layout(width='%dpx'%width, height='%dpx'%height))\n",
    "outlayers   = widgets.Output(layout=Layout(width='%dpx'%width, height='%dpx'%height))\n",
    "\n",
    "layer1 = interaproLayer('Merit DEM',    path=inter.collections.BaseData.Elevation.MERIT.Hillshade) #, opacity=0.4)\n",
    "layer2 = interaproLayer('Corine 2018',  path=inter.collections.BaseData.Landcover.CLC2018)\n",
    "layer3 = interaproLayer('Gisco Labels', path=inter.collections.Basemaps.Gisco.OSMCartoLabels)\n",
    "\n",
    "m = imap.Map(layout=Layout(height='%dpx'%height))\n",
    "#m.layersControl()\n",
    "\n",
    "m.add_layer(layer1.tileLayer())\n",
    "m.add_layer(layer2.tileLayer())\n",
    "m.add_layer(layer3.tileLayer())\n",
    "\n",
    "#wms = WMSLayer(\n",
    "#    name='Nexrad WMS',\n",
    "#    url='http://mesonet.agron.iastate.edu/cgi-bin/wms/nexrad/n0r.cgi',\n",
    "#    layers='nexrad-n0r-900913',\n",
    "#    format='image/png',\n",
    "#    transparent=True,\n",
    "#    attribution='Weather data © 2012 IEM Nexrad')\n",
    "#m.add_layer(wms)\n",
    "\n",
    "\n",
    "#image = ImageOverlay(\n",
    "#    name='ImageOverlay',\n",
    "#    url=\"https://i.imgur.com/06Q1fSz.png\",\n",
    "#    bounds=((13, -130), (32, -100)))\n",
    "#m.add_layer(image);\n",
    "\n",
    "b = basemaps.basemaps(m, height=height-10, dark=dark)\n",
    "with outbasemaps:\n",
    "    display(b.draw())\n",
    "\n",
    "ly = layers(m, width=width-10, dark=dark)\n",
    "with outlayers:\n",
    "    display(ly.draw())\n",
    "    \n",
    "t = tabs.tabs(1, ['Basemap', 'Layers'], contents=[outbasemaps,outlayers], dark=dark, row=True)\n",
    "widgets.HBox([t.draw(),m])"
   ]
  },
  {
   "cell_type": "code",
   "execution_count": null,
   "id": "e05c5959",
   "metadata": {},
   "outputs": [],
   "source": []
  },
  {
   "cell_type": "code",
   "execution_count": null,
   "id": "457f8f8d",
   "metadata": {},
   "outputs": [],
   "source": [
    "ly.layers"
   ]
  },
  {
   "cell_type": "code",
   "execution_count": null,
   "id": "4515309b",
   "metadata": {},
   "outputs": [],
   "source": [
    "ly.map.layers"
   ]
  },
  {
   "cell_type": "code",
   "execution_count": null,
   "id": "9a550af1",
   "metadata": {},
   "outputs": [],
   "source": [
    "ly.s.items"
   ]
  },
  {
   "cell_type": "code",
   "execution_count": null,
   "id": "911f72bd",
   "metadata": {},
   "outputs": [],
   "source": []
  }
 ],
 "metadata": {
  "kernelspec": {
   "display_name": "Python 3 (ipykernel)",
   "language": "python",
   "name": "python3"
  },
  "language_info": {
   "codemirror_mode": {
    "name": "ipython",
    "version": 3
   },
   "file_extension": ".py",
   "mimetype": "text/x-python",
   "name": "python",
   "nbconvert_exporter": "python",
   "pygments_lexer": "ipython3",
   "version": "3.7.13"
  }
 },
 "nbformat": 4,
 "nbformat_minor": 5
}
