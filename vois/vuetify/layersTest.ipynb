{
 "cells": [
  {
   "cell_type": "markdown",
   "id": "8bc065d3",
   "metadata": {},
   "source": [
    "TODO LIST:\n",
    "\n",
    "- Start developing the widget to control the layers:\n",
    "    - (OK) opacity\n",
    "    - (OK) show/hide\n",
    "    - (OK) move up/down\n",
    "    - (OK) remove\n",
    "    - (OK) add new layer\n",
    "    - legend that can be opened\n",
    "    - name\n",
    "    - expandable description"
   ]
  },
  {
   "cell_type": "code",
   "execution_count": null,
   "id": "d3f607bc",
   "metadata": {},
   "outputs": [],
   "source": [
    "# Management of layers in a ipyleaflet map\n",
    "import ipyleaflet\n",
    "from jeodpp import inter, imap\n",
    "from ipywidgets import widgets, Layout\n",
    "\n",
    "%run layers.py\n",
    "\n",
    "layer1 = interaproLayer('Merit DEM',    path=inter.collections.BaseData.Elevation.MERIT.Hillshade) #, opacity=0.4)\n",
    "layer2 = interaproLayer('Corine 2018',  path=inter.collections.BaseData.Landcover.CLC2018)\n",
    "layer3 = interaproLayer('Gisco Labels', path=inter.collections.Basemaps.Gisco.OSMCartoLabels)\n",
    "\n",
    "height = 500\n",
    "m = imap.Map(layout=Layout(height='%dpx'%height))\n",
    "\n",
    "m.add_layer(layer1.tileLayer())\n",
    "m.add_layer(layer2.tileLayer())\n",
    "m.add_layer(layer3.tileLayer())\n",
    "\n",
    "ly = layers(m, width=400, dark=False)\n",
    "\n",
    "#m.layersControl()\n",
    "widgets.HBox([ly.draw(),m])"
   ]
  },
  {
   "cell_type": "code",
   "execution_count": null,
   "id": "851b0349",
   "metadata": {},
   "outputs": [],
   "source": [
    "# Management of Basemap and layers in a ipyleaflet map\n",
    "import ipyleaflet\n",
    "from jeodpp import inter, imap\n",
    "from ipywidgets import widgets, Layout\n",
    "\n",
    "import basemaps, tabs\n",
    "\n",
    "%run layers.py\n",
    "\n",
    "width  = 360\n",
    "height = 510\n",
    "dark   = False\n",
    "\n",
    "outbasemaps = widgets.Output(layout=Layout(width='%dpx'%width, height='%dpx'%height))\n",
    "outlayers   = widgets.Output(layout=Layout(width='%dpx'%width, height='%dpx'%height))\n",
    "\n",
    "layer1 = interaproLayer('Merit DEM',    path=inter.collections.BaseData.Elevation.MERIT.Hillshade) #, opacity=0.4)\n",
    "layer2 = interaproLayer('Corine 2018',  path=inter.collections.BaseData.Landcover.CLC2018)\n",
    "layer3 = interaproLayer('Gisco Labels', path=inter.collections.Basemaps.Gisco.OSMCartoLabels)\n",
    "\n",
    "m = imap.Map(layout=Layout(height='%dpx'%height))\n",
    "#m.layersControl()\n",
    "\n",
    "m.add_layer(layer1.tileLayer())\n",
    "m.add_layer(layer2.tileLayer())\n",
    "m.add_layer(layer3.tileLayer())\n",
    "\n",
    "#wms = WMSLayer(\n",
    "#    name='Nexrad WMS',\n",
    "#    url='http://mesonet.agron.iastate.edu/cgi-bin/wms/nexrad/n0r.cgi',\n",
    "#    layers='nexrad-n0r-900913',\n",
    "#    format='image/png',\n",
    "#    transparent=True,\n",
    "#    attribution='Weather data © 2012 IEM Nexrad')\n",
    "#m.add_layer(wms)\n",
    "\n",
    "\n",
    "#image = ImageOverlay(\n",
    "#    name='ImageOverlay',\n",
    "#    url=\"https://i.imgur.com/06Q1fSz.png\",\n",
    "#    bounds=((13, -130), (32, -100)))\n",
    "#m.add_layer(image);\n",
    "\n",
    "b = basemaps.basemaps(m, height=height-10, dark=dark)\n",
    "with outbasemaps:\n",
    "    display(b.draw())\n",
    "\n",
    "ly = layers(m, width=width-10, dark=dark)\n",
    "with outlayers:\n",
    "    display(ly.draw())\n",
    "    \n",
    "t = tabs.tabs(1, ['Basemap', 'Layers'], contents=[outbasemaps,outlayers], dark=dark, row=True)\n",
    "widgets.HBox([t.draw(),m])"
   ]
  },
  {
   "cell_type": "code",
   "execution_count": null,
   "id": "259a08a4",
   "metadata": {},
   "outputs": [],
   "source": []
  },
  {
   "cell_type": "code",
   "execution_count": null,
   "id": "da947b9f",
   "metadata": {},
   "outputs": [],
   "source": []
  },
  {
   "cell_type": "code",
   "execution_count": null,
   "id": "e4bded9d",
   "metadata": {},
   "outputs": [],
   "source": []
  },
  {
   "cell_type": "code",
   "execution_count": null,
   "id": "158d6efb",
   "metadata": {},
   "outputs": [],
   "source": []
  },
  {
   "cell_type": "code",
   "execution_count": null,
   "id": "602c4aed",
   "metadata": {},
   "outputs": [],
   "source": []
  },
  {
   "cell_type": "code",
   "execution_count": null,
   "id": "cc62ab49",
   "metadata": {},
   "outputs": [],
   "source": []
  },
  {
   "cell_type": "code",
   "execution_count": null,
   "id": "3c11bacf",
   "metadata": {},
   "outputs": [],
   "source": []
  },
  {
   "cell_type": "code",
   "execution_count": null,
   "id": "abe72239",
   "metadata": {},
   "outputs": [],
   "source": []
  },
  {
   "cell_type": "code",
   "execution_count": null,
   "id": "18a79ad6",
   "metadata": {},
   "outputs": [],
   "source": []
  },
  {
   "cell_type": "code",
   "execution_count": null,
   "id": "19b9d16a",
   "metadata": {},
   "outputs": [],
   "source": []
  },
  {
   "cell_type": "code",
   "execution_count": null,
   "id": "f01c29d4",
   "metadata": {},
   "outputs": [],
   "source": []
  },
  {
   "cell_type": "code",
   "execution_count": null,
   "id": "aaa35131",
   "metadata": {},
   "outputs": [],
   "source": []
  },
  {
   "cell_type": "code",
   "execution_count": null,
   "id": "f0a4805b",
   "metadata": {},
   "outputs": [],
   "source": []
  },
  {
   "cell_type": "code",
   "execution_count": null,
   "id": "949d42a3",
   "metadata": {},
   "outputs": [],
   "source": []
  },
  {
   "cell_type": "code",
   "execution_count": null,
   "id": "fbc6793a",
   "metadata": {},
   "outputs": [],
   "source": []
  },
  {
   "cell_type": "code",
   "execution_count": null,
   "id": "c222c901",
   "metadata": {},
   "outputs": [],
   "source": []
  },
  {
   "cell_type": "code",
   "execution_count": null,
   "id": "c38e79f4",
   "metadata": {},
   "outputs": [],
   "source": []
  },
  {
   "cell_type": "code",
   "execution_count": null,
   "id": "382328b0",
   "metadata": {},
   "outputs": [],
   "source": []
  },
  {
   "cell_type": "code",
   "execution_count": null,
   "id": "0e79af80",
   "metadata": {},
   "outputs": [],
   "source": []
  },
  {
   "cell_type": "code",
   "execution_count": null,
   "id": "8003038c",
   "metadata": {},
   "outputs": [],
   "source": []
  },
  {
   "cell_type": "code",
   "execution_count": null,
   "id": "1c2360e5",
   "metadata": {},
   "outputs": [],
   "source": []
  },
  {
   "cell_type": "code",
   "execution_count": null,
   "id": "72d3cbf7",
   "metadata": {},
   "outputs": [],
   "source": []
  },
  {
   "cell_type": "code",
   "execution_count": null,
   "id": "4f083bbb",
   "metadata": {},
   "outputs": [],
   "source": []
  },
  {
   "cell_type": "code",
   "execution_count": null,
   "id": "03be722d",
   "metadata": {},
   "outputs": [],
   "source": []
  },
  {
   "cell_type": "code",
   "execution_count": null,
   "id": "565f44ec",
   "metadata": {},
   "outputs": [],
   "source": [
    "ly.layers"
   ]
  },
  {
   "cell_type": "code",
   "execution_count": null,
   "id": "6ba6a871",
   "metadata": {},
   "outputs": [],
   "source": [
    "ly.map.layers"
   ]
  },
  {
   "cell_type": "code",
   "execution_count": null,
   "id": "9b0b4c76",
   "metadata": {},
   "outputs": [],
   "source": [
    "ly.s.items"
   ]
  },
  {
   "cell_type": "code",
   "execution_count": null,
   "id": "6fcded48",
   "metadata": {},
   "outputs": [],
   "source": []
  },
  {
   "cell_type": "code",
   "execution_count": null,
   "id": "ca0df79c",
   "metadata": {},
   "outputs": [],
   "source": [
    "!wget http://s-jrciprjeop150p.cidsn.jrc.it:58101/bdap/data/bdap-test-collections-stac-001"
   ]
  }
 ],
 "metadata": {
  "kernelspec": {
   "display_name": "Python 3 (ipykernel)",
   "language": "python",
   "name": "python3"
  },
  "language_info": {
   "codemirror_mode": {
    "name": "ipython",
    "version": 3
   },
   "file_extension": ".py",
   "mimetype": "text/x-python",
   "name": "python",
   "nbconvert_exporter": "python",
   "pygments_lexer": "ipython3",
   "version": "3.7.13"
  }
 },
 "nbformat": 4,
 "nbformat_minor": 5
}
