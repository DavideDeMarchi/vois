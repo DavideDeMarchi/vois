{
 "cells": [
  {
   "cell_type": "code",
   "execution_count": 20,
   "id": "3582f977",
   "metadata": {},
   "outputs": [
    {
     "data": {
      "application/vnd.jupyter.widget-view+json": {
       "model_id": "d094858a32e14d61958a2338fca33838",
       "version_major": 2,
       "version_minor": 0
      },
      "text/plain": [
       "Output(layout=Layout(height='78px', min_width='99.7%', width='99.7%'))"
      ]
     },
     "metadata": {},
     "output_type": "display_data"
    },
    {
     "data": {
      "application/vnd.jupyter.widget-view+json": {
       "model_id": "88b1c33b03b5405290f0fab0d41dc976",
       "version_major": 2,
       "version_minor": 0
      },
      "text/plain": [
       "Html(children=[Footer(children=[Row(children=[Col(align_self='center', children=[Item(children=[Tooltip(bottom…"
      ]
     },
     "metadata": {},
     "output_type": "display_data"
    }
   ],
   "source": [
    "from ipywidgets import widgets, Layout, HTML\n",
    "from IPython.display import display\n",
    "\n",
    "output = widgets.Output(layout=Layout(width='99.7%', min_width='99.7%', height='78px'))\n",
    "display(output)\n",
    "\n",
    "%run footer.py\n",
    "\n",
    "def onclick(arg):\n",
    "    print(arg)\n",
    "    \n",
    "def onclickminipanel(index):\n",
    "    print(index)\n",
    "\n",
    "def onclickcredits():\n",
    "    print('CREDITS')\n",
    "    \n",
    "# Footer with custom buttons\n",
    "f = footer(text='2022 - Joint Research Centre', color='lightgrey',\n",
    "           minipanelicons=['fa-truck', 'mdi-heart', 'mdi-magnify'], minipaneltooltips=['Function 1', 'Function 2', 'Function 3'], \n",
    "           minipanellarge=True, minipanelopen=True, onclickminipanel=onclickminipanel,\n",
    "           #footercredits='Data credits', footercreditstooltip='Eurostat - European Commission', onclickcredits=onclickcredits,\n",
    "           buttons=['Home', 'About Us', 'Team', 'Services', 'Blog', 'Contact Us'],\n",
    "           height=68, marginy=2, onclick=onclick, output=output)\n",
    "\n",
    "# Footer with only a \"copyright\" message\n",
    "f = footer(text='2022 - Joint Research Centre', color='lightgrey',\n",
    "           minipanelicons=['fa-truck', 'mdi-heart', 'mdi-magnify'], minipaneltooltips=['Function 1', 'Function 2', 'Function 3'],\n",
    "           minipanellarge=False, minipanelopen=False, minipanelbuttoncolor='red', onclickminipanel=onclickminipanel,\n",
    "           footercredits='Data credits', footercreditstooltip='Eurostat - European Commission', onclickcredits=onclickcredits,\n",
    "           copyright=True,\n",
    "           height='3.8vh', onclick=onclick) #, output=output)\n",
    "\n",
    "# Direct draw of the footer widget\n",
    "f.draw()"
   ]
  },
  {
   "cell_type": "code",
   "execution_count": null,
   "id": "6da3b6ee",
   "metadata": {},
   "outputs": [],
   "source": []
  }
 ],
 "metadata": {
  "kernelspec": {
   "display_name": "Python 3 (ipykernel)",
   "language": "python",
   "name": "python3"
  },
  "language_info": {
   "codemirror_mode": {
    "name": "ipython",
    "version": 3
   },
   "file_extension": ".py",
   "mimetype": "text/x-python",
   "name": "python",
   "nbconvert_exporter": "python",
   "pygments_lexer": "ipython3",
   "version": "3.7.13"
  }
 },
 "nbformat": 4,
 "nbformat_minor": 5
}
