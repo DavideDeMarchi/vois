{
 "cells": [
  {
   "cell_type": "code",
   "execution_count": null,
   "id": "0fd3b4d2",
   "metadata": {},
   "outputs": [],
   "source": [
    "import ipyvuetify as v\n",
    "\n",
    "%run selectImage.py\n",
    "\n",
    "from ipywidgets import widgets\n",
    "from IPython.display import display\n",
    "\n",
    "output = widgets.Output()\n",
    "\n",
    "def onchange():\n",
    "    with output:\n",
    "        print(s.value)\n",
    "\n",
    "        \n",
    "images = [\n",
    "      { \"name\": 'Image 0', \"image\": 'https://cdn.vuetifyjs.com/images/cards/plane.jpg',  \"max_width\": 200,  \"max_height\": 44 },\n",
    "      { \"name\": 'Image 1', \"image\": 'https://cdn.vuetifyjs.com/images/cards/house.jpg'},\n",
    "      { \"name\": 'Image 2', \"image\": 'https://cdn.vuetifyjs.com/images/cards/road.jpg'},\n",
    "      { \"name\": 'Image 3', \"image\": 'https://cdn.vuetifyjs.com/images/cards/sunshine.jpg'}\n",
    "]\n",
    "\n",
    "s = selectImage(images=images, selection=1, onchange=onchange, \n",
    "                label='Please select an image from the list', \n",
    "                max_height=44, dense=True, width=\"650px\",\n",
    "                outlined=True, clearable=True, margins=\"ma-0 mt-2 mr-1\")\n",
    "\n",
    "display(s)\n",
    "display(output)"
   ]
  },
  {
   "cell_type": "code",
   "execution_count": null,
   "id": "b0c9d71b",
   "metadata": {},
   "outputs": [],
   "source": [
    "s.value = 3"
   ]
  },
  {
   "cell_type": "code",
   "execution_count": null,
   "id": "fa011a38",
   "metadata": {},
   "outputs": [],
   "source": [
    "images = [\n",
    "      { \"name\": 'Image 0',  \"image\": 'https://picsum.photos/id/237/400/300' },\n",
    "      { \"name\": 'Image 1',  \"image\": 'https://picsum.photos/id/238/400/300' },\n",
    "      { \"name\": 'Image 2',  \"image\": 'https://picsum.photos/id/239/400/300' },\n",
    "      { \"name\": 'Image 3',  \"image\": 'https://picsum.photos/id/240/400/300' },\n",
    "      { \"name\": 'Image 4',  \"image\": 'https://picsum.photos/id/241/400/300' },\n",
    "      { \"name\": 'Image 5',  \"image\": 'https://picsum.photos/id/242/400/300' },\n",
    "      { \"name\": 'Image 6',  \"image\": 'https://picsum.photos/id/243/400/300' },\n",
    "      { \"name\": 'Image 7',  \"image\": 'https://picsum.photos/id/244/400/300' },\n",
    "      { \"name\": 'Image 8',  \"image\": 'https://picsum.photos/id/247/400/300' },\n",
    "      { \"name\": 'Image 9',  \"image\": 'https://picsum.photos/id/248/400/300' },\n",
    "      { \"name\": 'Image 10', \"image\": 'https://picsum.photos/id/249/400/300' },\n",
    "      { \"name\": 'Image 11', \"image\": 'https://picsum.photos/id/250/400/300' }\n",
    "]\n",
    "\n",
    "s.max_width  = 400\n",
    "s.max_height = 300\n",
    "s.setImages(images)"
   ]
  },
  {
   "cell_type": "code",
   "execution_count": null,
   "id": "a6682cb5",
   "metadata": {},
   "outputs": [],
   "source": []
  }
 ],
 "metadata": {
  "kernelspec": {
   "display_name": "Python 3 (ipykernel)",
   "language": "python",
   "name": "python3"
  },
  "language_info": {
   "codemirror_mode": {
    "name": "ipython",
    "version": 3
   },
   "file_extension": ".py",
   "mimetype": "text/x-python",
   "name": "python",
   "nbconvert_exporter": "python",
   "pygments_lexer": "ipython3",
   "version": "3.7.13"
  }
 },
 "nbformat": 4,
 "nbformat_minor": 5
}
