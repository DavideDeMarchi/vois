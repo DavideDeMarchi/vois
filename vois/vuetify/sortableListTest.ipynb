{
 "cells": [
  {
   "cell_type": "code",
   "execution_count": 63,
   "id": "ac9cc71f",
   "metadata": {},
   "outputs": [
    {
     "data": {
      "application/vnd.jupyter.widget-view+json": {
       "model_id": "12073266180244df8aaf6708cec07927",
       "version_major": 2,
       "version_minor": 0
      },
      "text/plain": [
       "Html(children=[VBox(children=(Output(layout=Layout(max_height='600px')), Output()))], tag='div')"
      ]
     },
     "metadata": {},
     "output_type": "display_data"
    }
   ],
   "source": [
    "# Simple example\n",
    "%run sortableList.py\n",
    "\n",
    "from ipywidgets import widgets\n",
    "from IPython.display import display\n",
    "import ipyvuetify as v\n",
    "\n",
    "\n",
    "items = [{ \"name\": 'Jane Adams',   \"email\": 'jane@adams.com'   },\n",
    "         { \"name\": 'Paul Davis',   \"email\": 'paul@davis.com'   },\n",
    "         { \"name\": 'Amanda Brown', \"email\": 'amanda@brown.com' }\n",
    "        ]\n",
    "\n",
    "# Creation of a new item\n",
    "def itemNew():\n",
    "    return {\"name\": \"new\", \"email\": \"empty\"}\n",
    "\n",
    "\n",
    "# Content of an item\n",
    "def itemContent(item):\n",
    "    return [\n",
    "        v.CardSubtitle(class_=\"mb-n4\", children=[item['name']]),\n",
    "        v.CardText(    class_=\"mt-n2\", children=[item['email']])\n",
    "    ]\n",
    "\n",
    "s = sortableList(items=items, width=400, dark=False, allowNew=True, itemNew=itemNew, newOnTop=True, itemContent=itemContent)\n",
    "s.draw()"
   ]
  },
  {
   "cell_type": "code",
   "execution_count": 65,
   "id": "8aa55f84",
   "metadata": {},
   "outputs": [
    {
     "data": {
      "text/plain": [
       "[{'name': 'new', 'email': 'empty'},\n",
       " {'name': 'Jane Adams', 'email': 'jane@adams.com'},\n",
       " {'name': 'Paul Davis', 'email': 'paul@davis.com'},\n",
       " {'name': 'Amanda Brown', 'email': 'amanda@brown.com'}]"
      ]
     },
     "execution_count": 65,
     "metadata": {},
     "output_type": "execute_result"
    }
   ],
   "source": [
    "s.items"
   ]
  },
  {
   "cell_type": "code",
   "execution_count": 2,
   "id": "ccf7589e",
   "metadata": {},
   "outputs": [
    {
     "data": {
      "application/vnd.jupyter.widget-view+json": {
       "model_id": "987a584ada4940bba6438912f4d40b89",
       "version_major": 2,
       "version_minor": 0
      },
      "text/plain": [
       "Html(children=[VBox(children=(Output(layout=Layout(max_height='600px')), Output()))], tag='div')"
      ]
     },
     "metadata": {},
     "output_type": "display_data"
    },
    {
     "data": {
      "application/vnd.jupyter.widget-view+json": {
       "model_id": "767ac97e14e746529ebc38283ada41f2",
       "version_major": 2,
       "version_minor": 0
      },
      "text/plain": [
       "Output()"
      ]
     },
     "metadata": {},
     "output_type": "display_data"
    }
   ],
   "source": [
    "%run switch.py\n",
    "%run datePicker.py\n",
    "%run sortableList.py\n",
    "%run tooltip.py\n",
    "\n",
    "from ipywidgets import widgets\n",
    "from IPython.display import display\n",
    "import ipyvuetify as v\n",
    "\n",
    "output = widgets.Output()\n",
    "\n",
    "items = [{ \"name\": \"Paul\",    \"surname\": \"Dockery\",  \"married\": False, \"date\": \"\" },\n",
    "         { \"name\": \"July\",    \"surname\": \"Winters\",  \"married\": True,  \"date\": \"1997-07-28\" },\n",
    "         { \"name\": \"David\",   \"surname\": \"Forest\",   \"married\": True,  \"date\": \"1999-03-03\" },\n",
    "         { \"name\": \"Dorothy\", \"surname\": \"Landmann\", \"married\": False, \"date\": \"\" }\n",
    "        ]\n",
    "\n",
    "dark = False\n",
    "\n",
    "# Called when an item is moved or deleted\n",
    "def onchange():\n",
    "    with output:\n",
    "        print('Changed!')\n",
    "\n",
    "    \n",
    "# Creation of a new item\n",
    "def itemNew():\n",
    "    return { \"name\": \"\", \"surname\": \"\", \"married\": False, \"date\": \"\" }\n",
    "\n",
    "\n",
    "# Remove all items\n",
    "def itemRemoveAll(widget, event, data):\n",
    "    s.items = []\n",
    "\n",
    "reset = v.Btn(icon=True, dark=dark, children=[v.Icon(children=['mdi-playlist-remove'])])\n",
    "reset.on_event('click', itemRemoveAll)\n",
    "\n",
    "\n",
    "# Content of an item\n",
    "def itemContent(item):\n",
    "    \n",
    "    def onname(widget, event, data):\n",
    "        item[\"name\"] = int(data)\n",
    "    \n",
    "    def onsurname(widget, event, data):\n",
    "        item[\"surname\"] = data\n",
    "    \n",
    "    def onmarried(flag):\n",
    "        item[\"married\"] = flag\n",
    "        dp.disabled = not flag\n",
    "        if not flag:\n",
    "            item[\"date\"] = ''\n",
    "            dp.date = None\n",
    "            \n",
    "    def ondate():\n",
    "        item[\"date\"] = dp.date\n",
    "\n",
    "    tfname = v.TextField(label='Name:', value=item['name'], color='amber', dense=True, style_=\"max-width: 70px\", class_=\"pa-0 ma-0 mt-2\")\n",
    "    tfname.on_event('input', onname)\n",
    "    \n",
    "    tfsurname = v.TextField(label='Surname:', value=item['surname'], color='amber', dense=True, style_=\"max-width: 100px\", class_=\"pa-0 ma-0 mt-2\")\n",
    "    tfsurname.on_event('input', onsurname)\n",
    "    \n",
    "    sw = switch(item['married'], \"Married\", onchange=onmarried)\n",
    "    \n",
    "    dp = datePicker(date=item['date'], dark=dark, width=88, onchange=ondate, offset_x=True, offset_y=False)\n",
    "    dp.disabled = not item['married']\n",
    "    \n",
    "    sp = v.Html(tag='div', class_=\"pa-0 ma-0 mr-3\", children=[''])\n",
    "    \n",
    "    return [ v.Row(class_=\"pa-0 ma-0 ml-2\", no_gutters=True, children=[tfname, sp, tfsurname, sp, sw.draw(), sp, dp.draw()]) ]\n",
    "\n",
    "\n",
    "s = sortableList(items=items, width=520, outlined=False, dark=dark,\n",
    "                 allowNew=True, itemNew=itemNew, itemContent=itemContent,\n",
    "                 bottomContent=[tooltip(\"Remove all persons\",reset)],\n",
    "                 onchange=onchange, buttonstooltip=True)\n",
    "display(s.draw())\n",
    "display(output)"
   ]
  },
  {
   "cell_type": "code",
   "execution_count": null,
   "id": "967d2d94",
   "metadata": {},
   "outputs": [],
   "source": [
    "s.items"
   ]
  },
  {
   "cell_type": "code",
   "execution_count": 111,
   "id": "e48ffd29",
   "metadata": {},
   "outputs": [
    {
     "data": {
      "application/vnd.jupyter.widget-view+json": {
       "model_id": "17e86253c9f8438a9809a7cc5712cf00",
       "version_major": 2,
       "version_minor": 0
      },
      "text/plain": [
       "Html(children=[VBox(children=(Output(layout=Layout(max_height='900px')), Output()))], tag='div')"
      ]
     },
     "metadata": {},
     "output_type": "display_data"
    }
   ],
   "source": [
    "# Simple example with one of the item always active\n",
    "%run sortableList.py\n",
    "%run tooltip.py\n",
    "\n",
    "from ipywidgets import widgets\n",
    "from IPython.display import display\n",
    "import ipyvuetify as v\n",
    "\n",
    "\n",
    "items = [{ \"name\": 'Jane Adams',   \"email\": 'jane@adams.com'   },\n",
    "         { \"name\": 'Paul Davis',   \"email\": 'paul@davis.com'   },\n",
    "         { \"name\": 'Amanda Brown', \"email\": 'amanda@brown.com' }\n",
    "        ]\n",
    "\n",
    "# Creation of a new item\n",
    "def itemNew():\n",
    "    return {\"name\": \"new\", \"email\": \"empty\"}\n",
    "\n",
    "\n",
    "# Content of an item\n",
    "def itemContent(item):\n",
    "    return [\n",
    "        v.CardSubtitle(class_=\"mb-n4\", children=[item['name']]),\n",
    "        v.CardText(    class_=\"mt-n2\", children=[item['email']])\n",
    "    ]\n",
    "\n",
    "# An item is activated\n",
    "def onactivated(index):\n",
    "    #print(\"Activated %d\"%index)\n",
    "    s.cards[index].children[1].style_ = \"font-weight: 800;\"  # N.B.: Each card has a CardTitle children followed by the widgets returned by the itemContent function!!!\n",
    "    s.cards[index].children[2].style_ = \"font-weight: 800;\"\n",
    "\n",
    "# An item is deactivated\n",
    "def ondeactivated(index):\n",
    "    #print(\"Deactivated %d\"%index)\n",
    "    s.cards[index].children[1].style_ = \"font-weight: 400;\"\n",
    "    s.cards[index].children[2].style_ = \"font-weight: 400;\"\n",
    "\n",
    "\n",
    "# Remove all items\n",
    "def itemRemoveAll(widget, event, data):\n",
    "    s.items = []\n",
    "\n",
    "reset = v.Btn(icon=True, dark=dark, children=[v.Icon(children=['mdi-playlist-remove'])])\n",
    "reset.on_event('click', itemRemoveAll)\n",
    "    \n",
    "# Removing an item\n",
    "removeditem_wasactive = False   # True if the removed item was the active one\n",
    "def onremoving(index):\n",
    "    global removeditem_wasactive\n",
    "    removeditem_wasactive = False\n",
    "    if index == s.active:\n",
    "        removeditem_wasactive = True\n",
    "        \n",
    "# Remove an item\n",
    "def onremoved(index):\n",
    "    if removeditem_wasactive:\n",
    "        s.active = 0   # keep an item active!\n",
    "\n",
    "# New item added\n",
    "def onadded(index):\n",
    "    if s.active < 0:\n",
    "        s.active = 0   # keep an item active!\n",
    "        \n",
    "s = sortableList(items=items, width=400, maxheightlist=900, dark=False, allowNew=True, itemNew=itemNew, newOnTop=True, itemContent=itemContent,\n",
    "                 bottomContent=[tooltip(\"Remove all layers\",reset)], buttonstooltip=True, onremoving=onremoving, onremoved=onremoved, onadded=onadded,\n",
    "                 tooltipadd='Add new layer', tooltipdown='Move layer down', tooltipup='Move layer up', tooltipremove='Remove layer',\n",
    "                 activatable=True, ondeactivated=ondeactivated, onactivated=onactivated)\n",
    "s.active = 0\n",
    "s.draw()"
   ]
  },
  {
   "cell_type": "code",
   "execution_count": 106,
   "id": "76b5300c",
   "metadata": {},
   "outputs": [
    {
     "data": {
      "text/plain": [
       "1"
      ]
     },
     "execution_count": 106,
     "metadata": {},
     "output_type": "execute_result"
    }
   ],
   "source": [
    "s.active"
   ]
  },
  {
   "cell_type": "code",
   "execution_count": 75,
   "id": "b5c46726",
   "metadata": {},
   "outputs": [],
   "source": [
    "s.active = 0"
   ]
  },
  {
   "cell_type": "code",
   "execution_count": null,
   "id": "0d41eb13",
   "metadata": {},
   "outputs": [],
   "source": []
  }
 ],
 "metadata": {
  "kernelspec": {
   "display_name": "Python 3 (ipykernel)",
   "language": "python",
   "name": "python3"
  },
  "language_info": {
   "codemirror_mode": {
    "name": "ipython",
    "version": 3
   },
   "file_extension": ".py",
   "mimetype": "text/x-python",
   "name": "python",
   "nbconvert_exporter": "python",
   "pygments_lexer": "ipython3",
   "version": "3.7.13"
  }
 },
 "nbformat": 4,
 "nbformat_minor": 5
}
