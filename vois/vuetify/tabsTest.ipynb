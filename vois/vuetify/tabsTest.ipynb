{
 "cells": [
  {
   "cell_type": "code",
   "execution_count": null,
   "id": "54860b50",
   "metadata": {},
   "outputs": [],
   "source": [
    "%run tabs.py\n",
    "\n",
    "from ipywidgets import widgets\n",
    "\n",
    "output0 = widgets.Output()\n",
    "output1 = widgets.Output()\n",
    "output2 = widgets.Output()\n",
    "\n",
    "with output0: print('This is output 0')\n",
    "with output1: print('This is output 1')\n",
    "with output2: print('This is output 2')\n",
    "\n",
    "def onchange(value):\n",
    "    print(value)\n",
    "\n",
    "t = tabs(0, ['Label1', 'Label2 is a very long label', 'Label3 is also very long'],\n",
    "         contents=[output0,output1,output2],\n",
    "         onchange=onchange, row=False, dark=False)\n",
    "\n",
    "display(t.draw())"
   ]
  },
  {
   "cell_type": "code",
   "execution_count": null,
   "id": "fe1805ff",
   "metadata": {},
   "outputs": [],
   "source": [
    "t.value = 0"
   ]
  },
  {
   "cell_type": "code",
   "execution_count": null,
   "id": "00f9fd6a",
   "metadata": {},
   "outputs": [],
   "source": [
    "t.disabled = True"
   ]
  },
  {
   "cell_type": "code",
   "execution_count": null,
   "id": "0ef3fa6a",
   "metadata": {},
   "outputs": [],
   "source": [
    "t.disabled"
   ]
  },
  {
   "cell_type": "code",
   "execution_count": null,
   "id": "41c4e3fb",
   "metadata": {},
   "outputs": [],
   "source": []
  }
 ],
 "metadata": {
  "kernelspec": {
   "display_name": "Python 3 (ipykernel)",
   "language": "python",
   "name": "python3"
  },
  "language_info": {
   "codemirror_mode": {
    "name": "ipython",
    "version": 3
   },
   "file_extension": ".py",
   "mimetype": "text/x-python",
   "name": "python",
   "nbconvert_exporter": "python",
   "pygments_lexer": "ipython3",
   "version": "3.7.13"
  }
 },
 "nbformat": 4,
 "nbformat_minor": 5
}
