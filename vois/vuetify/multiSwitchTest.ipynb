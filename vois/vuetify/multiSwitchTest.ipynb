{
 "cells": [
  {
   "cell_type": "code",
   "execution_count": null,
   "id": "2ca4b8e0",
   "metadata": {},
   "outputs": [],
   "source": [
    "%run multiSwitch.py\n",
    "\n",
    "from ipywidgets import widgets\n",
    "output = widgets.Output()\n",
    "\n",
    "def onchange(value):\n",
    "    with output:\n",
    "        print(value)\n",
    "\n",
    "t = multiSwitch([True, True, False], ['Option1', 'Option2', 'Option3'], tooltips=['Tooltip for label1'], \n",
    "                onchange=onchange, row=True, width=90, justify='start', color='blue', rounded=False, outlined=True,\n",
    "                colorselected='#FFA300', colorunselected='#aaaaaa')\n",
    "\n",
    "display(t.draw())\n",
    "display(output)"
   ]
  },
  {
   "cell_type": "code",
   "execution_count": null,
   "id": "891b7ed1",
   "metadata": {},
   "outputs": [],
   "source": [
    "t.value"
   ]
  },
  {
   "cell_type": "code",
   "execution_count": null,
   "id": "4e373119",
   "metadata": {},
   "outputs": [],
   "source": []
  }
 ],
 "metadata": {
  "kernelspec": {
   "display_name": "Python 3 (ipykernel)",
   "language": "python",
   "name": "python3"
  },
  "language_info": {
   "codemirror_mode": {
    "name": "ipython",
    "version": 3
   },
   "file_extension": ".py",
   "mimetype": "text/x-python",
   "name": "python",
   "nbconvert_exporter": "python",
   "pygments_lexer": "ipython3",
   "version": "3.7.13"
  }
 },
 "nbformat": 4,
 "nbformat_minor": 5
}
