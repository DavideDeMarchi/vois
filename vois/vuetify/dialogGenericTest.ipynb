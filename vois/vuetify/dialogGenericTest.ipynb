{
 "cells": [
  {
   "cell_type": "code",
   "execution_count": null,
   "id": "9e91ac51",
   "metadata": {},
   "outputs": [],
   "source": [
    "from ipywidgets import widgets, Layout, HTML\n",
    "from IPython.display import display\n",
    "\n",
    "output = widgets.Output(layout=Layout(width='0px', height='0px'))\n",
    "display(output)\n",
    "\n",
    "\n",
    "%run dialogGeneric.py\n",
    "import switch\n",
    "\n",
    "def on_s_change(value):\n",
    "    print(value)\n",
    "\n",
    "def on_ok():\n",
    "    print(\"Exit with ok\")\n",
    "\n",
    "def on_cancel():\n",
    "    print(\"Exit with cancel\")\n",
    "    \n",
    "s = switch.switch(True, 'PNG format', onchange=on_s_change)\n",
    "    \n",
    "dlg = dialogGeneric(title='Settings', text='Please select the format for download:', show=True,\n",
    "                    addclosebuttons=False, width=600, persistent=True, #dark=True, \n",
    "                    addokcancelbuttons=True, on_ok=on_ok, on_cancel=on_cancel,\n",
    "                    fullscreen=False, content=[s.draw()], output=output)"
   ]
  },
  {
   "cell_type": "code",
   "execution_count": null,
   "id": "042dbfdb",
   "metadata": {},
   "outputs": [],
   "source": [
    "dlg.close()"
   ]
  },
  {
   "cell_type": "code",
   "execution_count": null,
   "id": "8597e974",
   "metadata": {},
   "outputs": [],
   "source": [
    "dlg.show()"
   ]
  },
  {
   "cell_type": "code",
   "execution_count": null,
   "id": "2c59a506",
   "metadata": {},
   "outputs": [],
   "source": []
  }
 ],
 "metadata": {
  "kernelspec": {
   "display_name": "Python 3 (ipykernel)",
   "language": "python",
   "name": "python3"
  },
  "language_info": {
   "codemirror_mode": {
    "name": "ipython",
    "version": 3
   },
   "file_extension": ".py",
   "mimetype": "text/x-python",
   "name": "python",
   "nbconvert_exporter": "python",
   "pygments_lexer": "ipython3",
   "version": "3.7.13"
  }
 },
 "nbformat": 4,
 "nbformat_minor": 5
}
