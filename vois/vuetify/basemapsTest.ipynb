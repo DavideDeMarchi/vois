{
 "cells": [
  {
   "cell_type": "code",
   "execution_count": null,
   "id": "0cab6236",
   "metadata": {},
   "outputs": [],
   "source": [
    "# Treeview to select the basemap for a ipyleaflet map instance\n",
    "from jeodpp import inter, imap\n",
    "from ipywidgets import widgets, Layout\n",
    "\n",
    "%run basemaps.py\n",
    "\n",
    "height = 650\n",
    "\n",
    "m = imap.Map(layout=Layout(height='%dpx'%height))\n",
    "#m.layersControl()\n",
    "\n",
    "b = basemaps(m, height=height, dark=False)\n",
    "\n",
    "widgets.HBox([b.draw(),m])"
   ]
  },
  {
   "cell_type": "code",
   "execution_count": null,
   "id": "d9c36ddd",
   "metadata": {},
   "outputs": [],
   "source": [
    "type(b.current_layer)"
   ]
  },
  {
   "cell_type": "code",
   "execution_count": null,
   "id": "2d8335fc",
   "metadata": {},
   "outputs": [],
   "source": [
    "b.current_layer.name"
   ]
  },
  {
   "cell_type": "code",
   "execution_count": null,
   "id": "e7e12a9a",
   "metadata": {},
   "outputs": [],
   "source": []
  }
 ],
 "metadata": {
  "kernelspec": {
   "display_name": "Python 3 (ipykernel)",
   "language": "python",
   "name": "python3"
  },
  "language_info": {
   "codemirror_mode": {
    "name": "ipython",
    "version": 3
   },
   "file_extension": ".py",
   "mimetype": "text/x-python",
   "name": "python",
   "nbconvert_exporter": "python",
   "pygments_lexer": "ipython3",
   "version": "3.7.13"
  }
 },
 "nbformat": 4,
 "nbformat_minor": 5
}
