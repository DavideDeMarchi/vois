{
 "cells": [
  {
   "cell_type": "code",
   "execution_count": 1,
   "id": "70add9b5",
   "metadata": {},
   "outputs": [
    {
     "data": {
      "application/vnd.jupyter.widget-view+json": {
       "model_id": "3e5e0cdc08fa4343b056a007d675af08",
       "version_major": 2,
       "version_minor": 0
      },
      "text/plain": [
       "Menu(children=[List(children=[ListItem(children=['Label1'], style_='font-family: Roboto; font-weight:700;'), L…"
      ]
     },
     "metadata": {},
     "output_type": "display_data"
    },
    {
     "data": {
      "application/vnd.jupyter.widget-view+json": {
       "model_id": "f6795535ab5e4ba4974e16b84c5c8e3b",
       "version_major": 2,
       "version_minor": 0
      },
      "text/plain": [
       "Output(layout=Layout(width='400px'))"
      ]
     },
     "metadata": {},
     "output_type": "display_data"
    }
   ],
   "source": [
    "%run menu.py\n",
    "\n",
    "from ipywidgets import HTML, widgets, Layout\n",
    "output = widgets.Output(layout=Layout(width='400px'))\n",
    "\n",
    "def onchange(value):\n",
    "    with output:\n",
    "        print(value)\n",
    "\n",
    "m = menu(0, 'Hover to select', ['Label1', 'Label2 is a very long label', 'Label3 is also very long'], onchange=onchange, highliteselection=True)\n",
    "\n",
    "display(m.draw())\n",
    "display(output)"
   ]
  },
  {
   "cell_type": "code",
   "execution_count": null,
   "id": "c44218d0",
   "metadata": {},
   "outputs": [],
   "source": [
    "m.value = 2"
   ]
  },
  {
   "cell_type": "code",
   "execution_count": 23,
   "id": "a4af91ae",
   "metadata": {},
   "outputs": [
    {
     "data": {
      "application/vnd.jupyter.widget-view+json": {
       "model_id": "cab0696a1cb84c31b663b805de7488ce",
       "version_major": 2,
       "version_minor": 0
      },
      "text/plain": [
       "Item(children=[Tooltip(bottom=True, children=['aaa bbb ccc'], color='#999999', left=True, transition='scale-tr…"
      ]
     },
     "metadata": {},
     "output_type": "display_data"
    }
   ],
   "source": [
    "import settings, tooltip\n",
    "\n",
    "opacity = v.Slider(v_model=int(10*0.8),\n",
    "                   dense=True, xsmall=True,\n",
    "                   ticks=True, thumb_size=10,\n",
    "                   color=settings.color_first, track_color=\"grey\",\n",
    "                   class_=\"pa-0 ma-0 ml-5 mr-5 mt-3 mb-n1\",\n",
    "                   style_='max-width: 140px; width: 140px;',\n",
    "                   min=0, max=10, vertical=False, height=32)\n",
    "\n",
    "htmlopacity = v.Card(children=[v.Html(tag='div', children=[opacity], style_='overflow: hidden;')])\n",
    "\n",
    "m = v.Menu(offset_y=True, open_on_hover=False, dense=True,\n",
    "           v_slots=[{\n",
    "                    'name': 'activator',\n",
    "                    'variable': 'menuData',\n",
    "                    'children': v.Btn(v_on='menuData.on', icon=True, depressed=True, large=False, dense=True, class_='pa-0 ma-0',\n",
    "                                      #rounded=True, height=36, width=self.width,\n",
    "                                      style_='text-transform: none', \n",
    "                                      children=[v.Icon(children=['mdi-opacity'])]),\n",
    "                   }],\n",
    "           children=[htmlopacity] )\n",
    "\n",
    "tooltip.tooltip('aaa bbb ccc', m)"
   ]
  },
  {
   "cell_type": "code",
   "execution_count": null,
   "id": "39eb2a28",
   "metadata": {},
   "outputs": [],
   "source": []
  }
 ],
 "metadata": {
  "kernelspec": {
   "display_name": "Python 3 (ipykernel)",
   "language": "python",
   "name": "python3"
  },
  "language_info": {
   "codemirror_mode": {
    "name": "ipython",
    "version": 3
   },
   "file_extension": ".py",
   "mimetype": "text/x-python",
   "name": "python",
   "nbconvert_exporter": "python",
   "pygments_lexer": "ipython3",
   "version": "3.7.13"
  }
 },
 "nbformat": 4,
 "nbformat_minor": 5
}
