{
 "cells": [
  {
   "cell_type": "code",
   "execution_count": null,
   "id": "11a2b12c",
   "metadata": {},
   "outputs": [],
   "source": [
    "import ipyvuetify as v\n",
    "import pandas as pd"
   ]
  },
  {
   "cell_type": "code",
   "execution_count": null,
   "id": "1f87e5e4",
   "metadata": {},
   "outputs": [],
   "source": [
    "# DYNAMIC ADDING OF CHILDREN TO A TREEVIEW\n",
    "%run treeview.py\n",
    "\n",
    "def on_activated(arg):\n",
    "    if arg == 'A':\n",
    "        if len(top.getChildren(arg)) == 0:\n",
    "            top.setChildren('A', ['A.1', 'A.2'])\n",
    "            op = top.getOpened()\n",
    "            top.setActive(arg)\n",
    "            op.append(arg)\n",
    "            top.setOpened(op)\n",
    "            #print(top.getOpened())\n",
    "    elif arg == 'B':\n",
    "        if len(top.getChildren(arg)) == 0:\n",
    "            top.setChildren('B', ['B.1', 'B.2', 'B.3'])\n",
    "            top.setActive(arg)\n",
    "            op = top.getOpened()\n",
    "            op.append(arg)\n",
    "            top.setOpened(op)\n",
    "            #print(top.getOpened())\n",
    "        \n",
    "\n",
    "treecard = createTreeviewFromList(['A','B'], separator='.', rootName='Root', expand_selection_to_parents=False, \n",
    "                                  color='green', dark=False, width='500px', height='500px', on_activated=on_activated,\n",
    "                                  selectable=False, activatable=True, displayfullname=True)\n",
    "\n",
    "top = treeviewOperations(treecard)\n",
    "\n",
    "treecard"
   ]
  },
  {
   "cell_type": "code",
   "execution_count": null,
   "id": "914b9ccc",
   "metadata": {},
   "outputs": [],
   "source": [
    "top.setChildren('B', ['B.1', 'B.2', 'B.3'])"
   ]
  },
  {
   "cell_type": "code",
   "execution_count": null,
   "id": "a7373297",
   "metadata": {},
   "outputs": [],
   "source": [
    "top.setActive('A')"
   ]
  },
  {
   "cell_type": "code",
   "execution_count": null,
   "id": "7b831a99",
   "metadata": {},
   "outputs": [],
   "source": [
    "top.getOpened()"
   ]
  },
  {
   "cell_type": "code",
   "execution_count": null,
   "id": "6331de25",
   "metadata": {},
   "outputs": [],
   "source": [
    "top.treeview.opened"
   ]
  },
  {
   "cell_type": "code",
   "execution_count": null,
   "id": "332b9871",
   "metadata": {},
   "outputs": [],
   "source": [
    "top.getChildren('B')"
   ]
  },
  {
   "cell_type": "code",
   "execution_count": null,
   "id": "28259865",
   "metadata": {},
   "outputs": [],
   "source": [
    "top.setChildren('B', ['B.1', 'B.2', 'B.3'])"
   ]
  },
  {
   "cell_type": "code",
   "execution_count": null,
   "id": "30b0f98f",
   "metadata": {},
   "outputs": [],
   "source": [
    "top.setChildren('A', ['A.1', 'A.2'])"
   ]
  },
  {
   "cell_type": "code",
   "execution_count": null,
   "id": "71cd7eb2",
   "metadata": {},
   "outputs": [],
   "source": [
    "top.getChildren('A')"
   ]
  },
  {
   "cell_type": "code",
   "execution_count": null,
   "id": "c5493755",
   "metadata": {},
   "outputs": [],
   "source": [
    "top.setChildren('A', [])"
   ]
  },
  {
   "cell_type": "code",
   "execution_count": null,
   "id": "6599fa71",
   "metadata": {},
   "outputs": [],
   "source": [
    "top.treeview.items = [{'id': 1,\n",
    "  'name': 'Root',\n",
    "  'fullname': 'Root',\n",
    "  'children': [{'id': 2, 'name': 'A', 'fullname': 'A', 'children': [{'id': 4, 'name': 'A.1', 'fullname': 'A.1'}, {'id': 5, 'name': 'A.2', 'fullname': 'A.2'}]},\n",
    "   {'id': 3, 'name': 'B', 'fullname': 'B', 'children': [{'id': 6, 'name': 'B.1', 'fullname': 'B.1'}, {'id': 7, 'name': 'B.2', 'fullname': 'B.2'}]}]}]"
   ]
  },
  {
   "cell_type": "code",
   "execution_count": null,
   "id": "51f0b13b",
   "metadata": {},
   "outputs": [],
   "source": [
    "top.treeview.items[0]"
   ]
  },
  {
   "cell_type": "code",
   "execution_count": null,
   "id": "ceb27dea",
   "metadata": {},
   "outputs": [],
   "source": [
    "top.setActive('A')"
   ]
  },
  {
   "cell_type": "code",
   "execution_count": null,
   "id": "4ba645fd",
   "metadata": {},
   "outputs": [],
   "source": [
    "top.getActive()"
   ]
  },
  {
   "cell_type": "code",
   "execution_count": null,
   "id": "a9b5cb97",
   "metadata": {},
   "outputs": [],
   "source": []
  },
  {
   "cell_type": "code",
   "execution_count": 10,
   "id": "78fe045a",
   "metadata": {},
   "outputs": [
    {
     "data": {
      "application/vnd.jupyter.widget-view+json": {
       "model_id": "76f4a4ea2120405094dc93941b6e79ea",
       "version_major": 2,
       "version_minor": 0
      },
      "text/plain": [
       "Card(children=[Html(children=[CustomTreeview(color='green', events=['activate', 'change_selection', 'onopening…"
      ]
     },
     "metadata": {},
     "output_type": "display_data"
    }
   ],
   "source": [
    "# TREEVIEW CREATED FROM A HIERARCHICAL LIST OF STRINGS\n",
    "%run treeview.py\n",
    "\n",
    "def on_change(arg):\n",
    "    print(arg)\n",
    "    \n",
    "def on_activated(arg):\n",
    "    print(arg)\n",
    "\n",
    "treecard = createTreeviewFromList(['A','A.1','A.2','A.1.1','A.3.1','A.4.1.2','A.5.2.1','A.4.2.3.1','B','B.A'], separator='.', rootName='Root', expand_selection_to_parents=False, \n",
    "                                  substitutionDict={'A.1': 'A.1 new name'}, color='green', dark=False, width='500px', height='350px', on_change=on_change, on_activated=on_activated,\n",
    "                                  selectable=True, activatable=False, opened=['Root', 'A', 'A.3'], displayfullname=True, #active='A.2', \n",
    "                                  disabled=['A.1', 'A.3'], tooltips=True, tooltips_chars=0, iconsshow=True, iconscolor='green', open_on_click=True,\n",
    "                                  iconsDict={'A.2': 'mdi-fire', 'A.4.1.2': 'mdi-anchor'}, iconsfolder=True, select_all=False, selected=['A.1.1','A.3.1','A.4.1.2','A.5.2.1'])\n",
    "treecard"
   ]
  },
  {
   "cell_type": "code",
   "execution_count": 18,
   "id": "9e58a9b9",
   "metadata": {},
   "outputs": [
    {
     "data": {
      "application/vnd.jupyter.widget-view+json": {
       "model_id": "017e24af18314835bda2966b1ee5528d",
       "version_major": 2,
       "version_minor": 0
      },
      "text/plain": [
       "Card(children=[Html(children=[CustomTreeview(activatable=True, color='green', events=['activate', 'change_sele…"
      ]
     },
     "metadata": {},
     "output_type": "display_data"
    }
   ],
   "source": [
    "# FLAT TREEVIEW CREATED FROM A LIST OF STRINGS\n",
    "%run treeview.py\n",
    "\n",
    "def on_change(arg):\n",
    "    print('Selected: ', arg)\n",
    "\n",
    "def on_activated(arg):\n",
    "    print('Active: ', arg)\n",
    "    \n",
    "treecard = createFlatTreeview(['A','B','C','D','E'], \n",
    "                              color='green', dark=False, width='500px', height='120px',\n",
    "                              selectable=True, activatable=True, displayfullname=True, \n",
    "                              select_all=False, selected=['B','D'],\n",
    "                              on_change=on_change,\n",
    "                              on_activated=on_activated)\n",
    "treecard"
   ]
  },
  {
   "cell_type": "code",
   "execution_count": null,
   "id": "5c1eb77c",
   "metadata": {},
   "outputs": [],
   "source": [
    "top = treeviewOperations(treecard)\n",
    "top.getSelected()"
   ]
  },
  {
   "cell_type": "code",
   "execution_count": null,
   "id": "b4079d85",
   "metadata": {},
   "outputs": [],
   "source": [
    "top.setSelected([])"
   ]
  },
  {
   "cell_type": "code",
   "execution_count": 17,
   "id": "b7a598a7",
   "metadata": {},
   "outputs": [
    {
     "data": {
      "application/vnd.jupyter.widget-view+json": {
       "model_id": "1382ab0ce67841e48298763324454f22",
       "version_major": 2,
       "version_minor": 0
      },
      "text/plain": [
       "Card(children=[Html(children=[CustomTreeview(color='green', events=['activate', 'change_selection', 'onopening…"
      ]
     },
     "metadata": {},
     "output_type": "display_data"
    }
   ],
   "source": [
    "# SIMPLE TREE VIEW CREATED FROM A LIST OF STRINGS\n",
    "%run treeview.py\n",
    "\n",
    "def on_change(arg):\n",
    "    print(arg)\n",
    "    \n",
    "def on_activated(arg):\n",
    "    print('Active: ', arg)\n",
    "    \n",
    "treecard = createTreeviewFromList(['A','A.1','A.2','A.1.1','A.3.1','A.4.1.2','A.5.2.1','A.4.2.3.1','B','B.A'], separator='.', rootName='Root', expand_selection_to_parents=False, \n",
    "                                  color='green', dark=False, width='500px', height='550px', on_change=on_change, on_activated=on_activated,\n",
    "                                  selectable=True, activatable=False, opened_all=True, displayfullname=True, \n",
    "                                  select_all=False, selected=['A.1.1','A.3.1','A.4.1.2','A.5.2.1'])\n",
    "treecard"
   ]
  },
  {
   "cell_type": "code",
   "execution_count": null,
   "id": "76b769d2",
   "metadata": {},
   "outputs": [],
   "source": [
    "top = treeviewOperations(treecard)"
   ]
  },
  {
   "cell_type": "code",
   "execution_count": null,
   "id": "f21fa43c",
   "metadata": {},
   "outputs": [],
   "source": [
    "top.treeview.selected = [5,7]"
   ]
  },
  {
   "cell_type": "code",
   "execution_count": null,
   "id": "1f306baa",
   "metadata": {},
   "outputs": [],
   "source": [
    "top.getSelected()"
   ]
  },
  {
   "cell_type": "code",
   "execution_count": null,
   "id": "1ee7da0d",
   "metadata": {},
   "outputs": [],
   "source": [
    "top.setSelected(['A.2'])"
   ]
  },
  {
   "cell_type": "code",
   "execution_count": null,
   "id": "3ff42414",
   "metadata": {},
   "outputs": [],
   "source": [
    "top.openAll()"
   ]
  },
  {
   "cell_type": "code",
   "execution_count": null,
   "id": "af514c09",
   "metadata": {},
   "outputs": [],
   "source": [
    "top.setSearch('A.4')"
   ]
  },
  {
   "cell_type": "code",
   "execution_count": null,
   "id": "865da436",
   "metadata": {},
   "outputs": [],
   "source": [
    "top.getActive()"
   ]
  },
  {
   "cell_type": "code",
   "execution_count": null,
   "id": "3b64e890",
   "metadata": {},
   "outputs": [],
   "source": [
    "top.setOpened([])"
   ]
  },
  {
   "cell_type": "code",
   "execution_count": null,
   "id": "25ca8ec9",
   "metadata": {},
   "outputs": [],
   "source": [
    "top.setActive('A.1.1')"
   ]
  },
  {
   "cell_type": "code",
   "execution_count": null,
   "id": "4e860426",
   "metadata": {},
   "outputs": [],
   "source": [
    "top.setActive('Root')"
   ]
  },
  {
   "cell_type": "code",
   "execution_count": null,
   "id": "4ced91dc",
   "metadata": {},
   "outputs": [],
   "source": [
    "top.getOpened()"
   ]
  },
  {
   "cell_type": "code",
   "execution_count": null,
   "id": "2a408b8f",
   "metadata": {},
   "outputs": [],
   "source": [
    "top.setOpened(['Root', 'A', 'A.3'])"
   ]
  },
  {
   "cell_type": "code",
   "execution_count": null,
   "id": "8a9ec438",
   "metadata": {},
   "outputs": [],
   "source": [
    "top.id2fullname"
   ]
  },
  {
   "cell_type": "code",
   "execution_count": null,
   "id": "0cd664d4",
   "metadata": {},
   "outputs": [],
   "source": [
    "top.fullname2id"
   ]
  },
  {
   "cell_type": "code",
   "execution_count": null,
   "id": "40db7664",
   "metadata": {},
   "outputs": [],
   "source": [
    "top.id2parentid"
   ]
  },
  {
   "cell_type": "code",
   "execution_count": null,
   "id": "11ff2f65",
   "metadata": {},
   "outputs": [],
   "source": [
    "top.id2childrenid"
   ]
  },
  {
   "cell_type": "code",
   "execution_count": null,
   "id": "ce3e1cd5",
   "metadata": {},
   "outputs": [],
   "source": [
    "# SELECTABLE TREE VIEW CREATED FROM TWO COLUMNS OF A PANDAS DATAFRAME\n",
    "%run treeview.py\n",
    "import random\n",
    "\n",
    "# Create a Pandas\n",
    "df = pd.DataFrame(columns=['Group','Element', 'parenticon', 'icon'])\n",
    "\n",
    "i = 0\n",
    "\n",
    "seta_output = [['gis', 'gis software'],\n",
    "               ['geospatial', 'geospatial data', 'geospatial applications'],\n",
    "               ['spatial analysis', 'spatial join', 'geospatial data tools']\n",
    "              ]\n",
    "\n",
    "icons = ['mdi-football', 'mdi-anchor', 'mdi-border-all', 'mdi-cloud', 'mdi-firefox', 'mdi-filmstrip', 'mdi-fire', 'mdi-flower']\n",
    "\n",
    "for group in seta_output:\n",
    "    name = group[0]\n",
    "    for element in group[1:]:\n",
    "        record = {'Group': name, 'Element': element, 'icon': random.choice(icons), 'parenticon': 'mdi-fire'}\n",
    "        df.at[i, :] = record\n",
    "        i = i+1\n",
    "\n",
    "display(df)\n",
    "\n",
    "def on_change(arg):\n",
    "    print(arg)\n",
    "\n",
    "# Display the tree\n",
    "tree = createTreeviewFromDF2Columns(df,'Group', 'Element', rootName='Terms', width='400px', height='250px', select_all=True,\n",
    "                                    repeat_parent_as_first_child=False, open_on_click=True, selectable=True, activatable=False, expand_selection_to_parents=True,\n",
    "                                    iconsshow=True, iconscolor='blue', iconsfolder=True, iconscolumnName1='parenticon', iconscolumnName2='icon', iconroot='mdi-fire',\n",
    "                                    #iconsshow=False, iconscolor='blue', iconsfolder=True, iconscolumnName2='icon', \n",
    "                                    tooltips=True, tooltips_chars=10, on_change=on_change, transition=True,\n",
    "                                    disabled=['Terms.gis', 'Terms.geospatial.geospatial data'], opened=['Terms', 'Terms.gis'])\n",
    "\n",
    "top = treeviewOperations(tree)\n",
    "\n",
    "tree"
   ]
  },
  {
   "cell_type": "code",
   "execution_count": null,
   "id": "58923a5a",
   "metadata": {},
   "outputs": [],
   "source": [
    "# TREEVIEW FROM 3 COLUMNS OF A PANDAS DATAFRAME\n",
    "%run treeview.py\n",
    "import pandas as pd\n",
    "\n",
    "table = [['parent', 'child', 'nephew'], \n",
    "         ['John', 'Mary', 'Johnny'],\n",
    "         ['John', 'Peter', 'Lisa'], \n",
    "         ['Ann', 'Hellen', 'July'],\n",
    "         ['Ann', 'Sue', 'Ellen'],\n",
    "         ['Ann', 'Claire', 'Pieter']]\n",
    "\n",
    "headers = table.pop(0)\n",
    "df = pd.DataFrame(table, columns=headers)\n",
    "display(df)\n",
    "\n",
    "def on_change(arg):\n",
    "    print(arg)\n",
    "\n",
    "def on_activated(arg):\n",
    "    print(arg)\n",
    "    \n",
    "treecard = createTreeviewFromDF3Columns(df, headers[0], headers[1], headers[2], \n",
    "                                        rootName='Families', activatable=True,\n",
    "                                        select_all=True, opened_all=True,\n",
    "                                        on_change=on_change, on_activated=on_activated)\n",
    "display(treecard)\n"
   ]
  },
  {
   "cell_type": "code",
   "execution_count": null,
   "id": "fc468085",
   "metadata": {},
   "outputs": [],
   "source": []
  }
 ],
 "metadata": {
  "kernelspec": {
   "display_name": "Python 3 (ipykernel)",
   "language": "python",
   "name": "python3"
  },
  "language_info": {
   "codemirror_mode": {
    "name": "ipython",
    "version": 3
   },
   "file_extension": ".py",
   "mimetype": "text/x-python",
   "name": "python",
   "nbconvert_exporter": "python",
   "pygments_lexer": "ipython3",
   "version": "3.7.13"
  }
 },
 "nbformat": 4,
 "nbformat_minor": 5
}
