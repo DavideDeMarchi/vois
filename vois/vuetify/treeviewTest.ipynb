{
 "cells": [
  {
   "cell_type": "code",
   "execution_count": 1,
   "id": "7d562db0",
   "metadata": {},
   "outputs": [],
   "source": [
    "import ipyvuetify as v\n",
    "import pandas as pd"
   ]
  },
  {
   "cell_type": "code",
   "execution_count": 2,
   "id": "953da3af",
   "metadata": {},
   "outputs": [],
   "source": [
    "# DYNAMIC STAC API TREEVIEW\n",
    "%run treeview.py\n",
    "\n",
    "import requests\n",
    "import json\n",
    "import re\n",
    "\n",
    "stac_url = 'http://stac-api-test.cidsn.jrc.it:20008/'\n",
    "\n",
    "\n",
    "# Convert markdown URL to <a> HTML tags\n",
    "def markdownToURL(text):\n",
    "    filterString = '(?:[^\\!]|^)\\[([^\\[\\]]+)\\]\\(([^()]+)\\)'\n",
    "    return re.sub(filterString, r\"\"\" <a href='\\2' target='_blank'>\\1</a>\"\"\", text)\n",
    "\n",
    "\n",
    "# Download a stac catalog: returns a list of tuple containing (title,url) for each of the children\n",
    "def downloadCatalog(url):\n",
    "    #print(url)\n",
    "    response = requests.get(url)\n",
    "    stac_catalog = json.loads(response.text)\n",
    "\n",
    "    children = []\n",
    "\n",
    "    if \"title\" in stac_catalog and \"id\" in stac_catalog:\n",
    "        if stac_catalog[\"id\"] == \"stac-fastapi\":\n",
    "            stac_catalog[\"id\"] = \"BDAP.catalog\"\n",
    "            \n",
    "        if 'description' in stac_catalog:\n",
    "            stac_catalog['description'] = markdownToURL(stac_catalog['description'])\n",
    "            \n",
    "\n",
    "        if 'links' in stac_catalog:\n",
    "            links = stac_catalog['links']\n",
    "            for link in links:\n",
    "                if link['rel'] == \"child\":\n",
    "                    url = link['href']\n",
    "                    if url != stac_url + '/collections/BDAP.catalog':\n",
    "                        item = (link['title'],url)\n",
    "                        children.append(item)\n",
    "            \n",
    "    return children\n"
   ]
  },
  {
   "cell_type": "code",
   "execution_count": 4,
   "id": "837ab473",
   "metadata": {},
   "outputs": [
    {
     "data": {
      "application/vnd.jupyter.widget-view+json": {
       "model_id": "b4d4133b24cb48fd9d9cfe41dd12f990",
       "version_major": 2,
       "version_minor": 0
      },
      "text/plain": [
       "Card(children=[Html(children=[CustomTreeview(activatable=True, color='green', events=['activate', 'change_sele…"
      ]
     },
     "metadata": {},
     "output_type": "display_data"
    }
   ],
   "source": [
    "def on_activated(title):\n",
    "    global url_dict\n",
    "    if len(top.getChildren(title)) == 0:\n",
    "        if title in url_dict:\n",
    "            url = url_dict[title]\n",
    "            children = downloadCatalog(url)\n",
    "            if len(children) > 0:\n",
    "                titles = [x[0] for x in children]\n",
    "                for c in children:\n",
    "                    url_dict[c[0]] = c[1]\n",
    "                top.setChildren(title, titles)\n",
    "                op = top.getOpened()\n",
    "                top.setActive(title)\n",
    "                op.append(title)\n",
    "                top.setOpened(op)\n",
    "        \n",
    "        \n",
    "children = downloadCatalog(stac_url)\n",
    "url_dict = { x[0]: x[1] for x in children }\n",
    "titles = [x[0] for x in children]\n",
    "\n",
    "treecard = createTreeviewFromList(titles, rootName='JRC Big Data Analytics Platform Catalog', expand_selection_to_parents=False, \n",
    "                                  color='green', dark=False, width='800px', height='600px', on_activated=on_activated,\n",
    "                                  selectable=False, activatable=True, displayfullname=True)\n",
    "\n",
    "top = treeviewOperations(treecard)\n",
    "\n",
    "treecard"
   ]
  },
  {
   "cell_type": "code",
   "execution_count": 4,
   "id": "3ff0d61e",
   "metadata": {},
   "outputs": [
    {
     "data": {
      "text/plain": [
       "{'Administrative Units Data': 'http://stac-api-test.cidsn.jrc.it:20008/collections/AdministrativeUnits.catalog',\n",
       " 'Buildings Data': 'http://stac-api-test.cidsn.jrc.it:20008/collections/Buildings.catalog',\n",
       " 'Copernicus Data Access Portfolio Document (DAP) Data': 'http://stac-api-test.cidsn.jrc.it:20008/collections/Copernicus.DAP.catalog',\n",
       " 'Copernicus Sentinel Data': 'http://stac-api-test.cidsn.jrc.it:20008/collections/Copernicus.Sentinel.catalog',\n",
       " 'Copernicus Services Data': 'http://stac-api-test.cidsn.jrc.it:20008/collections/Copernicus.Services.catalog',\n",
       " 'EUMETSAT Data': 'http://stac-api-test.cidsn.jrc.it:20008/collections/EUMETSAT.catalog',\n",
       " 'Elevation Data': 'http://stac-api-test.cidsn.jrc.it:20008/collections/Elevation.catalog',\n",
       " 'Energy Data': 'http://stac-api-test.cidsn.jrc.it:20008/collections/Energy.catalog',\n",
       " 'Geographical Grid Systems Data': 'http://stac-api-test.cidsn.jrc.it:20008/collections/GeographicalGridSystems.catalog',\n",
       " 'Geographical Names Data': 'http://stac-api-test.cidsn.jrc.it:20008/collections/GeographicalNames.catalog',\n",
       " 'Hydrography Data': 'http://stac-api-test.cidsn.jrc.it:20008/collections/Hydrography.catalog',\n",
       " 'Land cover Data': 'http://stac-api-test.cidsn.jrc.it:20008/collections/Landcover.catalog',\n",
       " 'Landuse Data': 'http://stac-api-test.cidsn.jrc.it:20008/collections/Landuse.catalog',\n",
       " 'Meteo Data': 'http://stac-api-test.cidsn.jrc.it:20008/collections/Meteo.catalog',\n",
       " 'NASA Data': 'http://stac-api-test.cidsn.jrc.it:20008/collections/NASA.catalog',\n",
       " 'Natural Risk Zones Data': 'http://stac-api-test.cidsn.jrc.it:20008/collections/NaturalRiskZones.catalog',\n",
       " 'Orthoimagery Data': 'http://stac-api-test.cidsn.jrc.it:20008/collections/Orthoimagery.catalog',\n",
       " 'Population Data': 'http://stac-api-test.cidsn.jrc.it:20008/collections/Population.catalog',\n",
       " 'Protected Sites Data': 'http://stac-api-test.cidsn.jrc.it:20008/collections/ProtectedSites.catalog',\n",
       " 'Social Aspects Data': 'http://stac-api-test.cidsn.jrc.it:20008/collections/SocialAspects.catalog',\n",
       " 'Soil Data': 'http://stac-api-test.cidsn.jrc.it:20008/collections/Soil.catalog',\n",
       " 'Statistical Units Data': 'http://stac-api-test.cidsn.jrc.it:20008/collections/StatisticalUnits.catalog',\n",
       " 'Transport Data': 'http://stac-api-test.cidsn.jrc.it:20008/collections/Transport.catalog',\n",
       " 'USGS Data': 'http://stac-api-test.cidsn.jrc.it:20008/collections/USGS.catalog',\n",
       " 'EuroGlobalMap (EGM) 2021': 'http://stac-api-test.cidsn.jrc.it:20008/collections/AdministrativeUnits.EuroGeographics.EuroGlobalMap.V2021',\n",
       " 'EuroRegionalMap (ERM) 2021': 'http://stac-api-test.cidsn.jrc.it:20008/collections/AdministrativeUnits.EuroGeographics.EuroRegionalMap.V2021',\n",
       " 'Global Administrative Unit Layers (GAUL) 2014 Mid-Year': 'http://stac-api-test.cidsn.jrc.it:20008/collections/AdministrativeUnits.FAO.GAUL.V2014-MID',\n",
       " 'Global Administrative Unit Layers (GAUL) 2015': 'http://stac-api-test.cidsn.jrc.it:20008/collections/AdministrativeUnits.FAO.GAUL.V2015',\n",
       " 'Global Administrative Areas (GADM) Version 2.1': 'http://stac-api-test.cidsn.jrc.it:20008/collections/AdministrativeUnits.GADM.GADMUnits.V2-1',\n",
       " 'Global Administrative Areas (GADM) Version 2.7': 'http://stac-api-test.cidsn.jrc.it:20008/collections/AdministrativeUnits.GADM.GADMUnits.V2-7',\n",
       " 'Global Administrative Areas (GADM) Version 2.8': 'http://stac-api-test.cidsn.jrc.it:20008/collections/AdministrativeUnits.GADM.GADMUnits.V2-8',\n",
       " 'Global Administrative Areas (GADM) Version 3.6': 'http://stac-api-test.cidsn.jrc.it:20008/collections/AdministrativeUnits.GADM.GADMUnits.V3-6',\n",
       " 'GISCO Countries, 2016 - Administrative Units': 'http://stac-api-test.cidsn.jrc.it:20008/collections/AdministrativeUnits.GISCO.Countries.V2016',\n",
       " 'EuroBoundaryMap (EBM) v11': 'http://stac-api-test.cidsn.jrc.it:20008/collections/AdministrativeUnits.GISCO.EuroBoundaryMap.V11',\n",
       " 'EuroBoundaryMap (EBM) v12': 'http://stac-api-test.cidsn.jrc.it:20008/collections/AdministrativeUnits.GISCO.EuroBoundaryMap.V12',\n",
       " 'EuroBoundaryMap (EBM) v6.0': 'http://stac-api-test.cidsn.jrc.it:20008/collections/AdministrativeUnits.GISCO.EuroBoundaryMap.V6',\n",
       " 'EuroBoundaryMap (EBM) v8.1': 'http://stac-api-test.cidsn.jrc.it:20008/collections/AdministrativeUnits.GISCO.EuroBoundaryMap.V8-1',\n",
       " 'EuroBoundaryMap (EBM) v9.0': 'http://stac-api-test.cidsn.jrc.it:20008/collections/AdministrativeUnits.GISCO.EuroBoundaryMap.V9',\n",
       " 'EuroGlobalMap (EGM) v6.0': 'http://stac-api-test.cidsn.jrc.it:20008/collections/AdministrativeUnits.GISCO.EuroGlobalMap.V6',\n",
       " 'EuroGlobalMap (EGM) v9.0': 'http://stac-api-test.cidsn.jrc.it:20008/collections/AdministrativeUnits.GISCO.EuroGlobalMap.V9',\n",
       " 'EuroRegionalMap (ERM) v10.1': 'http://stac-api-test.cidsn.jrc.it:20008/collections/AdministrativeUnits.GISCO.EuroRegionalMap.V10-1',\n",
       " 'EuroRegionalMap (ERM) v10': 'http://stac-api-test.cidsn.jrc.it:20008/collections/AdministrativeUnits.GISCO.EuroRegionalMap.V10',\n",
       " 'EuroRegionalMap (ERM) v11.1': 'http://stac-api-test.cidsn.jrc.it:20008/collections/AdministrativeUnits.GISCO.EuroRegionalMap.V11-1',\n",
       " 'EuroRegionalMap (ERM) v11.0': 'http://stac-api-test.cidsn.jrc.it:20008/collections/AdministrativeUnits.GISCO.EuroRegionalMap.V11',\n",
       " 'EuroRegionalMap (ERM) v7.1': 'http://stac-api-test.cidsn.jrc.it:20008/collections/AdministrativeUnits.GISCO.EuroRegionalMap.V7-1',\n",
       " 'EuroRegionalMap (ERM) v9.1': 'http://stac-api-test.cidsn.jrc.it:20008/collections/AdministrativeUnits.GISCO.EuroRegionalMap.V9-1',\n",
       " 'Natural Earth - Administrative Units  V2': 'http://stac-api-test.cidsn.jrc.it:20008/collections/AdministrativeUnits.NACIS.NaturalEarth.V2',\n",
       " 'Natural Earth - Administrative Units V4': 'http://stac-api-test.cidsn.jrc.it:20008/collections/AdministrativeUnits.NACIS.NaturalEarth.V4',\n",
       " 'MSG Daily Surface Albedo (MDAL, LSA-101)': 'http://stac-api-test.cidsn.jrc.it:20008/collections/EO.EUMETSAT-LSASAF.MSG.SEVIRI.ALBEDO',\n",
       " 'MSG Daily Fraction of Absorbed Photosynthetic Active Radiation': 'http://stac-api-test.cidsn.jrc.it:20008/collections/EO.EUMETSAT-LSASAF.MSG.SEVIRI.FAPAR',\n",
       " 'MSG Daily Fraction of Vegetation Cover (MDFVC, LSA-421)': 'http://stac-api-test.cidsn.jrc.it:20008/collections/EO.EUMETSAT-LSASAF.MSG.SEVIRI.FVC',\n",
       " 'MSG Downward Surface Longwave Flux (MDSLF, LSA-204)': 'http://stac-api-test.cidsn.jrc.it:20008/collections/EO.EUMETSAT-LSASAF.MSG.SEVIRI.MDSLF',\n",
       " 'MSG Downward Surface Shortwave Flux (MDSSF, LSA-201)': 'http://stac-api-test.cidsn.jrc.it:20008/collections/EO.EUMETSAT-LSASAF.MSG.SEVIRI.MDSSF',\n",
       " 'MSG Land Surface Temperature (MLST)': 'http://stac-api-test.cidsn.jrc.it:20008/collections/EO.EUMETSAT-LSASAF.MSG.SEVIRI.MLST',\n",
       " 'EUMETSAT Solar Surface Radiation Data Set – Heliosat (SARAH-2.1) Surface direct irradiance (SID)': 'http://stac-api-test.cidsn.jrc.it:20008/collections/EO.EUMETSAT.SARAH-SID.V2-1',\n",
       " 'EUMETSAT Solar Surface Radiation Data Set – Heliosat (SARAH-2.1) Surface incoming shortwave radiation (SIS)': 'http://stac-api-test.cidsn.jrc.it:20008/collections/EO.EUMETSAT.SARAH-SIS.V2-1',\n",
       " 'Copernicus VHR Image Mosaic 2013 over Europe EEA39': 'http://stac-api-test.cidsn.jrc.it:20008/collections/EO.Copernicus.VHR2011-13',\n",
       " 'Copernicus VHR Image Mosaic 2015 over Europe EEA39': 'http://stac-api-test.cidsn.jrc.it:20008/collections/EO.Copernicus.VHR2015',\n",
       " 'Copernicus VHR Image Mosaic 2018 over Europe EEA39 - True Colour (2m)': 'http://stac-api-test.cidsn.jrc.it:20008/collections/EO.Copernicus.VHR2018',\n",
       " 'Copernicus VHR Image Mosaic 2021 over Europe EEA39': 'http://stac-api-test.cidsn.jrc.it:20008/collections/EO.Copernicus.VHR2021',\n",
       " 'Microsoft Global Building Footprint': 'http://stac-api-test.cidsn.jrc.it:20008/collections/Buildings.Microsoft.GlobalMLBuildingFootprints.2022',\n",
       " 'EUropean BUilding stock Characteristics in a Common and Open database - EUBUCCO v.0-1': 'http://stac-api-test.cidsn.jrc.it:20008/collections/Buildings.MCC.EUBUCCO.V0-1',\n",
       " 'Europe grid cells covering 1-100 km v1.2': 'http://stac-api-test.cidsn.jrc.it:20008/collections/GeographicalGridSystems.GISCO.Grids.V1-2',\n",
       " 'Military Grid Reference System (MGRS) S2 V1': 'http://stac-api-test.cidsn.jrc.it:20008/collections/GeographicalGridSystems.MGRS.S2.V1',\n",
       " 'Landsat Path/Row World Reference System (WRS-1) - Ascending and Descending': 'http://stac-api-test.cidsn.jrc.it:20008/collections/GeographicalGridSystems.NASA.WRS_asc-desc.V1',\n",
       " 'Landsat Path/Row World Reference System (WRS-2) - Ascending and Descending': 'http://stac-api-test.cidsn.jrc.it:20008/collections/GeographicalGridSystems.NASA.WRS_asc-desc.V2',\n",
       " 'Landsat Path/Row World Reference System (WRS-1) - Descending': 'http://stac-api-test.cidsn.jrc.it:20008/collections/GeographicalGridSystems.NASA.WRS_descending.V1',\n",
       " 'Landsat Path/Row World Reference System (WRS-2) - Descending': 'http://stac-api-test.cidsn.jrc.it:20008/collections/GeographicalGridSystems.NASA.WRS_descending.V2',\n",
       " 'ESRI - NGA UTM Zones V1': 'http://stac-api-test.cidsn.jrc.it:20008/collections/GeographicalGridSystems.NGA.UTM_ZONES.V1',\n",
       " 'TUWIEN GEO Equi7Grid V1.3': 'http://stac-api-test.cidsn.jrc.it:20008/collections/GeographicalGridSystems.TUWIEN-GEO.Equi7Grid.V1-3',\n",
       " 'Open Gazetteer 2021': 'http://stac-api-test.cidsn.jrc.it:20008/collections/GeographicalNames.EuroGeographics.OpenRegionalGazetteer.V2021',\n",
       " 'Global tide - FES (Finite Element Solution) 2014': 'http://stac-api-test.cidsn.jrc.it:20008/collections/Hydrography.AVISO.FES2014',\n",
       " 'Global Geo-referenced Database of Dams (GOODD2)  Version 1': 'http://stac-api-test.cidsn.jrc.it:20008/collections/Hydrography.GDW.GOODD.V1',\n",
       " 'Global Reservoir and Dam Database (GRanD) v1.3': 'http://stac-api-test.cidsn.jrc.it:20008/collections/Hydrography.GDW.GRanD.V1-3',\n",
       " 'Global Surface Water - Aggregated Version 1': 'http://stac-api-test.cidsn.jrc.it:20008/collections/Hydrography.JRC.GlobalSurfaceWater_Aggregated.V1',\n",
       " 'Global Surface Water - Aggregated Version 2': 'http://stac-api-test.cidsn.jrc.it:20008/collections/Hydrography.JRC.GlobalSurfaceWater_Aggregated.V2',\n",
       " 'Global Surface Water - Aggregated Version 3': 'http://stac-api-test.cidsn.jrc.it:20008/collections/Hydrography.JRC.GlobalSurfaceWater_Aggregated.V3',\n",
       " 'Global Surface Water - Aggregated Version 4': 'http://stac-api-test.cidsn.jrc.it:20008/collections/Hydrography.JRC.GlobalSurfaceWater_Aggregated.V4',\n",
       " 'Global Surface Water - Monthly History Version 1': 'http://stac-api-test.cidsn.jrc.it:20008/collections/Hydrography.JRC.GlobalSurfaceWater_MonthlyHistory.V1',\n",
       " 'Global Surface Water - Monthly History Version 2': 'http://stac-api-test.cidsn.jrc.it:20008/collections/Hydrography.JRC.GlobalSurfaceWater_MonthlyHistory.V2',\n",
       " 'Global Surface Water - Monthly History Version 3': 'http://stac-api-test.cidsn.jrc.it:20008/collections/Hydrography.JRC.GlobalSurfaceWater_MonthlyHistory.V3',\n",
       " 'Global Surface Water - Monthly History Version 4': 'http://stac-api-test.cidsn.jrc.it:20008/collections/Hydrography.JRC.GlobalSurfaceWater_MonthlyHistory.V4',\n",
       " 'Global Surface Water - Monthly Recurrence Version 1': 'http://stac-api-test.cidsn.jrc.it:20008/collections/Hydrography.JRC.GlobalSurfaceWater_MonthlyRecurrence.V1',\n",
       " 'Global Surface Water - Monthly Recurrence Version 2': 'http://stac-api-test.cidsn.jrc.it:20008/collections/Hydrography.JRC.GlobalSurfaceWater_MonthlyRecurrence.V2',\n",
       " 'Global Surface Water - Monthly Recurrence Version 3': 'http://stac-api-test.cidsn.jrc.it:20008/collections/Hydrography.JRC.GlobalSurfaceWater_MonthlyRecurrence.V3',\n",
       " 'Global Surface Water - Monthly Recurrence Version 4': 'http://stac-api-test.cidsn.jrc.it:20008/collections/Hydrography.JRC.GlobalSurfaceWater_MonthlyRecurrence.V4',\n",
       " 'Global Surface Water - Yearly Classification Version 1': 'http://stac-api-test.cidsn.jrc.it:20008/collections/Hydrography.JRC.GlobalSurfaceWater_YearlyClassification.V1',\n",
       " 'Global Surface Water - Yearly Classification Version 2': 'http://stac-api-test.cidsn.jrc.it:20008/collections/Hydrography.JRC.GlobalSurfaceWater_YearlyClassification.V2',\n",
       " 'Global Surface Water - Yearly Classification Version 3': 'http://stac-api-test.cidsn.jrc.it:20008/collections/Hydrography.JRC.GlobalSurfaceWater_YearlyClassification.V3',\n",
       " 'Global Surface Water - Yearly Classification Version 4': 'http://stac-api-test.cidsn.jrc.it:20008/collections/Hydrography.JRC.GlobalSurfaceWater_YearlyClassification.V4',\n",
       " 'OpenStreetMap Water Coast lines': 'http://stac-api-test.cidsn.jrc.it:20008/collections/Hydrography.OSM.Coastlines.V20180816',\n",
       " 'OpenStreetMap Land Polygons': 'http://stac-api-test.cidsn.jrc.it:20008/collections/Hydrography.OSM.LandPolygons.V20180816',\n",
       " 'OpenStreetMap Water Polygons': 'http://stac-api-test.cidsn.jrc.it:20008/collections/Hydrography.OSM.WaterPolygons.V20180816',\n",
       " 'OSU TPXO9-atlas 1/30 degree resolution fully global tidal solution': 'http://stac-api-test.cidsn.jrc.it:20008/collections/Hydrography.OSU.TPXO9-atlas.V5',\n",
       " 'OSU TPXO9 Fully Global tidal model': 'http://stac-api-test.cidsn.jrc.it:20008/collections/Hydrography.OSU.TPXO9.V5',\n",
       " 'Sentinel-1 Level 1A SAR GRD: C-band Synthetic Aperture Radar Ground Range Detected, log scaling': 'http://stac-api-test.cidsn.jrc.it:20008/collections/EO.Copernicus.S1.L1A.GRD',\n",
       " 'Sentinel-1 Level 1A Single-Look-Complex (SLC)': 'http://stac-api-test.cidsn.jrc.it:20008/collections/EO.Copernicus.S1.L1A.SLC',\n",
       " 'Sentinel-1 Level 1C': 'http://stac-api-test.cidsn.jrc.it:20008/collections/EO.Copernicus.S1.L1C',\n",
       " 'Sentinel-1 Level 2 CARD-COH6: interferometric coherence data': 'http://stac-api-test.cidsn.jrc.it:20008/collections/EO.Copernicus.S1.L2.CARD-COH6',\n",
       " 'Sentinel-2 MSI: MultiSpectral Instrument, Level-1C': 'http://stac-api-test.cidsn.jrc.it:20008/collections/EO.Copernicus.S2.L1C',\n",
       " 'Sentinel-2 MSI: MultiSpectral Instrument, Level-2A': 'http://stac-api-test.cidsn.jrc.it:20008/collections/EO.Copernicus.S2.L2A',\n",
       " 'Sentinel-3 OLCI LFR Level 2: Ocean and Land Color Instrument Earth Observation Land Full Resolution': 'http://stac-api-test.cidsn.jrc.it:20008/collections/EO.Copernicus.S3.OLCI.L2.LFR',\n",
       " 'Sentinel-3 OLCI LRR Level 2: Ocean and Land Color Instrument Earth Observation Land Reduced Resolution': 'http://stac-api-test.cidsn.jrc.it:20008/collections/EO.Copernicus.S3.OLCI.L2.LRR',\n",
       " 'Sentinel-3 OLCI WFR Level 2: Ocean and Land Color Instrument Earth Observation Water Full Resolution': 'http://stac-api-test.cidsn.jrc.it:20008/collections/EO.Copernicus.S3.OLCI.L2.WFR',\n",
       " 'Sentinel-3 OLCI WRR Level 2: Ocean and Land Color Instrument Earth Observation Water Reduced Resolution': 'http://stac-api-test.cidsn.jrc.it:20008/collections/EO.Copernicus.S3.OLCI.L2.WRR',\n",
       " 'Sentinel-3 OLCI EFR Level 3: Full Resolution Top Of Atmosphere Radiance LEVEL 3 sample data based on Sentinel-3 OLCI EFR LEVEL 1': 'http://stac-api-test.cidsn.jrc.it:20008/collections/EO.Copernicus.S3.OLCI.L3.EFR',\n",
       " 'Sentinel-3 OLCI LFR Level 3: sample data based on Sentinel-3 OLCI LFR LEVEL 2': 'http://stac-api-test.cidsn.jrc.it:20008/collections/EO.Copernicus.S3.OLCI.L3.LFR',\n",
       " 'Sentinel-3 SLSTR RBT Level-1B: Land Surface Temperature and Sea Surface Temperature Instrument Level-1B Radiance and Brightness Temperature': 'http://stac-api-test.cidsn.jrc.it:20008/collections/EO.Copernicus.S3.SLSTR.L1.RBT',\n",
       " 'Sentinel-3 SLSTR LST Level-2: SLSTR Instrument Land Surface Temperature Level-2 ': 'http://stac-api-test.cidsn.jrc.it:20008/collections/EO.Copernicus.S3.SLSTR.L2.LST',\n",
       " 'Sentinel-3 SLSTR WST Level-2: SLSTR Instrument Level-2 Water Single Temperature, i.e. Sea Surface Temperature following the GHRSST specifications': 'http://stac-api-test.cidsn.jrc.it:20008/collections/EO.Copernicus.S3.SLSTR.L2.WST',\n",
       " 'Sentinel-3 SLSTR LST Level-3: SLSTR Instrument Level-3 composite products for the Land Surface Temperature (LST) Level 2 products': 'http://stac-api-test.cidsn.jrc.it:20008/collections/EO.Copernicus.S3.SLSTR.L3.LST',\n",
       " 'Sentinel-3 STM WAT Level-2: Surface Topography Mission (STM) Level-2 Water products': 'http://stac-api-test.cidsn.jrc.it:20008/collections/EO.Copernicus.S3.STM.L2.WAT',\n",
       " 'Sentinel-5P OFFL AER AI: Offline UV Aerosol Index': 'http://stac-api-test.cidsn.jrc.it:20008/collections/EO.Copernicus.S5.L2.AERAI',\n",
       " 'Sentinel-5P OFFL CH4: Offline Methane': 'http://stac-api-test.cidsn.jrc.it:20008/collections/EO.Copernicus.S5.L2.CH4',\n",
       " 'Sentinel-5P OFFL CLOUD: Near Real-Time Cloud': 'http://stac-api-test.cidsn.jrc.it:20008/collections/EO.Copernicus.S5.L2.CLOUD',\n",
       " 'Sentinel-5P OFFL CO: Offline Carbon Monoxide': 'http://stac-api-test.cidsn.jrc.it:20008/collections/EO.Copernicus.S5.L2.CO',\n",
       " 'Sentinel-5P OFFL HCHO: Offline Formaldehyde': 'http://stac-api-test.cidsn.jrc.it:20008/collections/EO.Copernicus.S5.L2.HCHO',\n",
       " 'Sentinel-5P OFFL NO2: Offline Nitrogen Dioxide': 'http://stac-api-test.cidsn.jrc.it:20008/collections/EO.Copernicus.S5.L2.NO2',\n",
       " 'Sentinel-5P OFFL O3: Offline Ozone': 'http://stac-api-test.cidsn.jrc.it:20008/collections/EO.Copernicus.S5.L2.O3',\n",
       " 'Sentinel-5P OFFL SO2: Offline Sulphur Dioxide': 'http://stac-api-test.cidsn.jrc.it:20008/collections/EO.Copernicus.S5.L2.SO2'}"
      ]
     },
     "execution_count": 4,
     "metadata": {},
     "output_type": "execute_result"
    }
   ],
   "source": [
    "url_dict"
   ]
  },
  {
   "cell_type": "code",
   "execution_count": 21,
   "id": "5502f8e2",
   "metadata": {},
   "outputs": [
    {
     "data": {
      "application/vnd.jupyter.widget-view+json": {
       "model_id": "86326faab8854691a71f725a28362afc",
       "version_major": 2,
       "version_minor": 0
      },
      "text/plain": [
       "Card(children=[Html(children=[CustomTreeview(activatable=True, color='green', events=['activate', 'change_sele…"
      ]
     },
     "metadata": {},
     "output_type": "display_data"
    }
   ],
   "source": [
    "# DYNAMIC ADDING OF CHILDREN TO A TREEVIEW\n",
    "%run treeview.py\n",
    "\n",
    "def on_activated(arg):\n",
    "    if arg == 'A':\n",
    "        if len(top.getChildren(arg)) == 0:\n",
    "            top.setChildren('A', ['A.1', 'A.2'])\n",
    "            op = top.getOpened()\n",
    "            top.setActive(arg)\n",
    "            op.append(arg)\n",
    "            top.setOpened(op)\n",
    "            #print(top.getOpened())\n",
    "    elif arg == 'B':\n",
    "        if len(top.getChildren(arg)) == 0:\n",
    "            top.setChildren('B', ['B.1', 'B.2', 'B.3'])\n",
    "            top.setActive(arg)\n",
    "            op = top.getOpened()\n",
    "            op.append(arg)\n",
    "            top.setOpened(op)\n",
    "            #print(top.getOpened())\n",
    "        \n",
    "\n",
    "treecard = createTreeviewFromList(['A','B'], separator='.', rootName='Root', expand_selection_to_parents=False, \n",
    "                                  color='green', dark=False, width='500px', height='500px', on_activated=on_activated,\n",
    "                                  selectable=False, activatable=True, displayfullname=True)\n",
    "\n",
    "top = treeviewOperations(treecard)\n",
    "\n",
    "treecard"
   ]
  },
  {
   "cell_type": "code",
   "execution_count": 245,
   "id": "247c9f51",
   "metadata": {},
   "outputs": [],
   "source": [
    "top.setChildren('B', ['B.1', 'B.2', 'B.3'])"
   ]
  },
  {
   "cell_type": "code",
   "execution_count": 248,
   "id": "a02a74ca",
   "metadata": {},
   "outputs": [],
   "source": [
    "top.setActive('A')"
   ]
  },
  {
   "cell_type": "code",
   "execution_count": 20,
   "id": "f78b7cd9",
   "metadata": {},
   "outputs": [
    {
     "data": {
      "text/plain": [
       "['Root', 'A', 'B']"
      ]
     },
     "execution_count": 20,
     "metadata": {},
     "output_type": "execute_result"
    }
   ],
   "source": [
    "top.getOpened()"
   ]
  },
  {
   "cell_type": "code",
   "execution_count": 18,
   "id": "c34f87a7",
   "metadata": {},
   "outputs": [
    {
     "data": {
      "text/plain": [
       "[1, 2]"
      ]
     },
     "execution_count": 18,
     "metadata": {},
     "output_type": "execute_result"
    }
   ],
   "source": [
    "top.treeview.opened"
   ]
  },
  {
   "cell_type": "code",
   "execution_count": 249,
   "id": "3f943d1f",
   "metadata": {},
   "outputs": [
    {
     "data": {
      "text/plain": [
       "['B.1', 'B.2', 'B.3']"
      ]
     },
     "execution_count": 249,
     "metadata": {},
     "output_type": "execute_result"
    }
   ],
   "source": [
    "top.getChildren('B')"
   ]
  },
  {
   "cell_type": "code",
   "execution_count": 250,
   "id": "23ddf996",
   "metadata": {},
   "outputs": [],
   "source": [
    "top.setChildren('B', ['B.1', 'B.2', 'B.3'])"
   ]
  },
  {
   "cell_type": "code",
   "execution_count": 251,
   "id": "5090a9b1",
   "metadata": {},
   "outputs": [],
   "source": [
    "top.setChildren('A', ['A.1', 'A.2'])"
   ]
  },
  {
   "cell_type": "code",
   "execution_count": 219,
   "id": "62a503ee",
   "metadata": {},
   "outputs": [
    {
     "data": {
      "text/plain": [
       "[]"
      ]
     },
     "execution_count": 219,
     "metadata": {},
     "output_type": "execute_result"
    }
   ],
   "source": [
    "top.getChildren('A')"
   ]
  },
  {
   "cell_type": "code",
   "execution_count": 218,
   "id": "4d4b77a3",
   "metadata": {},
   "outputs": [],
   "source": [
    "top.setChildren('A', [])"
   ]
  },
  {
   "cell_type": "code",
   "execution_count": null,
   "id": "9bb3d1ec",
   "metadata": {},
   "outputs": [],
   "source": []
  },
  {
   "cell_type": "code",
   "execution_count": null,
   "id": "588af216",
   "metadata": {},
   "outputs": [],
   "source": []
  },
  {
   "cell_type": "code",
   "execution_count": 139,
   "id": "3b7e5976",
   "metadata": {},
   "outputs": [],
   "source": [
    "top.treeview.items = [{'id': 1,\n",
    "  'name': 'Root',\n",
    "  'fullname': 'Root',\n",
    "  'children': [{'id': 2, 'name': 'A', 'fullname': 'A', 'children': [{'id': 4, 'name': 'A.1', 'fullname': 'A.1'}, {'id': 5, 'name': 'A.2', 'fullname': 'A.2'}]},\n",
    "   {'id': 3, 'name': 'B', 'fullname': 'B', 'children': [{'id': 6, 'name': 'B.1', 'fullname': 'B.1'}, {'id': 7, 'name': 'B.2', 'fullname': 'B.2'}]}]}]"
   ]
  },
  {
   "cell_type": "code",
   "execution_count": 166,
   "id": "cea2005f",
   "metadata": {},
   "outputs": [
    {
     "data": {
      "text/plain": [
       "{'id': 1,\n",
       " 'name': 'Root',\n",
       " 'fullname': 'Root',\n",
       " 'children': [{'id': 2,\n",
       "   'name': 'A',\n",
       "   'fullname': 'A',\n",
       "   'children': [{'id': 4, 'name': 'AAA.1', 'fullname': 'AAA.1'},\n",
       "    {'id': 4, 'name': 'AAA.2', 'fullname': 'AAA.2'}]},\n",
       "  {'id': 3, 'name': 'B', 'fullname': 'B'}]}"
      ]
     },
     "execution_count": 166,
     "metadata": {},
     "output_type": "execute_result"
    }
   ],
   "source": [
    "top.treeview.items[0]"
   ]
  },
  {
   "cell_type": "code",
   "execution_count": 23,
   "id": "27558f2b",
   "metadata": {},
   "outputs": [],
   "source": [
    "top.setActive('A')"
   ]
  },
  {
   "cell_type": "code",
   "execution_count": 22,
   "id": "7ddafcd9",
   "metadata": {},
   "outputs": [
    {
     "data": {
      "text/plain": [
       "'B'"
      ]
     },
     "execution_count": 22,
     "metadata": {},
     "output_type": "execute_result"
    }
   ],
   "source": [
    "top.getActive()"
   ]
  },
  {
   "cell_type": "code",
   "execution_count": 162,
   "id": "d9631e0e",
   "metadata": {},
   "outputs": [
    {
     "data": {
      "text/plain": [
       "3"
      ]
     },
     "execution_count": 162,
     "metadata": {},
     "output_type": "execute_result"
    }
   ],
   "source": [
    "max(top.id2fullname.keys())"
   ]
  },
  {
   "cell_type": "code",
   "execution_count": 161,
   "id": "473d5276",
   "metadata": {},
   "outputs": [
    {
     "data": {
      "text/plain": [
       "{1: 'Root', 2: 'A', 3: 'B'}"
      ]
     },
     "execution_count": 161,
     "metadata": {},
     "output_type": "execute_result"
    }
   ],
   "source": [
    "top.id2fullname"
   ]
  },
  {
   "cell_type": "code",
   "execution_count": 151,
   "id": "2fec4b33",
   "metadata": {},
   "outputs": [
    {
     "data": {
      "text/plain": [
       "{'Root': 1, 'A': 2, 'A.1': 4, 'A.2': 5, 'B': 3}"
      ]
     },
     "execution_count": 151,
     "metadata": {},
     "output_type": "execute_result"
    }
   ],
   "source": [
    "top.fullname2id"
   ]
  },
  {
   "cell_type": "code",
   "execution_count": 152,
   "id": "374de4ca",
   "metadata": {},
   "outputs": [
    {
     "data": {
      "text/plain": [
       "{2: 1, 4: 2, 5: 2, 3: 1}"
      ]
     },
     "execution_count": 152,
     "metadata": {},
     "output_type": "execute_result"
    }
   ],
   "source": [
    "top.id2parentid"
   ]
  },
  {
   "cell_type": "code",
   "execution_count": 153,
   "id": "95811714",
   "metadata": {},
   "outputs": [
    {
     "data": {
      "text/plain": [
       "{1: [2, 3], 2: [4, 5]}"
      ]
     },
     "execution_count": 153,
     "metadata": {},
     "output_type": "execute_result"
    }
   ],
   "source": [
    "top.id2childrenid"
   ]
  },
  {
   "cell_type": "code",
   "execution_count": null,
   "id": "b86b3782",
   "metadata": {},
   "outputs": [],
   "source": []
  },
  {
   "cell_type": "code",
   "execution_count": null,
   "id": "8c3dcc57",
   "metadata": {},
   "outputs": [],
   "source": []
  },
  {
   "cell_type": "code",
   "execution_count": null,
   "id": "16439af9",
   "metadata": {},
   "outputs": [],
   "source": []
  },
  {
   "cell_type": "code",
   "execution_count": null,
   "id": "e782c9eb",
   "metadata": {},
   "outputs": [],
   "source": []
  },
  {
   "cell_type": "code",
   "execution_count": null,
   "id": "7f653877",
   "metadata": {},
   "outputs": [],
   "source": []
  },
  {
   "cell_type": "code",
   "execution_count": 154,
   "id": "bcd74798",
   "metadata": {},
   "outputs": [
    {
     "data": {
      "application/vnd.jupyter.widget-view+json": {
       "model_id": "23b065480c864ced9c23c6b1d72e13c9",
       "version_major": 2,
       "version_minor": 0
      },
      "text/plain": [
       "Card(children=[Html(children=[CustomTreeview(active=4, color='green', events=['activate', 'change_selection'],…"
      ]
     },
     "metadata": {},
     "output_type": "display_data"
    }
   ],
   "source": [
    "# TREE VIEW CREATED FROM A LIST OF STRINGS\n",
    "%run treeview.py\n",
    "\n",
    "def on_change(arg):\n",
    "    print(arg)\n",
    "    \n",
    "def on_activated(arg):\n",
    "    print(arg)\n",
    "\n",
    "treecard = createTreeviewFromList(['A','A.1','A.2','A.1.1','A.3.1','A.4.1.2','A.5.2.1','A.4.2.3.1','B','B.A'], separator='.', rootName='Root', expand_selection_to_parents=False, \n",
    "                                  substitutionDict={'A.1': 'A.1 new name'}, color='green', dark=False, width='500px', height='350px', on_change=on_change, on_activated=on_activated,\n",
    "                                  selectable=True, activatable=False, active='A.2', opened=['Root', 'A', 'A.3'], displayfullname=True, \n",
    "                                  disabled=['A.1', 'A.3'], tooltips=True, tooltips_chars=0, iconsshow=True, iconscolor='green', open_on_click=True,\n",
    "                                  iconsDict={'A.2': 'mdi-fire', 'A.4.1.2': 'mdi-anchor'}, iconsfolder=True, select_all=False, selected=['A.1.1','A.3.1','A.4.1.2','A.5.2.1'])\n",
    "treecard"
   ]
  },
  {
   "cell_type": "code",
   "execution_count": 74,
   "id": "f34d15e6",
   "metadata": {},
   "outputs": [],
   "source": [
    "top = treeviewOperations(treecard)"
   ]
  },
  {
   "cell_type": "code",
   "execution_count": 75,
   "id": "6f824806",
   "metadata": {},
   "outputs": [],
   "source": [
    "top.openAll()"
   ]
  },
  {
   "cell_type": "code",
   "execution_count": 67,
   "id": "eb0ea2f0",
   "metadata": {},
   "outputs": [],
   "source": [
    "top.setSearch('A.4')"
   ]
  },
  {
   "cell_type": "code",
   "execution_count": 68,
   "id": "e2ad6a62",
   "metadata": {},
   "outputs": [
    {
     "data": {
      "text/plain": [
       "'A.2'"
      ]
     },
     "execution_count": 68,
     "metadata": {},
     "output_type": "execute_result"
    }
   ],
   "source": [
    "top.getActive()"
   ]
  },
  {
   "cell_type": "code",
   "execution_count": 69,
   "id": "47d67d95",
   "metadata": {},
   "outputs": [],
   "source": [
    "top.setOpened([])"
   ]
  },
  {
   "cell_type": "code",
   "execution_count": 70,
   "id": "b44f1968",
   "metadata": {},
   "outputs": [],
   "source": [
    "top.setActive('A.1.1')"
   ]
  },
  {
   "cell_type": "code",
   "execution_count": null,
   "id": "80a5909f",
   "metadata": {},
   "outputs": [],
   "source": [
    "top.setActive('Root')"
   ]
  },
  {
   "cell_type": "code",
   "execution_count": null,
   "id": "f6511217",
   "metadata": {},
   "outputs": [],
   "source": [
    "top.getOpened()"
   ]
  },
  {
   "cell_type": "code",
   "execution_count": null,
   "id": "ff27f154",
   "metadata": {},
   "outputs": [],
   "source": [
    "top.setOpened(['Root', 'A', 'A.3'])"
   ]
  },
  {
   "cell_type": "code",
   "execution_count": null,
   "id": "9226dc3f",
   "metadata": {},
   "outputs": [],
   "source": [
    "top.id2fullname"
   ]
  },
  {
   "cell_type": "code",
   "execution_count": null,
   "id": "646955f9",
   "metadata": {},
   "outputs": [],
   "source": [
    "top.fullname2id"
   ]
  },
  {
   "cell_type": "code",
   "execution_count": null,
   "id": "e777ecea",
   "metadata": {},
   "outputs": [],
   "source": [
    "top.id2parentid"
   ]
  },
  {
   "cell_type": "code",
   "execution_count": null,
   "id": "6931a1cf",
   "metadata": {},
   "outputs": [],
   "source": [
    "top.id2childrenid"
   ]
  },
  {
   "cell_type": "code",
   "execution_count": 155,
   "id": "cbf91a39",
   "metadata": {},
   "outputs": [
    {
     "data": {
      "text/html": [
       "<div>\n",
       "<style scoped>\n",
       "    .dataframe tbody tr th:only-of-type {\n",
       "        vertical-align: middle;\n",
       "    }\n",
       "\n",
       "    .dataframe tbody tr th {\n",
       "        vertical-align: top;\n",
       "    }\n",
       "\n",
       "    .dataframe thead th {\n",
       "        text-align: right;\n",
       "    }\n",
       "</style>\n",
       "<table border=\"1\" class=\"dataframe\">\n",
       "  <thead>\n",
       "    <tr style=\"text-align: right;\">\n",
       "      <th></th>\n",
       "      <th>Group</th>\n",
       "      <th>Element</th>\n",
       "      <th>parenticon</th>\n",
       "      <th>icon</th>\n",
       "    </tr>\n",
       "  </thead>\n",
       "  <tbody>\n",
       "    <tr>\n",
       "      <th>0</th>\n",
       "      <td>gis</td>\n",
       "      <td>gis software</td>\n",
       "      <td>mdi-fire</td>\n",
       "      <td>mdi-anchor</td>\n",
       "    </tr>\n",
       "    <tr>\n",
       "      <th>1</th>\n",
       "      <td>geospatial</td>\n",
       "      <td>geospatial data</td>\n",
       "      <td>mdi-fire</td>\n",
       "      <td>mdi-anchor</td>\n",
       "    </tr>\n",
       "    <tr>\n",
       "      <th>2</th>\n",
       "      <td>geospatial</td>\n",
       "      <td>geospatial applications</td>\n",
       "      <td>mdi-fire</td>\n",
       "      <td>mdi-filmstrip</td>\n",
       "    </tr>\n",
       "    <tr>\n",
       "      <th>3</th>\n",
       "      <td>spatial analysis</td>\n",
       "      <td>spatial join</td>\n",
       "      <td>mdi-fire</td>\n",
       "      <td>mdi-firefox</td>\n",
       "    </tr>\n",
       "    <tr>\n",
       "      <th>4</th>\n",
       "      <td>spatial analysis</td>\n",
       "      <td>geospatial data tools</td>\n",
       "      <td>mdi-fire</td>\n",
       "      <td>mdi-football</td>\n",
       "    </tr>\n",
       "  </tbody>\n",
       "</table>\n",
       "</div>"
      ],
      "text/plain": [
       "              Group                  Element parenticon           icon\n",
       "0               gis             gis software   mdi-fire     mdi-anchor\n",
       "1        geospatial          geospatial data   mdi-fire     mdi-anchor\n",
       "2        geospatial  geospatial applications   mdi-fire  mdi-filmstrip\n",
       "3  spatial analysis             spatial join   mdi-fire    mdi-firefox\n",
       "4  spatial analysis    geospatial data tools   mdi-fire   mdi-football"
      ]
     },
     "metadata": {},
     "output_type": "display_data"
    },
    {
     "data": {
      "application/vnd.jupyter.widget-view+json": {
       "model_id": "0bf9194d0adc477ca7f84a5c8cad422b",
       "version_major": 2,
       "version_minor": 0
      },
      "text/plain": [
       "Card(children=[Html(children=[CustomTreeview(color='#f8bd1a', events=['activate', 'change_selection'], items=[…"
      ]
     },
     "metadata": {},
     "output_type": "display_data"
    }
   ],
   "source": [
    "# SELECTABLE TREE VIEW CREATED FROM TWO COLUMNS OF A PANDAS DATAFRAME\n",
    "%run treeview.py\n",
    "import random\n",
    "\n",
    "# Create a Pandas\n",
    "df = pd.DataFrame(columns=['Group','Element', 'parenticon', 'icon'])\n",
    "\n",
    "i = 0\n",
    "\n",
    "seta_output = [['gis', 'gis software'],\n",
    "               ['geospatial', 'geospatial data', 'geospatial applications'],\n",
    "               ['spatial analysis', 'spatial join', 'geospatial data tools']\n",
    "              ]\n",
    "\n",
    "icons = ['mdi-football', 'mdi-anchor', 'mdi-border-all', 'mdi-cloud', 'mdi-firefox', 'mdi-filmstrip', 'mdi-fire', 'mdi-flower']\n",
    "\n",
    "for group in seta_output:\n",
    "    name = group[0]\n",
    "    for element in group[1:]:\n",
    "        record = {'Group': name, 'Element': element, 'icon': random.choice(icons), 'parenticon': 'mdi-fire'}\n",
    "        df.at[i, :] = record\n",
    "        i = i+1\n",
    "\n",
    "display(df)\n",
    "\n",
    "def on_change(arg):\n",
    "    print(arg)\n",
    "\n",
    "# Display the tree\n",
    "tree = createTreeviewFromDF2Columns(df,'Group', 'Element', rootName='Terms', width='400px', height='250px', select_all=True,\n",
    "                                    repeat_parent_as_first_child=False, open_on_click=True, selectable=True, activatable=False, expand_selection_to_parents=True,\n",
    "                                    iconsshow=True, iconscolor='blue', iconsfolder=True, iconscolumnName1='parenticon', iconscolumnName2='icon', iconroot='mdi-fire',\n",
    "                                    #iconsshow=False, iconscolor='blue', iconsfolder=True, iconscolumnName2='icon', \n",
    "                                    tooltips=True, tooltips_chars=10, on_change=on_change, transition=True,\n",
    "                                    disabled=['Terms.gis', 'Terms.geospatial.geospatial data'], opened=['Terms', 'Terms.gis'])\n",
    "\n",
    "top = treeviewOperations(tree)\n",
    "\n",
    "tree"
   ]
  },
  {
   "cell_type": "code",
   "execution_count": 156,
   "id": "3cc5126f",
   "metadata": {},
   "outputs": [
    {
     "data": {
      "text/html": [
       "<div>\n",
       "<style scoped>\n",
       "    .dataframe tbody tr th:only-of-type {\n",
       "        vertical-align: middle;\n",
       "    }\n",
       "\n",
       "    .dataframe tbody tr th {\n",
       "        vertical-align: top;\n",
       "    }\n",
       "\n",
       "    .dataframe thead th {\n",
       "        text-align: right;\n",
       "    }\n",
       "</style>\n",
       "<table border=\"1\" class=\"dataframe\">\n",
       "  <thead>\n",
       "    <tr style=\"text-align: right;\">\n",
       "      <th></th>\n",
       "      <th>parent</th>\n",
       "      <th>child</th>\n",
       "      <th>nephew</th>\n",
       "    </tr>\n",
       "  </thead>\n",
       "  <tbody>\n",
       "    <tr>\n",
       "      <th>0</th>\n",
       "      <td>John</td>\n",
       "      <td>Mary</td>\n",
       "      <td>Johnny</td>\n",
       "    </tr>\n",
       "    <tr>\n",
       "      <th>1</th>\n",
       "      <td>John</td>\n",
       "      <td>Peter</td>\n",
       "      <td>Lisa</td>\n",
       "    </tr>\n",
       "    <tr>\n",
       "      <th>2</th>\n",
       "      <td>Ann</td>\n",
       "      <td>Hellen</td>\n",
       "      <td>July</td>\n",
       "    </tr>\n",
       "    <tr>\n",
       "      <th>3</th>\n",
       "      <td>Ann</td>\n",
       "      <td>Sue</td>\n",
       "      <td>Ellen</td>\n",
       "    </tr>\n",
       "    <tr>\n",
       "      <th>4</th>\n",
       "      <td>Ann</td>\n",
       "      <td>Claire</td>\n",
       "      <td>Pieter</td>\n",
       "    </tr>\n",
       "  </tbody>\n",
       "</table>\n",
       "</div>"
      ],
      "text/plain": [
       "  parent   child  nephew\n",
       "0   John    Mary  Johnny\n",
       "1   John   Peter    Lisa\n",
       "2    Ann  Hellen    July\n",
       "3    Ann     Sue   Ellen\n",
       "4    Ann  Claire  Pieter"
      ]
     },
     "metadata": {},
     "output_type": "display_data"
    },
    {
     "data": {
      "application/vnd.jupyter.widget-view+json": {
       "model_id": "ba711866a7d2424dafd21c2a231f52b6",
       "version_major": 2,
       "version_minor": 0
      },
      "text/plain": [
       "Card(children=[Html(children=[CustomTreeview(activatable=True, color='#f8bd1a', events=['activate', 'change_se…"
      ]
     },
     "metadata": {},
     "output_type": "display_data"
    }
   ],
   "source": [
    "# TREEVIEW FROM 3 COLUMNS OF A PANDAS DATAFRAME\n",
    "%run treeview.py\n",
    "import pandas as pd\n",
    "\n",
    "table = [['parent', 'child', 'nephew'], \n",
    "         ['John', 'Mary', 'Johnny'],\n",
    "         ['John', 'Peter', 'Lisa'], \n",
    "         ['Ann', 'Hellen', 'July'],\n",
    "         ['Ann', 'Sue', 'Ellen'],\n",
    "         ['Ann', 'Claire', 'Pieter']]\n",
    "\n",
    "headers = table.pop(0)\n",
    "df = pd.DataFrame(table, columns=headers)\n",
    "display(df)\n",
    "\n",
    "def on_change(arg):\n",
    "    print(arg)\n",
    "\n",
    "def on_activated(arg):\n",
    "    print(arg)\n",
    "    \n",
    "treecard = createTreeviewFromDF3Columns(df, headers[0], headers[1], headers[2], \n",
    "                                        rootName='Families', activatable=True,\n",
    "                                        select_all=True, opened_all=True,\n",
    "                                        on_change=on_change, on_activated=on_activated)\n",
    "display(treecard)\n"
   ]
  },
  {
   "cell_type": "code",
   "execution_count": null,
   "id": "8a3bba13",
   "metadata": {},
   "outputs": [],
   "source": []
  }
 ],
 "metadata": {
  "kernelspec": {
   "display_name": "Python 3 (ipykernel)",
   "language": "python",
   "name": "python3"
  },
  "language_info": {
   "codemirror_mode": {
    "name": "ipython",
    "version": 3
   },
   "file_extension": ".py",
   "mimetype": "text/x-python",
   "name": "python",
   "nbconvert_exporter": "python",
   "pygments_lexer": "ipython3",
   "version": "3.7.13"
  }
 },
 "nbformat": 4,
 "nbformat_minor": 5
}
