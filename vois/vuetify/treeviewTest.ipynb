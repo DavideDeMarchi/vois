{
 "cells": [
  {
   "cell_type": "code",
   "execution_count": 20,
   "id": "a277a70d",
   "metadata": {},
   "outputs": [],
   "source": [
    "import ipyvuetify as v\n",
    "import pandas as pd"
   ]
  },
  {
   "cell_type": "code",
   "execution_count": 73,
   "id": "ef9a92b2",
   "metadata": {},
   "outputs": [
    {
     "data": {
      "application/vnd.jupyter.widget-view+json": {
       "model_id": "042c0de7681c4f188869f3fcaf53ce73",
       "version_major": 2,
       "version_minor": 0
      },
      "text/plain": [
       "Card(children=[Html(children=[CustomTreeview(active=4, color='green', events=['activate', 'change_selection'],…"
      ]
     },
     "metadata": {},
     "output_type": "display_data"
    }
   ],
   "source": [
    "# TREE VIEW CREATED FROM A LIST OF STRINGS\n",
    "%run treeview.py\n",
    "\n",
    "def on_change(arg):\n",
    "    print(arg)\n",
    "    \n",
    "def on_activated(arg):\n",
    "    print(arg)\n",
    "\n",
    "treecard = createTreeviewFromList(['A','A.1','A.2','A.1.1','A.3.1','A.4.1.2','A.5.2.1','A.4.2.3.1','B','B.A'], separator='.', rootName='Root', expand_selection_to_parents=False, \n",
    "                                  substitutionDict={'A.1': 'A.1 new name'}, color='green', dark=False, width='500px', height='350px', on_change=on_change, on_activated=on_activated,\n",
    "                                  selectable=True, activatable=False, active='A.2', opened=['Root', 'A', 'A.3'], displayfullname=True, \n",
    "                                  disabled=['A.1', 'A.3'], tooltips=True, tooltips_chars=0, iconsshow=True, iconscolor='green', open_on_click=True,\n",
    "                                  iconsDict={'A.2': 'mdi-fire', 'A.4.1.2': 'mdi-anchor'}, iconsfolder=True, select_all=False, selected=['A.1.1','A.3.1','A.4.1.2','A.5.2.1'])\n",
    "treecard"
   ]
  },
  {
   "cell_type": "code",
   "execution_count": 74,
   "id": "0052c608",
   "metadata": {},
   "outputs": [],
   "source": [
    "top = treeviewOperations(treecard)"
   ]
  },
  {
   "cell_type": "code",
   "execution_count": 75,
   "id": "db837006",
   "metadata": {},
   "outputs": [],
   "source": [
    "top.openAll()"
   ]
  },
  {
   "cell_type": "code",
   "execution_count": 67,
   "id": "1a354830",
   "metadata": {},
   "outputs": [],
   "source": [
    "top.setSearch('A.4')"
   ]
  },
  {
   "cell_type": "code",
   "execution_count": 68,
   "id": "3e2db463",
   "metadata": {},
   "outputs": [
    {
     "data": {
      "text/plain": [
       "'A.2'"
      ]
     },
     "execution_count": 68,
     "metadata": {},
     "output_type": "execute_result"
    }
   ],
   "source": [
    "top.getActive()"
   ]
  },
  {
   "cell_type": "code",
   "execution_count": 69,
   "id": "354d20b7",
   "metadata": {},
   "outputs": [],
   "source": [
    "top.setOpened([])"
   ]
  },
  {
   "cell_type": "code",
   "execution_count": 70,
   "id": "9d07a6a9",
   "metadata": {},
   "outputs": [],
   "source": [
    "top.setActive('A.1.1')"
   ]
  },
  {
   "cell_type": "code",
   "execution_count": null,
   "id": "ed81ad6e",
   "metadata": {},
   "outputs": [],
   "source": [
    "top.setActive('Root')"
   ]
  },
  {
   "cell_type": "code",
   "execution_count": null,
   "id": "3f529189",
   "metadata": {},
   "outputs": [],
   "source": [
    "top.getOpened()"
   ]
  },
  {
   "cell_type": "code",
   "execution_count": null,
   "id": "3575f217",
   "metadata": {},
   "outputs": [],
   "source": [
    "top.setOpened(['Root', 'A', 'A.3'])"
   ]
  },
  {
   "cell_type": "code",
   "execution_count": null,
   "id": "d4e85e00",
   "metadata": {},
   "outputs": [],
   "source": [
    "top.id2fullname"
   ]
  },
  {
   "cell_type": "code",
   "execution_count": null,
   "id": "e4c66a8a",
   "metadata": {},
   "outputs": [],
   "source": [
    "top.fullname2id"
   ]
  },
  {
   "cell_type": "code",
   "execution_count": null,
   "id": "54562784",
   "metadata": {},
   "outputs": [],
   "source": [
    "top.id2parentid"
   ]
  },
  {
   "cell_type": "code",
   "execution_count": null,
   "id": "fc44d2a5",
   "metadata": {},
   "outputs": [],
   "source": [
    "top.id2childrenid"
   ]
  },
  {
   "cell_type": "code",
   "execution_count": 76,
   "id": "80a570e8",
   "metadata": {},
   "outputs": [
    {
     "data": {
      "text/html": [
       "<div>\n",
       "<style scoped>\n",
       "    .dataframe tbody tr th:only-of-type {\n",
       "        vertical-align: middle;\n",
       "    }\n",
       "\n",
       "    .dataframe tbody tr th {\n",
       "        vertical-align: top;\n",
       "    }\n",
       "\n",
       "    .dataframe thead th {\n",
       "        text-align: right;\n",
       "    }\n",
       "</style>\n",
       "<table border=\"1\" class=\"dataframe\">\n",
       "  <thead>\n",
       "    <tr style=\"text-align: right;\">\n",
       "      <th></th>\n",
       "      <th>Group</th>\n",
       "      <th>Element</th>\n",
       "      <th>parenticon</th>\n",
       "      <th>icon</th>\n",
       "    </tr>\n",
       "  </thead>\n",
       "  <tbody>\n",
       "    <tr>\n",
       "      <th>0</th>\n",
       "      <td>gis</td>\n",
       "      <td>gis software</td>\n",
       "      <td>mdi-fire</td>\n",
       "      <td>mdi-filmstrip</td>\n",
       "    </tr>\n",
       "    <tr>\n",
       "      <th>1</th>\n",
       "      <td>geospatial</td>\n",
       "      <td>geospatial data</td>\n",
       "      <td>mdi-fire</td>\n",
       "      <td>mdi-cloud</td>\n",
       "    </tr>\n",
       "    <tr>\n",
       "      <th>2</th>\n",
       "      <td>geospatial</td>\n",
       "      <td>geospatial applications</td>\n",
       "      <td>mdi-fire</td>\n",
       "      <td>mdi-flower</td>\n",
       "    </tr>\n",
       "    <tr>\n",
       "      <th>3</th>\n",
       "      <td>spatial analysis</td>\n",
       "      <td>spatial join</td>\n",
       "      <td>mdi-fire</td>\n",
       "      <td>mdi-filmstrip</td>\n",
       "    </tr>\n",
       "    <tr>\n",
       "      <th>4</th>\n",
       "      <td>spatial analysis</td>\n",
       "      <td>geospatial data tools</td>\n",
       "      <td>mdi-fire</td>\n",
       "      <td>mdi-anchor</td>\n",
       "    </tr>\n",
       "  </tbody>\n",
       "</table>\n",
       "</div>"
      ],
      "text/plain": [
       "              Group                  Element parenticon           icon\n",
       "0               gis             gis software   mdi-fire  mdi-filmstrip\n",
       "1        geospatial          geospatial data   mdi-fire      mdi-cloud\n",
       "2        geospatial  geospatial applications   mdi-fire     mdi-flower\n",
       "3  spatial analysis             spatial join   mdi-fire  mdi-filmstrip\n",
       "4  spatial analysis    geospatial data tools   mdi-fire     mdi-anchor"
      ]
     },
     "metadata": {},
     "output_type": "display_data"
    },
    {
     "data": {
      "application/vnd.jupyter.widget-view+json": {
       "model_id": "3fee7f8e59c243359658b706f24da004",
       "version_major": 2,
       "version_minor": 0
      },
      "text/plain": [
       "Card(children=[Html(children=[CustomTreeview(color='#f8bd1a', events=['activate', 'change_selection'], items=[…"
      ]
     },
     "metadata": {},
     "output_type": "display_data"
    }
   ],
   "source": [
    "# SELECTABLE TREE VIEW CREATED FROM TWO COLUMNS OF A PANDAS DATAFRAME\n",
    "%run treeview.py\n",
    "import random\n",
    "\n",
    "# Create a Pandas\n",
    "df = pd.DataFrame(columns=['Group','Element', 'parenticon', 'icon'])\n",
    "\n",
    "i = 0\n",
    "\n",
    "seta_output = [['gis', 'gis software'],\n",
    "               ['geospatial', 'geospatial data', 'geospatial applications'],\n",
    "               ['spatial analysis', 'spatial join', 'geospatial data tools']\n",
    "              ]\n",
    "\n",
    "icons = ['mdi-football', 'mdi-anchor', 'mdi-border-all', 'mdi-cloud', 'mdi-firefox', 'mdi-filmstrip', 'mdi-fire', 'mdi-flower']\n",
    "\n",
    "for group in seta_output:\n",
    "    name = group[0]\n",
    "    for element in group[1:]:\n",
    "        record = {'Group': name, 'Element': element, 'icon': random.choice(icons), 'parenticon': 'mdi-fire'}\n",
    "        df.at[i, :] = record\n",
    "        i = i+1\n",
    "\n",
    "display(df)\n",
    "\n",
    "def on_change(arg):\n",
    "    print(arg)\n",
    "\n",
    "# Display the tree\n",
    "tree = createTreeviewFromDF2Columns(df,'Group', 'Element', rootName='Terms', width='400px', height='250px', select_all=True,\n",
    "                                    repeat_parent_as_first_child=False, open_on_click=True, selectable=True, activatable=False, expand_selection_to_parents=True,\n",
    "                                    iconsshow=True, iconscolor='blue', iconsfolder=True, iconscolumnName1='parenticon', iconscolumnName2='icon', iconroot='mdi-fire',\n",
    "                                    #iconsshow=False, iconscolor='blue', iconsfolder=True, iconscolumnName2='icon', \n",
    "                                    tooltips=True, tooltips_chars=10, on_change=on_change, transition=True,\n",
    "                                    disabled=['Terms.gis', 'Terms.geospatial.geospatial data'], opened=['Terms', 'Terms.gis'])\n",
    "\n",
    "top = treeviewOperations(tree)\n",
    "\n",
    "tree"
   ]
  },
  {
   "cell_type": "code",
   "execution_count": 77,
   "id": "b3392be9",
   "metadata": {},
   "outputs": [
    {
     "data": {
      "text/html": [
       "<div>\n",
       "<style scoped>\n",
       "    .dataframe tbody tr th:only-of-type {\n",
       "        vertical-align: middle;\n",
       "    }\n",
       "\n",
       "    .dataframe tbody tr th {\n",
       "        vertical-align: top;\n",
       "    }\n",
       "\n",
       "    .dataframe thead th {\n",
       "        text-align: right;\n",
       "    }\n",
       "</style>\n",
       "<table border=\"1\" class=\"dataframe\">\n",
       "  <thead>\n",
       "    <tr style=\"text-align: right;\">\n",
       "      <th></th>\n",
       "      <th>parent</th>\n",
       "      <th>child</th>\n",
       "      <th>nephew</th>\n",
       "    </tr>\n",
       "  </thead>\n",
       "  <tbody>\n",
       "    <tr>\n",
       "      <th>0</th>\n",
       "      <td>John</td>\n",
       "      <td>Mary</td>\n",
       "      <td>Johnny</td>\n",
       "    </tr>\n",
       "    <tr>\n",
       "      <th>1</th>\n",
       "      <td>John</td>\n",
       "      <td>Peter</td>\n",
       "      <td>Lisa</td>\n",
       "    </tr>\n",
       "    <tr>\n",
       "      <th>2</th>\n",
       "      <td>Ann</td>\n",
       "      <td>Hellen</td>\n",
       "      <td>July</td>\n",
       "    </tr>\n",
       "    <tr>\n",
       "      <th>3</th>\n",
       "      <td>Ann</td>\n",
       "      <td>Sue</td>\n",
       "      <td>Ellen</td>\n",
       "    </tr>\n",
       "    <tr>\n",
       "      <th>4</th>\n",
       "      <td>Ann</td>\n",
       "      <td>Claire</td>\n",
       "      <td>Pieter</td>\n",
       "    </tr>\n",
       "  </tbody>\n",
       "</table>\n",
       "</div>"
      ],
      "text/plain": [
       "  parent   child  nephew\n",
       "0   John    Mary  Johnny\n",
       "1   John   Peter    Lisa\n",
       "2    Ann  Hellen    July\n",
       "3    Ann     Sue   Ellen\n",
       "4    Ann  Claire  Pieter"
      ]
     },
     "metadata": {},
     "output_type": "display_data"
    },
    {
     "data": {
      "application/vnd.jupyter.widget-view+json": {
       "model_id": "f7fa6d4b4da941d89186ce9c906df924",
       "version_major": 2,
       "version_minor": 0
      },
      "text/plain": [
       "Card(children=[Html(children=[CustomTreeview(activatable=True, color='#f8bd1a', events=['activate', 'change_se…"
      ]
     },
     "metadata": {},
     "output_type": "display_data"
    }
   ],
   "source": [
    "# TREEVIEW FROM 3 COLUMNS OF A PANDAS DATAFRAME\n",
    "%run treeview.py\n",
    "import pandas as pd\n",
    "\n",
    "table = [['parent', 'child', 'nephew'], \n",
    "         ['John', 'Mary', 'Johnny'],\n",
    "         ['John', 'Peter', 'Lisa'], \n",
    "         ['Ann', 'Hellen', 'July'],\n",
    "         ['Ann', 'Sue', 'Ellen'],\n",
    "         ['Ann', 'Claire', 'Pieter']]\n",
    "\n",
    "headers = table.pop(0)\n",
    "df = pd.DataFrame(table, columns=headers)\n",
    "display(df)\n",
    "\n",
    "def on_change(arg):\n",
    "    print(arg)\n",
    "\n",
    "def on_activated(arg):\n",
    "    print(arg)\n",
    "    \n",
    "treecard = createTreeviewFromDF3Columns(df, headers[0], headers[1], headers[2], \n",
    "                                        rootName='Families', activatable=True,\n",
    "                                        select_all=True, opened_all=True,\n",
    "                                        on_change=on_change, on_activated=on_activated)\n",
    "display(treecard)\n"
   ]
  },
  {
   "cell_type": "code",
   "execution_count": null,
   "id": "f50ad0f5",
   "metadata": {},
   "outputs": [],
   "source": []
  }
 ],
 "metadata": {
  "kernelspec": {
   "display_name": "Python 3 (ipykernel)",
   "language": "python",
   "name": "python3"
  },
  "language_info": {
   "codemirror_mode": {
    "name": "ipython",
    "version": 3
   },
   "file_extension": ".py",
   "mimetype": "text/x-python",
   "name": "python",
   "nbconvert_exporter": "python",
   "pygments_lexer": "ipython3",
   "version": "3.7.13"
  }
 },
 "nbformat": 4,
 "nbformat_minor": 5
}
