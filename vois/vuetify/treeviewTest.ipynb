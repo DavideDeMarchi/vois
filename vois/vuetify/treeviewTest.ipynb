{
 "cells": [
  {
   "cell_type": "code",
   "execution_count": null,
   "id": "e94e4cd9",
   "metadata": {},
   "outputs": [],
   "source": [
    "import ipyvuetify as v\n",
    "import pandas as pd"
   ]
  },
  {
   "cell_type": "code",
   "execution_count": null,
   "id": "f60545f7",
   "metadata": {},
   "outputs": [],
   "source": [
    "# TREEVIEW CREATED FROM A HIERARCHICAL LIST OF STRINGS\n",
    "%run treeview.py\n",
    "\n",
    "def on_change(arg):\n",
    "    print(arg)\n",
    "    \n",
    "def on_activated(arg):\n",
    "    print(arg)\n",
    "\n",
    "treecard = createTreeviewFromList(['A','A.1','A.2','A.1.1','A.3.1','A.4.1.2','A.5.2.1','A.4.2.3.1','B','B.A'], separator='.', rootName='Root', expand_selection_to_parents=False, \n",
    "                                  substitutionDict={'A.1': 'A.1 new name'}, color='green', dark=False, width='500px', height='350px', on_change=on_change, on_activated=on_activated,\n",
    "                                  selectable=True, activatable=False, opened=['Root', 'A', 'A.3'], displayfullname=True, #active='A.2', \n",
    "                                  disabled=['A.1', 'A.3'], tooltips=True, tooltips_chars=0, iconsshow=True, iconscolor='green', open_on_click=True,\n",
    "                                  iconsDict={'A.2': 'mdi-fire', 'A.4.1.2': 'mdi-anchor'}, iconsfolder=True, select_all=False, selected=['A.1.1','A.3.1','A.4.1.2','A.5.2.1'])\n",
    "treecard"
   ]
  },
  {
   "cell_type": "code",
   "execution_count": null,
   "id": "feb0d60a",
   "metadata": {},
   "outputs": [],
   "source": [
    "# FLAT TREEVIEW CREATED FROM A LIST OF STRINGS\n",
    "%run treeview.py\n",
    "\n",
    "def on_change(arg):\n",
    "    print('Selected: ', arg)\n",
    "\n",
    "def on_activated(arg):\n",
    "    print('Active: ', arg)\n",
    "    \n",
    "treecard = createFlatTreeview(['A','B','C','D','E'], \n",
    "                              color='green', dark=False, width='500px', height='120px',\n",
    "                              selectable=True, activatable=True, displayfullname=True, \n",
    "                              select_all=False, selected=['B','D'],\n",
    "                              on_change=on_change,\n",
    "                              on_activated=on_activated)\n",
    "treecard"
   ]
  },
  {
   "cell_type": "code",
   "execution_count": null,
   "id": "19d20d98",
   "metadata": {},
   "outputs": [],
   "source": [
    "top = treeviewOperations(treecard)\n",
    "top.getSelected()"
   ]
  },
  {
   "cell_type": "code",
   "execution_count": null,
   "id": "a70ee671",
   "metadata": {},
   "outputs": [],
   "source": [
    "top.setSelected([])"
   ]
  },
  {
   "cell_type": "code",
   "execution_count": null,
   "id": "66354070",
   "metadata": {},
   "outputs": [],
   "source": [
    "# DYNAMIC ADDING OF CHILDREN TO A TREEVIEW\n",
    "%run treeview.py\n",
    "\n",
    "def on_activated(arg):\n",
    "    if arg == 'A':\n",
    "        if len(top.getChildren(arg)) == 0:\n",
    "            top.setChildren('A', ['A.1', 'A.2'])\n",
    "            op = top.getOpened()\n",
    "            top.setActive(arg)\n",
    "            op.append(arg)\n",
    "            top.setOpened(op)\n",
    "            #print(top.getOpened())\n",
    "    elif arg == 'B':\n",
    "        if len(top.getChildren(arg)) == 0:\n",
    "            top.setChildren('B', ['B.1', 'B.2', 'B.3'])\n",
    "            top.setActive(arg)\n",
    "            op = top.getOpened()\n",
    "            op.append(arg)\n",
    "            top.setOpened(op)\n",
    "            #print(top.getOpened())\n",
    "        \n",
    "\n",
    "treecard = createTreeviewFromList(['A','B'], separator='.', rootName='Root', expand_selection_to_parents=False, \n",
    "                                  color='green', dark=False, width='500px', height='500px', on_activated=on_activated,\n",
    "                                  selectable=False, activatable=True, displayfullname=True)\n",
    "\n",
    "top = treeviewOperations(treecard)\n",
    "\n",
    "treecard"
   ]
  },
  {
   "cell_type": "code",
   "execution_count": null,
   "id": "93f97e95",
   "metadata": {},
   "outputs": [],
   "source": [
    "top.setChildren('B', ['B.1', 'B.2', 'B.3'])"
   ]
  },
  {
   "cell_type": "code",
   "execution_count": null,
   "id": "52e39f19",
   "metadata": {},
   "outputs": [],
   "source": [
    "top.setActive('A')"
   ]
  },
  {
   "cell_type": "code",
   "execution_count": null,
   "id": "600d7e62",
   "metadata": {},
   "outputs": [],
   "source": [
    "top.getOpened()"
   ]
  },
  {
   "cell_type": "code",
   "execution_count": null,
   "id": "f5e3c036",
   "metadata": {},
   "outputs": [],
   "source": [
    "top.treeview.opened"
   ]
  },
  {
   "cell_type": "code",
   "execution_count": null,
   "id": "e8e9d6bf",
   "metadata": {},
   "outputs": [],
   "source": [
    "top.getChildren('B')"
   ]
  },
  {
   "cell_type": "code",
   "execution_count": null,
   "id": "e4ef803a",
   "metadata": {},
   "outputs": [],
   "source": [
    "top.setChildren('B', ['B.1', 'B.2', 'B.3'])"
   ]
  },
  {
   "cell_type": "code",
   "execution_count": null,
   "id": "92728e86",
   "metadata": {},
   "outputs": [],
   "source": [
    "top.setChildren('A', ['A.1', 'A.2'])"
   ]
  },
  {
   "cell_type": "code",
   "execution_count": null,
   "id": "52ad2c51",
   "metadata": {},
   "outputs": [],
   "source": [
    "top.getChildren('A')"
   ]
  },
  {
   "cell_type": "code",
   "execution_count": null,
   "id": "df025818",
   "metadata": {},
   "outputs": [],
   "source": [
    "top.setChildren('A', [])"
   ]
  },
  {
   "cell_type": "code",
   "execution_count": null,
   "id": "635ee97c",
   "metadata": {},
   "outputs": [],
   "source": [
    "top.treeview.items = [{'id': 1,\n",
    "  'name': 'Root',\n",
    "  'fullname': 'Root',\n",
    "  'children': [{'id': 2, 'name': 'A', 'fullname': 'A', 'children': [{'id': 4, 'name': 'A.1', 'fullname': 'A.1'}, {'id': 5, 'name': 'A.2', 'fullname': 'A.2'}]},\n",
    "   {'id': 3, 'name': 'B', 'fullname': 'B', 'children': [{'id': 6, 'name': 'B.1', 'fullname': 'B.1'}, {'id': 7, 'name': 'B.2', 'fullname': 'B.2'}]}]}]"
   ]
  },
  {
   "cell_type": "code",
   "execution_count": null,
   "id": "976e5968",
   "metadata": {},
   "outputs": [],
   "source": [
    "top.treeview.items[0]"
   ]
  },
  {
   "cell_type": "code",
   "execution_count": null,
   "id": "cf60be9b",
   "metadata": {},
   "outputs": [],
   "source": [
    "top.setActive('A')"
   ]
  },
  {
   "cell_type": "code",
   "execution_count": null,
   "id": "0d00cb3b",
   "metadata": {},
   "outputs": [],
   "source": [
    "top.getActive()"
   ]
  },
  {
   "cell_type": "code",
   "execution_count": null,
   "id": "27872d42",
   "metadata": {},
   "outputs": [],
   "source": []
  },
  {
   "cell_type": "code",
   "execution_count": null,
   "id": "06bb6917",
   "metadata": {},
   "outputs": [],
   "source": [
    "# SIMPLE TREE VIEW CREATED FROM A LIST OF STRINGS\n",
    "%run treeview.py\n",
    "\n",
    "def on_change(arg):\n",
    "    print(arg)\n",
    "    \n",
    "def on_activated(arg):\n",
    "    print('Active: ', arg)\n",
    "    \n",
    "treecard = createTreeviewFromList(['A','A.1','A.2','A.1.1','A.3.1','A.4.1.2','A.5.2.1','A.4.2.3.1','B','B.A'], separator='.', rootName='Root', expand_selection_to_parents=False, \n",
    "                                  color='green', dark=False, width='500px', height='550px', on_change=on_change, on_activated=on_activated,\n",
    "                                  selectable=True, activatable=False, opened_all=True, displayfullname=True, \n",
    "                                  select_all=False, selected=['A.1.1','A.3.1','A.4.1.2','A.5.2.1'])\n",
    "treecard"
   ]
  },
  {
   "cell_type": "code",
   "execution_count": null,
   "id": "4b437555",
   "metadata": {},
   "outputs": [],
   "source": [
    "top = treeviewOperations(treecard)"
   ]
  },
  {
   "cell_type": "code",
   "execution_count": null,
   "id": "84080575",
   "metadata": {},
   "outputs": [],
   "source": [
    "top.treeview.selected = [5,7]"
   ]
  },
  {
   "cell_type": "code",
   "execution_count": null,
   "id": "c7df7166",
   "metadata": {},
   "outputs": [],
   "source": [
    "top.getSelected()"
   ]
  },
  {
   "cell_type": "code",
   "execution_count": null,
   "id": "7e307ba5",
   "metadata": {},
   "outputs": [],
   "source": [
    "top.setSelected(['A.2'])"
   ]
  },
  {
   "cell_type": "code",
   "execution_count": null,
   "id": "f2e82e5c",
   "metadata": {},
   "outputs": [],
   "source": [
    "top.openAll()"
   ]
  },
  {
   "cell_type": "code",
   "execution_count": null,
   "id": "ad3a3164",
   "metadata": {},
   "outputs": [],
   "source": [
    "top.setSearch('A.4')"
   ]
  },
  {
   "cell_type": "code",
   "execution_count": null,
   "id": "e3e9ffb0",
   "metadata": {},
   "outputs": [],
   "source": [
    "top.getActive()"
   ]
  },
  {
   "cell_type": "code",
   "execution_count": null,
   "id": "61e68b7a",
   "metadata": {},
   "outputs": [],
   "source": [
    "top.setOpened([])"
   ]
  },
  {
   "cell_type": "code",
   "execution_count": null,
   "id": "a5298faf",
   "metadata": {},
   "outputs": [],
   "source": [
    "top.setActive('A.1.1')"
   ]
  },
  {
   "cell_type": "code",
   "execution_count": null,
   "id": "671dbe1e",
   "metadata": {},
   "outputs": [],
   "source": [
    "top.setActive('Root')"
   ]
  },
  {
   "cell_type": "code",
   "execution_count": null,
   "id": "171d94cc",
   "metadata": {},
   "outputs": [],
   "source": [
    "top.getOpened()"
   ]
  },
  {
   "cell_type": "code",
   "execution_count": null,
   "id": "c0940404",
   "metadata": {},
   "outputs": [],
   "source": [
    "top.setOpened(['Root', 'A', 'A.3'])"
   ]
  },
  {
   "cell_type": "code",
   "execution_count": null,
   "id": "6b92d777",
   "metadata": {},
   "outputs": [],
   "source": [
    "top.id2fullname"
   ]
  },
  {
   "cell_type": "code",
   "execution_count": null,
   "id": "6c0d4c92",
   "metadata": {},
   "outputs": [],
   "source": [
    "top.fullname2id"
   ]
  },
  {
   "cell_type": "code",
   "execution_count": null,
   "id": "0651d167",
   "metadata": {},
   "outputs": [],
   "source": [
    "top.id2parentid"
   ]
  },
  {
   "cell_type": "code",
   "execution_count": null,
   "id": "dda06928",
   "metadata": {},
   "outputs": [],
   "source": [
    "top.id2childrenid"
   ]
  },
  {
   "cell_type": "code",
   "execution_count": null,
   "id": "9206f466",
   "metadata": {},
   "outputs": [],
   "source": [
    "# SELECTABLE TREE VIEW CREATED FROM TWO COLUMNS OF A PANDAS DATAFRAME\n",
    "%run treeview.py\n",
    "import random\n",
    "\n",
    "# Create a Pandas\n",
    "df = pd.DataFrame(columns=['Group','Element', 'parenticon', 'icon'])\n",
    "\n",
    "i = 0\n",
    "\n",
    "seta_output = [['gis', 'gis software'],\n",
    "               ['geospatial', 'geospatial data', 'geospatial applications'],\n",
    "               ['spatial analysis', 'spatial join', 'geospatial data tools']\n",
    "              ]\n",
    "\n",
    "icons = ['mdi-football', 'mdi-anchor', 'mdi-border-all', 'mdi-cloud', 'mdi-firefox', 'mdi-filmstrip', 'mdi-fire', 'mdi-flower']\n",
    "\n",
    "for group in seta_output:\n",
    "    name = group[0]\n",
    "    for element in group[1:]:\n",
    "        record = {'Group': name, 'Element': element, 'icon': random.choice(icons), 'parenticon': 'mdi-fire'}\n",
    "        df.at[i, :] = record\n",
    "        i = i+1\n",
    "\n",
    "display(df)\n",
    "\n",
    "def on_change(arg):\n",
    "    print(arg)\n",
    "\n",
    "# Display the tree\n",
    "tree = createTreeviewFromDF2Columns(df,'Group', 'Element', rootName='Terms', width='400px', height='250px', select_all=True,\n",
    "                                    repeat_parent_as_first_child=False, open_on_click=True, selectable=True, activatable=False, expand_selection_to_parents=True,\n",
    "                                    iconsshow=True, iconscolor='blue', iconsfolder=True, iconscolumnName1='parenticon', iconscolumnName2='icon', iconroot='mdi-fire',\n",
    "                                    #iconsshow=False, iconscolor='blue', iconsfolder=True, iconscolumnName2='icon', \n",
    "                                    tooltips=True, tooltips_chars=10, on_change=on_change, transition=True,\n",
    "                                    disabled=['Terms.gis', 'Terms.geospatial.geospatial data'], opened=['Terms', 'Terms.gis'])\n",
    "\n",
    "top = treeviewOperations(tree)\n",
    "\n",
    "tree"
   ]
  },
  {
   "cell_type": "code",
   "execution_count": null,
   "id": "1fcc4967",
   "metadata": {},
   "outputs": [],
   "source": [
    "# TREEVIEW FROM 3 COLUMNS OF A PANDAS DATAFRAME\n",
    "%run treeview.py\n",
    "import pandas as pd\n",
    "\n",
    "table = [['parent', 'child', 'nephew'], \n",
    "         ['John', 'Mary', 'Johnny'],\n",
    "         ['John', 'Peter', 'Lisa'], \n",
    "         ['Ann', 'Hellen', 'July'],\n",
    "         ['Ann', 'Sue', 'Ellen'],\n",
    "         ['Ann', 'Claire', 'Pieter']]\n",
    "\n",
    "headers = table.pop(0)\n",
    "df = pd.DataFrame(table, columns=headers)\n",
    "display(df)\n",
    "\n",
    "def on_change(arg):\n",
    "    print(arg)\n",
    "\n",
    "def on_activated(arg):\n",
    "    print(arg)\n",
    "    \n",
    "treecard = createTreeviewFromDF3Columns(df, headers[0], headers[1], headers[2], \n",
    "                                        rootName='Families', activatable=True,\n",
    "                                        select_all=True, opened_all=True,\n",
    "                                        on_change=on_change, on_activated=on_activated)\n",
    "display(treecard)\n"
   ]
  },
  {
   "cell_type": "code",
   "execution_count": null,
   "id": "49518536",
   "metadata": {},
   "outputs": [],
   "source": []
  }
 ],
 "metadata": {
  "kernelspec": {
   "display_name": "Python 3 (ipykernel)",
   "language": "python",
   "name": "python3"
  },
  "language_info": {
   "codemirror_mode": {
    "name": "ipython",
    "version": 3
   },
   "file_extension": ".py",
   "mimetype": "text/x-python",
   "name": "python",
   "nbconvert_exporter": "python",
   "pygments_lexer": "ipython3",
   "version": "3.7.13"
  }
 },
 "nbformat": 4,
 "nbformat_minor": 5
}
