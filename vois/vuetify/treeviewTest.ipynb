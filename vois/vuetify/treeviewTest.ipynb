{
 "cells": [
  {
   "cell_type": "code",
   "execution_count": 1,
   "id": "cfb5c7b3",
   "metadata": {},
   "outputs": [],
   "source": [
    "import ipyvuetify as v\n",
    "import pandas as pd"
   ]
  },
  {
   "cell_type": "code",
   "execution_count": 1,
   "id": "6b7f2edf",
   "metadata": {},
   "outputs": [
    {
     "data": {
      "application/vnd.jupyter.widget-view+json": {
       "model_id": "43cd779afd1d451cb88e2074a4b87ad3",
       "version_major": 2,
       "version_minor": 0
      },
      "text/plain": [
       "Card(children=[Html(children=[CustomTreeview(active=4, color='green', events=['activate', 'change_selection'],…"
      ]
     },
     "metadata": {},
     "output_type": "display_data"
    }
   ],
   "source": [
    "# TREE VIEW CREATED FROM A LIST OF STRINGS\n",
    "%run treeview.py\n",
    "\n",
    "def on_change(arg):\n",
    "    print(arg)\n",
    "    \n",
    "def on_activated(arg):\n",
    "    print(arg)\n",
    "\n",
    "treecard = createTreeviewFromList(['A','A.1','A.2','A.1.1','A.3.1','A.4.1.2','A.5.2.1','A.4.2.3.1','B','B.A'], separator='.', rootName='Root', expand_selection_to_parents=False, \n",
    "                                  substitutionDict={'A.1': 'A.1 new name'}, color='green', dark=False, width='500px', height='350px', on_change=on_change, on_activated=on_activated,\n",
    "                                  selectable=True, activatable=False, active='A.2', opened=['Root', 'A', 'A.3'], displayfullname=True, \n",
    "                                  disabled=['A.1', 'A.3'], tooltips=True, tooltips_chars=0, iconsshow=True, iconscolor='green', open_on_click=True,\n",
    "                                  iconsDict={'A.2': 'mdi-fire', 'A.4.1.2': 'mdi-anchor'}, iconsfolder=True, select_all=False, selected=['A.1.1','A.3.1','A.4.1.2','A.5.2.1'])\n",
    "treecard"
   ]
  },
  {
   "cell_type": "code",
   "execution_count": 3,
   "id": "80a81a0a",
   "metadata": {},
   "outputs": [],
   "source": [
    "top = treeviewOperations(treecard)"
   ]
  },
  {
   "cell_type": "code",
   "execution_count": 13,
   "id": "d689fb8f",
   "metadata": {},
   "outputs": [],
   "source": [
    "top.openAll()"
   ]
  },
  {
   "cell_type": "code",
   "execution_count": 7,
   "id": "18a6bb35",
   "metadata": {},
   "outputs": [],
   "source": [
    "top.setSearch('A.4')"
   ]
  },
  {
   "cell_type": "code",
   "execution_count": null,
   "id": "28291d6d",
   "metadata": {},
   "outputs": [],
   "source": [
    "top.getActive()"
   ]
  },
  {
   "cell_type": "code",
   "execution_count": null,
   "id": "7fba5a4a",
   "metadata": {},
   "outputs": [],
   "source": [
    "top.setOpened([])"
   ]
  },
  {
   "cell_type": "code",
   "execution_count": null,
   "id": "9b1cee80",
   "metadata": {},
   "outputs": [],
   "source": [
    "top.setActive('A.1.1')"
   ]
  },
  {
   "cell_type": "code",
   "execution_count": null,
   "id": "91932a0c",
   "metadata": {},
   "outputs": [],
   "source": [
    "top.setActive('Root')"
   ]
  },
  {
   "cell_type": "code",
   "execution_count": null,
   "id": "6e337e33",
   "metadata": {},
   "outputs": [],
   "source": [
    "top.getOpened()"
   ]
  },
  {
   "cell_type": "code",
   "execution_count": null,
   "id": "be95a14d",
   "metadata": {},
   "outputs": [],
   "source": [
    "top.setOpened(['Root', 'A', 'A.3'])"
   ]
  },
  {
   "cell_type": "code",
   "execution_count": null,
   "id": "357f0ad8",
   "metadata": {},
   "outputs": [],
   "source": [
    "top.id2fullname"
   ]
  },
  {
   "cell_type": "code",
   "execution_count": null,
   "id": "86b8c7b0",
   "metadata": {},
   "outputs": [],
   "source": [
    "top.fullname2id"
   ]
  },
  {
   "cell_type": "code",
   "execution_count": null,
   "id": "7b1153dc",
   "metadata": {},
   "outputs": [],
   "source": [
    "top.id2parentid"
   ]
  },
  {
   "cell_type": "code",
   "execution_count": null,
   "id": "29b17e14",
   "metadata": {},
   "outputs": [],
   "source": [
    "top.id2childrenid"
   ]
  },
  {
   "cell_type": "code",
   "execution_count": null,
   "id": "85029722",
   "metadata": {},
   "outputs": [],
   "source": [
    "# SELECTABLE TREE VIEW CREATED FROM TWO COLUMNS OF A PANDAS DATAFRAME\n",
    "%run treeview.py\n",
    "import random\n",
    "\n",
    "# Create a Pandas\n",
    "df = pd.DataFrame(columns=['Group','Element', 'parenticon', 'icon'])\n",
    "\n",
    "i = 0\n",
    "\n",
    "seta_output = [['gis', 'gis software'],\n",
    "               ['geospatial', 'geospatial data', 'geospatial applications'],\n",
    "               ['spatial analysis', 'spatial join', 'geospatial data tools']\n",
    "              ]\n",
    "\n",
    "icons = ['mdi-football', 'mdi-anchor', 'mdi-border-all', 'mdi-cloud', 'mdi-firefox', 'mdi-filmstrip', 'mdi-fire', 'mdi-flower']\n",
    "\n",
    "for group in seta_output:\n",
    "    name = group[0]\n",
    "    for element in group[1:]:\n",
    "        record = {'Group': name, 'Element': element, 'icon': random.choice(icons), 'parenticon': 'mdi-fire'}\n",
    "        df.at[i, :] = record\n",
    "        i = i+1\n",
    "\n",
    "display(df)\n",
    "\n",
    "def on_change(arg):\n",
    "    print(arg)\n",
    "\n",
    "# Display the tree\n",
    "tree = createTreeviewFromDF2Columns(df,'Group', 'Element', rootName='Terms', width='400px', height='250px', select_all=True,\n",
    "                                    repeat_parent_as_first_child=False, open_on_click=True, selectable=True, activatable=False, expand_selection_to_parents=True,\n",
    "                                    iconsshow=True, iconscolor='blue', iconsfolder=True, iconscolumnName1='parenticon', iconscolumnName2='icon', iconroot='mdi-fire',\n",
    "                                    #iconsshow=False, iconscolor='blue', iconsfolder=True, iconscolumnName2='icon', \n",
    "                                    tooltips=True, tooltips_chars=10, on_change=on_change, transition=True,\n",
    "                                    disabled=['Terms.gis', 'Terms.geospatial.geospatial data'], opened=['Terms', 'Terms.gis'])\n",
    "\n",
    "top = treeviewOperations(tree)\n",
    "\n",
    "tree"
   ]
  },
  {
   "cell_type": "code",
   "execution_count": null,
   "id": "102b784e",
   "metadata": {},
   "outputs": [],
   "source": [
    "# TREEVIEW FROM 3 COLUMNS OF A PANDAS DATAFRAME\n",
    "%run treeview.py\n",
    "import pandas as pd\n",
    "\n",
    "table = [['parent', 'child', 'nephew'], \n",
    "         ['John', 'Mary', 'Johnny'],\n",
    "         ['John', 'Peter', 'Lisa'], \n",
    "         ['Ann', 'Hellen', 'July'],\n",
    "         ['Ann', 'Sue', 'Ellen'],\n",
    "         ['Ann', 'Claire', 'Pieter']]\n",
    "\n",
    "headers = table.pop(0)\n",
    "df = pd.DataFrame(table, columns=headers)\n",
    "display(df)\n",
    "\n",
    "def on_change(arg):\n",
    "    print(arg)\n",
    "\n",
    "def on_activated(arg):\n",
    "    print(arg)\n",
    "    \n",
    "treecard = createTreeviewFromDF3Columns(df, headers[0], headers[1], headers[2], \n",
    "                                        rootName='Families', activatable=True,\n",
    "                                        select_all=True, opened_all=True,\n",
    "                                        on_change=on_change, on_activated=on_activated)\n",
    "display(treecard)\n"
   ]
  },
  {
   "cell_type": "code",
   "execution_count": null,
   "id": "a1cb882d",
   "metadata": {},
   "outputs": [],
   "source": []
  }
 ],
 "metadata": {
  "kernelspec": {
   "display_name": "Python 3 (ipykernel)",
   "language": "python",
   "name": "python3"
  },
  "language_info": {
   "codemirror_mode": {
    "name": "ipython",
    "version": 3
   },
   "file_extension": ".py",
   "mimetype": "text/x-python",
   "name": "python",
   "nbconvert_exporter": "python",
   "pygments_lexer": "ipython3",
   "version": "3.7.13"
  }
 },
 "nbformat": 4,
 "nbformat_minor": 5
}
