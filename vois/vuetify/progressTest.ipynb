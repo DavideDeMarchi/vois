{
 "cells": [
  {
   "cell_type": "code",
   "execution_count": 1,
   "id": "f16595ec",
   "metadata": {},
   "outputs": [
    {
     "data": {
      "application/vnd.jupyter.widget-view+json": {
       "model_id": "cf71fe200d3e44a3b5390fdcb014f128",
       "version_major": 2,
       "version_minor": 0
      },
      "text/plain": [
       "Output(layout=Layout(height='510px', width='99%'))"
      ]
     },
     "metadata": {},
     "output_type": "display_data"
    }
   ],
   "source": [
    "from ipywidgets import widgets, Layout, HTML\n",
    "from IPython.display import display\n",
    "\n",
    "outputheight = 500\n",
    "output = widgets.Output(layout=Layout(width='99%', height='%dpx' % (outputheight+10)))\n",
    "display(output)\n",
    "\n",
    "%run progress.py\n",
    "\n",
    "p = progress(output, text='Please, wait...', size=200, width=20, show=True, outputheight=outputheight)"
   ]
  },
  {
   "cell_type": "code",
   "execution_count": 2,
   "id": "eb4a7a49",
   "metadata": {},
   "outputs": [],
   "source": [
    "p.close()"
   ]
  },
  {
   "cell_type": "code",
   "execution_count": 27,
   "id": "34776a40",
   "metadata": {},
   "outputs": [
    {
     "data": {
      "application/vnd.jupyter.widget-view+json": {
       "model_id": "30c67109fdd548d5a8f06372025ae616",
       "version_major": 2,
       "version_minor": 0
      },
      "text/plain": [
       "Output(layout=Layout(height='0px', width='0px'))"
      ]
     },
     "metadata": {},
     "output_type": "display_data"
    }
   ],
   "source": [
    "# Example of a transparent and absolutely positioned progress\n",
    "%run progress.py\n",
    "\n",
    "output = widgets.Output(layout=Layout(width='0px', height='0px'))\n",
    "display(output)\n",
    "\n",
    "p = progress(None, text='Please, wait...', size=150, width=20, show=False)\n",
    "p.showAbsolute(output, 'calc(50vw - 150px)', 'calc(50vh - 150px)', 9999)"
   ]
  },
  {
   "cell_type": "code",
   "execution_count": 28,
   "id": "fa3bd909",
   "metadata": {},
   "outputs": [],
   "source": [
    "p.close()"
   ]
  },
  {
   "cell_type": "code",
   "execution_count": null,
   "id": "cb0d75e6",
   "metadata": {},
   "outputs": [],
   "source": []
  }
 ],
 "metadata": {
  "kernelspec": {
   "display_name": "Python 3 (ipykernel)",
   "language": "python",
   "name": "python3"
  },
  "language_info": {
   "codemirror_mode": {
    "name": "ipython",
    "version": 3
   },
   "file_extension": ".py",
   "mimetype": "text/x-python",
   "name": "python",
   "nbconvert_exporter": "python",
   "pygments_lexer": "ipython3",
   "version": "3.7.13"
  }
 },
 "nbformat": 4,
 "nbformat_minor": 5
}
