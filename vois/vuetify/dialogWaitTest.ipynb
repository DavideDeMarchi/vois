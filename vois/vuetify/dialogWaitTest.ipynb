{
 "cells": [
  {
   "cell_type": "code",
   "execution_count": null,
   "id": "94cb66bb",
   "metadata": {},
   "outputs": [],
   "source": [
    "%run dialogWait.py\n",
    "\n",
    "from ipywidgets import widgets, Layout, HTML\n",
    "from IPython.display import display\n",
    "\n",
    "out = widgets.Output()\n",
    "display(out)\n",
    "\n",
    "dlg = dialogWait(text='Please wait for processing to terminate...', output=out)"
   ]
  },
  {
   "cell_type": "code",
   "execution_count": null,
   "id": "f261c617",
   "metadata": {},
   "outputs": [],
   "source": [
    "dlg.close()"
   ]
  },
  {
   "cell_type": "code",
   "execution_count": null,
   "id": "1442f392",
   "metadata": {},
   "outputs": [],
   "source": [
    "# Example of linear value setting\n",
    "import time\n",
    "dlg = dialogWait(text='Please wait for processing to terminate...', indeterminate=False, output=out)\n",
    "\n",
    "for i in range(101):\n",
    "    dlg.value = i\n",
    "    time.sleep(0.02)"
   ]
  },
  {
   "cell_type": "code",
   "execution_count": null,
   "id": "446b4ae1",
   "metadata": {},
   "outputs": [],
   "source": [
    "dlg.close()"
   ]
  },
  {
   "cell_type": "code",
   "execution_count": null,
   "id": "d15481ea",
   "metadata": {},
   "outputs": [],
   "source": []
  }
 ],
 "metadata": {
  "kernelspec": {
   "display_name": "Python 3 (ipykernel)",
   "language": "python",
   "name": "python3"
  },
  "language_info": {
   "codemirror_mode": {
    "name": "ipython",
    "version": 3
   },
   "file_extension": ".py",
   "mimetype": "text/x-python",
   "name": "python",
   "nbconvert_exporter": "python",
   "pygments_lexer": "ipython3",
   "version": "3.7.13"
  }
 },
 "nbformat": 4,
 "nbformat_minor": 5
}
