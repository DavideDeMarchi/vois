{
 "cells": [
  {
   "cell_type": "code",
   "execution_count": null,
   "id": "c5546e0a",
   "metadata": {},
   "outputs": [
    {
     "data": {
      "application/vnd.jupyter.widget-view+json": {
       "model_id": "68fca6a686da44bbb96dd1280760876d",
       "version_major": 2,
       "version_minor": 0
      },
      "text/plain": [
       "Output()"
      ]
     },
     "metadata": {},
     "output_type": "display_data"
    }
   ],
   "source": [
    "%run dialogWait.py\n",
    "\n",
    "from ipywidgets import widgets, Layout, HTML\n",
    "from IPython.display import display\n",
    "\n",
    "out = widgets.Output()\n",
    "display(out)\n",
    "\n",
    "dlg = dialogWait(text='Please wait for processing to terminate...', height=4, output=out)"
   ]
  },
  {
   "cell_type": "code",
   "execution_count": null,
   "id": "7d0cfd9c",
   "metadata": {},
   "outputs": [],
   "source": [
    "dlg.close()"
   ]
  },
  {
   "cell_type": "code",
   "execution_count": 56,
   "id": "3de931dc",
   "metadata": {},
   "outputs": [],
   "source": [
    "# Example of linear value setting\n",
    "%run dialogWait.py\n",
    "\n",
    "import time\n",
    "dlg = dialogWait(text='Please wait for processing to terminate...', indeterminate=False, linecolor='blue', showtext=True, textcolor='white', height=20, output=out)\n",
    "\n",
    "for i in range(101):\n",
    "    dlg.value = i\n",
    "    time.sleep(0.001)"
   ]
  },
  {
   "cell_type": "code",
   "execution_count": null,
   "id": "6510eea4",
   "metadata": {},
   "outputs": [],
   "source": [
    "dlg.close()"
   ]
  },
  {
   "cell_type": "code",
   "execution_count": null,
   "id": "b29dbd93",
   "metadata": {},
   "outputs": [],
   "source": []
  }
 ],
 "metadata": {
  "kernelspec": {
   "display_name": "Python 3 (ipykernel)",
   "language": "python",
   "name": "python3"
  },
  "language_info": {
   "codemirror_mode": {
    "name": "ipython",
    "version": 3
   },
   "file_extension": ".py",
   "mimetype": "text/x-python",
   "name": "python",
   "nbconvert_exporter": "python",
   "pygments_lexer": "ipython3",
   "version": "3.7.13"
  }
 },
 "nbformat": 4,
 "nbformat_minor": 5
}
