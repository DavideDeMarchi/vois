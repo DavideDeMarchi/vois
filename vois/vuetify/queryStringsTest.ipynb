{
 "cells": [
  {
   "cell_type": "code",
   "execution_count": null,
   "id": "ee2b6684",
   "metadata": {},
   "outputs": [],
   "source": [
    "%run queryStrings.py\n",
    "\n",
    "parameters = readParameters()\n",
    "\n",
    "activetab = parameters.get('activetab', ['chart'])[0]\n",
    "countries = parameters.get('countries', ['IT,FR'])[0]\n",
    "\n",
    "print(activetab)\n",
    "print(countries)"
   ]
  },
  {
   "cell_type": "code",
   "execution_count": null,
   "id": "817209b0",
   "metadata": {},
   "outputs": [],
   "source": []
  }
 ],
 "metadata": {
  "kernelspec": {
   "display_name": "Python 3 (ipykernel)",
   "language": "python",
   "name": "python3"
  },
  "language_info": {
   "codemirror_mode": {
    "name": "ipython",
    "version": 3
   },
   "file_extension": ".py",
   "mimetype": "text/x-python",
   "name": "python",
   "nbconvert_exporter": "python",
   "pygments_lexer": "ipython3",
   "version": "3.7.12"
  }
 },
 "nbformat": 4,
 "nbformat_minor": 5
}
