{
 "cells": [
  {
   "cell_type": "code",
   "execution_count": 4,
   "id": "84b71623",
   "metadata": {},
   "outputs": [
    {
     "data": {
      "application/vnd.jupyter.widget-view+json": {
       "model_id": "447ef452d2a3473bbed657ec77782dac",
       "version_major": 2,
       "version_minor": 0
      },
      "text/plain": [
       "Output(layout=Layout(height='0px', width='0px'))"
      ]
     },
     "metadata": {},
     "output_type": "display_data"
    }
   ],
   "source": [
    "from ipywidgets import widgets, Layout\n",
    "\n",
    "output = widgets.Output(layout=Layout(width='0px', height='0px'))\n",
    "display(output)\n",
    "\n",
    "def on_click():\n",
    "    pass\n",
    "\n",
    "%run page.py\n",
    "\n",
    "p = page('Application XYZ', 'Map page', output,\n",
    "         titlecolor='#008800', titledark=True, footercolor='#cccccc', footerdark=False,\n",
    "         logoappurl='https://jeodpp.jrc.ec.europa.eu/services/shared/pngs/BDAP_Logo1024transparent.png', logowidth=100,\n",
    "         on_logoapp=on_click, copyrighttext='European Commission - Joint Research Centre',\n",
    "         show_back=True, show_help=True, on_help=on_click, show_credits=True, on_credits=on_click)\n",
    "card = p.create()\n",
    "card.children = []\n",
    "p.open()"
   ]
  },
  {
   "cell_type": "code",
   "execution_count": null,
   "id": "cc492a85",
   "metadata": {},
   "outputs": [],
   "source": []
  }
 ],
 "metadata": {
  "kernelspec": {
   "display_name": "Python 3 (ipykernel)",
   "language": "python",
   "name": "python3"
  },
  "language_info": {
   "codemirror_mode": {
    "name": "ipython",
    "version": 3
   },
   "file_extension": ".py",
   "mimetype": "text/x-python",
   "name": "python",
   "nbconvert_exporter": "python",
   "pygments_lexer": "ipython3",
   "version": "3.7.13"
  }
 },
 "nbformat": 4,
 "nbformat_minor": 5
}
