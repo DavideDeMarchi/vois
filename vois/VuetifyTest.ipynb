{
 "cells": [
  {
   "cell_type": "code",
   "execution_count": null,
   "id": "10d0b96a",
   "metadata": {},
   "outputs": [],
   "source": [
    "from vuetify import settings\n",
    "settings.dark_mode    = False\n",
    "settings.color_first  = '#ff0000'\n",
    "settings.color_second = '#d8e7f5'\n",
    "\n",
    "from ipywidgets import widgets, Layout, HTML\n",
    "from IPython.display import display\n",
    "from vuetify import switch, fab, sidePanel"
   ]
  },
  {
   "cell_type": "code",
   "execution_count": null,
   "id": "5e4f4fcc",
   "metadata": {},
   "outputs": [],
   "source": [
    "output = widgets.Output(layout=Layout(width='0px', height='0px'))\n",
    "display(output)\n",
    "\n",
    "def openclose_panel():\n",
    "    if panel.isopen():\n",
    "        b.settooltip('Click to open the settings panel')        \n",
    "        b.seticon('mdi-menu')\n",
    "        panel.close()\n",
    "    else:\n",
    "        b.settooltip('Click to close the settings panel')\n",
    "        b.seticon('mdi-arrow-left')\n",
    "        panel.show()\n",
    "    \n",
    "with output:\n",
    "    b = fab.fab(left='10px', top='14px', items=[''], onclick=[openclose_panel], icon=['mdi-menu'], tooltipitems=['Click to open the settings panel'], iconsmall=False, menumode=False, width=100, selected=True, dark=True, zindex=100)\n",
    "    b.show(True)\n",
    "\n",
    "def on_s_change(value):\n",
    "    print(value)\n",
    "        \n",
    "s = switch.switch(True, 'PNG format', onchange=on_s_change)\n",
    "    \n",
    "panel = sidePanel.sidePanel(title='Settings for download', text='Please select the format for download:', width=400, right=False, content=[s.draw()], output=output, showclosebuttons=False, zindex=99)"
   ]
  },
  {
   "cell_type": "code",
   "execution_count": null,
   "id": "858a6af5",
   "metadata": {},
   "outputs": [],
   "source": [
    "b.close()"
   ]
  },
  {
   "cell_type": "code",
   "execution_count": null,
   "id": "94bf99e6",
   "metadata": {},
   "outputs": [],
   "source": []
  }
 ],
 "metadata": {
  "kernelspec": {
   "display_name": "Python 3 (ipykernel)",
   "language": "python",
   "name": "python3"
  },
  "language_info": {
   "codemirror_mode": {
    "name": "ipython",
    "version": 3
   },
   "file_extension": ".py",
   "mimetype": "text/x-python",
   "name": "python",
   "nbconvert_exporter": "python",
   "pygments_lexer": "ipython3",
   "version": "3.7.13"
  }
 },
 "nbformat": 4,
 "nbformat_minor": 5
}
