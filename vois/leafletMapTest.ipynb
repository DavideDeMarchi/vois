{
 "cells": [
  {
   "cell_type": "code",
   "execution_count": 1,
   "id": "d082ea4a",
   "metadata": {},
   "outputs": [],
   "source": [
    "from ipywidgets import widgets, Layout\n",
    "from IPython.core.display import HTML as coreHTML\n",
    "import numpy as np\n",
    "import pandas as pd\n",
    "from ipyleaflet import basemaps"
   ]
  },
  {
   "cell_type": "code",
   "execution_count": 2,
   "id": "c92e689e",
   "metadata": {},
   "outputs": [
    {
     "data": {
      "application/vnd.jupyter.widget-view+json": {
       "model_id": "24fb6792db5f472fa405010c32adfe72",
       "version_major": 2,
       "version_minor": 0
      },
      "text/plain": [
       "HBox(children=(Map(center=[43, 12], controls=(ZoomControl(options=['position', 'zoom_in_text', 'zoom_in_title'…"
      ]
     },
     "metadata": {},
     "output_type": "display_data"
    }
   ],
   "source": [
    "##################################################################################################\n",
    "# Display numerical data for world countries using geojson country dataset\n",
    "##################################################################################################\n",
    "%run leafletMap.py\n",
    "%run svgUtils.py\n",
    "\n",
    "country_codes = ['LV','AL','CH','AT','HR','ES','IS','RO','IT','VA','HU','SE','NL','CZ','DE','FR',\n",
    "                 'ME','BE','SI','LU','IE','BA','MC','BG','PL','LI','GB','RS','SM','DK','IM',\n",
    "                 'EE','SK','GR','LT','NO','PT','AD','MK','MT','GI','FI','XK','CY']\n",
    "\n",
    "country_selected = ['IT', 'CH']\n",
    "\n",
    "# Generate random values and create a dictionary: key=countrycode, value=random value in [0.0,100.0]\n",
    "d = dict(zip(country_codes, list(np.random.uniform(size=len(country_codes),low=0.0,high=100.0))))\n",
    "\n",
    "# Create a pandas dataframe from the dictionary\n",
    "df = pd.DataFrame(d.items(), columns=['iso2code', 'value'])\n",
    "df['label'] = df['value']\n",
    "\n",
    "colorlist = ['#440154', '#482878', '#3e4989', '#31688e', '#26828e', '#1f9e89', '#35b779', '#6ece58', '#b5de2b', '#fde725'] # Viridis\n",
    "\n",
    "\n",
    "m = countriesMap(df, code_column='iso2code',\n",
    "                            codes_selected=country_selected, stroke_selected='red',\n",
    "                            detailedcountries=False,\n",
    "                            basemap=basemaps.Stamen.Terrain,\n",
    "                            colorlist=colorlist, stdevnumber=2.0,\n",
    "                            stroke_width=2, stroke='#010101', \n",
    "                            width='69%', height='550px',\n",
    "                            center=[43,12], zoom=5)\n",
    "\n",
    "svg = graduatedLegend(df, code_column='iso2code',\n",
    "                               codes_selected=country_selected, stroke_selected='red', \n",
    "                               colorlist=colorlist, stdevnumber=2.0, \n",
    "                               legendtitle='Legend title', legendunits='KTOE per 100K inhabit.',\n",
    "                               fontsize=16, width=340, height=530)\n",
    "\n",
    "outlegend = widgets.Output(layout=Layout(width='360px',height='550px'))\n",
    "with outlegend:\n",
    "    display(coreHTML(svg))\n",
    "widgets.HBox([m,outlegend])"
   ]
  },
  {
   "cell_type": "code",
   "execution_count": 3,
   "id": "0984709b",
   "metadata": {},
   "outputs": [
    {
     "data": {
      "application/vnd.jupyter.widget-view+json": {
       "model_id": "078106dff0344c219e1f80f37696751b",
       "version_major": 2,
       "version_minor": 0
      },
      "text/plain": [
       "HBox(children=(Map(center=[43, 12], controls=(ZoomControl(options=['position', 'zoom_in_text', 'zoom_in_title'…"
      ]
     },
     "metadata": {},
     "output_type": "display_data"
    }
   ],
   "source": [
    "##################################################################################################\n",
    "# Display data for custom geojson with graduated legend on numeric values\n",
    "##################################################################################################\n",
    "%run leafletMap.py\n",
    "%run svgUtils.py\n",
    "\n",
    "country_codes = ['LV','AL','CH','AT','HR','ES','IS','RO','IT','VA','HU','SE','NL','CZ','DE','FR',\n",
    "                 'ME','BE','SI','LU','IE','BA','MC','BG','PL','LI','GB','RS','SM','DK','IM',\n",
    "                 'EE','SK','GR','LT','NO','PT','AD','MK','MT','GI','FI','XK','CY']\n",
    "\n",
    "country_selected = ['IT', 'CH']\n",
    "\n",
    "# Generate random values and create a dictionary: key=countrycode, value=random value in [0.0,100.0]\n",
    "d = dict(zip(country_codes, list(np.random.uniform(size=len(country_codes),low=0.0,high=100.0))))\n",
    "\n",
    "# Create a pandas dataframe from the dictionary\n",
    "df = pd.DataFrame(d.items(), columns=['iso2code', 'value'])\n",
    "df['label'] = df['value']\n",
    "\n",
    "colorlist = ['#440154', '#482878', '#3e4989', '#31688e', '#26828e', '#1f9e89', '#35b779', '#6ece58', '#b5de2b', '#fde725'] # Viridis\n",
    "\n",
    "m = geojsonMap(df, './data/ne_50m_admin_0_countries.geojson', 'ISO_A2_EH',\n",
    "                        code_column='iso2code',\n",
    "                        codes_selected=country_selected, stroke_selected='red', \n",
    "                        colorlist=colorlist, stdevnumber=2.0,\n",
    "                        stroke_width=1.0, stroke='#010101', \n",
    "                        width='69%', height='550px',\n",
    "                        center=[43,12], zoom=5)\n",
    "\n",
    "svg = graduatedLegend(df, code_column='iso2code',\n",
    "                      codes_selected=country_selected, stroke_selected='red', \n",
    "                      colorlist=colorlist, stdevnumber=2.0, \n",
    "                      legendtitle='Legend title', legendunits='KTOE per 100K inhabit.',\n",
    "                      fontsize=16, width=340, height=530)\n",
    "\n",
    "outlegend = widgets.Output(layout=Layout(width='360px',height='550px'))\n",
    "with outlegend:\n",
    "    display(coreHTML(svg))\n",
    "widgets.HBox([m,outlegend])"
   ]
  },
  {
   "cell_type": "code",
   "execution_count": 4,
   "id": "fe011204",
   "metadata": {},
   "outputs": [
    {
     "data": {
      "application/vnd.jupyter.widget-view+json": {
       "model_id": "32fd3b34ae474724b066a970fa473d99",
       "version_major": 2,
       "version_minor": 0
      },
      "text/plain": [
       "HBox(children=(Map(center=[51.005, 13.6], controls=(ZoomControl(options=['position', 'zoom_in_text', 'zoom_in_…"
      ]
     },
     "metadata": {},
     "output_type": "display_data"
    }
   ],
   "source": [
    "##################################################################################################\n",
    "# Display data for custom geojson with category legend\n",
    "##################################################################################################\n",
    "import plotly.express as px\n",
    "from IPython.display import display\n",
    "from ipywidgets import widgets, Layout\n",
    "\n",
    "%run leafletMap.py\n",
    "%run svgUtils.py\n",
    "%run geojsonUtils.py\n",
    "\n",
    "# Load landuse example and get unique landuse classes\n",
    "filepath = './data/landuse.geojson'\n",
    "geojson = geojsonLoadFile(filepath)\n",
    "landuses = sorted(list(set(geojsonAll(geojson,'fclass'))))\n",
    "\n",
    "# Create a colormap (dictionary that maps landuses to colors)\n",
    "colors   = px.colors.qualitative.Dark24\n",
    "colormap = dict(zip(landuses, colors))\n",
    "\n",
    "m = geojsonCategoricalMap(filepath,\n",
    "                          'fclass',\n",
    "                          stroke_width=1.0,\n",
    "                          stroke='black', \n",
    "                          colormap=colormap,\n",
    "                          width='79%',\n",
    "                          height='700px',\n",
    "                          center=[51.005,13.6],\n",
    "                          zoom=12,\n",
    "                          basemap=basemaps.CartoDB.Positron,\n",
    "                          style={'opacity': 1, 'dashArray': '0', 'fillOpacity': 1})\n",
    "\n",
    "\n",
    "outlegend = widgets.Output(layout=Layout(width='230px',height='680px'))\n",
    "with outlegend:\n",
    "    display(HTML(categoriesLegend(\"Landuse legend\", landuses, colorlist=colors[:len(landuses)])))\n",
    "widgets.HBox([m,outlegend])"
   ]
  },
  {
   "cell_type": "code",
   "execution_count": null,
   "id": "40ead2c9",
   "metadata": {},
   "outputs": [],
   "source": []
  }
 ],
 "metadata": {
  "kernelspec": {
   "display_name": "Python 3 (ipykernel)",
   "language": "python",
   "name": "python3"
  },
  "language_info": {
   "codemirror_mode": {
    "name": "ipython",
    "version": 3
   },
   "file_extension": ".py",
   "mimetype": "text/x-python",
   "name": "python",
   "nbconvert_exporter": "python",
   "pygments_lexer": "ipython3",
   "version": "3.7.13"
  }
 },
 "nbformat": 4,
 "nbformat_minor": 5
}
