{
 "cells": [
  {
   "cell_type": "code",
   "execution_count": 4,
   "id": "eeb71abd",
   "metadata": {},
   "outputs": [
    {
     "name": "stdout",
     "output_type": "stream",
     "text": [
      "Attributes =  ['provincia', 'ha', 'grup', 'municipi', 'campanya', 'cultiu', 'seca_regad', 'id_mun', 'id', 'comarca']\n",
      "All values =  [6.73583984375, 0.926895022392, 0.617895007133, 0.505702018738, 7.41506004333, 0.0679828971624, 7.8625497818, 0.711094021797, 0.957135021687, 1.32553005219, 4.52396011353, 0.327562004328, 1.03611004353, 0.765770971775, 1.80957996845, 7.11729001999, 0.672756016254, 3.89577007294, 1.50476002693, 0.737752020359, 2.31732988358, 1.23739004135, 1.20881998539, 1.11463999748, 3.2857298851, 0.780149996281, 0.794167995453, 0.318890988827, 0.845695018768, 5.99399995804, 0.29587700963, 3.60988998413, 1.26472997665, 0.468057990074, 7.30466985703, 1.48009002209, 0.267468005419, 0.232388004661, 0.250239998102, 4.457459926610001, 0.0160592999309, 0.481920987368, 1.66877996922, 0.361173003912, 5.21716022491, 0.489280998707, 0.771668970585, 2.21916007996, 0.504687011242, 0.115186996758]\n",
      "Join values = ['aaa', 'bbb']\n"
     ]
    }
   ],
   "source": [
    "%run geojsonUtils.py\n",
    "\n",
    "# Load a geojson file\n",
    "geojson = geojsonLoadFile('./data/example.geojson')\n",
    "\n",
    "# Read info on geojson attributes and values\n",
    "print('Attributes = ', geojsonAttributes(geojson))\n",
    "print('All values = ', geojsonAll(geojson,'ha'))\n",
    "\n",
    "# Add a new field by joining with a dictionary\n",
    "keytovalue = { 37661: 'aaa', 37662: 'bbb'}\n",
    "geojsonnew = geojsonJoin(geojson,'id', 'value', keytovalue, innerMode=True)\n",
    "print('Join values =', geojsonAll(geojsonnew,'value'))"
   ]
  },
  {
   "cell_type": "code",
   "execution_count": 5,
   "id": "603f2cee",
   "metadata": {},
   "outputs": [
    {
     "name": "stdout",
     "output_type": "stream",
     "text": [
      "Filtered values = ['bbb']\n"
     ]
    }
   ],
   "source": [
    "geojsonfiltered = geojsonFilter(geojsonnew,'value',['bbb'])\n",
    "print('Filtered values =', geojsonAll(geojsonfiltered,'value'))"
   ]
  },
  {
   "cell_type": "code",
   "execution_count": 6,
   "id": "73f3c4a1",
   "metadata": {},
   "outputs": [
    {
     "data": {
      "text/plain": [
       "107"
      ]
     },
     "execution_count": 6,
     "metadata": {},
     "output_type": "execute_result"
    }
   ],
   "source": [
    "geojson = geojsonLoadFile('./data/ItalyProvinces.geojson')\n",
    "geojsonCount(geojson)"
   ]
  },
  {
   "cell_type": "code",
   "execution_count": null,
   "id": "3e6ae2b5",
   "metadata": {},
   "outputs": [],
   "source": []
  }
 ],
 "metadata": {
  "kernelspec": {
   "display_name": "Python 3 (ipykernel)",
   "language": "python",
   "name": "python3"
  },
  "language_info": {
   "codemirror_mode": {
    "name": "ipython",
    "version": 3
   },
   "file_extension": ".py",
   "mimetype": "text/x-python",
   "name": "python",
   "nbconvert_exporter": "python",
   "pygments_lexer": "ipython3",
   "version": "3.7.13"
  }
 },
 "nbformat": 4,
 "nbformat_minor": 5
}
