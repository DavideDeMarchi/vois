{
 "cells": [
  {
   "cell_type": "code",
   "execution_count": null,
   "id": "3bd4627f",
   "metadata": {},
   "outputs": [],
   "source": [
    "%run svgPackedCirclesChart.py\n",
    "\n",
    "import pandas as pd\n",
    "import plotly.express as px\n",
    "\n",
    "table = [['Year', 'Occurrencies'], \n",
    "         [2016, 251],\n",
    "         [2017, 239],\n",
    "         [2018, 186],\n",
    "         [2019, 142],\n",
    "         [2020, 59],\n",
    "         [2021, 47],\n",
    "         [2022, 95],\n",
    "]\n",
    "\n",
    "headers = table.pop(0)\n",
    "df = pd.DataFrame(table, columns=headers)\n",
    "#display(df)\n",
    "\n",
    "svg = svgPackedCirclesChart(df,\n",
    "                            'Occurrencies',\n",
    "                            'Year',\n",
    "                            dimension=20.0,\n",
    "                            colorlist=px.colors.sequential.YlOrRd,\n",
    "                            labelcolor='#aaaaaa',\n",
    "                            titlesize=1.3,\n",
    "                            fontsize=1.0,\n",
    "                            title='Occurrencies per year',\n",
    "                            titlecentered=True,\n",
    "                            drawscale=True,\n",
    "                            scaledigits=0)\n",
    "display(HTML(svg))"
   ]
  },
  {
   "cell_type": "code",
   "execution_count": null,
   "id": "2530ae11",
   "metadata": {},
   "outputs": [],
   "source": []
  }
 ],
 "metadata": {
  "kernelspec": {
   "display_name": "Python 3 (ipykernel)",
   "language": "python",
   "name": "python3"
  },
  "language_info": {
   "codemirror_mode": {
    "name": "ipython",
    "version": 3
   },
   "file_extension": ".py",
   "mimetype": "text/x-python",
   "name": "python",
   "nbconvert_exporter": "python",
   "pygments_lexer": "ipython3",
   "version": "3.7.13"
  }
 },
 "nbformat": 4,
 "nbformat_minor": 5
}
