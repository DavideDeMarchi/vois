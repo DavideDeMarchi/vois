{
 "cells": [
  {
   "cell_type": "code",
   "execution_count": null,
   "id": "1f8eba93",
   "metadata": {},
   "outputs": [],
   "source": [
    "import eucountries as eu"
   ]
  },
  {
   "cell_type": "code",
   "execution_count": null,
   "id": "806c39a3",
   "metadata": {},
   "outputs": [],
   "source": [
    "countriesEU   = eu.countries.EuropeanUnion()\n",
    "countriesEuro = eu.countries.EuroArea()\n",
    "countriesEuro"
   ]
  },
  {
   "cell_type": "code",
   "execution_count": null,
   "id": "ac69f80e",
   "metadata": {},
   "outputs": [],
   "source": [
    "cdict = {c.name: c for c in countriesEuro}\n",
    "cdict['France'].flagImage()"
   ]
  },
  {
   "cell_type": "code",
   "execution_count": null,
   "id": "22e61e29",
   "metadata": {},
   "outputs": [],
   "source": [
    "eu.countries.byCode('IT').flagImage()"
   ]
  },
  {
   "cell_type": "code",
   "execution_count": null,
   "id": "fcfded56",
   "metadata": {},
   "outputs": [],
   "source": [
    "eu.countries.byName('Lithuania').flagImage()"
   ]
  },
  {
   "cell_type": "code",
   "execution_count": null,
   "id": "cfb03489",
   "metadata": {},
   "outputs": [],
   "source": [
    "countries=['IT','FR','DE','ES','EL','BE','FI','SE']\n",
    "for i in range(len(countries)):\n",
    "        c = eu.countries.byCode(countries[i])\n",
    "        url = c.flag\n",
    "        pop = c.population\n",
    "        print(url, pop)"
   ]
  },
  {
   "cell_type": "code",
   "execution_count": null,
   "id": "30375484",
   "metadata": {},
   "outputs": [],
   "source": [
    "eucodes = eu.countries.EuropeanUnionCodes()\n",
    "eucodes = [x.lower() for x in eucodes]\n",
    "eucodes"
   ]
  },
  {
   "cell_type": "code",
   "execution_count": null,
   "id": "4f0e7d5a",
   "metadata": {},
   "outputs": [],
   "source": [
    "eu.countries.EuroAreaCodes()"
   ]
  },
  {
   "cell_type": "code",
   "execution_count": null,
   "id": "d102b310",
   "metadata": {},
   "outputs": [],
   "source": [
    "names = eu.languages.EuropeanUnionLanguages(sortByName=False)\n",
    "names = [x.name for x in names]\n",
    "names"
   ]
  },
  {
   "cell_type": "code",
   "execution_count": null,
   "id": "87e6d4b1",
   "metadata": {},
   "outputs": [],
   "source": [
    "abbreviations = eu.languages.EuropeanUnionAbbreviations()\n",
    "abbreviations"
   ]
  },
  {
   "cell_type": "code",
   "execution_count": null,
   "id": "1ba8515f",
   "metadata": {},
   "outputs": [],
   "source": [
    "from vuetify import selectSingle\n",
    "names = eu.languages.EuropeanUnionLanguages(sortByName=False)\n",
    "names = [x.name for x in names]\n",
    "abbreviations = eu.languages.EuropeanUnionAbbreviations()\n",
    "\n",
    "na = sorted(zip(names,abbreviations), key=lambda x: x[0])\n",
    "langnames = [x[0] for x in na]\n",
    "abbrev    = [x[1] for x in na]\n",
    "\n",
    "def on_status_change():\n",
    "    i = langnames.index(sel1.selection)\n",
    "    print(abbrev[i])\n",
    "\n",
    "sel1 = selectSingle.selectSingle('Language:', langnames, \"English\",  width=180, mapping=None, clearable=False, marginy=1, onchange=on_status_change)\n",
    "sel1.draw()"
   ]
  },
  {
   "cell_type": "code",
   "execution_count": null,
   "id": "d2205898",
   "metadata": {},
   "outputs": [],
   "source": []
  }
 ],
 "metadata": {
  "kernelspec": {
   "display_name": "Python 3 (ipykernel)",
   "language": "python",
   "name": "python3"
  },
  "language_info": {
   "codemirror_mode": {
    "name": "ipython",
    "version": 3
   },
   "file_extension": ".py",
   "mimetype": "text/x-python",
   "name": "python",
   "nbconvert_exporter": "python",
   "pygments_lexer": "ipython3",
   "version": "3.7.13"
  }
 },
 "nbformat": 4,
 "nbformat_minor": 5
}
