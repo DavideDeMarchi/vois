{
 "cells": [
  {
   "cell_type": "code",
   "execution_count": 23,
   "id": "a58dae83",
   "metadata": {},
   "outputs": [
    {
     "data": {
      "application/vnd.jupyter.widget-view+json": {
       "model_id": "b926354b4c5d4ab09905a152ec8146db",
       "version_major": 2,
       "version_minor": 0
      },
      "text/plain": [
       "Output(layout=Layout(height='calc(calc(800px * 0.892987) + 18px)', width='800px'))"
      ]
     },
     "metadata": {},
     "output_type": "display_data"
    }
   ],
   "source": [
    "%run svgGraph.py\n",
    "\n",
    "import networkx as nx\n",
    "import random\n",
    "r = lambda: random.randint(0,255)\n",
    "\n",
    "# Generate a random graph using networkx\n",
    "G = nx.gnp_random_graph(3, 0.5, seed=12345)\n",
    "\n",
    "# Assign position to nodes using Fruchterman-Reingold force-directed algorithm\n",
    "nodes_pos = nx.spring_layout(G, weight='weight', seed=12345)\n",
    "\n",
    "# Extract nodes and edges information from the graph\n",
    "nodes = list(G.nodes)\n",
    "edges = list(G.edges)\n",
    "\n",
    "# Generate dictionaries requested by the svgGraph module\n",
    "nodes_name  = dict(zip(nodes,['N'+str(x) for x in nodes]))\n",
    "nodes_label = dict(zip(nodes,['Description of node '+str(x) for x in nodes]))\n",
    "nodes_color = dict(zip(nodes,['#%02X%02X%02X' % (r(),r(),r()) for x in nodes]))\n",
    "\n",
    "edges_value = dict(zip(edges,[random.randint(0,100) for x in edges]))\n",
    "\n",
    "# Display the graph\n",
    "svgGraph(nodes_name, nodes_label, nodes_color, nodes_pos, edges_value, width=800, nodesradius=2.4, fontsize=2.1, heightpercent=80, borderspercent=5.0)"
   ]
  },
  {
   "cell_type": "code",
   "execution_count": null,
   "id": "bc8744e4",
   "metadata": {},
   "outputs": [],
   "source": []
  }
 ],
 "metadata": {
  "kernelspec": {
   "display_name": "Python 3 (ipykernel)",
   "language": "python",
   "name": "python3"
  },
  "language_info": {
   "codemirror_mode": {
    "name": "ipython",
    "version": 3
   },
   "file_extension": ".py",
   "mimetype": "text/x-python",
   "name": "python",
   "nbconvert_exporter": "python",
   "pygments_lexer": "ipython3",
   "version": "3.7.13"
  }
 },
 "nbformat": 4,
 "nbformat_minor": 5
}
