{
 "cells": [
  {
   "cell_type": "code",
   "execution_count": null,
   "id": "f4a14dad",
   "metadata": {},
   "outputs": [],
   "source": [
    "%run svgMap.py\n",
    "import random\n",
    "\n",
    "def rgb(r,g,b):\n",
    "    return '#{:02x}{:02x}{:02x}'.format(r,g,b)\n",
    "    \n",
    "df = pd.DataFrame(columns=['iso2code','value','label'])\n",
    "\n",
    "i = 0\n",
    "for c in country_codes:\n",
    "    value = random.randint(0,100)\n",
    "    if value > 1:\n",
    "        if c == 'IT': value = 150.0\n",
    "        record = {'iso2code': c, 'value': value, 'label': '%d' % value }\n",
    "        df.at[i, :] = record\n",
    "        i += 1\n",
    "\n",
    "#df = df.set_index('iso2code')\n",
    "            \n",
    "#df\n",
    "colorlist = ['#440154', '#482878', '#3e4989', '#31688e', '#26828e', '#1f9e89', '#35b779', '#6ece58', '#b5de2b', '#fde725'] # Viridis\n",
    "#colorlist = ['#0d0887', '#46039f', '#7201a8', '#9c179e', '#bd3786', '#d8576b', '#ed7953', '#fb9f3a', '#fdca26', '#f0f921'] # Plasma\n",
    "#colorlist = [rgb(36, 86, 104), rgb(15, 114, 121), rgb(13, 143, 129), rgb(57, 171, 126), rgb(110, 197, 116), rgb(169, 220, 103), rgb(237, 239, 93)]\n",
    "display(HTML(svgMapEurope(df, code_column='iso2code', codes_selected=['IT','SE','PL'], stroke_selected='red', colorlist=colorlist, stdevnumber=1.5, onhoverfill='#f8bd1a', \n",
    "                          width=800, stroke_width=3.0, hoveronempty=False, legendtitle='Legent title', legendunits='KTOE per 100K inhabit.')))"
   ]
  },
  {
   "cell_type": "code",
   "execution_count": null,
   "id": "398304a4",
   "metadata": {},
   "outputs": [],
   "source": []
  }
 ],
 "metadata": {
  "kernelspec": {
   "display_name": "Python 3 (ipykernel)",
   "language": "python",
   "name": "python3"
  },
  "language_info": {
   "codemirror_mode": {
    "name": "ipython",
    "version": 3
   },
   "file_extension": ".py",
   "mimetype": "text/x-python",
   "name": "python",
   "nbconvert_exporter": "python",
   "pygments_lexer": "ipython3",
   "version": "3.7.12"
  }
 },
 "nbformat": 4,
 "nbformat_minor": 5
}
