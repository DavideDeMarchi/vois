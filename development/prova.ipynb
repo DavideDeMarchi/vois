{
 "cells": [
  {
   "cell_type": "code",
   "execution_count": 1,
   "metadata": {},
   "outputs": [],
   "source": [
    "import sys\n",
    "sys.path.append('../src')\n",
    "from vois.vuetify import Button\n",
    "import ipyvuetify as v"
   ]
  },
  {
   "cell_type": "code",
   "execution_count": 2,
   "metadata": {},
   "outputs": [],
   "source": [
    "def click():\n",
    "    print(122)"
   ]
  },
  {
   "cell_type": "code",
   "execution_count": 3,
   "metadata": {},
   "outputs": [],
   "source": [
    "edo = Button(text='ciao', on_click=click)"
   ]
  },
  {
   "cell_type": "code",
   "execution_count": 4,
   "metadata": {},
   "outputs": [
    {
     "data": {
      "application/vnd.jupyter.widget-view+json": {
       "model_id": "8929ba6ad1874f988c53463dd364b73e",
       "version_major": 2,
       "version_minor": 0
      },
      "text/plain": [
       "Button(children=[Container(children=[Tooltip(bottom=True, children=[''], color='#999999', layout=None, transit…"
      ]
     },
     "execution_count": 4,
     "metadata": {},
     "output_type": "execute_result"
    }
   ],
   "source": [
    "edo"
   ]
  },
  {
   "cell_type": "code",
   "execution_count": 13,
   "metadata": {},
   "outputs": [
    {
     "ename": "TypeError",
     "evalue": "Widget.__deepcopy__() missing 1 required positional argument: 'memo'",
     "output_type": "error",
     "traceback": [
      "\u001b[0;31m---------------------------------------------------------------------------\u001b[0m",
      "\u001b[0;31mTypeError\u001b[0m                                 Traceback (most recent call last)",
      "Cell \u001b[0;32mIn[13], line 1\u001b[0m\n\u001b[0;32m----> 1\u001b[0m ele\u001b[38;5;241m.\u001b[39m__deepcopy__()\n",
      "\u001b[0;31mTypeError\u001b[0m: Widget.__deepcopy__() missing 1 required positional argument: 'memo'"
     ]
    }
   ],
   "source": [
    "ele.__deepcopy__()"
   ]
  },
  {
   "cell_type": "code",
   "execution_count": 4,
   "metadata": {},
   "outputs": [],
   "source": [
    "edo.text = 'buueeeeu'"
   ]
  },
  {
   "cell_type": "code",
   "execution_count": 5,
   "metadata": {},
   "outputs": [
    {
     "name": "stderr",
     "output_type": "stream",
     "text": [
      "/var/folders/ck/zymqlsj957gg49t2l4p7ngfc0000gn/T/ipykernel_80529/1374255056.py:1: DeprecationWarning: This method is deprecate used obj.text = 'your_new_text'\n",
      "  edo.setText('elle')\n"
     ]
    }
   ],
   "source": [
    "edo.setText('elle')"
   ]
  },
  {
   "cell_type": "code",
   "execution_count": 23,
   "metadata": {},
   "outputs": [],
   "source": [
    "ll = [1, 2, 3, 4, 5]"
   ]
  },
  {
   "cell_type": "code",
   "execution_count": 26,
   "metadata": {},
   "outputs": [],
   "source": [
    "ll[ll.index(2)] = 20"
   ]
  },
  {
   "cell_type": "code",
   "execution_count": 4,
   "metadata": {},
   "outputs": [
    {
     "name": "stdout",
     "output_type": "stream",
     "text": [
      "total 24\n",
      "-rw-r--r--@ 1 edoardo  staff   190 Jun 18 16:51 deprecationClass.py\n",
      "-rw-r--r--@ 1 edoardo  staff  2828 Jun 20 08:55 prova.ipynb\n",
      "-rw-r--r--@ 1 edoardo  staff   768 Jun 19 14:33 prova.py\n"
     ]
    }
   ],
   "source": [
    "ll"
   ]
  },
  {
   "cell_type": "code",
   "execution_count": 4,
   "metadata": {},
   "outputs": [],
   "source": [
    "    def __copy__(self):\n",
    "        raise NotImplementedError(\"Widgets cannot be copied; custom implementation required\")\n",
    "\n",
    "    def __deepcopy__(self, memo):\n",
    "        raise NotImplementedError(\"Widgets cannot be copied; custom implementation required\")"
   ]
  },
  {
   "cell_type": "code",
   "execution_count": 11,
   "metadata": {},
   "outputs": [],
   "source": [
    "edo.p = 99"
   ]
  },
  {
   "cell_type": "code",
   "execution_count": 12,
   "metadata": {},
   "outputs": [
    {
     "data": {
      "text/plain": [
       "99"
      ]
     },
     "execution_count": 12,
     "metadata": {},
     "output_type": "execute_result"
    }
   ],
   "source": [
    "edo.p"
   ]
  },
  {
   "cell_type": "code",
   "execution_count": 7,
   "metadata": {},
   "outputs": [],
   "source": [
    "ff = [i for i in ee]"
   ]
  },
  {
   "cell_type": "code",
   "execution_count": 8,
   "metadata": {},
   "outputs": [
    {
     "data": {
      "text/plain": [
       "[Button(children=[Container(children=[Tooltip(bottom=True, children=[''], color='#999999', layout=None, transition='scale-transition', v_slots=[{'name': 'activator', 'variable': 'tooltip', 'children': Btn(children=['ciao'], dark=False, depressed=True, disabled=False, height=36.0, icon=False, large=False, layout=None, min_height=36.0, min_width=100.0, outlined=False, rounded=True, small=False, style_='font-family: Roboto; font-size: 17; font-weight: 500; text-transform: none', tile=False, width=100.0, x_small=False)}])], class_='pa-0 ma-0', layout=None)], layout=None, tag='div')]"
      ]
     },
     "execution_count": 8,
     "metadata": {},
     "output_type": "execute_result"
    }
   ],
   "source": [
    "ff"
   ]
  },
  {
   "cell_type": "code",
   "execution_count": 13,
   "metadata": {},
   "outputs": [
    {
     "data": {
      "text/plain": [
       "99"
      ]
     },
     "execution_count": 13,
     "metadata": {},
     "output_type": "execute_result"
    }
   ],
   "source": [
    "ff[0].p"
   ]
  },
  {
   "cell_type": "code",
   "execution_count": null,
   "metadata": {},
   "outputs": [],
   "source": []
  }
 ],
 "metadata": {
  "kernelspec": {
   "display_name": "Python 3 (ipykernel)",
   "language": "python",
   "name": "python3"
  },
  "language_info": {
   "codemirror_mode": {
    "name": "ipython",
    "version": 3
   },
   "file_extension": ".py",
   "mimetype": "text/x-python",
   "name": "python",
   "nbconvert_exporter": "python",
   "pygments_lexer": "ipython3",
   "version": "3.12.3"
  }
 },
 "nbformat": 4,
 "nbformat_minor": 4
}
