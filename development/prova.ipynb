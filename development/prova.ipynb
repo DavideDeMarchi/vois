{
 "cells": [
  {
   "cell_type": "code",
   "execution_count": 1,
   "metadata": {
    "ExecuteTime": {
     "end_time": "2024-06-28T08:22:14.244855Z",
     "start_time": "2024-06-28T08:22:14.031474Z"
    }
   },
   "outputs": [],
   "source": [
    "import sys\n",
    "sys.path.append('../src')\n",
    "from vois.vuetify import button\n",
    "import ipyvuetify as v"
   ]
  },
  {
   "cell_type": "code",
   "execution_count": 2,
   "metadata": {
    "ExecuteTime": {
     "end_time": "2024-06-28T08:22:15.246714Z",
     "start_time": "2024-06-28T08:22:15.233531Z"
    }
   },
   "outputs": [
    {
     "name": "stdout",
     "output_type": "stream",
     "text": [
      "green green\n"
     ]
    },
    {
     "name": "stderr",
     "output_type": "stream",
     "text": [
      "/Users/edoardo/JRC_Projects/vois/src/vois/vuetify/deprecated/button.py:13: UserWarning: DeprecationWarning: The button class is deprecated, please use Button.\n",
      "  deprecation_class_warning(self.__class__.__name__)\n",
      "/var/folders/ck/zymqlsj957gg49t2l4p7ngfc0000gn/T/ipykernel_37737/3649646137.py:35: UserWarning: DeprecationWarning: The \"draw\" method is deprecated, please just use the object widget itself.\n",
      "  display(my_button_1.draw())\n"
     ]
    },
    {
     "data": {
      "application/vnd.jupyter.widget-view+json": {
       "model_id": "0016d9d9b948475cbe4595bdd42df0e2",
       "version_major": 2,
       "version_minor": 0
      },
      "text/plain": [
       "button(children=[Container(children=[Tooltip(bottom=True, children=[''], color='#999999', layout=None, transit…"
      ]
     },
     "metadata": {},
     "output_type": "display_data"
    }
   ],
   "source": [
    "from vois.vuetify import button, settings\n",
    "\n",
    "my_button_1 = button.button(text='Edoardo1',\n",
    "                            onclick=None,\n",
    "                            argument=None,\n",
    "                            width=150,  # TEST\n",
    "                            height=50,  # TEST\n",
    "                            selected=False,\n",
    "                            disabled=False,\n",
    "                            tooltip='',\n",
    "                            large=True,  # TEST\n",
    "                            xlarge=False,\n",
    "                            small=False,\n",
    "                            xsmall=False,\n",
    "                            outlined=True,  # TEST\n",
    "                            textweight=700,  # TEST\n",
    "                            href=None,\n",
    "                            target=None,\n",
    "                            onlytext=False,\n",
    "                            textcolor='green',  # TEST\n",
    "                            class_=\"pa-0 ma-0 btn1\",\n",
    "                            icon=None,\n",
    "                            iconlarge=False,\n",
    "                            iconsmall=False,\n",
    "                            iconleft=False,\n",
    "                            iconcolor='black',\n",
    "                            autoselect=False,\n",
    "                            dark=settings.dark_mode,\n",
    "                            rounded=settings.button_rounded,\n",
    "                            tile=False,\n",
    "                            colorselected=settings.color_first,\n",
    "                            colorunselected=settings.color_second,\n",
    "                            ondblclick=None\n",
    "                            )\n",
    "display(my_button_1.draw())"
   ]
  },
  {
   "cell_type": "code",
   "execution_count": 6,
   "metadata": {
    "ExecuteTime": {
     "end_time": "2024-06-27T16:14:23.098622Z",
     "start_time": "2024-06-27T16:14:23.090943Z"
    }
   },
   "outputs": [
    {
     "name": "stderr",
     "output_type": "stream",
     "text": [
      "/var/folders/ck/zymqlsj957gg49t2l4p7ngfc0000gn/T/ipykernel_35266/4031972531.py:1: UserWarning: DeprecationWarning: The \"draw\" method is deprecated, please just use the object widget itself.\n",
      "  my_button_3.draw()\n"
     ]
    },
    {
     "data": {
      "application/vnd.jupyter.widget-view+json": {
       "model_id": "7883a848a88346e5aa87e45395720139",
       "version_major": 2,
       "version_minor": 0
      },
      "text/plain": [
       "button(children=[Container(children=[Tooltip(bottom=True, children=[''], color='#999999', layout=None, transit…"
      ]
     },
     "execution_count": 6,
     "metadata": {},
     "output_type": "execute_result"
    }
   ],
   "source": [
    "my_button_3.draw()"
   ]
  },
  {
   "cell_type": "code",
   "execution_count": null,
   "metadata": {},
   "outputs": [],
   "source": [
    "my_button_1.iconcolor"
   ]
  },
  {
   "cell_type": "code",
   "execution_count": null,
   "metadata": {},
   "outputs": [],
   "source": [
    "my_button_1.icon_color"
   ]
  },
  {
   "cell_type": "code",
   "execution_count": null,
   "metadata": {},
   "outputs": [],
   "source": []
  }
 ],
 "metadata": {
  "kernelspec": {
   "display_name": "Python 3 (ipykernel)",
   "language": "python",
   "name": "python3"
  },
  "language_info": {
   "codemirror_mode": {
    "name": "ipython",
    "version": 3
   },
   "file_extension": ".py",
   "mimetype": "text/x-python",
   "name": "python",
   "nbconvert_exporter": "python",
   "pygments_lexer": "ipython3",
   "version": "3.12.3"
  }
 },
 "nbformat": 4,
 "nbformat_minor": 4
}
