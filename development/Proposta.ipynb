{
 "cells": [
  {
   "cell_type": "code",
   "execution_count": 3,
   "id": "0a8b0587-47b0-4ff0-9bad-892b80c9c3d1",
   "metadata": {
    "ExecuteTime": {
     "end_time": "2024-06-25T10:59:11.130918Z",
     "start_time": "2024-06-25T10:59:11.123235Z"
    },
    "tags": []
   },
   "outputs": [],
   "source": [
    "import sys\n",
    "sys.path.append('../src')"
   ]
  },
  {
   "cell_type": "markdown",
   "id": "7341d313-0f3a-434c-82ac-e6207e85e362",
   "metadata": {},
   "source": [
    "## Old Version"
   ]
  },
  {
   "cell_type": "code",
   "execution_count": 4,
   "id": "f9763fd9-b3f0-4cb4-83eb-776e8c0c9508",
   "metadata": {
    "ExecuteTime": {
     "end_time": "2024-06-25T10:59:15.824740Z",
     "start_time": "2024-06-25T10:59:15.820554Z"
    },
    "jupyter": {
     "source_hidden": true
    },
    "tags": []
   },
   "outputs": [],
   "source": [
    "import warnings\n",
    "warnings.filterwarnings(\"ignore\")"
   ]
  },
  {
   "cell_type": "code",
   "execution_count": 5,
   "id": "91640ae3-d941-47f8-b9fc-a57fcb885629",
   "metadata": {
    "ExecuteTime": {
     "end_time": "2024-06-25T10:59:16.904520Z",
     "start_time": "2024-06-25T10:59:16.574247Z"
    },
    "tags": []
   },
   "outputs": [],
   "source": [
    "from vois.vuetify import button"
   ]
  },
  {
   "cell_type": "code",
   "execution_count": 6,
   "id": "2d70fa33-e5a5-4fdb-9fd7-d4aee7d251fa",
   "metadata": {
    "ExecuteTime": {
     "end_time": "2024-06-25T10:59:17.742086Z",
     "start_time": "2024-06-25T10:59:17.723003Z"
    },
    "tags": []
   },
   "outputs": [
    {
     "data": {
      "application/vnd.jupyter.widget-view+json": {
       "model_id": "8621d10f72d24aa5a079b4b1a8af2ecc",
       "version_major": 2,
       "version_minor": 0
      },
      "text/plain": [
       "button(children=[Container(children=[Tooltip(bottom=True, children=[''], color='#999999', layout=None, transit…"
      ]
     },
     "execution_count": 6,
     "metadata": {},
     "output_type": "execute_result"
    }
   ],
   "source": [
    "my_old_button = button.button(text='Ciao - Old!', textweight=900, width=200)\n",
    "my_old_button.draw()"
   ]
  },
  {
   "cell_type": "code",
   "execution_count": 7,
   "id": "2c39496a-c1f9-4712-bc9c-bfe00d9850c2",
   "metadata": {
    "ExecuteTime": {
     "end_time": "2024-06-25T10:59:19.020310Z",
     "start_time": "2024-06-25T10:59:19.014631Z"
    },
    "tags": []
   },
   "outputs": [],
   "source": [
    "my_old_button.setText('New Name - Old!')"
   ]
  },
  {
   "cell_type": "markdown",
   "id": "edde0c94-9818-44a1-a9c0-2c707eb33d45",
   "metadata": {},
   "source": [
    "## New Version"
   ]
  },
  {
   "cell_type": "code",
   "execution_count": 8,
   "id": "e15a818a-9ed2-425b-aa71-191f17271fea",
   "metadata": {
    "ExecuteTime": {
     "end_time": "2024-06-25T10:59:24.611380Z",
     "start_time": "2024-06-25T10:59:24.606938Z"
    },
    "tags": []
   },
   "outputs": [],
   "source": [
    "from vois.vuetify import Button"
   ]
  },
  {
   "cell_type": "code",
   "execution_count": 9,
   "id": "d5295788-094f-4cde-971a-70011dfed6ba",
   "metadata": {
    "ExecuteTime": {
     "end_time": "2024-06-25T10:59:25.444253Z",
     "start_time": "2024-06-25T10:59:25.430533Z"
    },
    "tags": []
   },
   "outputs": [
    {
     "data": {
      "application/vnd.jupyter.widget-view+json": {
       "model_id": "e8eb4558b276485fad6f402f192c4b5d",
       "version_major": 2,
       "version_minor": 0
      },
      "text/plain": [
       "Button(children=[Container(children=[Tooltip(bottom=True, children=[''], color='#999999', layout=None, transit…"
      ]
     },
     "execution_count": 9,
     "metadata": {},
     "output_type": "execute_result"
    }
   ],
   "source": [
    "my_new_button = Button(text='Ciao - New!', textWeight=900, width=200)\n",
    "my_new_button"
   ]
  },
  {
   "cell_type": "code",
   "execution_count": 10,
   "id": "acab90f2-bff0-4189-9537-6adb984858bc",
   "metadata": {
    "ExecuteTime": {
     "end_time": "2024-06-25T10:59:26.752042Z",
     "start_time": "2024-06-25T10:59:26.747747Z"
    },
    "tags": []
   },
   "outputs": [],
   "source": [
    "my_new_button.text = 'New Name - New!'"
   ]
  },
  {
   "cell_type": "markdown",
   "id": "217d15df-b704-46b5-920b-8baca3724499",
   "metadata": {},
   "source": [
    "# Summary\n",
    "\n",
    "### Proposta aggiornamento componente. Liste delle cose fatte\n",
    "1. Rimozione import relativi\n",
    "2. Rimozione doppio import + retrocompatibile\n",
    "3. Usare property con setting\n",
    "4. Inserimento type checking\n",
    "5. Cambiamento nome classe + retrocompatibile\n",
    "6. Cambiamento nome parameteri + retrocompatibile\n",
    "7. Risoluzione problema draw + retrocompatibile"
   ]
  },
  {
   "cell_type": "code",
   "execution_count": 19,
   "id": "07c261bf-a384-4cca-831d-8d3fbf9b07e4",
   "metadata": {},
   "outputs": [
    {
     "data": {
      "text/plain": [
       "False"
      ]
     },
     "execution_count": 19,
     "metadata": {},
     "output_type": "execute_result"
    }
   ],
   "source": [
    "bool(None)"
   ]
  },
  {
   "cell_type": "code",
   "execution_count": null,
   "id": "95c4bad6-93fc-44d6-bd03-0e92102f2775",
   "metadata": {},
   "outputs": [],
   "source": []
  }
 ],
 "metadata": {
  "kernelspec": {
   "display_name": "Python 3 (ipykernel)",
   "language": "python",
   "name": "python3"
  },
  "language_info": {
   "codemirror_mode": {
    "name": "ipython",
    "version": 3
   },
   "file_extension": ".py",
   "mimetype": "text/x-python",
   "name": "python",
   "nbconvert_exporter": "python",
   "pygments_lexer": "ipython3",
   "version": "3.12.3"
  }
 },
 "nbformat": 4,
 "nbformat_minor": 5
}
